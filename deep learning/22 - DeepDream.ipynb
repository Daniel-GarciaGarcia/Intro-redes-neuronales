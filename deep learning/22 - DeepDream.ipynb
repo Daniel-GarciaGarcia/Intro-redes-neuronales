{
 "cells": [
  {
   "cell_type": "code",
   "execution_count": 1,
   "metadata": {},
   "outputs": [],
   "source": [
    "import warnings\n",
    "warnings.simplefilter('ignore')\n",
    "\n",
    "import tensorflow as tf\n",
    "tf.compat.v1.logging.set_verbosity(tf.compat.v1.logging.ERROR)"
   ]
  },
  {
   "cell_type": "markdown",
   "metadata": {},
   "source": [
    "# Modelo InceptionV3"
   ]
  },
  {
   "cell_type": "code",
   "execution_count": 2,
   "metadata": {},
   "outputs": [
    {
     "name": "stderr",
     "output_type": "stream",
     "text": [
      "Using TensorFlow backend.\n"
     ]
    }
   ],
   "source": [
    "from keras.applications import inception_v3\n",
    "from keras import backend as K\n",
    "\n",
    "K.set_learning_phase(0)"
   ]
  },
  {
   "cell_type": "code",
   "execution_count": 3,
   "metadata": {},
   "outputs": [],
   "source": [
    "# solo la parte convolucional\n",
    "\n",
    "model = inception_v3.InceptionV3(weights='imagenet',\n",
    "                                 include_top=False)"
   ]
  },
  {
   "cell_type": "markdown",
   "metadata": {},
   "source": [
    "**configuracion**"
   ]
  },
  {
   "cell_type": "code",
   "execution_count": 4,
   "metadata": {},
   "outputs": [],
   "source": [
    "# cuanto contribuye cada capa a la maximizacion\n",
    "\n",
    "layer_contributions = {\n",
    "    'mixed2': 0.2,\n",
    "    'mixed3': 3.,\n",
    "    'mixed4': 2.,\n",
    "    'mixed5': 1.5,\n",
    "}"
   ]
  },
  {
   "cell_type": "markdown",
   "metadata": {},
   "source": [
    "**funcion de perdida a maximizar**"
   ]
  },
  {
   "cell_type": "code",
   "execution_count": 5,
   "metadata": {},
   "outputs": [],
   "source": [
    "layer_dict = dict([(layer.name, layer) for layer in model.layers])\n",
    "\n",
    "\n",
    "loss = K.variable(0.) # perdida\n",
    "\n",
    "for layer_name in layer_contributions:\n",
    "    coeff = layer_contributions[layer_name]\n",
    "    activation = layer_dict[layer_name].output  # salida de la capa\n",
    "    \n",
    "    scaling = K.prod(K.cast(K.shape(activation), 'float32')) # norma L2 \n",
    "    \n",
    "    loss += coeff * K.sum(K.square(activation[:, 2: -2, \n",
    "                                              2: -2, :])) / scaling"
   ]
  },
  {
   "cell_type": "markdown",
   "metadata": {},
   "source": [
    "**proceso de gradiente ascendente**"
   ]
  },
  {
   "cell_type": "code",
   "execution_count": 6,
   "metadata": {},
   "outputs": [],
   "source": [
    "dream = model.input  # se genera la imagen\n",
    "\n",
    "grads = K.gradients(loss, dream)[0]  # gradientes\n",
    "grads /= K.maximum(K.mean(K.abs(grads)), 1e-7) # normalizacion\n",
    "\n",
    "# se obtienen los valores de perdida y su gradiente\n",
    "outputs = [loss, grads]\n",
    "fetch_loss_and_grads = K.function([dream], outputs) \n",
    "\n",
    "\n",
    "# se evalua\n",
    "def eval_loss_and_grads(x):\n",
    "    outs = fetch_loss_and_grads([x])\n",
    "    loss_value = outs[0]\n",
    "    grad_values = outs[1]\n",
    "    return loss_value, grad_values\n",
    "\n",
    "\n",
    "\n",
    "# gradiente ascente en n iteraciones\n",
    "def gradient_ascent(x, iterations, step, max_loss=None):\n",
    "    \n",
    "    for i in range(iterations):\n",
    "        loss_value, grad_values = eval_loss_and_grads(x)\n",
    "        if max_loss is not None and loss_value > max_loss:\n",
    "            break\n",
    "        \n",
    "        print('...Loss value at', i, ':', loss_value)\n",
    "        x += step * grad_values\n",
    "        \n",
    "    return x"
   ]
  },
  {
   "cell_type": "markdown",
   "metadata": {},
   "source": [
    "**funciones auxiliares**"
   ]
  },
  {
   "cell_type": "code",
   "execution_count": 7,
   "metadata": {},
   "outputs": [],
   "source": [
    "import scipy\n",
    "import numpy as np\n",
    "import imageio\n",
    "from keras.preprocessing import image\n",
    "\n",
    "def resize_img(img, size):\n",
    "    img = np.copy(img)\n",
    "    factors = (1,\n",
    "               float(size[0]) / img.shape[1],\n",
    "               float(size[1]) / img.shape[2],\n",
    "               1)\n",
    "    return scipy.ndimage.zoom(img, factors, order=1)"
   ]
  },
  {
   "cell_type": "code",
   "execution_count": 8,
   "metadata": {},
   "outputs": [],
   "source": [
    "def save_img(img, fname):\n",
    "    pil_img = deprocess_image(np.copy(img))\n",
    "    imageio.imwrite(fname, pil_img)"
   ]
  },
  {
   "cell_type": "code",
   "execution_count": 9,
   "metadata": {},
   "outputs": [],
   "source": [
    "def preprocess_image(image_path):\n",
    "    img = image.load_img(image_path)\n",
    "    img = image.img_to_array(img)\n",
    "    img = np.expand_dims(img, axis=0)\n",
    "    img = inception_v3.preprocess_input(img)\n",
    "    return img"
   ]
  },
  {
   "cell_type": "code",
   "execution_count": 10,
   "metadata": {},
   "outputs": [],
   "source": [
    "def deprocess_image(x):\n",
    "    if K.image_data_format() == 'channels_first':\n",
    "        x = x.reshape((3, x.shape[2], x.shape[3]))\n",
    "        x = x.transpose((1, 2, 0))\n",
    "    else:\n",
    "        x = x.reshape((x.shape[1], x.shape[2], 3))\n",
    "    x /= 2.\n",
    "    x += 0.5\n",
    "    x *= 255.\n",
    "    x = np.clip(x, 0, 255).astype('uint8')\n",
    "    return x"
   ]
  },
  {
   "cell_type": "markdown",
   "metadata": {},
   "source": [
    "**sucesivas escalas (octavas)**"
   ]
  },
  {
   "cell_type": "code",
   "execution_count": 11,
   "metadata": {},
   "outputs": [],
   "source": [
    "step = 0.01\n",
    "\n",
    "num_octave = 5\n",
    "octave_scale = 1.4\n",
    "\n",
    "iterations = 20\n",
    "\n",
    "max_loss = 10.\n",
    "\n",
    "\n",
    "base_image_path = 'data/dream.jpg'\n",
    "img = preprocess_image(base_image_path)"
   ]
  },
  {
   "cell_type": "code",
   "execution_count": 12,
   "metadata": {},
   "outputs": [],
   "source": [
    "original_shape = img.shape[1:3]\n",
    "successive_shapes = [original_shape]\n",
    "\n",
    "for i in range(1, num_octave):\n",
    "    shape = tuple([int(dim / (octave_scale ** i))\n",
    "        for dim in original_shape])\n",
    "    successive_shapes.append(shape)\n",
    "    \n",
    "successive_shapes = successive_shapes[::-1]\n",
    "\n",
    "original_img = np.copy(img)\n",
    "shrunk_original_img = resize_img(img, successive_shapes[0])"
   ]
  },
  {
   "cell_type": "code",
   "execution_count": 13,
   "metadata": {},
   "outputs": [
    {
     "name": "stdout",
     "output_type": "stream",
     "text": [
      "Processing image shape (58, 58)\n",
      "...Loss value at 0 : 0.0\n",
      "...Loss value at 1 : 0.0\n",
      "...Loss value at 2 : 0.0\n",
      "...Loss value at 3 : 0.0\n",
      "...Loss value at 4 : 0.0\n",
      "...Loss value at 5 : 0.0\n",
      "...Loss value at 6 : 0.0\n",
      "...Loss value at 7 : 0.0\n",
      "...Loss value at 8 : 0.0\n",
      "...Loss value at 9 : 0.0\n",
      "...Loss value at 10 : 0.0\n",
      "...Loss value at 11 : 0.0\n",
      "...Loss value at 12 : 0.0\n",
      "...Loss value at 13 : 0.0\n",
      "...Loss value at 14 : 0.0\n",
      "...Loss value at 15 : 0.0\n",
      "...Loss value at 16 : 0.0\n",
      "...Loss value at 17 : 0.0\n",
      "...Loss value at 18 : 0.0\n",
      "...Loss value at 19 : 0.0\n",
      "Processing image shape (81, 81)\n",
      "...Loss value at 0 : 0.026156599\n",
      "...Loss value at 1 : 0.035130437\n",
      "...Loss value at 2 : 0.043979026\n",
      "...Loss value at 3 : 0.052219845\n",
      "...Loss value at 4 : 0.060756657\n",
      "...Loss value at 5 : 0.06980564\n",
      "...Loss value at 6 : 0.07970229\n",
      "...Loss value at 7 : 0.089084744\n",
      "...Loss value at 8 : 0.095858164\n",
      "...Loss value at 9 : 0.10423756\n",
      "...Loss value at 10 : 0.11375146\n",
      "...Loss value at 11 : 0.11671465\n",
      "...Loss value at 12 : 0.12503392\n",
      "...Loss value at 13 : 0.13068037\n",
      "...Loss value at 14 : 0.13737215\n",
      "...Loss value at 15 : 0.14537486\n",
      "...Loss value at 16 : 0.15128247\n",
      "...Loss value at 17 : 0.15967667\n",
      "...Loss value at 18 : 0.16791505\n",
      "...Loss value at 19 : 0.17153555\n",
      "Processing image shape (114, 114)\n",
      "...Loss value at 0 : 0.3025618\n",
      "...Loss value at 1 : 0.51451194\n",
      "...Loss value at 2 : 0.83983266\n",
      "...Loss value at 3 : 1.2774916\n",
      "...Loss value at 4 : 1.804569\n",
      "...Loss value at 5 : 2.3077838\n",
      "...Loss value at 6 : 2.9472902\n",
      "...Loss value at 7 : 3.5263884\n",
      "...Loss value at 8 : 4.008134\n",
      "...Loss value at 9 : 4.5660157\n",
      "...Loss value at 10 : 5.2936497\n",
      "...Loss value at 11 : 5.8306904\n",
      "...Loss value at 12 : 6.473626\n",
      "...Loss value at 13 : 7.346531\n",
      "...Loss value at 14 : 8.45816\n",
      "...Loss value at 15 : 9.155274\n",
      "Processing image shape (160, 160)\n",
      "...Loss value at 0 : 7.166573\n",
      "Processing image shape (224, 224)\n",
      "...Loss value at 0 : 8.511854\n"
     ]
    }
   ],
   "source": [
    "for shape in successive_shapes:\n",
    "    print('Processing image shape', shape)\n",
    "    img = resize_img(img, shape)\n",
    "    img = gradient_ascent(img,\n",
    "                          iterations=iterations,\n",
    "                          step=step,\n",
    "                          max_loss=max_loss)\n",
    "    \n",
    "    upscaled_shrunk_original_img = resize_img(shrunk_original_img, \n",
    "                                              shape) \n",
    "    \n",
    "    same_size_original = resize_img(original_img, shape)\n",
    "    \n",
    "    lost_detail = same_size_original - upscaled_shrunk_original_img\n",
    "    img += lost_detail\n",
    "    \n",
    "    shrunk_original_img = resize_img(original_img, shape)\n",
    "    #save_img(img, fname='dream_at_scale_' + str(shape) + '.png')"
   ]
  },
  {
   "cell_type": "code",
   "execution_count": 14,
   "metadata": {},
   "outputs": [],
   "source": [
    "save_img(img, fname='data/final_dream.png')"
   ]
  },
  {
   "cell_type": "code",
   "execution_count": null,
   "metadata": {},
   "outputs": [],
   "source": []
  },
  {
   "cell_type": "code",
   "execution_count": null,
   "metadata": {},
   "outputs": [],
   "source": []
  },
  {
   "cell_type": "code",
   "execution_count": null,
   "metadata": {},
   "outputs": [],
   "source": []
  }
 ],
 "metadata": {
  "kernelspec": {
   "display_name": "Python 3",
   "language": "python",
   "name": "python3"
  },
  "language_info": {
   "codemirror_mode": {
    "name": "ipython",
    "version": 3
   },
   "file_extension": ".py",
   "mimetype": "text/x-python",
   "name": "python",
   "nbconvert_exporter": "python",
   "pygments_lexer": "ipython3",
   "version": "3.7.5"
  }
 },
 "nbformat": 4,
 "nbformat_minor": 2
}
