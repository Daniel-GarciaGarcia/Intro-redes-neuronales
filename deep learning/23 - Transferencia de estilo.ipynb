{
 "cells": [
  {
   "cell_type": "code",
   "execution_count": 1,
   "metadata": {},
   "outputs": [],
   "source": [
    "import warnings\n",
    "warnings.simplefilter('ignore')\n",
    "\n",
    "import tensorflow as tf\n",
    "tf.compat.v1.logging.set_verbosity(tf.compat.v1.logging.ERROR)"
   ]
  },
  {
   "cell_type": "markdown",
   "metadata": {},
   "source": [
    "# Estilo dibujo en real\n",
    "\n",
    "**varibles iniciales**"
   ]
  },
  {
   "cell_type": "code",
   "execution_count": 2,
   "metadata": {},
   "outputs": [
    {
     "name": "stderr",
     "output_type": "stream",
     "text": [
      "Using TensorFlow backend.\n"
     ]
    }
   ],
   "source": [
    "from keras.preprocessing.image import load_img, img_to_array\n",
    "\n",
    "\n",
    "target_image_path = 'data/real.jpeg'\n",
    "style_reference_image_path = 'data/estilo.jpeg'"
   ]
  },
  {
   "cell_type": "code",
   "execution_count": 3,
   "metadata": {},
   "outputs": [],
   "source": [
    "width, height = load_img(target_image_path).size\n",
    "img_height = 400\n",
    "img_width = int(width * img_height / height)"
   ]
  },
  {
   "cell_type": "markdown",
   "metadata": {},
   "source": [
    "**funciones auxiliares**"
   ]
  },
  {
   "cell_type": "code",
   "execution_count": 4,
   "metadata": {},
   "outputs": [],
   "source": [
    "import numpy as np\n",
    "from keras.applications import vgg19\n",
    "\n",
    "\n",
    "def preprocess_image(image_path):\n",
    "    img = load_img(image_path, target_size=(img_height, img_width))\n",
    "    img = img_to_array(img)\n",
    "    img = np.expand_dims(img, axis=0)\n",
    "    img = vgg19.preprocess_input(img)\n",
    "    return img"
   ]
  },
  {
   "cell_type": "code",
   "execution_count": 5,
   "metadata": {},
   "outputs": [],
   "source": [
    "def deprocess_image(x):\n",
    "    x[:, :, 0] += 103.939\n",
    "    x[:, :, 1] += 116.779\n",
    "    x[:, :, 2] += 123.68\n",
    "    x = x[:, :, ::-1]\n",
    "    x = np.clip(x, 0, 255).astype('uint8')\n",
    "    return x"
   ]
  },
  {
   "cell_type": "markdown",
   "metadata": {},
   "source": [
    "**vgg19 pre-entrenada**"
   ]
  },
  {
   "cell_type": "code",
   "execution_count": 6,
   "metadata": {},
   "outputs": [],
   "source": [
    "from keras import backend as K\n",
    "\n",
    "# tres imagenes\n",
    "target_image = K.constant(preprocess_image(target_image_path)) \n",
    "\n",
    "style_reference_image = K.constant(preprocess_image(style_reference_image_path)) \n",
    "\n",
    "combination_image = K.placeholder((1, img_height, img_width, 3))"
   ]
  },
  {
   "cell_type": "code",
   "execution_count": 7,
   "metadata": {},
   "outputs": [],
   "source": [
    "# concatena\n",
    "input_tensor = K.concatenate([target_image, \n",
    "                              style_reference_image,\n",
    "                              combination_image], \n",
    "                             axis=0)"
   ]
  },
  {
   "cell_type": "code",
   "execution_count": 8,
   "metadata": {},
   "outputs": [
    {
     "name": "stdout",
     "output_type": "stream",
     "text": [
      "Model loaded.\n"
     ]
    }
   ],
   "source": [
    "model = vgg19.VGG19(input_tensor=input_tensor, \n",
    "                    weights='imagenet',\n",
    "                    include_top=False) \n",
    "\n",
    "print('Model loaded.')"
   ]
  },
  {
   "cell_type": "markdown",
   "metadata": {},
   "source": [
    "**perdida real**"
   ]
  },
  {
   "cell_type": "code",
   "execution_count": 9,
   "metadata": {},
   "outputs": [],
   "source": [
    "def content_loss(base, combination):\n",
    "    return K.sum(K.square(combination - base))"
   ]
  },
  {
   "cell_type": "markdown",
   "metadata": {},
   "source": [
    "**perdida estilo**"
   ]
  },
  {
   "cell_type": "code",
   "execution_count": 10,
   "metadata": {},
   "outputs": [],
   "source": [
    "def gram_matrix(x):\n",
    "    features = K.batch_flatten(K.permute_dimensions(x, (2, 0, 1)))\n",
    "    gram = K.dot(features, K.transpose(features))\n",
    "    return gram"
   ]
  },
  {
   "cell_type": "code",
   "execution_count": 11,
   "metadata": {},
   "outputs": [],
   "source": [
    "def style_loss(style, combination):\n",
    "    S = gram_matrix(style)\n",
    "    C = gram_matrix(combination)\n",
    "    channels = 3\n",
    "    size = img_height * img_width\n",
    "    return K.sum(K.square(S - C)) / (4. * (channels ** 2) * (size ** 2))"
   ]
  },
  {
   "cell_type": "markdown",
   "metadata": {},
   "source": [
    "**perdida total**"
   ]
  },
  {
   "cell_type": "code",
   "execution_count": 12,
   "metadata": {},
   "outputs": [],
   "source": [
    "def total_variation_loss(x):\n",
    "    \n",
    "    a = K.square(\n",
    "        x[:, :img_height - 1, :img_width - 1, :] -\n",
    "        x[:, 1:, :img_width - 1, :])\n",
    "    \n",
    "    b = K.square(\n",
    "        x[:, :img_height - 1, :img_width - 1, :] -\n",
    "        x[:, :img_height - 1, 1:, :])\n",
    "    \n",
    "    return K.sum(K.pow(a + b, 1.25))"
   ]
  },
  {
   "cell_type": "markdown",
   "metadata": {},
   "source": [
    "**perdida final para minimizar**"
   ]
  },
  {
   "cell_type": "code",
   "execution_count": 13,
   "metadata": {},
   "outputs": [],
   "source": [
    "outputs_dict = dict([(layer.name, layer.output)\\\n",
    "                     for layer in model.layers]) \n",
    "\n",
    "content_layer = 'block5_conv2'\n",
    " \n",
    "style_layers = ['block1_conv1',\n",
    "                'block2_conv1',\n",
    "                'block3_conv1',\n",
    "                'block4_conv1',\n",
    "                'block5_conv1']\n",
    "\n",
    "\n",
    "total_variation_weight = 1e-4\n",
    "\n",
    "style_weight = 1.\n",
    "\n",
    "content_weight = 0.025"
   ]
  },
  {
   "cell_type": "code",
   "execution_count": 14,
   "metadata": {},
   "outputs": [],
   "source": [
    "loss = K.variable(0.)\n",
    "\n",
    "layer_features = outputs_dict[content_layer]\n",
    "\n",
    "target_image_features = layer_features[0, :, :, :]\n",
    "\n",
    "combination_features = layer_features[2, :, :, :]\n",
    "\n",
    "loss += content_weight * content_loss(target_image_features,\n",
    "                                      combination_features)"
   ]
  },
  {
   "cell_type": "code",
   "execution_count": 15,
   "metadata": {},
   "outputs": [],
   "source": [
    "for layer_name in style_layers:\n",
    "    layer_features = outputs_dict[layer_name]\n",
    "    style_reference_features = layer_features[1, :, :, :]\n",
    "    combination_features = layer_features[2, :, :, :]\n",
    "    sl = style_loss(style_reference_features, combination_features)\n",
    "    loss += (style_weight / len(style_layers)) * sl"
   ]
  },
  {
   "cell_type": "code",
   "execution_count": 16,
   "metadata": {},
   "outputs": [],
   "source": [
    "loss+=total_variation_weight*total_variation_loss(combination_image)"
   ]
  },
  {
   "cell_type": "markdown",
   "metadata": {},
   "source": [
    "**proceso gradiente descendente**"
   ]
  },
  {
   "cell_type": "code",
   "execution_count": 17,
   "metadata": {},
   "outputs": [],
   "source": [
    "grads = K.gradients(loss, combination_image)[0]\n",
    "fetch_loss_and_grads = K.function([combination_image], [loss, grads])"
   ]
  },
  {
   "cell_type": "code",
   "execution_count": 18,
   "metadata": {},
   "outputs": [],
   "source": [
    "class Evaluator(object):\n",
    "    def __init__(self):\n",
    "        self.loss_value = None\n",
    "        self.grads_values = None\n",
    "        \n",
    "    def loss(self, x):\n",
    "        assert self.loss_value is None\n",
    "        x = x.reshape((1, img_height, img_width, 3))\n",
    "        outs = fetch_loss_and_grads([x])\n",
    "        loss_value = outs[0]\n",
    "        grad_values = outs[1].flatten().astype('float64')\n",
    "        self.loss_value = loss_value\n",
    "        self.grad_values = grad_values\n",
    "        return self.loss_value\n",
    "    \n",
    "    \n",
    "    def grads(self, x):\n",
    "        assert self.loss_value is not None\n",
    "        grad_values = np.copy(self.grad_values)\n",
    "        self.loss_value = None\n",
    "        self.grad_values = None\n",
    "        return grad_values\n",
    "    \n",
    "    \n",
    "evaluator = Evaluator()\n"
   ]
  },
  {
   "cell_type": "markdown",
   "metadata": {},
   "source": [
    "**loop de transferencia de estilo**"
   ]
  },
  {
   "cell_type": "code",
   "execution_count": 19,
   "metadata": {},
   "outputs": [
    {
     "name": "stdout",
     "output_type": "stream",
     "text": [
      "Start of iteration 0\n",
      "Current loss value: 3020310500.0\n",
      "Image saved as data/at_iteration_0.png\n",
      "Iteration 0 completed in 99s\n",
      "\n",
      "Start of iteration 1\n",
      "Current loss value: 970964740.0\n",
      "Image saved as data/at_iteration_1.png\n",
      "Iteration 1 completed in 107s\n",
      "\n",
      "Start of iteration 2\n",
      "Current loss value: 549474940.0\n",
      "Image saved as data/at_iteration_2.png\n",
      "Iteration 2 completed in 129s\n",
      "\n",
      "Start of iteration 3\n",
      "Current loss value: 397850620.0\n",
      "Image saved as data/at_iteration_3.png\n",
      "Iteration 3 completed in 141s\n",
      "\n",
      "Start of iteration 4\n",
      "Current loss value: 331564000.0\n",
      "Image saved as data/at_iteration_4.png\n",
      "Iteration 4 completed in 159s\n",
      "\n",
      "Start of iteration 5\n",
      "Current loss value: 290935400.0\n",
      "Image saved as data/at_iteration_5.png\n",
      "Iteration 5 completed in 152s\n",
      "\n",
      "Start of iteration 6\n",
      "Current loss value: 263454060.0\n",
      "Image saved as data/at_iteration_6.png\n",
      "Iteration 6 completed in 169s\n",
      "\n",
      "Start of iteration 7\n",
      "Current loss value: 243554830.0\n",
      "Image saved as data/at_iteration_7.png\n",
      "Iteration 7 completed in 163s\n",
      "\n",
      "Start of iteration 8\n",
      "Current loss value: 226976770.0\n",
      "Image saved as data/at_iteration_8.png\n",
      "Iteration 8 completed in 154s\n",
      "\n",
      "Start of iteration 9\n",
      "Current loss value: 213927000.0\n",
      "Image saved as data/at_iteration_9.png\n",
      "Iteration 9 completed in 164s\n",
      "\n",
      "Start of iteration 10\n",
      "Current loss value: 203251710.0\n",
      "Image saved as data/at_iteration_10.png\n",
      "Iteration 10 completed in 166s\n",
      "\n",
      "Start of iteration 11\n",
      "Current loss value: 193842480.0\n",
      "Image saved as data/at_iteration_11.png\n",
      "Iteration 11 completed in 169s\n",
      "\n",
      "Start of iteration 12\n",
      "Current loss value: 186661360.0\n",
      "Image saved as data/at_iteration_12.png\n",
      "Iteration 12 completed in 168s\n",
      "\n",
      "Start of iteration 13\n",
      "Current loss value: 180253000.0\n",
      "Image saved as data/at_iteration_13.png\n",
      "Iteration 13 completed in 169s\n",
      "\n",
      "Start of iteration 14\n",
      "Current loss value: 175029520.0\n",
      "Image saved as data/at_iteration_14.png\n",
      "Iteration 14 completed in 169s\n",
      "\n",
      "Start of iteration 15\n",
      "Current loss value: 168066000.0\n",
      "Image saved as data/at_iteration_15.png\n",
      "Iteration 15 completed in 202s\n",
      "\n",
      "Start of iteration 16\n",
      "Current loss value: 162714160.0\n",
      "Image saved as data/at_iteration_16.png\n",
      "Iteration 16 completed in 195s\n",
      "\n",
      "Start of iteration 17\n",
      "Current loss value: 158338000.0\n",
      "Image saved as data/at_iteration_17.png\n",
      "Iteration 17 completed in 195s\n",
      "\n",
      "Start of iteration 18\n",
      "Current loss value: 154508060.0\n",
      "Image saved as data/at_iteration_18.png\n",
      "Iteration 18 completed in 196s\n",
      "\n",
      "Start of iteration 19\n",
      "Current loss value: 151412800.0\n",
      "Image saved as data/at_iteration_19.png\n",
      "Iteration 19 completed in 204s\n",
      "\n"
     ]
    }
   ],
   "source": [
    "from scipy.optimize import fmin_l_bfgs_b\n",
    "import imageio\n",
    "import time\n",
    "\n",
    "\n",
    "iterations = 20\n",
    "\n",
    "x = preprocess_image(target_image_path) \n",
    "x = x.flatten()\n",
    "\n",
    "for i in range(iterations):\n",
    "    print('Start of iteration', i)\n",
    "    start_time = time.time()\n",
    "    x, min_val, info = fmin_l_bfgs_b(evaluator.loss,\n",
    "                                     x,\n",
    "                                     fprime=evaluator.grads,\n",
    "                                     maxfun=20)\n",
    "    print('Current loss value:', min_val)\n",
    "    \n",
    "    img = x.copy().reshape((img_height, img_width, 3))\n",
    "    img = deprocess_image(img)\n",
    "    fname = 'data/at_iteration_%d.png' % i\n",
    "    \n",
    "    imageio.imwrite(fname, img)\n",
    "    print('Image saved as', fname)\n",
    "    \n",
    "    end_time = time.time()\n",
    "    print('Iteration %d completed in %ds' % (i, end_time - start_time))\n",
    "    print()"
   ]
  },
  {
   "cell_type": "code",
   "execution_count": null,
   "metadata": {},
   "outputs": [],
   "source": []
  }
 ],
 "metadata": {
  "kernelspec": {
   "display_name": "Python 3",
   "language": "python",
   "name": "python3"
  },
  "language_info": {
   "codemirror_mode": {
    "name": "ipython",
    "version": 3
   },
   "file_extension": ".py",
   "mimetype": "text/x-python",
   "name": "python",
   "nbconvert_exporter": "python",
   "pygments_lexer": "ipython3",
   "version": "3.7.5"
  }
 },
 "nbformat": 4,
 "nbformat_minor": 2
}
