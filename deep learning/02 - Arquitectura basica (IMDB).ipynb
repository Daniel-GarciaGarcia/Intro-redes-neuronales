{
 "cells": [
  {
   "cell_type": "markdown",
   "metadata": {},
   "source": [
    "# Ejemplo IMDB"
   ]
  },
  {
   "cell_type": "markdown",
   "metadata": {},
   "source": [
    "## Importar Data"
   ]
  },
  {
   "cell_type": "code",
   "execution_count": 1,
   "metadata": {},
   "outputs": [],
   "source": [
    "import warnings\n",
    "warnings.simplefilter('ignore')"
   ]
  },
  {
   "cell_type": "code",
   "execution_count": 3,
   "metadata": {},
   "outputs": [],
   "source": [
    "from keras.datasets import imdb\n",
    "\n",
    "# (train_data, train_labels), (test_data, test_labels) = imdb.load_data(num_words=10000)\n",
    "# si se intenta cargar directamete puede salir un error de pickle, por eso..."
   ]
  },
  {
   "cell_type": "code",
   "execution_count": 4,
   "metadata": {},
   "outputs": [],
   "source": [
    "# ...se usa numpy\n",
    "\n",
    "import numpy as np\n",
    "# guarda np.load\n",
    "np_load_old = np.load\n",
    "\n",
    "# modifica los parametros por defecto de np.load\n",
    "# con allow_pickle=True\n",
    "np.load = lambda *a,**k: np_load_old(*a, allow_pickle=True, **k)\n",
    "\n",
    "# se cargan los datos\n",
    "(train_data, train_labels), (test_data, test_labels) = imdb.load_data(num_words=10000)\n",
    "\n",
    "# se devuelve np.load a su estado original\n",
    "np.load = np_load_old"
   ]
  },
  {
   "cell_type": "code",
   "execution_count": 6,
   "metadata": {},
   "outputs": [
    {
     "data": {
      "text/plain": [
       "[1, 14, 22, 16, 43, 530, 973, 1622, 1385, 65]"
      ]
     },
     "execution_count": 6,
     "metadata": {},
     "output_type": "execute_result"
    }
   ],
   "source": [
    "train_data[0][:10]"
   ]
  },
  {
   "cell_type": "code",
   "execution_count": 8,
   "metadata": {},
   "outputs": [
    {
     "data": {
      "text/plain": [
       "1"
      ]
     },
     "execution_count": 8,
     "metadata": {},
     "output_type": "execute_result"
    }
   ],
   "source": [
    "train_labels[0]"
   ]
  },
  {
   "cell_type": "code",
   "execution_count": 9,
   "metadata": {},
   "outputs": [
    {
     "data": {
      "text/plain": [
       "9999"
      ]
     },
     "execution_count": 9,
     "metadata": {},
     "output_type": "execute_result"
    }
   ],
   "source": [
    "# los datos estan restringidos a 10000 palabras\n",
    "max([max(sequence) for sequence in train_data])"
   ]
  },
  {
   "cell_type": "code",
   "execution_count": 10,
   "metadata": {},
   "outputs": [
    {
     "name": "stdout",
     "output_type": "stream",
     "text": [
      "Downloading data from https://s3.amazonaws.com/text-datasets/imdb_word_index.json\n",
      "1646592/1641221 [==============================] - 1s 1us/step\n"
     ]
    }
   ],
   "source": [
    "# se mapean las palabras con un numero entero\n",
    "word_index = imdb.get_word_index()\n",
    "\n",
    "# se da la vuelta al diccionario\n",
    "reverse_word_index = dict(\n",
    "     [(value, key) for (key, value) in word_index.items()])\n",
    "\n",
    "# se decodifica el review, i-3 porque \n",
    "# 0=padding, 1=inicio de la secuencia, 3=desconocido (indices)\n",
    "decoded_review = ' '.join(\n",
    "    [reverse_word_index.get(i - 3, '?') for i in train_data[0]])"
   ]
  },
  {
   "cell_type": "markdown",
   "metadata": {},
   "source": [
    "## Preparando Data"
   ]
  },
  {
   "cell_type": "code",
   "execution_count": 14,
   "metadata": {},
   "outputs": [],
   "source": [
    "# se crea un matriz de todo ceros\n",
    "\n",
    "def vectorize_sequences(sequences, dimension=10000):\n",
    "    results = np.zeros((len(sequences), dimension))\n",
    "    for i, sequence in enumerate(sequences):\n",
    "          results[i, sequence] = 1.  # indice a uno\n",
    "    return results"
   ]
  },
  {
   "cell_type": "code",
   "execution_count": 15,
   "metadata": {},
   "outputs": [],
   "source": [
    "# train-test\n",
    "\n",
    "x_train = vectorize_sequences(train_data)\n",
    "x_test = vectorize_sequences(test_data)"
   ]
  },
  {
   "cell_type": "code",
   "execution_count": 16,
   "metadata": {},
   "outputs": [
    {
     "data": {
      "text/plain": [
       "array([0., 1., 1., ..., 0., 0., 0.])"
      ]
     },
     "execution_count": 16,
     "metadata": {},
     "output_type": "execute_result"
    }
   ],
   "source": [
    "x_train[0]"
   ]
  },
  {
   "cell_type": "code",
   "execution_count": 17,
   "metadata": {},
   "outputs": [],
   "source": [
    "# se vectorizan las etiquetas\n",
    "\n",
    "y_train = np.asarray(train_labels).astype('float32')\n",
    "y_test = np.asarray(test_labels).astype('float32')"
   ]
  },
  {
   "cell_type": "markdown",
   "metadata": {},
   "source": [
    "## Modelo"
   ]
  },
  {
   "cell_type": "code",
   "execution_count": 19,
   "metadata": {},
   "outputs": [
    {
     "name": "stdout",
     "output_type": "stream",
     "text": [
      "WARNING:tensorflow:From /Users/data/Library/Python/3.7/lib/python/site-packages/keras/optimizers.py:790: The name tf.train.Optimizer is deprecated. Please use tf.compat.v1.train.Optimizer instead.\n",
      "\n",
      "WARNING:tensorflow:From /Users/data/Library/Python/3.7/lib/python/site-packages/keras/backend/tensorflow_backend.py:3376: The name tf.log is deprecated. Please use tf.math.log instead.\n",
      "\n",
      "WARNING:tensorflow:From /Users/data/Library/Python/3.7/lib/python/site-packages/tensorflow/python/ops/nn_impl.py:180: add_dispatch_support.<locals>.wrapper (from tensorflow.python.ops.array_ops) is deprecated and will be removed in a future version.\n",
      "Instructions for updating:\n",
      "Use tf.where in 2.0, which has the same broadcast rule as np.where\n"
     ]
    }
   ],
   "source": [
    "from keras import models\n",
    "from keras import layers\n",
    "\n",
    "model = models.Sequential()\n",
    "model.add(layers.Dense(16, activation='relu', input_shape=(10000,)))\n",
    "model.add(layers.Dense(16, activation='relu'))\n",
    "model.add(layers.Dense(1, activation='sigmoid'))\n",
    "\n",
    "# se compila\n",
    "model.compile(optimizer='rmsprop',\n",
    "              loss='binary_crossentropy',\n",
    "              metrics=['accuracy'])"
   ]
  },
  {
   "cell_type": "code",
   "execution_count": 20,
   "metadata": {},
   "outputs": [],
   "source": [
    "# compilado configurando optimizador\n",
    "from keras import optimizers\n",
    "\n",
    "model.compile(optimizer=optimizers.RMSprop(lr=0.001),\n",
    "              loss='binary_crossentropy',\n",
    "              metrics=['accuracy'])"
   ]
  },
  {
   "cell_type": "code",
   "execution_count": 22,
   "metadata": {},
   "outputs": [],
   "source": [
    "# compilado usando metricas y perdidas custom\n",
    "from keras import losses\n",
    "from keras import metrics\n",
    "\n",
    "model.compile(optimizer=optimizers.RMSprop(lr=0.001),\n",
    "              loss=losses.binary_crossentropy,\n",
    "              metrics=[metrics.binary_accuracy])"
   ]
  },
  {
   "cell_type": "markdown",
   "metadata": {},
   "source": [
    "## Validacion"
   ]
  },
  {
   "cell_type": "code",
   "execution_count": 23,
   "metadata": {},
   "outputs": [],
   "source": [
    "# set de validacion\n",
    "\n",
    "x_val = x_train[:10000]\n",
    "partial_x_train = x_train[10000:]\n",
    "\n",
    "y_val = y_train[:10000]\n",
    "partial_y_train = y_train[10000:]"
   ]
  },
  {
   "cell_type": "markdown",
   "metadata": {},
   "source": [
    "## Entrenamiento"
   ]
  },
  {
   "cell_type": "code",
   "execution_count": 24,
   "metadata": {},
   "outputs": [
    {
     "name": "stdout",
     "output_type": "stream",
     "text": [
      "WARNING:tensorflow:From /Users/data/Library/Python/3.7/lib/python/site-packages/keras/backend/tensorflow_backend.py:986: The name tf.assign_add is deprecated. Please use tf.compat.v1.assign_add instead.\n",
      "\n",
      "Train on 15000 samples, validate on 10000 samples\n",
      "Epoch 1/20\n",
      "15000/15000 [==============================] - 3s 203us/step - loss: 0.5375 - acc: 0.7763 - val_loss: 0.4007 - val_acc: 0.8679\n",
      "Epoch 2/20\n",
      "15000/15000 [==============================] - 2s 145us/step - loss: 0.3220 - acc: 0.8987 - val_loss: 0.3274 - val_acc: 0.8725\n",
      "Epoch 3/20\n",
      "15000/15000 [==============================] - 2s 139us/step - loss: 0.2351 - acc: 0.9245 - val_loss: 0.2855 - val_acc: 0.8871\n",
      "Epoch 4/20\n",
      "15000/15000 [==============================] - 2s 136us/step - loss: 0.1843 - acc: 0.9399 - val_loss: 0.2734 - val_acc: 0.8907\n",
      "Epoch 5/20\n",
      "15000/15000 [==============================] - 2s 136us/step - loss: 0.1523 - acc: 0.9514 - val_loss: 0.2998 - val_acc: 0.8811\n",
      "Epoch 6/20\n",
      "15000/15000 [==============================] - 2s 137us/step - loss: 0.1231 - acc: 0.9612 - val_loss: 0.2874 - val_acc: 0.8869\n",
      "Epoch 7/20\n",
      "15000/15000 [==============================] - 2s 136us/step - loss: 0.1068 - acc: 0.9669 - val_loss: 0.3037 - val_acc: 0.8835\n",
      "Epoch 8/20\n",
      "15000/15000 [==============================] - 2s 136us/step - loss: 0.0864 - acc: 0.9751 - val_loss: 0.3226 - val_acc: 0.8812\n",
      "Epoch 9/20\n",
      "15000/15000 [==============================] - 2s 137us/step - loss: 0.0699 - acc: 0.9823 - val_loss: 0.3415 - val_acc: 0.8807\n",
      "Epoch 10/20\n",
      "15000/15000 [==============================] - 2s 135us/step - loss: 0.0607 - acc: 0.9847 - val_loss: 0.3770 - val_acc: 0.8777\n",
      "Epoch 11/20\n",
      "15000/15000 [==============================] - 2s 135us/step - loss: 0.0473 - acc: 0.9893 - val_loss: 0.3942 - val_acc: 0.8742\n",
      "Epoch 12/20\n",
      "15000/15000 [==============================] - 2s 133us/step - loss: 0.0392 - acc: 0.9920 - val_loss: 0.4189 - val_acc: 0.8723\n",
      "Epoch 13/20\n",
      "15000/15000 [==============================] - 2s 133us/step - loss: 0.0345 - acc: 0.9931 - val_loss: 0.4531 - val_acc: 0.8741\n",
      "Epoch 14/20\n",
      "15000/15000 [==============================] - 2s 135us/step - loss: 0.0254 - acc: 0.9951 - val_loss: 0.4982 - val_acc: 0.8707\n",
      "Epoch 15/20\n",
      "15000/15000 [==============================] - 2s 136us/step - loss: 0.0189 - acc: 0.9969 - val_loss: 0.5438 - val_acc: 0.8603\n",
      "Epoch 16/20\n",
      "15000/15000 [==============================] - 2s 134us/step - loss: 0.0180 - acc: 0.9965 - val_loss: 0.5386 - val_acc: 0.8676\n",
      "Epoch 17/20\n",
      "15000/15000 [==============================] - 2s 142us/step - loss: 0.0119 - acc: 0.9991 - val_loss: 0.5725 - val_acc: 0.8676\n",
      "Epoch 18/20\n",
      "15000/15000 [==============================] - 3s 174us/step - loss: 0.0115 - acc: 0.9984 - val_loss: 0.6068 - val_acc: 0.8635\n",
      "Epoch 19/20\n",
      "15000/15000 [==============================] - 2s 146us/step - loss: 0.0070 - acc: 0.9997 - val_loss: 0.6384 - val_acc: 0.8658\n",
      "Epoch 20/20\n",
      "15000/15000 [==============================] - 2s 145us/step - loss: 0.0073 - acc: 0.9989 - val_loss: 0.6612 - val_acc: 0.8649\n"
     ]
    }
   ],
   "source": [
    "# epocas\n",
    "epochs=20\n",
    "\n",
    "# compilacion\n",
    "model.compile(optimizer='rmsprop',\n",
    "              loss='binary_crossentropy',\n",
    "              metrics=['acc'])\n",
    "\n",
    "\n",
    "# entrenamiento guardado en historial\n",
    "history = model.fit(partial_x_train,\n",
    "                    partial_y_train,\n",
    "                    epochs=epochs,\n",
    "                    batch_size=512,\n",
    "                    validation_data=(x_val, y_val))"
   ]
  },
  {
   "cell_type": "code",
   "execution_count": 25,
   "metadata": {},
   "outputs": [
    {
     "data": {
      "text/plain": [
       "dict_keys(['val_loss', 'val_acc', 'loss', 'acc'])"
      ]
     },
     "execution_count": 25,
     "metadata": {},
     "output_type": "execute_result"
    }
   ],
   "source": [
    "history_dict = history.history\n",
    "history_dict.keys()"
   ]
  },
  {
   "cell_type": "markdown",
   "metadata": {},
   "source": [
    "## Plots entrenamiento y validacion"
   ]
  },
  {
   "cell_type": "code",
   "execution_count": 27,
   "metadata": {},
   "outputs": [
    {
     "data": {
      "image/png": "[encoded data removed]",
      "text/plain": [
       "<Figure size 432x288 with 1 Axes>"
      ]
     },
     "metadata": {
      "needs_background": "light"
     },
     "output_type": "display_data"
    }
   ],
   "source": [
    "import matplotlib.pyplot as plt\n",
    "\n",
    "history_dict = history.history\n",
    "loss_values = history_dict['loss']\n",
    "val_loss_values = history_dict['val_loss']\n",
    "\n",
    "epochs = range(1, len(epochs) + 1)\n",
    "\n",
    "plt.plot(epochs, loss_values, 'bo', label='Training loss')\n",
    "plt.plot(epochs, val_loss_values, 'b', label='Validation loss')\n",
    "\n",
    "plt.title('Training and validation loss')\n",
    "plt.xlabel('Epochs')\n",
    "plt.ylabel('Loss')\n",
    "plt.legend()\n",
    "\n",
    "plt.show();"
   ]
  },
  {
   "cell_type": "code",
   "execution_count": null,
   "metadata": {},
   "outputs": [],
   "source": []
  }
 ],
 "metadata": {
  "kernelspec": {
   "display_name": "Python 3",
   "language": "python",
   "name": "python3"
  },
  "language_info": {
   "codemirror_mode": {
    "name": "ipython",
    "version": 3
   },
   "file_extension": ".py",
   "mimetype": "text/x-python",
   "name": "python",
   "nbconvert_exporter": "python",
   "pygments_lexer": "ipython3",
   "version": "3.7.5"
  }
 },
 "nbformat": 4,
 "nbformat_minor": 2
}
