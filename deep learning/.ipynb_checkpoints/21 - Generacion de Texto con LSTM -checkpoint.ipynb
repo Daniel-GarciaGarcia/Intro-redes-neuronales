{
 "cells": [
  {
   "cell_type": "code",
   "execution_count": 1,
   "metadata": {},
   "outputs": [],
   "source": [
    "import warnings\n",
    "warnings.simplefilter('ignore')\n",
    "\n",
    "import tensorflow as tf\n",
    "tf.compat.v1.logging.set_verbosity(tf.compat.v1.logging.ERROR)"
   ]
  },
  {
   "cell_type": "markdown",
   "metadata": {},
   "source": [
    "# Generacion de texto a nivel de letra"
   ]
  },
  {
   "cell_type": "markdown",
   "metadata": {},
   "source": [
    "**descarga de datos**"
   ]
  },
  {
   "cell_type": "code",
   "execution_count": 2,
   "metadata": {},
   "outputs": [
    {
     "name": "stdout",
     "output_type": "stream",
     "text": [
      "Corpus length: 600893\n"
     ]
    },
    {
     "name": "stderr",
     "output_type": "stream",
     "text": [
      "Using TensorFlow backend.\n"
     ]
    }
   ],
   "source": [
    "import keras\n",
    "import numpy as np\n",
    "\n",
    "\n",
    "path = keras.utils.get_file(\n",
    "    'nietzsche.txt',\n",
    "    origin='https://s3.amazonaws.com/text-datasets/nietzsche.txt')\n",
    "\n",
    "\n",
    "text = open(path).read().lower()\n",
    "\n",
    "\n",
    "print('Corpus length:', len(text))"
   ]
  },
  {
   "cell_type": "markdown",
   "metadata": {},
   "source": [
    "**vectorizando secuencias de caracteres**"
   ]
  },
  {
   "cell_type": "code",
   "execution_count": 3,
   "metadata": {},
   "outputs": [
    {
     "name": "stdout",
     "output_type": "stream",
     "text": [
      "Number of sequences: 200278\n"
     ]
    }
   ],
   "source": [
    "maxlen = 60     # secuencias de 60 caracteres\n",
    "step = 3        # muestras de 3 letras\n",
    "\n",
    "sentences = []\n",
    "\n",
    "next_chars = []\n",
    "\n",
    "for i in range(0, len(text) - maxlen, step):\n",
    "    sentences.append(text[i: i + maxlen])\n",
    "    next_chars.append(text[i + maxlen])\n",
    "    \n",
    "print('Number of sequences:', len(sentences))"
   ]
  },
  {
   "cell_type": "code",
   "execution_count": 4,
   "metadata": {},
   "outputs": [
    {
     "name": "stdout",
     "output_type": "stream",
     "text": [
      "Unique characters: 57\n"
     ]
    }
   ],
   "source": [
    "chars = sorted(list(set(text)))  # caracteres unicos\n",
    "print('Unique characters:', len(chars))\n",
    "\n",
    "\n",
    "char_indices = dict((char, chars.index(char)) for char in chars)"
   ]
  },
  {
   "cell_type": "code",
   "execution_count": 5,
   "metadata": {},
   "outputs": [
    {
     "name": "stdout",
     "output_type": "stream",
     "text": [
      "Vectorization...\n",
      "Done!!\n"
     ]
    }
   ],
   "source": [
    "print('Vectorization...')\n",
    "\n",
    "x = np.zeros((len(sentences), maxlen, len(chars)), dtype=np.bool)\n",
    "y = np.zeros((len(sentences), len(chars)), dtype=np.bool)\n",
    "\n",
    "for i, sentence in enumerate(sentences):\n",
    "    for t, char in enumerate(sentence):\n",
    "        x[i, t, char_indices[char]] = 1\n",
    "    y[i, char_indices[next_chars[i]]] = 1\n",
    "\n",
    "print ('Done!!')"
   ]
  },
  {
   "cell_type": "markdown",
   "metadata": {},
   "source": [
    "**modelo de una sola capa LSTM, se predice siguiente letra**"
   ]
  },
  {
   "cell_type": "code",
   "execution_count": 6,
   "metadata": {},
   "outputs": [],
   "source": [
    "from keras import layers\n",
    "\n",
    "\n",
    "model = keras.models.Sequential()\n",
    "model.add(layers.LSTM(128, input_shape=(maxlen, len(chars))))\n",
    "model.add(layers.Dense(len(chars), activation='softmax'))\n",
    "\n",
    "\n",
    "optimizer = keras.optimizers.RMSprop(lr=0.01)\n",
    "\n",
    "\n",
    "model.compile(loss='categorical_crossentropy', \n",
    "              optimizer=optimizer)"
   ]
  },
  {
   "cell_type": "markdown",
   "metadata": {},
   "source": [
    "**funcion para muestrear siguiente letra dada la prediccion**"
   ]
  },
  {
   "cell_type": "code",
   "execution_count": 7,
   "metadata": {},
   "outputs": [],
   "source": [
    "def sample(preds, temperature=1.0):\n",
    "    \n",
    "    preds = np.asarray(preds).astype('float64')\n",
    "    preds = np.log(preds) / temperature\n",
    "    \n",
    "    exp_preds = np.exp(preds)\n",
    "    \n",
    "    preds = exp_preds / np.sum(exp_preds)\n",
    "    \n",
    "    probas = np.random.multinomial(1, preds, 1)\n",
    "    \n",
    "    return np.argmax(probas)"
   ]
  },
  {
   "cell_type": "markdown",
   "metadata": {},
   "source": [
    "**loop de generacion de texto**"
   ]
  },
  {
   "cell_type": "code",
   "execution_count": null,
   "metadata": {
    "scrolled": false
   },
   "outputs": [
    {
     "name": "stdout",
     "output_type": "stream",
     "text": [
      "epoch 1\n",
      "Epoch 1/1\n",
      "200278/200278 [==============================] - 123s 614us/step - loss: 2.0206\n",
      "--- Generating with seed: \".=--it proves a material gain to\n",
      "him who would attain knowle\"\n",
      "------ temperature: 0.2\n",
      ".=--it proves a material gain to\n",
      "him who would attain knowledge and the same its insting the stimater of the stillose and the stilloses the stillose the stillowed stillose of the perplession of the still of the stillose the stillose of the stillose of the strengther and the stillose of the stillose of the prifes the preperity of the preference of the preference of the ferest of the believe the stillose of the present of the stilloses and the string the see------ temperature: 0.5\n",
      "llose of the present of the stilloses and the string the seem to be discurit of\n",
      "pleasure for the strined of the forder not all the string of the possibition and the men a man the heart to himself the stelled to\n",
      "the vay be the descience find of the perplecess of spirit is in the prifour of the fellond of the present is the decasation of the stimpless of his istence, as the betreatt of the pripery of the find and deart of the sort the perpence of the still p------ temperature: 1.0\n",
      "f the find and deart of the sort the perpence of the still plowed without permence athated to the bood \"forte,\n",
      "ond beistrase indnce to the beloor pission for recoorditosel a geind is, would\n",
      "fart, subting, as and the now the yet primiced to pre!sonce and the feeling firhul it is thumn for\n",
      "whorle notelyatic and deelve by after of its entimatibery the avent very meally of the fan betore sougnismin vay of\n",
      "in what this they--the of gor: to the effer if\n",
      "shat gra------ temperature: 1.2\n",
      "y of\n",
      "in what this they--the of gor: to the effer if\n",
      "shat gratestol--fglibe, which tover. up, perhrstivates so-cran: exretee--bromided a prefine, he have\n",
      "a othachation. \n",
      "i  qlife all manytifice,\" and\n",
      "put-is.\n",
      "\n",
      "\n",
      "\n",
      "1o cagiod\" it to haped enlysifits--woscness corrt stach not\n",
      "inethen as thes, foroth been ps sourt dy playanes,, why vertest litm!\n",
      "ggeith.\n",
      "mirthous;eply itself\n",
      "of\n",
      "\n",
      " pat is beonkfre: bath!t ensthely hy man itleet, any oratr,\n",
      "indegminigy sts a, pressibeepoch 2\n",
      "Epoch 1/1\n",
      "200278/200278 [==============================] - 133s 665us/step - loss: 1.6418\n",
      "--- Generating with seed: \"at a variety of conversations) to be the cause of the declin\"\n",
      "------ temperature: 0.2\n",
      "at a variety of conversations) to be the cause of the declines and still present and the problem and who has a the moth and who has only and who have and thinked and who has not and thinked the stince and morality of the problem of the self-condition, and and the world and who condition of the self-contemply of the spirit of the conscience, and the problem and who condition of the self-condition of the contrance of the most condition of the propestion and ------ temperature: 0.5\n",
      "f the contrance of the most condition of the propestion and only man it is with our case and most of the propery any\n",
      "spirited as the conscience, and religic no long to and the defunes which the must case and \"present, exmand of the bread and it be saye with a the destrusted to religits constinue and things, and stiption and with every problem and men and in the proceutic and who have the enjodctically and have to a shame to a long the sting to falsely for ------ temperature: 1.0\n",
      "ally and have to a shame to a long the sting to falsely for else as madicire) simned, thitheg sensuoch elgo and belief disacried: \n",
      "ithy the getine, and and\n",
      "instinction is wronk one an\n",
      "the delight belung with more inveratest, defore as a named\n",
      "toi\n",
      "ranjently extent, and force which staten sy thoughs, at it\n",
      "moralsed of luputh\n",
      "lubogon. who rodts, if evolunt, unthings\n",
      "corpretuiaging, asiect has arcuold\n",
      "munter,\n",
      "harment: a powle, are cond ancturual arditele. the ------ temperature: 1.2\n",
      "\n",
      "munter,\n",
      "harment: a powle, are cond ancturual arditele. the forgre\n",
      "s . \"the but\" who weuldinef viewd, to\n",
      "indiniblts \n",
      "diffortre\n",
      "partaodly vensed-exarplely indestrubtulance is nom wat fear thought it\n",
      "of ordinsuthes and\n",
      "prozed srite? it opletiesg\n",
      "to orgneks (not for anvious orguniay, god-to upminen\n",
      "this could (most thinkenwer, as thereby himself with flongly may winliging allaitamayithis truc, adrelong wh thinging forceriared-nar reluubitanaluged to tarmounefepoch 3\n",
      "Epoch 1/1\n",
      "200278/200278 [==============================] - 138s 691us/step - loss: 1.5484\n",
      "--- Generating with seed: \"as the buffoon and satyr are foreign to him in body and cons\"\n",
      "------ temperature: 0.2\n",
      "as the buffoon and satyr are foreign to him in body and consequences of the same the general the same spirit the same to the same the same the same moral and more and the same to a profound the same the same the same the same the world to the same we may and the same the same the fact to the same in the same the profound to the same has a problem the same the same we cannot the same the same the contemptation of the same the spirit the self and are say, th------ temperature: 0.5\n",
      "ontemptation of the same the spirit the self and are say, the are still in the same distristory that the same that the bound the sour and an interpretious shame fation of the will the sense in the for the problem of the great respect to hard should be as\n",
      "for the sided of the for the prompt of sublimes to it entiment in the loves speak soul--the most world and which is the most the serve the desirate or a distanted pre; when the same world that the preventa------ temperature: 1.0\n",
      "te or a distanted pre; when the same world that the preventas countree agaiding promption as against that it a d toobmery are ears it\n",
      "is\n",
      "strengthing, and was is explactays which\n",
      "superaunicas.--is atasted to has as\n",
      "a well.\n",
      "\n",
      " the sensed, to enfear-himself is reason to say, with the desimops of phidogiones resist should to fexillycitation, and there is cause nothing the invaning to ouchasificatial.\n",
      "\n",
      "\n",
      "decamption. \"obwer; the most philosod is to althing much is------ temperature: 1.2\n",
      "\n",
      "decamption. \"obwer; the most philosod is to althing much is acknymeth and good that ondispcate to the \"theiphian to sed, to in\n",
      "stying to undistlays tochate ssoell fraction--was any colmoseflywabinaties mnokening or willo--ign philosopagiviag amas of the cluss the look flordeet\", away kriests, no\n",
      "anriationsful his\n",
      "wase\n",
      "nofmost an lage some flore.\n",
      "\n",
      "\n",
      "1ne the necessary perhaps would displonisily virtuol withisat willougs\n",
      "lack, it is were\n",
      "is ety rewathyfience epoch 4\n",
      "Epoch 1/1\n",
      "200278/200278 [==============================] - 153s 762us/step - loss: 1.4984\n",
      "--- Generating with seed: \"ns against good\n",
      "taste, but is also an incentive to sins of o\"\n",
      "------ temperature: 0.2\n",
      "ns against good\n",
      "taste, but is also an incentive to sins of our a desire of the same the more the strength of the something the consequently and the stronger the more the strange of the string and desire of the same to the fear of the string that the strength the stronger the morality, the soul--the something and and the contempority of the sentiment of the strongest the stronger of the strongest and something and the sentiment of the sure the soul--and the------ temperature: 0.5\n",
      "nd something and the sentiment of the sure the soul--and the fact something to be and the man is to the end to curselntism and restries of the greatest higher this errore. and the end the soul, in the fact\n",
      "and or the for their some case and suffering of the other far of the same causality of the self-determfully that as a self-art, and in the distinction, and such the passion itself, and the the greatest considerate the erroring that called case of a more ------ temperature: 1.0\n",
      "reatest considerate the erroring that called case of a more res deferently sacre, in resoluse aircelobitive, he so gre shot hem their appear who, in these senwitic and it sunerrof say, all smeduantfulness and new morality). as againfulation\"his desire to maniverterm, at littlangs \"the (yer careityes whether amountyeg or worth, volunted on ready tome have not spres imentitures enduriable ruld apposted, to persony of the herefor we, arts of philosopher-super------ temperature: 1.2\n",
      "ted, to persony of the herefor we, arts of philosopher-superiode as it\n",
      "sinnerooring, doomeness to soi, bad\n"
     ]
    },
    {
     "name": "stdout",
     "output_type": "stream",
     "text": [
      "in the smetter ourse for gans, sommanness--his sonhinage,\n",
      "themose pain proves continualsy; \"from a, to\n",
      "so caustime\n",
      "liginess, most houisifiantious mepory of\n",
      "honort\n",
      "indogation chilontentres, the \"coasel or ichitives,\n",
      "maordanually, indorstand of and moraliy believen\n",
      "ands,\n",
      "us of morents. ler more\n",
      "of \"bicture only upon origine helo\"enesoly, itself. the amtepoch 5\n",
      "Epoch 1/1\n",
      "200278/200278 [==============================] - 155s 776us/step - loss: 1.4665\n",
      "--- Generating with seed: \"re requires pardon and\n",
      "transfiguration; there is nothing tha\"\n",
      "------ temperature: 0.2\n",
      "re requires pardon and\n",
      "transfiguration; there is nothing that the problem of the superates and the string the spirit of the same to the self-consequently be the power of the sense of a conscience of the soul to the spirit of the same and the conscience of the constant to consequently and contrary and the most will to the same and the sense of the subtles and some should have some the strong the subtles of the soul and in the self-consequently and deces and------ temperature: 0.5\n",
      "btles of the soul and in the self-consequently and deces and the sense of the sublime and because and has as a man the contralict of the same in the charm, and race the sense that a matering and nothing of a moral has and his and to which well to the false of the consider of a femiling of the cruse, and he of the respect, and has constrange of the facts so the subtles the fainful and what to be and to the all man has to a longer and should be and a moralit------ temperature: 1.0\n",
      "d to the all man has to a longer and should be and a morality the only tith a \"faighs,\n",
      "proorriusary hfle\"ans, of natures\n",
      "is influnge, but pleasure were hand very will faiths. we nobedisold with and the min before every a same easy the must and dhide and\n",
      "clide soul, we has\n",
      "sout\" so the\n",
      "conscience of man tranghts is hard tern both thad iffecter. instance hands and\n",
      "confound, bood\n",
      "coure. thus deluth wentogent to a great his utawily asponsublate themselves wien------ temperature: 1.2\n",
      "entogent to a great his utawily asponsublate themselves wienwy, no joy and ded and sleasting means. thinkong mat! here is,\n",
      "asponcead\n",
      "hasted believe he is\n",
      "as he culfoly, which dorn\n",
      "shout that the\n",
      "shall-thems oftingion,\n",
      "so\n",
      "can promlebure it dicruan,\" he sympat, most richlage is houtes and excaye he using,\n",
      "and  neartaunady.\n",
      "naturance\n",
      "act,\n",
      "nevertheke beens more powerabis! the ourselves. \"knisot\n",
      "convaluation. man brorge ovisonifes \"what ilfulculr, which athuallepoch 6\n",
      "Epoch 1/1\n",
      "156032/200278 [======================>.......] - ETA: 37s - loss: 1.4432"
     ]
    }
   ],
   "source": [
    "import random\n",
    "import sys\n",
    "\n",
    "for epoch in range(1, 15):  # sube epocas\n",
    "    print('epoch', epoch)  \n",
    "    model.fit(x, y, batch_size=128, epochs=1)\n",
    "    \n",
    "    start_index = random.randint(0, len(text) - maxlen - 1) \n",
    "    generated_text = text[start_index: start_index + maxlen] \n",
    "    print('--- Generating with seed: \"' + generated_text + '\"')\n",
    "    \n",
    "    \n",
    "    for temperature in [0.2, 0.5, 1.0, 1.2]:\n",
    "        print('------ temperature:', temperature)\n",
    "        sys.stdout.write(generated_text)\n",
    "        \n",
    "        for i in range(400):\n",
    "            sampled = np.zeros((1, maxlen, len(chars)))\n",
    "            \n",
    "            for t, char in enumerate(generated_text):\n",
    "                sampled[0, t, char_indices[char]] = 1.\n",
    "            \n",
    "            preds = model.predict(sampled, verbose=0)[0]\n",
    "            \n",
    "            next_index = sample(preds, temperature)\n",
    "            next_char = chars[next_index]\n",
    "            \n",
    "            generated_text += next_char\n",
    "            generated_text = generated_text[1:]\n",
    "            \n",
    "            sys.stdout.write(next_char)"
   ]
  },
  {
   "cell_type": "code",
   "execution_count": null,
   "metadata": {},
   "outputs": [],
   "source": []
  }
 ],
 "metadata": {
  "kernelspec": {
   "display_name": "Python 3",
   "language": "python",
   "name": "python3"
  },
  "language_info": {
   "codemirror_mode": {
    "name": "ipython",
    "version": 3
   },
   "file_extension": ".py",
   "mimetype": "text/x-python",
   "name": "python",
   "nbconvert_exporter": "python",
   "pygments_lexer": "ipython3",
   "version": "3.7.5"
  }
 },
 "nbformat": 4,
 "nbformat_minor": 2
}
