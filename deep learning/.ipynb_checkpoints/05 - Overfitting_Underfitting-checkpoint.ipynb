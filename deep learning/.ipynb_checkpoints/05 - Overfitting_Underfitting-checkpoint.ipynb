{
 "cells": [
  {
   "cell_type": "code",
   "execution_count": 1,
   "metadata": {},
   "outputs": [],
   "source": [
    "import warnings\n",
    "warnings.simplefilter('ignore')\n",
    "\n",
    "import tensorflow as tf\n",
    "tf.compat.v1.logging.set_verbosity(tf.compat.v1.logging.ERROR)"
   ]
  },
  {
   "cell_type": "markdown",
   "metadata": {},
   "source": [
    "# Reduccion del tamaño de la red\n",
    "\n",
    "**imdb**"
   ]
  },
  {
   "cell_type": "markdown",
   "metadata": {},
   "source": [
    "## Data"
   ]
  },
  {
   "cell_type": "code",
   "execution_count": 2,
   "metadata": {},
   "outputs": [
    {
     "name": "stderr",
     "output_type": "stream",
     "text": [
      "Using TensorFlow backend.\n"
     ]
    }
   ],
   "source": [
    "from keras.datasets import imdb\n",
    "import numpy as np\n",
    "\n",
    "np_load_old = np.load\n",
    "np.load = lambda *a,**k: np_load_old(*a, allow_pickle=True, **k)\n",
    "\n",
    "# se cargan los datos\n",
    "(train_data, train_labels), (test_data, test_labels) = imdb.load_data(num_words=10000)\n",
    "\n",
    "np.load = np_load_old"
   ]
  },
  {
   "cell_type": "code",
   "execution_count": 3,
   "metadata": {},
   "outputs": [],
   "source": [
    "word_index = imdb.get_word_index()\n",
    "\n",
    "reverse_word_index = dict(\n",
    "     [(value, key) for (key, value) in word_index.items()])\n",
    "\n",
    "decoded_review = ' '.join(\n",
    "    [reverse_word_index.get(i - 3, '?') for i in train_data[0]])"
   ]
  },
  {
   "cell_type": "code",
   "execution_count": 4,
   "metadata": {},
   "outputs": [],
   "source": [
    "def vectorize_sequences(sequences, dimension=10000):\n",
    "    results = np.zeros((len(sequences), dimension))\n",
    "    for i, sequence in enumerate(sequences):\n",
    "          results[i, sequence] = 1.  # indice a uno\n",
    "    return results"
   ]
  },
  {
   "cell_type": "code",
   "execution_count": 5,
   "metadata": {},
   "outputs": [],
   "source": [
    "x_train = vectorize_sequences(train_data)\n",
    "x_test = vectorize_sequences(test_data)"
   ]
  },
  {
   "cell_type": "code",
   "execution_count": 6,
   "metadata": {},
   "outputs": [],
   "source": [
    "y_train = np.asarray(train_labels).astype('float32')\n",
    "y_test = np.asarray(test_labels).astype('float32')"
   ]
  },
  {
   "cell_type": "code",
   "execution_count": 7,
   "metadata": {},
   "outputs": [],
   "source": [
    "x_val = x_train[:10000]\n",
    "partial_x_train = x_train[10000:]\n",
    "\n",
    "y_val = y_train[:10000]\n",
    "partial_y_train = y_train[10000:]"
   ]
  },
  {
   "cell_type": "markdown",
   "metadata": {},
   "source": [
    "## Modelo Original"
   ]
  },
  {
   "cell_type": "code",
   "execution_count": 8,
   "metadata": {},
   "outputs": [],
   "source": [
    "from keras import models\n",
    "from keras import layers\n",
    "\n",
    "model = models.Sequential()\n",
    "model.add(layers.Dense(16, activation='relu', input_shape=(10000,)))\n",
    "model.add(layers.Dense(16, activation='relu'))\n",
    "model.add(layers.Dense(1, activation='sigmoid'))\n",
    "\n",
    "model.compile(optimizer='rmsprop',\n",
    "              loss='binary_crossentropy',\n",
    "              metrics=['acc'])"
   ]
  },
  {
   "cell_type": "markdown",
   "metadata": {},
   "source": [
    "## Modelo con menor capacidad"
   ]
  },
  {
   "cell_type": "code",
   "execution_count": 9,
   "metadata": {},
   "outputs": [],
   "source": [
    "model2 = models.Sequential()\n",
    "model2.add(layers.Dense(4, activation='relu', input_shape=(10000,)))\n",
    "model2.add(layers.Dense(4, activation='relu'))\n",
    "model2.add(layers.Dense(1, activation='sigmoid'))\n",
    "\n",
    "model2.compile(optimizer='rmsprop',\n",
    "              loss='binary_crossentropy',\n",
    "              metrics=['acc'])"
   ]
  },
  {
   "cell_type": "markdown",
   "metadata": {},
   "source": [
    "## Comparacion"
   ]
  },
  {
   "cell_type": "code",
   "execution_count": 10,
   "metadata": {},
   "outputs": [
    {
     "name": "stdout",
     "output_type": "stream",
     "text": [
      "Train on 15000 samples, validate on 10000 samples\n",
      "Epoch 1/20\n",
      "15000/15000 [==============================] - 3s 175us/step - loss: 0.5080 - acc: 0.7853 - val_loss: 0.3751 - val_acc: 0.8727\n",
      "Epoch 2/20\n",
      "15000/15000 [==============================] - 2s 136us/step - loss: 0.3008 - acc: 0.9017 - val_loss: 0.3250 - val_acc: 0.8678\n",
      "Epoch 3/20\n",
      "15000/15000 [==============================] - 2s 134us/step - loss: 0.2196 - acc: 0.9273 - val_loss: 0.2824 - val_acc: 0.8896\n",
      "Epoch 4/20\n",
      "15000/15000 [==============================] - 2s 143us/step - loss: 0.1721 - acc: 0.9439 - val_loss: 0.2749 - val_acc: 0.8876\n",
      "Epoch 5/20\n",
      "15000/15000 [==============================] - 2s 134us/step - loss: 0.1407 - acc: 0.9553 - val_loss: 0.3123 - val_acc: 0.8780\n",
      "Epoch 6/20\n",
      "15000/15000 [==============================] - 2s 137us/step - loss: 0.1130 - acc: 0.9651 - val_loss: 0.2985 - val_acc: 0.8852\n",
      "Epoch 7/20\n",
      "15000/15000 [==============================] - 2s 138us/step - loss: 0.0964 - acc: 0.9695 - val_loss: 0.3166 - val_acc: 0.8833\n",
      "Epoch 8/20\n",
      "15000/15000 [==============================] - 2s 133us/step - loss: 0.0768 - acc: 0.9781 - val_loss: 0.3386 - val_acc: 0.8802\n",
      "Epoch 9/20\n",
      "15000/15000 [==============================] - 2s 132us/step - loss: 0.0611 - acc: 0.9839 - val_loss: 0.3592 - val_acc: 0.8798\n",
      "Epoch 10/20\n",
      "15000/15000 [==============================] - 2s 137us/step - loss: 0.0490 - acc: 0.9879 - val_loss: 0.4506 - val_acc: 0.8644\n",
      "Epoch 11/20\n",
      "15000/15000 [==============================] - 2s 135us/step - loss: 0.0397 - acc: 0.9915 - val_loss: 0.4260 - val_acc: 0.8735\n",
      "Epoch 12/20\n",
      "15000/15000 [==============================] - 2s 133us/step - loss: 0.0316 - acc: 0.9932 - val_loss: 0.4513 - val_acc: 0.8745\n",
      "Epoch 13/20\n",
      "15000/15000 [==============================] - 2s 133us/step - loss: 0.0267 - acc: 0.9950 - val_loss: 0.5354 - val_acc: 0.8656\n",
      "Epoch 14/20\n",
      "15000/15000 [==============================] - 2s 133us/step - loss: 0.0208 - acc: 0.9961 - val_loss: 0.5112 - val_acc: 0.8713\n",
      "Epoch 15/20\n",
      "15000/15000 [==============================] - 2s 133us/step - loss: 0.0122 - acc: 0.9991 - val_loss: 0.5896 - val_acc: 0.8602\n",
      "Epoch 16/20\n",
      "15000/15000 [==============================] - 2s 133us/step - loss: 0.0115 - acc: 0.9991 - val_loss: 0.6147 - val_acc: 0.8679\n",
      "Epoch 17/20\n",
      "15000/15000 [==============================] - 2s 134us/step - loss: 0.0120 - acc: 0.9975 - val_loss: 0.6148 - val_acc: 0.8667\n",
      "Epoch 18/20\n",
      "15000/15000 [==============================] - 2s 139us/step - loss: 0.0051 - acc: 0.9998 - val_loss: 0.8044 - val_acc: 0.8448\n",
      "Epoch 19/20\n",
      "15000/15000 [==============================] - 2s 133us/step - loss: 0.0046 - acc: 0.9998 - val_loss: 0.7153 - val_acc: 0.8589\n",
      "Epoch 20/20\n",
      "15000/15000 [==============================] - 2s 133us/step - loss: 0.0077 - acc: 0.9978 - val_loss: 0.7127 - val_acc: 0.8670\n"
     ]
    }
   ],
   "source": [
    "epochs=20\n",
    "\n",
    "history = model.fit(partial_x_train,\n",
    "                    partial_y_train,\n",
    "                    epochs=epochs,\n",
    "                    batch_size=512,\n",
    "                    validation_data=(x_val, y_val), \n",
    "                    verbose=0)\n",
    "\n",
    "history_dict = history.history"
   ]
  },
  {
   "cell_type": "code",
   "execution_count": 11,
   "metadata": {},
   "outputs": [
    {
     "name": "stdout",
     "output_type": "stream",
     "text": [
      "Train on 15000 samples, validate on 10000 samples\n",
      "Epoch 1/20\n",
      "15000/15000 [==============================] - 2s 121us/step - loss: 0.6160 - acc: 0.6395 - val_loss: 0.5697 - val_acc: 0.6627\n",
      "Epoch 2/20\n",
      "15000/15000 [==============================] - 2s 112us/step - loss: 0.5182 - acc: 0.7936 - val_loss: 0.5172 - val_acc: 0.8317\n",
      "Epoch 3/20\n",
      "15000/15000 [==============================] - 2s 108us/step - loss: 0.4713 - acc: 0.8562 - val_loss: 0.4912 - val_acc: 0.8312\n",
      "Epoch 4/20\n",
      "15000/15000 [==============================] - 2s 111us/step - loss: 0.4381 - acc: 0.8898 - val_loss: 0.4737 - val_acc: 0.8741\n",
      "Epoch 5/20\n",
      "15000/15000 [==============================] - 2s 108us/step - loss: 0.4122 - acc: 0.9160 - val_loss: 0.4739 - val_acc: 0.8338\n",
      "Epoch 6/20\n",
      "15000/15000 [==============================] - 2s 109us/step - loss: 0.3909 - acc: 0.9308 - val_loss: 0.4757 - val_acc: 0.8328\n",
      "Epoch 7/20\n",
      "15000/15000 [==============================] - 2s 109us/step - loss: 0.3720 - acc: 0.9419 - val_loss: 0.4663 - val_acc: 0.8503\n",
      "Epoch 8/20\n",
      "15000/15000 [==============================] - 2s 107us/step - loss: 0.3563 - acc: 0.9512 - val_loss: 0.4483 - val_acc: 0.8756\n",
      "Epoch 9/20\n",
      "15000/15000 [==============================] - 2s 107us/step - loss: 0.3418 - acc: 0.9589 - val_loss: 0.4501 - val_acc: 0.8709\n",
      "Epoch 10/20\n",
      "15000/15000 [==============================] - 2s 106us/step - loss: 0.3276 - acc: 0.9665 - val_loss: 0.4590 - val_acc: 0.8636\n",
      "Epoch 11/20\n",
      "15000/15000 [==============================] - 2s 107us/step - loss: 0.3155 - acc: 0.9707 - val_loss: 0.4602 - val_acc: 0.8646\n",
      "Epoch 12/20\n",
      "15000/15000 [==============================] - 2s 106us/step - loss: 0.3035 - acc: 0.9762 - val_loss: 0.4796 - val_acc: 0.8592\n",
      "Epoch 13/20\n",
      "15000/15000 [==============================] - 2s 106us/step - loss: 0.2931 - acc: 0.9789 - val_loss: 0.4881 - val_acc: 0.8570\n",
      "Epoch 14/20\n",
      "15000/15000 [==============================] - 2s 108us/step - loss: 0.2828 - acc: 0.9821 - val_loss: 0.4829 - val_acc: 0.8620\n",
      "Epoch 15/20\n",
      "15000/15000 [==============================] - 2s 106us/step - loss: 0.2733 - acc: 0.9848 - val_loss: 0.4676 - val_acc: 0.8688\n",
      "Epoch 16/20\n",
      "15000/15000 [==============================] - 2s 105us/step - loss: 0.2652 - acc: 0.9860 - val_loss: 0.4945 - val_acc: 0.8614\n",
      "Epoch 17/20\n",
      "15000/15000 [==============================] - 2s 105us/step - loss: 0.2569 - acc: 0.9874 - val_loss: 0.5583 - val_acc: 0.8499\n",
      "Epoch 18/20\n",
      "15000/15000 [==============================] - 2s 105us/step - loss: 0.2494 - acc: 0.9884 - val_loss: 0.5112 - val_acc: 0.8616\n",
      "Epoch 19/20\n",
      "15000/15000 [==============================] - 2s 105us/step - loss: 0.2422 - acc: 0.9896 - val_loss: 0.5457 - val_acc: 0.8573\n",
      "Epoch 20/20\n",
      "15000/15000 [==============================] - 2s 110us/step - loss: 0.2356 - acc: 0.9900 - val_loss: 0.6351 - val_acc: 0.8410\n"
     ]
    }
   ],
   "source": [
    "history2 = model2.fit(partial_x_train,\n",
    "                      partial_y_train,\n",
    "                      epochs=epochs,\n",
    "                      batch_size=512,\n",
    "                      validation_data=(x_val, y_val), \n",
    "                      verbose=0)\n",
    "\n",
    "history2_dict = history2.history"
   ]
  },
  {
   "cell_type": "code",
   "execution_count": 12,
   "metadata": {},
   "outputs": [
    {
     "data": {
      "image/png": "[encoded data removed]",
      "text/plain": [
       "<Figure size 432x288 with 1 Axes>"
      ]
     },
     "metadata": {
      "needs_background": "light"
     },
     "output_type": "display_data"
    }
   ],
   "source": [
    "import matplotlib.pyplot as plt\n",
    "%matplotlib inline \n",
    "\n",
    "val_loss_values = history_dict['val_loss']\n",
    "val_loss_values2 = history2_dict['val_loss']\n",
    "\n",
    "epochs = range(1, epochs + 1)\n",
    "\n",
    "plt.plot(epochs, val_loss_values, 'b+', label='Original model')\n",
    "plt.plot(epochs, val_loss_values2, 'bo', label='Smaller model')\n",
    "\n",
    "plt.title('Validation loss both models (smaller)')\n",
    "plt.xlabel('Epochs')\n",
    "plt.ylabel('Validation Loss')\n",
    "plt.legend()\n",
    "\n",
    "plt.show();"
   ]
  },
  {
   "cell_type": "markdown",
   "metadata": {},
   "source": [
    "## Modelo con mayor capacidad, comparacion"
   ]
  },
  {
   "cell_type": "code",
   "execution_count": null,
   "metadata": {},
   "outputs": [],
   "source": [
    "model3 = models.Sequential()\n",
    "model3.add(layers.Dense(512, activation='relu', input_shape=(10000,)))\n",
    "model3.add(layers.Dense(512, activation='relu'))\n",
    "model3.add(layers.Dense(1, activation='sigmoid'))\n",
    "\n",
    "model3.compile(optimizer='rmsprop',\n",
    "              loss='binary_crossentropy',\n",
    "              metrics=['acc'])\n",
    "\n",
    "\n",
    "\n",
    "history3 = model3.fit(partial_x_train,\n",
    "                      partial_y_train,\n",
    "                      epochs=epochs,\n",
    "                      batch_size=512,\n",
    "                      validation_data=(x_val, y_val), \n",
    "                      verbose=0)\n",
    "\n",
    "history3_dict = history3.history\n",
    "\n",
    "\n",
    "\n",
    "val_loss_values3 = history3_dict['val_loss']\n",
    "\n",
    "plt.plot(epochs, val_loss_values, 'b+', label='Original model')\n",
    "plt.plot(epochs, val_loss_values3, 'bo', label='Bigger model')\n",
    "\n",
    "plt.title('Validation loss both models (bigger)')\n",
    "plt.xlabel('Epochs')\n",
    "plt.ylabel('Validation Loss')\n",
    "plt.legend()\n",
    "\n",
    "plt.show();"
   ]
  },
  {
   "cell_type": "code",
   "execution_count": null,
   "metadata": {},
   "outputs": [],
   "source": []
  }
 ],
 "metadata": {
  "kernelspec": {
   "display_name": "Python 3",
   "language": "python",
   "name": "python3"
  },
  "language_info": {
   "codemirror_mode": {
    "name": "ipython",
    "version": 3
   },
   "file_extension": ".py",
   "mimetype": "text/x-python",
   "name": "python",
   "nbconvert_exporter": "python",
   "pygments_lexer": "ipython3",
   "version": "3.7.5"
  }
 },
 "nbformat": 4,
 "nbformat_minor": 2
}
