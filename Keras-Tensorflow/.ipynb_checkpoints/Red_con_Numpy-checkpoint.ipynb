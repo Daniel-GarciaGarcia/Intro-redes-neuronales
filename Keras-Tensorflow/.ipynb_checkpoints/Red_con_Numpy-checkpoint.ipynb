{
 "cells": [
  {
   "cell_type": "markdown",
   "metadata": {},
   "source": [
    "### Tu propia red neuronal con Numpy\n",
    "\n",
    "En este notebook vamos a construir una red usando solamente numpy y nervios de acero. Será divertido.\n",
    "\n",
    "<img src=\"frankenstein.png\" style=\"width:20%\">\n",
    "\n",
    "\n",
    "* ref => https://towardsdatascience.com/building-an-artificial-neural-network-using-pure-numpy-3fe21acc5815"
   ]
  },
  {
   "cell_type": "code",
   "execution_count": 1,
   "metadata": {},
   "outputs": [],
   "source": [
    "# librerias\n",
    "\n",
    "import sys\n",
    "sys.path.append(\"..\")\n",
    "import tqdm_utils\n",
    "import download_utils"
   ]
  },
  {
   "cell_type": "code",
   "execution_count": 2,
   "metadata": {},
   "outputs": [],
   "source": [
    "# usa modelos y datasets precargardos desde keras\n",
    "\n",
    "download_utils.link_all_keras_resources()"
   ]
  },
  {
   "cell_type": "code",
   "execution_count": 3,
   "metadata": {},
   "outputs": [],
   "source": [
    "from __future__ import print_function\n",
    "import numpy as np\n",
    "np.random.seed(42)"
   ]
  },
  {
   "cell_type": "markdown",
   "metadata": {},
   "source": [
    "Nuestra clase principal: una capa con metodos .forward() y .backward()."
   ]
  },
  {
   "cell_type": "code",
   "execution_count": 4,
   "metadata": {},
   "outputs": [],
   "source": [
    "class Capa:\n",
    "    \"\"\"\n",
    "    Un bloque de construccion. Cada capa es capaz de realizar dos cosas:\n",
    "    \n",
    "    - Procesar la entrada para dar una salida:               salida = capa.forward(entrada)\n",
    "    \n",
    "    - Propagar los gradientes a traves de la propia capa:    grad_in = capa.backward(entrada, grad_out)\n",
    "    \n",
    "    Algunas capas tambien tienen parametros de aprendizaje que se actualizan durante el metodo capa.backward.\n",
    "    \"\"\"\n",
    "    def __init__(self):\n",
    "        \"\"\"Aqui se pueden inicializar parametros de la capa, si hay alguno, y cosas auxiliares.\"\"\"\n",
    "        # Una capa vacia no hace nada\n",
    "        self.pesos = np.zeros(shape=(input.shape[1], 10))\n",
    "        sesgos = np.zeros(shape=(10,))\n",
    "        pass\n",
    "    \n",
    "    def forward(self, input):  # propagacion hacia adelante de los datos\n",
    "        \"\"\"\n",
    "        Toma la dimension de los datos de entrada [muestra, unidades_entrada], \n",
    "        devuelve datos de salida [muestra, unidades_salida]\n",
    "        \"\"\"\n",
    "        # Una capa vacia solo devuelve la entrada.\n",
    "        output = np.matmul(input, self.pesos) + sesgos  # multiplicacion matricial\n",
    "        return output\n",
    "\n",
    "    def backward(self, input, grad_output):  # propagacion hacia atras del error\n",
    "        \"\"\"\n",
    "        Realiza la propagacion hacia atras a traves de la capa, con respecto a la entrada dada.\n",
    "        \n",
    "        Se calculan los gradientes de la perdida de entrada, se necesita aplicar la regla de la cadena:\n",
    "        \n",
    "        d perdida / d x  = (d perdida / d capa) * (d capa / d x)\n",
    "        \n",
    "        Afortunadamente, se recibe d perdida / d capa como entrada, \n",
    "        asi que solo se necesita multiplicar por d capa / d x. (derivadas)\n",
    "        \n",
    "        Si na capa tiene parametro,por ejemplo una capa densa (full connected, dense),\n",
    "        tambien se necesita actualizarla usando d perdida / d capa\n",
    "        \"\"\"\n",
    "        # El gradiente de una capa vacia es precisamente grad_output, pero se escribe explicitamente:\n",
    "        num_unidades = input.shape[1]\n",
    "        \n",
    "        d_capa_d_entrada = np.eye(num_unidades)\n",
    "        \n",
    "        return np.dot(grad_output, d_capa_d_entrada) # regla de la cadena, producto escalar"
   ]
  },
  {
   "cell_type": "markdown",
   "metadata": {},
   "source": [
    "### Camino por delante\n",
    "\n",
    "Vamos a construir una red neuronal que clasifique números de la base de datos MNIST. Para hacerlo, necesitamos construir algunos bloques:\n",
    "\n",
    "- Capa densa - capa fully-connected ,  $f(X)=W \\cdot X + \\vec{b}$\n",
    "- Capa ReLU (unidad de rectificado lineal o otra capa no lineal que se prefiera)\n",
    "- Funcion de perdida (entropia cruzada) (loss function - crossentropy)\n",
    "- Algoritmo de propagacion hacia atras (Backprop algorithm), gradiente descente estocastico\n",
    "\n",
    "Vamos a verlos uno por uno.\n"
   ]
  },
  {
   "cell_type": "markdown",
   "metadata": {},
   "source": [
    "### Capa no lineal\n",
    "\n",
    "Esta es la capa más simple que se puede tener: simplemente aplica una función no lineal a cada elemento de la red."
   ]
  },
  {
   "cell_type": "code",
   "execution_count": 5,
   "metadata": {},
   "outputs": [],
   "source": [
    "class ReLU(Capa):\n",
    "    def __init__(self):\n",
    "        \"\"\"ReLU aplica un rectificado lineal a todas las entradas\"\"\"\n",
    "        pass\n",
    "    \n",
    "    def forward(self, input):\n",
    "        \"\"\"Aplica ReLU elemento a elemento a la matriz [muestra, unidades_entrada]\"\"\"\n",
    "        return np.maximum(0,input)\n",
    "    \n",
    "    def backward(self, input, grad_output):\n",
    "        \"\"\"Calcula el gradiente de la perdida para las entradas de ReLU\"\"\"\n",
    "        relu_grad = input > 0\n",
    "        return grad_output*relu_grad        "
   ]
  },
  {
   "cell_type": "code",
   "execution_count": 6,
   "metadata": {},
   "outputs": [],
   "source": [
    "# algunas pruebas\n",
    "\n",
    "from util import eval_numerical_gradient\n",
    "x = np.linspace(-1,1,10*32).reshape([10,32])\n",
    "l = ReLU()\n",
    "grads = l.backward(x,np.ones([10,32])/(32*10))\n",
    "num_grads = eval_numerical_gradient(lambda x: l.forward(x).mean(), x=x)\n",
    "assert np.allclose(grads, num_grads, rtol=1e-3, atol=0),\\\n",
    "    'el gradiente devuelto por la capa no coincide con el gradiente calculado numericamente' "
   ]
  },
  {
   "cell_type": "markdown",
   "metadata": {},
   "source": [
    "#### En primer lugar: funciones lambda \n",
    "\n",
    "En python, se pueden definir funciones en una sola linea usando la funcion `lambda`,\n",
    "\n",
    "que tiene una sintaxis tal que: `lambda param1, param2: expression`\n",
    "\n",
    "\n",
    "Por ejemplo: `f = lambda x, y: x+y` es equivalente a la funcion:\n",
    "\n",
    "```\n",
    "def f(x,y):\n",
    "    return x+y\n",
    "```\n",
    "Para mas informacion,  [aqui](http://www.secnetix.de/olli/Python/lambda_functions.hawk).    "
   ]
  },
  {
   "cell_type": "markdown",
   "metadata": {},
   "source": [
    "### Capa densa (full connected)\n",
    "\n",
    "Vamos a construir algo mas complicado. A diferencia de la no linealidad, una capa densa realmente aprende algo.\n",
    "\n",
    "Una capa densa aplica una transformacion afin. En forma vectorial se puede describir:\n",
    "\n",
    "$$f(X)= W \\cdot X + \\vec b $$\n",
    "\n",
    "Donde \n",
    "* X es una matriz de caracteristicas de dimensiones [tamaño_muestra, num_caracteristicas],\n",
    "* W es una matriz de pesos [num_caracteristicas, num_salidas] \n",
    "* b es un vector de sesgos [num_salidas].\n",
    "\n",
    "Tanto W como b se inicializan durante la creacion de la capa y se actualizan cada vez que se llama al metodo backward()."
   ]
  },
  {
   "cell_type": "code",
   "execution_count": 7,
   "metadata": {},
   "outputs": [],
   "source": [
    "class Densa(Capa):\n",
    "    def __init__(self, in_unids, out_unids, tasa=0.1):\n",
    "        \"\"\"\n",
    "        Una capa densa es una capa que realiza una transformacion afin:\n",
    "        f(x) = <W*x> + b\n",
    "        tasa es la tasa de aprendizaje de la red (learning rate)\n",
    "        \"\"\"\n",
    "        self.tasa = tasa\n",
    "        \n",
    "        # inicializa los pesos con numeros pequeños aleatorios. Se usa un inicio normal, \n",
    "        # pero hay mejores maneras de hacerlo. Una vez que te funcione, prueba esto: http://bit.ly/2vTlmaJ\n",
    "        self.pesos = np.random.randn(in_unids, out_unids)*0.01\n",
    "        self.sesgos = np.zeros(out_unids)\n",
    "        \n",
    "    def forward(self,input):\n",
    "        \"\"\"\n",
    "        Realiza la transformacion afin:\n",
    "        f(x) = <W*x> + b\n",
    "        \n",
    "        dimension de entrada: [muestra, unidades_entrada]\n",
    "        dimension de salida: [muestra, unidades_salida]\n",
    "        \"\"\"\n",
    "        return np.matmul(input, self.pesos) + self.sesgos\n",
    "    \n",
    "    def backward(self,input,grad_output):\n",
    "        \n",
    "        # se calcula d f / d x = d f / d densa * d densa / d x\n",
    "        # donde d densa/ d x = matriz de pesos traspuesta\n",
    "        grad_input = np.dot(grad_output,np.transpose(self.pesos))\n",
    "        \n",
    "        # se calcula el gradiente de los pesos y los sesgos\n",
    "        grad_pesos = np.transpose(np.dot(np.transpose(grad_output),input))\n",
    "        grad_sesgos = np.sum(grad_output, axis = 0)\n",
    "        \n",
    "        assert grad_pesos.shape == self.pesos.shape and grad_sesgos.shape == self.sesgos.shape\n",
    "        # Aqui se realiza el paso de gradiente descente estocastico. \n",
    "        # Despues, puedes intentar mejorarlo.\n",
    "        self.pesos = self.pesos - self.tasa * grad_pesos\n",
    "        self.sesgos = self.sesgos - self.tasa * grad_sesgos\n",
    "        \n",
    "        return grad_input"
   ]
  },
  {
   "cell_type": "markdown",
   "metadata": {},
   "source": [
    "### Testeando la capa densa\n",
    "\n",
    "Se haran algunos tests para asegurarnos que la capa densa funciona adecuadamente. Si funciona, se printea ¡Bien hecho!\n",
    "\n",
    "... o no, y tendras que arreglar algo. Para esto alguno consejos:\n",
    "* Asegurate de calcular los gradientes para pesos y sesgo como __la suma de los gradientes sobre la muestra__. La salida ya está dividida entre el tamaño de la muestra.\n",
    "* Si estás debbugueando, procura guardar los gradientes en una clase, como \"self.grad_w = grad_w\" o printea los primeros pesos. Esto ayuda.\n",
    "* Si nada ayuda, trata de ignorar el test y pasa a la fase de entrenamiento. Si entrena, está pasando algo que no afecta al funcionamiento de la red."
   ]
  },
  {
   "cell_type": "code",
   "execution_count": 8,
   "metadata": {},
   "outputs": [
    {
     "name": "stdout",
     "output_type": "stream",
     "text": [
      "¡Bien hecho!\n"
     ]
    }
   ],
   "source": [
    "l = Densa(128, 150)\n",
    "\n",
    "assert -0.05 < l.pesos.mean() < 0.05 and 1e-3 < l.pesos.std() < 1e-1,\\\n",
    "    'Los pesos iniciales deben tener media cero y poca varianza.'\\\n",
    "    'Si sabes lo que haces, borra este assert.'\n",
    "\n",
    "assert -0.05<l.sesgos.mean()<0.05, 'Los sesgos deben tener media cero. Ignora esto si por alguna razón pones otra cosa'\n",
    "\n",
    "\n",
    "# Para testear las salidas, explicitamente se ponen valores fijos. ¡NO HACER ESTO CON LA RED REAL!\n",
    "l = Densa(3,4)\n",
    "\n",
    "x = np.linspace(-1,1,2*3).reshape([2,3])\n",
    "l.pesos = np.linspace(-1,1,3*4).reshape([3,4])\n",
    "l.sesgos = np.linspace(-1,1,4)\n",
    "\n",
    "assert np.allclose(l.forward(x),np.array([[ 0.07272727,  0.41212121,  0.75151515,  1.09090909],\n",
    "                                          [-0.90909091,  0.08484848,  1.07878788,  2.07272727]]))\n",
    "print('¡Bien hecho!')"
   ]
  },
  {
   "cell_type": "code",
   "execution_count": null,
   "metadata": {},
   "outputs": [
    {
     "name": "stdout",
     "output_type": "stream",
     "text": [
      "¡Bien hecho!\n"
     ]
    }
   ],
   "source": [
    "# Para testear los gradientess, usamos los gradientes obtenidos por diferencias finitas\n",
    "\n",
    "from util import eval_numerical_gradient\n",
    "\n",
    "x = np.linspace(-1,1,10*32).reshape([10,32])\n",
    "l = Densa(32, 64, tasa=0)\n",
    "\n",
    "num_grads = eval_numerical_gradient(lambda x: l.forward(x).sum(),x)\n",
    "grads = l.backward(x,np.ones([10,64]))\n",
    "\n",
    "assert np.allclose(grads, num_grads, rtol=1e-3, atol=0), \\\n",
    "                   'el gradiente de entrada no cuadra con el gradiente numerico'\n",
    "print('¡Bien hecho!')"
   ]
  },
  {
   "cell_type": "code",
   "execution_count": null,
   "metadata": {},
   "outputs": [
    {
     "name": "stdout",
     "output_type": "stream",
     "text": [
      "¡Bien hecho!\n"
     ]
    }
   ],
   "source": [
    "#testeo de gradientes con parametros\n",
    "\n",
    "def compute_out_given_wb(p,s):\n",
    "    l = Densa(32, 64, tasa=1)\n",
    "    l.pesos = np.array(p)\n",
    "    l.sesgos = np.array(s)\n",
    "    x = np.linspace(-1,1,10*32).reshape([10,32])\n",
    "    return l.forward(x)\n",
    "    \n",
    "def compute_grad_by_params(p,s):\n",
    "    l = Densa(32, 64, tasa=1)\n",
    "    l.pesos = np.array(p)\n",
    "    l.sesgos = np.array(s)\n",
    "    x = np.linspace(-1,1,10*32).reshape([10,32])\n",
    "    l.backward(x,np.ones([10,64]) / 10.)\n",
    "    return  p-l.pesos, s-l.sesgos\n",
    "    \n",
    "p,s = np.random.randn(32,64), np.linspace(-1,1,64)\n",
    "\n",
    "numeric_dw = eval_numerical_gradient(lambda p: compute_out_given_wb(p,s).mean(0).sum(),p)\n",
    "numeric_db = eval_numerical_gradient(lambda s: compute_out_given_wb(p,s).mean(0).sum(),s)\n",
    "\n",
    "grad_w,grad_b = compute_grad_by_params(p,s)\n",
    "\n",
    "assert np.allclose(numeric_dw,grad_w,rtol=1e-3,atol=0), \"weight gradient does not match numeric weight gradient\"\n",
    "assert np.allclose(numeric_db,grad_b,rtol=1e-3,atol=0), \"weight gradient does not match numeric weight gradient\"\n",
    "print('¡Bien hecho!')"
   ]
  },
  {
   "cell_type": "markdown",
   "metadata": {},
   "source": [
    "### The loss function\n",
    "\n",
    "Since we want to predict probabilities, it would be logical for us to define softmax nonlinearity on top of our network and compute loss given predicted probabilities. However, there is a better way to do so.\n",
    "\n",
    "If you write down the expression for crossentropy as a function of softmax logits (a), you'll see:\n",
    "\n",
    "$$ loss = - log \\space {e^{a_{correct}} \\over {\\underset i \\sum e^{a_i} } } $$\n",
    "\n",
    "If you take a closer look, ya'll see that it can be rewritten as:\n",
    "\n",
    "$$ loss = - a_{correct} + log {\\underset i \\sum e^{a_i} } $$\n",
    "\n",
    "It's called Log-softmax and it's better than naive log(softmax(a)) in all aspects:\n",
    "* Better numerical stability\n",
    "* Easier to get derivative right\n",
    "* Marginally faster to compute\n",
    "\n",
    "So why not just use log-softmax throughout our computation and never actually bother to estimate probabilities.\n",
    "\n",
    "Here you are! We've defined the both loss functions for you so that you could focus on neural network part."
   ]
  },
  {
   "cell_type": "code",
   "execution_count": null,
   "metadata": {},
   "outputs": [],
   "source": [
    "def softmax_crossentropy_with_logits(logits,reference_answers):\n",
    "    \"\"\"Compute crossentropy from logits[batch,n_classes] and ids of correct answers\"\"\"\n",
    "    logits_for_answers = logits[np.arange(len(logits)),reference_answers]\n",
    "    \n",
    "    xentropy = - logits_for_answers + np.log(np.sum(np.exp(logits),axis=-1))\n",
    "    \n",
    "    return xentropy\n",
    "\n",
    "def grad_softmax_crossentropy_with_logits(logits,reference_answers):\n",
    "    \"\"\"Compute crossentropy gradient from logits[batch,n_classes] and ids of correct answers\"\"\"\n",
    "    ones_for_answers = np.zeros_like(logits)\n",
    "    ones_for_answers[np.arange(len(logits)),reference_answers] = 1\n",
    "    \n",
    "    softmax = np.exp(logits) / np.exp(logits).sum(axis=-1,keepdims=True)\n",
    "    \n",
    "    return (- ones_for_answers + softmax) / logits.shape[0]"
   ]
  },
  {
   "cell_type": "code",
   "execution_count": null,
   "metadata": {},
   "outputs": [],
   "source": [
    "logits = np.linspace(-1,1,500).reshape([50,10])\n",
    "answers = np.arange(50)%10\n",
    "\n",
    "softmax_crossentropy_with_logits(logits,answers)\n",
    "grads = grad_softmax_crossentropy_with_logits(logits,answers)\n",
    "numeric_grads = eval_numerical_gradient(lambda l: softmax_crossentropy_with_logits(l,answers).mean(),logits)\n",
    "\n",
    "assert np.allclose(numeric_grads,grads,rtol=1e-3,atol=0), \"The reference implementation has just failed. Someone has just changed the rules of math.\""
   ]
  },
  {
   "cell_type": "markdown",
   "metadata": {},
   "source": [
    "### Full network\n",
    "\n",
    "Now let's combine what we've just built into a working neural network. As we announced, we're gonna use this monster to classify handwritten digits, so let's get them loaded."
   ]
  },
  {
   "cell_type": "code",
   "execution_count": null,
   "metadata": {},
   "outputs": [
    {
     "name": "stderr",
     "output_type": "stream",
     "text": [
      "/home/iudh/.local/lib/python3.7/site-packages/tensorflow/python/framework/dtypes.py:526: FutureWarning: Passing (type, 1) or '1type' as a synonym of type is deprecated; in a future version of numpy, it will be understood as (type, (1,)) / '(1,)type'.\n",
      "  _np_qint8 = np.dtype([(\"qint8\", np.int8, 1)])\n",
      "/home/iudh/.local/lib/python3.7/site-packages/tensorflow/python/framework/dtypes.py:527: FutureWarning: Passing (type, 1) or '1type' as a synonym of type is deprecated; in a future version of numpy, it will be understood as (type, (1,)) / '(1,)type'.\n",
      "  _np_quint8 = np.dtype([(\"quint8\", np.uint8, 1)])\n",
      "/home/iudh/.local/lib/python3.7/site-packages/tensorflow/python/framework/dtypes.py:528: FutureWarning: Passing (type, 1) or '1type' as a synonym of type is deprecated; in a future version of numpy, it will be understood as (type, (1,)) / '(1,)type'.\n",
      "  _np_qint16 = np.dtype([(\"qint16\", np.int16, 1)])\n",
      "/home/iudh/.local/lib/python3.7/site-packages/tensorflow/python/framework/dtypes.py:529: FutureWarning: Passing (type, 1) or '1type' as a synonym of type is deprecated; in a future version of numpy, it will be understood as (type, (1,)) / '(1,)type'.\n",
      "  _np_quint16 = np.dtype([(\"quint16\", np.uint16, 1)])\n",
      "/home/iudh/.local/lib/python3.7/site-packages/tensorflow/python/framework/dtypes.py:530: FutureWarning: Passing (type, 1) or '1type' as a synonym of type is deprecated; in a future version of numpy, it will be understood as (type, (1,)) / '(1,)type'.\n",
      "  _np_qint32 = np.dtype([(\"qint32\", np.int32, 1)])\n",
      "/home/iudh/.local/lib/python3.7/site-packages/tensorflow/python/framework/dtypes.py:535: FutureWarning: Passing (type, 1) or '1type' as a synonym of type is deprecated; in a future version of numpy, it will be understood as (type, (1,)) / '(1,)type'.\n",
      "  np_resource = np.dtype([(\"resource\", np.ubyte, 1)])\n",
      "Using TensorFlow backend.\n"
     ]
    },
    {
     "data": {
      "image/png": "[encoded data removed]",
      "text/plain": [
       "<Figure size 432x432 with 4 Axes>"
      ]
     },
     "metadata": {
      "needs_background": "light"
     },
     "output_type": "display_data"
    }
   ],
   "source": [
    "import matplotlib.pyplot as plt\n",
    "%matplotlib inline\n",
    "import tensorflow as tf                       # quitar texto de tensorflow\n",
    "tf.logging.set_verbosity(tf.logging.ERROR)\n",
    "import warnings\n",
    "warnings.simplefilter(action='ignore', category=FutureWarning) # quita avisos\n",
    "\n",
    "from preprocessed_mnist import load_dataset\n",
    "X_train, y_train, X_val, y_val, X_test, y_test = load_dataset(flatten=True)\n",
    "\n",
    "plt.figure(figsize=[6,6])\n",
    "for i in range(4):\n",
    "    plt.subplot(2,2,i+1)\n",
    "    plt.title(\"Label: %i\"%y_train[i])\n",
    "    plt.imshow(X_train[i].reshape([28,28]),cmap='gray');"
   ]
  },
  {
   "cell_type": "markdown",
   "metadata": {},
   "source": [
    "We'll define network as a list of layers, each applied on top of previous one. In this setting, computing predictions and training becomes trivial."
   ]
  },
  {
   "cell_type": "code",
   "execution_count": null,
   "metadata": {},
   "outputs": [],
   "source": [
    "network = []\n",
    "network.append(Densa(X_train.shape[1],100))\n",
    "network.append(ReLU())\n",
    "network.append(Densa(100,200))\n",
    "network.append(ReLU())\n",
    "network.append(Densa(200,10))"
   ]
  },
  {
   "cell_type": "code",
   "execution_count": null,
   "metadata": {},
   "outputs": [],
   "source": [
    "def forward(network, X):\n",
    "    \"\"\"\n",
    "    Compute activations of all network layers by applying them sequentially.\n",
    "    Return a list of activations for each layer. \n",
    "    Make sure last activation corresponds to network logits.\n",
    "    \"\"\"\n",
    "    activations = []\n",
    "    input = X\n",
    "\n",
    "    for i in range(len(network)):\n",
    "        activations.append(network[i].forward(X))\n",
    "        X = network[i].forward(X)\n",
    "        \n",
    "    assert len(activations) == len(network)\n",
    "    return activations\n",
    "\n",
    "def predict(network,X):\n",
    "    \"\"\"\n",
    "    Compute network predictions.\n",
    "    \"\"\"\n",
    "    logits = forward(network,X)[-1]\n",
    "    return logits.argmax(axis=-1)\n",
    "\n",
    "def train(network,X,y):\n",
    "    \"\"\"\n",
    "    Train your network on a given batch of X and y.\n",
    "    You first need to run forward to get all layer activations.\n",
    "    Then you can run layer.backward going from last to first layer.\n",
    "    \n",
    "    After you called backward for all layers, all Dense layers have already made one gradient step.\n",
    "    \"\"\"\n",
    "    \n",
    "    # Get the layer activations\n",
    "    layer_activations = forward(network,X)\n",
    "    layer_inputs = [X]+layer_activations  #layer_input[i] is an input for network[i]\n",
    "    logits = layer_activations[-1]\n",
    "    \n",
    "    # Compute the loss and the initial gradient\n",
    "    loss = softmax_crossentropy_with_logits(logits,y)\n",
    "    loss_grad = grad_softmax_crossentropy_with_logits(logits,y)\n",
    "    \n",
    "    for i in range(1, len(network)):\n",
    "        loss_grad = network[len(network) - i].backward(layer_activations[len(network) - i - 1], loss_grad)\n",
    "        \n",
    "    return np.mean(loss)"
   ]
  },
  {
   "cell_type": "markdown",
   "metadata": {},
   "source": [
    "Instead of tests, we provide you with a training loop that prints training and validation accuracies on every epoch.\n",
    "\n",
    "If your implementation of forward and backward are correct, your accuracy should grow from 90~93% to >97% with the default network."
   ]
  },
  {
   "cell_type": "markdown",
   "metadata": {},
   "source": [
    "### Training loop\n",
    "\n",
    "As usual, we split data into minibatches, feed each such minibatch into the network and update weights."
   ]
  },
  {
   "cell_type": "code",
   "execution_count": null,
   "metadata": {},
   "outputs": [],
   "source": [
    "def iterate_minibatches(inputs, targets, batchsize, shuffle=False):\n",
    "    assert len(inputs) == len(targets)\n",
    "    if shuffle:\n",
    "        indices = np.random.permutation(len(inputs))\n",
    "    for start_idx in tqdm_utils.tqdm_notebook_failsafe(range(0, len(inputs) - batchsize + 1, batchsize)):\n",
    "        if shuffle:\n",
    "            excerpt = indices[start_idx:start_idx + batchsize]\n",
    "        else:\n",
    "            excerpt = slice(start_idx, start_idx + batchsize)\n",
    "        yield inputs[excerpt], targets[excerpt]"
   ]
  },
  {
   "cell_type": "code",
   "execution_count": null,
   "metadata": {},
   "outputs": [],
   "source": [
    "from IPython.display import clear_output\n",
    "train_log = []\n",
    "val_log = []"
   ]
  },
  {
   "cell_type": "code",
   "execution_count": null,
   "metadata": {},
   "outputs": [
    {
     "name": "stdout",
     "output_type": "stream",
     "text": [
      "Epoch 11\n",
      "Train accuracy: 0.85156\n",
      "Val accuracy: 0.8642\n"
     ]
    },
    {
     "data": {
      "image/png": "[encoded data removed]",
      "text/plain": [
       "<Figure size 432x288 with 1 Axes>"
      ]
     },
     "metadata": {
      "needs_background": "light"
     },
     "output_type": "display_data"
    },
    {
     "data": {
      "application/vnd.jupyter.widget-view+json": {
       "model_id": "4fcc4387f2a249a289d8e30aa8f9201c",
       "version_major": 2,
       "version_minor": 0
      },
      "text/plain": [
       "HBox(children=(IntProgress(value=0, max=1562), HTML(value='')))"
      ]
     },
     "metadata": {},
     "output_type": "display_data"
    },
    {
     "name": "stdout",
     "output_type": "stream",
     "text": [
      "\n"
     ]
    }
   ],
   "source": [
    "for epoch in range(25):\n",
    "\n",
    "    for x_batch,y_batch in iterate_minibatches(X_train,y_train,batchsize=32,shuffle=True):\n",
    "        train(network,x_batch,y_batch)\n",
    "    \n",
    "    train_log.append(np.mean(predict(network,X_train)==y_train))\n",
    "    val_log.append(np.mean(predict(network,X_val)==y_val))\n",
    "    \n",
    "    clear_output()\n",
    "    print(\"Epoch\",epoch)\n",
    "    print(\"Train accuracy:\",train_log[-1])\n",
    "    print(\"Val accuracy:\",val_log[-1])\n",
    "    plt.plot(train_log,label='train accuracy')\n",
    "    plt.plot(val_log,label='val accuracy')\n",
    "    plt.legend(loc='best')\n",
    "    plt.grid()\n",
    "    plt.show()\n",
    "    "
   ]
  },
  {
   "cell_type": "markdown",
   "metadata": {},
   "source": [
    "### Peer-reviewed assignment\n",
    "\n",
    "Congradulations, you managed to get this far! There is just one quest left undone, and this time you'll get to choose what to do.\n",
    "\n",
    "\n",
    "#### Option I: initialization\n",
    "* Implement Dense layer with Xavier initialization as explained [here](http://bit.ly/2vTlmaJ)\n",
    "\n",
    "To pass this assignment, you must conduct an experiment showing how xavier initialization compares to default initialization on deep networks (5+ layers).\n",
    "\n",
    "\n",
    "#### Option II: regularization\n",
    "* Implement a version of Dense layer with L2 regularization penalty: when updating Dense Layer weights, adjust gradients to minimize\n",
    "\n",
    "$$ Loss = Crossentropy + \\alpha \\cdot \\underset i \\sum {w_i}^2 $$\n",
    "\n",
    "To pass this assignment, you must conduct an experiment showing if regularization mitigates overfitting in case of abundantly large number of neurons. Consider tuning $\\alpha$ for better results.\n",
    "\n",
    "#### Option III: optimization\n",
    "* Implement a version of Dense layer that uses momentum/rmsprop or whatever method worked best for you last time.\n",
    "\n",
    "Most of those methods require persistent parameters like momentum direction or moving average grad norm, but you can easily store those params inside your layers.\n",
    "\n",
    "To pass this assignment, you must conduct an experiment showing how your chosen method performs compared to vanilla SGD.\n",
    "\n",
    "### General remarks\n",
    "_Please read the peer-review guidelines before starting this part of the assignment._\n",
    "\n",
    "In short, a good solution is one that:\n",
    "* is based on this notebook\n",
    "* runs in the default course environment with Run All\n",
    "* its code doesn't cause spontaneous eye bleeding\n",
    "* its report is easy to read.\n",
    "\n",
    "_Formally we can't ban you from writing boring reports, but if you bored your reviewer to death, there's noone left alive to give you the grade you want._\n",
    "\n",
    "\n",
    "### Bonus assignments\n",
    "\n",
    "As a bonus assignment (no points, just swag), consider implementing Batch Normalization ([guide](https://gab41.lab41.org/batch-normalization-what-the-hey-d480039a9e3b)) or Dropout ([guide](https://medium.com/@amarbudhiraja/https-medium-com-amarbudhiraja-learning-less-to-learn-better-dropout-in-deep-machine-learning-74334da4bfc5)). Note, however, that those \"layers\" behave differently when training and when predicting on test set.\n",
    "\n",
    "* Dropout:\n",
    "  * During training: drop units randomly with probability __p__ and multiply everything by __1/(1-p)__\n",
    "  * During final predicton: do nothing; pretend there's no dropout\n",
    "  \n",
    "* Batch normalization\n",
    "  * During training, it substracts mean-over-batch and divides by std-over-batch and updates mean and variance.\n",
    "  * During final prediction, it uses accumulated mean and variance.\n"
   ]
  }
 ],
 "metadata": {
  "kernelspec": {
   "display_name": "Python 3",
   "language": "python",
   "name": "python3"
  },
  "language_info": {
   "codemirror_mode": {
    "name": "ipython",
    "version": 3
   },
   "file_extension": ".py",
   "mimetype": "text/x-python",
   "name": "python",
   "nbconvert_exporter": "python",
   "pygments_lexer": "ipython3",
   "version": "3.7.2"
  },
  "toc": {
   "colors": {
    "hover_highlight": "#DAA520",
    "navigate_num": "#000000",
    "navigate_text": "#333333",
    "running_highlight": "#FF0000",
    "selected_highlight": "#FFD700",
    "sidebar_border": "#EEEEEE",
    "wrapper_background": "#FFFFFF"
   },
   "moveMenuLeft": true,
   "nav_menu": {
    "height": "264px",
    "width": "252px"
   },
   "navigate_menu": true,
   "number_sections": true,
   "sideBar": true,
   "threshold": 4,
   "toc_cell": false,
   "toc_section_display": "block",
   "toc_window_display": false,
   "widenNotebook": false
  }
 },
 "nbformat": 4,
 "nbformat_minor": 2
}
