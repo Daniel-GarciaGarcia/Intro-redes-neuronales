{
 "cells": [
  {
   "cell_type": "markdown",
   "metadata": {
    "slideshow": {
     "slide_type": "slide"
    }
   },
   "source": [
    "# Profundizando en Tensorflow\n",
    "\n",
    "Aqui vamos a estudiar las herramientas que se usaran para construir modelos de deep learning, esto es [Tensorflow](https://www.tensorflow.org/).\n",
    "\n",
    "En primer lugar, instalar Tensorflow con pip:\n",
    "* `pip install tensorflow` , solo TF en cpu tanto en Linux comom en Mac OS\n",
    "* Si quieres soporte para GPU mira esta pagina: [instalacion TF](https://www.tensorflow.org/install/)"
   ]
  },
  {
   "cell_type": "markdown",
   "metadata": {},
   "source": [
    "# Visualizacion"
   ]
  },
  {
   "cell_type": "markdown",
   "metadata": {},
   "source": [
    "Ejecutando este notebook localmente, el acceso a TensorBoard seria en http://127.0.0.1:7007/"
   ]
  },
  {
   "cell_type": "code",
   "execution_count": 1,
   "metadata": {},
   "outputs": [
    {
     "name": "stdout",
     "output_type": "stream",
     "text": [
      "No matching processes belonging to you were found\r\n"
     ]
    }
   ],
   "source": [
    "! killall tensorboard\n",
    "import os\n",
    "os.system('tensorboard --logdir=/tmp/tboard --port=7007 &');"
   ]
  },
  {
   "cell_type": "code",
   "execution_count": 2,
   "metadata": {},
   "outputs": [
    {
     "name": "stdout",
     "output_type": "stream",
     "text": [
      "WARNING:tensorflow:From /Users/data/Intro-redes-neuronales/Keras-Tensorflow/keras_utils.py:68: The name tf.get_default_session is deprecated. Please use tf.compat.v1.get_default_session instead.\n",
      "\n",
      "WARNING:tensorflow:From /Users/data/Intro-redes-neuronales/Keras-Tensorflow/keras_utils.py:75: The name tf.ConfigProto is deprecated. Please use tf.compat.v1.ConfigProto instead.\n",
      "\n",
      "WARNING:tensorflow:From /Users/data/Intro-redes-neuronales/Keras-Tensorflow/keras_utils.py:77: The name tf.InteractiveSession is deprecated. Please use tf.compat.v1.InteractiveSession instead.\n",
      "\n"
     ]
    },
    {
     "name": "stderr",
     "output_type": "stream",
     "text": [
      "Using TensorFlow backend.\n"
     ]
    }
   ],
   "source": [
    "import warnings\n",
    "warnings.simplefilter(action='ignore', category=FutureWarning)\n",
    "import tensorflow as tf\n",
    "from keras_utils import reset_tf_session\n",
    "s = reset_tf_session()"
   ]
  },
  {
   "cell_type": "markdown",
   "metadata": {},
   "source": [
    "# Empezando\n",
    "Para empezar vamos a implementar una funcion que calcule la suma de los cuadrados de los numeros de 0 a N-1."
   ]
  },
  {
   "cell_type": "code",
   "execution_count": 3,
   "metadata": {},
   "outputs": [],
   "source": [
    "import numpy as np\n",
    "def suma_cuad(N):\n",
    "    return np.sum(np.arange(N)**2)"
   ]
  },
  {
   "cell_type": "code",
   "execution_count": 4,
   "metadata": {},
   "outputs": [
    {
     "name": "stdout",
     "output_type": "stream",
     "text": [
      "CPU times: user 718 µs, sys: 672 µs, total: 1.39 ms\n",
      "Wall time: 814 µs\n"
     ]
    },
    {
     "data": {
      "text/plain": [
       "333328333350000"
      ]
     },
     "execution_count": 4,
     "metadata": {},
     "output_type": "execute_result"
    }
   ],
   "source": [
    "%%time\n",
    "suma_cuad(10**5)"
   ]
  },
  {
   "cell_type": "markdown",
   "metadata": {},
   "source": [
    "# Tensoflow \n",
    "\n",
    "Hacemos exactamente lo mismo con Tensorflow"
   ]
  },
  {
   "cell_type": "code",
   "execution_count": 5,
   "metadata": {},
   "outputs": [],
   "source": [
    "# Un parametro entero\n",
    "N = tf.placeholder('int64', name='entrada_a_la_funcion')\n",
    "\n",
    "# Produce el mimso resultado\n",
    "res = tf.reduce_sum(tf.range(N)**2)"
   ]
  },
  {
   "cell_type": "code",
   "execution_count": 6,
   "metadata": {},
   "outputs": [
    {
     "data": {
      "text/plain": [
       "<tf.Tensor 'Sum:0' shape=() dtype=int64>"
      ]
     },
     "execution_count": 6,
     "metadata": {},
     "output_type": "execute_result"
    }
   ],
   "source": [
    "res"
   ]
  },
  {
   "cell_type": "code",
   "execution_count": 7,
   "metadata": {},
   "outputs": [
    {
     "name": "stdout",
     "output_type": "stream",
     "text": [
      "CPU times: user 3.12 ms, sys: 1.3 ms, total: 4.42 ms\n",
      "Wall time: 2.61 ms\n"
     ]
    },
    {
     "data": {
      "text/plain": [
       "333328333350000"
      ]
     },
     "execution_count": 7,
     "metadata": {},
     "output_type": "execute_result"
    }
   ],
   "source": [
    "%%time\n",
    "res.eval({N: 10**5})"
   ]
  },
  {
   "cell_type": "code",
   "execution_count": 8,
   "metadata": {},
   "outputs": [],
   "source": [
    "escritor = tf.summary.FileWriter('/tmp/tboard', graph=s.graph)"
   ]
  },
  {
   "cell_type": "markdown",
   "metadata": {},
   "source": [
    "# ¿Como funciona?\n",
    "1. Se definen unos marcadores (placeholders) donde se envian las entradas (inputs)\n",
    "2. Se hace un grafo simbolico (symbolic graph): una receta para transformaciones matematicas de esos marcadores \n",
    "3. Se calculan las salidas del grafo con valores para cada marcador\n",
    "  * `salida.eval({marcador:valor})`\n",
    "  * `s.run(salida, {marcador:valor})`\n",
    "\n",
    "Asi que existen dos entidades principales: el marcador (placeholder) y la transformacion matematica\n",
    "* Ambos pueden ser numeros, vectores, matrices, tensores, etc...\n",
    "* Ambos pueden ser int32/64, floats, booleanos (uint8)...\n",
    "* Se pueden definir nuevas transformaciones como operaciones arbitrarias en los marcadores y otras transformaciones\n",
    " * `tf.reduce_sum(tf.arange(N)**2)` son 3 transformaciones secuenciales del marcador `N`\n",
    " * Hay una version simbolica en Tensorflow para cada funcion de numpy \n",
    "   * `a+b, a/b, a**b, ...` se comporta igual que en numpy\n",
    "   * `np.mean` -> `tf.reduce_mean`\n",
    "   * `np.arange` -> `tf.range`\n",
    "   * `np.cumsum` -> `tf.cumsum`\n",
    "   * Si no encuentras la funcion que necesitas, puedes mirar la [documentacion](https://www.tensorflow.org/api_docs/python).\n",
    "   \n",
    "`tf.contrib` tiene muchas caracteristicas de alto nivel, echale un ojo."
   ]
  },
  {
   "cell_type": "code",
   "execution_count": 9,
   "metadata": {},
   "outputs": [],
   "source": [
    "with tf.name_scope('Ejemplo_marcadores'):\n",
    "    # El marcador por defecto (placeholder) puede ser arbitrariamente float32\n",
    "    # escalar, vector, matrix, etc...\n",
    "    entrada_arbitraria = tf.placeholder('float32')\n",
    "\n",
    "    # Vector de entrada de longitud arbitraria\n",
    "    vector_entrada = tf.placeholder('float32', shape=(None,))\n",
    "\n",
    "    # Vector de entrada que tienec 10 elementos de tipo entero\n",
    "    vector_fijo = tf.placeholder('int32', shape=(10,))\n",
    "\n",
    "    # Matriz con numero de filas arbitrario y 15 columnas\n",
    "    # (e.g. una muestra de tu tabla de datos)\n",
    "    matriz_entrada = tf.placeholder('float32', shape=(None, 15))\n",
    "    \n",
    "    # Generalmente se usa None cuando no se necesita especificar la dimension\n",
    "    entrada1 = tf.placeholder('float64', shape=(None, 100, None))\n",
    "    entrada2 = tf.placeholder('int32', shape=(None, None, 3, 224, 224))\n",
    "\n",
    "    # Multiplicacion elemento a elemento\n",
    "    vector_doble = vector_entrada*2\n",
    "\n",
    "    # Coseno\n",
    "    coseno = tf.cos(vector_entrada)\n",
    "\n",
    "    # Diferencia entre el vector al cuadrado y el propio vector mas uno \n",
    "    cuadrado_vector = vector_entrada**2 - vector_entrada + 1"
   ]
  },
  {
   "cell_type": "code",
   "execution_count": 10,
   "metadata": {},
   "outputs": [],
   "source": [
    "mi_vector =  tf.placeholder('float32', shape=(None,), name=\"VECTOR_1\")\n",
    "mi_vector2 = tf.placeholder('float32', shape=(None,))\n",
    "mi_transformacion = mi_vector * mi_vector2 / (tf.sin(mi_vector) + 1)"
   ]
  },
  {
   "cell_type": "code",
   "execution_count": 11,
   "metadata": {},
   "outputs": [
    {
     "name": "stdout",
     "output_type": "stream",
     "text": [
      "Tensor(\"truediv:0\", shape=(?,), dtype=float32)\n"
     ]
    }
   ],
   "source": [
    "print(mi_transformacion)"
   ]
  },
  {
   "cell_type": "code",
   "execution_count": 12,
   "metadata": {},
   "outputs": [
    {
     "name": "stdout",
     "output_type": "stream",
     "text": [
      "[0. 1. 2. 3. 4.]\n"
     ]
    },
    {
     "data": {
      "text/plain": [
       "array([0.       , 1.6291324, 2.0950115, 2.6289961, 0.       ],\n",
       "      dtype=float32)"
      ]
     },
     "execution_count": 12,
     "metadata": {},
     "output_type": "execute_result"
    }
   ],
   "source": [
    "dummy = np.arange(5).astype('float32')\n",
    "print(dummy)\n",
    "mi_transformacion.eval({mi_vector:dummy, mi_vector2:dummy[::-1]})"
   ]
  },
  {
   "cell_type": "code",
   "execution_count": 13,
   "metadata": {},
   "outputs": [],
   "source": [
    "escritor.add_graph(mi_transformacion.graph)\n",
    "escritor.flush()"
   ]
  },
  {
   "cell_type": "markdown",
   "metadata": {},
   "source": [
    "TensorBoard permite escribir escalares, imagenes, audio, histogramas. Puedes leer mas sobre tensorboard [aqui](https://www.tensorflow.org/get_started/graph_viz)."
   ]
  },
  {
   "cell_type": "markdown",
   "metadata": {},
   "source": [
    "# Resumen\n",
    "* Tensorflow esta basado en la computacion de grafos\n",
    "* Los grafos constan de marcadores (placeholders) y transformaciones"
   ]
  },
  {
   "cell_type": "markdown",
   "metadata": {},
   "source": [
    "# Error cuadratico medio\n",
    "\n",
    "La tarea es implementar el error cuadratico medio en Tensorflow."
   ]
  },
  {
   "cell_type": "code",
   "execution_count": 14,
   "metadata": {},
   "outputs": [],
   "source": [
    "y = np.arange(5)\n",
    "y_pred = np.arange(5)[::-1]"
   ]
  },
  {
   "cell_type": "code",
   "execution_count": 15,
   "metadata": {},
   "outputs": [
    {
     "data": {
      "text/plain": [
       "array([16,  4,  0,  4, 16])"
      ]
     },
     "execution_count": 15,
     "metadata": {},
     "output_type": "execute_result"
    }
   ],
   "source": [
    "(y - y_pred) ** 2"
   ]
  },
  {
   "cell_type": "code",
   "execution_count": 16,
   "metadata": {},
   "outputs": [],
   "source": [
    "with tf.name_scope('MSE'):\n",
    "    y_true = tf.placeholder('float32', shape=(None,), name='y_true')\n",
    "    y_predicho = tf.placeholder('float32', shape=(None,), name='y_predicho')\n",
    "    mse = tf.reduce_mean((y_true - y_predicho) ** 2)\n",
    "def c_mse(vector1, vector2):\n",
    "    return mse.eval({y_true: vector1, y_predicho: vector2})"
   ]
  },
  {
   "cell_type": "code",
   "execution_count": 17,
   "metadata": {},
   "outputs": [],
   "source": [
    "escritor.add_graph(mse.graph)\n",
    "escritor.flush()"
   ]
  },
  {
   "cell_type": "code",
   "execution_count": 19,
   "metadata": {},
   "outputs": [],
   "source": [
    "# Testeo local de la implementacion del MSE\n",
    "import sklearn.metrics\n",
    "for n in [1, 5, 10, 10**3]:\n",
    "    elems = [np.arange(n), np.arange(n, 0, -1), np.zeros(n),\n",
    "             np.ones(n), np.random.random(n), np.random.randint(100, size=n)]\n",
    "    for e in elems:\n",
    "        for e_2 in elems:\n",
    "            true_mse = np.array(sklearn.metrics.mean_squared_error(e, e_2))\n",
    "            mi_mse = c_mse(e, e_2)\n",
    "            if not np.allclose(true_mse, mi_mse):\n",
    "                print('mse({},{})'.format(e, e_2))\n",
    "                print('deberia ser: {}, pero la funcion devuelve {}'.format(true_mse, mi_mse))\n",
    "                raise ValueError('Resultado incorrecto')"
   ]
  },
  {
   "cell_type": "markdown",
   "metadata": {},
   "source": [
    "# Variables\n",
    "\n",
    "Las entradas y las transformaciones no tienen valores fuera de la funcion. Esto no es demasiado comodo si quieres que el modelo tenga parametros (e.g. pesos de la red) que cambien en el tiempo.\n",
    "\n",
    "Tensorflow soluciona esto con objetos `tf.Variable`.\n",
    "* Se puede asignar a la variable un valor en cualquier momento en el grafo\n",
    "* A diferencia de los marcadores, no hay necesidad de pasar explicitamente valores a las variables cuando se ejecuta `s.run(...)`\n",
    "* Se pueden usar variables de la misma manera que se usan transformaciones \n",
    " "
   ]
  },
  {
   "cell_type": "code",
   "execution_count": 20,
   "metadata": {},
   "outputs": [],
   "source": [
    "# Creando una variable compartida\n",
    "comp_vector_1 = tf.Variable(initial_value=np.ones(5), name='ejemplo_variable')"
   ]
  },
  {
   "cell_type": "code",
   "execution_count": 21,
   "metadata": {},
   "outputs": [
    {
     "name": "stdout",
     "output_type": "stream",
     "text": [
      "Initial value [1. 1. 1. 1. 1.]\n"
     ]
    }
   ],
   "source": [
    "# Inicializar variables con valores iniciales\n",
    "s.run(tf.global_variables_initializer())\n",
    "\n",
    "# Evaluando la variable compartida \n",
    "print('Valor inicial', s.run(comp_vector_1))\n"
   ]
  },
  {
   "cell_type": "code",
   "execution_count": 22,
   "metadata": {},
   "outputs": [
    {
     "name": "stdout",
     "output_type": "stream",
     "text": [
      "New value [0. 1. 2. 3. 4.]\n"
     ]
    }
   ],
   "source": [
    "# Configurando nuevo valor\n",
    "s.run(comp_vector_1.assign(np.arange(5)))\n",
    "\n",
    "# Obteniendo nuevo valor\n",
    "print('Nuevo valor', s.run(comp_vector_1))"
   ]
  },
  {
   "cell_type": "markdown",
   "metadata": {},
   "source": [
    "# tf.gradients - por que importan los grafos\n",
    "* Tensorflow can computar las derivadas y los gradientes automaticamente usando la computacion de grafos\n",
    "* Puede manejar derivadas de matrices\n",
    "* Los gradientes se calculan como un producto de derivadas a traves de la regla de la cadena:\n",
    "\n",
    "$$ {\\partial f(g(x)) \\over \\partial x} = {\\partial f(g(x)) \\over \\partial g(x)}\\cdot {\\partial g(x) \\over \\partial x} $$\n",
    "\n",
    "Por lo tanto se puede derivar cualquier grafo si se sabe derivar de manera elemental."
   ]
  },
  {
   "cell_type": "code",
   "execution_count": 28,
   "metadata": {},
   "outputs": [],
   "source": [
    "escalar = tf.placeholder('float32')\n",
    "\n",
    "escalar_cuadrado = escalar**2\n",
    "\n",
    "# Derivada del cuadrado del escalar por el propio escalar\n",
    "derivada = tf.gradients(escalar_cuadrado, [escalar, ])"
   ]
  },
  {
   "cell_type": "code",
   "execution_count": 29,
   "metadata": {},
   "outputs": [
    {
     "data": {
      "text/plain": [
       "[<tf.Tensor 'gradients_3/pow_11_grad/Reshape:0' shape=<unknown> dtype=float32>]"
      ]
     },
     "execution_count": 29,
     "metadata": {},
     "output_type": "execute_result"
    }
   ],
   "source": [
    "derivada"
   ]
  },
  {
   "cell_type": "code",
   "execution_count": 34,
   "metadata": {},
   "outputs": [
    {
     "data": {
      "image/png": "[encoded data removed]",
      "text/plain": [
       "<Figure size 576x432 with 1 Axes>"
      ]
     },
     "metadata": {
      "needs_background": "light"
     },
     "output_type": "display_data"
    }
   ],
   "source": [
    "import matplotlib.pyplot as plt\n",
    "%matplotlib inline\n",
    "\n",
    "x = np.linspace(-3, 3)\n",
    "x_cuad, x_cuad_der = s.run([escalar_cuadrado, derivada[0]], {escalar:x})\n",
    "\n",
    "plt.figure(figsize=(8,6))\n",
    "plt.plot(x, x_cuad, label='$x^2$')\n",
    "plt.plot(x, x_cuad_der, label=r'$\\frac{dx^2}{dx}$')\n",
    "plt.legend();"
   ]
  },
  {
   "cell_type": "markdown",
   "metadata": {},
   "source": [
    "# Por que mola"
   ]
  },
  {
   "cell_type": "code",
   "execution_count": 42,
   "metadata": {},
   "outputs": [],
   "source": [
    "mi_vector = tf.placeholder('float32', [None])\n",
    "\n",
    "# Calcula el gradiente de la siguiente funcion respecto del escalar y del vector\n",
    "# !Peligro! Tratar de entender el significado de la siguiente funcion puede resultar en daño cerebral permanente\n",
    "\n",
    "funcion_psycho = tf.reduce_mean((mi_vector+escalar)**(1+tf.nn.moments(mi_vector,[0])[1]) + \n",
    "                                 1./ tf.atan(escalar))/(escalar**2 + 1) + 0.01*tf.sin(\n",
    "                                 2*escalar**1.5)*(tf.reduce_sum(mi_vector)* escalar**2\n",
    "                                 )*tf.exp((escalar-4)**2)/(\n",
    "                                 1+tf.exp((escalar-4)**2))*(1.-(tf.exp(-(escalar-4)**2)\n",
    "                                 )/(1+tf.exp(-(escalar-4)**2)))**2\n",
    "\n",
    "deriv_escalar = tf.gradients(funcion_psycho, escalar)\n",
    "derir_vector = tf.gradients(funcion_psycho, mi_vector)"
   ]
  },
  {
   "cell_type": "code",
   "execution_count": 45,
   "metadata": {},
   "outputs": [
    {
     "data": {
      "image/png": "[encoded data removed]",
      "text/plain": [
       "<Figure size 576x432 with 1 Axes>"
      ]
     },
     "metadata": {
      "needs_background": "light"
     },
     "output_type": "display_data"
    }
   ],
   "source": [
    "# Ploteando la derivada\n",
    "espacio_escalar = np.linspace(1, 7, 100)\n",
    "\n",
    "y = [s.run(funcion_psycho, {escalar: x, mi_vector:[1, 2, 3]}) for x in espacio_escalar]\n",
    "\n",
    "plt.figure(figsize=(8,6))\n",
    "plt.plot(espacio_escalar, y, label='funcion')\n",
    "\n",
    "y_deriv_escalar = [s.run(deriv_escalar, {escalar: x, mi_vector:[1, 2, 3]}) for x in espacio_escalar]\n",
    "\n",
    "plt.plot(scalar_space, y_deriv_escalar, label='derivada')\n",
    "plt.grid()\n",
    "plt.legend();"
   ]
  },
  {
   "cell_type": "markdown",
   "metadata": {},
   "source": [
    "# Casi hecho - optimizadores\n",
    "\n",
    "Mientras que se puede realizar el gradiente descente a mano con los gradientes de arriba, Tensorflow tambien tiene algunos metodos de optimizacion para implementar (momentum y rmsprop)."
   ]
  },
  {
   "cell_type": "code",
   "execution_count": 46,
   "metadata": {},
   "outputs": [],
   "source": [
    "y_supuesto = tf.Variable(np.zeros(2, dtype='float32'))\n",
    "y_true = tf.range(1, 3, dtype='float32')\n",
    "perdida = tf.reduce_mean((y_supuesto - y_true + tf.random_normal([2]))**2) \n",
    "#perdida = tf.reduce_mean((y_supuesto - y_true)**2) \n",
    "optimizador = tf.train.MomentumOptimizer(0.01, 0.5).minimize(perdida, var_list=y_supuesto)"
   ]
  },
  {
   "cell_type": "code",
   "execution_count": 54,
   "metadata": {},
   "outputs": [
    {
     "data": {
      "image/png": "[encoded data removed]",
      "text/plain": [
       "<Figure size 432x288 with 1 Axes>"
      ]
     },
     "metadata": {
      "needs_background": "light"
     },
     "output_type": "display_data"
    }
   ],
   "source": [
    "from matplotlib import animation, rc\n",
    "import matplotlib_utils\n",
    "from IPython.display import HTML, display_html\n",
    "\n",
    "fig, ax = plt.subplots()\n",
    "y_true_val = s.run(y_true)\n",
    "nivel_x = np.arange(0, 2, 0.02)\n",
    "nivel_y = np.arange(0, 3, 0.02)\n",
    "X, Y = np.meshgrid(nivel_x, nivel_y)\n",
    "Z = (X - y_true_val[0])**2 + (Y - y_true_val[1])**2\n",
    "ax.set_xlim(-0.02, 2)\n",
    "ax.set_ylim(-0.02, 3)\n",
    "s.run(tf.global_variables_initializer())\n",
    "ax.scatter(*s.run(y_true), c='red')\n",
    "contorno = ax.contour(X, Y, Z, 10)\n",
    "ax.clabel(contorno, inline=1, fontsize=10)\n",
    "linea, = ax.plot([], [], lw=2)\n",
    "\n",
    "def inicio():\n",
    "    linea.set_data([], [])\n",
    "    return (linea,)\n",
    "\n",
    "supuestos = [s.run(y_supuesto)]\n",
    "\n",
    "def animacion(i):\n",
    "    s.run(optimizador)\n",
    "    supuestos.append(s.run(y_supuesto))\n",
    "    linea.set_data(*zip(*supuestos))\n",
    "    return (linea,)\n",
    "\n",
    "anim = animation.FuncAnimation(fig, animacion, init_func=inicio , frames=400, interval=20, blit=True)"
   ]
  },
  {
   "cell_type": "code",
   "execution_count": 56,
   "metadata": {},
   "outputs": [
    {
     "data": {
      "text/html": [
       "<img src=\"data:image/jpeg;base64,/9j/4AAQSkZJRgABAQEASABIAAD/2wBDAAIBAQEBAQIBAQECAgICAgQDAgICAgUEBAMEBgUGBgYFBgYGBwkIBgcJBwYGCAsICQoKCgoKBggLDAsKDAkKCgr/2wBDAQICAgICAgUDAwUKBwYHCgoKCgoKCgoKCgoKCgoKCgoKCgoKCgoKCgoKCgoKCgoKCgoKCgoKCgoKCgoKCgoKCgr/wAARCAEgAbADASIAAhEBAxEB/8QAHwAAAQUBAQEBAQEAAAAAAAAAAAECAwQFBgcICQoL/8QAtRAAAgEDAwIEAwUFBAQAAAF9AQIDAAQRBRIhMUEGE1FhByJxFDKBkaEII0KxwRVS0fAkM2JyggkKFhcYGRolJicoKSo0NTY3ODk6Q0RFRkdISUpTVFVWV1hZWmNkZWZnaGlqc3R1dnd4eXqDhIWGh4iJipKTlJWWl5iZmqKjpKWmp6ipqrKztLW2t7i5usLDxMXGx8jJytLT1NXW19jZ2uHi4%2BTl5ufo6erx8vP09fb3%2BPn6/8QAHwEAAwEBAQEBAQEBAQAAAAAAAAECAwQFBgcICQoL/8QAtREAAgECBAQDBAcFBAQAAQJ3AAECAxEEBSExBhJBUQdhcRMiMoEIFEKRobHBCSMzUvAVYnLRChYkNOEl8RcYGRomJygpKjU2Nzg5OkNERUZHSElKU1RVVldYWVpjZGVmZ2hpanN0dXZ3eHl6goOEhYaHiImKkpOUlZaXmJmaoqOkpaanqKmqsrO0tba3uLm6wsPExcbHyMnK0tPU1dbX2Nna4uPk5ebn6Onq8vP09fb3%2BPn6/9oADAMBAAIRAxEAPwD9/KKKKACiiigAooooAKKKKACiiigAooooAKKKKACiiigAooooAKKKKACiiigAooooAKKKKACiiigAooooAKKKKACiiigAooooAKKKKACiiigAooooAKKKKACiiigAooooAKKKKACiiigAooooAKKKKACiiigAorj/AAR%2B0J8A/iZ431n4Z/Dj44eD/EHiTw5JJH4h8P6J4ltbu%2B0t0kMTrcQRSNJAVkBQh1GGG088VZsPjb8GNV%2BKV78DdL%2BLvhi58babZLeaj4Pt9ftn1S1tiEImktA/nJGRJHh2UA7155FAHT0UUUAFFFFABRRRQAUUUUAFFFFABRRRQAUUUUAFFFFABRRRQAUUUUAFFFFABRRRQAUUUUAFFFFABRRRQAUUUUAFFFFABRRRQAUUUUAFFFFABRRRQAUUUUAFFFFABRRRQAUUUUAFFFFAHyM/iK78Sf8ABRXRvjLpWnfFnWdA8OeFNe0jVrLxH8LL/T9N8KS3FxpcStpco06CXVDdy2xaQ%2BZfIiIZkktolxJy/wANfAHxBg/ae8IfDi4%2BFHii313wp%2B0r428deJvGNx4Zuo9Ku/Dmo6XrcVj5epNGLe6kI1LSbU2qSNKn2BmZFWBCfuGigDxD9tfx3%2B078LPC2i%2BNvgH4%2B8B6bbXPi/w54f1Cx8X%2BA73VZHfVddsdL%2B0Ry22q2YjESXhk8so%2B8xgb0ByLP/CD/wDBQv8A6Og%2BDP8A4YfVv/moo/bw/wCSIaH/ANlm%2BHH/AKmuiV7NQB4z/wAIP/wUL/6Og%2BDP/hh9W/8AmoqtrPh/9vPw7pNzr/iD9rX4IWNjZQPPeXt58DtUihgiUFmd3bxSFVQASSSAAK7j4d/HDTPH/wAQPEnw2uPBut6Dqfh4xyJHrkUMf9pWjySxLeW4jlctCZYJUywVuFJUB1J8N8X%2BGfjB4f0nxN8PvjTo19q%2Bm/EHxPL4btPGMvjF57hUvHkNjJDpaQrDbQQsyROY2EpCmZgVUmuqlhXOfLN2206tPtrba7/pnNUxCjDmir7/ACa7/PQyvEfxw/bt1ODwynwE/aT%2BAvjm58UXl7FZLH8JtUs4QLSHzp18w%2BJJP323aFiKgtu3EqgZh2/wr1D9u/4t%2BArDx94f/aa%2BEEMF6JFltbr4Cass1rPFI0U0Eg/4Snh45Y5I2HqhrL8NfB74s/GD4kXPjDxV4N1PwDq%2Bl2Ol3L66zW0sNx4itXkR7i3jilPnW0lrLJE5YRlkuGT7y5T2/wCDPwzuPhV4Ok0LUvEQ1fUb3VLzU9W1JLIWyXF1cztNIUiDN5aAttVdzEBRlmOSdMTTw1OmoxfvffvfqtNrbWflrpFCeIqTvJe793bvr3/pa%2BD%2BCU/4LGeIfidq%2BjeLPFnwF8P%2BELCeaHTdfn%2BHGqXN9qe1sRzJZxeISsUbgE/vJw4yPk6477/hB/8AgoX/ANHQfBn/AMMPq3/zUV7NRXJOSm7pJel/1bOqEXFWbv6/8Cx4z/wg/wDwUL/6Og%2BDP/hh9W/%2Baij/AIQf/goX/wBHQfBn/wAMPq3/AM1FezVi%2BPfiT8O/hX4fk8V/E7x5o3h3S4v9ZqOuanFaQL35eVlX9amMZSdoq7K2PM/%2BEH/4KF/9HQfBn/ww%2Brf/ADUUf8IP/wAFC/8Ao6D4M/8Ahh9W/wDmormpv%2BClvwf8YTvp37M3w08f/F%2B5VzH9o8C%2BFZf7NSTOAH1G7MFqF/2lkb6HFNHij/gqB8VedA%2BF3ww%2BElhJ8rS%2BKNauPEmqRj%2B8IbMQWyt7GZxn1612f2fiI/xbQ/xNJ/drL/yUjnj01On/AOEH/wCChf8A0dB8Gf8Aww%2Brf/NRWZ4rT9tjwJpp1nxx%2B2d8BtGs1%2B9d6r8FtSt4h/wKTxUB%2BtZo/Yf%2BMnjv97%2B0D%2B3/APFHXM/e07wU9r4WsmXupFlGbgj6zk4PJNanhX/gmT%2Bwp4W1Ia7cfs56L4g1HgvqXjSSbXbh267i%2BoSTHOeeMY7Yo9lgYfHVcv8ADH9ZNfkF5vZHjHij/goFqvhbUTo5/wCCnf7PGsXoyPsXhP4Ea5rcxPoE0/xLMSe2MVm/8Nt/t7a9/wAkv8P6l4qR/wDUXdr%2ByBrWnW0voRLqXi22G335%2Blfb3hfwb4Q8EacNH8F%2BFdN0i0X7trpdjHbxj/gMYArSo9rgI/DTb9ZW/CMf1C0%2B58Ix/F//AIL7684bwr%2Bz38IrSFz8k3i7w%2B1kcepS18TXbD6EZruvhlZf8Fzdd8Q2v/C2PGP7LHh3Rn3fbJNJ8HeItSvY/kO3bE2pwRt820H96MAk8kAH60oqJ4ilKNo0or/wJv8AGX6DUX3PGf8AhB/%2BChf/AEdB8Gf/AAw%2Brf8AzUUf8IP/AMFC/wDo6D4M/wDhh9W/%2BaivZqK5Sjxn/hB/%2BChf/R0HwZ/8MPq3/wA1FH/CD/8ABQv/AKOg%2BDP/AIYfVv8A5qK9mooA8Z/4Qf8A4KF/9HQfBn/ww%2Brf/NRR/wAIP/wUL/6Og%2BDP/hh9W/8Amor2aigDxn/hB/8AgoX/ANHQfBn/AMMPq3/zUUf8IP8A8FC%2B37UHwZ/8MPq3/wA1FezUUAfFniG%2B/wCDg/Qd0mmWv7JmuoPupYaT4igkI9xPfKoP/AjWH/wvz/guR4b/AH3xF/Z08Ei3X78/g3wBHq5/4DG/i%2B3kP/fIr7vorsjiaNrSoxf/AIEvyk/yJ5X3Plv4DfEL/goT8ddN1G%2Bfx34X8Fy6bOkUtl48/Zk1fT5ZiwJ3QkeLHSZRjBZGIBIFafxE13/goF4B8U%2BDfB0f7QPwb1C98ZeIX0y2A%2BCuqwi1jjsrm7muWz4lbzAqW%2B3Z8uWkX5hX0jXnfjv9nHQvG/xe0P42p8Q/Fml6z4fgmisLew1dXsCssTRyFrS4SSEMVPLoqv8AKPm65inLDuu5NWjZ2WstbO3Z7636A%2Bax4P8AHr4y/wDBQ34Najeabovxc%2BEXiJ9C8OSeI/Fjw/BjUrZdK0lC4afL%2BJz50p8qYrCoBYRNyOM6ln8Z/wBrG/8AidB8KLf9q/4VHULi7FlFen9m/XRYm/8Asou/sP2n/hJvLFz9nPm%2BVu3bQ3dSB3Xxb/ZX8bfEPxPe3GlfFG0tdJ8U6DYaR46S60YveXdvazSSbraRJEjhMyyNE6tGyhWLLhs54LxB%2Bz7%2B0dDFrvhrw34asraz0HWPEXifw3rUerqZNY1CeJ10y3EYG%2BExrIUlkfglFKAhyE66dHA1KSTkk7d7b979n0XTV%2BUtzTOm8Fa7%2B158SLnUbL4e/tyfs%2B67NpFz9n1aHSPg5qNw9lLz8kqx%2BKiY2ODgNjOOK3/%2BEH/4KF/9HQfBn/ww%2Brf/ADUVifsj%2BELs%2BLYfFWheCtb8O%2BGfD3w60jwlplt4g0aXTrq9ktgZXcwTKsipEZDGrMAGZ5SpZSGPZ/Eb9sz9l/4P/FCD4O/Fr4y6T4X166tI7m0i8Qs9nbTo5YKEupVWBnypygk3DIyBuGearhZe3dOinKyvtd%2Be1/8AgX8ilLS7Mf8A4Qf/AIKF/wDR0HwZ/wDDD6t/81FH/CD/APBQv/o6D4M/%2BGH1b/5qK9f0zU9N1rT4dW0bUYLu1uIw9vc20yyRyqejKykhh7ip65Nijxn/AIQf/goX/wBHQfBn/wAMPq3/AM1FcD4EX/gsZqPxP1Twh8SPFnwF0nw9BBJNo/i7R/hxql9Hd4lVUhktn8QwywylGLnAeMbGG8/Lu%2BpKKuMlFNNJ39dPTX87kyi2007W/H1/pHzV8c9f/wCCh3wY%2BHdx4zs/jx8F9d1B7q3sdH0P/hTWrWjahe3EqwwQLJ/wkcu0tI6gnYcLuY4ANXfiF4g/bC%2BEekWmu/FX9tj4CeHrS9vY7OC71X4KapDC0752pvfxSAM4PJwOO1eg/FP4Dap4/wDiZ4Y%2BKel/EvUbSXwtdm6t/DV7DHc6RdzeRcQrM8W1ZEmUXDFZEkAGASrEDHD/ALSsPxH1/wAS%2BG18MfC3xU3i3QryCTw7rGlvBNoNx9pEdvfR3YkLFIlhknyZIkcqMwsXO0dVKlQqqEL923s12WulvPXd6aHNUqVabnK3a3Veb06%2BXluatp4R/wCCgF/axX1j%2B1T8FZoJo1khmi%2BBWqskiEZDKR4pwQQcgipP%2BEH/AOChf/R0HwZ/8MPq3/zUV5zqfxi1vw/r%2Bl/FmH4k3Wh%2BHIPFmoWen%2BEbG1hTT4fDelieO/upoQm/eXgd1fI2hIwnDEN7D8GPjp4t%2BIfimfwh4%2B%2BF3/CLXz%2BHbLXdOtG1f7TMbS4aRAlwnlJ5E6PGVZAZF5GHJDATVwdWnDm3X5f52vrbQqniqc5cvX%2Bvu%2BZxOpeMf2zfhL8afhV4a%2BKPxb%2BGHiXw/wCPPGt3oOp2mgfC7UdIvLcR%2BH9X1OOaK4m1y7QHzdOjRlaE5WRsFSAa%2Bga8Z/ag/wCS3/s4/wDZZr7/ANQrxRXs1ch0hRRRQAUUUUAFFFFABRRRQAUUUUAeM/t4f8kQ0P8A7LN8OP8A1NdErqPAf7R/w6%2BJ3xY8Q/CLwLDq%2BoXPhUNHr2sx6RKumW12rhWshcsAklwu7cUTdtAOSCMVy/7eH/JEND/7LN8OP/U10SvZURIxhECgkkgDHJ5Jq4uCT5ld9Ndv8/wJkptqzsuv9dDzH4tfCL4m%2BLvjN4P%2BJPw08X6R4d/sSzvLTXNRubF7u5vrOcxMbNItyRqN8SyCZ2bYyDEbBmz1Np8IfACeJrDx3rHh%2B31bxFptq1vZ%2BIdVt45byFGZiwR9oEedxB2BcjAPAFdNRVOvUcVG%2Bytp283u9yVSgpN23dwqvq2r6VoGl3Gua7qdvZWVpC013eXcyxxQRqMs7uxAVQASSTgAVU8aDxk3hTUF%2BHsmmprhtmGlvrEcj2qzY%2BUyrGyuy%2BoVgT0yOteMnWfE/wC0p%2Byp4z%2BGnxAvdK0vxppL3egeJfkMNiNRhKvDKFkZiltcxtbzKNzER3G3cWXNVSo%2B0XM3pdJ91frbt%2Bpbdjd8f/tX6RaWvh5/gR4ftPiPL4itdQvLI6H4ggSCS3soUkmWOYB0knbzYljh%2BXduYllVGNeRS/tIeM77xN4x%2BOHh74qanJaeHrrTL%2Bw8FXa26WN94Yn8mKV0QxiVLxLpL2NpC7BXVFJ2Mqi/4T%2BEXxF%2BLfxq13x7pfhDW/hxfW0VhqUl9qmmo8H/AAkkTtb3LQosgF3a3FnFAkrKUBCxlX3lwvq/gP8AZM%2BGGk%2BENF0n4o%2BGNB8Y6vo2q3mp2%2Br6h4fjC291c3cl1J9mikaUwRLJJ%2B7j3vsCJgkoCPSvgcJGzV3pfZvXXzj2V00%2Bpn78jv8Axr4du/GHg3VPC1h4o1LQ59S0%2BW2h1nSHRbuxZ0KiaEyIyiRSdy7lYZAyD0rx7wD/AME4v2UfB/iCPxz4s8D3XxA8UJy3ir4m6nLr18W7Mpui0cJHbykQDsK91orzKeJxFGDjTk0nvbS/zWvyvbyNHGLd2MgggtYEtraFI441CxxxqAqqOAAB0FPoorEYUUVh/ED4nfDb4TeH5PFnxT%2BIOieGtKi/1mpa/qsNnbr35klZVH504xlJ2irsEm9jcor5ou/%2BCrX7MniG6k0v9nnw/wCPvjFexOUkj%2BFnge71G2Rhx817IsVmBnv52BTB8eP%2BCmnxN/d/DD9hnwn4Etn%2BaHVPix8SUkl29ibLSYbgqcfwmYHscda7P7PxS/iJQ/xNR/Bu/wD5Kaeymt9PXT%2BvuPpqivmYfAT/AIKcePf9J8f/ALfPhTwaj8Sab8NPhPDJtHcLc6rcXB/Hyh60v/DtgeIP3nxV/bq/aG8Tl%2Bbi3/4WQdJtpPUeVpcNthfYk0fVsNH46y%2BSlL9IoOSC3l%2Bb/wAj6XZlRS7sAAMkk8AVy/iH45/BPwkzL4r%2BMPhbTCv3hqHiG2hx9d7ivEk/4JBf8E9rlhL4p%2BBdz4llzl5vF3jLV9WLn1Iu7uRfyGK6nw9/wTV/4J6%2BF1UaR%2BxH8Kwy/dkufAtjO4/4FLEzfrRy5cvtzfpGK/OTC1FdX9y/zNfUv27/ANh7RmK6x%2B2X8KbQjqLn4iaYmP8AvqcVlS/8FJf%2BCecLbX/bm%2BEZx/c%2BImmt/Kaur039k39lfRlC6P8As0fD%2B0A6C28GWMeP%2B%2BYhWpF8BvgbAu2D4MeE0Honh22H/slF8t7T%2B%2BH%2BQfufP8Dg7f8A4KP/APBPe6bbF%2B3N8IcnoH%2BI%2BmL/ADnFbWk/tsfsaa8wTQ/2t/hjek9BaePdOkz/AN8zGuguP2f/AIDXi7Lv4JeEZQeok8N2rfzjrE1X9jb9kHXVK65%2Byp8NrwN94XfgbT5M/wDfUJo/4Te0/wDyT/IP3Pn%2BB1vhz4m/DfxiQvhH4g6Hqpb7o03VoZ8/98Ma3K8E8R/8Es/%2BCcXikEan%2BxH8NIt3U6b4TtrM/nbqmKwz/wAEj/2JdM/ffD7wr4w8G3A/1dz4N%2BJ%2Bu6cY/wDdSO88sf8AfNHJl0tpyXrFP8pILUn1f3f8E%2Bl6K%2BZ/%2BHfPxP8ACg%2B0fB7/AIKRfHjRZ1/1UXiPW7DxFbL9U1G0kkb8ZKT/AIVt/wAFYfh3/wAin%2B078I/iPD18nx18P7vRLgj08/TbmSMH/a8jH%2BzR9VoS%2BCtH5qUfzTX4hyRe0l%2BKPpmivmU/tc/tv/DP/ku//BN/W9Ss4eJta%2BEPjSx11X/2ls7r7HcgewVz9TxWn4O/4KnfsTeINei8GeNfipP8PPEMpwfD3xT0S68N3St02g38ccbnOB8jtycUnl%2BLteMeZf3Wpf8ApLb/AAD2VTor%2Bmv5H0PRVfStW0vXdOh1fRNSt7y0uIw9vdWsyyRyqejKykhh7irFcexmFZ3irwh4T8daJN4Z8beGNO1jTbgYuNP1WyjuIJR6NHICrfiK0aKabi7oD511L/gml8FPDGoT%2BJf2YPGPi34M6vNIZXf4e600WnTSdR52mTiSzkUH%2BERL9RVdvGH/AAUa/Z7/AOR5%2BH/hv45eHYfv6t4MK6F4hSMcl3sLh2tblsdFhmiJ7L2P0lRXYsfWnpWSqL%2B9q/8AwJWl%2BLI5EttDyL4Iftyfs5/HfxA3gDQvF0%2BheMYB/pngTxlYSaTrVuepH2W4CtKB3aLen%2B1XrtcR8cP2bPgT%2B0l4fXwz8cPhdpPiK3hO60lvbfFxZv8A34J0Ilt3/wBqNlb3rx5/gv8Atp/srf6d%2Bzf8T3%2BLHhGDlvh18TNT2arbxj%2BCw1nGWPQLHdq4AGPMHWn7LCYj%2BFLkl2lt8pf/ACSXqF5R31PpiivI/gD%2B2j8IPjzr9x8OCmp%2BEvHunRb9W%2BHnjKz%2Bw6tbDvIkbErcw8ZE0DSIQQcjOK9crlq0atCfJUVn/X3rzTa8yk01dHnHjz9lj4O%2BL/Dni3TdF8GaVoOp%2BMbfbq%2BuaZpMInmlDiRZJMriX94qsytkSYw2c1pfCb4RXngHUtZ8ZeLfF7%2BIfE/iFoBq%2BsGzFtGYoA4gt4YQzCKJPMlIUsxLSuSxJrtaKp16zg4OWn9dd7aLTyRmqNJT5ktf6/zf3njH7TrF/jb%2BzkShX/i89%2BMH28FeKOa9nrxn9qD/AJLf%2Bzj/ANlmvv8A1CvFFezViahRRRQAUUUUAFFFFABRRRQB4P4U%2BM37QWh/tn2/7OnxC8QeCPEml6z4R1XxEsXhXw5eWN74VtoL22gsVvpZr24juhdCa4VHWO1JexmKJIqyGLC%2BFn7U/wAXdd/bS8VfA34seJtE8M6Lb%2BJ7nTfAGgX/AMJ9btLnxPbRaXb3ZuLXXp7safdyK7XZa3ggaQR2rkgBGcdF8Jv2Jbz4OfELxv8AEbw5%2B1l8Tbu68fa5PqutwatbeHZws7sgiWOb%2ByBceVbwotvDE8rpHFwFLfPW/ffstQeIvjlovxr8e/G/xr4ih8La1c6v4R8HakdMj0nRb6azuLJp4vs1lFdTFba7uo0FzcTKonYgblRlAOM/4KF/Fz4UeGvB/gz4UeI/id4e0/xT4g%2BMPw9l0Hw1e61BFqGpJH4z0ZpGt7dnEkwVVYsUUgBSTjBr6Hrxn9vD/kiGh/8AZZvhx/6muiV7NQAVxvx1%2BP3wn/Zu8BTfEf4weLItL09JVgtowjSXF9cNxHbW8KAvPM54WNASeT0BIyP2nP2mfCH7M3gq21rVtKvNc1/W70ad4O8H6QA1/r2oMPkt4V7AfeeQ/LGgLN2B4j9n/wDZS8X6l49g/ao/bF1Oz8R/Ex4mGh6TbEvpHgm3fra6ejcNMRgS3bfvJCMKVThuyjh4Kn7au7R6JbyfZdkusnotld6KXJ3stz0D9nP4l/Fz4t%2BDbrxx8VfgpN4DjvNQZvDuialqKzaidP2J5ct7Gi7Ladm3kwhnKAqGO4Gk0f8AZl%2BF2m/GLW/jtqNvf6r4h1wQpLJql%2B0ltaxRKqxJDbLthUrtyJSjS8kGQjivQaKxdaSnJ0/dT0sr7dtdenz/AAHbTUKKKKxGFFFeI/tHftyeBPgn4ut/gn8PvCWqfEj4qalb%2BbpXw48JlGukjOMXN7Mx8rTrXJGZpyOD8qvjFa0aNWvPkpq7/rVvZLu20ioxlJ2R7ZJJHDG000ioiKSzMcAAdSTXzp44/wCClvwhn8U3fwv/AGW/BviH43%2BMLSTyrrS/hxbpNp%2Bny9he6rKy2VqM8EGRnUjlKw7X9ib44/tVyL4k/wCCi3xa%2B26PKwkt/gr8Pr2ey8PW69Ql/cqVudWcYXIcxwbgcREGvpLwJ4A8C/C/wraeBvht4N0vw/othH5dlpOjWEdtbQL6JHGAq/gK6eXBYf4n7SXZO0V895fJJeZdqcN9X%2BH/AAT52X4Wf8FLP2if9I%2BLnx48PfBHw/P97wz8LbNdW1sxHqkurX0fkwyD%2B9b2x9nrf%2BH3/BMD9jTwZ4gj8deLPhnL8QvFK4L%2BLfinqk3iK/Zs53hr1nSE/wDXJEA7CvoGiplj8TblpvkXaK5fva95/OTE6s9lp6af8H8SOzs7TT7WOxsLWOCCFAkUMKBURRwAAOAB6CpKKK4zMKKKKACiiigAooooAKKKKACiiigAooooAKyvGXgXwT8RdBl8LfEHwdpWu6ZOMT6brOnxXUEn%2B9HKrKfxFatFNNxd1uGx806r/wAEsf2e/DmozeJv2X/FHjL4JazNIZXn%2BF/iKS0sZn6jztMmEllIueq%2BSMjuOCKj%2BIP%2BCoH7N3zeJvC3hP8AaE8NQ/fvvDoTw14njTqXa1lZrG7IH8MckBY9F5Ar6horsWPry0rJVF/eV3/4FpJfezT2sn8Wvr/nueL/AAF/b7/Zu%2BP3ih/hnpniS%2B8LeOoFzefDvx5pkmj65B1PFtPjz1wM74DIn%2B1XtFcF8fv2X/gB%2B1H4XTwj8e/hXpXiO1hbfZTXcJW5sZOvm21xGVmtpBgfPE6t714fL4B/bm/YiH9ofCHxNqXx8%2BGttzP4K8VXyL4u0mEdfsOottTUlUZIgutspCqqzEmq9jhcT/Blyy/lk9H6S0%2B6SX%2BIfLCfwuz7P/P/AD%2B8%2BraK87/Zv/ao%2BCv7VfhKfxV8IPE7zy6dcfZdf0LUbZ7TU9EuxndbXtrIBJbyggjDDBwSpYc16JXHUp1KU3Cas10Zm04uzCiiioEee/tBfsu/BX9pzQLfRviv4U8%2B606XztD1/T52tdT0ecYKz2l1GRJA4IB%2BU4OBuDDivHR8Zf2iP2Ep00n9qq%2Bu/iF8K1cR2fxd0%2Bw/4megx5wq63axDEkYHH22FccZkRS2a%2BpKZcW8F1A9rdQpJFIhSSORQVZSMEEHqCO1ddHFOEPZVFzQ7Pp5xe8X%2BD6pkuN3dblbw74i0DxdoVn4o8K63aalpuoW6XFhqFhcLNDcRMMrIjqSrKQQQQcGrlfKni74VfED/gnvrl58Y/2YvDt7rvwmurl7vx18I7Fd8uihjul1PREP3ccvLZDCONxj2tgD6Q%2BG3xI8C/F/wJpXxN%2BGfie11nQdbs1utM1KyfdHPG3f1BByCpAKsCCAQRSr4dU4qpTfNB7Pqn2kuj/BrVO2xGV9HueaftQf8lv/AGcf%2ByzX3/qFeKK9mrxn9qD/AJLf%2Bzj/ANlmvv8A1CvFFezVylBRRRQAUUUUAFFFFABRRRQAUUUUAeM/t4f8kQ0P/ss3w4/9TXRK9E%2BLXxU8D/A/4aa58XPiVrSafoXh7TpL3UrpxkrGgztUdWdjhVUcszBRyRXnf7eH/JEND/7LN8OP/U10SuO%2BP9sP2ov2y/CP7K8n77wf8PrKDx18RYBzHe3fmtHo2nydivmxzXbowIYW8eetdOFoxrVff0ik3L0X6vRLzfkTJ2Whd/ZG%2BDvjj4geMJ/25P2mNEe38beJLIw%2BDvDF18y%2BCdCc7o7RAel3MuJLmXAYsRGNqoQfoqiioxFeWIqcz06JdElsl5L8dW9WxxSirBRRRWIwoorwH9uz45fEfwrp3hj9mj9nW/jg%2BKPxYv5tN8O6hJF5ieH7CJA%2Boa1IvQrbQsNik/PNLCuDkitaFGWIqqEevXoktW35JXb/AOGKjFzlZGD8cf2jvjB8evixqf7Hn7Deq29lqmjssXxN%2BLFxbC4svBquM/Y7ZD8t3qjKciInZAMNJz8o9T/Zn/ZR%2BDv7KHhCfwz8L9HuJL7U7j7V4l8Uazcm61bX7w5LXV7dP888hJY84VckKqjitD9nH9nn4b/st/CHSvg18LdOki0/TkZ7i8upPMutSunO6e8uZTzLPK5Lu56k4GAAB3Nb18RHk9jQ0h%2BMn3l%2Bkdo%2BbuypTVuWO35%2Bv%2BXQKKKK4zMKKKKACiiigAorzn9oL9rP9nz9liHR7j49/ESPw/Hr08sOlPJp1zOJnjCl8mCJ9gAdeWwOevWszVP2mdA%2BLPwe1/xB%2BxZ478F%2BO/F9to73Gh6KdeiKST4ykc6LIrxZ9HMfOAWQEsOyGAxk6cavI1CTspNNR3trK1kk923ocdTMMFTqSpe0TnFXcE057X0je7bWyS1PWaK/Hz49f8FeP2%2BvBfxt0S28WS%2BFvDp8PmM654Z8H6hZ39tqI8xfPinmEt2IpD5bIFDB4g/Qk7j9T%2BG/25f28/2kfg1f/Er9n74BeAdJ0oac80uvL46TX7jTMQiZkNlZx%2Ba10I2BW3ZN%2B9lDIc7T9BiuDc2wdGnVqSpqM%2BvOrK70V2tb7qyd/U%2BbwnG%2BT42tVo0o1HOHTkbbSWrsnpZ6PmatvsfbmRnGefSiv59/Ev7T/wAZ/Gnxtt/2hfi18Q/GD30%2BmXFlpPizQ4o9JvZVhjkS3dfICxkJKYjKik7gGXfuIev1e/4JW/t8X/7aHwnu9N%2BI82k23jTw1KlvfW9pdYl1G2Eabb7yTygZyUbaSu8Z%2BUMqjbPOC8fkuBWK51OKtzWT91v81fRuyae6Mcg44y/PMe8JyOnJ35Lte8lr5WdtUrtNbM%2BqqKKK%2BNPtgooooAKKKKACiiigAooooAKKKKAPCP2nP2J7D4qeLIP2hPgP4wb4d/GLSLfy9K8babAGi1KEYP2DVbcYW%2BtGwBtf548Bo2UjBs/sl/tcX3xp1PWPgj8a/BieCvi94NjQ%2BLfB7TmSG4gY7Y9T0%2BU4%2B02Mp%2B6/3o2PlyAMAW9urwn9t79mXxT8WtD0r43/AACvINJ%2BMXw5eTUPAWsSfLHfAj9/pF3yN9pdIDGwJ%2BRikgIKnPfRrQxEVQrvTaMv5fJ94919nddU9YyU1yy%2BT7f8D8j3aivPv2Wf2h/C37VHwI8P/HDwpYz2KavbMuo6ReDFxpd9E7RXVlMCARJDMkkZ4GduRwRXoNcdSnOlUcJqzTszNpxdmFFFFQIK%2BU/FFj/w7q%2BOi/EjQF8j4IfEnXUh8X6YvEHgzX7hwkWpxDpFZ3UhWOdeFjlZJAQGK19WVh/Ev4c%2BD/i98Pta%2BF3xA0ePUNE8QabNYapZyDiSGRCrAHscHIYcggEciunC11Rm4zV4S0kvLuvNbp99NmyZRutNzzX9qD/kt37OP/ZZr7/1CvFFezV8xaj8OfHXwhX9k74X/Ef4gjxVq2gfFa9sZNfNqYXvIY/BnilYGkUsxMghEau%2BfndWbA3YH07WNSMYzcYu6T37%2BY1qgoooqBhRRRQAUUUUAFFFFAHIeBf2g/gH8UPGWs/Dr4afG/wh4i8Q%2BHXZPEGhaF4ltbu80xlcxstxBFIzwkOCpDgYYEdasWvxt%2BDN98U7n4F2Xxc8MTeN7OwF7eeDotft21WC1IUid7QP5yxkOnzldvzLzyK%2Ba/hr8V9M%2BLH7b%2BrfFPxZ8JPiL4S0n4WaTrXhfwLptx8GvEMP9tfaryzOo6s10LD7O8EktpAlrBFIzPGs1y4O%2BMQ8z4O%2BH/xBi/ak8PfDeX4UeKIde0H9p3xJ491rxnL4auk0qbw7eaFqdvbSJqZj%2BzTyFb2w0/7KshmT7MzGMRwq9AHvf7eH/JEND/7LN8OP/U10SuZ/YAj/AOEy1741/tAX37268XfGLVLG1uf72m6QE0u1Qf7INvM495TUv/BQvTfivP4P8Gaj4c8aeHrXwtD8Yfh6Ne0a98MT3GoXjnxno3ltb3i3scdsFbaWD20xYAgFMgh3/BMeaOP9mrUNAe3SG70b4m%2BL7HUYkLfLOuvXrNncSckOpP14wMCu2jpgqzXVwXyu3%2BaRD%2BNfM%2BhaKKK4iwooooAK%2BYP2WrRvjR%2B3l8d/2ktWb7Rb%2BD7yx%2BGfg/eP%2BPSG1t4r/Uyv/XW7u41J64tVGeMD6fr5o/4JuMLG%2B/aB8M3Xy3th%2B0l4lkuo24bZcpa3cLY9DDPHg%2B3tXbhvdwteS3tFfJy1/JI0hpCT9PzPpeiiiuIzCiiigAooooAKKKKAPkj/AILJ%2BD/BXxL/AGY9P%2BHniT41%2BCfBd9N4jj1DTp/GczKt0sEUiypAY0klVx50eXRG%2BU7DgSV%2BSvwT%2BF114x8fXGpW8lnqmnabdvFNZaH490/QdR1LcGRF09b8GWZmJBCJbu7g%2BXtV3Ffvf8a/2e/gp%2B0Z4Y/4Q/43fDXS/EdiofyFv4P3tsXADNDKpEkDEADdGytx1r4J/wCCmX/BOD9jT9mH9lOT4ufC74bxWGq6T4k0/wA/7f4lv5JNUtpJtklogeVkDFW3bgoYJExBz1/TuDOIsJhcJHLG589SVl7sXFOXndS1slrs9UflXG/DWLxeMlmqUPZ043fvSUmo%2BXK46Xb03Wj1Pn64/wCCZGv/ABLhuPFHwO%2BFvjnwnoWl6bLdSXXxvvLTTJdYuQjNFY2sCJGfnZQvntIqYfJ2YAbjP2NNX/aZ%2BEf7X8HwP%2BHnirW/hzqXjfVI9D1qHQ9IXUvs9u8u4SxxTu6ukWCwuQ5ZIjI6uwLbvJn8V6HY%2BNre88BfDyW5067jSPSNI8Z3I1ExAuVKrIiQI67wQG2LyD0INfTn7Hfhr4Z/szaen/BRv4ofFqztfEXg/wASXmm3HwZ0nT7ex1Eyv/oTx7ZZkZdiXBkaMQsdqHLZ3EfdYx4vDYCrDENVOePLCLjzPnd%2BVS%2BK/vJXlJKKaSulv8Bglg8TmFKeGi6XJLmqSUlFcitzOOkbe63aMW5NNuze3tv7b3wG/YE%2BArWvhH9rP9sH46%2BIfFN7YC9Gnw699snuIpHZDMEltzBEhaNlCFwcJgZxmvhDxJ8Qvhp8IfG9n45/Yt%2BJnxK0W9gkmRrvWlt7O5jiO3btls5jvDDcHjZQuAOWBIHqvx117/h5R%2B0R43%2BM%2BpfHnwJ4KstPsYR4UsfHGq/2e1xYKZClsNvm/v0VXMgyQ0kg2ZV1I%2BWavh/L50cIqeKqynUsueDtyJyV7cvs4xatpo3qncjiPMoVsY6mFowhT5n7OavztRduZy9pKSd9dUtGrdT6Z8T/APBQz9tHwzBZ6r4e/b1uNdkuLOOWazs7W5R7WQ43QuLmzSNmUk/MjMpAznJ21%2Bvv7DniL4leL/2SvAfi34weJ7jWPEeq6El5qeoXWnfZJHaV2dEaPYmCiMibgoD7N4zuyf57rKeK1vIrqeyiuUjlVnt5iwSUA5KMUZWAPQ7SDg8EHmvp/wCFH/BXv9rr4IfDSP4RfDi68PW%2BiWOlPY6Gt3pMlxNpgJYiaJ5ZnLOpbKrKZI1wFCbQFryuKeE55lg6dLAU4RkpXbtGF1a1rxj0ve3W3c9fhPjCGV42pVzCpUlFxsleU7O972lLra1%2Bl%2Bx%2B5FFfiF8Dv%2BCy/wC2r8JfFl74h8XeNIvHNpf2vlSaX4lTEULqDslhMOwxsCfmA4dcgjO1l/Qz9n39qr/gpD8WvE3h6Txn%2BwPZ%2BHPDF9fRxa3rWo%2BJ0tp7SAn55ltZiJjhTkLsO4jGRnI/Ns14MzXKFzVZ0%2BW2/Oo3srtJSs2/RO%2Bnc/T8o43yjOXy0YVOa9muSUrXdk243ST82ra9j6xooor5I%2BxCiiigAooooAKKKKACiiigD5h/Zytl%2BB3/AAUP%2BNH7PliPK0Txzo2m/E3QbRPuW93O8mn6rj/rpPbW05H96dj/ABV9PV80TMupf8FirX7Ed39j/s1XC6iV/hN34ggMAPuRZ3BH419L12473pwm93CLfrZr8oo0q6tPyX9fgFFFFcRmFFFFAHjP7UH/ACW/9nH/ALLNff8AqFeKK9mrxn9qD/kt/wCzj/2Wa%2B/9QrxRXs1ABRRRQAUUUUAFFFFABRRRQAUUUUAeM/t4f8kQ0P8A7LN8OP8A1NdErlv2Wph8Iv2wvjd%2BzfqB8qLXdWtviN4WD9bi21CNbe/2%2B0d7bMT/ANfKnvXU/t4f8kQ0P/ss3w4/9TXRKwf27PBHjHwqfC/7Z/wi0OfUfFHwouJ7jVNGsx%2B913w5OqrqVio/jkCIlxEDnEluAAS9duCanKVCT%2BNWX%2BJO8fx0/wC3iJ6a9j6EorG%2BHfxB8HfFjwJpHxL%2BH2vQanomu6fFe6Xf27ZSaGRQyt6g4OCDyCCCAQRWzXHKMoyaas0XuFFFFIAr5SdI/wBkz/gp1e%2BI9Wu54/CH7S2k2dtHczzk29j4u0m3aOKADhIvtlhjb/FJLZ45yoH1bXn/AO0/%2Bzn4J/ap%2BDGqfB3xvcXNmt2Y7nSda099l5o%2BoQuJLa%2BtnHKTQyqrqR1wVOVYg9WErQp1HGp8Elyv0ez%2BTSfnZrqXTkk7PZ6HoFFfPX7H/wC1J401zxJefsjftXw22k/GXwnZh7kxp5dp4w00HbHrWn5wHjfH72IfNBLuVgBivoWs69Cph6nJP7%2BjXRp9U%2Bn%2BaaSlFwdmFFFFYkhRRRQAUUUUAFeTftk/snaP%2B2P8Jh8Jte%2BJHiHw1bDUEupJtAuVUXQVWXyZ0YESxHdu2nHzIhzxg%2Bs0VvhsRWwleNai7Si7p6aP5pr8DDE4ahjMPKhWjzQkrNa6r5NP8T8r/B3/AAT3%2BInxu8afEr9knx1%2B2D4yt/EHwpl09vh5pV5fs%2BlSaYbcGznW3D/u2CpEjtFjy2IPzscVy3wk/wCCKf7TPxk8b6wPjNdT%2BA7SPyjqut63d22u3WtXxZmmntjEY2SNm%2BYmRt3zgFpCGx9Bf8FUfHnwevPiBp2g/ATwR4k1z9o7RIbXUPDWp/D/AE57i40%2B3S5xJHemHJePYJf3TK5HmLkKkhJ%2Bxf2fbr413/wb0G//AGibbRoPGVxZ%2BbrVvoEciW0LsxZIwJGY71Qor8ld4bb8uK/QsVxLnmByyGKpSjH2qS5ZRipRaS5pwSteE2ua8lpJu3Noz82wvC2Q4/NKmFqxlP2Tb5oyk4yTb5YTbbtOCfLaL1ilfl1R8bfBT/ggF8BPA/jBdf8AjL8UNS8c6bGjhNCWwbS4pCylQZJIbhpTtJDAIycqM5GVOX47/wCCGMt/ev8AD/4efE/w1Y%2BBZ9bXUY7zVPCMc3iHThhg1sl5HsNzCc8LM2BwdpK5b9D6K%2BcXGPEftnVlXbfmlZW2aVkk9d/vufTvgrhn2CpRw6S7pu7vunK7bTtt91tz5O/an/4Jk/BHX/2e9Q0b9nv9m3wI3ju1tI10LUL%2B0Fkpm4jeaTyAqSuEZ3WORTCZAhZSBivmr4uf8EJvEXhz9nPwrrXwda38QfErTmE/jHR9S1Qw2eqCRAWt7Z8oE8pwEUs8fmKzsXUhEr9RqKnA8W55gIRjTqtpS5nzXd9Lcru/h62Vtdb6Kzx/B2QZhOU6lJJuPKuW0ba35kkvi2V3fTS2rv8Alf8Asc/8EH/Gup6/b%2BMP2ytRt9O0iKOOVPCWial5l1cvk5iuJ4xsiQADPlM7NuOHQjJ/Uy1tbaxto7KzgSKGGMJFFGoCooGAAB0AHapKK5M5z7Ms%2BrqpipXtskrRXovPq222duScPZZw/QdLCRtfeTd5S9X5dEkkgooorxj2wooooAKKKKACiiigAqDUtS07RtOuNY1e%2BhtbS0gea6ubiQJHDGoLM7MeFUAEkngAVPXyH8cPGOq/8FGviZqP7HHwV1W4T4U%2BH9QEHxy8eWExSPUmQhm8M2Mq/fkk4F3IhxFETHnfIVrow2Hdebu7RWsn2X%2Bb2S6vTu1cIcz8upvf8E7YtQ%2BNPiL4lft9azZSwQfFnXILbwLDcxlXj8K6Yj29hLtYZQ3Mj3V3jus8Z9K%2BnqraLo2keHNHtPD2gaZBZWFhbR29lZ2sQSKCFFCpGijhVVQAAOABVmlia3t6zmlZbJdklZL7l99xTlzyuFFFFYEhRRXlH7Yv7RNz%2Bzr8I21PwlpI1jxr4jvY9E%2BH3hxTl9T1i4ysKEdok5llY4CxxucjitKVKdeqqcN3/X3dX2SbE2krsoftQf8AJb/2cf8Ass19/wCoV4or2avmLUfhb4h%2BC6/snfDTxh491HxRrOmfFa9Gs%2BINUu5Jpb68fwX4pknkDSEssfmO%2BxOiIEUcKK%2BnaVSMYzai7pPfv5/MFsFFFFQMKKKKACiiigAooooAKK8X/Y5%2BLvxw%2BJV18UvB3x%2BvfCl3rPw/%2BJjeHra%2B8H6Lc2FrcWraNpWpIWiubq5cyK2oPGXDhXEasETJFcl%2BxR%2B1P8XfjP8AELxH4I%2BPfibRNH121udYl0n4fn4T634f1BNNtdWktIb%2BO%2B1G7kh1eBofsrPLaQrGr3UeWXeqkA6/9vD/AJIhof8A2Wb4cf8Aqa6JXs1fPH/BQv4ufCjw14P8GfCjxH8TvD2n%2BKfEHxh%2BHsug%2BGr3WoItQ1JI/GejNI1vbs4kmCqrFiikAKScYNfQ9AHyffSXf/BM/wCJt3rgt5G/Z88Z6w1xf%2BShZfh3q9xJ88u0fc0u4kbLY%2BW3lYn5Ufn6ss7yz1Gzi1DT7qOe3njWSCeGQMkiMMqysOCCCCCOtRazo2keItIutA1/S7e%2Bsb63eC8sruFZIp4nUq8bowIZSCQQRgg18tHwz8XP%2BCbl3JffDjQ9Y8d/AVpGkuvC1oGuta8BKTlpLJSS97pwyS1vkywjlNyhhXo%2B7mC1dqv4T%2BfSfrpLupfFn8Hp%2BX/APq6iuf8Ahd8Vfhz8a/A1h8S/hP4zsNf0HVIfMstT02cSRyDuD3VgeGRgGUgggEEV0FcEoyhJxkrNGm4UUUVIHl/7Un7Jvw3/AGqvC1jp/ii6v9F8ReH7s33gzxv4fn8jVfD17jAntph0BwA8TZSReGU4BHk/g39s/wCJ37LviGy%2BC/8AwUjsrPSxcTraeGvjdpNsYvDfiEnhFvOo0i8YdY5T5DsGMcmMLX1RVDxR4W8M%2BN/D154R8Z%2BHbHV9K1G3aDUNM1O0Se3uYmGGSSNwVdT3BBFddLExVP2VZc0OnePnF/mneL7J6mkZq3LLVfl6f1YuW1zb3lvHeWdwksUqB4pY3DK6kZDAjggjnNPr5Xk/Ym%2BO37K9xJrv/BOv4wwafoQcyTfBj4iSz3vh1snJWwuQWutKJyxCoZINxH7oAVo%2BF/8Agph8PfCWu2vw9/bU%2BG%2BufArxNcSiGBvGW2XQb%2BT/AKdNZhzaSDpxK0L88pVvBSqLmw7512XxL1jv848y9B%2Bzb1hr%2Bf3f5XPpeioNL1TTNb06DWNF1GC8tLmISW11azLJHKhGQyspIYEdCOKnrh2MgqvqGraXpEP2jVdSt7WP%2B/cTKg/MkV5f8ev24/2V/wBmnURoHxf%2BL%2Bn2GrNGrx6HaxyXd6wb7n7iBXdd3YsAD618zfsbfsN/Bn9quw8bftA/tV/BzX9fv9a%2BIWov4Q1XxtqGoW17caGNhtS9sJlVFGXVeMYGBhQK9nC5UnhJYvFuVOmrWajdzbbXu8zina121fQ8TFZs1jI4PBqNSq%2BbmTlZQSSfvcqk03eyTtd3PpL4r/t9/sb/AAVWRPHv7Q3htLqLhtN0y9F9d7uy%2BTbeY4J9wK8Q%2BNX7S37T/wC2j8Pbv4S/safs8%2BPPDVhr0kdre/E3xXFFpEVtZMwE0ltHKTJMGjyoZNrrklQCAa%2BjfhX%2Byf8As0fBFo5vhT8C/C%2BiXEf3b600eL7V%2BM7AyH8Wr0GqpY3KsDUVTD0XOSd06jVrrZ8kFZ%2BkpNd0yauBzfH03TxNaNOElZqmndp7rnm7rteMU%2BzR5j%2Bzh%2Bx7%2Bz5%2BypoEWk/B/wCHtnaXv2NINQ8QXESy6jqGMbnnuCNzbmG8oNqBj8qqMAenUUV5VfEV8VVdWtJyk923d/j/AF2SPXw%2BHw%2BEoqlRgoxWySSX4f8AD92wooorE2CiiigAooooAKKKKACiiigAoorn/iZ8WPhh8F/Ck/jr4u/EPRfDGjWw/f6pr2pxWsCnGcb5GALHHCjk9hTjGU5KMVdsaTbsjoKwfiZ8Ufhz8GfBN/8AEj4seN9M8O6DpkXmX2raveJBBCvbLMQCSeAo5YkAAk4r54l/bz%2BLv7RpOjf8E8/2dr7xRZzHaPin8QYZ9F8LQD/nrCHUXepgHIxBGqHg%2Bbitb4c/8E9dM1rxtYfG39tT4m3nxk8cafL5%2Bkx6zZrb%2BHvD8nrp2lKTFG44HnymWY7Q29TXd9TjQ1xMuX%2B6tZfdtH/t53/umns1H43by6/8D5/ccleeL/2jP%2BClSnQ/hYviD4UfAm541DxrdQPZeJfGtuesWnQuA%2Bm2br1upAJpFYeWigsa%2BmvhP8Jfhv8AAv4d6V8J/hH4OstA8O6Jai30zS9Pi2xxIOSfVmYkszsSzMxZiSSa6Kisa%2BJdWKpwXLBbJd%2B7fV%2Bb22SSJlPmVlogooormICiivN/2jv2qPhV%2BzHoNpeeN7u7v9a1iY2/hfwfoVsbrVtdue0Nrbr8znOMucImcsyirp0qlaahBXb6CbSV2b/xo%2BNHw2/Z9%2BG2p/Fn4s%2BJodK0TSod9xcSctIxOEijQfNJK7YVEUFmYgAV45%2BzJ8J/iR8Yvimf24v2nPDUuk61NYyWfwy8C3hDN4Q0iXG%2BWYdBqNyApmI5jQLCDwwpvwk/Zu%2BKnxu%2BI%2BmftQ/tvW9quq6TN9p8AfC2yuRcaZ4RJHy3M7j5b3UtvBmxsiJIiHRh9HV2TnTwlN0qbvN6Sktkv5Yvr/el12Wl25Scnd7HjP7UH/Jb/wBnH/ss19/6hXiivZq8Z/ag/wCS3/s4/wDZZr7/ANQrxRXs1cBYUUUUAFFFFABRRRQAUUUUAeL/AAJ/Y81j4E%2BNPF/jW0/ay%2BJXiOTxx4rh8Qa9Y%2BIbTw6IHu0tbezIT7JpEDpG9vaW0TAPnEIZSrs7NqfD/wDZag8J/Ghfjz42%2BN/jXx1r1lod9o3h3/hKjpkcGiWN5cW1xdQ28en2VrvMj2VmDJcGaQLbqA43Pv8AVKKAPGf28P8AkiGh/wDZZvhx/wCprolezV4z%2B3h/yRDQ/wDss3w4/wDU10Stfw3%2B118HdZ%2BMuo/s/eIby/8ADHi60unj07SfFNkbI63CpwLmwkY7LuJucBGLjB3IuK0hSqVE3BXtq/TuROpCDSk7X0R6fRRRWZZ89fEv9ivX/CXji/8Ajz%2BxH47tvh74y1CXz9e0G6tml8NeKZPW%2BtEIMMx6fa4NsoySwkzUvw0/bz8PweL7T4L/ALWfge5%2BEnj25by7Gz165WTR9cYcbtN1IAQ3Gcj905SYFtpQkZr6ArC%2BI/wx%2BHfxg8IXfgD4qeCNL8Q6LfLtutM1eySeGT0O1wQGHUMOQeQQa7o4uFWKhiVzW2kviXz2kvKXykiOVrWJu0V80L%2Byb%2B0f%2BzR/pf7EPxyF54fh5X4VfFK4nv8ATY0H/LOx1AFruyAHCoxmjyfugVd0X/gor4K8FarB4O/bH%2BGWvfBbW5pRFFd%2BKVW40C8kPa31eDNswxziYwsM8qKHgZVFfDy512WkvnF6/dzIOdL4tD6Koqrout6N4j0qDXfD2r2t/Y3UYktbyyuFlimQ9GV1JDD3Bq1XC007MsKo%2BJPDPhvxloV14X8X%2BHrHVdMvYjFeadqVok8E6HqrxuCrj2IIq9RTTad0B8/%2BDv8Agm/8Cvg/8SrD4j/s3%2BJPF/wyit9US81Xwl4N8RPF4f1gBstFPpswkt0VhkZgWJhnhga5L/gp1%2B3f8Hv2afBMXwj1v4q3mheKfEctifK0m0uDeRaXJclJpopUQpE7LFLGpZ1YE5GMZH1bXmX7VP7I3wR/bH%2BGsvwy%2BNXhoXNvvEljqVsEW8sJQeJIZGVtp7EEFWHUGvUwOLw88fTnmDlKC3tbm8t1ql2d3bZnPjp490G8M05rbm2e%2Bnr2burrVWenx5/wS9%2BGnjn4X/8ABPPxf8dvCnwxl1r4l6rf6hd6Dq93ZC91W/ysflgSXDBpAkhlGxnALI4JzX0L4I/af%2BJUPgHw3ouk6hpHxH8aeItVvbK2t7zSpvCa6f8AYome7/tNXa8e2kjdVQhIyS00eI9uXryz4t/8E3/ib8M/gv4p8QeAP%2BCgHxesRoHhue%2B0aysdVjtT5tnav5EckkKqXiCqE2AAY/Cui%2BAH7OWufF/9lT4YfFP4UfFH/hF/Eeq%2BD9Qk8T6zqmmPq0upXOsxQHUL3LTxFLsTQ%2BZFI3mRpuZDCykAezmTwmMc8a6qnGVS3wzXL7rai%2BbXlSWnL1VttTiyjEUqPLgalF05KPNryvmSai5Nw0u5avS7bbPS/D/7fHwi1fSvCt9e6Dr8MniHSNKv9W%2Bz6aZ4PDi6jM9vaLfTKQIvMuI5YhgEgxlmCLg17jXy1qH7GnxC0rxdrPwp8H6RpKfDvxRqWhXGo6/Nq7fb7PT9OtokbTRbeViRpZonk8/zMAXco2Aou73r406R8Z9a%2BH9zYfAHxpoOgeJjNE1nqPiXRZNQs1QODIjwxzQsdy5UEONpOcHGK%2BfxFPC88VRlZPu9u19NLbW12v1PamoXXKzq6K%2BaPtf/AAWE0D5ptE/Zw8UInXyL/XtGkkHsGju1B%2BrYqS2%2BP3/BTPS3Nv4g/wCCd/hHUQqMTdaB8cYcOQpIAjudPjIyQBy3fnApfUZv4Zwf/b6/WwvZPo1959J0V80/8Nc/t2Wf/IW/4JSeLWHd9M%2BKfhucfgHuo2/Sj/htv9qqLi6/4JX/ABXB7%2BV4m8OSD8xqNH9n4npy/wDgcP8A5IPZT8vvX%2BZ9LUV80/8ADav7Ws/y2H/BKz4os3b7R4u8NxD8zqBoH7V/7f15/wAgz/glTrsWfunVvi/4ehH4%2BTLMR%2BVH9n4jry/%2BBw/%2BSD2U/L71/mfS1FfNJ%2BNX/BU7xEfK0P8AYT%2BG3h4n7s/iT41yXIHuUtNMP5BjSf2X/wAFgfEn7m78Xfs6eE43%2B9JYaPrmtTRj/ZMs1ohP1Wj6lJfFUgv%2B30/yTD2b6tfefS9FfM//AAyR%2B3b4u/dfE7/gqBrttbSf660%2BHvwy0jSCPZZrkXkq/Xd%2BFIf%2BCVP7P3ij/ku/xR%2BLvxQHeDx38VNSktif%2Bva0kt4Mf7Pl7faj6vhI/HWv/hjJ/nyoOSmt5fcn/wAA9H%2BM37bv7IH7PKS/8Lp/aW8F%2BHp4fv2F/wCIIPtZPcLbqxlY%2Byqa81/4eVwfEgfZv2SP2R/iz8UGl/49NaTwyfD%2BiSH1N9q5twV9445PpyM%2BpfB79jf9k79n7y5Pgp%2Bzh4K8MzxD5b3SfDlvFct7tOE8xj7sxNelUe0wFP4YSk/7zsvujr/5MF6S2Tfr/wAD/M%2BYT4P/AOCp3x458X/FH4f/AAL0Sbk6f4MsG8Ta6EPBja8vFitImx/ElvJjsfTd%2BGn/AATP/Zd8F%2BK4Pib8RNI1j4peM7fmLxj8V9YfXLyE5yDDHN/o9rg9PIijx26CvoGilLH4jlcadoLtFW%2B9/E/nL5A6srWWnp/V/wAQACgKoAAHAFFFFcZmFFeeeLf2qfgV4W0TxZqlt8QNO1q68FWkk%2Bv6LoN9Dc3sBQqDH5YcYfcyKdxUKzgMVzXnXjD9qD4oeNNd0D4U/DzSE8A%2BKr/XLnT9ci8YadFfmwmSwe8tolFvcrG63AQgTK7geW67dzKR1U8HiKnSy7vTpf128n0Jcoo%2BiKp%2BIPEOgeEtEuvEvirXLPTNNsYTNe6hqFykMFvGOru7kKijuSQK5v4E/E66%2BLnw2tfF2qaQun6gl1dWOq2KOWWC6tp3glCk9VLRllP91lrzvxH%2Bwf4F%2BLXxRu/iT%2B0x49174kWkeqNc%2BGvBevSpHoGix7sxqLGFVjupFBx5tx5hIxwDzUwpUo1JRry5bdldvyXT5t29QbdtDmdQ/bF%2BLX7Tl3L4P/4J9%2BBodQ03zGhv/jJ4utZYfD9ng7WNjF8suqyjDAbNsAYLukIOK7v9nj9jjwJ8DdevPij4k8Qal45%2BI%2BsQiPXfiJ4oKyX0ydTBbqo2WVsCTtghCqBjJYgGvW7Ozs9OtItP0%2B1jgggjWOCCGMKkaAYCqBwABwAKkrSpi/cdOjHki9%2Brf%2BJ/orR8mCjrd6hRRTLm5t7O3ku7y4SKKJC8ssjhVRQMkkngADvXGUeOftQf8lv/AGcf%2ByzX3/qFeKK9mrwr49eKfDPjb4o/s0eKfBviGx1bTL34x372eo6bdJPBOv8AwhfikbkkQlWGQRkHtXutNpp2Yk01dBRRRSGFFFFABRRRQAUUUUAFFcz8LPjT8HPjnol34m%2BCfxZ8M%2BMdNsNSk06%2B1Dwtr1vqEFveRhWkt5JIHdUlUOhaMkMA6kjkUng742/Bn4ieL9d%2BHvw/%2BLnhjXdf8LTiHxNoej6/b3V5pEhLAJdQxuz27EqwAkCnKn0NAHAft4f8kQ0P/ss3w4/9TXRK7v4x/Az4R/tA%2BEH8C/GTwFp%2Bv6Yzb44r2L57eTtLDIpDwyDs6MrDsa4T9vD/AJIhof8A2Wb4cf8Aqa6JXs1VCc6clKLs11RMoxnFxkrpnzivwy/bN/ZZ/e/BDxn/AMLf8GQ9PBXjrUhBrtlH/cs9UI2XAHaO6XOFA82uv%2BD37b/wN%2BLHiYfDbUr7UPBnjdQPO8C%2BOrI6bqYJ/wCeSSHZdKcZDwPIpHOa9frk/i/8Cvg58fvDR8IfGb4b6R4j0/JMUWp2iu0DH%2BOJ/vxP/toVYetdf1ijW/jx1/mjZP5r4X/5K/M5/YVaX8GWnZ3a%2BT3X4o6yivnYfst/tL/An9/%2ByV%2B0tPfaTF/qvAPxa83VbFV7RwaghF5bKBwoYzqPTHFOX9u3WvhSfsX7Y/7Ofir4eLHxJ4p0yE674fYdAxu7NTJACecTwx4HU8E0vqcqmtCSn5LSX/gL1%2B5yD60ofxouPnuv/Alp99j6HqtrOi6N4j0qfQvEOk21/Y3UZjurO9gWWKZD1VkYEMD6EVj/AA2%2BLfwt%2BMegL4p%2BE/xE0TxJpzY/0zRNTiuY1J/hYxsdrf7JwR6V0NcrU6crNWa%2BTOmMoyV07o%2Bd9Y/4JvfCfwzqs/iv9lfx54q%2BC%2BszyGWQeAdRC6VcS9jPpU6yWcgHosaH3qAeJv8Agpf8EP3XiX4eeCPjbo8XA1DwvfHw3rZUdXe1umktJW9kmjz6Dv8AR9Fdax9aStWSmv7yu/8AwJWl%2BLJ5EttD550v/gpt%2BzXpmoQ%2BH/jxb%2BKvhHq0z7I7L4o%2BGZ9Mhc99l5h7Nx7rMc/nXuXhHxv4L%2BIGix%2BJPAXi7S9b06b/AFV/pGoR3ML/AEeNip/OrmqaVpeuafLpOtabb3lrcIUntrqFZI5FPUMrAgj2NeH%2BLv8Agmj%2Bxn4j1mTxX4a%2BEo8E66/K678ONVufD90jf382EkSuc8/Orc80Xy%2Bp0lB/KS/Hll%2BLD315/ge8UV85j9kr9rX4e8fA3/goX4omtY/mTSfij4YsfEEbn%2B6bmMW1yB2yZGP1NL/wnf8AwVC%2BH3Pib4A/Cn4jQDgSeDfGV3odyfcw38M0efbz8e4o%2Bpwn/Dqxfq3F/wDkyt%2BIczW6E/4KMfHjxd8P/AGkfAD4ZeETf%2BLfjBLc%2BG/D9/e3CQWGnvJGqSSTSufv7JSY4wCXKnGdu1vXfgD8JrL4E/BPwr8G9P1FryLw1oVtp/2t12mdo4wrSY7bmycds4r4a/4KGftbePvix4N8P/s4a7%2Bx58RPB3xDl8SWOu6TdG0ttaGmQWku6XULZdLmnluCg3KV8tRtdju%2BXFfR%2Bnf8FUP2E3uI9M8T/HVPDN62Fe18ZeHtQ0V1buD9tgjH5Ej3r2MVgcXDJcPTp037znKVvebtaMZaN%2B7y3il3UnrfTw8HONXPMTUlK/IoRi9lG6cpR85c3LJvs4rS2v0LRXA%2BD/2q/wBl/wCIQU%2BA/wBo7wJrRf7q6V4us7gn2wkpOfau7t7i3u4VubWdJY3GUkjYMrD1BHWvnZ06lN2nFr1TX5pHvJp7D6KKKgYUUUUAFFFFABRRRQAUVV1fXNE0C1N9r2sWtlAOs13cLGg/FiBXm/jL9uH9jT4fK/8Awmf7Vnw80%2BRPvW8/jCz878IxIXP4CtKdGtVdoRb9E3%2BSYm0tz1KivnY/8FTf2PdWJt/hn4j8U%2BO7k/6u18CfD7V9UMn%2B7JFbGI/990h/bS/aC8Y/L8Gf%2BCc3xPvh/wA/Xje/0zw5D9cT3Ek2P%2B2W72rp/s7Gr4ocv%2BJqP/pTX5E88O59FUV86b/%2BCp/xF%2B7B8GfhjZz93fUfE2oW4%2BgFnAW/76FIf2F/in49Pm/tD/t6fFPxGp4l0vwncW3hewkXujJp8YnZe3M5OOpNH1SlD%2BJWivS8n%2BCS/EOZvZH0UJI2dolkUsoBZQeRnpmvHfhj4o8efDP45%2BLPhL8Yfild6/ZXukQ%2BJvC%2Bs6xa2tsIbfzDbXlmDBHFGEgf7IwLAuRd/MzGum%2BAv7MHwL/Zk0vUNJ%2BCXgRNHXVp0n1a4e%2BuLq4vZUBVXmmuJJJJGAJGWY9aveIvgD8GvGHxN0/4yeL/AId6dq/iXSLQ2%2BjanqsZuTpyEksbdJCUgds/M8aq7AAEkAARGeHhKcdXFrR2V76W6u2t767DtJ2Pm8fBPxJ4s8QeFvg9P4E1S7sbTxFrsx8cWJRtOvfDGqfaLh/9IUkC5NyLJ/LKndJFuxtJYeieEP2RPFXiS51XUf2iPF%2Bn6jeyabo1lpF/4Vjnsp4ZtNeSSLVDI7M0d27yLlVJjCxKvzBmB986dKK1qZhXkrR0/Pe79L9loJQRg/DT4ceGvhP4MtfA3hQXTWls8srz3949xcXE0srTTTSyuSzyPI7uxPdjjAwK3qK8%2B%2BNH7Vf7On7PUaj4xfF/RdFuZMfZ9LkufNvrjPQRWsQaaUn/AGEPUVyRjVxFS0U5SfbVhOcKUbyaS89D0GmXNzbWVtJeXlwkMMSF5ZZXCqigZJJPAAHevns/tO/tS/GwfZv2W/2V7vSdOl4Txr8YJH0m1A7PFp8e68nUjkFhAD6jrS2/7B9z8U7mPWv20fjjrvxPkVxIvhaMf2T4bgYHKgWFu3%2BkbTxuuJJcjqBXR9VjT1rzUfJe9L7k7L5y%2BRh9ZlU/gxb83ovver%2BS%2BZZ8Uft8eEfEeu3Pw%2B/ZL8B6n8YPEltIYrlvDMixaLp8n/T3qsn%2Bjx9/ljMsnGNlUIf2P/ir%2B0JcR67%2B3Z8VI9a07eJIfhb4Leay8PQkHIF1ISLjUyCAf3pSLIP7rBr33wz4W8M%2BCtCtvC/g7w7Y6TplnGI7PTtNtEgggT%2B6kaAKo9gKv0/rUaOmHjy/3nrL79o/9uq/mH1eVXWvLm8lpH7t3838jw39oDw74f8ACXxT/Zo8M%2BFdDs9M02x%2BMF7DZafp9ssMFvGPBPijCIiAKqj0AxXuVeM/tQf8lv8A2cf%2ByzX3/qFeKK9mrjbbd2dSSSsgooopAFFFFABRRRQAUUUUAfKv7C3xS8NQ/Fn47adD8L/iLoVp4g%2BMtvfeG31v4PeIdJtbqybw7olis0cl1YRRiMXFjcoTkBBGGbCOjNxH7Cnw/wDiDpfxh%2BFPhjVvhR4o0PUPhP8ADPxjoPxK17WfDV1ZWep6nf6zpc0LWt1LGsWprcvZ3d951u8qxhx5hSSYrX3DRQB88f8ABQvTfivP4P8ABmo%2BHPGnh618LQ/GH4ejXtGvfDE9xqF458Z6N5bW94t7HHbBW2lg9tMWAIBTII3PG6ftxfDPxfqXivwBL4Y%2BJnhi6u3nh8JagBouq6fGTxDbXa7oLgL/ANN1Rj0396l/bw/5Ihof/ZZvhx/6muiV7NWlOp7N7JrzX9NfJmFeh7eKSk4tbOLt%2BjTXk00eKeDv29fgZqWvQ%2BBfisdW%2BGfiaY7U0H4i2B04zHp%2B4uWJtrgE8AxysTxxzXtMM0VxEs8EqujqGR0bIYHoQR1FZvjDwT4N%2BIWgzeFvHvhPTdb0y4GJ9P1axjuIJP8AeSQFT%2BVeMTfsHaJ4CmbUv2VfjP4t%2BFs%2B4uuk6Xe/2hojMepbTrzfGoP/AEyMXtitrYSps3B%2BfvL7919zObmzKhulVXl7kvud4v5OJ73QQCMEV4IPiD%2B3r8If3fxA%2BCnhr4oaXH97V/h/qn9maiEHVnsL5jG7kc4juPoO1XvDn/BQb9me%2B1aLwv8AEPxJqPw81uU4Gi/EnR5tFlz6LJOBBJ7bJGzxjqKTwla14LmX93X8Fr%2BA1mWET5ardN9prl/F%2B6/lIs/Ej9gb9lv4ja%2B3jeL4dnwv4nOSnizwLfy6JqSuf4zNZsnmn/roHHtXPj4Ift1/CQZ%2BDH7VmleOdPj4h0H4vaCDOF9P7S08RyFveSGT8a980vVtL1zT4tW0XUre8tZ03QXNrMskci%2BqspII%2BlWKqOMxEVyyfMl0kub89V8mjZ4WhJ80VZvrF2/LR/NM%2BfP%2BGv8A49/Dj9z%2B0R%2Bw740sol4bXPh1dQ%2BJbIgdZDHD5d3GvfBgJHv1r3jQdas/EmhWXiLTknW3v7SO5gW5tnhkCOoZQ8bgMjYIyrAEHggEVbqO6hluLWSCG6eB3jKpPGFLRkjAYBgQSOvII9Qazq1KVS3LBRfWzdvud7feaU4VIX5p8y80r/erX%2B44L4L/ABJ8e%2BN/GfxA8MeMdL0dLfwn4pTTdNvtIklxPG9pBdbZVk6SItxGrFTtJzgDpUfgb9pLw541OtalP4K1/RdB0SS/EvizWY7VNMuEs5XinkSWOd2RFaOTmVY%2BEY44qn8F/gl8S/gxb67BJ8WLTxQ2ua/d6vcXWr%2BH0tbp55olUK8ls6xkBo0GRCDsG3HANeXeL/2Zvi1L4d8ea3pXwu8J6Amv6RZW954M8D6l5kWuSpqAuLy8dpbe1T7RJbtLEqsvzMx3y4YEdSp4SpVkrpL3bPbtfR99fJdTmc8TCnF2d9brfvbVfLzfQ958GfGz4VeP/C11418MeNbSTTLG5NvfXV1uthbS/L8sizBGQkOhG4DcHUjIIJ6iOSOaNZYpFZGUFWU5BB6EGvif9onxRL8NEn/aW%2BP3gRdM8K6lrGrau3hvxHbCaKa8tNJaz0m3vkhEqhrjfK4zuVGhgGdwUCj%2Byn8Ov%2BCkfxr/AGb/AApqOpftC%2BH/AIVeFLjSfN0zTfDvhGS71hbIu5iidrw4hxHtEZjJPlhOpznqjlEJ0PburGEL2vJve17LlTcmutlbbU46mbypV/YKlKc7XtFLa9rvmaUU%2Bl3ffRj/ANuf9or4ffsif8FDfh18f/EF5Dew3Hgu48OeJ9K0i/il1OK2luGmt5jasQxiEgc7lwWKlc/dDfb17Y2OqWjWWpWUVxBIMSQzxBlYehB4NfCPwd8Tf8EmPhVLPqvxj8R32teMtQvYrrVPFPx08GX/APaTXCfcKy31oscIU9BGR0UMW2jH1Z4U/bH/AGSfHO0eEP2nfAGou/SG18X2bSD6p5m4fiK3ziMJ0aFOjTm3Tjyubi0pJNtWSvZK7Wru1bY5sm9vTrV6lecEqsuZQUruLaSleWl27ReisnezYzxh%2Bxh%2ByD8QC7%2BNv2Wvh5qkj9Z73wbZPJ9Q5i3A%2B4NcLcf8Epv2AHma40v9naz0eRjkv4c1vUNMOfb7JcR4r3zSta0bXbYXuiata3kJ6S2s6yKfxUkVZrx4Y3HUlaNWS/7el%2BV/0PoeWD1sj52/4dnfBPTuPBXxe%2BM/htR91NE%2BM2toq/hJcP8ArS/8O%2BL63/5BH7eP7RFnjoP%2BFgw3OP8AwJtJM/jX0RRV/wBo43rO/qov84sXJDsfO/8Aww58X7TjSf8AgpB8bkA6fbJtEuD%2BbaaM0f8ADGv7SKcQf8FLvimB/wBNNC0Bj%2Bf2Cvoiij%2B0MV3X/gMP/kA5I/1f/M%2Bd/wDhjL9oqXi7/wCClnxXYf8ATHR9Aj/lp9H/AAwn8TLzjWf%2BCjXx4k9RZano1t/6Dppr6Ioo/tDFdGv/AAGH/wAgHJH%2Br/5nzuf%2BCeMNz/yGf23P2iL0HqP%2BFoPbZ/8AAWGLH4Uf8Owf2aNS/wCR38RfE/xPn73/AAkHxg1%2BUN9Ql2gNfRFFH9o47pUa9LL8ooOSHY8B0j/gln/wT40i7F%2B37K3hnUJx/wAtteSXUmP1N3JIT%2BNej%2BDf2Z/2cPhyUb4ffs/%2BCdCMf3Do/hWztiv0McYrt6y/EXjfwX4QiM3izxfpeloBkvqOoRwDH1dhUTxeNr6SqSl85P8AC/6DtCKvojUACgKoAAHAFFeS%2BLf29f2J/A4YeJP2rfAEUiffgh8VWs8o/wC2cTs36VzX/Dy79mDWP3Xw0HjfxvN/DD4N%2BG%2Br3u76SC2EZ/B6I4LGSV1Tlb0a/F2X4mMsXhYuzmr%2Bqf5XPf6K%2Bf8A/hsH4%2BeLOPhN/wAE9viVeD/n48Y6jpegRfXEtzJLj/tnn2oOrf8ABTnxx89h4P8Ag58P7aXjGparqOv3kI9dsMdrET/wIj2qvqVVfHKMfWS/JczF9bpv4VJ%2BkX%2Bbsj6Aqnr/AIj8PeFNLk1vxRrtlptlCMy3d/dJDEg93cgD8TXhX/DJf7Snjbj4zf8ABQHxpLAeTYfD7QrDw9GD3HmhJ7jH/bUH0Iq5oP8AwTb/AGPbDU4/EPjD4XyeNtWQ5bVfiHrV3r0rt6kXskkYP%2B6oFHssJD46t/8ADF/nKy/AXtcTL4adv8TX5K7/ABF8Sf8ABSD9kbTNVk8NeCviLP481pDhdF%2BG%2Bj3OvTu393Nmjxqf951FUD%2B0B%2B218U/3fwT/AGN4fCtnLzDr/wAXvEkdoVHqdPsPPnJ9meP8O3uvh3wx4a8H6VHoXhLw9Y6XYwjEVnp1okESfREAA/Kr1HtsLT%2BCnfzk7/guVfiw9liJ/HUt/hVvxd3%2BCPns/slftE/FT99%2B0t%2B2h4jltJPmk8MfC%2ByTw5YjP3o2uFaW8mTt/rkz6dc9/wDBn9kn9m39nyRrz4RfB3RtJvpcmfWTbm41CcnqZLuYvPJnn7znqfWvRa8%2Bvvjbr2i/FHTvBPiP4U6hp%2Bkazq8mlaP4hn1G3b7Vdrbyz/6hGLrEyQS7XJ3EocoowaTxGKrxcE7LsrRX3K1/ncl08Lh2pyWt7Xd5P73e34I9BrJ8Z%2BOfC3w/8OXfizxZqn2exstouHjgkmfczBVRY4lZ3diygIqlmLAAHNeH/Eb4r/Ezwv8AEPxb4yi%2BIE0GneEPEWlWVz4UntoDay6TdxW6Pd7xGJvMWafzN/mbVWFk29SfLvDPw/a9Fl8IfhTZw2Hji00KeTxZp0kQiU6xpN4l1p2o3e0DL3Fw2ftWCZVLfMwTAung01zSlp/T17brXVHHXzVxk4U4Xeq16u7Sslvqno2nZfd9f%2BBvHnhP4keH4/E/g3Vhd2jyNGxMTxyRSKcPHJG4Dxup4KOAw7ivNvib%2B1T4h0bxvf8Awm%2BCX7PXi7x14l09kS9kS1/szR7J3RZFE2oXQWM/I6tiFZTg4xnitj4D6B4zg8TeNfG/ijwTd%2BGoPEWs29xZaLe3tvNIGjtY4pbhvs8kiL5jrwN24rGhZVYlR6TWD9lSqu65l6/nbe3yOtfWMTh42lyPq7a21WiltfR6p27HgPxiuPHd149/Zhufibpul2evv8Xr06pa6LdST2sUv/CFeKfljkkRGYYxyVHOa9%2Brxn9qD/kt/wCzj/2Wa%2B/9QrxRXs1Yt3dzriuWKV7277hRRRSKCiiigAooooAKKKKACiiigDxn9vD/AJIhof8A2Wb4cf8Aqa6JU3jK1/bY8EeK9Q8R/D/U/Bvjvw/cXTzW/hjWIZNH1CziJ4ghu4/NilwP4pY1J7t6w/t4f8kQ0P8A7LN8OP8A1NdEr2SOWKUExSKwVirbTnBHUfWrhPkeyfqcuKwyxMUueUGtU4uz/JpryaaPEYf26fA/hGVdO/aN%2BGvi74Y3W4I114k0gz6Y7%2BiahaebAR7uyfTpXrXg3x54H%2BImjp4h8AeMdL1ywk%2B5e6RqEdzEf%2BBxsRWpNDFcRNBPEro6lXR1yGB6gg9RXkvjH9hr9mfxXrD%2BKtL%2BH/8Awi2utkrr/ge%2Bm0a8Vv7xe0ZA5/3w1XehLdOP4r8bP8WcfJnOH%2BGUKq/vL2cvvjzQfzjE9cqj4j8MeGvGGky6B4t8PWOqWE4xNZajaJPDIP8AaRwVP4ivHP8AhSH7Xfw4%2Bb4RftXReIrOP/U6L8UfDyXZI9DfWZgm/Flf8e/pPwk1T4v6r4Ykf42%2BENE0fWYbx4lj8PavJeWtzCFUrMrSRRvHliw2MCRtBzzgKUFBc0ZJ/g/uNqGLnXn7KtQlB26pSi/%2B3otr5NK/Y811T/gnj%2Bzhb6hLrvwns9f%2BGupTPue%2B%2BG3iK40lSfe3RjbMPZoiO3SoP%2BFQ/t3fDr5vht%2B1T4f8Z2qcRaZ8TPCIjlC%2BhvdOaIk/7TQt%2BNdD%2B0DrviG28TaLpfwu8eawni6S5gW18O6csUtpLbNPH5898jxt5cKxb/3m%2BNsgKhZiFM/xq%2BM3jXwH8R/C3gfwra6HHHrUM73F74iW7jt2kWSGOK2S4hjdIpXMjECQchDgZrpjWxMklJqV/wCZX283r%2BJ59VZbQlUai6fK4q8G0m5baRfLe%2B6cdLpvdI5f/ho39rTwF8vxe/Yh1LUreLiXVvhn4qtNVV/9pbW5%2BzTgewDH%2BVS2n/BRr9luzuU0z4k%2BItc8A37sFNj8QPCl9pJU%2B8s0QhP4Oa7NP2hdEPxFTwG3hLVWtjrI0aXxFF5LWSan9mFz9m5kEp/dnHmCPZv%2BQkNxXBfFP/gpF%2Bxv4Esp9I1jxvPrmoyssNn4Y0nQbm5u9VLjKC3jaMJOjj7sgbyz/e5rSjQli6ipwoNyf8jf5O6%2B9r5BUx1LCwcvrkUk7fvEt10TXI38lK/S70PXPA3xd%2BFHxPtxd/Db4neHvEMRXcJNE1mC6GPXMTtXl37UH7ZsPwg8U2HwL%2BDHgeXx78VNdiL6V4RsJwiWcOP%2BPu%2BlPFvAOvOC3baPmHzvqf7CvxL/AG8vEMfj/wAefBPwl8BvCYfzLCy0vwpZy%2BK9SGeJLmfYBacchR86nIZTw1etfDz/AIJS/Br4PSzax8IPjf8AFTw1rd5Csepa9pviyM3F/tOV89ZIGikAPQbAK9BYPJ8BPmxFXnmvsLVJ9OecXay6qF29uZas5fr3EGYU3HD0VCLf8RvlbXVwhUV030c7LryvREnw7/YH8RfEjxZYfGz9vf4in4heJ7SYXOl%2BE7YNF4b0GTOQsNtx9oZenmSj5sDcrEBq%2BnQABgDAHQV4R/woP9tXw1z4M/brXU4o/wDVWnjT4cWV1uHo01m9s344Jo%2B3/wDBSzw589z4c%2BC3iqJOos9R1TSJpPoJI7lAf%2BBYrixlavj5pzqxaWiivdjFdox5Ul%2Bb6tvU7sGqOXQajh6ib1lLScpPvKSk2/ustkktD3WSKOaNopo1dGGGVhkEehFcV4r/AGZ/2cfHe4%2BN/gB4J1gv986p4Vs7gn/vuM15/wD8ND/tk6Lz4p/YAvrmNf8AWTeF/iRpl5%2BIS4%2BzOfpil/4bi1DTvk8V/sY/HHTWX/WND4Jj1BB9DZXExI/CuaGHxUHem/ukv0kjqlmGAkrVLr/FCa/ODQuq/wDBMv8AYK1W5N4P2YPDVjMf%2BWuixSaew%2Bhtnjx%2BFVf%2BHav7NWn8%2BDtT%2BInhw9joXxX12Lb9A12wH4CrP/Dxr9mmx%2BXxcvjjw8/ePXfhlrcO36kWhUfialtf%2BClP7C1zMLeT9pPQLSQ/8s9S860YfUTRriujnzlLeb%2B9/wDyRj9YyFv46a%2Baj/8AIlL/AIYDtLbjR/2x/j9ZD%2BED4nS3OP8AwJjl/WgfsT/Eux/5An/BQf42x%2Bgvr/SLrH/fenV1em/tx/sY6uB9h/av%2BHRJ6JJ4zso2P4NKDW3Z/tOfs2aiAdP/AGhPA84PTyfFlm2fykqHXzJfEn84L9YG0XlU/hnH5T/yqHnP/DJv7TVvxp3/AAUe%2BIagdPtPhfQZv52Qo/4Zf/a/XiL/AIKUeLwP9v4e%2BHW/9s69Xg%2BNfwauhm1%2BLfhiTPTy9etz/J6sr8Vfhe4ynxI0Ej21iD/4qo%2BtYvrFf%2BAR/wDkDRUsG9p/%2BTv/AOTPH/8Ahlz9rqTi4/4KTeMSP%2BmfgHw8n8rOj/hkX9ou541P/goz8S3Hf7LoWhQfysTXr7/Ff4WxDMnxK8PqP9rWYB/7NVS5%2BOvwRsxm7%2BMfhWID/np4htl/m9H1rGPaK/8AAI//ACAOlglvP/yd/wDyZ5X/AMMO%2BNrz5ta/b9%2BOs5PVbXXtMtlP/frTwR%2BBo/4d9%2BHLvjX/ANqv486kp%2B9HP8WL2FG%2Bq2/livQb79qv9l7TATqX7SPgK3A6mfxhZJj85awdU/b2/Ym0gE3f7WHw%2BbHUW3iu1m/9Fu1Wq2Zy%2BFP5QX6QMpSyiHxTj85r9ahzZ/4Jk/sjXvz%2BKfDnivX5P4n174k65dbvqrXm0/lWp4d/4Jw/sHeGJRNp/wCyd4HncHO/VNDjvST6k3AfJqq//BS79hwuY7D4/WGoMP4dI0y8vT%2BUEL5pP%2BHh3wQ1H/kSfA3xP8S5%2B7/Yfwp1l930Mlsgq3LOGrNzS9Wv1iZLE5CnpKm/S0vyUj1Hwn8GPg94CKt4F%2BFHhrRSn3DpOhW9tt%2BnloMV0teEf8NoeOdY/deCf2F/jLfSH7jano1hpkR%2BrXV4rD8Vpf8Ahd37dOu/uvD37Del6Tu%2B7ceKfilars9zHZwXGfoGrmlhsRJ3m185L/5Js3jmODStTUn/AIYT/wDkEj3aivCP7O/4KV%2BJP3V14n%2BDHhSJ%2Br2OmaprE8Y9jJJbIT9Vo/4Zh/ag8TjyviT%2B394p8hvv2/grwlpej/8AfMjx3Eo/77NT9XgviqR%2BV3%2BS/Uf12tL4KE368sf/AEqTf4Hu9cL8Q/2nv2cfhMHHxL%2BO3hLRJI87rfUdft45ifQRl97H2AJrgT/wTs%2BAmu/P8V/Efj/x6/p4y%2BIWo3Mf/fmOWOHHtsx7V3Xw9/ZW/Zp%2BE5jk%2BG/wD8IaNNHjbdWPh%2B3SfI7mXZvJ9yTRy4OO8pP0SX5t/kHPmlTaEI%2BsnJ/dFJficKf%2BChvwa8RfJ8F/AXxE%2BIrHgSeDfAt29vntm5uVhgx/teZj3pP%2BFs/t7fED934A/ZX8M%2BC4H5j1H4jeMxcSbfe001JMH2My%2BhxXvNFHtqEfgpr5tv8ADRB9VxlT%2BJXfpCKj%2BL55HD/BTwv8e/D1nqF18evivo3iS8vZY3s7bQfDR06205QG3RoWmlkmDEg7nII29OayviZ8Lfi74w%2BNnhzx14W8Y%2BHdO0XQNLuESLUdHnvLoXc8iLLLGFnijU%2BQhjV237fNkO05rr/HPxU%2BGPwxs/7Q%2BJHxF0PQINu4S6zq0NqpHsZGGa8vn/b9%2BBWsStZ/CLTfFvxFuUYq0XgTwndXkQPvcsqW4HuZMUQ9vKbnGP4advJfiY4nEZXhqaoV61mmnZzvN2d9lzTev907zWPgP8OPFer6X4n8daONb1fSJd9pqd3iOQ4kWRFdYAiSojqrKrqwUqD15rssAdB1rw8/E39uT4h/J4B/Zz8N%2BCLVuU1H4h%2BJvtU5U9/senhsN7NOvvikP7LPxn8f/vPj1%2B1/4rvoW5bRfAttF4es8HqjPFvuZF7czDP6UpQbS9pNafP8Fp%2BJEMfzN/VMNOV%2BrSpp%2BrnaT/8AAGeh/FL4%2B/BP4J2f234s/FPQ9ABXdHDqOook0v8A1zizvkPsqk151/w1942%2BI37j9mj9mXxZ4oif/VeIfEkX9gaSVPSRZLtfPmX2jhOfX07D4Xfsnfs5fBm8/tb4efCHR7TUi259ZuYDdX7t3LXU5eYn6vXodTzUI7Jv10/Bf5l%2BxzjEfxKsaS7QXNL/AMDnovlA8E%2BNEnjeX4g/sxyfEi10uDXW%2BL96dTi0SaSS0SX/AIQrxTkRNKquy4xywBr3uvGf2oP%2BS3/s4/8AZZr7/wBQrxRXs1ZN3dz1IR5IKN27dXu/XbX5BRRRSKCiiigAooooAKKKKAPl34DftjfG34gfGLwtJ420zwsvgP4ma14u0zwVZ6XptzFqulyaLdyxQyXlw9y8V0t3b21zMVjhgNu3lx5nyZBd%2BDX7U/xd8TftheK/gp8XvE2ieG9Mt/Euoaf4D8N3vwn1uxuvEVpb2sM32m2124u/sF643Ts8FvAXVIWJ2hWaui8HfsGeBvAXxLk%2BJHhf4u%2BN4Ba3ur3fhXQJJ9Ok0/wxPqt8l7qb2SPZGQm4kV1/0h5/JjnlS38hWwN%2BX9lqDWvjno/xu8ffG/xr4lXwxq95qng7wnqp0yPS9CvLm0nsnmh%2By2UNzMy2t1dQp9pnmCrcPgbtrKAcZ/wUL%2BLnwo8NeD/Bnwo8R/E7w9p/inxB8Yfh7LoPhq91qCLUNSSPxnozSNb27OJJgqqxYopACknGDXZeMf2PPhN4j8T3vj3wtqHiLwd4i1Gdp77XPBviCaykuZDyWliy0MpJ674znvWd%2B3h/yRDQ/wDss3w4/wDU10St7xL8Yfiz4J8QXkOu/s6axqmiR3DCz1fwrqUF7LJFn5We1cxyKcdQu/2zUyqqkrv8m/yueZmkMtnSj9dp80b6PllLldt7xXNHTTmVu1zA/wCEJ/bY%2BHnPhD4w%2BFvHtmvSy8aaM2nXgUdFF1ZZRm92g%2BvrR/w1P8QfBg8v43fsqeNdEVfv6n4aSLXrJV7sWtT5yj/ehHvW9oH7XHwA1q/XRdR8eR6DqJ4bTPFNrLpk6t/dxcqgY/7pNeiWV9ZalapfadeRXEMgzHNDIHVh6gjg0QrUqvwtP0/r9Dz8Nh6VZN5djZWXRyjVS9VP31/4Ejz/AMCftb/s1fEm6/s3wp8Z9Ce93bTpl9d/Y7sH0MFwElz/AMBr0RWVlDKQQRkEd65/x38JPhZ8UbX7H8SPhxoevR7cKNX0uK4Kj/ZLqSv1GK87b9hr4R6GTJ8JfFPjTwE5OdvhDxbcwwE/9e8zSwY9tmPatPdZ1e0z%2Bh8VOnVX92Uqb%2B6anH/yZHbX3wJ%2BGN348uPijbaHcWHiG8jRL7VdJ1S4tJLtUTYgmEMirOFXhRIGAwCOQKxPi98JI/E%2BjSHxr8adSsPB1rbwT%2BINMvI7TyZYrVllMj3LxiSIExqZCXIKhsbc5ry749%2BN/jR%2Bxr4Em%2BI/jH9s/wAO3%2BlxEx2Wm%2BPPByG5vZMcQwvp8kTzSH2iOPvNgAmvGPF3/Dw39uXw/oeo/Gn9na%2B0P4Tyyx3WreCPDer29nq3iBEIZBcG6mV4oCQD5Q2uR6nY6%2BrgsBVrRWIrT5KS05n1t0gnrKXZLRbylFHi43OMHSjUwzwdT2rXM4JXTu7c05UpSSi3rK8bySdoyH%2BF/h5%2B0j/wUCsfFOvfCf4rS%2BB/hRH4s1a/8JazHpjR6r4lu5HkxKHLAw2qMfLWQbX2pypbJT2f9iL9izwN8AvFNx460P4Ky%2BEZY9Ah0xE1e/hvtRvbkt5l1dyzxSSKFZhGiKrAbUY7E3ba6jQf2ufhh8O9EtPDXin4F/ELwDpmnWyW9rFfeAp3s7aJFCqiPYiaMKAABg4A9K6Xwr%2B2R%2Byt40kEGg/H/wALGYnAtbzVo7WbPp5c5R8%2B2KMVmVapGVGiuSk9ort/ea%2BJ6Xbeid7JIwy7DcNU8VTr1cTGVda%2B9Ll11fuxqcrjFXaSirtW5nJkHxG%2BPnxV%2BHPjK80sfsm%2BMfEXh%2BHy/sniHwtf6fctcZjVn/0WS4jlTaxZehztyOtYf/DfvwR0f5fiT4Y8f%2BDG/wCpo%2BHmpQoP%2B2kcMkePfdj3r2bTNW0rWrRb/R9Tt7uBvuzW0yyIfoVJFWK85TpWtKH3N/8ABPppYfMXJzo4lWeqUoRkvROMou3bf1Z5d4W/bb/ZB8ZMI9B/aU8GNIxwsF1r8FvKT6bJmVs/hXoWheKfDHiiD7V4a8R2GoxYz5ljeJMuPqhIql4p%2BGHw18cBl8a/DzQ9YDDDDVNJhuM/XzFNee67%2BwJ%2Bxh4gn%2B1XX7NvhW1lzkS6TpwsWB9QbYoR%2BFH%2Bzvuvuf8AkK%2BeQ6Up/OpB/lNHr1FeJD9gL4G6Zz4H8S/ELwwe3/CP/EvV4gPoHuHA%2BmMUf8MdeKdO%2Bfwv%2B2j8Y7Nh91bzX7O%2BQfUXNo7H/vqjkovaf3p/o2H1rNo/FhU/8NWP/t0Ys9tqK7srO/iMF9aRTIeqSxhh%2BRrxf/hn79rOw%2BXRv29dWdB91dY%2BH2k3GPqY0iJ/Oj/hWP7eWmc2H7VvgrU8dBqfwweLP1MN/wD0o9lDpNfj/kH9o4pfFhKny9m/yqI9K1L4PfCPWCTq/wALPDl0T1%2B06Hbvn/vpDWLe/sqfsvaiSdQ/Zu8Az56%2Bd4Psmz%2BcVcf/AGX/AMFGbT5YvGnwXvgOjTeHdWgY/wDfN24/Sjz/APgo5D/zC/glcf8Ab/rEOf8AyE9aJVVtUX/gTMZYzDy%2BPB1PnSi//bmb0/7En7Glyd037Jfw0JPUjwNYA/pDVdv2Ef2KXOT%2Byb8Ovw8H2Y/9p1k/23/wUXh/1nw4%2BDU3/XLxdqq/%2BhWNH/CU/wDBQxeD8G/hO3uvjjUB/OwqufFL/l7/AOTv/MydfLXvg5/%2BCEa8f7Cn7FUZyv7Jnw5P%2B94Nsj/OOrVt%2Bxb%2Bx1ZnNr%2Byf8NUI/iXwLp%2Bfz8mue/4Sf8A4KHPwvwf%2BEqe7%2BN9RP8AKwo/tb/gozN9zwH8FoP%2BuninVnP6WQ/nRzYl71f/ACd/5gq%2BWrbBz/8ABCO1sf2Y/wBmzTCDpv7Pfge3I6eR4Ts0x%2BUdbumfDP4b6KQdG%2BH2iWhXobXSYY8f98qK8t3f8FHZv%2BWPwStv%2B2usT4/8dSj%2Bwf8Agonf/Lc/Ez4PaeD/ABWfhHU52H/fy9UH8qhqpL4qi/8AAmzaONox%2BDCVP/BUV/7cj2xI0iQRxoFUDAVRgClrxL/hUf7c2ofNf/tj%2BGrDPVNL%2BFaNj6NNet/Kj/hnD9pnU/k8S/t7eKjGeqaN4P0az/JjbyMPzNR7KHWa/H/I1/tDFv4cJU%2Bbpr/29nttFeJH9i24vefEn7Xfxq1At95V8bJZKfoLOCIgfjVKH9hf9kXV9RudM8Tza34nv7JA99Dr/wAR9TvJIlOcNJE11tAODyy84o5KC3n9y/zZLxmauyWHjG/81WP/ALbBnr3ib4m/DfwUrN4y%2BIOh6SF%2B8dT1aGDH13sK88179vv9jTw9c/Yrj9ovw1ez5wINEvDqLk%2BgW1EhJ9hVf4WfstfsFahp7a18Kvgr8N9XggnaI6haaZaahskXqvmsHIYZ9c816xoPhXwv4Vtvsfhfw3YabDjHlWFmkK/kgAo/2dd39y/zFCec4iCnCVFRezXPP8bxizyD/hurwTrPPw3%2BB/xX8Wo3%2BruNH%2BHt1BC3/bW9ECD8TR/wvL9sPxR8vgj9isaXFJ/qr3xt49s7baPVobRbl/wyDXt1ZviPxn4P8H2/2vxb4r03S4sZ83Ub6OBcfVyBR7Sktofe2/8AIJ4XHcvNXxjiv7sacF98ud/ieRf8Ih/wUD8YjZr3xm%2BHHgqI848MeFbnVZx7eZeTRp%2BPlfgaP%2BGMtU8UfvPjF%2B1X8UfE5f8A4%2BLK219NGs5R6eTp0cJx7FzWvrn7c37JehXf9nD446PqVz2tvDxk1ORj6BbRZCTVL/hry/8AEB8r4Y/swfE/X2f/AFFzceHV0q1k9/Nv5Ijj3Cmq9rVXwpL0SX/BPLlV4ZcuWpiHWfb2k6v/AJLTuvwNTwP%2BxR%2Byh8O7z%2B1PDXwG8PNfbt39papZ/b7rd6%2BfdGSTPvur0%2BGGG3iWC3iVERQqIi4CgdAAOleOf8Jh%2B3R4v/5AHwZ8CeDov%2BenijxRNqU318qziRM%2B3m/jQfgJ%2B0l4v/5KZ%2B2FqlrbvzJp/gPw3a6YF9hPMLibHuCKzlKc3ecr/O514fF0aEOTAYKdvKEaUfvm4v8A8lbPXtR1LTtHs5NR1bUILW3iXMs9zKERB6lmIAry/wASftufszaFqLaDpXxJi8SaoOF0nwdZzavcM393baLIFP8AvEVQsP2J/wBmFdbhfx1o114z1naZUl8deIbjVZXUcFvKuJGjx7hAK7v4aa98IJBdeEfhUmlWyaa2J7DS7EW8aDcyblUKqsu5WXcuVypGazcqadmzSVfOqs1BulRvort1Jd3ZL2cLpepwf/C%2Bf2kfHn7v4Rfsn6hp8EnEer/EfWYtLRD/AHjaw%2BfcMPYqh/lQfgl%2B1B8Q/n%2BLf7UL6Jayf63RvhpoyWOPb7Zcmac/VQh%2Bnb1jxF4r8L%2BELA6p4t8SWGl2o63Oo3iQRj/gTkCvPLr9sH4PXlw%2Bn/Dz%2B2/Gt2jYa38HaHNeqD7zACED3MgqZ16VN2bS/P8AV/gc%2BJoYGjJLMcZKTf2edQT9KdK0n98jmPjd4VsvBHxG/Zk8J6dqOoXcNj8X72KO51W/kuriX/iivFB3SSyEs7HPUmvea8J%2BO2s3/iH4m/sza3qnhy70i4ufjDfPJpt80Zmtz/whXij5XMbMufoT1r3amnzK59DRVNUYqmrRsrb7W0312769wooopmgUUUUAFFFFABRRRQAUUUUAeM/t4f8AJEND/wCyzfDj/wBTXRK9N0/4i%2BAdV1u48Nad400ubUbSZobmwS%2Bj8%2BNwcFSmdwOfavMv28P%2BSIaH/wBlm%2BHH/qa6JXo/i74VfDXx6D/wmXgTStRcj/XXVkjSD6PjcPwNc%2BI%2BtqKdDlv1UubVeTjs/VNGVb29l7K1/O/5rb7maWveGvDniqwbSvFGgWWpWrfetr%2B1SaM/VXBFed3v7HnwOjun1LwVpGpeEb12z9r8Ha1cacQf%2BucTiI/ihqfUfgN4Y8H2cmqeD/il4m8JW8C7isOvGazj92iuvMQD6Yqr4k1D45/Cvw1eeMtX%2BLngzU9E0%2B1a5vb/AMTWLaaIYVGS7TQu0YGO5QCvPeKqyq%2BzrYZuWnwONR6uydk4VLN6L3d9NXoeViqWHr%2B/jMKnb7S5ZW%2BfuTX3oT/hUX7RPhTnwD%2B01LqEEf8AqrDxt4dgvN3s09uYJPxOa8x/aN/bk%2BLv7JemW%2BmfE34d%2BEfEniLWWNv4Z0bwj4inN7f3LcRgWUkDS7N2AWDEDOASSAfNm%2BPH7Zf7dezxL8NbDxX8OfhChktj4g8FWsNzrHiORX2tLbNcmGW2t/7siJuyCDuOVT0r9nj4Y/sJfsza63iux0TV7Dxhcgre%2BKviNZ3kmqTswwzG4uE2IWHB8vaCOor3ZPIMnrJZjiHGorN0tY72ajOc1yRfSUYylNap8sr2%2Bd%2BsPEu2XVZ0YP7dSb5Wu8KdSMubybnCPVXW/AfAHwjp%2BiePY/2l/wDgoL4S8dav8ST81lcap4Pmn0LwwmcrDYJbecileP3zfPkZGDuZvqTwx%2B1F%2Bzr4wkEGg/Gfw80xOBbXOpJbzZ9PLlKvn8K6bw94%2B8C%2BLlDeFfGelalkcfYNQjlP/jrGk8T/AA98A%2BNozF4y8D6Pq6kYK6npsU4x/wADU1nicfjMyn7b2kZLZJJcsV0jHlbSS8vV3bbftYHLsbgKPLhK0Jpu7covmk%2B8pwm%2BZ%2BbXlZKyNS0vLS/t1u7G6jmicZSWJwysPYjg1k%2BK/hv8O/HcZh8ceAtF1lCMFNV0uG4BHpiRTXE3f7Gn7OUlw17o3w%2BOiXDHIuPDmqXOnsp9QLeRF/MVH/wzT4h0j954J/aZ%2BIunMv8Aq477VYdSiX/gN1C7H/vqufnxEd4X9H/mkdVSpmUoclfCxmv7s4tf%2BA1IL8ytqf7B/wCyVqF22oWnwX0/Sbhv%2BW/h26uNMYfQ2kkeKg/4Y2sNL/5En9o74s6Eq/6qCDxq93CnsEvUmGPatD/hAv2ttD/eaN%2B0J4d1rHSHxD4J8rP1e1nT9FFH9u/tm6Kd9/8ADv4fa6g/h0zxFd2Tt%2BE0Eij/AL6NV9ZmvijL7r/k2eW8Hk0XeeXypvvCFvxo1I/kZ5%2BB37VOk/L4a/bVup41%2B5F4j8B6fdfgXg8hj9c0f2Z%2B35o/7u18XfCbXEXo17o2pWEjfUxzTKPwWtD/AIXZ8edM%2BbxJ%2ByNrewfek0TxNp95%2BStJEx/IUf8ADU9taf8AIe%2BAPxQ08D77P4Oe4VfqbZ5RR9bpddPVNfoK2TQ2r16XrKuv/S4VF%2BJQ/wCFgftw6J8mq/s3%2BCdax1fRPiHLBn6LcWQ/Uij/AIaB/aQ075vEH7D/AIj2Dq%2BkeLtJu/yBnjb9BV//AIbO/Z/t/l1rxDq%2BlOPvJqvhPUbfb9S0G39at6f%2B2H%2By7qZ2wfHXw5Gc9LrUFgI%2BvmbcULF4Z/aj9/8AwRxxGCvanmrXlKVF/wDpUIMxf%2BGudZtfl1n9kb4v2rD7xi8NW1yv4GC6cn8qB%2B2t4Gt/%2BQ38Hfitpo7m9%2BGeo4H4pGwP4V21h8fPgXquDpfxo8J3OenkeI7V/wCT1s2fjjwVqOP7P8YaXPnp5OoRt/Jq0VWjLZr7zsprGz/hZhCX/cOk/wD0mojzD/hvL9nCHjU9W8T2Ld1vPh/rKY/H7IRR/wAN/fskr/r/AIrND/18%2BH9Qi/8AQ7cV7BDcQXC77eZHX1RgR%2BlPq7x7HR7DPumIpv8A7hP9Kp45/wAPA/2Nx/rPjzpMf/XWGdP/AEKMUo/4KB/sYH/m4fw%2BPrK4/wDZa9ipCqnqAfrR7oex4g/5/Uv/AAVP/wCWnjp/4KCfsYj/AJuG0A/7skh/ktH/AA8C/Y6PEXxz06T/AK42ly//AKDEa9jAA6Cij3Q9jxB/z%2Bpf%2BCp//LTxz/hvz9k9%2Bbf4l3U//Xr4X1OX/wBAtjR/w3b8AbjjR18Y6iT0Fl8OtYbP/fVqK9jqG5v7CyG68vYYh6yyBf50XgugnQz23vYmmv8AuE/1qnNfCn4u6J8XtNutV0Pwv4l0yK1mEZHiTw7cac02RndGs6qXXtkcZ4rhvjvZXvhX4m%2BGfiNo%2BpyQRDXLSDWPL8UXZnkSRvJWCGwYm3ZG3guw2uNpIBOTXpV78R/h5puTqPjzRbfHXz9UhT%2BbVyGs/FH9kO28Tx%2BNtd%2BIHw6GtwRhIdVuNTsTdoozhVkLbwBk8A9z61m61KDu5JfNf5mWO9lUwUaVbEQ500%2BZuMNne6Sn5Wtez1u1c80%2BPd9oJ%2BIGt69fXVpL4hks9Hm%2BF12kiGadkuMXNvZN3d2OHVDlkl%2Bb5Rxn6j4Kvdf8U3fw%2B0bw7cJ4re78SxeIbz7A8aXNleRM8cjzEBXjkYxIgySpyAFCnHqT/ti/spaSFsbX4x6E4jXbHDpxafA9AIlb9Kb/AMNjfBm8%2BXw3D4q1luy6T4I1KXP0JgAP51P1zDL7a%2B//ACueHWoZJWrynPGU/ed2otN66vZyfN9lStdQ91plf9nyDWdS8Z6p4rfwhqmiWj%2BHNLs7231TTJbVptQijZZdqyKvmCNQsfmrlGGNjMBmuh%2BK3wl8cfEjV7afQv2gPE/hLTorby7jT/DlvZBp33E%2BYZp4JHU4IGBxxnGc1jf8NO6le/L4f/Zo%2BJ14x%2B6Z/D0Vmp%2BpuZkI/Kj/AIW3%2B0pqX/IE/ZOkt1b7smueNrODHuVgEx/Cp%2BtUm7q79E3%2Bh6dKtlX1L6s5TqK924wqq7vf7EY2XkpWet9zP/4Yl%2BH%2Bq/L4%2B%2BKvxM8UIfvQaz8QL1Im/wC2ds8Kj8AK0vDn7Ev7Jfhe4%2B2af8APDU8%2Bc/aNVsBfSZ9d9zvbPvnNN%2B0/tq6v80Wl/DTQ0boJ7q/1CRB7hVhUn8aP%2BFV/tOax82v/ALUkNgr/AH4PDvgq2i2j0Ely8x/HAo%2Bs1HtGX4L82ZwwmUqXNSy2Un3lCN/vqzmz0fQ/Dnh7wzaDT/Deg2WnwDpBY2qRJ%2BSACrm9A4jLDcRkLnnFeWf8MrWGp/8AI6/HH4j64rf62CfxW9rC/tstFiGPaui%2BG/7P3wg%2BEmqT674A8Gx2V/c2/kXN/LdzXE8se4NtaSZ3YjKg9eoojOtKWsbL11/Bfqezh6uYucYvDxhD/Gm0vKMIW/FFH48%2BJPiR4K0iPxZ4KvWkgtiPO02DQWujKRlmeWUSZihCKclULA4wTkLVX4r%2BHvEviq/0Txv4Yv7W90e0sZZruzuvFV1p1rLnY8c37gFZsYwBJhME5Iq58Zr3SdQ1bQ/AmqX2tRQ6vctFe/2RfCBfKfEYEx2lijO6phCpyeuBWN8RrXRtLkv9Ki8C6Ff6L4W0u31W807WLA3JdCJIwYC77IdkcDHO05K44yTXBicXQpupdtqLSdr6Ozl93Km3vttfQ4MZCU6lZOTcPd0u9JK8tEk/dsveWu2z1OPv9WtPEHiGHxzD4dvLbxB4iu9D1bwpNJYs06wyRLDPbmQAhViTzGkQkAhi2CX56r4YeCfGGi%2BL/D%2BhXnhS6srbwnZ6jZyaszxeRe2ry4tI48OXY%2BWEdtygIyFec1NeeKPHsT3F5pXiORkvtV1DRrPS1tolWzdIpGtniwm7cBGWbcWDZGAoFaHwX1O3OqjTtC1qe90%2B88P2mpuLi%2Be4a3nk%2BUje7Mw3bWYqTwQeBmuShjaVTFRp2er8l1dnbW92m3s4qyZy4XB0li4uUm22m9Iq%2Bt9Vre8le6s0rRd9zrPFfw1%2BHvju%2BsdS8beCNK1ifTPMOnyanYRz/Zy%2B3cU3g7Sdi8j%2B6K1oYLLTbQQW8MVvBCmFRFCIij2HAFc9488OeKfFlzbad4X%2BKdx4eSJXN/FYWUEs86nbtIaUN5WMNyFOdw6Y5w4/2ZvhzfuJ/HF7rnimVTkN4j1uadAf%2BuSlYvw2V31K%2BL9rKOHop/3nKKX4KUnbbVI96XtIVpOjRV3vJuKv62Tk7ba/I5f9pa6tb74z/s33dlcxzRP8Zb4pLE4ZWH/CFeKOQRwa9qrxD9onR9J8P/Fz9mvRdC0y3srO2%2BMd8lva2sKxxxr/AMIV4o4VVAAFe313x5uVc2/W21/K%2Bp2R5uVc24UUUVQwooooAKKKKACiiigDmPDnxt%2BDHjH4g6z8JPCPxd8Mar4r8OIr%2BIfDOm6/bT6hpatja1xbI5kgB3LguozketFh8bfgxqvxSvfgbpfxd8MXPjbTbJbzUfB9vr9s%2BqWtsQhE0loH85IyJI8OygHevPIr44/Z48PeM/Bnxs8AaB4g%2BEHjXTtS%2BGnir4j3nj7xM3gfUWtNRttZ1l3tPs10kBTUftjz2t6y27S%2BQtoxuPJaMCrvw18AfEGD9p7wh8OLj4UeKLfXfCn7Svjbx14m8Y3Hhm6j0q78OajpetxWPl6k0Yt7qQjUtJtTapI0qfYGZkVYEJAPe/28P%2BSIaH/2Wb4cf%2Bprolen6X4OsdI8RXXiK01TUi14G82zm1CSS3DFgS6xsSEPGOMDBIxXk37bPwf/AGn/AIw%2BFdF0z4A%2BKfAS22k%2BMPDevah4c8YabewvqraXr1jqZjj1S2lkFiGS0K5NjdbmIHyBty/Ivw9%2BCH/BVH9qbRNQ1bxx8T9JvvBMPi7XtHuPDFv8brzS7iebTdWu9NnR7q38MO0ls0tpIVQgExspOxsgaUsuy3HVIzxU1B03zRbjOTvZp8vK1rbS0nZ38jixlfFUEvYUXUb/AL0Yperl09E35H1l%2B1/%2B0R8IPhJo89x46%2BL/AIVtfItGRfDt3qY%2B3SSscGSOFCzyMEyAuw4ycckV5el/8W/2w/EjeOvjL4RPgL4aaNbJceEvA2t34j1HxNIpy89wkT7kjIUIkYJJyfvByak%2BDv7IHxI%2BA17b6v8ADT/gnD%2Bz3bajauJLfVr7446xe3kTj%2BNZ7nww7o3upFeuSeM/%2BCgswAl/Za%2BC7bWDLu%2BO2rHBHQ/8it1rysxyTK7Yt4FylPERjFyqpNR5XdOnGL01tpKU1pZRSlJnJHC5ji5qWMlGMVryQu0/8cpJNpfyxSTe99jpXv7rTmSPw9NNplppM%2Bn2Gm6LAFEeGVXeN1wcnymAABG3aD651fD3izWtZ1Wz/tP7LJYazHdPa2q253QxxvhGZixDh05PAwWAGRXnEmo/t1Ta4niWT9kn4Jm%2BRcLcn47atuHBGf8AkV%2BuCRnrgkVV8O/8N5eGbprux/Zj%2BEMhEXk2yXHx91Zltosk%2BXGP%2BEWG1c/U8AZwBXz9HKM9oY%2BM/bXg53dpPZPdxd07xvDkjaMWlLW1z1rW0PU/EPwH%2BDHipjJrvwv0OaQnmddOSOT/AL7QBv1rI/4Zr8F6f/yJ/ivxb4fHaPSfFFzsH/AJWkT8MYrx3VvjB%2B3Z8QvjJrHwNtf2dvh3pWreFvDOla9c32mftB6pDBNBqVxqNvCg/wCKXYu6tpU5YMgAEiYLEsF7TQfEv/BRPR9Jh027/Z3%2BEWoSRAg3d58eNU8yTLEjdt8KgcA44A6V6zwGHrY%2BUamDio2uqicE29NLRUJp76ttO3mc08Dg5y5nTV%2B6Vn96s/xOv/4Vd8ZdK%2BXw5%2B0ZfSRr9yLXfD9rdfm8YiY/nRt/ao0vhZfAmsIvdlu7GRh%2BHmrn8q5v/hOP%2BChf/Rr/AMGf/D8at/8AMvR/wnH/AAUL/wCjX/gz/wCH41b/AOZeuj%2By6Mf4dSpH0qS/KXOifqNNfBOcfST/AF5jpP8AhY/x307jV/2djcKv3pNG8VW0ufcLMIj%2BFH/C/wCW04134I%2BPrIj77LoAuVH428j8fhXN/wDCcf8ABQv/AKNf%2BDP/AIfjVv8A5l65fVv2jv27dH%2BM%2BgfA64/ZQ%2BEjap4i8L6vrtncp8ddU8iODTrnTbeZHJ8Mbg7NqkBUBSCEkyVIUMfU8dH4MVL/ALehCX6RYfV8TH4az%2BcYv9Inpg/aj%2BDMHy6xrmoaY4%2B8mqeH7232/UvEF/Wui8E/Fb4cfEhpo/AnjPT9Ue3QNPHaThmjB4BZeozjvXnP/Ccf8FC/%2BjX/AIM/%2BH41b/5l6jj8W/8ABQCGZrmL9lX4KrI4w8i/HXVQzfU/8ItzWtGnmUai9pUhKPX3HF/%2BltfgXThjIzXPOLX%2BFp/%2BlNfgd38TPiJq/hWW307wvpUV5dm4tjfGYN5dvBLMsQJK/wAbEkKPVSTxVX4n%2BK4dOvJtOtvB2m6q1hpMmqap/aTbQlqhYYT5H3SHY%2BAcD5eSK8r8deF/2y/iHPDfeIv2O/gdJdw3EEn23/hd2p%2BcyxSBxGXPhXOw4wRnoTjFVvFuif8ABRbxQd6fAr4N2zXelvpmsOPjXqjG7tGYnYuPDAETgM4DgHG88HiuPEwza9Xkd07ctmtFaV/iWjvy3et1e1tEc9enjZe0tqna222vdd7X30vY7u%2Bs/gzrWuxRX3wC8M3Wky30VjLqd3plsXW4ki8wDyjEQUX7rMXBDdFI5qj4V%2BEn7MXxA1T7Dd/sw%2BGbBLq0N3pc7aJap9rgD7S2I1BRs4O084INeUfGDxp%2B3d8HbO08a%2BJf2bvhDceHrzx5odmmjWPxp1Qzi%2B1O%2BtdHgJlbw4q/Z1mvEmcBd4CttLYCHrvBGm/8FF/C17ZXmqfAL4LX/wDZmjrp1iE%2BNWrQkIGy0jn/AIRptzthBwFA2nA54yp0cyeIXtIpxvrpDbr52tZx63vfQ4v7NVWqva0INX1vCm//AG29u3W%2B56DN%2BxX%2BytM/mf8ACkNFjb1gjeP/ANBYU3/hir9mUf6r4aeV/wBcNZvY/wD0GYVxvjpf%2BCiPjeG2ig%2BDHw40M2zMd%2BhftCanCZcgcPv8JuCBjj6muc/4QT/gpbH/AMe2j%2BFB/wBdf2g7p/5%2BDq6q0Z06jUMKpLupU1%2BDVx1coy2M2o4Gm13Spr8OVM9V/wCGLv2cx9zwdqSf9c/Fupr/ACuaP%2BGMP2eh08N62Pp421b/AOSq8q/4RD/gqMn%2Bq07wOP8Af%2BONw3/un1zHxt8Xf8FNPgP8GPF3xx8U6F4MutL8GeGL/XdStbD4zytPNb2ltJcSJGH8IqpcrGQoZlGSMkDmsuer/wBAT/8AAqf%2BZH9l5d/0AR/8p/5nvn/DF/7PJ4bwzrR/3vGurH/26o/4Yt/ZxP3/AATfv/108U6k387g15V/wiv/AAVRPDWPgH8PjVOP/dPo/wCEO/4KhP8A67TfBJ/3PjpcL/7p1HPV/wCgJ/8AgVP/ADD%2By8u/6AI/%2BU/82eq/8MU/swN/rvhXDL/131K6k/8AQpTUtt%2Bxj%2ByvaHdF8C/D7H/ptaeZ/wChE15L/wAID/wUmk/4%2BNE8Lt7J%2B0RdoP08HUf8K2/4KFv/AMfHgzw3J/3c5qyf%2BgeE1p3xHTBL5zp//IsFlWBTusvp/dS/%2BRZ7dZfswfs36fg2vwE8HAjozeG7ZiPxZCa2tP8AhN8K9Jx/ZXwz8P22On2fRoEx%2BSV87/8ACqP24pj/AMTH4O%2BEbsdxcftV%2BIiD/wB8%2BGhXMfBHS/2h/j58GPCPxy0T9jb4cNpvjPwvp%2Bu6db65%2B034jeeKC7to7iNJVHh9kDhZAGClhkHBI5q1LMPs4aC9Zr/22mdNPCKn/DwlOP8A4Av/AEmkfYyro2h2%2BFW2s4h2AWNf6CsvUPih8NNJz/avxE0K2x1%2B0avCmPzavni2%2BCv7RFrJ5o/YI%2BAkrf3rn456xMT/AN9%2BGDmtnT/CH7Vek4OmfsFfs7QEdGi%2BLt%2Bp/MeFM1fNnMto04/9vTf5RidaeYWsowXzk/ySPUb/APaa%2BAGnP5c3xb0SVuy2l4Jyfp5e7NV/%2BGnfhfdfL4fh8Q6u3ZdL8K30ufofKAP51ydh4h/b10pdmmfsl/BG2X0g%2BOOqIP08LVY/4Tj/AIKF/wDRr/wZ/wDD8at/8y9Hss3lvVhH0g3/AOlT/QfJmEt6kV6Rb/OR0n/C9PEN/wDJ4d/Z/wDG9yx%2B615ZW9mh/GaZSPyo/wCE3/aJ1T93pfwL0vTs9JdZ8WocfVbeJ/8A0KvM/AP7R37dvxE8V%2BN/CGj/ALKHwkhuPAfiiLQtVkufjrqgSeeTStP1MPFt8MElPJ1GFSWCnejjGAGbqP8AhOP%2BChf/AEa/8Gf/AA/Grf8AzL0fUsZP48VL/t2MI/8Atsn%2BIvq2Il8VaXyUV%2BjOj/sr9qPV/kvPF/gvRVP8Wn6Rc3jr%2BMssan/vmt3wL4Q8eeH76e%2B8Z/Fa58QebEEjtm0q3tYYTnO5RGNxPb5mNef/APCcf8FC/wDo1/4M/wDh%2BNW/%2BZej/hOP%2BChf/Rr/AMGf/D8at/8AMvWlLL6VKoqjnOTX805Nfd7sfwZcMJCE1Jyk2u8m/wANF%2BB2XxF%2BDsXju%2Bk1e38X6tp9y4tQEtbvZD%2B4lMiEhAHyCz4w4wTmqnxa8GNe6NJqEd/ctqd1E1h5NntjS%2BtmZn%2BzzBxISgXzCWXDY3HIBNcVqviD/gopqV/ZXkP7PvwltEtJS8tvbfHnUwlz0wr7vCpOB7Eda5W8%2BMv7aHxC%2BMOtfAbVP2RPhLJqPhfw3pHiC4uG%2BPerpbvDqM%2Bp20SIU8NBmdTplxvDKF2yR4LEsF8/MMunicNiYUKfLOdkpOWjdviVublcbySvHV62cW028Jh5OTcfi331/HzfY9d17whb6kdH%2BInhHR7yO9uWhluTp8sZfy2gC7wk7eSHC4XzCN%2B0YBrNvpNCWa51nSJZdKMemTXMZjIgeW9t5is/mrHhZpOApyGGDkdc1yGjR/t66J4ej8L2f7NfwlS0ijCIlv8AtAavARhi2Q0XhZWBOcHnkAVcgvf25oNOg0r/AIZF%2BCMsFvJ5kKXHx01aUq%2Bc78v4XJLZ53E5968Wvw9meNjzScYSlGLmm24qoo2bjycrSbbk3fVqGmjNY0qcXeMUuu3U63TUMPiuEtZNFrc2uicyiE7pbKSJHfL45jXlACeCgFd54g0y/wBY0mTTtN16fTZpCuLy2jRnQAgkAOCORkZxxnNeTf8ACcf8FCv%2BjX/gz/4fjVv/AJl6P%2BE4/wCChf8A0a/8Gf8Aw/Grf/MvXuZbkdPAYatQlNyjUetrxdrNPWLT5nd3knFu0equXYrftEac%2Bk/Fv9mvTZNSubxofjHfKbq8cNLJ/wAUV4o5YgAE/gK9vr5X%2BJ/iX9q3V/2k/wBnS1%2BNfwX%2BHvh/Rx8XNRaO%2B8LfE6%2B1i5M//CF%2BJtqGCfRbJQhBYl/NJBAGw5JX6or2qdOFKmoQWiSS3ei0Wrbf3tvu2MKKKKsAooooAKKKKACiiigAqj4o8Q2HhLw1qPivVQ5tdMsZru5ES5by40LtgdzhTV6o7u0tb%2B1lsb23SaGaNo5opVDK6kYKkHggjjFAHzf%2Bxr%2B1L8fPip4w0bwr8f8ATfCSP43%2BE%2BnfEDwuvhPT7m3/ALLt7iUJPpl009xMLqSETWm27jECyl5f3EWwbvJtH/4KO/HLwV8L9N%2BKWs%2BAvA8%2BmfFX4X6r46%2BE2i6NptzZPps39q6VbW9rqszXEq3TXDa/ZTyzwxQbGjuhsclHPv37P/7C/hD9nPWLXWvCfxl8dapJpmi6foGhp4gudOuBpnh%2ByMxg0aErZIxt90wLTSF7yTyIQ9ywjArB0n/gmN8CLTRtb8K674z8Za1ol74S1Hwx4W0fUdStki8G6Te3UV3PbaW9vbRzJ%2B/trN0kuJJ5I/sNuqOqx7SAdh%2By78Xfiv4x8S/EP4P/AByufD194n%2BHniW1sZtb8K6RPp9jqlpdaba30My2s9zcyW7qZ5YWQzyA%2BQJAQJNieu15/wDAH9nzSPgLZ%2BILk%2BPvEPi7XvFmuDVvE3ivxW1p9u1G4W1gtIty2Vvb28SR29tBGqRQovyFiC7u7egUAFfLvwG/bG%2BNvxA%2BMXhaTxtpnhZfAfxM1rxdpngqz0vTbmLVdLk0W7lihkvLh7l4rpbu3trmYrHDAbdvLjzPkyD6irwzwd%2BwZ4G8BfEuT4keF/i743gFre6vd%2BFdAkn06TT/AAxPqt8l7qb2SPZGQm4kV1/0h5/JjnlS38hWwACne/FT45eA/wBtrw18KvEOo%2BAde0zx9a6rKumeH/C91a634f0iwjaS3vr28e8lju4DPMtttFvb7Zr5dhcLJnJ/4Jr/ALU/xd/aW%2BF9vqP7RfifRLTx%2BfCmiat4j%2BHtr8J9b8JX3hia8t3eWKWLV7ueS%2Bh85JYY7qJY4ma1lwXOQnV/D/8AYxPw6/aE8Z/tD6X%2B0x8RLy88dXZl1rQ9Si0KW0jiSB4bW0gm/swXsNta72khhFzsEjyO4kaaYybfwY/ZjtfhT8QdZ%2BLfin4y%2BMPH/ivWtHtNIk17xj/Zscltp9tLPNHbQw6bZ2kCL5txK7OYzI5KhnKoiqAen0UUUAfLv7TX7Y3xt%2BFfxT8Yv8PNM8LN4N%2BE2i%2BG9T8d22s6bczajrEeqX1xFNHYzR3Mcdo1ta2/nhpIrgTySiLEIUyGb9rj9pX4mfBP9pjwnpK6v4e8JeBG8KXF1rvxB8RfCLWdft7SZr%2B2i%2BxyahY3dvb6PFJGPMM10THmJCeExXbfGf8AYh%2BHHxu%2BKR%2BJmueOfFWlxaja6Ra%2BL/DWjXVqmneKYNLvZL2xivllt5Jgsc00ufs8sBljkMUxljCoJfjh%2ByNP%2B0H4Ob4afEP9pP4hN4V1LRZNJ8X%2BG7FNFht/E9pIzCaK7kGm%2BfEJInaF/sktvmM44b5qAPPv%2BGxvjZ/w0D5n9meFv%2BFY/wDC5/8AhWn2D%2Bzbn%2B2/tn9m%2Bf8A2p9q%2B0%2BR5X23/Rfsv2fd5f7/AM/P7mvqKvGf%2BGIfhx/wv/8A4Xt/wnPir7P/AMJX/wAJV/wgn2q1/sT%2B3/7N/s3%2B1Nn2f7T5v2b/AJZfaPs/m/v/ACfO/eV7NQAV89fteftE/tAeA/iBB8Lv2cLXwiup6f8ADXXfG%2Bs3HjLTbm6huoLCS1ih02EW9xAYJLh7iTN0xlWAQj9xMZML9C15H%2B0v%2Bx54P/aZ1Cy1rUfiT4v8I6hb%2BH9T8P32o%2BDby1hm1LRdQ8g3mnzG5tpwscjW0LCWIR3ERQmKaPe%2B4A5P9qr4%2BePbL9if/hrz4R%2BJvCWk6XYeC18XS6V418BXOuyahi3ju7K2t47fUrLyrkzeWqHMhMjR7QpAJ5TUv2q/2ovh9%2B0r4O%2BEXx78R%2BEPBuhXHgDwbc6/r3/Cotev9N1nxRqN9qVpqOl2usR362WkhXtbFbdLvzpGbUIxmUlVPtXjf9mDwX8Qvh5pHwp8TeJNZfw/oni3StcsdLt/skMWzTbyG8stOYJbjdZxy28B2n94yxBXkYFt1T41/stQfHvxNZ3Hjf43%2BNY/Clvfade3nw7sDpkek6jPZXSXULzSmya%2Bx50ULPHHdJG4iCspVnVwD1SiiigDxf8A4KC/F344fs/fsj%2BNPj18Ar3wpHrHgnQrvXLqDxhotzfW13aWttLM9uiW11bMkrsiKJC5VAWJR%2BBV39sH4n%2BLvAng7w14F%2BHumaDca98R/GVr4U02XxVpsl7plqs8M9xczXNtHLC1yi2lrc4hEsfmOUUuoJI1P2sf2cbL9rT4Ea9%2Bz7rXxV8U%2BEdJ8T2Utjrl/wCEF077Xc2UsTxTW26/tLqNEdX5ZEWQFRtdec53jf8AZWk%2BJXw6s/BHjz9oLx1qOp6TqenapoHjExaPBqek6lZklbyEQaclszyBnWRJYJIWSR08sKxUgHz7e/t%2BftV%2BJvDWoaB8OdC8AQeLvh/4a8aav8QJNX0m9ksNXfw/rEmmRWtgiXaPZC%2BME0/nSvc/ZBsQxXJJYfYvgTxfpvxB8EaN490aOVLPW9Kt9QtEmXDrFNEsihgOhwwzXgviP/gmT8Idc8D6d4M034sfEDRZo9J1/S/E%2BvaRqdkl/wCK7LW7z7dq0N%2B8lo6A3F1ul821S3lgMji3eBWK19EaZpun6Nptvo%2Bk2Udta2kCQ21vCgVIo1AVUUDgAAAAe1AE9c18YpPibD8MtYn%2BDmtaDp3iWK136Ze%2BJtKmvrGIqwLmWCCe3klHlh8KssfzFctjNdLWF8TPB2qfEHwHqfgvRviDrPhW41G38lPEHh%2BGzkvLMEgs0S3tvcW5JAKnzIXGGOADggA4L4CfFH4wftDfsR/D/wCNfh%2B58NaP418cfDjRNcaW80q4uNLs7y8soLiU/ZluEmkiUyPtj89WICgydWrwG9/bM/aj0H4OaengLSPCt1Bo/wAc7vwJqHjzwd8Gtd17R5NCs9Eurl9RtNE029a6jWLUYU0lyLmWJJYJWztKhfYfCX7DU/gz9ktP2PNJ/a3%2BK66Da%2BCE8K6Vr8M%2BiW2sabYxokUTwXFtpcarMkCCFZShO0lzmXEo0fB/7I3ib4e/BDSfgb4B/a8%2BI2iWuhXCLpOr6XonhWG4tbBLdYI9NSFdE%2BxrbJtDqRb%2BcGOPN2YQAHoXwd8b6b8SvhP4a%2BIGkeONI8TW%2Bs6Ha3aeIfD9o1vY6kXiVjcQRPLK0MbklljaSRkBCs7EEnpK5f4K/CHwb8A/hToPwc%2BH8VyukeHtPS0s2vrlpp5QMlpZZG5eR2LOzd2YnA6V1FABXi/7HPxd%2BOHxKuvil4O%2BP174Uu9Z%2BH/xMbw9bX3g/Rbmwtbi1bRtK1JC0VzdXLmRW1B4y4cK4jVgiZIr2ivF/gT%2Bx5rHwJ8aeL/Gtp%2B1l8SvEcnjjxXD4g16x8Q2nh0QPdpa29mQn2TSIHSN7e0tomAfOIQylXZ2YA8M8Eft/wDxV8GfDf4xfET4vQ%2BGrbxd4b0vxBrGifDBvhRrXhm%2Bv47K/fT7K8bUr%2B6ki1W3kjXT1kubWHZF9piyQNiH3n9mT4ufGPxH4%2B8f/Av4/wB34Z1DxN4FutMmXXPCGj3GnWOoWN/aebE32a4ubl4ZUliuYmHnOGWOOQbN5jTM1z9gjwN8RNV8Qar8evjB45%2BIZ1zwTq/hK0g8ST6dbJouk6nJA97Daf2bZWp8xzaWmJ5jLMn2ZNrqS5bsfgB%2BznpXwGPiHWLj4keJvGniLxXqMN34g8WeMJLM3135FtHbQRbbK2treOKOKMBVjiXLPI7bnkdmAPRKKKKAPF/gr8XfjhrX7XHxZ%2BAvxUvfCl1o/hjQvD2ueEJ/D%2Bi3NrcxWmpXOsw/Z7x5rqZbiVF0yJvMjSBcyuNhwDXP%2BJPiJ%2B0t4V/b88F/CDTPFXw51Xw54u0jWNY8Q2cHw%2BvLfWdL0HTkSK336j/arxSyHUNRt1VWtFVka6KqpUmug0X9jzWNA/aL8YftJad%2B1l8ShqHjPSrLTL3QntPDp0%2BztLOe6mtIoB/ZHnjyje3ShpJpGZZjvLlUK9ppfwL8K6X8cPEv7QKatqc2v%2BJPDGm6A3nzRmHTrKylu5kW2URgozy3sryMxfeUiHAjUAA8e/4JxftT/F39o/wL5v7RfifRLLx3/wAIzpGq6z8PLf4T634UvvDjXUcpkWRdXu5n1GAyo8Ud1AkcRa2l5cnCfSteXfBv9l%2B2%2BFvxF1T4v%2BLfjT4y%2BIPinUtEt9GTW/GR02N7PT4ZZJhbwxabZWkChpZWd3aNpGIQF9qKo9RoAK8H/a1%2BM37QXwG8SeF/F3gzxB4IvfD2teLtC8O23gW%2B8OXkmua5c3t8sNy1pex3qxQmC1aS62NaTDy7SZneNAXj94rxn4k/scr8RP2ndE/amt/2jviBoWq%2BH9DGlaZoGmQ6JcaXBA83m3LRpfaZcTQy3IEcc0sUqO0cMaKyAcgHC/tsftQ/Gb4W%2BMvEFn8GvDng66T4T/Cm6%2BJXiYeLNKnuZtRhVrqGLT7CSK4hFjPLDa6gpu3E6pujXyXV3Iq6T%2B2z8Yta%2BNlrrtjp3hc/Cq7%2BL6fDqGxbS7ka4bltLFyNUNz9p8gRfbCLb7J9n3eX%2B/8APz%2B5ruPjp%2Bwj4K/aDaKbxt8YPHFtNd%2BF7vwx4vn0i406BvFehXMwlk0y%2BH2IqsX30WS2FvOiTShZR5jk2o/2HPhpD8e1%2BOEPjXxQlonikeKF8BLc2g0NdeGm/wBmjUwn2b7T5v2bjyvtH2fzP33k%2Bd%2B8oA9oooooAKKKKACiiigAooooAKKKKACiiigAooooAKKKKACiiigAooooAKKKKACiiigAooooAKKKKACiiigAooooAKKKKACiiigAooooAKKKKACiiigAooooAKKKKACiiigAooooAKKKKACiiigAooooAKKKKAP/2Q%3D%3D\">"
      ]
     },
     "metadata": {},
     "output_type": "display_data"
    }
   ],
   "source": [
    "plt.rcParams['animation.ffmpeg_path'] = '/usr/bin/ffmpeg'\n",
    "try:\n",
    "    display_html(HTML(anim.to_html5_video()))\n",
    "except (RuntimeError, KeyError):\n",
    "    anim.save(None, writer=matplotlib_utils.SimpleMovieWriter(0.001))"
   ]
  },
  {
   "cell_type": "markdown",
   "metadata": {},
   "source": [
    "# Regresion logistica\n",
    "La tarea es implementar la regresion logistica\n",
    "\n",
    "Plan:\n",
    "* Use a shared variable for weights\n",
    "* Use a matrix placeholder for `X`\n",
    " \n",
    "We shall train on a two-class MNIST dataset\n",
    "* please note that target `y` are `{0,1}` and not `{-1,1}` as in some formulae"
   ]
  },
  {
   "cell_type": "code",
   "execution_count": null,
   "metadata": {},
   "outputs": [],
   "source": [
    "from sklearn.datasets import load_digits\n",
    "mnist = load_digits(2)\n",
    "\n",
    "X, y = mnist.data, mnist.target\n",
    "\n",
    "print(\"y [shape - %s]:\" % (str(y.shape)), y[:10])\n",
    "print(\"X [shape - %s]:\" % (str(X.shape)))"
   ]
  },
  {
   "cell_type": "code",
   "execution_count": null,
   "metadata": {},
   "outputs": [],
   "source": [
    "print('X:\\n',X[:3,:10])\n",
    "print('y:\\n',y[:10])\n",
    "plt.imshow(X[7].reshape([8,8]));"
   ]
  },
  {
   "cell_type": "markdown",
   "metadata": {},
   "source": [
    "It's your turn now!\n",
    "Just a small reminder of the relevant math:\n",
    "\n",
    "$$\n",
    "P(y=1|X) = \\sigma(X \\cdot W + b)\n",
    "$$\n",
    "$$\n",
    "\\text{loss} = -\\log\\left(P\\left(y_\\text{predicted} = 1\\right)\\right)\\cdot y_\\text{true} - \\log\\left(1 - P\\left(y_\\text{predicted} = 1\\right)\\right)\\cdot\\left(1 - y_\\text{true}\\right)\n",
    "$$\n",
    "\n",
    "$\\sigma(x)$ is available via `tf.nn.sigmoid` and matrix multiplication via `tf.matmul`"
   ]
  },
  {
   "cell_type": "code",
   "execution_count": null,
   "metadata": {},
   "outputs": [],
   "source": [
    "from sklearn.model_selection import train_test_split\n",
    "X_train, X_test, y_train, y_test = train_test_split(\n",
    "    X, y, random_state=42)"
   ]
  },
  {
   "cell_type": "markdown",
   "metadata": {},
   "source": [
    "__Your code goes here.__ For the training and testing scaffolding to work, please stick to the names in comments."
   ]
  },
  {
   "cell_type": "code",
   "execution_count": null,
   "metadata": {},
   "outputs": [],
   "source": [
    "# Model parameters - weights and bias\n",
    "# weights = tf.Variable(...) shape should be (X.shape[1], 1)\n",
    "# b = tf.Variable(...)\n",
    "\n",
    "weights = tf.Variable(np.zeros((X.shape[1], 1), dtype='float32'))\n",
    "b = tf.Variable(np.zeros(None), dtype='float32')"
   ]
  },
  {
   "cell_type": "code",
   "execution_count": null,
   "metadata": {},
   "outputs": [],
   "source": [
    "# Placeholders for the input data\n",
    "# input_X = tf.placeholder(...)\n",
    "# input_y = tf.placeholder(...)\n",
    "\n",
    "input_X = tf.placeholder(\"float32\", shape=(None, X.shape[1]), name=\"input_X\")\n",
    "input_y = tf.placeholder(\"float32\", shape=(None,), name=\"input_y\")"
   ]
  },
  {
   "cell_type": "code",
   "execution_count": null,
   "metadata": {},
   "outputs": [],
   "source": [
    "# The model code\n",
    "\n",
    "# Compute a vector of predictions, resulting shape should be [input_X.shape[0],]\n",
    "# This is 1D, if you have extra dimensions, you can  get rid of them with tf.squeeze .\n",
    "# Don't forget the sigmoid.\n",
    "# predicted_y = <predicted probabilities for input_X>\n",
    "\n",
    "predicted_y = tf.squeeze(tf.sigmoid(input_X @ weights + b))\n",
    "\n",
    "# Loss. Should be a scalar number - average loss over all the objects\n",
    "# tf.reduce_mean is your friend here\n",
    "# loss = <logistic loss (scalar, mean over sample)>\n",
    "loss = tf.reduce_mean(-tf.log(predicted_y) * input_y - tf.log(1 - predicted_y) * (1 - input_y))\n",
    "\n",
    "# See above for an example. tf.train.*Optimizer\n",
    "# optimizer = <optimizer that minimizes loss>\n",
    "optimizer = tf.train.MomentumOptimizer(0.01, 0.5).minimize(loss, var_list=[weights, b])"
   ]
  },
  {
   "cell_type": "markdown",
   "metadata": {},
   "source": [
    "A test to help with the debugging"
   ]
  },
  {
   "cell_type": "code",
   "execution_count": null,
   "metadata": {},
   "outputs": [],
   "source": [
    "validation_weights = 1e-3 * np.fromiter(map(lambda x:\n",
    "        s.run(weird_psychotic_function, {my_scalar:x, my_vector:[1, 0.1, 2]}),\n",
    "                                   0.15 * np.arange(1, X.shape[1] + 1)),\n",
    "                                   count=X.shape[1], dtype=np.float32)[:, np.newaxis]\n",
    "\n",
    "# Compute predictions for given weights and bias\n",
    "prediction_validation = s.run(\n",
    "    predicted_y, {\n",
    "    input_X: X,\n",
    "    weights: validation_weights,\n",
    "    b: 1e-1})\n",
    "\n",
    "#prediction_validation = prediction_validation.flatten()\n",
    "\n",
    "# Load the reference values for the predictions\n",
    "validation_true_values = np.loadtxt(\"predicciones_de_validacion.txt\")\n",
    "\n",
    "assert prediction_validation.shape == (X.shape[0],),\\\n",
    "       \"Predictions must be a 1D array with length equal to the number \" \\\n",
    "       \"of examples in input_X\"\n",
    "assert np.allclose(validation_true_values, prediction_validation)\n",
    "loss_validation = s.run(\n",
    "        loss, {\n",
    "            input_X: X[:100],\n",
    "            input_y: y[-100:],\n",
    "            weights: validation_weights+1.21e-3,\n",
    "            b: -1e-1})\n",
    "assert np.allclose(loss_validation, 0.728689)"
   ]
  },
  {
   "cell_type": "code",
   "execution_count": null,
   "metadata": {},
   "outputs": [],
   "source": [
    "from sklearn.metrics import roc_auc_score\n",
    "s.run(tf.global_variables_initializer())\n",
    "for i in range(5):\n",
    "    s.run(optimizer, {input_X: X_train, input_y: y_train})\n",
    "    loss_i = s.run(loss, {input_X: X_train, input_y: y_train})\n",
    "    print(\"loss at iter %i:%.4f\" % (i, loss_i))\n",
    "    print(\"train auc:\", roc_auc_score(y_train, s.run(predicted_y, {input_X:X_train})))\n",
    "    print(\"test auc:\", roc_auc_score(y_test, s.run(predicted_y, {input_X:X_test})))"
   ]
  },
  {
   "cell_type": "code",
   "execution_count": null,
   "metadata": {},
   "outputs": [],
   "source": [
    "# era submision aqui"
   ]
  },
  {
   "cell_type": "code",
   "execution_count": null,
   "metadata": {},
   "outputs": [],
   "source": [
    "test_weights = 1e-3 * np.fromiter(map(lambda x:\n",
    "    s.run(weird_psychotic_function, {my_scalar:x, my_vector:[1, 2, 3]}),\n",
    "                               0.1 * np.arange(1, X.shape[1] + 1)),\n",
    "                               count=X.shape[1], dtype=np.float32)[:, np.newaxis]"
   ]
  },
  {
   "cell_type": "markdown",
   "metadata": {},
   "source": [
    "First, test prediction and loss computation. This part doesn't require a fitted model."
   ]
  },
  {
   "cell_type": "code",
   "execution_count": null,
   "metadata": {},
   "outputs": [],
   "source": [
    "prediction_test = s.run(\n",
    "    predicted_y, {\n",
    "    input_X: X,\n",
    "    weights: test_weights,\n",
    "    b: 1e-1})"
   ]
  },
  {
   "cell_type": "code",
   "execution_count": null,
   "metadata": {},
   "outputs": [],
   "source": [
    "assert prediction_test.shape == (X.shape[0],),\\\n",
    "       \"Predictions must be a 1D array with length equal to the number \" \\\n",
    "       \"of examples in X_test\""
   ]
  },
  {
   "cell_type": "code",
   "execution_count": null,
   "metadata": {},
   "outputs": [],
   "source": [
    "loss_test = s.run(\n",
    "    loss, {\n",
    "        input_X: X[:100],\n",
    "        input_y: y[-100:],\n",
    "        weights: test_weights+1.21e-3,\n",
    "        b: -1e-1})\n",
    "# Yes, the X/y indices mistmach is intentional"
   ]
  },
  {
   "cell_type": "code",
   "execution_count": null,
   "metadata": {},
   "outputs": [],
   "source": []
  }
 ],
 "metadata": {
  "kernelspec": {
   "display_name": "Python 3",
   "language": "python",
   "name": "python3"
  },
  "language_info": {
   "codemirror_mode": {
    "name": "ipython",
    "version": 3
   },
   "file_extension": ".py",
   "mimetype": "text/x-python",
   "name": "python",
   "nbconvert_exporter": "python",
   "pygments_lexer": "ipython3",
   "version": "3.7.4"
  }
 },
 "nbformat": 4,
 "nbformat_minor": 2
}
