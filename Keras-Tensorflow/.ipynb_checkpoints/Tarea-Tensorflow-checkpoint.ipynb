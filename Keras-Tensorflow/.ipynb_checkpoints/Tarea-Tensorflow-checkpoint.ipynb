{
 "cells": [
  {
   "cell_type": "markdown",
   "metadata": {
    "slideshow": {
     "slide_type": "slide"
    }
   },
   "source": [
    "# Profundizando en Tensorflow\n",
    "\n",
    "In this video, we're going to study the tools you'll use to build deep learning models. Namely, [Tensorflow](https://www.tensorflow.org/).\n",
    "\n",
    "If you're running this notebook outside the course environment, you'll need to install tensorflow:\n",
    "* `pip install tensorflow` should install cpu-only TF on Linux & Mac OS\n",
    "* If you want GPU support from offset, see [TF install page](https://www.tensorflow.org/install/)"
   ]
  },
  {
   "cell_type": "markdown",
   "metadata": {},
   "source": [
    "# Visualization"
   ]
  },
  {
   "cell_type": "markdown",
   "metadata": {},
   "source": [
    "Plase note that if you are running on the Coursera platform, you won't be able to access the tensorboard instance due to the network setup there. If you run the notebook locally, you should be able to access TensorBoard on http://127.0.0.1:7007/"
   ]
  },
  {
   "cell_type": "code",
   "execution_count": 2,
   "metadata": {},
   "outputs": [],
   "source": [
    "! killall tensorboard\n",
    "import os\n",
    "os.system(\"tensorboard --logdir=/tmp/tboard --port=7007 &\");"
   ]
  },
  {
   "cell_type": "code",
   "execution_count": 3,
   "metadata": {},
   "outputs": [
    {
     "name": "stderr",
     "output_type": "stream",
     "text": [
      "Using TensorFlow backend.\n"
     ]
    }
   ],
   "source": [
    "import tensorflow as tf\n",
    "from keras_utils import reset_tf_session\n",
    "s = reset_tf_session()"
   ]
  },
  {
   "cell_type": "markdown",
   "metadata": {},
   "source": [
    "# Warming up\n",
    "For starters, let's implement a python function that computes the sum of squares of numbers from 0 to N-1."
   ]
  },
  {
   "cell_type": "code",
   "execution_count": 4,
   "metadata": {},
   "outputs": [],
   "source": [
    "import numpy as np\n",
    "def sum_sin(N):\n",
    "    return np.sum(np.arange(N)**2)"
   ]
  },
  {
   "cell_type": "code",
   "execution_count": 5,
   "metadata": {},
   "outputs": [
    {
     "name": "stdout",
     "output_type": "stream",
     "text": [
      "CPU times: user 1 ms, sys: 212 µs, total: 1.21 ms\n",
      "Wall time: 1.08 ms\n"
     ]
    },
    {
     "data": {
      "text/plain": [
       "333328333350000"
      ]
     },
     "execution_count": 5,
     "metadata": {},
     "output_type": "execute_result"
    }
   ],
   "source": [
    "%%time\n",
    "sum_sin(10**5)"
   ]
  },
  {
   "cell_type": "markdown",
   "metadata": {},
   "source": [
    "# Tensoflow teaser\n",
    "\n",
    "Doing the very same thing"
   ]
  },
  {
   "cell_type": "code",
   "execution_count": 6,
   "metadata": {},
   "outputs": [],
   "source": [
    "# An integer parameter\n",
    "N = tf.placeholder('int64', name=\"input_to_your_function\")\n",
    "\n",
    "# A recipe on how to produce the same result\n",
    "result = tf.reduce_sum(tf.range(N)**2)"
   ]
  },
  {
   "cell_type": "code",
   "execution_count": 7,
   "metadata": {},
   "outputs": [
    {
     "data": {
      "text/plain": [
       "<tf.Tensor 'Sum:0' shape=() dtype=int64>"
      ]
     },
     "execution_count": 7,
     "metadata": {},
     "output_type": "execute_result"
    }
   ],
   "source": [
    "result"
   ]
  },
  {
   "cell_type": "code",
   "execution_count": 8,
   "metadata": {},
   "outputs": [
    {
     "name": "stdout",
     "output_type": "stream",
     "text": [
      "CPU times: user 9.52 ms, sys: 1.16 ms, total: 10.7 ms\n",
      "Wall time: 12.9 ms\n"
     ]
    },
    {
     "data": {
      "text/plain": [
       "333328333350000"
      ]
     },
     "execution_count": 8,
     "metadata": {},
     "output_type": "execute_result"
    }
   ],
   "source": [
    "%%time\n",
    "result.eval({N: 10**5})"
   ]
  },
  {
   "cell_type": "code",
   "execution_count": 9,
   "metadata": {},
   "outputs": [],
   "source": [
    "writer = tf.summary.FileWriter(\"/tmp/tboard\", graph=s.graph)"
   ]
  },
  {
   "cell_type": "markdown",
   "metadata": {},
   "source": [
    "# How does it work?\n",
    "1. Define placeholders where you'll send inputs\n",
    "2. Make symbolic graph: a recipe for mathematical transformation of those placeholders\n",
    "3. Compute outputs of your graph with particular values for each placeholder\n",
    "  * `output.eval({placeholder:value})`\n",
    "  * `s.run(output, {placeholder:value})`\n",
    "\n",
    "So far there are two main entities: \"placeholder\" and \"transformation\"\n",
    "* Both can be numbers, vectors, matrices, tensors, etc.\n",
    "* Both can be int32/64, floats, booleans (uint8) of various size.\n",
    "\n",
    "* You can define new transformations as an arbitrary operation on placeholders and other transformations\n",
    " * `tf.reduce_sum(tf.arange(N)**2)` are 3 sequential transformations of placeholder `N`\n",
    " * There's a tensorflow symbolic version for every numpy function\n",
    "   * `a+b, a/b, a**b, ...` behave just like in numpy\n",
    "   * `np.mean` -> `tf.reduce_mean`\n",
    "   * `np.arange` -> `tf.range`\n",
    "   * `np.cumsum` -> `tf.cumsum`\n",
    "   * If if you can't find the op you need, see the [docs](https://www.tensorflow.org/api_docs/python).\n",
    "   \n",
    "`tf.contrib` has many high-level features, may be worth a look."
   ]
  },
  {
   "cell_type": "code",
   "execution_count": 10,
   "metadata": {},
   "outputs": [],
   "source": [
    "with tf.name_scope(\"Placeholders_examples\"):\n",
    "    # Default placeholder that can be arbitrary float32\n",
    "    # scalar, vertor, matrix, etc.\n",
    "    arbitrary_input = tf.placeholder('float32')\n",
    "\n",
    "    # Input vector of arbitrary length\n",
    "    input_vector = tf.placeholder('float32', shape=(None,))\n",
    "\n",
    "    # Input vector that _must_ have 10 elements and integer type\n",
    "    fixed_vector = tf.placeholder('int32', shape=(10,))\n",
    "\n",
    "    # Matrix of arbitrary n_rows and 15 columns\n",
    "    # (e.g. a minibatch your data table)\n",
    "    input_matrix = tf.placeholder('float32', shape=(None, 15))\n",
    "    \n",
    "    # You can generally use None whenever you don't need a specific shape\n",
    "    input1 = tf.placeholder('float64', shape=(None, 100, None))\n",
    "    input2 = tf.placeholder('int32', shape=(None, None, 3, 224, 224))\n",
    "\n",
    "    # elementwise multiplication\n",
    "    double_the_vector = input_vector*2\n",
    "\n",
    "    # elementwise cosine\n",
    "    elementwise_cosine = tf.cos(input_vector)\n",
    "\n",
    "    # difference between squared vector and vector itself plus one\n",
    "    vector_squares = input_vector**2 - input_vector + 1"
   ]
  },
  {
   "cell_type": "code",
   "execution_count": 11,
   "metadata": {},
   "outputs": [],
   "source": [
    "my_vector =  tf.placeholder('float32', shape=(None,), name=\"VECTOR_1\")\n",
    "my_vector2 = tf.placeholder('float32', shape=(None,))\n",
    "my_transformation = my_vector * my_vector2 / (tf.sin(my_vector) + 1)"
   ]
  },
  {
   "cell_type": "code",
   "execution_count": 12,
   "metadata": {},
   "outputs": [
    {
     "name": "stdout",
     "output_type": "stream",
     "text": [
      "Tensor(\"truediv:0\", shape=(?,), dtype=float32)\n"
     ]
    }
   ],
   "source": [
    "print(my_transformation)"
   ]
  },
  {
   "cell_type": "code",
   "execution_count": 13,
   "metadata": {},
   "outputs": [
    {
     "name": "stdout",
     "output_type": "stream",
     "text": [
      "[0. 1. 2. 3. 4.]\n"
     ]
    },
    {
     "data": {
      "text/plain": [
       "array([0.       , 1.6291324, 2.0950115, 2.6289961, 0.       ],\n",
       "      dtype=float32)"
      ]
     },
     "execution_count": 13,
     "metadata": {},
     "output_type": "execute_result"
    }
   ],
   "source": [
    "dummy = np.arange(5).astype('float32')\n",
    "print(dummy)\n",
    "my_transformation.eval({my_vector:dummy, my_vector2:dummy[::-1]})"
   ]
  },
  {
   "cell_type": "code",
   "execution_count": 14,
   "metadata": {},
   "outputs": [],
   "source": [
    "writer.add_graph(my_transformation.graph)\n",
    "writer.flush()"
   ]
  },
  {
   "cell_type": "markdown",
   "metadata": {},
   "source": [
    "TensorBoard allows writing scalars, images, audio, histogram. You can read more on tensorboard usage [here](https://www.tensorflow.org/get_started/graph_viz)."
   ]
  },
  {
   "cell_type": "markdown",
   "metadata": {},
   "source": [
    "# Summary\n",
    "* Tensorflow is based on computation graphs\n",
    "* The graphs consist of placehlders and transformations"
   ]
  },
  {
   "cell_type": "markdown",
   "metadata": {},
   "source": [
    "# Mean squared error\n",
    "\n",
    "Your assignment is to implement mean squared error in tensorflow."
   ]
  },
  {
   "cell_type": "code",
   "execution_count": 15,
   "metadata": {},
   "outputs": [],
   "source": [
    "y = np.arange(5)\n",
    "y_pred = np.arange(5)[::-1]"
   ]
  },
  {
   "cell_type": "code",
   "execution_count": 16,
   "metadata": {},
   "outputs": [
    {
     "data": {
      "text/plain": [
       "array([16,  4,  0,  4, 16])"
      ]
     },
     "execution_count": 16,
     "metadata": {},
     "output_type": "execute_result"
    }
   ],
   "source": [
    "(y - y_pred) ** 2"
   ]
  },
  {
   "cell_type": "code",
   "execution_count": 17,
   "metadata": {
    "collapsed": true
   },
   "outputs": [],
   "source": [
    "with tf.name_scope(\"MSE\"):\n",
    "    y_true = tf.placeholder(\"float32\", shape=(None,), name=\"y_true\")\n",
    "    y_predicted = tf.placeholder(\"float32\", shape=(None,), name=\"y_predicted\")\n",
    "    # Your code goes here\n",
    "    # You want to use tf.reduce_mean\n",
    "    # mse = tf.<...>\n",
    "    mse = tf.reduce_mean((y_true - y_predicted) ** 2)\n",
    "def compute_mse(vector1, vector2):\n",
    "    return mse.eval({y_true: vector1, y_predicted: vector2})"
   ]
  },
  {
   "cell_type": "code",
   "execution_count": 18,
   "metadata": {
    "collapsed": true
   },
   "outputs": [],
   "source": [
    "writer.add_graph(mse.graph)\n",
    "writer.flush()"
   ]
  },
  {
   "cell_type": "code",
   "execution_count": 19,
   "metadata": {},
   "outputs": [],
   "source": [
    "# Rigorous local testing of MSE implementation\n",
    "import sklearn.metrics\n",
    "for n in [1, 5, 10, 10**3]:\n",
    "    elems = [np.arange(n), np.arange(n, 0, -1), np.zeros(n),\n",
    "             np.ones(n), np.random.random(n), np.random.randint(100, size=n)]\n",
    "    for el in elems:\n",
    "        for el_2 in elems:\n",
    "            true_mse = np.array(sklearn.metrics.mean_squared_error(el, el_2))\n",
    "            my_mse = compute_mse(el, el_2)\n",
    "            if not np.allclose(true_mse, my_mse):\n",
    "                print('mse(%s,%s)' % (el, el_2))\n",
    "                print(\"should be: %f, but your function returned %f\" % (true_mse, my_mse))\n",
    "                raise ValueError('Wrong result')"
   ]
  },
  {
   "cell_type": "markdown",
   "metadata": {},
   "source": [
    "# Variables\n",
    "\n",
    "The inputs and transformations have no value outside function call. This isn't too comfortable if you want your model to have parameters (e.g. network weights) that are always present, but can change their value over time.\n",
    "\n",
    "Tensorflow solves this with `tf.Variable` objects.\n",
    "* You can assign variable a value at any time in your graph\n",
    "* Unlike placeholders, there's no need to explicitly pass values to variables when `s.run(...)`-ing\n",
    "* You can use variables the same way you use transformations \n",
    " "
   ]
  },
  {
   "cell_type": "code",
   "execution_count": 20,
   "metadata": {},
   "outputs": [],
   "source": [
    "# Creating a shared variable\n",
    "shared_vector_1 = tf.Variable(initial_value=np.ones(5),\n",
    "                              name=\"example_variable\")"
   ]
  },
  {
   "cell_type": "code",
   "execution_count": 21,
   "metadata": {},
   "outputs": [
    {
     "name": "stdout",
     "output_type": "stream",
     "text": [
      "Initial value [1. 1. 1. 1. 1.]\n"
     ]
    }
   ],
   "source": [
    "# Initialize variable(s) with initial values\n",
    "s.run(tf.global_variables_initializer())\n",
    "\n",
    "# Evaluating shared variable (outside symbolicd graph)\n",
    "print(\"Initial value\", s.run(shared_vector_1))\n",
    "\n",
    "# Within symbolic graph you use them just\n",
    "# as any other inout or transformation, not \"get value\" needed"
   ]
  },
  {
   "cell_type": "code",
   "execution_count": 22,
   "metadata": {},
   "outputs": [
    {
     "name": "stdout",
     "output_type": "stream",
     "text": [
      "New value [0. 1. 2. 3. 4.]\n"
     ]
    }
   ],
   "source": [
    "# Setting a new value\n",
    "s.run(shared_vector_1.assign(np.arange(5)))\n",
    "\n",
    "# Getting that new value\n",
    "print(\"New value\", s.run(shared_vector_1))"
   ]
  },
  {
   "cell_type": "markdown",
   "metadata": {},
   "source": [
    "# tf.gradients - why graphs matter\n",
    "* Tensorflow can compute derivatives and gradients automatically using the computation graph\n",
    "* True to its name it can manage matrix derivatives\n",
    "* Gradients are computed as a product of elementary derivatives via the chain rule:\n",
    "\n",
    "$$ {\\partial f(g(x)) \\over \\partial x} = {\\partial f(g(x)) \\over \\partial g(x)}\\cdot {\\partial g(x) \\over \\partial x} $$\n",
    "\n",
    "It can get you the derivative of any graph as long as it knows how to differentiate elementary operations"
   ]
  },
  {
   "cell_type": "code",
   "execution_count": 23,
   "metadata": {},
   "outputs": [],
   "source": [
    "my_scalar = tf.placeholder('float32')\n",
    "\n",
    "scalar_squared = my_scalar**2\n",
    "\n",
    "# A derivative of scalar_squared by my_scalar\n",
    "derivative = tf.gradients(scalar_squared, [my_scalar, ])"
   ]
  },
  {
   "cell_type": "code",
   "execution_count": 24,
   "metadata": {},
   "outputs": [
    {
     "data": {
      "text/plain": [
       "[<tf.Tensor 'gradients/pow_1_grad/Reshape:0' shape=<unknown> dtype=float32>]"
      ]
     },
     "execution_count": 24,
     "metadata": {},
     "output_type": "execute_result"
    }
   ],
   "source": [
    "derivative"
   ]
  },
  {
   "cell_type": "code",
   "execution_count": 25,
   "metadata": {},
   "outputs": [
    {
     "data": {
      "image/png": "[encoded data removed]",
      "text/plain": [
       "<Figure size 432x288 with 1 Axes>"
      ]
     },
     "metadata": {
      "needs_background": "light"
     },
     "output_type": "display_data"
    }
   ],
   "source": [
    "import matplotlib.pyplot as plt\n",
    "%matplotlib inline\n",
    "\n",
    "x = np.linspace(-3, 3)\n",
    "x_squared, x_squared_der = s.run([scalar_squared, derivative[0]],\n",
    "                                 {my_scalar:x})\n",
    "\n",
    "plt.plot(x, x_squared,label=\"$x^2$\")\n",
    "plt.plot(x, x_squared_der, label=r\"$\\frac{dx^2}{dx}$\")\n",
    "plt.legend();"
   ]
  },
  {
   "cell_type": "markdown",
   "metadata": {},
   "source": [
    "# Why that rocks"
   ]
  },
  {
   "cell_type": "code",
   "execution_count": 26,
   "metadata": {},
   "outputs": [],
   "source": [
    "my_vector = tf.placeholder('float32', [None])\n",
    "# Compute the gradient of the next weird function over my_scalar and my_vector\n",
    "# Warning! Trying to understand the meaning of that function may result in permanent brain damage\n",
    "weird_psychotic_function = tf.reduce_mean(\n",
    "    (my_vector+my_scalar)**(1+tf.nn.moments(my_vector,[0])[1]) + \n",
    "    1./ tf.atan(my_scalar))/(my_scalar**2 + 1) + 0.01*tf.sin(\n",
    "    2*my_scalar**1.5)*(tf.reduce_sum(my_vector)* my_scalar**2\n",
    "                      )*tf.exp((my_scalar-4)**2)/(\n",
    "    1+tf.exp((my_scalar-4)**2))*(1.-(tf.exp(-(my_scalar-4)**2)\n",
    "                                    )/(1+tf.exp(-(my_scalar-4)**2)))**2\n",
    "\n",
    "der_by_scalar = tf.gradients(weird_psychotic_function, my_scalar)\n",
    "der_by_vector = tf.gradients(weird_psychotic_function, my_vector)"
   ]
  },
  {
   "cell_type": "code",
   "execution_count": 27,
   "metadata": {},
   "outputs": [
    {
     "data": {
      "image/png": "[encoded data removed]",
      "text/plain": [
       "<Figure size 432x288 with 1 Axes>"
      ]
     },
     "metadata": {
      "needs_background": "light"
     },
     "output_type": "display_data"
    }
   ],
   "source": [
    "# Plotting the derivative\n",
    "scalar_space = np.linspace(1, 7, 100)\n",
    "\n",
    "y = [s.run(weird_psychotic_function, {my_scalar:x, my_vector:[1, 2, 3]})\n",
    "     for x in scalar_space]\n",
    "\n",
    "plt.plot(scalar_space, y, label='function')\n",
    "\n",
    "y_der_by_scalar = [s.run(der_by_scalar,\n",
    "                         {my_scalar:x, my_vector:[1, 2, 3]})\n",
    "                   for x in scalar_space]\n",
    "\n",
    "plt.plot(scalar_space, y_der_by_scalar, label='derivative')\n",
    "plt.grid()\n",
    "plt.legend();"
   ]
  },
  {
   "cell_type": "markdown",
   "metadata": {},
   "source": [
    "# Almost done - optimizers\n",
    "\n",
    "While you can perform gradient descent by hand with automatic grads from above, tensorflow also has some optimization methods implemented for you. Recall momentum & rmsprop?"
   ]
  },
  {
   "cell_type": "code",
   "execution_count": 28,
   "metadata": {},
   "outputs": [],
   "source": [
    "y_guess = tf.Variable(np.zeros(2, dtype='float32'))\n",
    "y_true = tf.range(1, 3, dtype='float32')\n",
    "loss = tf.reduce_mean((y_guess - y_true + tf.random_normal([2]))**2) \n",
    "#loss = tf.reduce_mean((y_guess - y_true)**2) \n",
    "optimizer = tf.train.MomentumOptimizer(0.01, 0.5).minimize(\n",
    "    loss, var_list=y_guess)"
   ]
  },
  {
   "cell_type": "code",
   "execution_count": 29,
   "metadata": {},
   "outputs": [
    {
     "data": {
      "image/png": "[encoded data removed]",
      "text/plain": [
       "<Figure size 432x288 with 1 Axes>"
      ]
     },
     "metadata": {
      "needs_background": "light"
     },
     "output_type": "display_data"
    }
   ],
   "source": [
    "from matplotlib import animation, rc\n",
    "import matplotlib_utils\n",
    "from IPython.display import HTML, display_html\n",
    "\n",
    "fig, ax = plt.subplots()\n",
    "y_true_value = s.run(y_true)\n",
    "level_x = np.arange(0, 2, 0.02)\n",
    "level_y = np.arange(0, 3, 0.02)\n",
    "X, Y = np.meshgrid(level_x, level_y)\n",
    "Z = (X - y_true_value[0])**2 + (Y - y_true_value[1])**2\n",
    "ax.set_xlim(-0.02, 2)\n",
    "ax.set_ylim(-0.02, 3)\n",
    "s.run(tf.global_variables_initializer())\n",
    "ax.scatter(*s.run(y_true), c='red')\n",
    "contour = ax.contour(X, Y, Z, 10)\n",
    "ax.clabel(contour, inline=1, fontsize=10)\n",
    "line, = ax.plot([], [], lw=2)\n",
    "\n",
    "def init():\n",
    "    line.set_data([], [])\n",
    "    return (line,)\n",
    "\n",
    "guesses = [s.run(y_guess)]\n",
    "\n",
    "def animate(i):\n",
    "    s.run(optimizer)\n",
    "    guesses.append(s.run(y_guess))\n",
    "    line.set_data(*zip(*guesses))\n",
    "    return (line,)\n",
    "\n",
    "anim = animation.FuncAnimation(fig, animate, init_func=init,\n",
    "                               frames=400, interval=20, blit=True)"
   ]
  },
  {
   "cell_type": "code",
   "execution_count": 31,
   "metadata": {},
   "outputs": [
    {
     "data": {
      "text/html": [
       "<video width=\"432\" height=\"288\" controls autoplay loop>\n",
       "  <source type=\"video/mp4\" src=\"data:video/mp4;base64,AAAAHGZ0eXBNNFYgAAACAGlzb21pc28yYXZjMQAAAAhmcmVlAACzrG1kYXQAAAKuBgX//6rcRem9\n",
       "5tlIt5Ys2CDZI+7veDI2NCAtIGNvcmUgMTUyIHIyODU0IGU5YTU5MDMgLSBILjI2NC9NUEVHLTQg\n",
       "QVZDIGNvZGVjIC0gQ29weWxlZnQgMjAwMy0yMDE3IC0gaHR0cDovL3d3dy52aWRlb2xhbi5vcmcv\n",
       "eDI2NC5odG1sIC0gb3B0aW9uczogY2FiYWM9MSByZWY9MyBkZWJsb2NrPTE6MDowIGFuYWx5c2U9\n",
       "MHgzOjB4MTEzIG1lPWhleCBzdWJtZT03IHBzeT0xIHBzeV9yZD0xLjAwOjAuMDAgbWl4ZWRfcmVm\n",
       "PTEgbWVfcmFuZ2U9MTYgY2hyb21hX21lPTEgdHJlbGxpcz0xIDh4OGRjdD0xIGNxbT0wIGRlYWR6\n",
       "b25lPTIxLDExIGZhc3RfcHNraXA9MSBjaHJvbWFfcXBfb2Zmc2V0PS0yIHRocmVhZHM9NiBsb29r\n",
       "YWhlYWRfdGhyZWFkcz0xIHNsaWNlZF90aHJlYWRzPTAgbnI9MCBkZWNpbWF0ZT0xIGludGVybGFj\n",
       "ZWQ9MCBibHVyYXlfY29tcGF0PTAgY29uc3RyYWluZWRfaW50cmE9MCBiZnJhbWVzPTMgYl9weXJh\n",
       "bWlkPTIgYl9hZGFwdD0xIGJfYmlhcz0wIGRpcmVjdD0xIHdlaWdodGI9MSBvcGVuX2dvcD0wIHdl\n",
       "aWdodHA9MiBrZXlpbnQ9MjUwIGtleWludF9taW49MjUgc2NlbmVjdXQ9NDAgaW50cmFfcmVmcmVz\n",
       "aD0wIHJjX2xvb2thaGVhZD00MCByYz1jcmYgbWJ0cmVlPTEgY3JmPTIzLjAgcWNvbXA9MC42MCBx\n",
       "cG1pbj0wIHFwbWF4PTY5IHFwc3RlcD00IGlwX3JhdGlvPTEuNDAgYXE9MToxLjAwAIAAADJPZYiE\n",
       "AC///vau/MsrRwuVLh1Ze7NR8uhJcv2IMH1oAAADAADVayF8oYJVUBjg5Cl8UC950wnQObmxLpMS\n",
       "eTd2N1o7ZvU7nZLqidQWs9IRqH4qZFuUNOvgrgAArGB7WlETloPe/JP4T9cYmW8XOcea2PNfdAfD\n",
       "fd6Iz/LDNKQmyT4UtqyM9VpZ4KW4uKMcNNP2NwTR824pPid9OGlJeuy3yaveIX6TYaJhi3+GxsUl\n",
       "gbdD7wi6WJ8qZSi0PaSn2s4FhcA/XBehncfXRTTznwpqU6eKyFdeuHcy8ZSuHOb76LAZfI9CLqoi\n",
       "rhqAnYx1QmNUdKYgN2Ghp59bZ1F75OEV4hsJWbD4MVPa9dxGgZnyICgNdrvPzXjyiDEJ/sLUA0io\n",
       "jEvnr9yAAEtqpv0e6/hhyHlCpU10mTMbXmfRj8bYGy26WfmWfnj/Ylpn3Ey+mVffWnXaCd29q0w/\n",
       "xD5oiqs7ysEzxEpQzqNukNafCsOpRaMygcotK1tvNtBQ1aKv20FvT0/TclkK72aoqB7PLJjmNRbE\n",
       "gTR9pmLAUP9RRBbTPdpYtp8yDTEgW04qybJag2mqSoeyypGkWX19vHjijtrAg3NogpiR0ZjvMQkS\n",
       "SfYwv6gP3n9JhZnLtx04NKokoPiIPYsnFiXDElwiX3pg65X4X1PEQtKgva9vZDnkZZdKeIt8qYuh\n",
       "Rh+rHc6kk3NOd4xhvZfsDQ4MzkPijfgR6lfJfbf/UdpNLspZbSUfaDZ2ksTG8XwytDPclrX4fzDx\n",
       "D522DhRHjX58DYsPxADFD7XlCS47a/6bzwCP8M4i+lX7sAh7IPQITvL3O437Pb5v38F3JSdQjuQD\n",
       "+T7axFzALehH2dUgzCu+rJhFjqANRbbcH47qEhEPOt31QcgJT9EwXcGHQy88ymlV9ep8qQn+/JIN\n",
       "T61pdnnKLnTxPi3x+daYBkOMiN6A478nJZ+bSIL+EjKpDVhypYQHKgZu7DauGJGOdlNS+aVX630f\n",
       "RiZ3ysf57mjpYZYtQ3BE1OMNMU3x2dprgw951hsyq7bZfM0KeS2XRtDD9U6hLLKiFe86LoZ+mpDb\n",
       "9Cqa3KZ0xaqbD0jHMOma/8H7T8m6SJfCULFvPFu/47/pV1lmezlVg1eF1c+hAhsanhYOY9LBPJxA\n",
       "3hra6xayeb5eFfTXnpbxNPIxCPyLiQddLNgiy8WHGyr5bhwD1HiDCKBf9cxLYbLsWBEwVTpVS4UZ\n",
       "/eyWboayyIzgk0ezmIpqTG7iH/91MDUEENFsRh2hZ8oTfjECf8QsbNWbxO9DlbpNisSWr8jluSaE\n",
       "j6PZ5JnwzJkvMUqzKVJqc0j/ABAL90oAddvFcaeRn7eXq1QDeh+gLL9mIgP+PEnW2SvKJ31ELbRY\n",
       "HqFQfBZ/vPH7e32Wta9i/dFARRVpTTgTAWKjH2YRu8EIU+7fMpHSoHlt+DTsSljAZvSjOu8CJ8QS\n",
       "Tcv+7YlXePYBnm7bbY3iilr4obCVmrKXsMcxpCYfkBBa1aulDndBbkBNFXuHUgNuhW3VBpkXofKX\n",
       "NSdr20071MGav6zPV5yI1EkduEsmNVMMFtsFEP/VXVD8P3AT86Ck9AC72waRrb+n6GRWDW5Wk7IY\n",
       "eW/u8pN+oDcJyLYU1TTrwylwSDD2XvNoZBzTl4imF60ScaE8OUNj1P1/MfFGPjQDlPF+YjKbTi0l\n",
       "a//Fsu+SMi2oeIA0Z6UQoSN1B9LAABNGW4tdtghh6m2shAVZ7sKvHHY0hLuqTW43R8hwyMoNCBxl\n",
       "lBDLb8RM2rz9l5SFotdiisL/yyA3viBzPmGXr5sVBn7ujN+Bsn5H+EQMYOFHstjS5re9ctPUFgUg\n",
       "UrWEmZP374wo6N2qzrdQpKQPyRTU/7vY2EpTwD3v8Sx58jfDTeCMG6eCWp7hGRW+LPTyNsuiN0Ir\n",
       "Kdlv0WV2gxF6I6yUdVVXlvEC7IZcABEpPFJJCNr1WLBai4cF2aEIU/EYCrc9W0O+oui8QTutq2jN\n",
       "j9P/uOTwUQ5YwFTFHV5fx9mSCSce0diHEcz/by7MM6CeXbePpnYaER/lhVRg6gPyPx9fpYgPjgb5\n",
       "42U7xAj+qA/o7fGMbyZQPtJUNQfLmtZ2BKAgfwoI3FjqCpj6yYyf/mXSrjmZv2gjIBJRmzudcZmz\n",
       "O5YjkTfv7L9idZB22J8ihMCjlJLkr7AK99GLy5zFEzV1+fVZDqN3cvnnt3+LWfae/XgMFvGcpi8I\n",
       "biO9jjJItfXA6aTF4FNtQCgseohSKL2a1lCRckgT3Zm5/zAWxSsq2WwtWl1ip0ptGIUW2/d3kB6Y\n",
       "PC1ed3izpsD/bNAqFOOBfGK4wna9aBcTY6HJn5i4NEEm59Xb42DZmQ0v865jVkoJ9cnkUbqsM/LG\n",
       "ZsSwHB28kgLG6mz03f2HfgOA4q3kcqlbtzBKT6XsLMbVSMOuj9IWAJ2c8GHYy4GwAuEr9LdaZvjH\n",
       "ely2g65Amw35zAKOC0H22taB0GeOWoZ+w8OcG85n+mqGu89x2NAFt3nnrWPv0UwJji30//nHeRou\n",
       "ZfqTqxsMm6qPTlWp0olOUnE4eCtIs1ChG415EIaMYITfJm5YECR+wut5kC1Qz9ZeLqGP64Hp7QGx\n",
       "xmhuvgM5vJNoa06hqHyBqU0QRINyRCQGA2qhW7unz0aknJLfvHa3DZCjBm/EsJIJV7cHSCTKR50N\n",
       "ms4NeJpkzu97ly3pulTcjqkMfYuKKm+aboInfo/jOrJCmOEMyRZd93L94Og1XchRI8jttGEkVHyF\n",
       "C33QXYNiDNrnDz0YfuX46JghjI+Ers/Cml8uYEfyyul8k0bZy/tDbNOh66Opg6NkdI6d4ygMowrm\n",
       "GTkXSXV8+jiPEBq7i4TsqKIIaIIJZTDFtwt2CBEV1TewsEihE+vTj6NiTtNkt8p2RARbbwbMQk2n\n",
       "L1dz4MnaB3MevqWGbfSN+A/3Bq5FagoLlA6eeZTnmh++DReuB6k6f3T/zpXcWUZVw2YWKV67HckY\n",
       "uvaR8bqTG2YsA8gDrqwWBl5kbl90kuMoYH1DhvfgtnkyNLn/KzCtZ8gB0WK6eHc4V7d8AasQEc/N\n",
       "ldLjx1M4npN/28pMaUWFiNvvB3THed7VTdeEcEItr0on9k7LClnQ7uo5nmpQmSzu5M0DCYnOcdm/\n",
       "hboRtOBP7N4Er/+sNi6QkpYP3bosdKyfvazEeKiP0jeRVAH/ATOvEx9AVxTAV1N0V6IgZOGrbZBA\n",
       "aaf0G5nBNC114NzOxHOX3GgtCEgGdcxcsuVA5blt8VtqdH8KDmJLEql0nBnAD6bt1zUozyfaGozJ\n",
       "EOvBfcgo70r8h7zmAayyzZiG48TWMBZ4Ai5+dKTX1wsdsaqedsw1e9bTd4M4vQk/fTsq2Z83rtoG\n",
       "jQaXPTu929hfaPHwYpY66qQvc/bL5u3VBCdKtYsFyJ6fVwQegjGT8/3pqu6hzzK5ObLApGF56MLb\n",
       "Em6pdFGUdrQIoJF3sRgWZx0Kus3/tiKHEhcE92g9rIul/j29jej4WA3PVmhj0Upjd1vl6t4t8vRN\n",
       "d8LwyvOlJO4trwqxjF4NxrOgiD2qZe1D3Sz/xF4ui9CDbIrbkZmYua07V2WqW0rnap3x3OrgcXc4\n",
       "0r7WHjQo6NX7cNlZVO9utTG58IJA3S45lYy41ARMMbgEh3sTQInyOkJVor7iEG/Vvbuq+tpYx5yI\n",
       "FV5c/HdApqRaP65mFnqcNigAAFXAEBlSOO61KpAhaeHVKMNLGWu45ADjUvIs2j674xd8JizK67s+\n",
       "eHxFXcuNZgEHPV5VMisgUYekwzBFK0N/b+GmA3p4e/9aXwDPqRxQbfFZVBRKIg9rkPGLKr411otR\n",
       "jfziRMpthSlhYjJwdorf1zrR4iBRPFe+t60HCl25yndscKlCLC2j2mVZRCfKgqHl03KFPJIfkP+F\n",
       "e61N6vqHQ2WHh0mrxKMq1bqP5kUYwloOfocadIVs9nPYA3F8RNGXjpA0O9KCRpDgh4pwiBsWpFD3\n",
       "Bl1u6iqn6iGn57ZZj/eDdFTJOPwvGPHr7zfFFPjCI4riSsHs0a9Al6lKlpdq7uK2iv97kSsOvB2Q\n",
       "7vs2LqByyMF4brPTd/kIQuH0LijC8vaXBnAfUqFD9nKltArozO1jZ1jzIQZzMJFXlr9TvjDufcnq\n",
       "cs24UidOwSMXq/nXgzubgAc0t7quNDI7vWiWEVj0wSfWQx3sF9ZugNq0Y2xouWIyxUv3iffJo0ct\n",
       "WQlQuZE1ZEzfgBoOThAkFVQmEt6/Y7fRdS9C7QoYt0l0/UCtSJmWOmr01gHgL9NZ+zJ1Jhzsns2i\n",
       "rdNV0GAtHEkC6c6gO363aOkCAc2NpisKMou1dmDg58HFXenjhMmSj5Cnq27sg0BoJ3l4m8SERAwM\n",
       "UvqpYtw0XsYF4Q7kUa7koGZVKGbgIOm1rZB9o12PtBD4H71e8XmosEDuYonjgVL/9WCLtOT5x2/N\n",
       "bWFGmOOEQV/w1jj4BiQ7oEh8ew4YKEM6YvlXOl8GUnCxt8739NyVCQsSOm4aXUBN9MrER5nnE5WI\n",
       "rkif+QpAZmkAf91cczkeKKhL+z5xBnVgd5HWqZuDDXV2tR0Ia8BGpVaIEURrXtN3AJHhVS/Pt7rJ\n",
       "TaN7LIMchtFayz3wyRduPtNr3E9jIfCHxPF+3MUqQnb+U2yc90g+rzCpVPqpgM+XYgRefNvpa4hz\n",
       "1VJ0OFmpwgw05b46FjVm9W2ipIl387vE4Fe/L3vGG1xNzx/1ILE13sfKSxfeC4iOj9J8QblYzh7i\n",
       "M/5Emwcl47R++/2U4JwFC7icHZ8nxgLwV7rigJs1OKYzyqZPHMJ8gjd71sC401SFv36At7pGRMaf\n",
       "ejjK9YvtLrwjaBYfit6tbDpGVSo86ZDVgFjBf04nG6pZPm6pvch1KgAq5uKQ4ImoQlv6MR6DI7Ys\n",
       "GK3jEP87GLggcK9v72EGcuo0XabM13fC73yxHfpQ84PpIojAMqL9igOzTXFYfD2GlHCdak0lvwsh\n",
       "qVdf/8+lZnr5cZ7c0FnOaNkgabvsjkY1OvduIYuoRNakAfvyzA6Ia730mKdFTZSn3kI4PCdjG6v/\n",
       "ETtWOOkn3Iv+PiQ5eGWopfLdsx+A9TO9NIWzPQ/q8Y7H83eXWqS/kEAdsa/BeGz0T/fAhjLBgCbM\n",
       "oZ1MOnaCITW1vD8c3sw+Dn038cZbVF3anrDpzN+3YFSLLLD3IYI/wh9C0ltkotTeD3iaH0wIIwgS\n",
       "hJxJ9hSs8L6NzLZXO6vri5A6wx93HnFy3Pq5GHUvmW05/qcnKumFCaJ5h1CqPWtVSr3hJtrJcS1v\n",
       "Hmk4wl69YwNJDUaopIGF3M8gYbb06A0SITuDkvPwzj0oDTK+sZ0actqig+LEhYeAQro/VvNKanyA\n",
       "HWQoW6WKYUAuD+6qotyMt7nW/NWNjDiDqkonyIn/m2bJgHbGOtxsAccbtNggm9rg14kNXPM4t5DL\n",
       "WaGju/lQS/BdeG/5ftqk4DgTEyiT8Pg92XH/I8LUmb+a3Gh+LhiWhT5SAx1Cz0pKzLqjK4LbRLCf\n",
       "YEWq1pRSeZB8eZRXnGezKDTLV2+ygrhEf5Q73Dcgnf/3QLSigDpPmL+CyRTUn84OyP5eu1JIQWKf\n",
       "YebeY/uHTRq5eR/pFAzVZk0ORuJrInn918p3q+6a3LM2uobQqSW4H+wJjUFcUeS5cfZoSb/Spsdc\n",
       "LqWnYjenAm/kBMjfP1hj46H3sY7CeZycdZ9Nrr8EJab6b6iBtmbAT5ibSrK1JngzrmSl56xnOVoD\n",
       "4W9SRFdMdk7Vs2W/62fYi+EqZ6/yybSLFosDNqTc570gcqxqlokxyRsLucsJrPt0c2utyhNqFwL+\n",
       "7SrYkgf0d6uI0KgHZa8sPw0O7PwiqXWEs7ox7s7QYGR/UDTFEKNCCENBHLXbwEsamTGQhmRyzQbr\n",
       "L3Q7Bjik0SJypQ3Vum5G615KT4qSbWBct0nBH8idYj9GYyZdSa3sAQEOZ6KrMlEuYh2Z6u//+bAz\n",
       "OYBdxyLcGz5MVyKZJYuEXn9MlnRFVBo3Ji268pMYXIm0KRgA18eg7z9RrSPR2hXaz++BNv9CP3dp\n",
       "z3ZA40+yQ3vny3mMKqSz5D/rFvgx1NiRxebZGOMfhcPfHx4RZ1WRjshdb0W16jKXDWRtrs9HAO2o\n",
       "q4uzgVLDjZ1WOPdruC0nSHqfiuR/bRsjsNDt5YncdRZbHdUCaatLPkFtJnAc1rgOn21UcMAooSYt\n",
       "RGLt+CvnVhdrcI03dVdSWQtEJOW8cHRd54F7N9gQySK8HDu3eVto6YpQCIMeZYfa8qtvNDDkU7KP\n",
       "umk6SSf1H0pncTxCjIBIjpWaLNgm2jzmJo2blfyOGGvk4a/Xk11/rKTXGgkoIbypy8Wpm97Ygb0y\n",
       "jJkLH4L2bkzXVdcTd4Mw6RpOTpcuyd1Syvec/xGtyJx4x+ryriadDboZrBk0gBC+eMmnA28XFAeK\n",
       "KJVPVqIRqKtqTnL4D1npHG6WwLW9d+dWUh8ihyDnfjuUPrbnFXKMATjfXC/F7iVQ8iKZ3gWbOozN\n",
       "D306rnOhWRNt38ocTDpoujEbJL/h+PRJ/PIBbn97bJ8fJ9WG61JmBrbRxgljzSeJTQbPg3v4H30u\n",
       "RZfrrpEpfMc+OS8ibte/aVwJt4x2iYO7PJ0LNivs63XJNnj6hUI04vAO3uG0goffboG/tPFaA9dY\n",
       "WmHuYtZKJ4gy5rmicEmMKSyvis4mHyGz9mHQYeFF3FXoqiFp0CKCiGcPpqZbCLmyUY8gHWOaD0Ok\n",
       "S3iFfkn01jJ8vxjZIJQKZJZ+O3OMM0pWUauxzPdjdcbowYA8sst8SZK/eKvJtAQ1Su1QjMYe/KAr\n",
       "s0Mei70jvaCR2s5l0Qk+3RPoIkT30z6v0mIECnckRoyRimBgqOe6/chAOorASnMNbeeOBENT9rZr\n",
       "ospn3Elb3XATfR6//hamQYdCkUnp0uzwc7z8KSkB22t9g6ApAOmgqNxuF8hX3WEnTTJ4aslj7T2M\n",
       "J3sVg22vutg5uJ4xm4ZxcCbzwpFyzfpYWtPS8Yx+CqLHDAsi91OuWI6cxysWzflufybPSRwtYGD6\n",
       "XZxdQ1g6G6zE8jwB1p7D39XMJrFME90TTII3vu3VlrLIKxSC5+B3Ks80mo7vPsLh7Iw8SwhEAbab\n",
       "O69S/8F09873EfjpGsWzgZOBMhAwQpxcBaEllv9VtfUh4m+3sTF7k1DatmAekpm5m4Z0LCn30xX4\n",
       "y+qV03CI1TSLZECMv4nvqqXchFAdc5IrlmcFtH2oGM5XxeQVsZypgqXeyvpx2xU/jlV4x8vyFOxj\n",
       "4K2eUUYLmFRFoomlMy4LVYZ1caBiKyZTzju9tdtTLz1JGwhIuVvz4t4f6V7A1eIqgpg/xwHq+dkI\n",
       "TfqErBkXPwTmUBF/QyD1qG/gzqrGOArQphn0/g/sM0uN7OL8KHszqghDaOj8n/0e+TQ6MbWh79/t\n",
       "P9biaIsH/UXdfYMVs6K9gJXy+HNoKhkPep5NgpbT1Hxbf7BnQAHT6O9FTzDykFZ/QBMeP9RIoK91\n",
       "u4J/IFq56TxsaBHBdQsptICoRld5iBRZpdgyafUVzQSRUfPbAa1ltH+K+ZlAH1k03sY79PRCsBAw\n",
       "s2ZpSq659V+WQMpm7siPJsBlhmgbiXe1yKFL1jHINFLosZGOtD3tV9QPFzlp0WdjaqpKLy93F2GC\n",
       "YOhVcSgxwIHH49o9UtHt+Rg2gejo4hRQKvxST51yb6TYsM40Z6YxxXLaEXZy1aqEjb2r5jAPakGX\n",
       "JvzHar3LdxZbXNWw0xwzS154wM1p2zZWX4PnDfG4YHqN0y+p4qHDmUhGJlytjd5aDY3N91TiUPJq\n",
       "+/raENKS5pe3eXYtpbeWpZARUFC8yKM+RLbmM79R4azf/HJxYATG/2oUwi98+XCP7wVbeyVEWb8S\n",
       "Z2A7TatlMZPV4DnpdHeSUk7ouARp0qCbSOICdpUzYHTr3StJ1qdagLxWlBVOBv6co5yN9RLfYKTR\n",
       "wZMBT3K7zUGFq8RIT9UercOKWMyCoPrspS5q9Aq8mcW+ZKH5EhLbXsxDL0V+XA21AYlK7ROSYicC\n",
       "UHFjxfiqu7d61mzZKRyYTIfa7KK0lzVfjfbc0xgzo9xgwmDBYTjbTks7kKXB83Lac58c87lW5uoJ\n",
       "0j0tut+lG/OF2gnQIgyaoKznbOXGuQDODNi+TBSbsU2GH4ytJCL46ALvBXdMH8vYmVdDbg4euXvU\n",
       "q4oNVdZy6SkMYMAfobr2OPDenJzmhFmOlzN8j22/WnNnxt3AtMhWJTTGdeOLMFYabsh9aJxOiEAL\n",
       "ef4OdabZpIYfnbL6Zwso/oglK7Hr8dDtMG4NGWLe4jewzFfD3xJkRT9pE2xTe79b5UUsNQfewxqX\n",
       "vD8JUOjrbAhh0YHekpLPz9Knpq3y4W/B7D1UHTjMQIQePufdZM5vTFxA3+tLkFdUb8NYb+Z3ZkO8\n",
       "4IIbOrRrDVOWS+9H6bq9okTmGnWdgTs9qTrZDX+pCy85MyJ7on1XjbAtiKg+B6r2sL3/U/Er0so5\n",
       "HugOUlMYhbJ0LbGXoj+I/UOH1pYbVrp0CQfO3jumHnI2N1mw1cwIxO+ByeZt2R9yjWySA9vS7ski\n",
       "7SkIEJhUyE9HACrSzr0R6HzH1AwjQDgGwrajG56PoOxVs8gZPS0IdyyuDNrB5+XIbx2zi2X9FDep\n",
       "teLHWl37qpPN27ROKb56jf4P/CZ13gwXnlah8Y+N8DqctrKezfUAIwwWDwG+4bKZt4dv+NlQ6Ob4\n",
       "FwQ18t05hJbviYN58rqaO3nb590+AfJemVz/omK6868vQbMp3V5ZQd+4oekm60edJo1kc3o9DE8o\n",
       "vIZ9KyTyQslbs+AW3tozrTDoUsNKdwJmWmV2RlANKvy/aPxBMMQmtmpthv+z/FR6SW3mbUpuc2l4\n",
       "emY8F6BJV7P31d9sIgGGHOBYXgr0mm40G1cUn6Oz7n4pdFTdc6lF/8WvxeTcqBUK45YPHRTgWnet\n",
       "Gt8dfC1LMLSFxoBZgWxDGAohCOqXJpkCL9AHC0X4LyW2jCQelKG67zhJwSpmWzm2osBj+udgcpQz\n",
       "DbQOSPy4GgmA2jV9MMiYHYdQugI5K4zBQJQJ4kqFjSfYOYWL09r8QRL9bqUVO3vLEwOx5syXNwGt\n",
       "ddlgRFYAo2xDlt82emkWuA5PvPgy/sb7Les5t6JR10nEPBDgJcemLs0h2CQPLjEdgnj9+6Otv93U\n",
       "nJEsMmIDRDDX6Akp8kz2vCdbB5Hhece/j/K/UeyqSSAKxrDGMFALdnd7TAH0k4942rG6kYwKbeqW\n",
       "GQuwfUBnBy+5wdIacvffgx6f0Lrg1xAfKChnDosgaiWj84M0pznwobM1M5RgXJhnN1i1xEvdp5Ps\n",
       "TACUvzzJt1BStSZCNTFZnJ5EkKhDL3ganv7GNNK2lKkBaX84+BrjB4kFEPL1Kiynu0N4M8cGinJy\n",
       "fmfMtQfPR59KDtpFDXEW+ir9EmOA65Q2v7ZGIOskiny3QoIZP/leoeyahcQQfSi6A8gwpmBfC4g1\n",
       "8Li4efl2oLfgdV9WFNTOZ2awEd9oA81+LuX72XnwpzabKRolYVu027aKYT4Qa7ztR3iR7xr4gXxI\n",
       "OS/Wj+mEDVcBY6lM1AcsIXMQHNr1l01SUYEplOWHM2dLR93iyVQArG6Iu146q1fhnHWnEwdRq/b1\n",
       "It9KUTz5H70GmbFBCIRDEnplT8+F5XD9Q5s+VZayEh66m398JFEsdAjFhbsW6H5R8v1w/D5eAdaP\n",
       "qFcV8NqXPrmi9EFbHnF+V6LKgn9U4lPM/ZqwNuWVtWtJ5XE7P8YB85PCdcDG6z92MOJ8AROp4tAb\n",
       "12D+UwsoKyhoOWhmILaiYrWUnypmT9uaGy4e627YXJfQLA/fawlm+zc7oF80/qEhmF0tYdQzdjOt\n",
       "/mjM6sB3SW6X8KmbVEqZVORfrCh4HjxWOUbd99Koqo1d0XzBRrzZzNOK1BPoRRgodTa/GwKREg3z\n",
       "gPHkG5jmh7efs9vOKSeJhKjpxk/4DOVBEHty/RE4qNOcV7kdVnbdpy7UtxRcmQ9CpV4qY5pCAH32\n",
       "P5GB6q70pVO+BNcI+mxU6Qtl1GSEEliMarSnqY9kLaNXrFyyhMJko60/4JG7X0nn1Bwl/pT4Cgnn\n",
       "2e9a7uwzHUc1Ao4zRvB5oTfRuZAQTZYdKhLM7NMh00pi+rH5zdA6cMMfhRs9uosjI+e84IIf4W+y\n",
       "mwso4a5o0+hmWlcP8M63Exj2cD117vPgQ+wNo2GPtNckBqNTUxGBMdbgMMYbLiZW8ovgdf53YjqE\n",
       "LxgOQI5oswcaW8xIlBjwxt9jiCgkxdK372J2cgqCkA46kugDAueZGaW5IzTha2fGnlhNijEYZ7Y2\n",
       "4OVfKJJb+b3tcKgrZ/ta8xq8FGxs1ZVlqpRxIvuWwnkmUG+u60q/PgZ3giqeKD43CmUfj4wiJp3k\n",
       "dCwZp+53P+qc7YjGwnQxkMQqpk4+qrq83/yx0MIzchMGSxzhpsB6tZERA7t5q6xbWnAXJNPCL6al\n",
       "3I+aLu+P5oNyC80BE1+y6HpDzhBLXcgsd89OFRRAbmtF3uHkikElqgnlKiRVjh0Jn7Bd0o1Yaa6U\n",
       "PL2N1C6PLNRt56VRtli2PD8J7qZR9w2FawpdGQR9tENlZf+u1ijZtLLww83GVZMH1r63D+3jR/GH\n",
       "Xu5JKO75Lks/GsL3FaVKCx5RSWGtzCWNigXbHeW2xFORcw9qHVC20MGpf+/hob2j4pUttxWVJSmC\n",
       "PFdYYmqNv9GxTvskPIt7UrzTzbXAuf+SL4Zxfb/wdNIWaSTiCCEslle0TLnEmZzK5s/9CCF3Erq7\n",
       "3wFwZfiTIuO+HrhTpkzUYV/D8huNC0w4px62mLTRCqIT4+C9uqjB0mmGeADzq/JCfQiqozbylBYV\n",
       "GH1D1I2dHWrDWK3o6/5vS7pSUpak1/tOZirIau+IX/CLud/3+ZKHjoNl8LiiNy0GTmLUSDVlQ/gz\n",
       "QnMu2+yjBNp9pkt2TvCLScqRVloBzgHHUqKAKqjjeNK/Djoj64oWk9446JIzKIcA6CbqyZKNGuwu\n",
       "9XjCBYXGF7VvFN90uUUFTLlbKpWiy3P2pdZnXmpEtl/kHQyYOwtHQQ/VKEN/jT5UK5l2AbOTSltD\n",
       "NsmXF8FloS9/kR8OJ+IjcCrdg+T7zSqvXVCJxRY7w0jg37PkQnrNBMXn69656MatuHsKfFqrxh30\n",
       "CzihsrKkTp1O9NzqXXM8eEj9dVUDlv0nQHX3+oZRgyYP08NUIjPXZQ49JHOphfMme3GqUe7HibPn\n",
       "mB3r/7HjZsa8RidmdouqLmECPh6flcGhXpZ8QTc8O1IuKBKNMKdSqewnRXykwksOmCfevkmTasL5\n",
       "LXEEIlh+ttZmHQ21bDqBf6WZA0gCMwhr4aJXoJhHK7ZX5uAOnSmSEt2PaS2WlSza7TQYX/H85HcL\n",
       "TscYxwishGPBHgvPUnHjJTDgGwAxsRI6dQKXLrrMLJJ9Z7o5FigLy4Tuk2HqqD5tpRpuWxmHOzn3\n",
       "OBqCQakhKU6ZTLEYk3K7+3DVh1TyR8RyVqA0OUbsqqlhtKQmYLTom7Zes6kpF9B6gWgCA+yFdKFZ\n",
       "WSveQgrR1A8uZMi+AS1Jwovcr2DXX81X/f1U6UxicGvmWPD08oE8JWMENW+aezVumaHaoX+4zE7/\n",
       "igha7/jY/77pOofs8FbDqd2OjGaKG/gkLnKet/u2rLd2tLQvtSqppbFaACWo56J2MntITyKk3RUt\n",
       "UzSciUYiSCvqC8JqtX8I1gB9B67X63E+B56IZwfcugswakDxvWxFSZ6qrfotevhY3aHKUkhSl6lB\n",
       "Gozy7W4tR1tortDCEyKmlDeWSf6rfzViMw9UTJhnSGqc44RLlVM27Hei+eKAsyNopLX2JTk1cMMW\n",
       "1X97ZscVY2Z/qE/Arlg41AI3S+ASwcDGAQbiPseMtj/Qgs4HR8pPjGuklqNVqlDeeE9uSCrdnBMO\n",
       "372kwu1NxcN36otwAXiP/HHyiF3F45r7uX+CqjpA1nn4InazZ9QDRy0FYt3I7s20XXBFKKEde8+F\n",
       "kBBTRvMAtjDOhC2WDWpxwqzjwuQlTT7hI9VCYrtm1J1mgieoejLGWx7uk5nK6V4r9uTeVTKc7NJQ\n",
       "YMvqCnzN2+0Nl8k9+MQaAXRhaDECU6JWtglDtbMgvAEBWjGBH0gSBeeSYyDb2Of0azPPpSsVM7f/\n",
       "s99lS+kYbXk4571R23Sb92K4gUEQSPzW+Q3RIbPBj2UrhhpZdB/1/zSjPdngQJPLeNOQXftz4s4O\n",
       "XojaEu85tpMXe8ZlCbfQXLCyuT7mgZVws/vKfpjvaxPLBJrW4/koyixjCnbuPCGKi3EuQXKfw57m\n",
       "1QCVumpsUCFRFqfKhuaZ0s1RH+d+QPqkzUxn64Rx3d1LGl4Dvlept2EJ9RjLZqn4Q6DJTaOXvAEQ\n",
       "Obmyp1/k3TT6L3UFbwYdHbR62aK3uUMA0Z9S13lqTMI5C8i9v4QOt08ZGJpso2kwac510WOKvsKn\n",
       "pFshR6nYMexSItTxFOKR9ydD13fySCdvDe2A9dNK8KAylvldoVYWCC6BuCFXGaBrWyN+LjvrggZ5\n",
       "1FfGmvXvcXFieJGSBa5ZhP4kFDsvRLD4j9O3DfW/nf30f5d4HRAbtRdIPBQK/VouLKf5/mgee2I0\n",
       "ZlJLhLoyVekwPyFg6/WDGTxcxtar2rycT7asmzEtdomMEvsydN8ZeUFGe9h3Vakr+yIFAYKyabRm\n",
       "XbpsQdFI/9CoB2aC5jtj0wrfQs6hggWuoEEzxco+SR5OKXaYrWPt+U3vmmOno1mvLkmnmT2i5SqN\n",
       "i04uiu+IKpoavYNuLVRVmDbyTHFRkBB0jDaIZsRaMC2SBkjgjBvfHfxMXrPIv/wQNziM/MpGDOD2\n",
       "A80KeKT+q//Yi6sdXSFq6fYWu7vKho3qmdnt1hzZsbMVa/IJ8nFq3fH944VlpieibLLjxU4XotI8\n",
       "mINf4Kpz90ibxYcruDXquC71WWGU6LpW8woTwNRnK39Ko+Cr0Byfdd/TvVYUx3XsirykOyctVCmc\n",
       "bZ/pQKeO/CN6/L5/zy+vBK8O8P4FX6WKnXBvJ6dFtmBsajk8hzJTDhkCixl2VBE4nNBHO6brie7t\n",
       "Kkr8feZ26dn9r1oqQ1zaqoycOdEfLA2MTHvf5ORrH6DYLqJFztjrt86dwJjeYsVvCJJQSAlSAEEZ\n",
       "kkor3W2Oe1U3FDDTtHvvhPtlEb7AYJFf0NuG+fK1ClPaGhMioj9ykjeNp+ggjgTlkwTsog2oZRF+\n",
       "IQeKngBNBamHFqSIJKJzzDMR3rCbzC+RokapgyjiVJCBSJ91hB7R6oVzXbr8yTxLu4t2ME36yT1q\n",
       "KLda2mZAjnXgZw8S58o9AY++FI2rZESbdGZq5g/NhAg+M3f+xAq37W3K63KURiDr3PXSeVZ9y5s8\n",
       "/aD+hvC6NuH5ZqvCGRp5ZO2LKx25HQ/WKcUt/z72hPjcUJAcnlamCWHAjXNzszFKeGAvaHuyHSq2\n",
       "H1Tw3PVkLj9rant1cM6aiu7qwhOwTLpnwQZ9CgTN3ZWPQ/ixxP5AqrnBktve2njdoTUChF/YyZWh\n",
       "5Rm5YnqyipNUZYknIF+mqkyJ82whBm02KgZp4erMkec/266jRb/kul3pZILvNyuPAtui+Rn63VZB\n",
       "iE9HdZ51RFvJAyGZYvRL1BSqL8/vWe0a2A2XjldazGWfd6llPUCUYDGNPN+S07Dlq9UDgNMSkez1\n",
       "xyKZW8Ht6jbNo+n9ZzfLuf8OIMyuwh1Y0BYM/1u+0S2BAxt6jRn5pTXkI9PnYSjt+m+PSBZ1Iuli\n",
       "yKS8qDSq0I8Xz6qcGRHINP+/eZrebKXb/eSCfb/8sW7D4cca1innGB9tc5Jxw+2xvPdSN1KigKCV\n",
       "8bLf/cVLi8MSg3luv9/prl49JijHsr1PebfDPYvBycxDqA2vQIPznqd3XozcL6z11aK8hYw9Dg0/\n",
       "dNZXE6fYLr6ZAKH3+/RfYZI70u8hItLQDM1PC9XcXWf5iACNiula0vBRmqn2pS7LnZ67ZxSG0H9+\n",
       "zCGz2PFaLMOwRyhFyy88DIlAzxZylgGlBJeSXY8nNPrLg48Yhu213Uw6wyTOObLDykwDnyLWoaHJ\n",
       "on0v3IJWvBA2JdSYXD5pEJJRfyzwnws4r5bntfS1TjYMSb+wZGUZ6azxd+tzYZ9rtzIdOV9syYWQ\n",
       "LyhDBd998mG4LmpBoTu8QE4awLxMaDXMzUd6BT5iV5Gf8rPqudWA0so31Ws2vbbNTPfk5NE4Bijf\n",
       "aX6fveYca3jEBqw/pOIwd+EncLCGaN2bQkflWRxk+5PoRgmELoeeOA0jBenHGq9tZqOUTWSEeAvB\n",
       "c16ySB0qkdD+Sb2lVDxIUTtoEh+A4Y8flnHu/Stl5Gg7mprXJrB+YHEnwXGnMVpHZenEh/9mD1ZU\n",
       "MZGyFen4pxEPabH+uN1zUp11rm70yxK7TyhZCzTw8QE0BmA99jztSrwV3DuT4DqZAL0uhDzObEoq\n",
       "yaH/LLRy+AjiMdiAi1ScugaTgBHldwSaJmuWFgED6eqhc69yDzRnulKAGtU19VX+ofpG1YxxFc8+\n",
       "R+1H9TaWBpz03AoeRIrnl01wpW7uwHNG0+3rVvN4NDW30tCN1RVnVHZz7wuwWs2gvfh1fnlVWR4J\n",
       "9apzfeB3MjY3BzAS7nv+TcrL6LpN4lX22a6Jf6EPgnu2HCK3kjjF3WVnU7PvVE26QqMXtzTpFWoG\n",
       "eAfZxlLorJhKBEGrJoYfgMgQFJmDcvM3VnyRweAm7YGPzaiNEvhAZQLoWS+HcJ4uxQi3KxZVz/QC\n",
       "2UtuPNQwylp28HcX31q6B3QLN8vO/QatpCnlntVcbf9Xbd9ZF0eaDlxi+7/ee1I/g/RQEOY2sZ/C\n",
       "FAhZNWgrZc4xFWeEkCU210/9vhEG+oVI5whGrSzeJbKFttc4np3u/J7v7g+xPZCFHlO0ceo+Ksdo\n",
       "9i7bJCVefHbX+ZOVFQ0Pc9UHdzU3xHHdtNlD/Gff//7c+wbWdAx9Qtsll861deeXrp1SOYmAahq1\n",
       "s7lX/uX+TpE04KzTheKZG+YJ1QFo/byp8qhUd+N434GM53thUbxdAyH2wohL4vdQqZEarjJAQIo2\n",
       "ic4Ah7sFvjfeWLzoFMRuOJ53YU8YSvzjbBUhFeKSJa+K6/9yMYLVPjQRdyxNuv/hBRIGvI5YtCF5\n",
       "G5Z8w+hSqJH6MB/5yfy7HBHCwYr+1/l0CcCiRTeSFrqnnWTp95NIZf9x8DUstfEcxo9pedTB1lPP\n",
       "xmjCtVDdRsX8l76uyQIqQH3qbP6UalATtYtY7mCNAP0d54VM0/1uZVc6Eu+BVaohWQZhKneN3SwQ\n",
       "r+fx0/bR+fZavXLEc3FAXk7e2yomPzIg/kmzlkK3j1Vk1WSEV37pHb3WMwfQIxCP430Nwlun4gwp\n",
       "44UiCwr2L+q1A7XnN6qhYmxfrB5cJCATDSkBgIohftpXVL/GAccG+C84oTo1wVDKNAyNEgGfEJ8l\n",
       "l8cD10Mg457h9z89YdBtVglHxJWaIjgHEA7W2+tN3RR7KSCpkcd0EGQwCOsGxryeyHO2A0tB0Lql\n",
       "L4/qAhoRXEJtwtFrbBq2ZHvpEWElffia+0BhjYWjFxU0ZskhMaxeQRU4jTVT+lyj2cIeGpMaslgi\n",
       "XuwXjfUxpo2Z1ca8uzb0BK/gkPVDQyJy+1ApivxF/vSEUHvseAyUW3NRksdHAAciBDpYVV2nNVbW\n",
       "L2clJBuISJegPf4zrneJz47MB1euf21coMDCartp+5VGLZyeASRyCMJeWw6snSZayVoWZdS5IZBw\n",
       "gWoxwugaOpDHNBSGx3TpDYwNErdt+5MLeV9I1fcDx39RSW7bdIqpdKvBvBZbr588DHr+J0ZrcWf6\n",
       "onZRNuCuHVhuGdf4we7vUEhgdGdVmDVsL0asVH9EbmFwwaYF5dKYjMlHDYuWlDote3sTHSbApc1Q\n",
       "pM9nYLPER8PdPRV+upZ0mQQ/HjlG/Kj/yW8PVm1tU45daJUor6j1tGlAgHalRsDzdI4TDn2CrTOn\n",
       "lJmvD1fdjNgh5NiKzk7Ej5yAaIB3nObBDH4nnlZq7Q9Xk3m+UIlox1WHMmkwYjEr7gyu8yRDDDV1\n",
       "EOmep7wFuH6t+kkfDKrr0D3o3XKChLJpUYUL8d0Ni2hvn2iw4S55FnZEsEs4xM88l/Rt6zCMvd0x\n",
       "eMHuoHoIdw6RXbdrHWEWwlV75uKYSq/EahSrBhV9vGZ54lWIrCPsT85yekk8lhdai0oVGRv7i/SL\n",
       "RT2TL//KYWZvQbOh//aFdVbaZhQgl7C+PAIg83n1ti5uF3CyhVmd750744SgsoipAFKeQhSD4Eiy\n",
       "zMpXjDLxD3/gOh9BsBwg7bV1iOwuWL5t6jAf4Fak62eykAyVj4tyZ0KW0mWWl70NtBLnRlRZlyzo\n",
       "XTRdK7NFLe+BlvOp6KTffQNw1tBzi6jEnLKvgxe9EiVMYiVe4337LA5oGkwjXWX6S5O9TosMOC98\n",
       "LtHxs+cLQbNr+ScDHnWg4MOdvOZpkeM2TEJHLVbU6BW7ReblBr/Ry9/dEz1MjoMG5S+vDLXpZi7V\n",
       "YWW2kYE2WuBE1obSQtnydw0AYO3r+CMyEnT7rCLgHBWounIAZXO9mK8s96LZLNL7r5x7eM7N2Ukd\n",
       "SjXUqF35YFr+Ec+TTjJr2d9OSUvQIGuaXkqDbfHPmGSRnlxVZtaKt0J2aclgbBkmNVw9PwWCKGPK\n",
       "S/s3p4seno3wymNGl+GFCRzst/U8rij99Zlt+KcO6Bw46lwRdYQr4ROgqTYN9K2wZK823iuTmHeC\n",
       "J2G+SOHgjatUbRuTVbUxDhvdBFLn8G6ogZvWRNp+SSg/lBz/VJoN5nYaaegW0lYDpJJu+0P6oUwe\n",
       "9QoL38TV+E9aemn15+uYcetkYcQKvCfOOVj1OQK6enl7FVTVoct661rQskKbclJ5exRgW9dNI5Dg\n",
       "iz4EHtH/NTk9J2Dm/DNnzhQ6MUH+jhBG0oMvruMGwU93mGc3ODZzPD9BgHG1rW7cOeJ1RMhcOCPY\n",
       "5EIi1hflPIf09c9d1uAMjkdMtnP/yXfYqFESIBLDCdgYotyZ4BxbIX2b8ixiOn54opyho9Ryusw7\n",
       "v7o+KluIYslzzJVJjt0uAjU5RpC1hn/1wEi8hd9KsXsRphLtlb2ijzI5WUK5roudc6G++pBPhjSY\n",
       "89OZuYUEwSXpCUPwi17hBM3LSBF1KIlFUkRacwP1L+JdEkAUHzaqa2PmoNIvvXxLNJjmCRBgXLMs\n",
       "tnhkwBcY0OqdfBq61SKN4HjzJE2AkfNHY7/o3oull89ZbHf6oAAAQJwpiUgAVvBRAATdAAACwkGa\n",
       "JGxC//6MsAsXP7YVAoCgFiSF/C5GrIwjZ8DStReoce0sNCv78x5XgzCpaGa3ag1VBot1pNFvqZXP\n",
       "DEC9j/y1KRj1UUyKbnOpM6OKEw9nCSX+X0pdLWaIlefkfIlhXQVbCI0RfaAkg+R8L7P23jwWyVQu\n",
       "kEO1RUBGWbGSuWtFtfs/92kELI7oJIM/sLIvldTkDylV4n5LYSV5yPyO254aP4TM4ABL+v5duVMM\n",
       "XnP3qjiOcN7fBnMBAiurgtj1KJ4BQehN6GwhLolBXYVUA/RjEVz/BXplr4KGG71u9+qtlIaVIc8x\n",
       "MFoIIab0mpBw/vbZWz12VUnBEESGq3iXIXdYRRJwRQ+SKKxvFxWTh6/jpwbinMkiVE8vdREWOrGk\n",
       "4xz0i//2AvKo/7V26W45t/7ZVpHfcHdhpMYR1gBrjy5VriGfvPhETo8vRQiWnqLh/vtWEEiZZ4yf\n",
       "F2hfuDoqH4Djsk0qxwjtD4Q58dOTyfW9dVaF1woCyOk7lCW9GDAezJ6fMVHMFPtzT7wNVHOWLJpJ\n",
       "FOOYn6Ke1ZAcy2kJnEtt3YFYj9UqC1ClQjutzbYWBcgJQNddjq+HTymHn3I4HjupCyPSxBnLuxmc\n",
       "O5hn5YmHu4FN02AcS6hw6064u5Ksl0oM/NjeFd+qfpSgr0oBJqVgEqUfTuJS9U9KsG+hVdfEmq0A\n",
       "d54x4m2JV2ybRsx9Vk491Vszj+BWzrBM6MNZ+DjfZVN2618I+UKyjBQPR1DD0a1fxShoWBbqSAXA\n",
       "7j2vulBdcO0ynmDUJ40wf7aIgY1OoSTRSDm96nQbXQOCvvjcltMcdbuREbg+l0qWtaacBkAeUxNb\n",
       "lmWlM2swpzMgLjIIBZrNNWIsvAtgRhyyxxexOidsztlFSV2p7zJg0y7ZyvktNGFoFWR70NWGglY6\n",
       "Lb/c7Zb2zwe48/RKQ/ZLHclIC0gAAABaQZ5CeIR/BTPeF83WKrfr3EAgvI9YYAAArWmULuUA626B\n",
       "9lnSu8ONlJgMuU5djtRpt9UXZwOkshgBxZReJkrxvLSv53ser6ju8Pcza702+W2TBfeidT/Z8IOB\n",
       "AAAARAGeYXRH/wfio2uAZM9SIFRUR6NEeFApeRBzDcga8/bjr7eNWGschLNW2LV4AHk54g7gStZS\n",
       "Okda+ng+otQGqK3PQFdAAAAAMgGeY2pH/wfqNKaUXM66GyvppYRgjIE5EhVI/O/NFACzeeoX8WzO\n",
       "ofl+rd4nZiozfjVtAAAAg0GaZUmoQWiZTAhf//6MsGxrdue4hwFPc5rQoKaKbqxE05bmCU8r7BOc\n",
       "oSJ+Tdy7VkzDNQUAmlFrsYARWsECXvY0PorvhMwww7FlavXjHnX49hB0c7S1ZTp/ZaqRgIwbBUeq\n",
       "MpvJc5ukHWEHgRaKpJcY61sENs62jqobVDYv5SahjupZAAAAuEGaiUnhClJlMCF//oywAADPGE8L\n",
       "AAKOY03la5BMFvmQb9elpN5tRROqA30/MGjJm9Zj3U9/MnRtroA9tyibq8ngXV9c2CQH6+zq4Dkg\n",
       "AzrGJrFpga5X7cXvmTMKxY2JL0hwcSPMtF8H257kWG0wuMLurFQKIfaLPRc+TVq8QST4A/fEP+MA\n",
       "Rp6F/XE/5G9IF0ALN8Ll2JRclJlwlhz+bY4huDHxUsyd4ZtfxRGz8zgwn12lrwLBQ00AAAAnQZ6n\n",
       "RTRMI/8FWfNNJG3nMKEehB0RnOdZlDMAB+HYQM9wEE4Q0Mi5AAAAHgGexnRH/wfikaVG7oqjNipW\n",
       "YAEqK+/nX0rElS/i4AAAACABnshqR/8H6j78Kya98AN12kty735b3UH2xjqVv0uKFAAAAD5BmspJ\n",
       "qEFomUwIX//+jLAAAMpugcAJ3RTQDzhXQY2PNgp48+3TYnJGeNFDlInGrajk1vCYXn/Jk3C5Nvvb\n",
       "RwAAAHFBmu5J4QpSZTAhf/6MsAAAyj7wwDV9Qz9rDGhMVlqI/3kLMjepZjTCz0HMrktqzSLKRxCS\n",
       "mAjl1CjuWMwHfGV1/EVAo+Uv6sYR0rydKznl4uToEcloy+iP6OGRp4It71DtGMxcQsuW25PgTsj1\n",
       "6iH/GAAAACJBnwxFNEwj/wVZ800kbecwoR6EFySpJZQAP3SC5nsHlYuAAAAAHgGfK3RH/wfikaVG\n",
       "7oqjR3bv2AB+Hz1NUj5uEa25gQAAABUBny1qR/8H6j78KOoTwAF0AUVlmYEAAABWQZsySahBaJlM\n",
       "CFf//jhAAAX1obGAOKAStJuq4xBuSU5zX/CdIL2fAG2os3CwJe8kuieR7z/87w2M6QRsgu3lUaig\n",
       "x1awPxEjZhN1Pq+uJOqLpdHUoZUAAAAXQZ9QRREsI/8FWu+yIEoeYO6Mk5xi7A8AAAAaAZ9vdEf/\n",
       "B+KRpUbuiqNF/8OgBY/9nUjN4IAAAAAXAZ9xakf/B+o+/FH0OWAC5+pii0UYKicAAAA9QZtzSahB\n",
       "bJlMCF///oywAAGKenQAOVyPXPFvOwyAzmR41CZBadQGD+7tNXs/KYXJj/odgpPuxa6yWMeh8AAA\n",
       "AD1Bm5RJ4QpSZTAhf/6MsAABigr5t74AOgY1eAEM4lFJUNBO+ptxLdAtmMrsA9c/x5qZHDSBRPgt\n",
       "ewYRA00wAAAAkEGbt0nhDomUwIX//oywAAMA9OgAoBgPQLiEifvD6cnPvWHClN2rGrKOGVDVj4GH\n",
       "dkuzpxBISSzP7jJFkN3uOdZqyHRqs/n+pnFWVaWeCN1PqaHaK3k867r60B/xSQWQKY8a4ZQziP/+\n",
       "9Jw2MJIFDjcfUV3BevLyf2DRJ9wxxVFRbmFjJl+saSfbgM+qtprhNQAAACJBn9VFETwj/wVZ800k\n",
       "becwoeY6wrNoADYrEIxHOfYEe+HwAAAAHAGf9mpH/wfqPvyf4pIALbbCbTkfD+leWL0jpIEAAABs\n",
       "QZv6SahBaJlMCF///oywAAMEqxvgBL6UceDzctRrZEX/Txk7FUvJgLCuAmRIBc9ibdgzjV18Cr2K\n",
       "QmjY6/Mt0ef64cji+fLOBWANkGwGwBmJyW4U8+MNt5bQlT5iT5KSSk2fNZKCZgboOPn5AAAAGEGe\n",
       "GEURLCP/BVrvsiBKHmDx+sXW84CygAAAABcBnjlqR/8H6j78mOBOkAFrVPvZVhhPgQAAAFFBmj5J\n",
       "qEFsmUwIX//+jLAAAuzL/NnleSQBA9yHCHvTEabY/W9dztco+aL4f/oWYPK8lHNlTjxH9VaDesAj\n",
       "I+pI14yBXmOWFzXYOldCPzzN2YAAAAAnQZ5cRRUsI/8FWu+yIEoeYPGch45QAXQOa/9z6WYWCKwW\n",
       "g6Kix+sXAAAAGAGee3RH/wfikaVG7xbKqAC2kPH2xKaugQAAABcBnn1qR/8H6j78m2+6gBLK139T\n",
       "HgdxygAAAD1BmmFJqEFsmUwIX//+jLAABbWYmlUQByjJGCpMZ/mrFo+4FgnMGzv9+Zb4/55iMf3H\n",
       "BLQNMiJrK5P4T/L4AAAAIUGen0UVLCP/BVrvsiBKIN00XrFu/g/+ABaiaKmWiaWNgQAAABwBnqBq\n",
       "R/8H6j79LfNS2jdzAAtMsWjASW5Ph1TYAAAAXEGao0moQWyZTBRML//+jLAABbWZTn9AA6R5EXWw\n",
       "jm8ZWhr7oK0hRQ/qEg+9tUg5IZbvbvqYXovOd3LNC37qLg+jHqg1Bk5ahHmJPdeRkLKSrZUHM5qZ\n",
       "8Zj3mwGBAAAAFAGewmpH/wftuwhBVIGpN1w0pv5PAAAAPkGaxUnhClJlMFLC//6MsAAFtx22ATDb\n",
       "UmBC3qE5MNoBgA9S2bOKYl+WJnUA/qlB7csvtmIyvmH5UNfkzW9BAAAAFwGe5GpH/wAyRjjj59kA\n",
       "BONFr9ULW14NAAAAQUGa50nhDomUwUTC//6MsAAFtx22AaNpw/OR2vFJFst+Hcvv6r7lhxBCP73/\n",
       "D0now8LNDHoM9fPwdVAtaoeODR0NAAAAEgGfBmpH/wAyRjjkMduwBB2tQQAAAFJBmwlJ4Q8mUwU8\n",
       "M//+nhAABasYvQCBJtxCy9wwTmHHXVxvyqY4GiffaHBo8EyC9RtU6jYSAnr8ar/k19gYVSnQLnuk\n",
       "DJN/xUkw1ie7aHZ571CEAAAAHQGfKGpH/wAyRjjha6//eAG5mDNJIc8KiZK63bWwAAAAfEGbLUnh\n",
       "DyZTAhn//p4QAArGVa4Ajtdqy0kKuIcamu3ctY9HZAUpiPCVouNLp2QX2C5ermtzsuRuPnq16oa2\n",
       "S8fwoPOtZajakjihrnkI8eVno8iF+NxwcjQ7Q3jsO/b+3fmVhUNuFV69G+aR2IeDhSHdRX/lRcb0\n",
       "1yaQ6sEAAAAgQZ9LRRE8I/8AHxMqfjfFbyOugBbEk/cJV1+G9ZuRSEAAAAAZAZ9qdEf/AALOFIVA\n",
       "BZ57DZCzDtAmuznVsAAAABABn2xqR/8ABYs0KKzY08DBAAAAQUGbcUmoQWiZTAhn//6eEAALDjcc\n",
       "Acw+4Ub3shbppmPSOkzHWrdBS2OzSOuUDyQDFM0F7cw5Cuj9vfsbfNeY1auJAAAAHEGfj0URLCP/\n",
       "AB8dyEAWz04AEsLjYrRZFiTrw/EAAAAMAZ+udEf/AAWIXIuhAAAADAGfsGpH/wAFiUAK4gAAAD9B\n",
       "m7VJqEFsmUwIZ//+nhAACsZXxwBt61YrBkYVLcGPWZ0c4TuDVZMeCFnq8NIGs9y+HITi5QXD6s4/\n",
       "pHIWbMEAAAAbQZ/TRRUsI/8AHx3IPjoNUAJZct9ofdPyZ+3hAAAACwGf8nRH/wAAAwO6AAAACwGf\n",
       "9GpH/wAAAwO7AAAAVUGb+UmoQWyZTAhn//6eEAALDnJ8gCCjldcDyIpvEp1mDxl7EVCLRVCI5E6y\n",
       "PgCxEBgoAmXxIK3PtYSCb38JSqHahMUF33sWNL7dD+5ELpL+Selq1cQAAAAdQZ4XRRUsI/8AHx3I\n",
       "QDqwAALqNmR1KEUhIjq8c8EAAAAQAZ42dEf/AAWvww98KbSJgQAAAA8BnjhqR/8ABZsvDl29E7oA\n",
       "AABNQZo9SahBbJlMCGf//p4QABYmUOtIpANSuyE5uiFRDpCmCizZeFfZdaOvH/PkCYAeWIGGn4TR\n",
       "3Si2FKkIW+qe2DjV2wTSuxVTkE0jKGEAAAAcQZ5bRRUsI/8AHx3IhJlBccAAs744koxrFKDQ2AAA\n",
       "AAsBnnp0R/8AAAMDuwAAABQBnnxqR/8AC2EEQMQACWdBYXdm7wAAAE1BmmFJqEFsmUwIX//+jLAA\n",
       "FlrzyEaeAQkv7mfvWWmWww91J0oiYhInwwGTq779bapW90fXNnq/XsaTm4/6A+/mnCoQjQBFfIVh\n",
       "pmjjgAAAABVBnp9FFSwj/wAfHciEK+yTfXdZKGwAAAAVAZ6+dEf/AAtkxwAOPJXT7895U8ypAAAA\n",
       "DQGeoGpH/wALFd0/I9IAAABTQZqlSahBbJlMCF///oywABXd8eyBVW/euAKDCk3e5PGeCltuxPwg\n",
       "5a7AT4X+RBsxzdw4lQnzrJTs+Bxiwup5XalUsH1F7BhtuJXzBLbWMfKzIOEAAAAfQZ7DRRUsI/8A\n",
       "Hx3If7/WJABaI3haiH56u968q2uX8AAAABkBnuJ0R/8ACx3DSAG2w0iRlACq5O96k5HPAAAAFQGe\n",
       "5GpH/wALBwfGYAFoblxZgs4lxQAAACpBmudJqEFsmUwUTDP//p4QABWHUKaS2dwMAX7wKu9DHOH3\n",
       "BYW2+JYiF3EAAAATAZ8Gakf/ADJeRSXh5H/21B5jnwAAADtBmwtJ4QpSZTAhn/6eEAAVok29AAWH\n",
       "CwfKR6tlo7exTacmQ/jcS2G1aVaZIdZAb84eV60cfKArCgsbMAAAABxBnylFNEwj/wAfEyq/0npi\n",
       "2AADhaeLSYVG4PCAAAAADQGfSHRH/wALC4lqkekAAAAVAZ9Kakf/AAsTbfABbwiRzcnfnFlAAAAA\n",
       "PEGbT0moQWiZTAhn//6eEAAVjOPcAKlrVbG47ge7xsKN3T5lkLWVMZd53f2DjLr5ILOZHJQEy1Gx\n",
       "SLC7gAAAABxBn21FESwj/wAfHciA66oALUhT5eEo+jfHkhahAAAADgGfjHRH/wAWL0NKEsCBAAAA\n",
       "DQGfjmpH/wAWMgiKaEEAAABBQZuTSahBbJlMCGf//p4QABWM5PkAQO6iWEkgqrX00tJCOClm8mfD\n",
       "0UfXK6KuPc3x9wq4EPDOZH8zaPdOlYRFhdwAAAAdQZ+xRRUsI/8AHx3JASSM7EAAEzVK8DomKKAs\n",
       "RagAAAAPAZ/QdEf/ABXog9ilj6gZAAAAEAGf0mpH/wAV6IOregtgjYAAAAAgQZvXSahBbJlMCGf/\n",
       "/p4QABWM3vABHa0Fe4oZqC5RC7gAAAATQZ/1RRUsI/8AHx3IgG6wqBXVsQAAAAsBnhR0R/8AAAMD\n",
       "ugAAAAsBnhZqR/8AAAMDuwAAACdBmhtJqEFsmUwIX//+jLAAFbz1/QByaUX4lTr54sCnM3Q2phYv\n",
       "kUkAAAATQZ45RRUsI/8AHx3IgC5hUDu8IAAAAA8Bnlh0R/8ACxC5ZCrlGEEAAAALAZ5aakf/AAAD\n",
       "A7oAAABPQZpfSahBbJlMCF///oywABXDCcQgCp/USs9L49crfbBefrUrs8PHsuUHn5Yp9lha9DEM\n",
       "2ZvKF+PMVYuUbY7nWLZc39i/uqsgVu4TFuhxwQAAABdBnn1FFSwj/wAfHckBJIyGCbnoNfafgQAA\n",
       "ABABnpx0R/8AFiF2yQsQYyd/AAAAFwGenmpH/wAWLNRO/AAS0NP6S933zPM+AAAAU0GagUmoQWyZ\n",
       "TBRML//+jLAAFkzzeAGvZFEHxHs74NBVW/tUGcwYWWPeBzLcYF+EsoHQcc86sB0vGV3OZnihw63v\n",
       "2h7Eu3TwUUp6cfAoRlNRKnzBAAAAFgGeoGpH/wAyXkUmjWpTDy6sYH/TX44AAABAQZqkSeEKUmUw\n",
       "IZ/+nhAAFhzj3AE7pj7bxyHopdLYJ+1v52SzYYlFPtC43lOd5jNkor0/JwniVFEEEcbtqSoTawAA\n",
       "AB5BnsJFNEwj/wAfEytFDunbwgARROIW67CbpbVE0WAAAAAQAZ7jakf/ABXog9stpr4puQAAAGBB\n",
       "muhJqEFomUwIZ//+nhAALDPGailAEauqCmj9QZzWfR6HoVqkMIDu5gztVkH9I7XZ6pUvxUzdILYK\n",
       "fYi0NDHMwhvts5D8HZkxwO8lW2xYbSAt72z4B20PhVdGQ4CoM4EAAAAhQZ8GRREsI/8AHx3JDM8o\n",
       "wvgBy/7CahQtVXNAv9fNIS1BAAAAFgGfJXRH/wAWq9b0i8JdQhL4I+j1X4UAAAASAZ8nakf/ABbB\n",
       "ctEVHh9xe2NbAAAAVUGbLEmoQWyZTAhn//6eEAAsOw0cAIrFkNaf9m1o9quocnW42S5BrwZuub/1\n",
       "SJf7YDgMoYzt+h87LIqNfbyTxMcR81VXR7tKE1itvdVgxrXChzrmP8AAAAAWQZ9KRRUsI/8AHx3J\n",
       "DFm3izJ8tmfxYQAAABcBn2l0R/8AFsmOABaAuvN4XtSTicE+pAAAABEBn2tqR/8AFizaE8R4vWOt\n",
       "gAAAAE1Bm3BJqEFsmUwIZ//+nhAALDjkAAEBuachSR25P41ky8FoSnj9vTSLvD3pNBXAFhFvvrVZ\n",
       "fOsqGQiUKe2TVWjhUFbkM/oQ97mQx5+GzQAAAB1Bn45FFSwj/wAfHckM5OYAHG7kN6ZpaOPR0z2x\n",
       "iwAAABABn610R/8AFiF2yQsQYyd/AAAAFwGfr2pH/wAWte5gBbbJ7WpRpKvq/qCAAAAALUGbtEmo\n",
       "QWyZTAhn//6eEAAsYYJMpgCJGTJwSjzKGvNSpCN7uB6urXEwiiC2gAAAABxBn9JFFSwj/wAfHckM\n",
       "5OYAHFN+/XaVczQtnmQhAAAADAGf8XRH/wAKyLkVqwAAAAwBn/NqR/8ACs5rCXkAAAA3QZv4SahB\n",
       "bJlMCGf//p4QACxoSHGAK371HEqV0dUS/IYfcy8QykF7UU/ofkv/dppnXTR6FGxBbQAAAB5BnhZF\n",
       "FSwj/wAfHckNrDAA21S2xPrq+jOEMFeOw8AAAAAMAZ41dEf/AArIuRWrAAAADAGeN2pH/wAKzmsJ\n",
       "eQAAADNBmjxJqEFsmUwIZ//+nhAALC62QtcAK5zFoLMuAAHjCsTZ4k8wfMNAhv4XBYTPweNWi4gA\n",
       "AAATQZ5aRRUsI/8AHx3IfJlEgu4vCQAAAA8Bnnl0R/8ACsi5ZmrlGEAAAAARAZ57akf/ABa82fjM\n",
       "iE6H+EEAAAA/QZpgSahBbJlMCF///oywACzFJExEssAOkA1x1mSXQWeX9EOKBDR3E1t1wQOPRcV6\n",
       "lABDbmCU6Tdf8V1GjFNBAAAAHkGenkUVLCP/AB8dyQiaxbtABLSywdVaCfUzrFttgAAAABABnr10\n",
       "R/8AFp6ja5KhAeZcAAAAEgGev2pH/wAWvLmj2PQHjHFagQAAAFZBmqNJqEFsmUwIZ//+nhAAWHF6\n",
       "AD4pcLSLccm3N0EtlEe14RW1/M63/VX+UJT8WkLAa7F+4rcV7N6mQP2jd4o458rmY9H5++757n3a\n",
       "s0+bl2TZjZAf4AAAAB9BnsFFFSwj/wAfHc94JCrqYQAlHyfNVDjtx5iaWYxZAAAAFwGe4mpH/wAt\n",
       "hBEDEAAmXCpQbrm76dZcAAAAOkGa50moQWyZTAhf//6MsABZg7bJb/wAdAv+jhSqyeB0PNu3UeR0\n",
       "nRGTq73sRetDGiV5X/VzYdng3oEAAAAXQZ8FRRUsI/8AHx3O/uLCfsyA0J0AkIEAAAAQAZ8kdEf/\n",
       "AC1HqZ4sDtB9iwAAABIBnyZqR/8ALU8qF3IhsZaZKmEAAABaQZsrSahBbJlMCF///oywAFkx22An\n",
       "gnReQPe9DHgn7i9oC8knSKjbH5XX36K+J05i4cDnAmv0fwdJl3TkSKC4OwO3D5eczCXm04qcWgqk\n",
       "zLZbwDuDdsTqNGFNAAAAIUGfSUUVLCP/AB8dz2xkZGWMIArTFgj+Sbsau50VMcLF4AAAABIBn2h0\n",
       "R/8ALWKOoqZW1ojVvhsAAAAYAZ9qakf/ACxM5KADbThGatmpJpZqjG1sAAAANkGbb0moQWyZTAhf\n",
       "//6MsABXTDE19bsAcYEd7RgFl0pGQ0n8htzLNQjaapqtX+9s1O/vmnyCkgAAABdBn41FFSwj/wAf\n",
       "Hc6VyTsxyeBEBcrBFwAAABEBn6x0R/8ALCLd6j/uQeLF/QAAABABn65qR/8ALDWlSz0Bh7FhAAAA\n",
       "REGbsEmoQWyZTAhn//6eEABWHWHOg4qAAsPkwydyn3ksKwbJcD8fE8MCh5HG+c4+mNPJFIbHdlfr\n",
       "MZOVOkIQQ1gPcpv8AAAAQkGb1EnhClJlMCGf/p4QAFZq9BYizwBWpf2nzNMSxoJJADiRte847EjU\n",
       "hSDkq6Ii0IiLffoxppmAd8m1oyuEdDOCXgAAAB9Bn/JFNEwj/wAfEzD3X6AG2mJvtbVyq+qeuGmv\n",
       "Ue2xAAAAEgGeEXRH/wAruW5a5vZzO+9QQAAAABUBnhNqR/8ALHMcACVB1X1IIi3aqBgAAAAxQZoY\n",
       "SahBaJlMCGf//p4QAFYx2lAERhzzyWTWs5wZR22Yc0K0C0zMbevzO27PXPgh4QAAABVBnjZFESwj\n",
       "/wAfHc4galMeyOk4Q8AAAAARAZ5VdEf/ACs+kRDQeJYbrYEAAAARAZ5Xakf/ACxZsCPEeL1jrYEA\n",
       "AABKQZpcSahBbJlMCGf//p4QAFYzQeAOYfDub2/O/QlK+v52q2IohNWesD8ttb+drX+0Wn2gYaq0\n",
       "C8K+VzmZoslU59/4CtQI97jVoXkAAAAVQZ56RRUsI/8AHx3OKVlXnWR0SCHhAAAAEQGemXRH/wAs\n",
       "XpDw0HiWG62AAAAAEgGem2pH/wAsSafOrPQHjHFagQAAAD5BmoBJqEFsmUwIX//+jLAAVvO1YAcr\n",
       "mjL+Xb2N6EJN2wsTjWJU1P7l5ucghc/tmiexuO2P2Q11K9vn9owqoQAAAB9Bnr5FFSwj/wAfHc6/\n",
       "1NBcAJad5SWFfVWPYqOme2MWAAAAEgGe3XRH/wBYvL8AXtKjdby9FgAAABgBnt9qR/8AWMgKHDvD\n",
       "QASVrLxR36Z05uEAAAA+QZrESahBbJlMCF///oywAFb/4ngB85RN7SbJxJxHlkBE5iD3wmqKurtH\n",
       "FlNpmVppiYB42MQTyqdP81IzCDgAAAAbQZ7iRRUsI/8AHx3O1HaACUycYxSvOEMFeOw9AAAAFQGf\n",
       "AXRH/wAsecYAD771nkUIg9F6ggAAAAwBnwNqR/8ACs5rCXkAAABOQZsHSahBbJlMCF///oywAFbz\n",
       "1/QCa+oYWz/W9mOSCH5jz5GzeZ69pWKq+lmw9TNOycYAOzGjWM8kEPNTPlRf5hd3pfD0vard1LDt\n",
       "GFVBAAAAFkGfJUUVLCP/AB8dzrWZGmX6+WzP4sEAAAAWAZ9Gakf/ACtfvMAD8C4xNOJC3NqBgQAA\n",
       "AFRBm0pJqEFsmUwIZ//+nhAAp7v7tAYo0cAmZMjM/fAO7wXrxei/nuaHLffWokb2xans2gO0HOCS\n",
       "9diGEuhClua+PiQChvRpNSjYvzRcSphlYv9Dgh4AAAAkQZ9oRRUsI/8ANi3vAHKFqZ27P2+xj+89\n",
       "oYMHzgIRMWbHzkLUAAAAEgGfiWpH/wBVO0JzMqXQ759zLwAAAD9Bm45JqEFsmUwIZ//+nhAAp+L0\n",
       "ADb9eC0EzKs2pj0cZSzOpA+/lgAdLqhgnt91XBpyVy5ieHtlZctHPT5+R8wAAAAXQZ+sRRUsI/8A\n",
       "NgTvHBhyp6q+TYR8VIQAAAATAZ/LdEf/AFZFbgD67saRGsNWoQAAABgBn81qR/8AVEYIeAIAReEC\n",
       "hgFQQecvYsEAAAA8QZvSSahBbJlMCF///oywAKljtsBQz1tj73Kr+KQDbXATM1qMgRJCAXG0K0qn\n",
       "Ydy3b4uIP6M7QIrMaMFfAAAAGEGf8EUVLCP/ADYS80QTRc74qqO8eAYIsAAAAA8Bng90R/8ACsi5\n",
       "ZmrlGEAAAAAOAZ4Rakf/AFQUCQfcuccAAAA3QZoWSahBbJlMCF///oywAKlEL8AUc0HvU+S+vCi0\n",
       "l1yPB0ytnTAJ6SGC/UbZzgd8ftApvvAGNAAAABNBnjRFFSwj/wAfHch8mUSC7i8IAAAAEQGeU3RH\n",
       "/wArPpEQ0HiWG62BAAAADwGeVWpH/wBWG7kRj7pzjgAAADBBmllJqEFsmUwIX//+jLAAVJtgU1G8\n",
       "AFPooK06wHGz3t2lE3h6nX9lhy1ArtESN+EAAAATQZ53RRUsI/8AHx3IfJlEgu4vCQAAAA4Bnphq\n",
       "R/8AKyoIh9y5xwAAAERBmp1JqEFsmUwIX//+jLAAVLWkgAFcxUigvhPdKt8mTccJCEmLN1i1rl0v\n",
       "xOn9Z8M/BN4RQlnb8Vc/ocJhEKv1wroHTQAAAB5BnrtFFSwj/wAfHc3RLKoAJnI0M9g/wvYsFC7H\n",
       "iLAAAAAMAZ7adEf/AArIuRWrAAAAFgGe3GpH/wArLbfABNW0esmsMh9Q9QUAAABvQZrBSahBbJlM\n",
       "CF///oywAFSzzeADpHlf1iOVwsxlrvcVD/p1PQoz3/le77slN5fgc307BGTqYxh6W7uBZmEmKQq/\n",
       "5+/nc3Z0adDcz3Zr0/KK9aJaf0pBwpe3TtPmlKfJnjPSXNfVjv0bvI5Ff7YwAAAAKEGe/0UVLCP/\n",
       "AB7+w0oy3YbABw6nEszfl5jRn+rwjoT7HqXh/QG8a+AAAAAQAZ8edEf/ACsi6RELEGMnfwAAAAwB\n",
       "nwBqR/8ACs5rCXkAAAAoQZsCSahBbJlMCF///oywAFJy7tgDiOXX4xjwi4s17pJnVh1hv8grYQAA\n",
       "ACxBmyZJ4QpSZTAhf/6MsABSmER0vAByp2lC7+NxJf3xh7xhn2l86AeZe3QO6AAAABhBn0RFNEwj\n",
       "/wAe/kDfgDrOqL/6cHYR0hEAAAAQAZ9jdEf/ACoC6TELEGMnfwAAAAwBn2VqR/8ACs5rCXkAAABF\n",
       "QZtoSahBaJlMFPDP/p4QAFHZycOAK36kNNHO99U4OGCo3CTI8vwHRIxy5xva/xH90f5RSj+ZRpYj\n",
       "qaj7muwU8D9c+CPhAAAAHwGfh2pH/wAyXk41FziYAHvYpemT225V+Xk5ddqvy8AAAABSQZuMSeEK\n",
       "UmUwIZ/+nhAAUbF6AArjUFaf7pi60zgODGJZQ8lvD9GVPnF6Cm6x5YyMHrbsDFgV4qmOuXB6k8ma\n",
       "qJ7hXtRPAZNc4MAfpBkQcLblNAAAAB1Bn6pFNEwj/wAfG2+JGZIAVGGdJTYKnCfkKwObYQAAABAB\n",
       "n8l0R/8AKNeDMIoHYlQMAAAADgGfy2pH/wAo6gkH3LnHAAAAOEGb0EmoQWiZTAhn//6eEABRs49w\n",
       "AsDzZKrF2QLiAfEuW7+a0Ua5X+QWdBEayBT5M/8A9uZ4sHHBAAAAGEGf7kURLCP/AB7+wzxjwRDv\n",
       "OWQVIUUa2wAAABMBng10R/8AKXnW3unc2+Gj/q/hAAAAFgGeD2pH/wAqDbfABNMOX3BegXIVzjgA\n",
       "AABAQZoUSahBbJlMCGf//p4QAFGzj3ACpPOooTXHcTxavb1CWUiTSesNrpJ6YKRIUbbMmsvEmOS/\n",
       "4mYYy8XD5RAxYAAAACJBnjJFFSwj/wAfHc2tEAAFjRgNusK3ctdbqXbX+EMFeOw9AAAADAGeUXRH\n",
       "/wAKyLkVqwAAABUBnlNqR/8AKg23wATKWcwISY+oeoIAAAAvQZpYSahBbJlMCGf//p4QAFGzj3AC\n",
       "ucw/Z4la2s7YmZLicOamN2fW1OX658hYOOEAAAAcQZ52RRUsI/8AHv7DQXpaACVHhkik0sX7NghF\n",
       "FgAAABABnpV0R/8AKgLpMQsQYyd/AAAADgGel2pH/wAqCgjH3LnHAAAALUGanEmoQWyZTAhn//6e\n",
       "EABRs49wArmJaYYtuJhSXD46VHeNYSj5T+fxc4sHHAAAABRBnrpFFSwj/wAe/sLvybaTTT5WwQAA\n",
       "ABQBntl0R/8AKgUV4AJhziTUxAj1BAAAAAwBnttqR/8ACs5rCXkAAAAoQZrASahBbJlMCGf//p4Q\n",
       "AFGzmUgBVabdA8wrGhW9zvtM7n80QnBQQQAAABNBnv5FFSwj/wAfHch8mUSC7i8IAAAADwGfHXRH\n",
       "/wAKyLlmauUYQAAAAAwBnx9qR/8ACs5rCXkAAAAsQZsESahBbJlMCGf//p4QAFGzj3ACMj7Nsvzc\n",
       "Eabm1g9VnI1T9Nb+Y3hYGLAAAAAdQZ8iRRUsI/8AHx3NrRAABxnqTkEmL2PCGCvHYeEAAAAQAZ9B\n",
       "dEf/ACoC6TELEGMnfwAAAA4Bn0NqR/8AKhmwY8Q9QQAAAEZBm0hJqEFsmUwIZ//+nhAAUaCBqtsA\n",
       "R71fnJZ4f+U3gwrAWmTkgvRdO3ECqMI5bM1tk9U8EbyJm/sS4Fn0GF6Ml/fyYKmBAAAAFkGfZkUV\n",
       "LCP/AB7+w0FZEVLxafPlfl8AAAAQAZ+FdEf/ACoC6TELEGMnfwAAABgBn4dqR/8AKNFONOYALT7Z\n",
       "+qu0BCsp+pAAAAA3QZuMSahBbJlMCGf//p4QAE91n+4AqvFbyKfSKy41RgEuqMZxCMwvzXsqy97G\n",
       "+cnv6Er6BEDKgAAAAB5Bn6pFFSwj/wAfHc0v4bAC1HKo8huNFSm9QwV47D0AAAAOAZ/JdEf/AFH9\n",
       "HaOCuccAAAAXAZ/Lakf/AFIIIiaXABcNLE7YRPgHKmAAAABAQZvQSahBbJlMCGf//p4QAE/vHfrS\n",
       "AJzC5wLpyNLEKHQYSe6xyZ9zCyLgqv2EYl2kjlWbrJWKE6eWtl/SZhEDKwAAABZBn+5FFSwj/wAz\n",
       "l9AbyinuLiwpyBthAAAAEAGeDXRH/wBRxc2juRBjJ38AAAARAZ4Pakf/AFHzXKPEeL1jrYAAAABO\n",
       "QZoUSahBbJlMCGf//p4QAJ78RDgCgGcBS9+3FwAsRfGpvoh+6yr7u1/vixeE7OtlNj+GSV9tUzhb\n",
       "XqNMUDGQ1TKsVIHK2NB7A1oG5AR8AAAAIEGeMkUVLCP/ADObw5iWTsLgBZESWnsRsm3OiEdM9sYt\n",
       "AAAADAGeUXRH/wAKyLkVqwAAABIBnlNqR/8AUfNQJ6eNWSkOWoAAAAAtQZpYSahBbJlMCGf//p4Q\n",
       "AJ+3zt3SOAK1Qri9J1AUleGvJA1W4GfmoRoYWB0xAAAAHUGedkUVLCP/ADN760ACOoJjFark8o9a\n",
       "fJcLL7kIAAAAFgGelXRH/wBRuCjQACMcV7/zFo7n9QUAAAAOAZ6Xakf/AFHUCUfcuccAAAAbQZqZ\n",
       "SahBbJlMCP/8hAAklNcoAOJr99vI+BlQAABB5mWIggAP//73aJ8Cm1pDeoDklcUl20+B/6tncHyP\n",
       "6QMAAAMAAK6tMz+8WNhqAgRcU8lfHXXwyWY3uENgj4HKn3y1OBgSeNPqs5Cmenz7pT3KXZhvzA6t\n",
       "59jnr5fISbkfIAATVGWsXGojV/bNtQ4lRBKjTdC/J2eCDvirdJA4JlMLIRhkkD0cN/qk4bBHqbfr\n",
       "UHg3MGevqSmqTUvt2zrPYkGYfWZ7KnuZAhtpL4QK8s6/6NyDHpkOmMfrzmtr2DRFogNHEG9QJFrQ\n",
       "BnuNH4uUA4d1j7eBOsrPlgmHT/aFTK5+Mv8sAF+/TjL5bPsUVITAwqA+fcoAHOgBxFCp9zRwTh4G\n",
       "F4pYni0K8BFvuOnt9U9XrxR6fwVLjCp/VTA6K49v3r4wrI617mfid/3ZPoHYY/dgC5bthkCHvLmU\n",
       "6pCpp6qAtPa5L+rzHPWFMJ5AyKRdi35f4WaTuSKJ8jp/0yG4iwM57n0gxVYF2/atYcMMl4bCTFma\n",
       "bFSSokQkyOtpc8dRFg2FNvag2CSP5DbnGs+H2xMw+2PSc/DKDdnjYhCa6pN4vCw9B3S4CdSGfGef\n",
       "VGG9kubhadt6nH7EAGE5wzZ4Fry+f4JuUkPxPfTPxh2Bo5Y4bjAV4bpfGPAq8u7oYjURGWjJTAAy\n",
       "jF+50NJseMk9/bt2v1CDswRGTF1mrrIAwD+9BY5xSsY2ssAJNwQ8C7k0HCT/XUd4ZiTCw8iLgdO8\n",
       "EWQO4QSKZ5aHoR3jxlK/YAH1gNd6heIdoGQcc016O+M6XAWy/nJZaMBxQgA5i/o5eFMxzNyS7kyG\n",
       "vgQKHcTxRdUWIIgTfbkaMa2J0nGPISBhRZf9uat1C68IjZEPZlJnoQWWnSqVRSzyw4yqqvVU7r38\n",
       "piJ2gldq+Xk+wBwL5sIOgmtC0ZX8u+IuPOzNHLicNHGboQoYlDmo/5Tp3KziFCr5BqLMDCnM03kj\n",
       "gYao0Pgo5dkL1pnOzDyN1i10SABxXcyQbrTCwctLuoIEd1HKWF+m9HzcxMLfCip1xu+rfs4DrWsm\n",
       "j5y0AAb4Nkk0ktUbd2YjH3Bvywi8KDBc8A5rLyCGllL7gFRfe51UO4tRVHb+UZVVMK/+RDxRtJD1\n",
       "N38nYMDwY1buZ+kpTSgPKi0jyKPCmnMSqYAR6S93aSinW2NuzxQP1xqYIv+BbQbUzOo3EJdrjjEv\n",
       "RD0A9Zj1DAhk72NLLg0LdW9wNRYX2W3Q4ONeH7CecZogOVzVMUFy8AaE3qp2Rwf8ZqnAxigX8xLM\n",
       "lZC34mPCJRKu1TxRTO4DZP9AOI3EJ/sJ/TlpULQ8dFtHqg7bPb/eatXvkZBu+RJyj0kKe0orgWTa\n",
       "fYUcK2/EVsjQmqzPmOReei3pEz2xSQ/9U7C4zzYX65xW/CpxofhDtwWP+GSas12QWFxsEdRLPox5\n",
       "PlrVvy2KUWF3jCrI0ijbyjbZu5hQykyQgLZ6SoEcwPM6zA5U4wkJLbjg4AvidjIITgb2b6qRezIE\n",
       "IAn1DsFRJf7RQ901GZm2eFmxcsEOgmGxG0lgqtmFooiZv4fBh8EWC1jgd/6IIlUd04cKAZKO0q8c\n",
       "2W8u5XLSsJdWSUtrOONC+gqtz7d8FG4FrxezfzLzglhBxXe5h55ceG5uWKDCYU8R3hDmMKlBfSSb\n",
       "6DtbWZDSQKnC/36OsOHjLIaa9voHe41pNwWl3Yb5v1ecyPl4az7A+Nb+I/wUN1ByA+HeYf9LADLc\n",
       "xmeWCK26U7L+VxGOqZoK951UGSZDM6Y712NAzbNq6yg5P8i8fI5V7Rz7qgbvfbaEpCeB17s/Vzrq\n",
       "JDWfxGVY4BaBKGP1du6FO+Fk900lOycdO92oKrGI2hBP2aIvuVfDVLknfRRGwX8mdytMRHcQZKZc\n",
       "Eo+CD9+wKKTEHOp7/Nrx5H56e4eBrW6HpLNa0OH4Uf11F2Es0ZbS/sXRt6CZZvGfHcRwhuZbjAic\n",
       "9WAa6EsOJGt1GXMKsi/wUa3AWYfn2hEqPQmPd1HL6m8sDRGQvjoFbaCLeBVh7uIDOGY6fp7i+Mpq\n",
       "Ar5qF7YrUeiRh2wCQoHFWgXmhV5iCPmb077UL4BngeA/jfjTSgYtVDsBtqRR28INCVkz9WHfoGYt\n",
       "nXyPlZFt6pITMGN7P8VeGXTnZIJAqGMLIsDQv4ui07QvEzOC4yJBF4otEPeT3dfbHTb+qq0+gugE\n",
       "u6GJLBn4tA3E1GV29TNkxGyxfWMgmDjKUBk7bYK8AyFVKUGL0QzMaZxeltnHrAJmOdZ3mA4vQcFx\n",
       "sA7ap9G13GZgNmywENx7DS7VT8b+v5KPs3+5NjIAbhIlMeigKnFZEWzIvtMSp+QVhSK2OflDQjZt\n",
       "BAuIuIIrOrD2u+Hr8bS7Arf2B3k/Ky6r8BnpCXSh7RDdOXVx5psTWKpEfF6h1MZjV549Ua/5fie3\n",
       "S8verfRzOBYHVHUDlC9SdX3IYPLxKu0aCrblKZf35XzK7otNOZ5WnnoozRzuvMnYQ/ojn5Uvxqgz\n",
       "j3gYFvvvvmdT7FrrKKz1bxqF7XBn73PIHqpvAvUgsluA56s74XFMZT5ViGXWvAWItHUEkpH/sJaE\n",
       "hifgrTzQFWuSITQvP11e+Ja81mrKd3Xakaq2WhssmI5KiS0iyWU6Mrj/1jiJFpINb1WWaR12u1Ui\n",
       "Klx2FM6S8xmDY7VJEKESnUveLaKFhU5+uKKGQWzCHBPUl3pJxDcxLurcrvwP8CmqYzADPZt4Cdu4\n",
       "vnLe9QNOrCwcdqp6zPryVzmZr/2YdJ5rxLjRtvHtyCQb28kNPf1PivZNsv0TQPWPvc1ewpOhx2od\n",
       "84sk6UiiTdZNa4ZzYoFTzbNo7JQ5peUsFXGpTPi/h+351oRiYTpWGyeYPfpkWx2holOUwHqrvAzp\n",
       "UrQt2Zo7UWxUHuOQ0n5iDZp5IcPGhNvOrhtINubajdtmvUnzTUlRUBVd8TY+jjeYOTl9v8sugHzQ\n",
       "hIibvLkP24N0Sbiif5VAr5arLlCd8es36kt4AIB7vFrKtLjHRQxdALzmfY/1SkBEhI2KugLpU/wQ\n",
       "1YoRhpgPRbOxZBmvEiG1G1dqwD2eawELW69KmckNFF2rNXBCoMiKq7GMtrJTm4G95tWXitQ5cxQC\n",
       "pev1jvS2dYaxPiPNW0kNO4HoJtKItwpu2H9eKGzGAPtHAI4Kb6rD98tK3hY1gJNjfSnDA2M9wWlM\n",
       "G03hSXR+zTwy4TyJU3AYV6BzPQDxxQweTeQPxZ4r5vpbeJISsE1P3smJr1FQ3EGJARbRUe66gRx6\n",
       "0mfwbJkgAI3W2ejyRzLGjz0pVKC+hFwpjA0V+l6zVYNjJ6H6786oMVNTy295tl0QiZ5MjM0Quf0F\n",
       "ShwuYSLmAfzSJp/BwRRi8Sl5FB5woCULA2tfw8uXYLE3/PkOccUDruGGCkszX8XwMkWKalnub3Jl\n",
       "XGasIYYIed9A1ik9esleq2mm1W4IGeBNraFDwVkfJr/xdefVtNw3BFNNFLkTIUmUqaXodLVdFqh2\n",
       "9EDorDJbjhjMSy3a+pn7XWEENLnqUH38p6SJeMHVBGfjOBzVTx4kBVe+FjTbH51pbMY+pH/ZzfAl\n",
       "5GKvzyFF52f+nFuuK+z6Tr+9ue+KcFX6gQDAUOXQK42HXuxTeFz7HPwOWNaQYGMPVfGU9vNseXmN\n",
       "qWixe5fV4LCo3mj89ndKDiDOCbfLtV7BWrjZHZ8Yiencd95TGIvj5t5OmrThccPLQHS1dDnxe7EE\n",
       "8b98Mtf1hnauYw6iVixYDsOO1zKuSXAu6sLii1fKH5tVBCTrNrtZDD1YwG78mT0zn3YHswv7wU0K\n",
       "o9EX5x6g1dth/4rmfOaJ8BHP4XzaXrh3f4WLkeB1CnKR1OXElJJ5K4sXzsvVqWFOxjal2D6jK1Og\n",
       "QWbpgp/Eckh+tUULN03WFtVb7HPt45mET64VVicskVMFtlCTPogjQFvzubC3RkkHaI3xpjZRioQ2\n",
       "TmNKUGE5RV7H5obGiU311qnFXCB5vXLtSpoh4q2YfLTDvgWYW+H3eQrlNmFWegHNvFqGqnisa3P0\n",
       "GNj5iScuhaBlZJYK69KkGPg7Y0AMlCwbLh9aaYUpfOQaKZTMnXptoMRTGOnIVu9nDC8jz9T4OFwX\n",
       "mPq5Uv9CXUgaFaTBqW1ZgTg1mX3UndQn0xKSmg+rbs6hbiQ2C6DNdRXhuiDseOycXi/dAG87TIzj\n",
       "VOVPTXfdLrH2jTpMx1elBr/kDOlzqFWbwOMcOCXhA1uPQ7HGINKDOuyKQX6Lug2AlDCd83MaU6eM\n",
       "pbcxgLJ+K7NCaN13AW+q5d4H97VJVgXfp3QLe7eSVVuvVhy5AJmpsZNF88iYuwtGrUaQs6ThTylr\n",
       "pngpIgVDWJJolk0rb0i+Beiaxv4H97d949FPRMJyQbYSG/L+QvZagN+YCrFf9Z/BBGsDY0m7OqhP\n",
       "PKl3tUDSrpQjo/uuORWaADnXgNDw7hlHjH+KrTTrAbzZxU/dSNvHPOU7Vxm+THHR+PD7YAB4AdS+\n",
       "x4c0E99srjvDbZUj3aVTJE9X9lcmRtcJebWr9E3unI5IyHH5UgGf9jJ6gxXn4jmpKOnTmXf4kmU+\n",
       "XuO2ci9FnCDrYGNZh1GwHBsOeuOa+rf2RjsmdpGpbCqfM7GqYbqBBEKB+hSKcJBqQRAGIsaDH7Jl\n",
       "YtzPhidLr0/DE9l9dfgOIw1Zu6St1M7ilKuzzS+7J3FzFWF/glvVQtneQiL8xi0898iqRD/OQ+re\n",
       "tB2klYddZe/jpSY+Y3xx980j6K6RY2m2itmh60zr4siJBtP8pr99cdlJNmXyrxEElcq+1smauEGD\n",
       "uXCdp+bOd8b1VkfHPpRsabOvEUw4mPsV9ZIJzmPVMiTxVdAOY8PjYcucXKFIeTmnYlVxC1T1x+9b\n",
       "dfACDtrQyYM6Pe2UMhx9iqGkOOK1byhV6JEnXRjfYmnZ+oy2gtiBIJwUbTE+db9QTDY6aaY77NTE\n",
       "8lx8WAI+L9+oLbalkZ/jGS6tcpr6B/F70NocwcN1BuQK2X6RAYZecz8BfJdPzGw9U890FCkgjJe7\n",
       "WjOpb1FtTm1STporp7fGzL80FmVfdVVg0pnj0at5DLwhsHFsW1Z1r27t/Byf5t1z152iUsArdb4A\n",
       "VqnrpDxincF9spIyBtHLGVCpEuHtuLfV9C96nGaquXc96Bnxt2tAkirNcxj1yy6a3hDOPpAcmUFo\n",
       "NdONR1eYf4qJyhq/QbAUziaeez8UGT5FOIexXX7e4JQ/9xAqJjdzPxBcSPuB+xmFNOAjlbzz81dj\n",
       "LBJnBYUFNmbP/1Pn7+eSh+H9maKW+Rq86upHnmXgMesCA93jizaXgP4vPfiW0fhmWEXreApCibes\n",
       "mjoDiQCGFF9WkMF+TRTItbH5tYGpCac88xNlQuAJgMq8/yAHTssTdrvrv+ylTdM/EIKBxn/TaCwY\n",
       "rV6TPj6bIInRGVWU3Aoo1J/u/DjY88hpPm8ADtCaE/TQWKQ7Zwjaqabna2MazyCbTjmQbgjOZSwr\n",
       "1EPaOoJig9zfQJHjjuGITm0qqXrNlHR++ie8w87uX/aiAdDWhw1qAJllcblQJlF6rbfsB38BHnc8\n",
       "5wOuj/r0aDNbaOaWKv9cSqBXdg2gRu2l61Igso22T+c33ErbN0tpgG6EfdzgSJcl1WZFXClTrNQ1\n",
       "4chwzRIiWGlERM9Vy1y0mztppvNmQ2akUIBheMRhhQ4xl1QS2sllpxpSKtZOX9aruc1lgN7gPQMP\n",
       "fZPIVjSQsie/CeitCrDadLBkqtjQ5YYESliPRrt0Z/ibLtMXwWMB08MxXmQkKLL/vCLguI53/1WS\n",
       "XXC/R5K1E+u6jLN7gNBgfR1XLmarcfHaopjuLvG5JlTsV9lY5SYsXHw/CbnjLqW8n6tVpJJ2h0iN\n",
       "742EUIpvZynpIf24ScWFe4+yrlOeypuK64gJ2/OS2Emd7153rjGkgFXztuaiVlwSH1SCuZGd2v6X\n",
       "0kOwsOtDXYip8aCeIMKwgt9jBAbYRWQOnFhBOb3gZUUVDgZpdIF46ueAGE5p89rHPOg5EFLcQhDA\n",
       "petgFJHNJd7en72+iys6fxEvimr5y0wYEFwe16rBRDbUI1vb53iJQ3YO58lokyHwjuIXRLqXYXMs\n",
       "rb3pfqEaZp45Vg4aY+h3vdKL4aNFn7lizxeZdEkNeBEGHEsDir9Li6pMnucOKoLd9O7/kO3wkR8C\n",
       "BsNDOMWUP09ZMjoEwYvlkmOq0G3bm44PZmGeZESprMePehGdIDmgluT0g6s6SVJo/dqEpccEdj3z\n",
       "o1Uk3Z1E8Ri9kiDyq4Y4gNh2PJVWIo5ih6hUu27cMgRkQYk4vstDoqswldeMvj26BqyeoQ1HFtJc\n",
       "eTa+1S0em6/95nlrmufnDwkHC2kg1HE4QI6MNw9bG01GVjAn3sgfklFrKVkpMnsDPYSuNWBOR2+m\n",
       "y4wj4vscPy+Qmaq/7LgPmZ7I3/BpXgj1LN7vIpMjVapM9Ls/Kies8NNmwVETEjiYu7UPujqQ0u1D\n",
       "/d1UHU8+OEq21S0klq8PRKnkdka6cZfstMEtTK9Y328v45t/02sLcTYuTXv51yvxjH7ryjHigyl2\n",
       "QBtLR3v9stYBBFWCnGJHqUyPVj5vUls/dNgV5VoHhHOLq3nsf49l9l2ik63NoGtwQ3PqnfLBaMVV\n",
       "D6+G3SSYx/yJcpRhxX2g2PXacfmqJkcPnydbelbq9n3kQ4VdpIFYPb52yQWyqL//RoGmTuK25Hr9\n",
       "RVlCAv2Mssif6/raLvtj6JMI1I9AzbS5JUn4aRwefE5P7aK49DzM5rtPnEHCiRA5dSFYu0y2PJ3d\n",
       "7ou/O96sqrKeZkbessO0KOBv8IYdavSo6/q/BF5WTX/4Ad+FdCZBEd5qg47L72jE9NzTwVmHEz8F\n",
       "xWIxnXrsoVAOIGGyDXwtTkW+r7brvVIPRiazpUjTuzUHNoguUUlF8iaPtykeyUE7f+TeoWb6QlPb\n",
       "wKfjH54s5OTHFh7NoKJ+UuVw+e92Gmkl0CcpYVFYr5/kXeoL0dLaYwxKtIuw3iqeYW19ROG05XbW\n",
       "xRjtB+aXzK+h7/uA99lKGe54FgjkeGSWr7C3swVXHy/rs2opDl3vIERokA6Qr65XKLSLBMClIED/\n",
       "sfWXdMQkKhTSvbpKKA2JR1Eh5w0kbf9W/gNl2ZUdmZVontEFQ2vr77SA54H2Md3VkGXktd/B+gb7\n",
       "zwmxuWQo2UoLgYnmOlYlmCQfHl/3p+Pi8Wrseu8v6O395s/li8Y/OBvfQteiaOeMonmXRu7Ll6fP\n",
       "kCthrQ2zBcHzECjBSY6yzulJEDWBHxeFrZ+HZN3F9CzBlHc8J3oW1A8uDh/kT02U7/M7yA+nRvNl\n",
       "jva4gRyWiAarnuGwLYaNWZLPSE9QG1UYv/0eSgSPdercesTyawYb0VK4T66oafjd4MZ0BK5cjdHv\n",
       "aEYPsSZK52CUz9zvDttgXnNu9WA+HsaE/7QcGmOBoL5IcSLg4exT5A8xrqqWMIedpn5DF4AYS2vw\n",
       "KGyy72tX8QxkyHnIdAFnf00i67WIp+iaX0Aep5ivzOZGdCr55onsgRz4rcMxHglTYde8X/6C4K0K\n",
       "lhkR35OfJV322f6kKLHTBdWy4wwmja5y36O44ZYEyPMVLENyWn4i7Faf3NeOjkH/SDvQk11iFl0p\n",
       "I8JR29Q3nBlu1j4a+qI+kNGLys+J+QKyOK7GBkdK8sz9B0xW/bpz+IFPLPiw85BWT/n8UrfdfCrx\n",
       "u8nw4Q3JHwf1mv0Y5YjJZph0yuUk8kpNV+wIvxUQ3g0UwYdfsnyViXnJU8dDMfmq/J2zbcz4q/W7\n",
       "FFDfaxblgkeOM2BaaUUnqPa1samrysSE39ymtJOHhCiP0MpyInG75wtQlFCn2Qh35aBCE8unBPdJ\n",
       "uAH/PnvbGAUFobamCMUoABmcqbzmKqaYHg7J6k+/szRAoZVQBt5hLWyTE4tc6lX6nThktbE4uI0u\n",
       "bXK6N8d+ReJYA4IAF8JNE2R71ClbnaZRu3bu+c6H47l5aezSx+lgUF16J4w4+YDHj2oBAuMIGzRn\n",
       "enxCrelheXJ99+L36mSGpip1ON0cdUkM9AiXdbU7TqkremC5W0zgUr/Ehaalrmv9+kVSPVHpP+6k\n",
       "TLIHSF4+q7Cp2qHtnB52cK6xrNTDlof7O19aokia9LaHe+uK9mwR0ijiJzClCkw2kWhcE78LDJSm\n",
       "PPkW6cxwXyI9d/wvFjuJdzDXzKvYSxmqC3MswqaowrjaKXPYYdDeelstzwbuaLLf6Xy8azZajqXz\n",
       "RhkOhg+c94gK8LAwpSHXxAz786q8Hw6MMJ4b2GHqIVYLgr/ZE2FHWXDLqao5fge+LIdDF9nFYz1j\n",
       "Yb2c3V6aavWUIdTaxXZdU8C4/cbVXn0hI3hjv3s+ZdYBN+HqK/vQPMrrPRiOuGpJFD5vR+cUjrhe\n",
       "MsjxaLy/IwPB2G+UBnpXsufNwev+6nU15n5IHJMkI778Kcsg0foBSzi5HeJLqvdw/BnEwlBgEz4j\n",
       "wbYrntHJZKescGvsEqkoByp02ngeYTJOqcYZYmMm74g6PjltFXn2yGV/SmnVsz5v/z/yc/kJpsip\n",
       "kpyU0H+zne9ofytqS5RhRxBUMXBcB+O9s8jUcV1Qk2eYB05Ct0LpP1MC9QCNFH2ZZKnbd3tg1cp/\n",
       "rEYTBZJ+yn7LKkmzTqrCLLfO/6skZBqlTaA7mCfDpBRjbi7wluhA5gE/R4KZ/X1d6gNP+Mhc2UiQ\n",
       "sLhufCVn93cOL7ezlvjncutk1kg2L1PivoozreDO8/T+OyOFUTSaj+IXLPwY36kpCXImVFm83NG+\n",
       "5ilZZGWdxTYcvtf70X5Ly3LGcjbiooi/seCW4KUMJpXsgEVAcx9Y/7bv4uUDkF7yPPDwPkk/wE4K\n",
       "sAl4gTx1EtqNjXONXFC9k1wKzXFR7cM3dVTZOCSf/F8f9jvhuAAbcJynn9Bw7ARqf2qB+ZRr8WBf\n",
       "aqQKpAck9dN2SIRSOxeaE3FpFII6UMtNvS+lHrJOnT4/hL8F7KSiqlN4IkjF8gEVtXIcGNXLqW4T\n",
       "GFv+qonQUSpPnMX7tNIiHBnt8kRyhqpWDQxPvRs37r0KBjSokny+XckDEDs19IKCBSMhjrFFRUiW\n",
       "T9gOpDdZuZAoG2SjzRQONPtvLvAvQ/vSvEuf5Xlc1CbNIDMvhThfWvR4DebdbYF7u4+rCI4nB5/e\n",
       "vesLEGWobzR4mAbQa+3ZFDF/pITjk6aQdAS+RQWJjscx9kL1EphzLGJpgYJK7L1rAX2G2U31XB/4\n",
       "4Cn4yHCNu3EcXWnsac0CMcHbATWC/y8+oRWPpAqDMbLUqYUYVNqiF3vtScEfOl2E5/q/QzkH73qP\n",
       "nk3KdNcoFPOKF3tsLF9di5hA0qZJ466bWvDY/gCaivqOap5r5vmtXFt9dmR0kGy+9WMvIziqj8aW\n",
       "mGmmgwOa3oefpiW4VIDS2Khcs8dHPKi7FmIFiMXfxyExaGo8gxBeJrb/EZs4WhUwNrHyc0gNXAVb\n",
       "UTe744bT2IvQOCDl7q4YLT8a7gqjGozTMA2Y5FANY4Qxd+PT/SPldqTO01ZAThsap7rt4ReTSyQ/\n",
       "agp9tEpq5BJYQWqimFNGzyoa4c0OT2sehnUotr08WnJvrt+Mn7JFGfW8ctuYA4/mfUgGaxS0Xxxd\n",
       "Xn/Ci4NqJVJX9CMQM8fZJhz3SRGB5ZvGhOpFYN3WR5qNwBYmKaoxq8dGsgZTADzRTxM2w/uV18L5\n",
       "Rnek+vZNaekuALNI3cgPNyABcQ36l7zhoZ4S3cpBzZzZIM9+TCehz5yA+NfVsHV7QGoARz0W7lLv\n",
       "yiC6wBb3+7VoehdPgXE/JB8Hl1hXS3Lw+QxGyzqtUIBnThBuSXyRrhky8sHVUajp18Js3m9QlzX3\n",
       "s8MrR8IPrME12MLRFxTe7+IyTn7H8L55++9QVZNZ5Gfpi+OePS220fVCLWchHJ6Z+ksMdmY8YhtG\n",
       "VBo7qBNTJD5gH2mgMCDo2io83wKPYwnwIUt+YhBvf4s3rKQ9NPANHVBDDbebom6JAdunCIXidUmS\n",
       "PUXwLJzAxgNzvX0hi6DuoShCN4kBFfmjIvmLGFaX/AVbNFCCD594rc2Iww36020fnJup0TKE/IN1\n",
       "muzeg4OjKEwrdXd3o9enU5k1wZHcON1qUoV1NKxMUo7CwmCGwOQq42Yivk0TdIDbdEDoFmiGxV9R\n",
       "UVs0xPEAiAYAsG7SDuA5c9RJv1WbkbawEwpVFNMXqUWtHdgjC058GunZloLDQvAVausZBgg/nUPE\n",
       "SWYhEbY+3HDPe4eIbWGqGCAxlgc0YxZ/AdHunWjbgzID64egrKpG5g3I0TF8nBiScyfc5SWjNkpL\n",
       "e31nRR0Th0EHrhVN8qVz4pTtv9DxgfKpBACTBZc11b5BBFuhFwnIEB4hXPMaIb3tVbz0jaru4DzK\n",
       "xTjjzDvsIfPKAMdGV4nBuCP1fzNDBVgEQWmyAlhanp3EzHmstsunbDbjQDhUcU8sbExz1RW52UuN\n",
       "BLMBRxo4GBKy79dc4urSGzccFVVAlMot5DEihBbiebtZyyCMu1YOiDfEWFcTkBJqz5ZFQT43QD9s\n",
       "ITetBsDwdMoAd0P9TOxTby5EEXrfxF+J17WIQwyX+bSwz2gj/cstl6QX9yBnQvST0QnCDATqBsaR\n",
       "MP5iAYjp9gLmvaZlOgdTWjCOpABrZgzdd1tgHKk+ASwkhPfsD0WAw34qBECtyQ4O+xXaxxZTuqIo\n",
       "Owj0jt6sWnI4wqmc4/d62QdfOg7dXwxwS2MBx52oQpOTaA7lra7/0Ut/R1z55XCoA3TRZ6+qLMm7\n",
       "oYVazwlf2cVv9nn6pGhvsKjEsyxYP01CI1bMI/JO9817ukwPSATDIlG2nI9iCbZaYJIHhB04upTn\n",
       "P6XikYjgwMUj63Edjw5m4at19xmCwEAlp3kFLyEEtZeNhoDGuSYbu5AMNDFbxSo5BcG72HJzwQKM\n",
       "8UlzdObXskcojGf2FwP9jJOFCVzOF4gRRGeHJkHEltS+XFHefXHgNYVfEvGz8ro6svEYT0WRHuaf\n",
       "o7ZhBp3ySAy7Ym24XiDfxPYlL7AUZPOFBJzBELEV0MxhyJhPvR+qAGruG8QsVnK31d9hgKf2gjqs\n",
       "SEZVrWfM3iLOkvfw4idRIihNXcT63HZtA+HqRDo5MJkjtHeNYWwlRJMW5SXr8PALmMja4KRhbTco\n",
       "tfgFWimVZBYp5q7bNp9PBxGt4bTbxZ+erP7wgW+JGt1IR+vzhdoO9smAscVDg1w9K+prPI73WYTe\n",
       "QGrMK8ij2a9pr4ezU3I5isEG/AM14+ewKtl5BsM2LbBf/a9dFL1PJUvfJAxrHkbba8dorwVCyw77\n",
       "HeLtqEfRSqVwrX2yHGv4ghKDoa9l4nlBWISDao+rGihALlVm5Rxzy/e3qeN5E5OPyDrIw7Ofok8V\n",
       "z0/tpgdo0oDTfMeHSF/U4oKNCQvdNbbtBEYNpdj83FuFPHfTc8be79G4iGoZX4DHPPIVWM4aSlTI\n",
       "cnMMMVn3vEnyK6+GXzLd9fbD5/CpMcK2Xfg7oDh3bIDeeT8yE7BbTi1HUNudpd8Ejjf7F888BSAH\n",
       "iPuLEnsTO4szcwO6EREaxo/0mdsZpsg0PZH94UMtoNe7eofLJJWmsJZDQFEYx6Uil2Lvw80oHolu\n",
       "+u6H3msnfIXzy1nK06ZtzoMs2KY0LddE1tbtMbV0iDmr4EqjwRVTHaVWT0BYNX/3R6FINFUGW560\n",
       "/sBJul4HWBNaG54OjoaIFY/J68dRdcvZkl+UoExIbhjCPMaHVMbWN+9scD/jgKynegMya4WWu+ql\n",
       "S5+Ed4enM1XSI5exXrJIVlWnhjT0g0+M3I6uwNUaLec0OfKn4D5GM0jC0CA4zjD2ow9ClTk931mj\n",
       "DJhc9nS4wCw2PopNqURm3oPbjdYoACPhj/Y1Z5pDuN2aTnQbOUTSp2I/4fIOVxTHfaSqWqCCbXrT\n",
       "lC9Kdh2MdkMt6rSSisvyw3jviClg5REaYCDXPtmAZnbmNwvi3lFmq128epZbRsnzKLn+MqyI1pM/\n",
       "bUEQe4v9/dcIE2efA/XxpIzLQvCesjdzBMA28uNlyg8dC6jVLgz7ZbnNapEWg6XDQnAC8qsQ5IBQ\n",
       "Gsg11PG4u1tV+Ntfgjjp/v1fHClDtJyHfK0DAZnVNKoTfpF2JOhoTR3mim52qu3H9AJlYOStl4fw\n",
       "8XKZzd6+2vGxxUNqYV9uv4D1AkOpyCb7cLKNDjOPcKprDRP4Hy8bZ3Ibu7XjHel+rR1Q54OE3W9o\n",
       "OGhYA2YqJiG8i8bLXBxbKr9W2HpW10ivg1vYn4rwh5R/liAg/S2JnTFfp1XzewT1RrU1iiH2V5MJ\n",
       "xla7ZNy0MQvSlwPswsQwxRGICI5JKU/3bnKEFj9naK41k5rj7dtJ32G4qEnYUt2zatZjL7MIUlXb\n",
       "VSRt7H4zXe83B/E6ze39lx/pMd2oVHR/jjLqD2dR8SD5U+ElQ7XX2E96ZuRsHdMaUqSGK56/r2gO\n",
       "SJt/jGO+wLUWb5KozK8nwod2ZH2Vh8K9/Zz4p9y8XCCWboAlZFDeHoUdG3LvV438AwheO3TeZTjd\n",
       "mJnKOrocHPUBXXHPoWgU+F7j90Fv3zb5nk76zVsH1mO9w3FJthl0r3+1muTTWI4LZ8VvoQKpBrwu\n",
       "t6oxuIWonewtK/LdaX+Lp+r2bdNySMx7NW9mbSuM7DMw8dWPztzbE5zM+PWD1HUqZ8hdJKxl5G79\n",
       "a2VtCkEWWvGDZad4FQz1/KN7fhrLJWugYG+Tw+6cWh3nVnu9DYNvQlKg+YjooBUKCinX3Ib941rc\n",
       "YRS4BHRX+FZZeU6dl5b462+E5Dg8gbNUUeKHHNkF/059wNMd72RFN5Ur8bVefLncgqGybCzN9XUu\n",
       "m8mCaFkQCLafL1FUAa4b6DSnXQAkI0/iv/plWkZlsUlU3zA0RvmfDtF1sQPo0WhLnVZ1evg0RMPc\n",
       "cVAPDFu6zg0QDJXAMjcWO06Ax+SaTV7qySFji3deuUqkV6OKdH1UgFsnOFAucJqZFThVYajP80rt\n",
       "Kcn8ktYHxwLVfKXja48g8yE7urrlbLQ91/VCKAHP+qpYirVk5IXsvPRny3OVz8RPqd1hLDTiEjuw\n",
       "uCQx9LrdX16ajgz7sowbuDawE/giRyG/o0yg6ZhAB7gGU72J/51mSb5zn5oOir9QA88AbnI7nS8t\n",
       "Pj1bLtjeUr3zoPLPi5nHehcwgz06g1/rB1J8J9ZFBOBNk6SS4hixhyFceFJelUynnLVhm333nQZe\n",
       "0uwNwOihFZkEv2/tp79OM//DfeEOwV4JTtgfyA5tlYg4ssecT0tfF72d8xrDnbMxfI/tVN0bUYDB\n",
       "jqfUTta/sleZePRet5zQUHgTc4CwmXfU6a8j5JAsxX776xsWAQuua/WZGdFPKNTLCKbCjQGFVM7G\n",
       "qk1BDmTzS4ocREzOXskK+5ZAc6lxmKt+hwT5KmP33/uWyUT/Mo/B1iQ5EwxGD4sAZP4QRi77oGl8\n",
       "CLBgrR++HAIcjdPQkNNR7ugBeNJC2qnknPegfiFkPdmFejkFTdpDcPtE2rxpwJ8qxB4IP5xECjr9\n",
       "hvEMWg4vW7/78t5KMBrxJjqXYpSMnxc839ieeF/zICBnHJ8pqiNucwWF54LCK2cCaC+iv2wHtB6f\n",
       "3tv8+6NFWPy+aX8rXSH8pzjxm3fzMUEOpxG4E1V0TzXbFfoA9qETHCC8XkQ67p2asQgL2nrkLliA\n",
       "Oa50DVlDgdZMiwNshyCVnWWfxOJSJ/ZUexzyUAnWr0ZdZ+lvhx2GlBz1Gu5bNyPGiWvS4gIeIGYM\n",
       "hFEKgT+mMSmfWwLhS1lKNZouwYiqdT4brqvZcblSC2FWollCLbYs60f9njbmyqq9/QYY/AaTR6Tz\n",
       "QxlOL+NrI1dZbctPBGC9O9DZlYZU33Nnsd8oW3JxC3PnUhiu6mVE4lF0J7PrDxZ/lQqWjTdleNL8\n",
       "nAWBpW6+/3fstx6D4ORcilwW+xBXv681o5mxpwQdb/uDkScHbmv9Y1zqnwrAHwtXULEEOHxLLVh3\n",
       "bGe6sVKSFi7Mg0fDuZX7z2QvnffdNzFMUeui7vqyixDBOVXBGDXYTMM0uTDua5yewjv9TAK9Jp3w\n",
       "WeHhaRKa4TP206Jwdq07Bi8HzA50SInr81Ldd7aNjjH6O6CoqaZ/J40Rj/WrSlxSwSukxdU5iTZd\n",
       "iuS6k4xXzhOtWUPVhmFzdC5U/suCFoqVFESac2yjhTXunaLSMd4rJJHG9SA/3EswVJDGzEGtydAk\n",
       "EM0tUdtgtYv/kRnmB29uDwDdVCrMeFTZOnIzOMSgyoOdKJZAOYDsQlV3lb9D6NNr8Q9qtOM29ctA\n",
       "k92oJybpMq+75hkaUsy7iFEpZ3JtQGHXNE3pDSehloyU60qUSMoXGMBvQhkKIOtFT6LDKqV++9q8\n",
       "QV4D5kDPer2mMazxfWJU8pVSs/dO7P/bJLVjCM7PSXPO10OI1p70SdzPWKhO7R3B4yEc8UOAfGsb\n",
       "wB3exwpBN6D1feSCcE5mbDmUNflU0TaaDDzBiGO1geFjvvxcKT+Y0bANwWr5D0+A5H+b+hUlT07W\n",
       "kVyfidtmbA23wL56NjWKeRfCqawd/l+c0l5xFcpVAYwt0cTSdK3W8Zqh0dEBk4bTphXnKytdMgWS\n",
       "pblBr/rqyh6W1CFwx5Hcdn25SSO9yqVNItgOhEwUeteheZOdqBQFFBbdrWcYie9mpoGsgcwjId//\n",
       "F68JkHingUuKPYiQYUVXUm+2mwcNeAP9iCDRpcoLZIiPy6SCoWdl9z1oro2BDXwk9/GVP4/A/zMK\n",
       "2BpQDa7QOhJfME50W06wXW6acUyvqHVTMVinQ/rqvGPyQn9+1M935oN7Vm9Y/AmpsyiRVx7oszQW\n",
       "aD+Qrby3YwDofO+285OnmE6jiOknPeZWWNP8JO73S1C48qyLUSOKXh0E2IQxSED8mrmVKj9Rar8Q\n",
       "ORbu91lNi1Nlx8vCECAPwKJsxsGbVCkwvCbcGEJtWCZ/trai3ATs6VEHUEaOuXDelN4FQ9uENtWl\n",
       "qvOWHlZrbkL3JAigZcAG8jOn+De0D8Zkj6iCTGP3Eq23Bhy2Kp7qaAtdC1gs9FG/hXtdO2TCtg2y\n",
       "u5sBlHzVxSGVbv1nGVY9P1JJvYmM4GaDQzyKgpT0fR99tuV55sCjoSEiw6HFh3HNVcXIYw60h7Xd\n",
       "h/kDcCKoh7bzR0aOYJsZ6ZgW4wNfMPeM3R5N3OX7FNA/wwF9lsYQ8Sk2GwS9xRRivQI+JGqeGE4s\n",
       "iChcpeEem0eTg7YFLZpEw4B4a6jMYaeDBegOqbi9Lr53c3PwGkBudf29jQ3c8hNEwnu1mDtW6m/D\n",
       "EdegNYWAZIAAsUGfqispj6uIN693X2tL3Q99XFiaUZyIWC2gleaRqXt6NsfbavBUUs8KRo/ZP3oB\n",
       "JIflwAbQHPqEA8ys3SpXfRZNksRyGG48W7j9o4BQLvxR/43oeuNEjOQuQsNl7cTPNsleVb7cjrlU\n",
       "GAkr40leD18FKv6E7aTm1K8Wj/511ZJw3aToGuWTa568jhabGXmpxyEG7+nxgHi9xEwqZ3/QsIXY\n",
       "D2RrOes2OMMxehOsEr5sTsF1tauu+Cj6haUPk9OpU7XIj/ITfqwNjzptRb2eGxFign+Bv0T114e8\n",
       "SO+IDQQk7OsK2mq0OaBjeKJwkN2dLuH/9z9Lp3yAqyH722BgyKluYmsploqA/m1NRP/Q3Lge8flP\n",
       "IvU525UrsoMBTSfS9foqRhU9g96EaE0TTFlLJRwSxaCTFir/Q9svgPAXbC0u3IQ/E4B17WagsSZC\n",
       "WlRNX3GzmAB1slFMcIfjfKiGyUTOaplqudnyM+PZSMQOgFGOOnn1DZg6GKj/Tg5CPGW+a9sVyROI\n",
       "ECsDcOor6JdglrrE1gS25ITlmIlBNGHy6cjt1DYPkXu+Dcl8Xq/1AbmvawSzia4Kkabwx3Xo+eT9\n",
       "tFBd4EQGev4fwVUP0cSo+2GpMKahmKp64ji4TPn63fzPnEdhlTy6Tbzv3xHm/tZ+8yrdRQF1k15e\n",
       "7bJyzPb1X/Ln+qfJR9EbpIfPtcbqfCVSZqoONu+t8gaVGdJPFCwUBcEi5TavyZRElZVPE7/taVkR\n",
       "CHQeH4bbZpgFRzfDUC107VtPHEFllB73RtiI0d2PiNVFt8ZrkVHJXff50BaY6GuYPEtWI6eNmVYX\n",
       "u3h3HgOyCzxkMvLWgZn+5WDDtcdM3FRgbDeifg47lyjf91UfYUbaqdc+FsWB8ADHyDh5RI7DmX7v\n",
       "4sFOuwHQwdQ8Bmx4PTwivx1WK2W/ZJSMebHppAZRLK2W465VzGZQ1JkrSNqDzJodqtzjeK9hjQgQ\n",
       "jLY3ptX7maMub64xEbgln08akKqYp7StXrqGtHbKgBlPS8iJb1M7tUdHoxriW7rP6gVjtvye1Ra1\n",
       "0JpqlYSOJmhOpzY9ACBDYBVzx9uN7Map+nbl7uuDQifSMllG8Nwoy2uTcNRAXOF7HoHUsdZOYrKJ\n",
       "LIEX8RNcA+23cbFpIRLnK+G+UP0QIZQEAu5c6iAa8GSU4DVZ8geZiLAPmuw6zgsTGpO0FFJBO247\n",
       "8IJKMNEbNXt8OSkhHv1Zl1Jgxbv22PG88szOh9cJR+OeqKcr8nQh/YCDLBzqrtAot4C9tWFErXdH\n",
       "dekgs2UhqHsdJ1iKoI5F995AuCm0rXNxvXUfBCPytHP/AlLFrLgX0/VnkQ9v04SXnfHrpHp3zXMO\n",
       "g26Xb4cddRFPnqezlTygOOp0v34b2+DdX0wFht2AVMsP1eL7ADCxkyYiUMDam5SYm40WmAO9r7+1\n",
       "V29PcE78IfUQ9tzsSCQRn5ekdm5ZkyTQ/+VAIG8Mke/g9+KtjwiBrZ5XSebuH51lJzIGDrtlTdVa\n",
       "YjHHIMqA82xADE2lyF1rDvQxvk5u0gdJjSLjjj/u4/0UaDPDSyphy22h87k9iVmJHqpBYKr92JnL\n",
       "moV6Idn2LS0s48YJjV4j85OolB69dmretzOukTXH8CuFXbH3RNX3QGjCVagH32W8zEayB9XdcJsE\n",
       "P83WzKA0HnfYu0VZPfpvc8v4su7wU3+P/s93QW9pcs+X7IwJOAZL/K796/mlI1RLP46WjY1tPd51\n",
       "mo7WgV26Uy2ovOgTGpDNAuV2iKhL2D8fon+8bwZoXo/45StzXuv5GOGYrss9ObnTkGD1f3SEtzvi\n",
       "phQQh1ITTZ8gje2eHTpHvBUE81gni2Hn1f8TEGjM+ymRzyz9VOCNxOSSwoepDKvRQKByFPs5XDVe\n",
       "b1/orc82J5dkpRqcZznUdnjPGVo26LIsKi/ooiovAFMi4ie8KrC2wpdNnGZfBhQFHsITFkE2KMR7\n",
       "jwMtXvhcuLBpZnfCUEcuixtgW6EhsO1TqAgwIvhh27DJBRhfEs0R5GLn1DhEK/ZJ7Eb/iJKccakH\n",
       "2sievDicM5mUWnCA+u5FhozkRLg8UexblVlAPxKxiQRIcowzu2qMoG5ssW0JAu+DhYk6NKzZKXl/\n",
       "6V9P5rTmGGw7EzBkWlG2LQ+CvcRw+wUTUEDkgwxTDV4qAvXqE4myIMFd0sdW4Ogp0bz0fl1xCOY7\n",
       "3Fv6S84bKSYUiKXVMRLVbOBgzw/vvH/hHT0Lzbd47Xo3uWEu/Nfr6YzG1QJXJ293hXAxM9dHIeQW\n",
       "XpTyZNxx0gu/gvEVUR/MNEOdRnnyYqaDVsahL/uhDYuZPdDkrUEnZW3Ao0A8QhdypHmu82uYHtzT\n",
       "bjRDZ5NmLtuVogw5OoktKXAJ72iCZanbhzY87BqH/7Os5GgmrY4I2LQ4creDDKT0g6moRGW1rB1O\n",
       "0TOQ1Ci/MKXja2BRW9aMaDwQpnNvOb5vDf5R+W5dEjh+5QgejFnnnLyqj646FG3bpEuF2zZObnqY\n",
       "+ioe14vcVbbiS1fuKCZJ1j+olne6B37EdlM2lil/Ai1zYMh2oALCmO5GA4Iz7ftOUn69WMsG1U9v\n",
       "zWtWyF9ad5U2uE9zCMVX05wT+/kbpFGvLucvq/pbf075n+sy8SZxtQx1VVd6OKE2s+xbA/OTdxJr\n",
       "+BZ1MAL3S5F1bbsVUInLz68Qq3LbVC30UThxDdatUsRHC15PGkTz+694KdoV/nsy7oOwHC6mNFl3\n",
       "Ic5qETIRV+7JfUUKjq+PhCMVdcfINGU4MpTyk1KtuWcrXX7cPFtQNDdQZSykOomlHj1uohaCs7Ks\n",
       "FN0q9RpmnVZmDeRRtxkTMXe8HPFn8LPVyUf+joFJv0sD5jhxaphizPet0ZaFyTwBJ9jDkoUCL0ir\n",
       "HP77pNiaUsKmTnr6oRWx3fB60VVPoKHpZqXwdfUNpLHC1PLNaO+YQWCTb24VjlWS1g5HvtO2ZcO/\n",
       "9SXRRWW31c41cdJmSNg2pe0d7judfAJBEhrktOIjDmXVvlu4ZX6neL9csA0iv9cY7Xe8O4j0Q9fv\n",
       "M7yqlLOQ8+pJK+k8zH6lzvW/TlCoVTKwWyINAYBf+2eevbvpxkZUTgwPeuxH2MgSN3RP2gbLaHj3\n",
       "RcWS3liIJW/wZPhNnwSZkGB3AF4tnVAjjB4z/IUIUcZEx3cePfGhRFytCT0TWGBVfDvi60YBhrbL\n",
       "//d01F3QzKXAGG4iUw/T8hxyQyeRCTCrxlPlWap0NTsrMeSU0bYi/I6mI0rhlDkvZ7n0xO1y5kx/\n",
       "eAElZ9bjiEUrm92cmfPB2ZLxy0rpOWE4BBNWOaw2bYA1BhemmpwyD7aSvySUYEG7eP+usX2cQALz\n",
       "uECfmVc/9Qv45Gm2z+ah7nRJOJYFbx4C0uxqZVDtrDEPanCmM8LiPzLNmQxKaXGGPIW/D9uenInY\n",
       "NMZhlrRww48vrmp4uFpGzM/tOl1NXwjXHQCnX3U0TktL9gNy9D2GDkn5A25Z/JAMhu1VU4Zx8A5D\n",
       "e+E57+FlFeH5P27FGQ9vbDLAm7I+xVeduQ0YJUtWKfrymndlo6guTKP+ARHVq1kO17sEvcvYcHhX\n",
       "oEyAKEsFshka5SHo6W934aLZoJUNRX1b07lpBY+xD0/3Bao3XdkmIL0iFrgekmsXIT0rsw4cTkQY\n",
       "PRnp6EwVNKE5FfshB4ZCGjLmIxP6S2DuC+DCL3WZ42z2zg10svfn6noZT0L+9Ufbtih7su/xxOG7\n",
       "C3FfVtB1a5++BjLueEtM2A5ieJNdBZXHrbaLtN6941XbP5n817M+0wvtiwR8Ew6/5dYtL2Y607FU\n",
       "zeOal+8O3Pzg4CcT5eMUmalFsXepaTwgn6UZQm8rQTQMoTSuvnS8VcvycxqFGyxVD21uT2AFsWh/\n",
       "j3gcpp2ShfWpLC68rusjJW5uHFlrFHd+lA7ScELTDI/ZcMAFVTX8VJA5Bo2M64ECjRl/DH8QHldf\n",
       "tGxJ50OR62WOyQlyf7wAuY9bhI6FKfMrKcaSP+4q38/edBmM7NUZI90izuUwbCQOE+T3brTEdetU\n",
       "DvCY/ing2McF/ZMl8yyHt4MnjYUyOuaGWGmMhlo21+ml1f4FelHQZQbeWC0kCYsr8h4dq7rekWa+\n",
       "qOYsSIWoPOGIZr9Fz2HwypQusJtQmsd5M3I3UVfvKUPigxKx/rWZZasHmCexfZcZNlHRUWhGCyF/\n",
       "elh13eqHG5N8MNniLp4FRZ8vGoy4zrWnkAkOjM8ksV64Gnmjm5ws32gXXGNWIBCz0ILN+OX1icOE\n",
       "e60jMvbNWlvkc1mjNZKD574hSl8y+4LcCx+03szOS+ArSeV+5CqINrAL5QeOxJZgtzTGvzBoywEO\n",
       "or5Es36WJWpt9CBwLkSMG1DroEUbhzgJXyI1WjoD8lQmVBibD7F3Q4tiLeMeINVVXTVsdW9itK7u\n",
       "WKulJFFZMnceMfqZ/H3gjmoPenOWZAgXsT3A3lbNvLjT7xSFq8mA5VUmoVSniiiMb5YI7iTrKGV+\n",
       "GBt1uY1zSFMxZBCw8TRFxu2cARW2IXhHpzuZOoZ8CmTvkWKk43itXJe2jLa+jtQTr1ZyrPYwlP/m\n",
       "AQ3UvGOfQWgSaojP8QhXoPr1z50EM4NpyKyY6zZ3NxBLu0piSq+/j8ltQ1tJBLHvTVVMIxQHXO3C\n",
       "wpqSmxT848PJqRqnTQzLnFl+DTi6vI/iuQbPfsf/+Umbit60rI1b0b9Nm6l43p3PcNTu44O1w0Py\n",
       "nnGDalx3EGIzaZ+V/6qcdWGke5H4xbKnDK+SdmWwQBaOHMJTU1q6V0B4Q64P7MusBICTqDReggon\n",
       "5vUbBH3tGiPFnHEH6nMuj2PAcDA/xEeSozpP1f32dP//qULlMpSbP+oHRESjdGmzkyvDfkZ8U6dM\n",
       "HJV3CS43YYffXtF8uE2CnqNQS11wB0diTUKIdbIPJGbGote86yO0Terpr59mF5p8djahsUP8oGjs\n",
       "P0l0vFm6Tu8iPYEsvSQWhbZlgwWj2vBawJMtmaoxpLb2F1uX8Pd7oLS5qptdSicffwgafgs4bGLq\n",
       "ITb7wp7aSj4/E9Nm9ife+CmY8UvpEqx9i3FCC17XfpIUR9DRzfkh+kEu5edlDKOPxGElqCT2bFQR\n",
       "3OMtV05SbaXrXwcGX+bewePKyL5K6WFe2jpIw8aflJgY49oRv959snAs6arZ+uJq/3t56uWUrr0w\n",
       "0+EhmorIfo4suevuq9eJLcoM6LRB3tHxRbqAIlSPa2T4OCogold6e0lXmegbVpb3Xh77rePYhW5v\n",
       "gBfd+uajKgdK8EGRj/xP0pVw3U9rS+w5lqSS+TPkVjVObpi82wEqhB3TR9qQZ/ONnpsJW6hKj3LE\n",
       "2EKpI2Ko2ZguFsx3LMrbphsrPhQXnbJMbT3POL0CNPk1TlFHxFJmXyLLet1uNiWGK+xICnt8zzO+\n",
       "yk/FkS7c/dVVzxgBr/Jr5/fIYSN9zIIPauaUqEx4AJr+MPLpGM58XA58AcVkRX3T8oHufagFDH1O\n",
       "ggsrporgtspw6yb0c6vUs1amVgVFd99/nw/oF9P0Fgp9dIeQMeTlN/KFxls3JX8LiK1L3QPm1h+M\n",
       "C3y+rmj1MddxfdOWkrwiNFpqa1m1alAzbi94Wcjo00glcphR0DyvwPkeQ0WO6c/peDMS3wRe8n5Y\n",
       "fwBRdN+yKUb0jgoczWxxQIRGtKjWylBnAQyqCy92NX/wIfMQrfeucMNCAOXEkFclA2V7Phgu+x2F\n",
       "O6H8gyqEBsKMpojQniULH7y2u/XyviSq8GbiwwDz+ALn/vvy880NoQTGWRdNWIWOinHsLEvOgNdg\n",
       "GFPiakvXqBXe/ALR+QWeBBpyf0iJr8zygv54YZnMEWeFm16+N8Mlufl1fzf1dv8pzhOxN+OZfT9E\n",
       "z/b53jzVgPQ19T9NGIKlVqlBynCmopkVVxOfqEN+xFiotWOTN2632jELCmueGntI/s+izeDjsD0y\n",
       "ubxSZpWGhz2IzLyY6Tfsp94ydIULGsuH1I1AKLxKZv/f/mQt5gmoSX/uA+CjgvnBe1l6rkdZa14s\n",
       "kL2h6vk1ZtO6QSGEMdfyv8+sQhXMtNT3/6n38oSYMJkEXXs+d0Pu+QqhSnaZniG2S7VGjyCdQ6Ox\n",
       "saDTW9HVOjavxWAze4hGzibmgnVWV389y3+R6QEIqDhQJ9WGubBPBrkCEtg1J9YA2I7nSMKypxUo\n",
       "DpuJJXYYean1N4DAbKktlNySEC1isLYtksEKhUWjfg41DgmJ79Scl/nqGqJ9GTs5JLIcazd3Q40i\n",
       "XzQbKEVdbgSiP+FvAWmaT4t2PaZRhT+ZIgbyH4VBHG3psyksGudU2hQsPWGxdBTrjdPdtW3sFiLB\n",
       "Cvd/9y14h8Ur6Eminsoc4mhE7RobljucNi6kIauJrrCHYZHf1aD5wXtbah+G65ZAlXlVk7Fgq87G\n",
       "m3y/TaDXLZSzVBInh3V84VYSTGuZ5lA8hOOne5x03LOa4oaYQE3DPadXFZXTugOr2j9CEyu3z9/L\n",
       "nmz/TZpV6LhsoQHNMh66IM4enRRrXDZ4oMfIoPt5tJL470Q5y3YrlzX2Nu2DFFfXK8ssAIqFYc8u\n",
       "/faeBeCyrPxmOmccUrCWvtLMDpFpX3StBzM2hiPp4++UdirhhVb4Fjghd/6JYesveIupH8k7q8+f\n",
       "T4In7MzPayDKvmhoy15Mu5HmIckEpJrUbdzYfzuO8kbTVNUbLxZlbFwRwCNEi9lI8wtMUmrZRiQu\n",
       "VSwVVr9uaTdJfqDExoJxBej7zWhdFyx8Ck5in5+aV0uZ+Jgk47NayF2G1YaVhjGXNhktcTPi976u\n",
       "zbwgeEUFBBTAMk/uFvQDaEvGZuwe4S5JAG4nUbImqCkQ+VktMAwJZz6qSjUmYlER72brYX7u5KOy\n",
       "ab5upYQgoBxiNjb614KtRYBpWhyAaU7I83Lusft7mxFRo1b/FzMbpm085TGhAroeicxB2HQeQr+r\n",
       "hKnxhruQnUCZHppQMA67f3fWyv53Bg4W05NROBS0nPBvnQYJexTTg58XYbkon+WHsh6hBDsHq0wG\n",
       "WbZxBVH53BJRfwLiJc0uvX2/iWyH40H6uMhqIonT2LeMuS1ase+4GTACfJZBw9uiLrHw/zM3illv\n",
       "g2WKE0teEAzx/8tX8NlTLXxmHWiS2txpBrJ7tIb37/B7d//8u3lG6MvhYzKcOjMn2lTG3AiwvSiz\n",
       "spnFwRwLNMAPy3WhO1WqCGf6+/T6SHDuE3iLCjEry0ei7/BBWJZgxyHq9qfZ3oJJxtusPS2RUqos\n",
       "XMTFZoaZxseTsjc7rgYV4tyO4D62neHKhEl+7oiFOwuPzT3C9e7pcYJmkzT0cMpAtgNnnoQsPaje\n",
       "LKRDt0Jl71Oicfy2Xike/mC90G9VGVVo6kEAAAHzQZokbEM//p4QA3PseCCl/AG7pc3lNNDotLRc\n",
       "aDiKUJnNJFSCQdfTQ7XyTxgRf6vunTC4GynkWzCopWy575p4xd47QsJfMS7ScasZlzeDCAvtjF8P\n",
       "oWc9X4FDKZ8VVHBsRje90o0SmljU7Zaspcfc3dNw59uJRr3xc7DvQg/SZCDR+CnkvVosdBQDKiC8\n",
       "lJLmFRL75rKxxplqpz7bBsBa9/YS9aeMfaouPAENmkpWHtyd1zd0KX2ZJIOWl5e0/y9YmN9hoAVw\n",
       "CzGgZoF6Q1j8+4EkvreY+0Te3MvI/Ie8/GcIXEPlFvRqPBNKIc8exmE/u9d5Ohw/ByeLpGEzbNOw\n",
       "4EZABW7DfcyLKMOLrPJTF0pEuCMdnCpxt1ybENeN99Z+ef5LqTXvBxS2tDMUeiK8JKEUAeGtxbf0\n",
       "rVsXPM1HIYJOlaeCpJgcictKnGCy+D+0iAjGa6olc9/NzyXRvIaBlDyty7OniEO0HKFNNt052fbE\n",
       "d1ZXuHfKd0TNp6yNOX25YrkaGS4puQoiGSyh1uU/eER3K/CkKABXydvSZVYC6OdrfeZP8DPXLX0H\n",
       "vME0Is47bEVoGCbyq+RPsf3uhedAOYRP6SaFpSHjnDdR2v1uXET1s1nr/n0RNt3/KOceW/asiRDA\n",
       "tzZwcaf9qzgefRCV3wxoCAAAADBBnkJ4hH8BGlFQhtklszp0JAJUO8XIKc/5h5ZIVb3274VSADUA\n",
       "bsspb7jPg83LIf0AAAAlAZ5hdEf/AcSKNpJh+hGSLU6PsKrphAYJc5gCKYK4hXiCdW+zgQAAABQB\n",
       "nmNqR/8BxYAZrMYuoGtAE6wM4AAAAD9BmmhJqEFomUwIZ//+nhAAUbVVOAEVjWmGf17SHD1qGBDD\n",
       "Q92txegY5fZxgomon4M+PpUbrzLnUbWiHEvdNiAAAAAZQZ6GRREsI/8BHioDNyqx0545UewuIh5x\n",
       "oQAAABIBnqV0R/8BxIpizBCv9NOX/DAAAAAVAZ6nakf/AcWADUfwkjoU6/jW+EyBAAAASkGarEmo\n",
       "QWyZTAhn//6eEACjZVrgEHonkO+aZyWrXc3yI3PLhOfe8FgyBa+q1daiiY9X5stRNmJpeiRWxmXa\n",
       "ekhbXz4JX+Jj+dnLAAAAJEGeykUVLCP/AR4qAzn7LgBLVTc23qvfjOPXqAuniSAuf0eygQAAABQB\n",
       "nul0R/8BxIpiy1oLT6jMVCfQvQAAABQBnutqR/8BxYABQUq7T6cUU/lMvQAAADZBmvBJqEFsmUwI\n",
       "Z//+nhAAUbVVOAFSeCy+1keaa2POirwsvGuHueXNcpJFI6ibi5kqh0iwMWEAAAARQZ8ORRUsI/8B\n",
       "HioAMFJI0NsAAAAOAZ8tdEf/AcSKYswQrNsAAAAQAZ8vakf/AcWADVwtp06DFwAAADpBmzRJqEFs\n",
       "mUwIX//+jLAApS3eIAWknckJ61wMhGiRtxXGiaWiIHE7EvF5NxhPuFIgNUuulRnjIhywAAAAEUGf\n",
       "UkUVLCP/AR4qADCTKE2wAAAADgGfcXRH/wHEimLMEKzbAAAAEQGfc2pH/wHFgBm/6ctdQqTBAAAA\n",
       "RUGbeEmoQWyZTAhf//6MsACgU3qv+ALSaGAo60pgTk9KWFnaoS1NZciRoTBUbLvCLRwo+q3Pe7Xj\n",
       "Dy2wquShRFFBVv8D0wAAAB1Bn5ZFFSwj/wEeKgYqvJABOzzhg4a+u82jcc7rgAAAABEBn7V0R/8B\n",
       "xIp9vKcumozouAAAABMBn7dqR/8BxYAY+w8BR0ViI865AAAALkGbukmoQWyZTBRML//+jLAAUn69\n",
       "4YUGEiAHBlk8OA5q5ui/qludt87J+wNGFnAAAAAPAZ/Zakf/AcXvcKClXaG2AAAAN0Gb3UnhClJl\n",
       "MCGf/p4QAE+rD5NsANi8RI2lceghYgcQQs+0qb4EIyQWcxmeKTDmbl/h24LAyoEAAAAWQZ/7RTRM\n",
       "I/8BHgpxkgYe0itP6+yMqAAAABEBnhxqR/8BxYANDBq6CypPrwAAAEFBmgFJqEFomUwIZ//+nhAA\n",
       "T3OZSAEPUUfMzGVIZiKWkoUDIdMwaH4rSXtAFtYBOhizcGMNFxrlW5owtyPFM/B3QQAAAB9Bnj9F\n",
       "ESwj/wEeKgMiBSV2VncANY5pOjGC0J7kSXggAAAAFQGeXnRH/wHEin0ctZPRHgxU0pylwQAAABQB\n",
       "nkBqR/8BxYAYgqdj15yRNEedcAAAAGdBmkVJqEFsmUwIZ//+nhAAT5uFLYAbOauHhkNvGsbsrjIn\n",
       "nZwtWx6On7HhBgk8M9eixQRw7vdBLTW0hpxI0/83caxO40U6hsROUErAbCevVd9LBUe1PW8n7OdZ\n",
       "PSniMeziuYbz+DoFAAAAHkGeY0UVLCP/AR4qAyNF4kAJNqofk70jSl5Br97DOQAAABIBnoJ0R/8B\n",
       "xIpwHlO+mozBkNQAAAASAZ6Eakf/AcWAGHH0Q2JqKOG4AAAAO0GaiUmoQWyZTAhn//6eEABPYHhw\n",
       "1pmABYfXgFbs5rV4a+LWghFzCrhIh1hCV7ZX92EbjyVfbs8ECwdNAAAAIUGep0UVLCP/AR4qAxc3\n",
       "HSSYAJXSDltZZC/y5VET/XSLgAAAABQBnsZ0R/8BxIpv8BTRagNljBIagQAAABABnshqR/8BxYAB\n",
       "QUq7Cs5MAAAAK0GazUmoQWyZTAhn//6eEABPdVokAK36vJcsWEmjELlwuQcA7RGZH5KCwdMAAAAU\n",
       "QZ7rRRUsI/8BHioDG1BoPqNQ6LkAAAAQAZ8KdEf/AcSKcBTrv3amqwAAAA8BnwxqR/8BxYABQjxE\n",
       "roEAAAAsQZsRSahBbJlMCGf//p4QAE91pscAVvyE/aEgPwV0cdDo3jcQ2aOHX2/zgpIAAAARQZ8v\n",
       "RRUsI/8BHioAMJMoTbAAAAAOAZ9OdEf/AcSKYswQrNsAAAAPAZ9Qakf/AcWAAUI8RK6AAAAAI0Gb\n",
       "VUmoQWyZTAhn//6eEABPdVokAK3mmKyqttqIZysSgsHTAAAAEUGfc0UVLCP/AR4qADCTKE2xAAAA\n",
       "DgGfknRH/wHEimLMEKzbAAAADwGflGpH/wHFgAFCPESugQAAACRBm5lJqEFsmUwIX//+jLAAUDX9\n",
       "yAF/tqMf9zV1uyrPlgrMI+AAAAARQZ+3RRUsI/8BHioAMJMoTbAAAAAOAZ/WdEf/AcSKYswQrNsA\n",
       "AAAPAZ/Yakf/AcWAAUI8RK6AAAAAIEGb3EmoQWyZTAhn//6eEABPXf2ufkABPkzBULVeUQMqAAAA\n",
       "EUGf+kUVLCP/AR4qADCTKE2xAAAAEAGeG2pH/wHFgA0GY1FXJqoAAABJQZoASahBbJlMCGf//p4Q\n",
       "AE91fzgCtUh03eYQZpnR1oOOEo2RGJhVGBKXFlfv3jMRQB2g6P/FuGZzzq9fbuerQZSOff86zRAy\n",
       "oQAAAB9Bnj5FFSwj/wEeKgMjTv1ABO2MYyU3TlWHjuIJ0CypAAAAGAGeXXRH/wHEinAl10ACbPtr\n",
       "HOIBBqTSYAAAABEBnl9qR/8BxYANBmNP8qzouQAAAClBmkRJqEFsmUwIZ//+nhAAT2TFU+4ABErK\n",
       "gMLNZhc6p2XXz9ZFHScFJAAAABNBnmJFFSwj/wEeKgMjKrHoZl0XAAAADgGegXRH/wHEimLMEKzb\n",
       "AAAAEAGeg2pH/wHFgA0MLainipMAAABCQZqISahBbJlMCGf//p4QAFGzj3ACuc3vbjJOUBFzeo+4\n",
       "DwsU8lwRD0KfBegqRp17HwTH/PzzuFOaexPYHr7yYKmAAAAAFEGepkUVLCP/AR4qAzYDDXFdD5nB\n",
       "AAAAEQGexXRH/wHEinBkx0PiezjOAAAADwGex2pH/wHFgAFCPESugQAAACJBmsxJqEFsmUwIZ//+\n",
       "nhAAT3WbgAEPrbL/ygbeA7flEDKgAAAAE0Ge6kUVLCP/AR4qAyMqsgnWEXEAAAAOAZ8JdEf/AcSK\n",
       "YswQrNsAAAAQAZ8Lakf/AcWADQZjUVcmqwAAACdBmxBJqEFsmUwIZ//+nhAAUaCBYqRYqAI7WqLs\n",
       "WkFgsUpzVtyYKmEAAAARQZ8uRRUsI/8BHioAMJMoTbAAAAAQAZ9NdEf/AcSKcB5Tv3UGLgAAAA8B\n",
       "n09qR/8BxYABQjxEroEAAAAfQZtUSahBbJlMCGf//p4QAFGzmUgBW/XhScMa25wUEAAAABNBn3JF\n",
       "FSwj/wEeKgM2DA9jrCLgAAAADgGfkXRH/wHEimLMEKzbAAAADwGfk2pH/wHFgAFCPESugQAAACJB\n",
       "m5hJqEFsmUwIZ//+nhAAT3KtcARKzu81rzk9ucV0nBSRAAAAE0GftkUVLCP/AR4qAyIMD/HsIuAA\n",
       "AAAQAZ/VdEf/AcSKcB5Tv3UGLgAAAA8Bn9dqR/8BxYABQjxEroEAAAATQZvcSahBbJlMCGf//p4Q\n",
       "AAAHTAAAABFBn/pFFSwj/wEeKgAwkyhNsAAAAA4Bnhl0R/8BxIpizBCs2wAAAA8BnhtqR/8BxYAB\n",
       "QjxEroAAAAA8QZoASahBbJlMCGf//p4QAE9zj3ADoG6aXIm5mGnSJWXagxDlDj/LwbkvIO94TbSN\n",
       "vKwlO5EvU03z8HdBAAAAFEGePkUVLCP/AR4qAyIFjl3RV4ZxAAAAEgGeXXRH/wHEim/v9wBEBbWk\n",
       "wAAAAA8Bnl9qR/8BxYABQjxEroEAAAAtQZpESahBbJlMCGf//p4QAE1Lg+1ACu/61qhxyniOmZWp\n",
       "mu4UcbBNDLCvLAz4AAAAE0GeYkUVLCP/AR4qAw5cEIHsIuEAAAAQAZ6BdEf/AcSKb85TwbUGLwAA\n",
       "AA8BnoNqR/8BxYABQjxEroAAAAA0QZqISahBbJlMCGf//p4QAE9ze8AEe6yL3qB/x/VZwNoXfEY+\n",
       "O35aJ8SAIoD6eMKpQOTBWwAAABNBnqZFFSwj/wEeKgMjKrIJ1hFxAAAAEAGexXRH/wHEim/OU8G1\n",
       "Bi4AAAARAZ7Hakf/AcWADQY/cO5riM8AAAA3QZrMSahBbJlMCF///oywAFAztWAHSNpyz96MTCTY\n",
       "FhlugTmkbJ+cZyaIvW+5Up7jXAwFgM0HzAAAAB5BnupFFSwj/wEeKgMh8bF7XgABw62/BQSa7o6M\n",
       "64EAAAARAZ8JdEf/AcSKcB5TvpqM6LkAAAAPAZ8Lakf/AcWAAUFKu0NtAAAAJEGbEEmoQWyZTAhf\n",
       "//6MsABOC2nYAWCi2wQR2zZJd1RZz5BbQQAAABNBny5FFSwj/wEeKgMOXBA1tJqTAAAAEAGfTXRH\n",
       "/wHEim/OU8G1Bi4AAAAPAZ9Pakf/AcWAAUI8RK6BAAAAH0GbVEmoQWyZTAhf//6MsABOWH8U4AP2\n",
       "UoWmlTz5BbQAAAATQZ9yRRUsI/8BHioDDlwQgewi4AAAABABn5F0R/8BxIpvzlPBtQYvAAAADwGf\n",
       "k2pH/wHFgAFCPESugQAAAC1Bm5ZJqEFsmUwUTC///oywAE4LfcgBHvUfDkcfWnTPI6extD+ddsP5\n",
       "39bZhJ0AAAARAZ+1akf/AcXvdl8AUIKtUmAAAAAmQZu4SeEKUmUwUsM//p4QAE1okumQAEZCpWTr\n",
       "TUDDVwRbGv5RAz4AAAAQAZ/Xakf/AE6hHLRIVncC2wAAAD9Bm9xJ4Q6JlMCGf/6eEACanJpwgpbY\n",
       "x/dbAARke+8tALxh4gYlD2dbff8+WxXNctYJX24QYYt3xhrCn6C0HdAAAAAXQZ/6RRU8I/8AMkU1\n",
       "0xAAXBe6wJHAtoAAAAAMAZ4ZdEf/AE+FyKHLAAAACwGeG2pH/wAAAwO6AAAANEGaAEmoQWiZTAhn\n",
       "//6eEABNNnHWmaPYAFeVP/ovqJ9lNOLSMVrYM06GSWJnsM5v9rknBU0AAAAPQZ4+RREsI/8AGPBn\n",
       "54ctAAAACwGeXXRH/wAAAwO6AAAACwGeX2pH/wAAAwO7AAAALEGaREmoQWyZTAhf//6MsABQM83g\n",
       "AcRQpnQbeuw23WDoRxiZ5uq6NwZSzCPgAAAAFkGeYkUVLCP/ABnbcUAHNpv6hm0gg4EAAAAMAZ6B\n",
       "dEf/ACj+jFG/AAAADAGeg2pH/wAo6gBDGgAAAC9BmohJqEFsmUwIX//+jLAAUBl3FXxdAAjI76l/\n",
       "HADXecAxQyp/Hv+6PXI6GdA9IAAAABBBnqZFFSwj/wAZcFhABGNBAAAADAGexXRH/wAo/oxRvwAA\n",
       "AAsBnsdqR/8AAAMDuwAAABNBmsxJqEFsmUwIX//+jLAAAAdUAAAADUGe6kUVLCP/AAADAl8AAAAL\n",
       "AZ8JdEf/AAADA7sAAAALAZ8Lakf/AAADA7sAAAAdQZsQSahBbJlMCFf//jhAAntlAgBbfXxvsIGg\n",
       "BZUAAAAPQZ8uRRUsI/8ANNMf8G1AAAAACwGfTXRH/wAAAwO6AAAACwGfT2pH/wAAAwO7AAAAH0Gb\n",
       "UUmoQWyZTAhX//44QAJ7ZQIAW4QwKsMP6zYCCRgAAAAqQZt0SeEKUmUwIR/94QAJqBEUAC4ufPXZ\n",
       "gmYxmNwrFblWrkKiWF0eMQGBAAAAFkGfkkU0TCP/ADTy7gALqNffA5j8G1EAAAALAZ+zakf/AAAD\n",
       "A7sAAAAbQZu1SahBaJlMCP/8hAAlnHRABMj/tVv9lYKTAAAVim1vb3YAAABsbXZoZAAAAAAAAAAA\n",
       "AAAAAAAAA+gAAB9AAAEAAAEAAAAAAAAAAAAAAAABAAAAAAAAAAAAAAAAAAAAAQAAAAAAAAAAAAAA\n",
       "AAAAQAAAAAAAAAAAAAAAAAAAAAAAAAAAAAAAAAAAAAAAAAIAABS0dHJhawAAAFx0a2hkAAAAAwAA\n",
       "AAAAAAAAAAAAAQAAAAAAAB9AAAAAAAAAAAAAAAAAAAAAAAABAAAAAAAAAAAAAAAAAAAAAQAAAAAA\n",
       "AAAAAAAAAAAAQAAAAAGwAAABIAAAAAAAJGVkdHMAAAAcZWxzdAAAAAAAAAABAAAfQAAAAgAAAQAA\n",
       "AAAULG1kaWEAAAAgbWRoZAAAAAAAAAAAAAAAAAAAMgAAAZAAVcQAAAAAAC1oZGxyAAAAAAAAAAB2\n",
       "aWRlAAAAAAAAAAAAAAAAVmlkZW9IYW5kbGVyAAAAE9dtaW5mAAAAFHZtaGQAAAABAAAAAAAAAAAA\n",
       "AAAkZGluZgAAABxkcmVmAAAAAAAAAAEAAAAMdXJsIAAAAAEAABOXc3RibAAAALNzdHNkAAAAAAAA\n",
       "AAEAAACjYXZjMQAAAAAAAAABAAAAAAAAAAAAAAAAAAAAAAGwASAASAAAAEgAAAAAAAAAAQAAAAAA\n",
       "AAAAAAAAAAAAAAAAAAAAAAAAAAAAAAAAAAAAABj//wAAADFhdmNDAWQAHv/hABhnZAAerNlBsJaE\n",
       "AAADAAQAAAMBkDxYtlgBAAZo6+PLIsAAAAAcdXVpZGtoQPJfJE/FujmlG88DI/MAAAAAAAAAGHN0\n",
       "dHMAAAAAAAAAAQAAAZAAAAEAAAAAGHN0c3MAAAAAAAAAAgAAAAEAAAD7AAAMKGN0dHMAAAAAAAAB\n",
       "gwAAAAEAAAIAAAAAAQAABQAAAAABAAACAAAAAAEAAAAAAAAAAQAAAQAAAAABAAACAAAAAAEAAAUA\n",
       "AAAAAQAAAgAAAAABAAAAAAAAAAEAAAEAAAAAAQAAAgAAAAABAAAFAAAAAAEAAAIAAAAAAQAAAAAA\n",
       "AAABAAABAAAAAAEAAAUAAAAAAQAAAgAAAAABAAAAAAAAAAEAAAEAAAAAAgAAAgAAAAABAAAEAAAA\n",
       "AAIAAAEAAAAAAQAABAAAAAACAAABAAAAAAEAAAUAAAAAAQAAAgAAAAABAAAAAAAAAAEAAAEAAAAA\n",
       "AQAABAAAAAACAAABAAAAAAEAAAMAAAAAAQAAAQAAAAABAAADAAAAAAEAAAEAAAAAAQAAAwAAAAAB\n",
       "AAABAAAAAAEAAAMAAAAAAQAAAQAAAAABAAAFAAAAAAEAAAIAAAAAAQAAAAAAAAABAAABAAAAAAEA\n",
       "AAUAAAAAAQAAAgAAAAABAAAAAAAAAAEAAAEAAAAAAQAABQAAAAABAAACAAAAAAEAAAAAAAAAAQAA\n",
       "AQAAAAABAAAFAAAAAAEAAAIAAAAAAQAAAAAAAAABAAABAAAAAAEAAAUAAAAAAQAAAgAAAAABAAAA\n",
       "AAAAAAEAAAEAAAAAAQAABQAAAAABAAACAAAAAAEAAAAAAAAAAQAAAQAAAAABAAAFAAAAAAEAAAIA\n",
       "AAAAAQAAAAAAAAABAAABAAAAAAEAAAMAAAAAAQAAAQAAAAABAAAFAAAAAAEAAAIAAAAAAQAAAAAA\n",
       "AAABAAABAAAAAAEAAAUAAAAAAQAAAgAAAAABAAAAAAAAAAEAAAEAAAAAAQAABQAAAAABAAACAAAA\n",
       "AAEAAAAAAAAAAQAAAQAAAAABAAAFAAAAAAEAAAIAAAAAAQAAAAAAAAABAAABAAAAAAEAAAUAAAAA\n",
       "AQAAAgAAAAABAAAAAAAAAAEAAAEAAAAAAQAABQAAAAABAAACAAAAAAEAAAAAAAAAAQAAAQAAAAAB\n",
       "AAADAAAAAAEAAAEAAAAAAQAABAAAAAACAAABAAAAAAEAAAUAAAAAAQAAAgAAAAABAAAAAAAAAAEA\n",
       "AAEAAAAAAQAABQAAAAABAAACAAAAAAEAAAAAAAAAAQAAAQAAAAABAAAFAAAAAAEAAAIAAAAAAQAA\n",
       "AAAAAAABAAABAAAAAAEAAAUAAAAAAQAAAgAAAAABAAAAAAAAAAEAAAEAAAAAAQAABQAAAAABAAAC\n",
       "AAAAAAEAAAAAAAAAAQAAAQAAAAABAAAFAAAAAAEAAAIAAAAAAQAAAAAAAAABAAABAAAAAAEAAAUA\n",
       "AAAAAQAAAgAAAAABAAAAAAAAAAEAAAEAAAAAAQAABAAAAAACAAABAAAAAAEAAAUAAAAAAQAAAgAA\n",
       "AAABAAAAAAAAAAEAAAEAAAAAAQAABQAAAAABAAACAAAAAAEAAAAAAAAAAQAAAQAAAAABAAAFAAAA\n",
       "AAEAAAIAAAAAAQAAAAAAAAABAAABAAAAAAEAAAIAAAAAAQAABQAAAAABAAACAAAAAAEAAAAAAAAA\n",
       "AQAAAQAAAAABAAAFAAAAAAEAAAIAAAAAAQAAAAAAAAABAAABAAAAAAEAAAUAAAAAAQAAAgAAAAAB\n",
       "AAAAAAAAAAEAAAEAAAAAAQAABQAAAAABAAACAAAAAAEAAAAAAAAAAQAAAQAAAAABAAAFAAAAAAEA\n",
       "AAIAAAAAAQAAAAAAAAABAAABAAAAAAEAAAQAAAAAAgAAAQAAAAABAAAEAAAAAAIAAAEAAAAAAQAA\n",
       "BQAAAAABAAACAAAAAAEAAAAAAAAAAQAAAQAAAAABAAAFAAAAAAEAAAIAAAAAAQAAAAAAAAABAAAB\n",
       "AAAAAAEAAAUAAAAAAQAAAgAAAAABAAAAAAAAAAEAAAEAAAAAAQAABAAAAAACAAABAAAAAAEAAAUA\n",
       "AAAAAQAAAgAAAAABAAAAAAAAAAEAAAEAAAAAAQAABQAAAAABAAACAAAAAAEAAAAAAAAAAQAAAQAA\n",
       "AAABAAACAAAAAAEAAAUAAAAAAQAAAgAAAAABAAAAAAAAAAEAAAEAAAAAAQAAAwAAAAABAAABAAAA\n",
       "AAEAAAUAAAAAAQAAAgAAAAABAAAAAAAAAAEAAAEAAAAAAQAABQAAAAABAAACAAAAAAEAAAAAAAAA\n",
       "AQAAAQAAAAABAAAFAAAAAAEAAAIAAAAAAQAAAAAAAAABAAABAAAAAAEAAAUAAAAAAQAAAgAAAAAB\n",
       "AAAAAAAAAAEAAAEAAAAAAQAABQAAAAABAAACAAAAAAEAAAAAAAAAAQAAAQAAAAABAAAFAAAAAAEA\n",
       "AAIAAAAAAQAAAAAAAAABAAABAAAAAAEAAAUAAAAAAQAAAgAAAAABAAAAAAAAAAEAAAEAAAAAAQAA\n",
       "BQAAAAABAAACAAAAAAEAAAAAAAAAAQAAAQAAAAABAAAFAAAAAAEAAAIAAAAAAQAAAAAAAAABAAAB\n",
       "AAAAAAEAAAUAAAAAAQAAAgAAAAABAAAAAAAAAAEAAAEAAAAAAQAABQAAAAABAAACAAAAAAEAAAAA\n",
       "AAAAAQAAAQAAAAABAAAFAAAAAAEAAAIAAAAAAQAAAAAAAAABAAABAAAAAAIAAAIAAAAAAQAABQAA\n",
       "AAABAAACAAAAAAEAAAAAAAAAAQAAAQAAAAABAAAFAAAAAAEAAAIAAAAAAQAAAAAAAAABAAABAAAA\n",
       "AAEAAAUAAAAAAQAAAgAAAAABAAAAAAAAAAEAAAEAAAAAAQAABQAAAAABAAACAAAAAAEAAAAAAAAA\n",
       "AQAAAQAAAAABAAAFAAAAAAEAAAIAAAAAAQAAAAAAAAABAAABAAAAAAEAAAUAAAAAAQAAAgAAAAAB\n",
       "AAAAAAAAAAEAAAEAAAAAAQAAAwAAAAABAAABAAAAAAEAAAQAAAAAAgAAAQAAAAABAAAFAAAAAAEA\n",
       "AAIAAAAAAQAAAAAAAAABAAABAAAAAAEAAAUAAAAAAQAAAgAAAAABAAAAAAAAAAEAAAEAAAAAAQAA\n",
       "BQAAAAABAAACAAAAAAEAAAAAAAAAAQAAAQAAAAABAAAFAAAAAAEAAAIAAAAAAQAAAAAAAAABAAAB\n",
       "AAAAAAEAAAUAAAAAAQAAAgAAAAABAAAAAAAAAAEAAAEAAAAAAQAABQAAAAABAAACAAAAAAEAAAAA\n",
       "AAAAAQAAAQAAAAABAAAFAAAAAAEAAAIAAAAAAQAAAAAAAAABAAABAAAAAAEAAAQAAAAAAgAAAQAA\n",
       "AAABAAAFAAAAAAEAAAIAAAAAAQAAAAAAAAABAAABAAAAAAEAAAUAAAAAAQAAAgAAAAABAAAAAAAA\n",
       "AAEAAAEAAAAAAQAABQAAAAABAAACAAAAAAEAAAAAAAAAAQAAAQAAAAABAAAFAAAAAAEAAAIAAAAA\n",
       "AQAAAAAAAAABAAABAAAAAAEAAAUAAAAAAQAAAgAAAAABAAAAAAAAAAEAAAEAAAAAAQAABQAAAAAB\n",
       "AAACAAAAAAEAAAAAAAAAAQAAAQAAAAABAAAFAAAAAAEAAAIAAAAAAQAAAAAAAAABAAABAAAAAAEA\n",
       "AAUAAAAAAQAAAgAAAAABAAAAAAAAAAEAAAEAAAAAAQAABQAAAAABAAACAAAAAAEAAAAAAAAAAQAA\n",
       "AQAAAAABAAAFAAAAAAEAAAIAAAAAAQAAAAAAAAABAAABAAAAAAEAAAUAAAAAAQAAAgAAAAABAAAA\n",
       "AAAAAAEAAAEAAAAAAQAABQAAAAABAAACAAAAAAEAAAAAAAAAAQAAAQAAAAABAAAFAAAAAAEAAAIA\n",
       "AAAAAQAAAAAAAAABAAABAAAAAAEAAAUAAAAAAQAAAgAAAAABAAAAAAAAAAEAAAEAAAAAAQAAAwAA\n",
       "AAABAAABAAAAAAEAAAMAAAAAAQAAAQAAAAABAAAFAAAAAAEAAAIAAAAAAQAAAAAAAAABAAABAAAA\n",
       "AAEAAAUAAAAAAQAAAgAAAAABAAAAAAAAAAEAAAEAAAAAAQAABQAAAAABAAACAAAAAAEAAAAAAAAA\n",
       "AQAAAQAAAAABAAAFAAAAAAEAAAIAAAAAAQAAAAAAAAABAAABAAAAAAEAAAUAAAAAAQAAAgAAAAAB\n",
       "AAAAAAAAAAEAAAEAAAAAAQAABQAAAAABAAACAAAAAAEAAAAAAAAAAQAAAQAAAAABAAACAAAAAAEA\n",
       "AAQAAAAAAgAAAQAAAAABAAACAAAAABxzdHNjAAAAAAAAAAEAAAABAAABkAAAAAEAAAZUc3RzegAA\n",
       "AAAAAAAAAAABkAAANQUAAALGAAAAXgAAAEgAAAA2AAAAhwAAALwAAAArAAAAIgAAACQAAABCAAAA\n",
       "dQAAACYAAAAiAAAAGQAAAFoAAAAbAAAAHgAAABsAAABBAAAAQQAAAJQAAAAmAAAAIAAAAHAAAAAc\n",
       "AAAAGwAAAFUAAAArAAAAHAAAABsAAABBAAAAJQAAACAAAABgAAAAGAAAAEIAAAAbAAAARQAAABYA\n",
       "AABWAAAAIQAAAIAAAAAkAAAAHQAAABQAAABFAAAAIAAAABAAAAAQAAAAQwAAAB8AAAAPAAAADwAA\n",
       "AFkAAAAhAAAAFAAAABMAAABRAAAAIAAAAA8AAAAYAAAAUQAAABkAAAAZAAAAEQAAAFcAAAAjAAAA\n",
       "HQAAABkAAAAuAAAAFwAAAD8AAAAgAAAAEQAAABkAAABAAAAAIAAAABIAAAARAAAARQAAACEAAAAT\n",
       "AAAAFAAAACQAAAAXAAAADwAAAA8AAAArAAAAFwAAABMAAAAPAAAAUwAAABsAAAAUAAAAGwAAAFcA\n",
       "AAAaAAAARAAAACIAAAAUAAAAZAAAACUAAAAaAAAAFgAAAFkAAAAaAAAAGwAAABUAAABRAAAAIQAA\n",
       "ABQAAAAbAAAAMQAAACAAAAAQAAAAEAAAADsAAAAiAAAAEAAAABAAAAA3AAAAFwAAABMAAAAVAAAA\n",
       "QwAAACIAAAAUAAAAFgAAAFoAAAAjAAAAGwAAAD4AAAAbAAAAFAAAABYAAABeAAAAJQAAABYAAAAc\n",
       "AAAAOgAAABsAAAAVAAAAFAAAAEgAAABGAAAAIwAAABYAAAAZAAAANQAAABkAAAAVAAAAFQAAAE4A\n",
       "AAAZAAAAFQAAABYAAABCAAAAIwAAABYAAAAcAAAAQgAAAB8AAAAZAAAAEAAAAFIAAAAaAAAAGgAA\n",
       "AFgAAAAoAAAAFgAAAEMAAAAbAAAAFwAAABwAAABAAAAAHAAAABMAAAASAAAAOwAAABcAAAAVAAAA\n",
       "EwAAADQAAAAXAAAAEgAAAEgAAAAiAAAAEAAAABoAAABzAAAALAAAABQAAAAQAAAALAAAADAAAAAc\n",
       "AAAAFAAAABAAAABJAAAAIwAAAFYAAAAhAAAAFAAAABIAAAA8AAAAHAAAABcAAAAaAAAARAAAACYA\n",
       "AAAQAAAAGQAAADMAAAAgAAAAFAAAABIAAAAxAAAAGAAAABgAAAAQAAAALAAAABcAAAATAAAAEAAA\n",
       "ADAAAAAhAAAAFAAAABIAAABKAAAAGgAAABQAAAAcAAAAOwAAACIAAAASAAAAGwAAAEQAAAAaAAAA\n",
       "FAAAABUAAABSAAAAJAAAABAAAAAWAAAAMQAAACEAAAAaAAAAEgAAAB8AAEHqAAAB9wAAADQAAAAp\n",
       "AAAAGAAAAEMAAAAdAAAAFgAAABkAAABOAAAAKAAAABgAAAAYAAAAOgAAABUAAAASAAAAFAAAAD4A\n",
       "AAAVAAAAEgAAABUAAABJAAAAIQAAABUAAAAXAAAAMgAAABMAAAA7AAAAGgAAABUAAABFAAAAIwAA\n",
       "ABkAAAAYAAAAawAAACIAAAAWAAAAFgAAAD8AAAAlAAAAGAAAABQAAAAvAAAAGAAAABQAAAATAAAA\n",
       "MAAAABUAAAASAAAAEwAAACcAAAAVAAAAEgAAABMAAAAoAAAAFQAAABIAAAATAAAAJAAAABUAAAAU\n",
       "AAAATQAAACMAAAAcAAAAFQAAAC0AAAAXAAAAEgAAABQAAABGAAAAGAAAABUAAAATAAAAJgAAABcA\n",
       "AAASAAAAFAAAACsAAAAVAAAAFAAAABMAAAAjAAAAFwAAABIAAAATAAAAJgAAABcAAAAUAAAAEwAA\n",
       "ABcAAAAVAAAAEgAAABMAAABAAAAAGAAAABYAAAATAAAAMQAAABcAAAAUAAAAEwAAADgAAAAXAAAA\n",
       "FAAAABUAAAA7AAAAIgAAABUAAAATAAAAKAAAABcAAAAUAAAAEwAAACMAAAAXAAAAFAAAABMAAAAx\n",
       "AAAAFQAAACoAAAAUAAAAQwAAABsAAAAQAAAADwAAADgAAAATAAAADwAAAA8AAAAwAAAAGgAAABAA\n",
       "AAAQAAAAMwAAABQAAAAQAAAADwAAABcAAAARAAAADwAAAA8AAAAhAAAAEwAAAA8AAAAPAAAAIwAA\n",
       "AC4AAAAaAAAADwAAAB8AAAAUc3RjbwAAAAAAAAABAAAALAAAAGJ1ZHRhAAAAWm1ldGEAAAAAAAAA\n",
       "IWhkbHIAAAAAAAAAAG1kaXJhcHBsAAAAAAAAAAAAAAAALWlsc3QAAAAlqXRvbwAAAB1kYXRhAAAA\n",
       "AQAAAABMYXZmNTcuODMuMTAw\n",
       "\">\n",
       "  Your browser does not support the video tag.\n",
       "</video>"
      ]
     },
     "metadata": {},
     "output_type": "display_data"
    }
   ],
   "source": [
    "plt.rcParams['animation.ffmpeg_path'] = '/usr/bin/ffmpeg'\n",
    "try:\n",
    "    display_html(HTML(anim.to_html5_video()))\n",
    "# In case the build-in renderers are unaviable, fall back to\n",
    "# a custom one, that doesn't require external libraries\n",
    "except (RuntimeError, KeyError):\n",
    "    anim.save(None, writer=matplotlib_utils.SimpleMovieWriter(0.001))"
   ]
  },
  {
   "cell_type": "markdown",
   "metadata": {},
   "source": [
    "# Logistic regression\n",
    "Your assignment is to implement the logistic regression\n",
    "\n",
    "Plan:\n",
    "* Use a shared variable for weights\n",
    "* Use a matrix placeholder for `X`\n",
    " \n",
    "We shall train on a two-class MNIST dataset\n",
    "* please note that target `y` are `{0,1}` and not `{-1,1}` as in some formulae"
   ]
  },
  {
   "cell_type": "code",
   "execution_count": 34,
   "metadata": {},
   "outputs": [
    {
     "name": "stdout",
     "output_type": "stream",
     "text": [
      "y [shape - (360,)]: [0 1 0 1 0 1 0 0 1 1]\n",
      "X [shape - (360, 64)]:\n"
     ]
    }
   ],
   "source": [
    "from sklearn.datasets import load_digits\n",
    "mnist = load_digits(2)\n",
    "\n",
    "X, y = mnist.data, mnist.target\n",
    "\n",
    "print(\"y [shape - %s]:\" % (str(y.shape)), y[:10])\n",
    "print(\"X [shape - %s]:\" % (str(X.shape)))"
   ]
  },
  {
   "cell_type": "code",
   "execution_count": 45,
   "metadata": {},
   "outputs": [
    {
     "name": "stdout",
     "output_type": "stream",
     "text": [
      "X:\n",
      " [[ 0.  0.  5. 13.  9.  1.  0.  0.  0.  0.]\n",
      " [ 0.  0.  0. 12. 13.  5.  0.  0.  0.  0.]\n",
      " [ 0.  0.  1.  9. 15. 11.  0.  0.  0.  0.]]\n",
      "y:\n",
      " [0 1 0 1 0 1 0 0 1 1]\n"
     ]
    },
    {
     "data": {
      "image/png": "[encoded data removed]",
      "text/plain": [
       "<Figure size 432x288 with 1 Axes>"
      ]
     },
     "metadata": {
      "needs_background": "light"
     },
     "output_type": "display_data"
    }
   ],
   "source": [
    "print('X:\\n',X[:3,:10])\n",
    "print('y:\\n',y[:10])\n",
    "plt.imshow(X[7].reshape([8,8]));"
   ]
  },
  {
   "cell_type": "markdown",
   "metadata": {},
   "source": [
    "It's your turn now!\n",
    "Just a small reminder of the relevant math:\n",
    "\n",
    "$$\n",
    "P(y=1|X) = \\sigma(X \\cdot W + b)\n",
    "$$\n",
    "$$\n",
    "\\text{loss} = -\\log\\left(P\\left(y_\\text{predicted} = 1\\right)\\right)\\cdot y_\\text{true} - \\log\\left(1 - P\\left(y_\\text{predicted} = 1\\right)\\right)\\cdot\\left(1 - y_\\text{true}\\right)\n",
    "$$\n",
    "\n",
    "$\\sigma(x)$ is available via `tf.nn.sigmoid` and matrix multiplication via `tf.matmul`"
   ]
  },
  {
   "cell_type": "code",
   "execution_count": 46,
   "metadata": {},
   "outputs": [],
   "source": [
    "from sklearn.model_selection import train_test_split\n",
    "X_train, X_test, y_train, y_test = train_test_split(\n",
    "    X, y, random_state=42)"
   ]
  },
  {
   "cell_type": "markdown",
   "metadata": {},
   "source": [
    "__Your code goes here.__ For the training and testing scaffolding to work, please stick to the names in comments."
   ]
  },
  {
   "cell_type": "code",
   "execution_count": 128,
   "metadata": {
    "collapsed": true
   },
   "outputs": [],
   "source": [
    "# Model parameters - weights and bias\n",
    "# weights = tf.Variable(...) shape should be (X.shape[1], 1)\n",
    "# b = tf.Variable(...)\n",
    "\n",
    "weights = tf.Variable(np.zeros((X.shape[1], 1), dtype='float32'))\n",
    "b = tf.Variable(np.zeros(None), dtype='float32')"
   ]
  },
  {
   "cell_type": "code",
   "execution_count": 129,
   "metadata": {
    "collapsed": true
   },
   "outputs": [],
   "source": [
    "# Placeholders for the input data\n",
    "# input_X = tf.placeholder(...)\n",
    "# input_y = tf.placeholder(...)\n",
    "\n",
    "input_X = tf.placeholder(\"float32\", shape=(None, X.shape[1]), name=\"input_X\")\n",
    "input_y = tf.placeholder(\"float32\", shape=(None,), name=\"input_y\")"
   ]
  },
  {
   "cell_type": "code",
   "execution_count": 130,
   "metadata": {
    "collapsed": true
   },
   "outputs": [],
   "source": [
    "# The model code\n",
    "\n",
    "# Compute a vector of predictions, resulting shape should be [input_X.shape[0],]\n",
    "# This is 1D, if you have extra dimensions, you can  get rid of them with tf.squeeze .\n",
    "# Don't forget the sigmoid.\n",
    "# predicted_y = <predicted probabilities for input_X>\n",
    "\n",
    "predicted_y = tf.squeeze(tf.sigmoid(input_X @ weights + b))\n",
    "\n",
    "# Loss. Should be a scalar number - average loss over all the objects\n",
    "# tf.reduce_mean is your friend here\n",
    "# loss = <logistic loss (scalar, mean over sample)>\n",
    "loss = tf.reduce_mean(-tf.log(predicted_y) * input_y - tf.log(1 - predicted_y) * (1 - input_y))\n",
    "\n",
    "# See above for an example. tf.train.*Optimizer\n",
    "# optimizer = <optimizer that minimizes loss>\n",
    "optimizer = tf.train.MomentumOptimizer(0.01, 0.5).minimize(loss, var_list=[weights, b])"
   ]
  },
  {
   "cell_type": "markdown",
   "metadata": {},
   "source": [
    "A test to help with the debugging"
   ]
  },
  {
   "cell_type": "code",
   "execution_count": 134,
   "metadata": {
    "collapsed": true
   },
   "outputs": [],
   "source": [
    "validation_weights = 1e-3 * np.fromiter(map(lambda x:\n",
    "        s.run(weird_psychotic_function, {my_scalar:x, my_vector:[1, 0.1, 2]}),\n",
    "                                   0.15 * np.arange(1, X.shape[1] + 1)),\n",
    "                                   count=X.shape[1], dtype=np.float32)[:, np.newaxis]\n",
    "\n",
    "# Compute predictions for given weights and bias\n",
    "prediction_validation = s.run(\n",
    "    predicted_y, {\n",
    "    input_X: X,\n",
    "    weights: validation_weights,\n",
    "    b: 1e-1})\n",
    "\n",
    "#prediction_validation = prediction_validation.flatten()\n",
    "\n",
    "# Load the reference values for the predictions\n",
    "validation_true_values = np.loadtxt(\"validation_predictons.txt\")\n",
    "\n",
    "assert prediction_validation.shape == (X.shape[0],),\\\n",
    "       \"Predictions must be a 1D array with length equal to the number \" \\\n",
    "       \"of examples in input_X\"\n",
    "assert np.allclose(validation_true_values, prediction_validation)\n",
    "loss_validation = s.run(\n",
    "        loss, {\n",
    "            input_X: X[:100],\n",
    "            input_y: y[-100:],\n",
    "            weights: validation_weights+1.21e-3,\n",
    "            b: -1e-1})\n",
    "assert np.allclose(loss_validation, 0.728689)"
   ]
  },
  {
   "cell_type": "code",
   "execution_count": 135,
   "metadata": {},
   "outputs": [
    {
     "name": "stdout",
     "output_type": "stream",
     "text": [
      "loss at iter 0:0.1252\n",
      "train auc: 0.9999451032059727\n",
      "test auc: 1.0\n",
      "loss at iter 1:0.0450\n",
      "train auc: 1.0\n",
      "test auc: 1.0\n",
      "loss at iter 2:0.0269\n",
      "train auc: 1.0\n",
      "test auc: 1.0\n",
      "loss at iter 3:0.0200\n",
      "train auc: 1.0\n",
      "test auc: 1.0\n",
      "loss at iter 4:0.0169\n",
      "train auc: 1.0\n",
      "test auc: 1.0\n"
     ]
    }
   ],
   "source": [
    "from sklearn.metrics import roc_auc_score\n",
    "s.run(tf.global_variables_initializer())\n",
    "for i in range(5):\n",
    "    s.run(optimizer, {input_X: X_train, input_y: y_train})\n",
    "    loss_i = s.run(loss, {input_X: X_train, input_y: y_train})\n",
    "    print(\"loss at iter %i:%.4f\" % (i, loss_i))\n",
    "    print(\"train auc:\", roc_auc_score(y_train, s.run(predicted_y, {input_X:X_train})))\n",
    "    print(\"test auc:\", roc_auc_score(y_test, s.run(predicted_y, {input_X:X_test})))"
   ]
  },
  {
   "cell_type": "markdown",
   "metadata": {},
   "source": [
    "### Coursera submission"
   ]
  },
  {
   "cell_type": "code",
   "execution_count": 136,
   "metadata": {
    "collapsed": true
   },
   "outputs": [],
   "source": [
    "grade_submitter = grading.Grader(\"BJCiiY8sEeeCnhKCj4fcOA\")"
   ]
  },
  {
   "cell_type": "code",
   "execution_count": 137,
   "metadata": {
    "collapsed": true
   },
   "outputs": [],
   "source": [
    "test_weights = 1e-3 * np.fromiter(map(lambda x:\n",
    "    s.run(weird_psychotic_function, {my_scalar:x, my_vector:[1, 2, 3]}),\n",
    "                               0.1 * np.arange(1, X.shape[1] + 1)),\n",
    "                               count=X.shape[1], dtype=np.float32)[:, np.newaxis]"
   ]
  },
  {
   "cell_type": "markdown",
   "metadata": {},
   "source": [
    "First, test prediction and loss computation. This part doesn't require a fitted model."
   ]
  },
  {
   "cell_type": "code",
   "execution_count": 138,
   "metadata": {
    "collapsed": true
   },
   "outputs": [],
   "source": [
    "prediction_test = s.run(\n",
    "    predicted_y, {\n",
    "    input_X: X,\n",
    "    weights: test_weights,\n",
    "    b: 1e-1})"
   ]
  },
  {
   "cell_type": "code",
   "execution_count": 139,
   "metadata": {
    "collapsed": true
   },
   "outputs": [],
   "source": [
    "assert prediction_test.shape == (X.shape[0],),\\\n",
    "       \"Predictions must be a 1D array with length equal to the number \" \\\n",
    "       \"of examples in X_test\""
   ]
  },
  {
   "cell_type": "code",
   "execution_count": 140,
   "metadata": {
    "collapsed": true
   },
   "outputs": [],
   "source": [
    "grade_submitter.set_answer(\"0ENlN\", prediction_test)"
   ]
  },
  {
   "cell_type": "code",
   "execution_count": 141,
   "metadata": {
    "collapsed": true
   },
   "outputs": [],
   "source": [
    "loss_test = s.run(\n",
    "    loss, {\n",
    "        input_X: X[:100],\n",
    "        input_y: y[-100:],\n",
    "        weights: test_weights+1.21e-3,\n",
    "        b: -1e-1})\n",
    "# Yes, the X/y indices mistmach is intentional"
   ]
  },
  {
   "cell_type": "code",
   "execution_count": 142,
   "metadata": {
    "collapsed": true
   },
   "outputs": [],
   "source": [
    "grade_submitter.set_answer(\"mMVpM\", loss_test)"
   ]
  },
  {
   "cell_type": "code",
   "execution_count": 143,
   "metadata": {
    "collapsed": true
   },
   "outputs": [],
   "source": [
    "grade_submitter.set_answer(\"D16Rc\", roc_auc_score(y_test, s.run(predicted_y, {input_X:X_test})))"
   ]
  },
  {
   "cell_type": "markdown",
   "metadata": {},
   "source": [
    "Please use the credentials obtained from the Coursera assignment page."
   ]
  },
  {
   "cell_type": "code",
   "execution_count": null,
   "metadata": {},
   "outputs": [],
   "source": [
    "grade_submitter.submit(<email>, <token>)"
   ]
  }
 ],
 "metadata": {
  "kernelspec": {
   "display_name": "Python 3",
   "language": "python",
   "name": "python3"
  },
  "language_info": {
   "codemirror_mode": {
    "name": "ipython",
    "version": 3
   },
   "file_extension": ".py",
   "mimetype": "text/x-python",
   "name": "python",
   "nbconvert_exporter": "python",
   "pygments_lexer": "ipython3",
   "version": "3.7.4"
  }
 },
 "nbformat": 4,
 "nbformat_minor": 2
}
