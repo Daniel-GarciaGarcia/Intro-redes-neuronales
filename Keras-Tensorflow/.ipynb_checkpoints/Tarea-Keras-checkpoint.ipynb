{
 "cells": [
  {
   "cell_type": "markdown",
   "metadata": {},
   "source": [
    "# Keras\n",
    "* Tensorflow es una herramienta potente y flexible, pero programar grandes redes con Tensorflow puede ser tedioso.\n",
    "* Hay muchos paquetes de aprendizaje profundo que funcionan sobre Tensorflow, como Slim, TFLearn, Sonnet, Keras.\n",
    "* La elección depende del gusto del desarrollador y de la tarea.\n",
    "* Nosotros usaremos Keras."
   ]
  },
  {
   "cell_type": "code",
   "execution_count": 6,
   "metadata": {},
   "outputs": [
    {
     "data": {
      "application/vnd.jupyter.widget-view+json": {
       "model_id": "9591d7bf5e204948832fadfddf8d4370",
       "version_major": 2,
       "version_minor": 0
      },
      "text/plain": [
       "HBox(children=(IntProgress(value=0, max=87910968), HTML(value='')))"
      ]
     },
     "metadata": {},
     "output_type": "display_data"
    },
    {
     "name": "stdout",
     "output_type": "stream",
     "text": [
      "\n"
     ]
    },
    {
     "data": {
      "application/vnd.jupyter.widget-view+json": {
       "model_id": "e772f684b1104723ab210dec7f09cad8",
       "version_major": 2,
       "version_minor": 0
      },
      "text/plain": [
       "HBox(children=(IntProgress(value=0, max=170498071), HTML(value='')))"
      ]
     },
     "metadata": {},
     "output_type": "display_data"
    },
    {
     "name": "stdout",
     "output_type": "stream",
     "text": [
      "\n"
     ]
    },
    {
     "data": {
      "application/vnd.jupyter.widget-view+json": {
       "model_id": "474e01934f5540dc9a7b7577bfd08e18",
       "version_major": 2,
       "version_minor": 0
      },
      "text/plain": [
       "HBox(children=(IntProgress(value=0, max=11490434), HTML(value='')))"
      ]
     },
     "metadata": {},
     "output_type": "display_data"
    },
    {
     "name": "stdout",
     "output_type": "stream",
     "text": [
      "\n",
      "realpath: '../readonly/keras/datasets/*': No existe el archivo o el directorio\n",
      "ln: fallo al crear el enlace simbólico './datasets': El archivo ya existe\n",
      "realpath: '../readonly/keras/models/*': No existe el archivo o el directorio\n",
      "ln: fallo al crear el enlace simbólico './models': El archivo ya existe\n"
     ]
    }
   ],
   "source": [
    "# se usan datasets y modelos precargardos en keras\n",
    "import download_utils\n",
    "download_utils.download_all_keras_resources(\"readonly/keras/models\", \"readonly/keras/datasets\")\n",
    "! mkdir -p ~/.keras/datasets\n",
    "! mkdir -p ~/.keras/models\n",
    "! ln -s $(realpath ../readonly/keras/datasets/*) ~/.keras/datasets/\n",
    "! ln -s $(realpath ../readonly/keras/models/*) ~/.keras/models/"
   ]
  },
  {
   "cell_type": "code",
   "execution_count": 9,
   "metadata": {},
   "outputs": [],
   "source": [
    "import warnings \n",
    "warnings.filterwarnings('ignore')\n",
    "import numpy as np\n",
    "from preprocessed_mnist import load_dataset\n",
    "import keras\n",
    "X_train, y_train, X_val, y_val, X_test, y_test = load_dataset()\n",
    "y_train,y_val,y_test = map(keras.utils.np_utils.to_categorical,[y_train,y_val,y_test])"
   ]
  },
  {
   "cell_type": "code",
   "execution_count": 10,
   "metadata": {
    "scrolled": true
   },
   "outputs": [
    {
     "data": {
      "image/png": "[encoded data removed]",
      "text/plain": [
       "<Figure size 432x288 with 1 Axes>"
      ]
     },
     "metadata": {
      "needs_background": "light"
     },
     "output_type": "display_data"
    }
   ],
   "source": [
    "import matplotlib.pyplot as plt\n",
    "%matplotlib inline\n",
    "plt.imshow(X_train[0]);"
   ]
  },
  {
   "cell_type": "markdown",
   "metadata": {},
   "source": [
    "## Red con keras"
   ]
  },
  {
   "cell_type": "code",
   "execution_count": 12,
   "metadata": {},
   "outputs": [],
   "source": [
    "import tensorflow as tf\n",
    "from keras_utils import reset_tf_session\n",
    "s = reset_tf_session()"
   ]
  },
  {
   "cell_type": "code",
   "execution_count": 19,
   "metadata": {},
   "outputs": [],
   "source": [
    "import keras\n",
    "from keras.models import Sequential\n",
    "from keras.utils.multi_gpu_utils import multi_gpu_model\n",
    "import keras.layers as ll\n",
    "\n",
    "modelo = Sequential(name=\"mlp\")   # perceptron multicapa\n",
    "\n",
    "modelo.add(ll.InputLayer([28, 28]))\n",
    "\n",
    "modelo.add(ll.Flatten())\n",
    "\n",
    "# cuerpo de la red\n",
    "modelo.add(ll.Dense(25))\n",
    "modelo.add(ll.Activation('linear'))\n",
    "\n",
    "modelo.add(ll.Dense(25))\n",
    "modelo.add(ll.Activation('linear'))\n",
    "\n",
    "# capa de salida: 10 neuronas para cada clase con sigmoide (softmax)\n",
    "modelo.add(ll.Dense(10, activation='softmax'))\n",
    "\n",
    "# categorical_crossentropy es la entropia cruzada de toda la vida\n",
    "# pero aplicada a vectores con one hot encoding\n",
    "modelo.compile(\"adam\", \"categorical_crossentropy\", metrics=[\"accuracy\"])\n",
    "\n",
    "#modelo_multi = keras.utils.multi_gpu_model(model, gpus=1, cpu_merge=True, cpu_relocation=False)\n",
    "#modelo_multi.compile(\"adam\", \"categorical_crossentropy\", metrics=[\"accuracy\"])"
   ]
  },
  {
   "cell_type": "code",
   "execution_count": 20,
   "metadata": {},
   "outputs": [
    {
     "name": "stdout",
     "output_type": "stream",
     "text": [
      "_________________________________________________________________\n",
      "Layer (type)                 Output Shape              Param #   \n",
      "=================================================================\n",
      "flatten_4 (Flatten)          (None, 784)               0         \n",
      "_________________________________________________________________\n",
      "dense_10 (Dense)             (None, 25)                19625     \n",
      "_________________________________________________________________\n",
      "activation_7 (Activation)    (None, 25)                0         \n",
      "_________________________________________________________________\n",
      "dense_11 (Dense)             (None, 25)                650       \n",
      "_________________________________________________________________\n",
      "activation_8 (Activation)    (None, 25)                0         \n",
      "_________________________________________________________________\n",
      "dense_12 (Dense)             (None, 10)                260       \n",
      "=================================================================\n",
      "Total params: 20,535\n",
      "Trainable params: 20,535\n",
      "Non-trainable params: 0\n",
      "_________________________________________________________________\n"
     ]
    }
   ],
   "source": [
    "modelo.summary()"
   ]
  },
  {
   "cell_type": "markdown",
   "metadata": {},
   "source": [
    "### Interfaz del modelo\n",
    "\n",
    "Los modelos de Keras funcionan con la interfaz de __Scikit-learn__ usando fit/predict con algunas extensiones. Veamoslo."
   ]
  },
  {
   "cell_type": "code",
   "execution_count": null,
   "metadata": {},
   "outputs": [
    {
     "name": "stdout",
     "output_type": "stream",
     "text": [
      "Train on 50000 samples, validate on 10000 samples\n",
      "Epoch 1/100\n",
      "50000/50000 [==============================] - 7s 147us/step - loss: 0.2404 - acc: 0.9322 - val_loss: 0.2725 - val_acc: 0.9281\n",
      "Epoch 2/100\n",
      "50000/50000 [==============================] - 7s 146us/step - loss: 0.2388 - acc: 0.9329 - val_loss: 0.2803 - val_acc: 0.9260\n",
      "Epoch 3/100\n",
      "50000/50000 [==============================] - 7s 141us/step - loss: 0.2391 - acc: 0.9319 - val_loss: 0.2770 - val_acc: 0.9253\n",
      "Epoch 4/100\n",
      "50000/50000 [==============================] - 7s 144us/step - loss: 0.2385 - acc: 0.9321 - val_loss: 0.2765 - val_acc: 0.9256\n",
      "Epoch 5/100\n",
      "50000/50000 [==============================] - 7s 148us/step - loss: 0.2382 - acc: 0.9330 - val_loss: 0.2835 - val_acc: 0.9238\n",
      "Epoch 6/100\n",
      "50000/50000 [==============================] - 7s 141us/step - loss: 0.2378 - acc: 0.9318 - val_loss: 0.2732 - val_acc: 0.9273\n",
      "Epoch 7/100\n",
      "50000/50000 [==============================] - 8s 154us/step - loss: 0.2368 - acc: 0.9332 - val_loss: 0.2810 - val_acc: 0.9252\n",
      "Epoch 8/100\n",
      "50000/50000 [==============================] - 8s 161us/step - loss: 0.2373 - acc: 0.9329 - val_loss: 0.2783 - val_acc: 0.9275\n",
      "Epoch 9/100\n",
      "50000/50000 [==============================] - 8s 162us/step - loss: 0.2373 - acc: 0.9330 - val_loss: 0.2761 - val_acc: 0.9281\n",
      "Epoch 10/100\n",
      "50000/50000 [==============================] - 8s 162us/step - loss: 0.2368 - acc: 0.9327 - val_loss: 0.2746 - val_acc: 0.9283\n",
      "Epoch 11/100\n",
      "50000/50000 [==============================] - 7s 148us/step - loss: 0.2362 - acc: 0.9329 - val_loss: 0.2766 - val_acc: 0.9289\n",
      "Epoch 12/100\n",
      "50000/50000 [==============================] - 7s 148us/step - loss: 0.2354 - acc: 0.9330 - val_loss: 0.2828 - val_acc: 0.9251\n",
      "Epoch 13/100\n",
      "50000/50000 [==============================] - 8s 168us/step - loss: 0.2354 - acc: 0.9334 - val_loss: 0.2781 - val_acc: 0.9260\n",
      "Epoch 14/100\n",
      "50000/50000 [==============================] - 8s 156us/step - loss: 0.2363 - acc: 0.9336 - val_loss: 0.2782 - val_acc: 0.9275\n",
      "Epoch 15/100\n",
      "50000/50000 [==============================] - 8s 164us/step - loss: 0.2357 - acc: 0.9327 - val_loss: 0.2888 - val_acc: 0.9239\n",
      "Epoch 16/100\n",
      "50000/50000 [==============================] - 8s 160us/step - loss: 0.2351 - acc: 0.9326 - val_loss: 0.2870 - val_acc: 0.9239\n",
      "Epoch 17/100\n",
      "50000/50000 [==============================] - 8s 162us/step - loss: 0.2350 - acc: 0.9329 - val_loss: 0.2793 - val_acc: 0.9276\n",
      "Epoch 18/100\n",
      "50000/50000 [==============================] - 8s 163us/step - loss: 0.2347 - acc: 0.9340 - val_loss: 0.2742 - val_acc: 0.9289\n",
      "Epoch 19/100\n",
      "50000/50000 [==============================] - 8s 162us/step - loss: 0.2345 - acc: 0.9331 - val_loss: 0.2874 - val_acc: 0.9253\n",
      "Epoch 20/100\n",
      "50000/50000 [==============================] - 8s 157us/step - loss: 0.2346 - acc: 0.9333 - val_loss: 0.2794 - val_acc: 0.9266\n",
      "Epoch 21/100\n",
      "50000/50000 [==============================] - 7s 147us/step - loss: 0.2354 - acc: 0.9330 - val_loss: 0.2776 - val_acc: 0.9268\n",
      "Epoch 22/100\n",
      "50000/50000 [==============================] - 7s 145us/step - loss: 0.2330 - acc: 0.9333 - val_loss: 0.2778 - val_acc: 0.9286\n",
      "Epoch 23/100\n",
      "50000/50000 [==============================] - 8s 157us/step - loss: 0.2351 - acc: 0.9330 - val_loss: 0.2839 - val_acc: 0.9241\n",
      "Epoch 24/100\n",
      "50000/50000 [==============================] - 8s 164us/step - loss: 0.2337 - acc: 0.9345 - val_loss: 0.2856 - val_acc: 0.9247\n",
      "Epoch 25/100\n",
      "50000/50000 [==============================] - 8s 164us/step - loss: 0.2339 - acc: 0.9337 - val_loss: 0.2776 - val_acc: 0.9281\n",
      "Epoch 26/100\n",
      "50000/50000 [==============================] - 8s 162us/step - loss: 0.2333 - acc: 0.9330 - val_loss: 0.2801 - val_acc: 0.9280\n",
      "Epoch 27/100\n",
      "50000/50000 [==============================] - 8s 164us/step - loss: 0.2329 - acc: 0.9332 - val_loss: 0.2874 - val_acc: 0.9259\n",
      "Epoch 28/100\n",
      "50000/50000 [==============================] - 8s 165us/step - loss: 0.2332 - acc: 0.9328 - val_loss: 0.2780 - val_acc: 0.9279\n",
      "Epoch 29/100\n",
      "50000/50000 [==============================] - 8s 162us/step - loss: 0.2333 - acc: 0.9338 - val_loss: 0.2834 - val_acc: 0.9261\n",
      "Epoch 30/100\n",
      "50000/50000 [==============================] - 8s 162us/step - loss: 0.2333 - acc: 0.9338 - val_loss: 0.2863 - val_acc: 0.9258\n",
      "Epoch 31/100\n",
      "50000/50000 [==============================] - 8s 163us/step - loss: 0.2328 - acc: 0.9339 - val_loss: 0.2773 - val_acc: 0.9285\n",
      "Epoch 32/100\n",
      "50000/50000 [==============================] - 8s 166us/step - loss: 0.2321 - acc: 0.9342 - val_loss: 0.2807 - val_acc: 0.9271\n",
      "Epoch 33/100\n",
      "50000/50000 [==============================] - 8s 164us/step - loss: 0.2318 - acc: 0.9340 - val_loss: 0.2859 - val_acc: 0.9258\n",
      "Epoch 34/100\n",
      "50000/50000 [==============================] - 8s 169us/step - loss: 0.2329 - acc: 0.9339 - val_loss: 0.2881 - val_acc: 0.9237\n",
      "Epoch 35/100\n",
      "50000/50000 [==============================] - 8s 159us/step - loss: 0.2309 - acc: 0.9335 - val_loss: 0.2883 - val_acc: 0.9244\n",
      "Epoch 36/100\n",
      "50000/50000 [==============================] - 8s 166us/step - loss: 0.2317 - acc: 0.9340 - val_loss: 0.2889 - val_acc: 0.9227\n",
      "Epoch 37/100\n",
      "50000/50000 [==============================] - 8s 163us/step - loss: 0.2320 - acc: 0.9342 - val_loss: 0.2832 - val_acc: 0.9266\n",
      "Epoch 38/100\n",
      "50000/50000 [==============================] - 8s 162us/step - loss: 0.2310 - acc: 0.9338 - val_loss: 0.2782 - val_acc: 0.9290\n",
      "Epoch 39/100\n",
      "50000/50000 [==============================] - 8s 164us/step - loss: 0.2312 - acc: 0.9347 - val_loss: 0.2859 - val_acc: 0.9265\n",
      "Epoch 40/100\n",
      "50000/50000 [==============================] - 8s 162us/step - loss: 0.2312 - acc: 0.9334 - val_loss: 0.2805 - val_acc: 0.9275\n",
      "Epoch 41/100\n",
      "50000/50000 [==============================] - 8s 158us/step - loss: 0.2315 - acc: 0.9342 - val_loss: 0.2814 - val_acc: 0.9262\n",
      "Epoch 42/100\n",
      "50000/50000 [==============================] - 10s 192us/step - loss: 0.2309 - acc: 0.9341 - val_loss: 0.2810 - val_acc: 0.9266\n",
      "Epoch 43/100\n",
      "50000/50000 [==============================] - 11s 224us/step - loss: 0.2306 - acc: 0.9350 - val_loss: 0.2756 - val_acc: 0.9287\n",
      "Epoch 44/100\n",
      "50000/50000 [==============================] - 11s 215us/step - loss: 0.2306 - acc: 0.9345 - val_loss: 0.2897 - val_acc: 0.9221\n",
      "Epoch 45/100\n",
      "50000/50000 [==============================] - 11s 218us/step - loss: 0.2302 - acc: 0.9351 - val_loss: 0.2838 - val_acc: 0.9251\n",
      "Epoch 46/100\n",
      "50000/50000 [==============================] - 11s 218us/step - loss: 0.2299 - acc: 0.9346 - val_loss: 0.2801 - val_acc: 0.9264\n",
      "Epoch 47/100\n",
      "50000/50000 [==============================] - 11s 214us/step - loss: 0.2314 - acc: 0.9340 - val_loss: 0.2839 - val_acc: 0.9258\n",
      "Epoch 48/100\n",
      "50000/50000 [==============================] - 10s 209us/step - loss: 0.2300 - acc: 0.9352 - val_loss: 0.2862 - val_acc: 0.9253\n",
      "Epoch 49/100\n",
      "50000/50000 [==============================] - 11s 218us/step - loss: 0.2298 - acc: 0.9342 - val_loss: 0.2786 - val_acc: 0.9286\n",
      "Epoch 50/100\n",
      "50000/50000 [==============================] - 11s 214us/step - loss: 0.2296 - acc: 0.9349 - val_loss: 0.2809 - val_acc: 0.9266\n",
      "Epoch 51/100\n",
      "50000/50000 [==============================] - 11s 210us/step - loss: 0.2295 - acc: 0.9346 - val_loss: 0.2911 - val_acc: 0.9249\n",
      "Epoch 52/100\n",
      "50000/50000 [==============================] - 10s 208us/step - loss: 0.2311 - acc: 0.9350 - val_loss: 0.2853 - val_acc: 0.9244\n",
      "Epoch 53/100\n",
      "50000/50000 [==============================] - 10s 201us/step - loss: 0.2300 - acc: 0.9339 - val_loss: 0.2849 - val_acc: 0.9249\n",
      "Epoch 54/100\n",
      "50000/50000 [==============================] - 10s 209us/step - loss: 0.2302 - acc: 0.9351 - val_loss: 0.2814 - val_acc: 0.9247\n",
      "Epoch 55/100\n",
      "50000/50000 [==============================] - 10s 210us/step - loss: 0.2293 - acc: 0.9342 - val_loss: 0.2840 - val_acc: 0.9254\n",
      "Epoch 56/100\n",
      "50000/50000 [==============================] - 11s 215us/step - loss: 0.2285 - acc: 0.9350 - val_loss: 0.2878 - val_acc: 0.9237\n",
      "Epoch 57/100\n",
      "50000/50000 [==============================] - 11s 216us/step - loss: 0.2295 - acc: 0.9351 - val_loss: 0.2920 - val_acc: 0.9235\n",
      "Epoch 58/100\n",
      "50000/50000 [==============================] - 11s 212us/step - loss: 0.2285 - acc: 0.9353 - val_loss: 0.2915 - val_acc: 0.9240\n",
      "Epoch 59/100\n"
     ]
    },
    {
     "name": "stdout",
     "output_type": "stream",
     "text": [
      "50000/50000 [==============================] - 10s 200us/step - loss: 0.2290 - acc: 0.9345 - val_loss: 0.2851 - val_acc: 0.9244\n",
      "Epoch 60/100\n",
      "50000/50000 [==============================] - 10s 190us/step - loss: 0.2282 - acc: 0.9342 - val_loss: 0.2957 - val_acc: 0.9198\n",
      "Epoch 61/100\n",
      "50000/50000 [==============================] - 8s 163us/step - loss: 0.2286 - acc: 0.9340 - val_loss: 0.2807 - val_acc: 0.9282\n",
      "Epoch 62/100\n",
      " 1088/50000 [..............................] - ETA: 7s - loss: 0.2092 - acc: 0.9384"
     ]
    }
   ],
   "source": [
    "# Entrena\n",
    "modelo.fit(X_train, y_train,\n",
    "                validation_data=(X_val, y_val), epochs=100);"
   ]
  },
  {
   "cell_type": "code",
   "execution_count": null,
   "metadata": {},
   "outputs": [],
   "source": [
    "# Estima la probabilidades P(y|x)\n",
    "modelo.predict_proba(X_val[:2])"
   ]
  },
  {
   "cell_type": "code",
   "execution_count": null,
   "metadata": {},
   "outputs": [],
   "source": [
    "# Guarda los pesos de entrenamiento\n",
    "model.save(\"weights.h5\")"
   ]
  },
  {
   "cell_type": "code",
   "execution_count": null,
   "metadata": {},
   "outputs": [],
   "source": [
    "print(\"\\nPerdida, Acierto = \", model.evaluate(X_test, y_test))"
   ]
  },
  {
   "cell_type": "markdown",
   "metadata": {},
   "source": [
    "### UUUps!\n",
    "Hasta aqui, nuestro modelo es muy ineficiente. Hay algo erróneo, adivina qué."
   ]
  },
  {
   "cell_type": "code",
   "execution_count": null,
   "metadata": {},
   "outputs": [],
   "source": [
    "# Testeo del score...\n",
    "test_predicciones = modelo.predict_proba(X_test).argmax(axis=-1)\n",
    "test_respuestas = y_test.argmax(axis=-1)\n",
    "\n",
    "test_acierto = np.mean(test_predicciones==test_respuestas)\n",
    "\n",
    "print(\"\\nTesteo acierto: {} %\".format(test_acierto*100))\n",
    "\n",
    "assert test_acierto>=0.92,\"¡La regresión logística lo puede hacer mejor!\"\n",
    "assert test_acierto>=0.975,\"¡Tu red lo puede hacer mejor!\"\n",
    "print(\"¡Gran trabajo!\")"
   ]
  },
  {
   "cell_type": "markdown",
   "metadata": {},
   "source": [
    "## Keras + tensorboard\n",
    "\n",
    "Remember the interactive graphs from Tensorboard one notebook ago? \n",
    "\n",
    "Thing is, Keras can use tensorboard to show you a lot of useful information about the learning progress. Just take a look!"
   ]
  },
  {
   "cell_type": "code",
   "execution_count": null,
   "metadata": {},
   "outputs": [],
   "source": [
    "! rm -r /tmp/tboard/**"
   ]
  },
  {
   "cell_type": "code",
   "execution_count": null,
   "metadata": {},
   "outputs": [],
   "source": [
    "from keras.callbacks import TensorBoard\n",
    "model.fit(X_train, y_train, validation_data=(X_val, y_val), \n",
    "          epochs=10,\n",
    "          callbacks=[TensorBoard(\"/tmp/tboard\")])"
   ]
  },
  {
   "cell_type": "markdown",
   "metadata": {},
   "source": [
    "# Tips & tricks\n",
    "\n",
    "Here are some tips on what you could do. Don't worry, to reach the passing threshold you don't need to try all the ideas listed here, feel free to stop once you reach the 0.975 accuracy mark.\n",
    "\n",
    " * __Network size__\n",
    "   * More neurons, \n",
    "   * More layers, ([docs](https://keras.io/))\n",
    "\n",
    "   * Nonlinearities in the hidden layers\n",
    "     * tanh, relu, leaky relu, etc\n",
    "   * Larger networks may take more epochs to train, so don't discard your net just because it could didn't beat the baseline in 5 epochs.\n",
    "\n",
    "\n",
    " * __Early Stopping__\n",
    "   * Training for 100 epochs regardless of anything is probably a bad idea.\n",
    "   * Some networks converge over 5 epochs, others - over 500.\n",
    "   * Way to go: stop when validation score is 10 iterations past maximum\n",
    "     \n",
    "\n",
    " * __Faster optimization__\n",
    "   * rmsprop, nesterov_momentum, adam, adagrad and so on.\n",
    "     * Converge faster and sometimes reach better optima\n",
    "     * It might make sense to tweak learning rate/momentum, other learning parameters, batch size and number of epochs\n",
    "\n",
    "\n",
    " * __Regularize__ to prevent overfitting\n",
    "   * Add some L2 weight norm to the loss function, theano will do the rest\n",
    "     * Can be done manually or via - https://keras.io/regularizers/\n",
    "   \n",
    "   \n",
    " * __Data augmemntation__ - getting 5x as large dataset for free is a great deal\n",
    "   * https://keras.io/preprocessing/image/\n",
    "   * Zoom-in+slice = move\n",
    "   * Rotate+zoom(to remove black stripes)\n",
    "   * any other perturbations\n",
    "   * Simple way to do that (if you have PIL/Image): \n",
    "     * ```from scipy.misc import imrotate,imresize```\n",
    "     * and a few slicing\n",
    "   * Stay realistic. There's usually no point in flipping dogs upside down as that is not the way you usually see them."
   ]
  }
 ],
 "metadata": {
  "kernelspec": {
   "display_name": "Python 3",
   "language": "python",
   "name": "python3"
  },
  "language_info": {
   "codemirror_mode": {
    "name": "ipython",
    "version": 3
   },
   "file_extension": ".py",
   "mimetype": "text/x-python",
   "name": "python",
   "nbconvert_exporter": "python",
   "pygments_lexer": "ipython3",
   "version": "3.7.2"
  },
  "toc": {
   "colors": {
    "hover_highlight": "#DAA520",
    "navigate_num": "#000000",
    "navigate_text": "#333333",
    "running_highlight": "#FF0000",
    "selected_highlight": "#FFD700",
    "sidebar_border": "#EEEEEE",
    "wrapper_background": "#FFFFFF"
   },
   "moveMenuLeft": true,
   "nav_menu": {
    "height": "120px",
    "width": "252px"
   },
   "navigate_menu": true,
   "number_sections": true,
   "sideBar": true,
   "threshold": 4,
   "toc_cell": false,
   "toc_section_display": "block",
   "toc_window_display": false,
   "widenNotebook": false
  }
 },
 "nbformat": 4,
 "nbformat_minor": 2
}
