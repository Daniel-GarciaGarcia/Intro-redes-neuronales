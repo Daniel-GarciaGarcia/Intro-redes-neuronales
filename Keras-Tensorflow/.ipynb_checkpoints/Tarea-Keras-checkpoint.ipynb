{
 "cells": [
  {
   "cell_type": "markdown",
   "metadata": {},
   "source": [
    "# Keras\n",
    "* Tensorflow es una herramienta potente y flexible, pero programar grandes redes con Tensorflow puede ser tedioso.\n",
    "* Hay muchos paquetes de aprendizaje profundo que funcionan sobre Tensorflow, como Slim, TFLearn, Sonnet, Keras.\n",
    "* La elección depende del gusto del desarrollador y de la tarea.\n",
    "* Nosotros usaremos Keras."
   ]
  },
  {
   "cell_type": "code",
   "execution_count": 2,
   "metadata": {},
   "outputs": [],
   "source": [
    "#import sys\n",
    "#sys.path.append(\"..\")"
   ]
  },
  {
   "cell_type": "code",
   "execution_count": 6,
   "metadata": {},
   "outputs": [
    {
     "data": {
      "application/vnd.jupyter.widget-view+json": {
       "model_id": "9591d7bf5e204948832fadfddf8d4370",
       "version_major": 2,
       "version_minor": 0
      },
      "text/plain": [
       "HBox(children=(IntProgress(value=0, max=87910968), HTML(value='')))"
      ]
     },
     "metadata": {},
     "output_type": "display_data"
    },
    {
     "name": "stdout",
     "output_type": "stream",
     "text": [
      "\n"
     ]
    },
    {
     "data": {
      "application/vnd.jupyter.widget-view+json": {
       "model_id": "e772f684b1104723ab210dec7f09cad8",
       "version_major": 2,
       "version_minor": 0
      },
      "text/plain": [
       "HBox(children=(IntProgress(value=0, max=170498071), HTML(value='')))"
      ]
     },
     "metadata": {},
     "output_type": "display_data"
    },
    {
     "name": "stdout",
     "output_type": "stream",
     "text": [
      "\n"
     ]
    },
    {
     "data": {
      "application/vnd.jupyter.widget-view+json": {
       "model_id": "474e01934f5540dc9a7b7577bfd08e18",
       "version_major": 2,
       "version_minor": 0
      },
      "text/plain": [
       "HBox(children=(IntProgress(value=0, max=11490434), HTML(value='')))"
      ]
     },
     "metadata": {},
     "output_type": "display_data"
    },
    {
     "name": "stdout",
     "output_type": "stream",
     "text": [
      "\n",
      "realpath: '../readonly/keras/datasets/*': No existe el archivo o el directorio\n",
      "ln: fallo al crear el enlace simbólico './datasets': El archivo ya existe\n",
      "realpath: '../readonly/keras/models/*': No existe el archivo o el directorio\n",
      "ln: fallo al crear el enlace simbólico './models': El archivo ya existe\n"
     ]
    }
   ],
   "source": [
    "# se usan datasets y modelos precargardos en keras\n",
    "import download_utils\n",
    "download_utils.download_all_keras_resources(\"readonly/keras/models\", \"readonly/keras/datasets\")\n",
    "! mkdir -p ~/.keras/datasets\n",
    "! mkdir -p ~/.keras/models\n",
    "! ln -s $(realpath ../readonly/keras/datasets/*) ~/.keras/datasets/\n",
    "! ln -s $(realpath ../readonly/keras/models/*) ~/.keras/models/"
   ]
  },
  {
   "cell_type": "code",
   "execution_count": 9,
   "metadata": {},
   "outputs": [],
   "source": [
    "import warnings \n",
    "warnings.filterwarnings('ignore')\n",
    "import numpy as np\n",
    "from preprocessed_mnist import load_dataset\n",
    "import keras\n",
    "X_train, y_train, X_val, y_val, X_test, y_test = load_dataset()\n",
    "y_train,y_val,y_test = map(keras.utils.np_utils.to_categorical,[y_train,y_val,y_test])"
   ]
  },
  {
   "cell_type": "code",
   "execution_count": 10,
   "metadata": {
    "scrolled": true
   },
   "outputs": [
    {
     "data": {
      "image/png": "[encoded data removed]",
      "text/plain": [
       "<Figure size 432x288 with 1 Axes>"
      ]
     },
     "metadata": {
      "needs_background": "light"
     },
     "output_type": "display_data"
    }
   ],
   "source": [
    "import matplotlib.pyplot as plt\n",
    "%matplotlib inline\n",
    "plt.imshow(X_train[0]);"
   ]
  },
  {
   "cell_type": "markdown",
   "metadata": {},
   "source": [
    "## Red con keras"
   ]
  },
  {
   "cell_type": "code",
   "execution_count": 12,
   "metadata": {},
   "outputs": [],
   "source": [
    "import tensorflow as tf\n",
    "from keras_utils import reset_tf_session\n",
    "s = reset_tf_session()"
   ]
  },
  {
   "cell_type": "code",
   "execution_count": 19,
   "metadata": {},
   "outputs": [],
   "source": [
    "import keras\n",
    "from keras.models import Sequential\n",
    "from keras.utils.multi_gpu_utils import multi_gpu_model\n",
    "import keras.layers as ll\n",
    "\n",
    "modelo = Sequential(name=\"mlp\")   # perceptron multicapa\n",
    "\n",
    "modelo.add(ll.InputLayer([28, 28]))\n",
    "\n",
    "modelo.add(ll.Flatten())\n",
    "\n",
    "# cuerpo de la red\n",
    "modelo.add(ll.Dense(25))\n",
    "modelo.add(ll.Activation('linear'))\n",
    "\n",
    "modelo.add(ll.Dense(25))\n",
    "modelo.add(ll.Activation('linear'))\n",
    "\n",
    "# capa de salida: 10 neuronas para cada clase con sigmoide (softmax)\n",
    "modelo.add(ll.Dense(10, activation='softmax'))\n",
    "\n",
    "# categorical_crossentropy es la entropia cruzada de toda la vida\n",
    "# pero aplicada a vectores con one hot encoding\n",
    "modelo.compile(\"adam\", \"categorical_crossentropy\", metrics=[\"accuracy\"])\n",
    "\n",
    "#modelo_multi = keras.utils.multi_gpu_model(model, gpus=1, cpu_merge=True, cpu_relocation=False)\n",
    "#modelo_multi.compile(\"adam\", \"categorical_crossentropy\", metrics=[\"accuracy\"])"
   ]
  },
  {
   "cell_type": "code",
   "execution_count": 20,
   "metadata": {},
   "outputs": [
    {
     "name": "stdout",
     "output_type": "stream",
     "text": [
      "_________________________________________________________________\n",
      "Layer (type)                 Output Shape              Param #   \n",
      "=================================================================\n",
      "flatten_4 (Flatten)          (None, 784)               0         \n",
      "_________________________________________________________________\n",
      "dense_10 (Dense)             (None, 25)                19625     \n",
      "_________________________________________________________________\n",
      "activation_7 (Activation)    (None, 25)                0         \n",
      "_________________________________________________________________\n",
      "dense_11 (Dense)             (None, 25)                650       \n",
      "_________________________________________________________________\n",
      "activation_8 (Activation)    (None, 25)                0         \n",
      "_________________________________________________________________\n",
      "dense_12 (Dense)             (None, 10)                260       \n",
      "=================================================================\n",
      "Total params: 20,535\n",
      "Trainable params: 20,535\n",
      "Non-trainable params: 0\n",
      "_________________________________________________________________\n"
     ]
    }
   ],
   "source": [
    "modelo.summary()"
   ]
  },
  {
   "cell_type": "markdown",
   "metadata": {},
   "source": [
    "### Interfaz del modelo\n",
    "\n",
    "Los modelos de Keras funcionan con la interfaz de __Scikit-learn__ usando fit/predict con algunas extensiones. Veamoslo."
   ]
  },
  {
   "cell_type": "code",
   "execution_count": null,
   "metadata": {},
   "outputs": [
    {
     "name": "stdout",
     "output_type": "stream",
     "text": [
      "WARNING:tensorflow:From /home/iudh/.local/lib/python3.7/site-packages/tensorflow/python/ops/math_ops.py:3066: to_int32 (from tensorflow.python.ops.math_ops) is deprecated and will be removed in a future version.\n",
      "Instructions for updating:\n",
      "Use tf.cast instead.\n",
      "Train on 50000 samples, validate on 10000 samples\n",
      "Epoch 1/1000\n",
      "50000/50000 [==============================] - 9s 175us/step - loss: 0.4056 - acc: 0.8836 - val_loss: 0.2695 - val_acc: 0.9238\n",
      "Epoch 2/1000\n",
      "50000/50000 [==============================] - 7s 144us/step - loss: 0.3000 - acc: 0.9149 - val_loss: 0.2692 - val_acc: 0.9273\n",
      "Epoch 3/1000\n",
      "50000/50000 [==============================] - 7s 143us/step - loss: 0.2891 - acc: 0.9192 - val_loss: 0.2809 - val_acc: 0.9206\n",
      "Epoch 4/1000\n",
      "50000/50000 [==============================] - 7s 145us/step - loss: 0.2806 - acc: 0.9210 - val_loss: 0.2649 - val_acc: 0.9272\n",
      "Epoch 5/1000\n",
      "50000/50000 [==============================] - 8s 151us/step - loss: 0.2763 - acc: 0.9213 - val_loss: 0.2675 - val_acc: 0.9264\n",
      "Epoch 6/1000\n",
      "50000/50000 [==============================] - 8s 153us/step - loss: 0.2711 - acc: 0.9242 - val_loss: 0.2755 - val_acc: 0.9248\n",
      "Epoch 7/1000\n",
      "50000/50000 [==============================] - 8s 153us/step - loss: 0.2692 - acc: 0.9237 - val_loss: 0.2685 - val_acc: 0.9256\n",
      "Epoch 8/1000\n",
      "50000/50000 [==============================] - 8s 155us/step - loss: 0.2654 - acc: 0.9253 - val_loss: 0.2698 - val_acc: 0.9266\n",
      "Epoch 9/1000\n",
      "50000/50000 [==============================] - 8s 154us/step - loss: 0.2647 - acc: 0.9252 - val_loss: 0.2648 - val_acc: 0.9275\n",
      "Epoch 10/1000\n",
      "50000/50000 [==============================] - 8s 154us/step - loss: 0.2633 - acc: 0.9255 - val_loss: 0.2845 - val_acc: 0.9190\n",
      "Epoch 11/1000\n",
      "50000/50000 [==============================] - 8s 156us/step - loss: 0.2624 - acc: 0.9265 - val_loss: 0.2674 - val_acc: 0.9271\n",
      "Epoch 12/1000\n",
      "50000/50000 [==============================] - 8s 153us/step - loss: 0.2582 - acc: 0.9273 - val_loss: 0.2684 - val_acc: 0.9266\n",
      "Epoch 13/1000\n",
      "50000/50000 [==============================] - 8s 155us/step - loss: 0.2588 - acc: 0.9281 - val_loss: 0.2701 - val_acc: 0.9265\n",
      "Epoch 14/1000\n",
      "50000/50000 [==============================] - 8s 159us/step - loss: 0.2581 - acc: 0.9274 - val_loss: 0.2685 - val_acc: 0.9264\n",
      "Epoch 15/1000\n",
      "50000/50000 [==============================] - 8s 153us/step - loss: 0.2548 - acc: 0.9278 - val_loss: 0.2677 - val_acc: 0.9275\n",
      "Epoch 16/1000\n",
      "50000/50000 [==============================] - 8s 150us/step - loss: 0.2540 - acc: 0.9287 - val_loss: 0.2708 - val_acc: 0.9278\n",
      "Epoch 17/1000\n",
      "50000/50000 [==============================] - 8s 157us/step - loss: 0.2546 - acc: 0.9288 - val_loss: 0.2689 - val_acc: 0.9300\n",
      "Epoch 18/1000\n",
      "50000/50000 [==============================] - 8s 156us/step - loss: 0.2530 - acc: 0.9281 - val_loss: 0.2712 - val_acc: 0.9240\n",
      "Epoch 19/1000\n",
      "50000/50000 [==============================] - 8s 160us/step - loss: 0.2511 - acc: 0.9298 - val_loss: 0.2687 - val_acc: 0.9276\n",
      "Epoch 20/1000\n",
      "50000/50000 [==============================] - 8s 156us/step - loss: 0.2518 - acc: 0.9284 - val_loss: 0.2728 - val_acc: 0.9262\n",
      "Epoch 21/1000\n",
      "50000/50000 [==============================] - 8s 155us/step - loss: 0.2511 - acc: 0.9291 - val_loss: 0.2683 - val_acc: 0.9263\n",
      "Epoch 22/1000\n",
      "50000/50000 [==============================] - 8s 160us/step - loss: 0.2490 - acc: 0.9293 - val_loss: 0.2716 - val_acc: 0.9272\n",
      "Epoch 23/1000\n",
      "50000/50000 [==============================] - 7s 149us/step - loss: 0.2492 - acc: 0.9303 - val_loss: 0.2709 - val_acc: 0.9275\n",
      "Epoch 24/1000\n",
      "50000/50000 [==============================] - 8s 152us/step - loss: 0.2487 - acc: 0.9296 - val_loss: 0.2637 - val_acc: 0.9285\n",
      "Epoch 25/1000\n",
      "50000/50000 [==============================] - 8s 158us/step - loss: 0.2472 - acc: 0.9305 - val_loss: 0.2734 - val_acc: 0.9272\n",
      "Epoch 26/1000\n",
      "50000/50000 [==============================] - 8s 158us/step - loss: 0.2472 - acc: 0.9305 - val_loss: 0.2674 - val_acc: 0.9291\n",
      "Epoch 27/1000\n",
      "50000/50000 [==============================] - 8s 161us/step - loss: 0.2470 - acc: 0.9312 - val_loss: 0.2793 - val_acc: 0.9249\n",
      "Epoch 28/1000\n",
      "50000/50000 [==============================] - 8s 156us/step - loss: 0.2459 - acc: 0.9295 - val_loss: 0.2725 - val_acc: 0.9298\n",
      "Epoch 29/1000\n",
      "50000/50000 [==============================] - 8s 166us/step - loss: 0.2459 - acc: 0.9303 - val_loss: 0.2676 - val_acc: 0.9300\n",
      "Epoch 30/1000\n",
      "50000/50000 [==============================] - 8s 161us/step - loss: 0.2453 - acc: 0.9301 - val_loss: 0.2758 - val_acc: 0.9266\n",
      "Epoch 31/1000\n",
      "50000/50000 [==============================] - 9s 173us/step - loss: 0.2443 - acc: 0.9304 - val_loss: 0.2719 - val_acc: 0.9257\n",
      "Epoch 32/1000\n",
      "50000/50000 [==============================] - 8s 166us/step - loss: 0.2441 - acc: 0.9304 - val_loss: 0.2741 - val_acc: 0.9268\n",
      "Epoch 33/1000\n",
      "50000/50000 [==============================] - 9s 176us/step - loss: 0.2444 - acc: 0.9308 - val_loss: 0.2731 - val_acc: 0.9308\n",
      "Epoch 34/1000\n",
      "50000/50000 [==============================] - 7s 146us/step - loss: 0.2441 - acc: 0.9307 - val_loss: 0.2802 - val_acc: 0.9252\n",
      "Epoch 35/1000\n",
      "50000/50000 [==============================] - 8s 151us/step - loss: 0.2430 - acc: 0.9316 - val_loss: 0.2743 - val_acc: 0.9244\n",
      "Epoch 36/1000\n",
      "50000/50000 [==============================] - 7s 146us/step - loss: 0.2434 - acc: 0.9313 - val_loss: 0.2761 - val_acc: 0.9280\n",
      "Epoch 37/1000\n",
      "50000/50000 [==============================] - 7s 150us/step - loss: 0.2422 - acc: 0.9307 - val_loss: 0.2793 - val_acc: 0.9245\n",
      "Epoch 38/1000\n",
      "50000/50000 [==============================] - 8s 157us/step - loss: 0.2411 - acc: 0.9310 - val_loss: 0.2749 - val_acc: 0.9256\n",
      "Epoch 39/1000\n",
      "50000/50000 [==============================] - 8s 170us/step - loss: 0.2413 - acc: 0.9313 - val_loss: 0.2672 - val_acc: 0.9293\n",
      "Epoch 40/1000\n",
      "50000/50000 [==============================] - 8s 158us/step - loss: 0.2415 - acc: 0.9321 - val_loss: 0.2759 - val_acc: 0.9278\n",
      "Epoch 41/1000\n",
      "31360/50000 [=================>............] - ETA: 2s - loss: 0.2391 - acc: 0.9301"
     ]
    }
   ],
   "source": [
    "# Entrena\n",
    "modelo.fit(X_train, y_train,\n",
    "                validation_data=(X_val, y_val), epochs=1000);"
   ]
  },
  {
   "cell_type": "code",
   "execution_count": null,
   "metadata": {},
   "outputs": [],
   "source": [
    "# Estima la probabilidades P(y|x)\n",
    "modelo.predict_proba(X_val[:2])"
   ]
  },
  {
   "cell_type": "code",
   "execution_count": null,
   "metadata": {},
   "outputs": [],
   "source": [
    "# Guarda los pesos de entrenamiento\n",
    "model.save(\"weights.h5\")"
   ]
  },
  {
   "cell_type": "code",
   "execution_count": null,
   "metadata": {},
   "outputs": [],
   "source": [
    "print(\"\\nPerdida, Acierto = \", model.evaluate(X_test, y_test))"
   ]
  },
  {
   "cell_type": "markdown",
   "metadata": {},
   "source": [
    "### Whoops!\n",
    "So far, our model is staggeringly inefficient. There is something wrong with it. Guess, what?"
   ]
  },
  {
   "cell_type": "code",
   "execution_count": null,
   "metadata": {},
   "outputs": [],
   "source": [
    "# Test score...\n",
    "test_predictions = model.predict_proba(X_test).argmax(axis=-1)\n",
    "test_answers = y_test.argmax(axis=-1)\n",
    "\n",
    "test_accuracy = np.mean(test_predictions==test_answers)\n",
    "\n",
    "print(\"\\nTest accuracy: {} %\".format(test_accuracy*100))\n",
    "\n",
    "assert test_accuracy>=0.92,\"Logistic regression can do better!\"\n",
    "assert test_accuracy>=0.975,\"Your network can do better!\"\n",
    "print(\"Great job!\")"
   ]
  },
  {
   "cell_type": "markdown",
   "metadata": {},
   "source": [
    "## Keras + tensorboard\n",
    "\n",
    "Remember the interactive graphs from Tensorboard one notebook ago? \n",
    "\n",
    "Thing is, Keras can use tensorboard to show you a lot of useful information about the learning progress. Just take a look!"
   ]
  },
  {
   "cell_type": "code",
   "execution_count": null,
   "metadata": {},
   "outputs": [],
   "source": [
    "! rm -r /tmp/tboard/**"
   ]
  },
  {
   "cell_type": "code",
   "execution_count": null,
   "metadata": {},
   "outputs": [],
   "source": [
    "from keras.callbacks import TensorBoard\n",
    "model.fit(X_train, y_train, validation_data=(X_val, y_val), \n",
    "          epochs=10,\n",
    "          callbacks=[TensorBoard(\"/tmp/tboard\")])"
   ]
  },
  {
   "cell_type": "markdown",
   "metadata": {},
   "source": [
    "# Tips & tricks\n",
    "\n",
    "Here are some tips on what you could do. Don't worry, to reach the passing threshold you don't need to try all the ideas listed here, feel free to stop once you reach the 0.975 accuracy mark.\n",
    "\n",
    " * __Network size__\n",
    "   * More neurons, \n",
    "   * More layers, ([docs](https://keras.io/))\n",
    "\n",
    "   * Nonlinearities in the hidden layers\n",
    "     * tanh, relu, leaky relu, etc\n",
    "   * Larger networks may take more epochs to train, so don't discard your net just because it could didn't beat the baseline in 5 epochs.\n",
    "\n",
    "\n",
    " * __Early Stopping__\n",
    "   * Training for 100 epochs regardless of anything is probably a bad idea.\n",
    "   * Some networks converge over 5 epochs, others - over 500.\n",
    "   * Way to go: stop when validation score is 10 iterations past maximum\n",
    "     \n",
    "\n",
    " * __Faster optimization__\n",
    "   * rmsprop, nesterov_momentum, adam, adagrad and so on.\n",
    "     * Converge faster and sometimes reach better optima\n",
    "     * It might make sense to tweak learning rate/momentum, other learning parameters, batch size and number of epochs\n",
    "\n",
    "\n",
    " * __Regularize__ to prevent overfitting\n",
    "   * Add some L2 weight norm to the loss function, theano will do the rest\n",
    "     * Can be done manually or via - https://keras.io/regularizers/\n",
    "   \n",
    "   \n",
    " * __Data augmemntation__ - getting 5x as large dataset for free is a great deal\n",
    "   * https://keras.io/preprocessing/image/\n",
    "   * Zoom-in+slice = move\n",
    "   * Rotate+zoom(to remove black stripes)\n",
    "   * any other perturbations\n",
    "   * Simple way to do that (if you have PIL/Image): \n",
    "     * ```from scipy.misc import imrotate,imresize```\n",
    "     * and a few slicing\n",
    "   * Stay realistic. There's usually no point in flipping dogs upside down as that is not the way you usually see them."
   ]
  }
 ],
 "metadata": {
  "kernelspec": {
   "display_name": "Python 3",
   "language": "python",
   "name": "python3"
  },
  "language_info": {
   "codemirror_mode": {
    "name": "ipython",
    "version": 3
   },
   "file_extension": ".py",
   "mimetype": "text/x-python",
   "name": "python",
   "nbconvert_exporter": "python",
   "pygments_lexer": "ipython3",
   "version": "3.7.2"
  },
  "toc": {
   "colors": {
    "hover_highlight": "#DAA520",
    "navigate_num": "#000000",
    "navigate_text": "#333333",
    "running_highlight": "#FF0000",
    "selected_highlight": "#FFD700",
    "sidebar_border": "#EEEEEE",
    "wrapper_background": "#FFFFFF"
   },
   "moveMenuLeft": true,
   "nav_menu": {
    "height": "120px",
    "width": "252px"
   },
   "navigate_menu": true,
   "number_sections": true,
   "sideBar": true,
   "threshold": 4,
   "toc_cell": false,
   "toc_section_display": "block",
   "toc_window_display": false,
   "widenNotebook": false
  }
 },
 "nbformat": 4,
 "nbformat_minor": 2
}
