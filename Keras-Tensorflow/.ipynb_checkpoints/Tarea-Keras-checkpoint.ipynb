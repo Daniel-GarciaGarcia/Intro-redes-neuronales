{
 "cells": [
  {
   "cell_type": "markdown",
   "metadata": {},
   "source": [
    "# Keras\n",
    "* Tensorflow es una herramienta potente y flexible, pero programar grandes redes con Tensorflow puede ser tedioso.\n",
    "* Hay muchos paquetes de aprendizaje profundo que funcionan sobre Tensorflow, como Slim, TFLearn, Sonnet, Keras.\n",
    "* La elección depende del gusto del desarrollador y de la tarea.\n",
    "* Nosotros usaremos Keras."
   ]
  },
  {
   "cell_type": "code",
   "execution_count": 1,
   "metadata": {},
   "outputs": [
    {
     "data": {
      "application/vnd.jupyter.widget-view+json": {
       "model_id": "bdc5b5f1d97547f9ab24e80d400ecfe3",
       "version_major": 2,
       "version_minor": 0
      },
      "text/plain": [
       "HBox(children=(IntProgress(value=0, max=87910968), HTML(value='')))"
      ]
     },
     "metadata": {},
     "output_type": "display_data"
    },
    {
     "name": "stdout",
     "output_type": "stream",
     "text": [
      "\n"
     ]
    },
    {
     "data": {
      "application/vnd.jupyter.widget-view+json": {
       "model_id": "9cde5b8577a148a2859a5581746b34c3",
       "version_major": 2,
       "version_minor": 0
      },
      "text/plain": [
       "HBox(children=(IntProgress(value=0, max=170498071), HTML(value='')))"
      ]
     },
     "metadata": {},
     "output_type": "display_data"
    },
    {
     "name": "stdout",
     "output_type": "stream",
     "text": [
      "\n"
     ]
    },
    {
     "data": {
      "application/vnd.jupyter.widget-view+json": {
       "model_id": "5ff50eff2dd44e95a4e1ba12159de8f4",
       "version_major": 2,
       "version_minor": 0
      },
      "text/plain": [
       "HBox(children=(IntProgress(value=0, max=11490434), HTML(value='')))"
      ]
     },
     "metadata": {},
     "output_type": "display_data"
    },
    {
     "name": "stdout",
     "output_type": "stream",
     "text": [
      "\n",
      "realpath: '../readonly/keras/datasets/*': No existe el archivo o el directorio\n",
      "ln: fallo al crear el enlace simbólico './datasets': El archivo ya existe\n",
      "realpath: '../readonly/keras/models/*': No existe el archivo o el directorio\n",
      "ln: fallo al crear el enlace simbólico './models': El archivo ya existe\n"
     ]
    }
   ],
   "source": [
    "# se usan datasets y modelos precargardos en keras\n",
    "import download_utils\n",
    "download_utils.download_all_keras_resources(\"readonly/keras/models\", \"readonly/keras/datasets\")\n",
    "! mkdir -p ~/.keras/datasets\n",
    "! mkdir -p ~/.keras/models\n",
    "! ln -s $(realpath ../readonly/keras/datasets/*) ~/.keras/datasets/\n",
    "! ln -s $(realpath ../readonly/keras/models/*) ~/.keras/models/"
   ]
  },
  {
   "cell_type": "code",
   "execution_count": 2,
   "metadata": {},
   "outputs": [
    {
     "name": "stderr",
     "output_type": "stream",
     "text": [
      "Using TensorFlow backend.\n"
     ]
    }
   ],
   "source": [
    "import warnings \n",
    "warnings.filterwarnings('ignore')\n",
    "import numpy as np\n",
    "from preprocessed_mnist import load_dataset\n",
    "import keras\n",
    "X_train, y_train, X_val, y_val, X_test, y_test = load_dataset()\n",
    "y_train,y_val,y_test = map(keras.utils.np_utils.to_categorical,[y_train,y_val,y_test])"
   ]
  },
  {
   "cell_type": "code",
   "execution_count": 3,
   "metadata": {
    "scrolled": true
   },
   "outputs": [
    {
     "data": {
      "image/png": "[encoded data removed]",
      "text/plain": [
       "<Figure size 432x288 with 1 Axes>"
      ]
     },
     "metadata": {
      "needs_background": "light"
     },
     "output_type": "display_data"
    }
   ],
   "source": [
    "import matplotlib.pyplot as plt\n",
    "%matplotlib inline\n",
    "plt.imshow(X_train[0]);"
   ]
  },
  {
   "cell_type": "markdown",
   "metadata": {},
   "source": [
    "## Red con keras"
   ]
  },
  {
   "cell_type": "code",
   "execution_count": 4,
   "metadata": {},
   "outputs": [],
   "source": [
    "import tensorflow as tf\n",
    "from keras_utils import reset_tf_session\n",
    "s = reset_tf_session()"
   ]
  },
  {
   "cell_type": "code",
   "execution_count": 5,
   "metadata": {},
   "outputs": [
    {
     "name": "stdout",
     "output_type": "stream",
     "text": [
      "WARNING:tensorflow:From /home/iudh/.local/lib/python3.7/site-packages/tensorflow/python/framework/op_def_library.py:263: colocate_with (from tensorflow.python.framework.ops) is deprecated and will be removed in a future version.\n",
      "Instructions for updating:\n",
      "Colocations handled automatically by placer.\n"
     ]
    }
   ],
   "source": [
    "import keras\n",
    "from keras.models import Sequential\n",
    "from keras.utils.multi_gpu_utils import multi_gpu_model\n",
    "import keras.layers as ll\n",
    "\n",
    "modelo = Sequential(name=\"mlp\")   # perceptron multicapa\n",
    "\n",
    "modelo.add(ll.InputLayer([28, 28]))\n",
    "\n",
    "modelo.add(ll.Flatten())\n",
    "\n",
    "# cuerpo de la red\n",
    "modelo.add(ll.Dense(25))\n",
    "modelo.add(ll.Activation('linear'))\n",
    "\n",
    "modelo.add(ll.Dense(25))\n",
    "modelo.add(ll.Activation('linear'))\n",
    "\n",
    "# capa de salida: 10 neuronas para cada clase con sigmoide (softmax)\n",
    "modelo.add(ll.Dense(10, activation='softmax'))\n",
    "\n",
    "# categorical_crossentropy es la entropia cruzada de toda la vida\n",
    "# pero aplicada a vectores con one hot encoding\n",
    "modelo.compile(\"adam\", \"categorical_crossentropy\", metrics=[\"accuracy\"])\n",
    "\n",
    "#modelo_multi = keras.utils.multi_gpu_model(model, gpus=1, cpu_merge=True, cpu_relocation=False)\n",
    "#modelo_multi.compile(\"adam\", \"categorical_crossentropy\", metrics=[\"accuracy\"])"
   ]
  },
  {
   "cell_type": "code",
   "execution_count": 6,
   "metadata": {},
   "outputs": [
    {
     "name": "stdout",
     "output_type": "stream",
     "text": [
      "_________________________________________________________________\n",
      "Layer (type)                 Output Shape              Param #   \n",
      "=================================================================\n",
      "flatten_1 (Flatten)          (None, 784)               0         \n",
      "_________________________________________________________________\n",
      "dense_1 (Dense)              (None, 25)                19625     \n",
      "_________________________________________________________________\n",
      "activation_1 (Activation)    (None, 25)                0         \n",
      "_________________________________________________________________\n",
      "dense_2 (Dense)              (None, 25)                650       \n",
      "_________________________________________________________________\n",
      "activation_2 (Activation)    (None, 25)                0         \n",
      "_________________________________________________________________\n",
      "dense_3 (Dense)              (None, 10)                260       \n",
      "=================================================================\n",
      "Total params: 20,535\n",
      "Trainable params: 20,535\n",
      "Non-trainable params: 0\n",
      "_________________________________________________________________\n"
     ]
    }
   ],
   "source": [
    "modelo.summary()"
   ]
  },
  {
   "cell_type": "markdown",
   "metadata": {},
   "source": [
    "### Interfaz del modelo\n",
    "\n",
    "Los modelos de Keras funcionan con la interfaz de __Scikit-learn__ usando fit/predict con algunas extensiones. Veamoslo."
   ]
  },
  {
   "cell_type": "code",
   "execution_count": 7,
   "metadata": {},
   "outputs": [
    {
     "name": "stdout",
     "output_type": "stream",
     "text": [
      "WARNING:tensorflow:From /home/iudh/.local/lib/python3.7/site-packages/tensorflow/python/ops/math_ops.py:3066: to_int32 (from tensorflow.python.ops.math_ops) is deprecated and will be removed in a future version.\n",
      "Instructions for updating:\n",
      "Use tf.cast instead.\n",
      "Train on 50000 samples, validate on 10000 samples\n",
      "Epoch 1/100\n",
      "50000/50000 [==============================] - 8s 165us/step - loss: 0.4067 - acc: 0.8815 - val_loss: 0.2741 - val_acc: 0.9229\n",
      "Epoch 2/100\n",
      "50000/50000 [==============================] - 7s 132us/step - loss: 0.3002 - acc: 0.9154 - val_loss: 0.2843 - val_acc: 0.9202\n",
      "Epoch 3/100\n",
      "50000/50000 [==============================] - 7s 132us/step - loss: 0.2882 - acc: 0.9190 - val_loss: 0.2717 - val_acc: 0.9254\n",
      "Epoch 4/100\n",
      "50000/50000 [==============================] - 7s 133us/step - loss: 0.2810 - acc: 0.9206 - val_loss: 0.2728 - val_acc: 0.9243\n",
      "Epoch 5/100\n",
      "50000/50000 [==============================] - 7s 132us/step - loss: 0.2752 - acc: 0.9231 - val_loss: 0.2662 - val_acc: 0.9294\n",
      "Epoch 6/100\n",
      "50000/50000 [==============================] - 7s 134us/step - loss: 0.2734 - acc: 0.9235 - val_loss: 0.2779 - val_acc: 0.9243\n",
      "Epoch 7/100\n",
      "50000/50000 [==============================] - 7s 136us/step - loss: 0.2705 - acc: 0.9239 - val_loss: 0.2695 - val_acc: 0.9249\n",
      "Epoch 8/100\n",
      "50000/50000 [==============================] - 7s 134us/step - loss: 0.2668 - acc: 0.9241 - val_loss: 0.2650 - val_acc: 0.9292\n",
      "Epoch 9/100\n",
      "50000/50000 [==============================] - 7s 134us/step - loss: 0.2646 - acc: 0.9253 - val_loss: 0.2679 - val_acc: 0.9277\n",
      "Epoch 10/100\n",
      "50000/50000 [==============================] - 7s 135us/step - loss: 0.2626 - acc: 0.9244 - val_loss: 0.2887 - val_acc: 0.9218\n",
      "Epoch 11/100\n",
      "50000/50000 [==============================] - 7s 134us/step - loss: 0.2625 - acc: 0.9264 - val_loss: 0.2672 - val_acc: 0.9279\n",
      "Epoch 12/100\n",
      "50000/50000 [==============================] - 7s 133us/step - loss: 0.2594 - acc: 0.9261 - val_loss: 0.2727 - val_acc: 0.9265\n",
      "Epoch 13/100\n",
      "50000/50000 [==============================] - 7s 133us/step - loss: 0.2583 - acc: 0.9275 - val_loss: 0.2650 - val_acc: 0.9295\n",
      "Epoch 14/100\n",
      "50000/50000 [==============================] - 7s 135us/step - loss: 0.2564 - acc: 0.9273 - val_loss: 0.2783 - val_acc: 0.9233\n",
      "Epoch 15/100\n",
      "50000/50000 [==============================] - 7s 134us/step - loss: 0.2563 - acc: 0.9278 - val_loss: 0.2709 - val_acc: 0.9292\n",
      "Epoch 16/100\n",
      "50000/50000 [==============================] - 7s 135us/step - loss: 0.2543 - acc: 0.9279 - val_loss: 0.2736 - val_acc: 0.9262\n",
      "Epoch 17/100\n",
      "50000/50000 [==============================] - 7s 144us/step - loss: 0.2537 - acc: 0.9285 - val_loss: 0.2729 - val_acc: 0.9254\n",
      "Epoch 18/100\n",
      "50000/50000 [==============================] - 7s 149us/step - loss: 0.2534 - acc: 0.9274 - val_loss: 0.2639 - val_acc: 0.9285\n",
      "Epoch 19/100\n",
      "50000/50000 [==============================] - 7s 141us/step - loss: 0.2528 - acc: 0.9284 - val_loss: 0.2773 - val_acc: 0.9264\n",
      "Epoch 20/100\n",
      "50000/50000 [==============================] - 7s 136us/step - loss: 0.2515 - acc: 0.9283 - val_loss: 0.2760 - val_acc: 0.9257\n",
      "Epoch 21/100\n",
      "50000/50000 [==============================] - 7s 137us/step - loss: 0.2505 - acc: 0.9294 - val_loss: 0.2678 - val_acc: 0.9288\n",
      "Epoch 22/100\n",
      "50000/50000 [==============================] - 7s 136us/step - loss: 0.2502 - acc: 0.9295 - val_loss: 0.2692 - val_acc: 0.9281\n",
      "Epoch 23/100\n",
      "50000/50000 [==============================] - 7s 136us/step - loss: 0.2495 - acc: 0.9298 - val_loss: 0.2724 - val_acc: 0.9265\n",
      "Epoch 24/100\n",
      "50000/50000 [==============================] - 7s 137us/step - loss: 0.2486 - acc: 0.9303 - val_loss: 0.2781 - val_acc: 0.9264\n",
      "Epoch 25/100\n",
      "50000/50000 [==============================] - 7s 136us/step - loss: 0.2481 - acc: 0.9294 - val_loss: 0.2738 - val_acc: 0.9272\n",
      "Epoch 26/100\n",
      "50000/50000 [==============================] - 7s 135us/step - loss: 0.2476 - acc: 0.9296 - val_loss: 0.2725 - val_acc: 0.9269\n",
      "Epoch 27/100\n",
      "50000/50000 [==============================] - 7s 136us/step - loss: 0.2483 - acc: 0.9289 - val_loss: 0.2772 - val_acc: 0.9267\n",
      "Epoch 28/100\n",
      "50000/50000 [==============================] - 7s 136us/step - loss: 0.2464 - acc: 0.9312 - val_loss: 0.2718 - val_acc: 0.9280\n",
      "Epoch 29/100\n",
      "50000/50000 [==============================] - 7s 136us/step - loss: 0.2462 - acc: 0.9305 - val_loss: 0.2698 - val_acc: 0.9296\n",
      "Epoch 30/100\n",
      "50000/50000 [==============================] - 7s 135us/step - loss: 0.2459 - acc: 0.9301 - val_loss: 0.2839 - val_acc: 0.9212\n",
      "Epoch 31/100\n",
      "50000/50000 [==============================] - 7s 135us/step - loss: 0.2445 - acc: 0.9308 - val_loss: 0.2757 - val_acc: 0.9282\n",
      "Epoch 32/100\n",
      "50000/50000 [==============================] - 7s 136us/step - loss: 0.2453 - acc: 0.9306 - val_loss: 0.2785 - val_acc: 0.9271\n",
      "Epoch 33/100\n",
      "50000/50000 [==============================] - 7s 136us/step - loss: 0.2440 - acc: 0.9301 - val_loss: 0.2796 - val_acc: 0.9237\n",
      "Epoch 34/100\n",
      "50000/50000 [==============================] - 7s 140us/step - loss: 0.2428 - acc: 0.9313 - val_loss: 0.2780 - val_acc: 0.9266\n",
      "Epoch 35/100\n",
      "50000/50000 [==============================] - 7s 136us/step - loss: 0.2424 - acc: 0.9316 - val_loss: 0.2844 - val_acc: 0.9221\n",
      "Epoch 36/100\n",
      "50000/50000 [==============================] - 7s 137us/step - loss: 0.2425 - acc: 0.9320 - val_loss: 0.2788 - val_acc: 0.9273\n",
      "Epoch 37/100\n",
      "50000/50000 [==============================] - 7s 136us/step - loss: 0.2420 - acc: 0.9303 - val_loss: 0.2694 - val_acc: 0.9296\n",
      "Epoch 38/100\n",
      "50000/50000 [==============================] - 7s 136us/step - loss: 0.2423 - acc: 0.9313 - val_loss: 0.2729 - val_acc: 0.9279\n",
      "Epoch 39/100\n",
      "50000/50000 [==============================] - 7s 134us/step - loss: 0.2415 - acc: 0.9323 - val_loss: 0.2689 - val_acc: 0.9295\n",
      "Epoch 40/100\n",
      "50000/50000 [==============================] - 7s 135us/step - loss: 0.2415 - acc: 0.9311 - val_loss: 0.2768 - val_acc: 0.9254\n",
      "Epoch 41/100\n",
      "50000/50000 [==============================] - 7s 135us/step - loss: 0.2411 - acc: 0.9314 - val_loss: 0.2811 - val_acc: 0.9256\n",
      "Epoch 42/100\n",
      "50000/50000 [==============================] - 7s 135us/step - loss: 0.2396 - acc: 0.9325 - val_loss: 0.2747 - val_acc: 0.9287\n",
      "Epoch 43/100\n",
      "50000/50000 [==============================] - 7s 135us/step - loss: 0.2399 - acc: 0.9323 - val_loss: 0.2786 - val_acc: 0.9250\n",
      "Epoch 44/100\n",
      "50000/50000 [==============================] - 7s 135us/step - loss: 0.2398 - acc: 0.9324 - val_loss: 0.2740 - val_acc: 0.9288\n",
      "Epoch 45/100\n",
      "50000/50000 [==============================] - 7s 136us/step - loss: 0.2399 - acc: 0.9323 - val_loss: 0.2707 - val_acc: 0.9265\n",
      "Epoch 46/100\n",
      "50000/50000 [==============================] - 7s 139us/step - loss: 0.2393 - acc: 0.9330 - val_loss: 0.2778 - val_acc: 0.9263\n",
      "Epoch 47/100\n",
      "50000/50000 [==============================] - 7s 135us/step - loss: 0.2391 - acc: 0.9320 - val_loss: 0.2778 - val_acc: 0.9262\n",
      "Epoch 48/100\n",
      "50000/50000 [==============================] - 7s 133us/step - loss: 0.2388 - acc: 0.9321 - val_loss: 0.2713 - val_acc: 0.9291\n",
      "Epoch 49/100\n",
      "50000/50000 [==============================] - 7s 136us/step - loss: 0.2377 - acc: 0.9324 - val_loss: 0.2766 - val_acc: 0.9269\n",
      "Epoch 50/100\n",
      "50000/50000 [==============================] - 7s 135us/step - loss: 0.2386 - acc: 0.9331 - val_loss: 0.2731 - val_acc: 0.9279\n",
      "Epoch 51/100\n",
      "50000/50000 [==============================] - 7s 137us/step - loss: 0.2364 - acc: 0.9333 - val_loss: 0.2741 - val_acc: 0.9269\n",
      "Epoch 52/100\n",
      "50000/50000 [==============================] - 7s 136us/step - loss: 0.2371 - acc: 0.9323 - val_loss: 0.2811 - val_acc: 0.9259\n",
      "Epoch 53/100\n",
      "50000/50000 [==============================] - 7s 136us/step - loss: 0.2368 - acc: 0.9334 - val_loss: 0.2769 - val_acc: 0.9279\n",
      "Epoch 54/100\n",
      "50000/50000 [==============================] - 7s 138us/step - loss: 0.2370 - acc: 0.9326 - val_loss: 0.2776 - val_acc: 0.9256\n",
      "Epoch 55/100\n",
      "50000/50000 [==============================] - 7s 141us/step - loss: 0.2371 - acc: 0.9320 - val_loss: 0.2711 - val_acc: 0.9296\n",
      "Epoch 56/100\n",
      "50000/50000 [==============================] - 7s 140us/step - loss: 0.2368 - acc: 0.9319 - val_loss: 0.2799 - val_acc: 0.9251\n",
      "Epoch 57/100\n",
      "50000/50000 [==============================] - 7s 133us/step - loss: 0.2362 - acc: 0.9328 - val_loss: 0.2903 - val_acc: 0.9235\n",
      "Epoch 58/100\n",
      "50000/50000 [==============================] - 7s 133us/step - loss: 0.2357 - acc: 0.9322 - val_loss: 0.2827 - val_acc: 0.9259\n",
      "Epoch 59/100\n",
      "50000/50000 [==============================] - 7s 139us/step - loss: 0.2356 - acc: 0.9330 - val_loss: 0.2795 - val_acc: 0.9256\n",
      "Epoch 60/100\n",
      "50000/50000 [==============================] - 8s 160us/step - loss: 0.2360 - acc: 0.9329 - val_loss: 0.2780 - val_acc: 0.9284\n",
      "Epoch 61/100\n",
      "50000/50000 [==============================] - 9s 175us/step - loss: 0.2349 - acc: 0.9337 - val_loss: 0.2805 - val_acc: 0.9289\n",
      "Epoch 62/100\n",
      "50000/50000 [==============================] - 8s 155us/step - loss: 0.2356 - acc: 0.9328 - val_loss: 0.2940 - val_acc: 0.9228\n",
      "Epoch 63/100\n",
      "50000/50000 [==============================] - 7s 143us/step - loss: 0.2345 - acc: 0.9329 - val_loss: 0.2754 - val_acc: 0.9286\n",
      "Epoch 64/100\n",
      "50000/50000 [==============================] - 7s 146us/step - loss: 0.2351 - acc: 0.9325 - val_loss: 0.2833 - val_acc: 0.9264\n",
      "Epoch 65/100\n",
      "50000/50000 [==============================] - 7s 140us/step - loss: 0.2341 - acc: 0.9340 - val_loss: 0.2813 - val_acc: 0.9265\n",
      "Epoch 66/100\n",
      "50000/50000 [==============================] - 8s 153us/step - loss: 0.2356 - acc: 0.9331 - val_loss: 0.2786 - val_acc: 0.9273\n",
      "Epoch 67/100\n",
      "50000/50000 [==============================] - 7s 143us/step - loss: 0.2343 - acc: 0.9336 - val_loss: 0.2818 - val_acc: 0.9256\n",
      "Epoch 68/100\n",
      "50000/50000 [==============================] - 8s 155us/step - loss: 0.2341 - acc: 0.9330 - val_loss: 0.2775 - val_acc: 0.9291\n",
      "Epoch 69/100\n",
      "50000/50000 [==============================] - 8s 160us/step - loss: 0.2334 - acc: 0.9332 - val_loss: 0.2781 - val_acc: 0.9274\n",
      "Epoch 70/100\n",
      "50000/50000 [==============================] - 7s 143us/step - loss: 0.2336 - acc: 0.9337 - val_loss: 0.2829 - val_acc: 0.9277\n",
      "Epoch 71/100\n",
      "50000/50000 [==============================] - 7s 142us/step - loss: 0.2340 - acc: 0.9333 - val_loss: 0.2760 - val_acc: 0.9261\n",
      "Epoch 72/100\n",
      "50000/50000 [==============================] - 7s 136us/step - loss: 0.2337 - acc: 0.9332 - val_loss: 0.2803 - val_acc: 0.9267\n",
      "Epoch 73/100\n",
      "50000/50000 [==============================] - 8s 153us/step - loss: 0.2332 - acc: 0.9335 - val_loss: 0.2829 - val_acc: 0.9248\n",
      "Epoch 74/100\n",
      "50000/50000 [==============================] - 7s 142us/step - loss: 0.2328 - acc: 0.9330 - val_loss: 0.2853 - val_acc: 0.9264\n",
      "Epoch 75/100\n",
      "50000/50000 [==============================] - 7s 131us/step - loss: 0.2334 - acc: 0.9337 - val_loss: 0.2844 - val_acc: 0.9250\n",
      "Epoch 76/100\n",
      "50000/50000 [==============================] - 7s 134us/step - loss: 0.2325 - acc: 0.9343 - val_loss: 0.2804 - val_acc: 0.9264\n",
      "Epoch 77/100\n",
      "50000/50000 [==============================] - 7s 135us/step - loss: 0.2321 - acc: 0.9332 - val_loss: 0.2887 - val_acc: 0.9247\n",
      "Epoch 78/100\n",
      "50000/50000 [==============================] - 8s 163us/step - loss: 0.2320 - acc: 0.9339 - val_loss: 0.2869 - val_acc: 0.9244\n",
      "Epoch 79/100\n",
      "50000/50000 [==============================] - 7s 141us/step - loss: 0.2325 - acc: 0.9337 - val_loss: 0.2818 - val_acc: 0.9261\n",
      "Epoch 80/100\n",
      "50000/50000 [==============================] - 8s 152us/step - loss: 0.2319 - acc: 0.9341 - val_loss: 0.2903 - val_acc: 0.9235\n",
      "Epoch 81/100\n",
      "50000/50000 [==============================] - 9s 173us/step - loss: 0.2319 - acc: 0.9344 - val_loss: 0.2833 - val_acc: 0.9265\n",
      "Epoch 82/100\n",
      "50000/50000 [==============================] - 8s 151us/step - loss: 0.2317 - acc: 0.9333 - val_loss: 0.2771 - val_acc: 0.9262\n",
      "Epoch 83/100\n",
      "50000/50000 [==============================] - 8s 153us/step - loss: 0.2315 - acc: 0.9342 - val_loss: 0.2778 - val_acc: 0.9292\n",
      "Epoch 84/100\n",
      "50000/50000 [==============================] - 7s 144us/step - loss: 0.2312 - acc: 0.9336 - val_loss: 0.2876 - val_acc: 0.9237\n",
      "Epoch 85/100\n",
      "50000/50000 [==============================] - 7s 138us/step - loss: 0.2317 - acc: 0.9337 - val_loss: 0.2881 - val_acc: 0.9221\n",
      "Epoch 86/100\n",
      "50000/50000 [==============================] - 7s 143us/step - loss: 0.2312 - acc: 0.9344 - val_loss: 0.2805 - val_acc: 0.9266\n",
      "Epoch 87/100\n",
      "50000/50000 [==============================] - 8s 156us/step - loss: 0.2304 - acc: 0.9335 - val_loss: 0.2827 - val_acc: 0.9276\n",
      "Epoch 88/100\n",
      "50000/50000 [==============================] - 7s 140us/step - loss: 0.2309 - acc: 0.9346 - val_loss: 0.2857 - val_acc: 0.9253\n",
      "Epoch 89/100\n",
      "50000/50000 [==============================] - 7s 143us/step - loss: 0.2302 - acc: 0.9341 - val_loss: 0.2859 - val_acc: 0.9258\n",
      "Epoch 90/100\n",
      "50000/50000 [==============================] - 8s 157us/step - loss: 0.2318 - acc: 0.9336 - val_loss: 0.2802 - val_acc: 0.9260\n",
      "Epoch 91/100\n",
      "50000/50000 [==============================] - 7s 142us/step - loss: 0.2307 - acc: 0.9350 - val_loss: 0.2884 - val_acc: 0.9220\n",
      "Epoch 92/100\n",
      "50000/50000 [==============================] - 8s 158us/step - loss: 0.2305 - acc: 0.9345 - val_loss: 0.2876 - val_acc: 0.9254\n",
      "Epoch 93/100\n",
      "50000/50000 [==============================] - 8s 167us/step - loss: 0.2305 - acc: 0.9344 - val_loss: 0.2795 - val_acc: 0.9275\n",
      "Epoch 94/100\n",
      "50000/50000 [==============================] - 10s 192us/step - loss: 0.2296 - acc: 0.9338 - val_loss: 0.2828 - val_acc: 0.9256\n",
      "Epoch 95/100\n",
      "50000/50000 [==============================] - 9s 174us/step - loss: 0.2303 - acc: 0.9345 - val_loss: 0.2763 - val_acc: 0.9296\n",
      "Epoch 96/100\n",
      "50000/50000 [==============================] - 7s 143us/step - loss: 0.2300 - acc: 0.9345 - val_loss: 0.2756 - val_acc: 0.9297\n",
      "Epoch 97/100\n",
      "50000/50000 [==============================] - 7s 142us/step - loss: 0.2295 - acc: 0.9351 - val_loss: 0.2853 - val_acc: 0.9262\n",
      "Epoch 98/100\n",
      "50000/50000 [==============================] - 7s 137us/step - loss: 0.2299 - acc: 0.9336 - val_loss: 0.2831 - val_acc: 0.9262\n",
      "Epoch 99/100\n",
      "50000/50000 [==============================] - 7s 138us/step - loss: 0.2289 - acc: 0.9356 - val_loss: 0.2836 - val_acc: 0.9269\n",
      "Epoch 100/100\n",
      "50000/50000 [==============================] - 7s 137us/step - loss: 0.2299 - acc: 0.9342 - val_loss: 0.2837 - val_acc: 0.9268\n"
     ]
    }
   ],
   "source": [
    "# Entrena\n",
    "modelo.fit(X_train, y_train,\n",
    "                validation_data=(X_val, y_val), epochs=100);"
   ]
  },
  {
   "cell_type": "code",
   "execution_count": 8,
   "metadata": {},
   "outputs": [
    {
     "data": {
      "text/plain": [
       "array([[1.79511026e-05, 2.33677594e-04, 4.17136699e-02, 9.28771675e-01,\n",
       "        3.41835317e-07, 8.50487035e-03, 1.38974690e-04, 1.02256048e-09,\n",
       "        2.06186138e-02, 2.28660227e-07],\n",
       "       [1.42953468e-07, 1.29316291e-07, 3.47969984e-03, 7.89146870e-03,\n",
       "        1.43898011e-04, 2.69206730e-03, 1.00258355e-07, 4.02741250e-07,\n",
       "        9.85758424e-01, 3.36742414e-05]], dtype=float32)"
      ]
     },
     "execution_count": 8,
     "metadata": {},
     "output_type": "execute_result"
    }
   ],
   "source": [
    "# Estima la probabilidades P(y|x)\n",
    "modelo.predict_proba(X_val[:2])"
   ]
  },
  {
   "cell_type": "code",
   "execution_count": 9,
   "metadata": {},
   "outputs": [],
   "source": [
    "# Guarda los pesos de entrenamiento\n",
    "modelo.save(\"pesos(red).h5\")"
   ]
  },
  {
   "cell_type": "code",
   "execution_count": 10,
   "metadata": {},
   "outputs": [
    {
     "name": "stdout",
     "output_type": "stream",
     "text": [
      "10000/10000 [==============================] - 1s 55us/step\n",
      "\n",
      "Perdida, Acierto =  [0.3095748557165265, 0.9228]\n"
     ]
    }
   ],
   "source": [
    "print(\"\\nPerdida, Acierto = \", modelo.evaluate(X_test, y_test))"
   ]
  },
  {
   "cell_type": "markdown",
   "metadata": {},
   "source": [
    "### UUUps!\n",
    "Hasta aqui, nuestro modelo es muy ineficiente. Hay algo erróneo, adivina qué."
   ]
  },
  {
   "cell_type": "code",
   "execution_count": 11,
   "metadata": {},
   "outputs": [
    {
     "name": "stdout",
     "output_type": "stream",
     "text": [
      "\n",
      "Testeo acierto: 92.28 %\n"
     ]
    },
    {
     "ename": "AssertionError",
     "evalue": "¡Tu red lo puede hacer mejor!",
     "output_type": "error",
     "traceback": [
      "\u001b[0;31m---------------------------------------------------------------------------\u001b[0m",
      "\u001b[0;31mAssertionError\u001b[0m                            Traceback (most recent call last)",
      "\u001b[0;32m<ipython-input-11-804abad1c53d>\u001b[0m in \u001b[0;36m<module>\u001b[0;34m\u001b[0m\n\u001b[1;32m      8\u001b[0m \u001b[0;34m\u001b[0m\u001b[0m\n\u001b[1;32m      9\u001b[0m \u001b[0;32massert\u001b[0m \u001b[0mtest_acierto\u001b[0m\u001b[0;34m>=\u001b[0m\u001b[0;36m0.92\u001b[0m\u001b[0;34m,\u001b[0m\u001b[0;34m\"¡La regresión logística lo puede hacer mejor!\"\u001b[0m\u001b[0;34m\u001b[0m\u001b[0;34m\u001b[0m\u001b[0m\n\u001b[0;32m---> 10\u001b[0;31m \u001b[0;32massert\u001b[0m \u001b[0mtest_acierto\u001b[0m\u001b[0;34m>=\u001b[0m\u001b[0;36m0.975\u001b[0m\u001b[0;34m,\u001b[0m\u001b[0;34m\"¡Tu red lo puede hacer mejor!\"\u001b[0m\u001b[0;34m\u001b[0m\u001b[0;34m\u001b[0m\u001b[0m\n\u001b[0m\u001b[1;32m     11\u001b[0m \u001b[0mprint\u001b[0m\u001b[0;34m(\u001b[0m\u001b[0;34m\"¡Gran trabajo!\"\u001b[0m\u001b[0;34m)\u001b[0m\u001b[0;34m\u001b[0m\u001b[0;34m\u001b[0m\u001b[0m\n",
      "\u001b[0;31mAssertionError\u001b[0m: ¡Tu red lo puede hacer mejor!"
     ]
    }
   ],
   "source": [
    "# Testeo del score...\n",
    "test_predicciones = modelo.predict_proba(X_test).argmax(axis=-1)\n",
    "test_respuestas = y_test.argmax(axis=-1)\n",
    "\n",
    "test_acierto = np.mean(test_predicciones==test_respuestas)\n",
    "\n",
    "print(\"\\nTesteo acierto: {} %\".format(test_acierto*100))\n",
    "\n",
    "assert test_acierto>=0.92,\"¡La regresión logística lo puede hacer mejor!\"\n",
    "assert test_acierto>=0.975,\"¡Tu red lo puede hacer mejor!\"\n",
    "print(\"¡Gran trabajo!\")"
   ]
  },
  {
   "cell_type": "markdown",
   "metadata": {},
   "source": [
    "## Keras + tensorboard\n",
    "\n",
    "Keras puede usar tensorboard para mostrar información sobre el proceso de aprendizaje."
   ]
  },
  {
   "cell_type": "code",
   "execution_count": 12,
   "metadata": {},
   "outputs": [
    {
     "name": "stdout",
     "output_type": "stream",
     "text": [
      "rm: no se puede borrar '/tmp/tboard/**': No existe el archivo o el directorio\r\n"
     ]
    }
   ],
   "source": [
    "! rm -r /tmp/tboard/**"
   ]
  },
  {
   "cell_type": "code",
   "execution_count": 13,
   "metadata": {},
   "outputs": [
    {
     "name": "stdout",
     "output_type": "stream",
     "text": [
      "Train on 50000 samples, validate on 10000 samples\n",
      "Epoch 1/10\n",
      "50000/50000 [==============================] - 7s 135us/step - loss: 0.2289 - acc: 0.9345 - val_loss: 0.2882 - val_acc: 0.9254\n",
      "Epoch 2/10\n",
      "50000/50000 [==============================] - 7s 142us/step - loss: 0.2293 - acc: 0.9351 - val_loss: 0.2889 - val_acc: 0.9250\n",
      "Epoch 3/10\n",
      "50000/50000 [==============================] - 7s 134us/step - loss: 0.2285 - acc: 0.9347 - val_loss: 0.2882 - val_acc: 0.9247\n",
      "Epoch 4/10\n",
      "50000/50000 [==============================] - 7s 138us/step - loss: 0.2293 - acc: 0.9350 - val_loss: 0.2878 - val_acc: 0.9238\n",
      "Epoch 5/10\n",
      "50000/50000 [==============================] - 7s 133us/step - loss: 0.2291 - acc: 0.9347 - val_loss: 0.2807 - val_acc: 0.9282\n",
      "Epoch 6/10\n",
      "50000/50000 [==============================] - 6s 130us/step - loss: 0.2282 - acc: 0.9342 - val_loss: 0.2825 - val_acc: 0.9256\n",
      "Epoch 7/10\n",
      "50000/50000 [==============================] - 7s 131us/step - loss: 0.2297 - acc: 0.9343 - val_loss: 0.2949 - val_acc: 0.9240\n",
      "Epoch 8/10\n",
      "50000/50000 [==============================] - 6s 128us/step - loss: 0.2284 - acc: 0.9350 - val_loss: 0.2832 - val_acc: 0.9269\n",
      "Epoch 9/10\n",
      "50000/50000 [==============================] - 7s 134us/step - loss: 0.2286 - acc: 0.9344 - val_loss: 0.2862 - val_acc: 0.9241\n",
      "Epoch 10/10\n",
      "50000/50000 [==============================] - 7s 130us/step - loss: 0.2283 - acc: 0.9348 - val_loss: 0.2833 - val_acc: 0.9269\n"
     ]
    },
    {
     "data": {
      "text/plain": [
       "<keras.callbacks.History at 0x7fa8fb9f7e48>"
      ]
     },
     "execution_count": 13,
     "metadata": {},
     "output_type": "execute_result"
    }
   ],
   "source": [
    "from keras.callbacks import TensorBoard\n",
    "modelo.fit(X_train, y_train, validation_data=(X_val, y_val), \n",
    "          epochs=10,\n",
    "          callbacks=[TensorBoard(\"/tmp/tboard\")])"
   ]
  },
  {
   "cell_type": "markdown",
   "metadata": {},
   "source": [
    "# Consejos y trucos\n",
    "\n",
    "Aquí van algunos consejos sobre lo que podrías hacer. No te preocupes, no necesitas probar todas estas ideas para mejorar el modelo, puedes para una vez que alcances 0.975 de acierto.\n",
    "\n",
    " * __Tamaño de la red__\n",
    "   * Más neuronas, \n",
    "   * Más capas, ([docs](https://keras.io/))\n",
    "\n",
    "   * No lineales en las capas ocultas\n",
    "     * tanh, relu, leaky relu, etc\n",
    "   * Las redes más grandes podrían necesitar más épocas para entrenar, asi que no descartes tu red solo porque no llegues al objetivo en 5 épocas.\n",
    "\n",
    "\n",
    " * __Parada temprane (Early Stopping)__\n",
    "   * Entrenar 100 épocas porque si no es buena idea.\n",
    "   * Algunas redes convergen en 5 épocas, otras en 500.\n",
    "   * Forma de proceder: parar cuando la métrica de validación (score) pase el máximo + 10 iteraciones\n",
    "     \n",
    "\n",
    " * __Optimización más rápida__\n",
    "   * rmsprop, nesterov_momentum, adam, adagrad, etc..\n",
    "     * Convergen más rápido y a veces alcanzan un óptimo mejor.\n",
    "     * Tiene sentido retocar el cociente learning rate/momentum, otros parámetros de aprendizaje, el batch size y el número de épocas\n",
    "\n",
    "\n",
    " * __Regularización__ para prevenir el sobreajuste (overfitting)\n",
    "   * Añade pesos de norma L2 a la función de pérdida, theano hará el resto\n",
    "     * Se puede hacer manualmente o via - https://keras.io/regularizers/\n",
    "   \n",
    "   \n",
    " * __Data augmemntation__ - getting 5x as large dataset for free is a great deal\n",
    "   * https://keras.io/preprocessing/image/\n",
    "   * Zoom-in+slice = move\n",
    "   * Rotate+zoom(to remove black stripes)\n",
    "   * any other perturbations\n",
    "   * Simple way to do that (if you have PIL/Image): \n",
    "     * ```from scipy.misc import imrotate,imresize```\n",
    "     * and a few slicing\n",
    "   * Stay realistic. There's usually no point in flipping dogs upside down as that is not the way you usually see them."
   ]
  }
 ],
 "metadata": {
  "kernelspec": {
   "display_name": "Python 3",
   "language": "python",
   "name": "python3"
  },
  "language_info": {
   "codemirror_mode": {
    "name": "ipython",
    "version": 3
   },
   "file_extension": ".py",
   "mimetype": "text/x-python",
   "name": "python",
   "nbconvert_exporter": "python",
   "pygments_lexer": "ipython3",
   "version": "3.7.2"
  },
  "toc": {
   "colors": {
    "hover_highlight": "#DAA520",
    "navigate_num": "#000000",
    "navigate_text": "#333333",
    "running_highlight": "#FF0000",
    "selected_highlight": "#FFD700",
    "sidebar_border": "#EEEEEE",
    "wrapper_background": "#FFFFFF"
   },
   "moveMenuLeft": true,
   "nav_menu": {
    "height": "120px",
    "width": "252px"
   },
   "navigate_menu": true,
   "number_sections": true,
   "sideBar": true,
   "threshold": 4,
   "toc_cell": false,
   "toc_section_display": "block",
   "toc_window_display": false,
   "widenNotebook": false
  }
 },
 "nbformat": 4,
 "nbformat_minor": 2
}
