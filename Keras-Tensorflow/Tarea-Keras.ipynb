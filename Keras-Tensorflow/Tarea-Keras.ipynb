{
 "cells": [
  {
   "cell_type": "markdown",
   "metadata": {},
   "source": [
    "# Keras\n",
    "* Tensorflow es una herramienta potente y flexible, pero programar grandes redes con Tensorflow puede ser tedioso.\n",
    "* Hay muchos paquetes de aprendizaje profundo que funcionan sobre Tensorflow, como Slim, TFLearn, Sonnet, Keras.\n",
    "* La elección depende del gusto del desarrollador y de la tarea.\n",
    "* Nosotros usaremos Keras."
   ]
  },
  {
   "cell_type": "code",
   "execution_count": 1,
   "metadata": {},
   "outputs": [
    {
     "data": {
      "application/vnd.jupyter.widget-view+json": {
       "model_id": "b85cc9fe637c408289f0abf9d02b6744",
       "version_major": 2,
       "version_minor": 0
      },
      "text/plain": [
       "HBox(children=(IntProgress(value=0, max=87910968), HTML(value='')))"
      ]
     },
     "metadata": {},
     "output_type": "display_data"
    },
    {
     "name": "stdout",
     "output_type": "stream",
     "text": [
      "\n"
     ]
    },
    {
     "data": {
      "application/vnd.jupyter.widget-view+json": {
       "model_id": "5bbbe5355dff4303aa06395dabd018da",
       "version_major": 2,
       "version_minor": 0
      },
      "text/plain": [
       "HBox(children=(IntProgress(value=0, max=170498071), HTML(value='')))"
      ]
     },
     "metadata": {},
     "output_type": "display_data"
    },
    {
     "name": "stdout",
     "output_type": "stream",
     "text": [
      "\n"
     ]
    },
    {
     "data": {
      "application/vnd.jupyter.widget-view+json": {
       "model_id": "a38889ffd7a14517bba5e23a782625cb",
       "version_major": 2,
       "version_minor": 0
      },
      "text/plain": [
       "HBox(children=(IntProgress(value=0, max=11490434), HTML(value='')))"
      ]
     },
     "metadata": {},
     "output_type": "display_data"
    },
    {
     "name": "stdout",
     "output_type": "stream",
     "text": [
      "\n",
      "realpath: '../readonly/keras/datasets/*': No existe el archivo o el directorio\n",
      "ln: fallo al crear el enlace simbólico './datasets': El archivo ya existe\n",
      "realpath: '../readonly/keras/models/*': No existe el archivo o el directorio\n",
      "ln: fallo al crear el enlace simbólico './models': El archivo ya existe\n"
     ]
    }
   ],
   "source": [
    "# se usan datasets y modelos precargardos en keras\n",
    "import download_utils\n",
    "download_utils.download_all_keras_resources(\"readonly/keras/models\", \"readonly/keras/datasets\")\n",
    "! mkdir -p ~/.keras/datasets\n",
    "! mkdir -p ~/.keras/models\n",
    "! ln -s $(realpath ../readonly/keras/datasets/*) ~/.keras/datasets/\n",
    "! ln -s $(realpath ../readonly/keras/models/*) ~/.keras/models/"
   ]
  },
  {
   "cell_type": "code",
   "execution_count": 2,
   "metadata": {},
   "outputs": [
    {
     "name": "stderr",
     "output_type": "stream",
     "text": [
      "Using TensorFlow backend.\n"
     ]
    }
   ],
   "source": [
    "import warnings \n",
    "warnings.filterwarnings('ignore')\n",
    "import numpy as np\n",
    "from preprocessed_mnist import load_dataset\n",
    "import keras\n",
    "X_train, y_train, X_val, y_val, X_test, y_test = load_dataset()\n",
    "y_train,y_val,y_test = map(keras.utils.np_utils.to_categorical,[y_train,y_val,y_test])"
   ]
  },
  {
   "cell_type": "code",
   "execution_count": 3,
   "metadata": {
    "scrolled": true
   },
   "outputs": [
    {
     "data": {
      "image/png": "[encoded data removed]",
      "text/plain": [
       "<Figure size 432x288 with 1 Axes>"
      ]
     },
     "metadata": {
      "needs_background": "light"
     },
     "output_type": "display_data"
    }
   ],
   "source": [
    "import matplotlib.pyplot as plt\n",
    "%matplotlib inline\n",
    "plt.imshow(X_train[0]);"
   ]
  },
  {
   "cell_type": "markdown",
   "metadata": {},
   "source": [
    "## Red con keras"
   ]
  },
  {
   "cell_type": "code",
   "execution_count": 4,
   "metadata": {},
   "outputs": [],
   "source": [
    "import tensorflow as tf\n",
    "from keras_utils import reset_tf_session\n",
    "s = reset_tf_session()"
   ]
  },
  {
   "cell_type": "code",
   "execution_count": 5,
   "metadata": {},
   "outputs": [
    {
     "name": "stdout",
     "output_type": "stream",
     "text": [
      "WARNING:tensorflow:From /home/iudh/.local/lib/python3.7/site-packages/tensorflow/python/framework/op_def_library.py:263: colocate_with (from tensorflow.python.framework.ops) is deprecated and will be removed in a future version.\n",
      "Instructions for updating:\n",
      "Colocations handled automatically by placer.\n"
     ]
    }
   ],
   "source": [
    "import keras\n",
    "from keras.models import Sequential\n",
    "from keras.utils.multi_gpu_utils import multi_gpu_model\n",
    "import keras.layers as ll\n",
    "\n",
    "modelo = Sequential(name=\"mlp\")   # perceptron multicapa\n",
    "\n",
    "modelo.add(ll.InputLayer([28, 28]))\n",
    "\n",
    "modelo.add(ll.Flatten())\n",
    "\n",
    "# cuerpo de la red\n",
    "modelo.add(ll.Dense(25))\n",
    "modelo.add(ll.Activation('linear'))\n",
    "\n",
    "modelo.add(ll.Dense(25))\n",
    "modelo.add(ll.Activation('linear'))\n",
    "\n",
    "# capa de salida: 10 neuronas para cada clase con sigmoide (softmax)\n",
    "modelo.add(ll.Dense(10, activation='softmax'))\n",
    "\n",
    "# categorical_crossentropy es la entropia cruzada de toda la vida\n",
    "# pero aplicada a vectores con one hot encoding\n",
    "modelo.compile(\"adam\", \"categorical_crossentropy\", metrics=[\"accuracy\"])\n",
    "\n",
    "#modelo_multi = keras.utils.multi_gpu_model(model, gpus=1, cpu_merge=True, cpu_relocation=False)\n",
    "#modelo_multi.compile(\"adam\", \"categorical_crossentropy\", metrics=[\"accuracy\"])"
   ]
  },
  {
   "cell_type": "code",
   "execution_count": 6,
   "metadata": {},
   "outputs": [
    {
     "name": "stdout",
     "output_type": "stream",
     "text": [
      "_________________________________________________________________\n",
      "Layer (type)                 Output Shape              Param #   \n",
      "=================================================================\n",
      "flatten_1 (Flatten)          (None, 784)               0         \n",
      "_________________________________________________________________\n",
      "dense_1 (Dense)              (None, 25)                19625     \n",
      "_________________________________________________________________\n",
      "activation_1 (Activation)    (None, 25)                0         \n",
      "_________________________________________________________________\n",
      "dense_2 (Dense)              (None, 25)                650       \n",
      "_________________________________________________________________\n",
      "activation_2 (Activation)    (None, 25)                0         \n",
      "_________________________________________________________________\n",
      "dense_3 (Dense)              (None, 10)                260       \n",
      "=================================================================\n",
      "Total params: 20,535\n",
      "Trainable params: 20,535\n",
      "Non-trainable params: 0\n",
      "_________________________________________________________________\n"
     ]
    }
   ],
   "source": [
    "modelo.summary()"
   ]
  },
  {
   "cell_type": "markdown",
   "metadata": {},
   "source": [
    "### Interfaz del modelo\n",
    "\n",
    "Los modelos de Keras funcionan con la interfaz de __Scikit-learn__ usando fit/predict con algunas extensiones. Veamoslo."
   ]
  },
  {
   "cell_type": "code",
   "execution_count": 7,
   "metadata": {},
   "outputs": [
    {
     "name": "stdout",
     "output_type": "stream",
     "text": [
      "WARNING:tensorflow:From /home/iudh/.local/lib/python3.7/site-packages/tensorflow/python/ops/math_ops.py:3066: to_int32 (from tensorflow.python.ops.math_ops) is deprecated and will be removed in a future version.\n",
      "Instructions for updating:\n",
      "Use tf.cast instead.\n",
      "Train on 50000 samples, validate on 10000 samples\n",
      "Epoch 1/100\n",
      "50000/50000 [==============================] - 7s 145us/step - loss: 0.4062 - acc: 0.8856 - val_loss: 0.2738 - val_acc: 0.9245\n",
      "Epoch 2/100\n",
      "50000/50000 [==============================] - 7s 139us/step - loss: 0.3006 - acc: 0.9148 - val_loss: 0.2701 - val_acc: 0.9236\n",
      "Epoch 3/100\n",
      "50000/50000 [==============================] - 7s 140us/step - loss: 0.2872 - acc: 0.9188 - val_loss: 0.2756 - val_acc: 0.9249\n",
      "Epoch 4/100\n",
      "50000/50000 [==============================] - 7s 141us/step - loss: 0.2809 - acc: 0.9205 - val_loss: 0.2670 - val_acc: 0.9257\n",
      "Epoch 5/100\n",
      "50000/50000 [==============================] - 7s 140us/step - loss: 0.2771 - acc: 0.9217 - val_loss: 0.2617 - val_acc: 0.9284\n",
      "Epoch 6/100\n",
      "50000/50000 [==============================] - 7s 139us/step - loss: 0.2730 - acc: 0.9220 - val_loss: 0.2785 - val_acc: 0.9235\n",
      "Epoch 7/100\n",
      "50000/50000 [==============================] - 7s 140us/step - loss: 0.2693 - acc: 0.9241 - val_loss: 0.2689 - val_acc: 0.9272\n",
      "Epoch 8/100\n",
      "50000/50000 [==============================] - 7s 141us/step - loss: 0.2667 - acc: 0.9245 - val_loss: 0.2649 - val_acc: 0.9301\n",
      "Epoch 9/100\n",
      "50000/50000 [==============================] - 7s 143us/step - loss: 0.2654 - acc: 0.9258 - val_loss: 0.2632 - val_acc: 0.9267\n",
      "Epoch 10/100\n",
      "50000/50000 [==============================] - 7s 143us/step - loss: 0.2631 - acc: 0.9261 - val_loss: 0.2737 - val_acc: 0.9257\n",
      "Epoch 11/100\n",
      "50000/50000 [==============================] - 7s 139us/step - loss: 0.2609 - acc: 0.9267 - val_loss: 0.2609 - val_acc: 0.9296\n",
      "Epoch 12/100\n",
      "50000/50000 [==============================] - 7s 141us/step - loss: 0.2598 - acc: 0.9271 - val_loss: 0.2737 - val_acc: 0.9253\n",
      "Epoch 13/100\n",
      "50000/50000 [==============================] - 7s 142us/step - loss: 0.2585 - acc: 0.9263 - val_loss: 0.2823 - val_acc: 0.9232\n",
      "Epoch 14/100\n",
      "50000/50000 [==============================] - 7s 142us/step - loss: 0.2580 - acc: 0.9269 - val_loss: 0.2662 - val_acc: 0.9293\n",
      "Epoch 15/100\n",
      "50000/50000 [==============================] - 7s 142us/step - loss: 0.2572 - acc: 0.9269 - val_loss: 0.2758 - val_acc: 0.9267\n",
      "Epoch 16/100\n",
      "50000/50000 [==============================] - 7s 143us/step - loss: 0.2549 - acc: 0.9276 - val_loss: 0.2684 - val_acc: 0.9269\n",
      "Epoch 17/100\n",
      "50000/50000 [==============================] - 7s 143us/step - loss: 0.2544 - acc: 0.9279 - val_loss: 0.2641 - val_acc: 0.9295\n",
      "Epoch 18/100\n",
      "50000/50000 [==============================] - 7s 143us/step - loss: 0.2531 - acc: 0.9281 - val_loss: 0.2693 - val_acc: 0.9289\n",
      "Epoch 19/100\n",
      "50000/50000 [==============================] - 7s 144us/step - loss: 0.2534 - acc: 0.9283 - val_loss: 0.2688 - val_acc: 0.9285\n",
      "Epoch 20/100\n",
      "50000/50000 [==============================] - 7s 141us/step - loss: 0.2515 - acc: 0.9287 - val_loss: 0.2718 - val_acc: 0.9269\n",
      "Epoch 21/100\n",
      "50000/50000 [==============================] - 7s 141us/step - loss: 0.2518 - acc: 0.9287 - val_loss: 0.2675 - val_acc: 0.9290\n",
      "Epoch 22/100\n",
      "50000/50000 [==============================] - 7s 143us/step - loss: 0.2496 - acc: 0.9297 - val_loss: 0.2677 - val_acc: 0.9291\n",
      "Epoch 23/100\n",
      "50000/50000 [==============================] - 7s 144us/step - loss: 0.2507 - acc: 0.9284 - val_loss: 0.2689 - val_acc: 0.9281\n",
      "Epoch 24/100\n",
      "50000/50000 [==============================] - 7s 142us/step - loss: 0.2485 - acc: 0.9299 - val_loss: 0.2696 - val_acc: 0.9285\n",
      "Epoch 25/100\n",
      "50000/50000 [==============================] - 7s 143us/step - loss: 0.2490 - acc: 0.9298 - val_loss: 0.2643 - val_acc: 0.9305\n",
      "Epoch 26/100\n",
      "50000/50000 [==============================] - 7s 144us/step - loss: 0.2483 - acc: 0.9302 - val_loss: 0.2721 - val_acc: 0.9272\n",
      "Epoch 27/100\n",
      "50000/50000 [==============================] - 7s 145us/step - loss: 0.2470 - acc: 0.9305 - val_loss: 0.2815 - val_acc: 0.9248\n",
      "Epoch 28/100\n",
      "50000/50000 [==============================] - 7s 143us/step - loss: 0.2465 - acc: 0.9303 - val_loss: 0.2699 - val_acc: 0.9289\n",
      "Epoch 29/100\n",
      "50000/50000 [==============================] - 7s 139us/step - loss: 0.2454 - acc: 0.9302 - val_loss: 0.2686 - val_acc: 0.9276\n",
      "Epoch 30/100\n",
      "50000/50000 [==============================] - 7s 149us/step - loss: 0.2443 - acc: 0.9315 - val_loss: 0.2879 - val_acc: 0.9230\n",
      "Epoch 31/100\n",
      "50000/50000 [==============================] - 8s 161us/step - loss: 0.2448 - acc: 0.9302 - val_loss: 0.2756 - val_acc: 0.9265\n",
      "Epoch 32/100\n",
      "50000/50000 [==============================] - 8s 152us/step - loss: 0.2451 - acc: 0.9304 - val_loss: 0.2764 - val_acc: 0.9270\n",
      "Epoch 33/100\n",
      "50000/50000 [==============================] - 7s 146us/step - loss: 0.2428 - acc: 0.9316 - val_loss: 0.2703 - val_acc: 0.9290\n",
      "Epoch 34/100\n",
      "50000/50000 [==============================] - 7s 145us/step - loss: 0.2439 - acc: 0.9299 - val_loss: 0.2755 - val_acc: 0.9276\n",
      "Epoch 35/100\n",
      "50000/50000 [==============================] - 7s 143us/step - loss: 0.2423 - acc: 0.9311 - val_loss: 0.2755 - val_acc: 0.9252\n",
      "Epoch 36/100\n",
      "50000/50000 [==============================] - 7s 142us/step - loss: 0.2430 - acc: 0.9305 - val_loss: 0.2708 - val_acc: 0.9268\n",
      "Epoch 37/100\n",
      "50000/50000 [==============================] - 7s 150us/step - loss: 0.2429 - acc: 0.9314 - val_loss: 0.2771 - val_acc: 0.9273\n",
      "Epoch 38/100\n",
      "50000/50000 [==============================] - 7s 147us/step - loss: 0.2414 - acc: 0.9308 - val_loss: 0.2685 - val_acc: 0.9301\n",
      "Epoch 39/100\n",
      "50000/50000 [==============================] - 7s 143us/step - loss: 0.2418 - acc: 0.9311 - val_loss: 0.2731 - val_acc: 0.9277\n",
      "Epoch 40/100\n",
      "50000/50000 [==============================] - 8s 156us/step - loss: 0.2408 - acc: 0.9315 - val_loss: 0.2751 - val_acc: 0.9272\n",
      "Epoch 41/100\n",
      "50000/50000 [==============================] - 7s 147us/step - loss: 0.2411 - acc: 0.9322 - val_loss: 0.2722 - val_acc: 0.9286\n",
      "Epoch 42/100\n",
      "50000/50000 [==============================] - 9s 172us/step - loss: 0.2397 - acc: 0.9319 - val_loss: 0.2734 - val_acc: 0.9280\n",
      "Epoch 43/100\n",
      "50000/50000 [==============================] - 11s 225us/step - loss: 0.2401 - acc: 0.9330 - val_loss: 0.2785 - val_acc: 0.9244\n",
      "Epoch 44/100\n",
      "50000/50000 [==============================] - 11s 226us/step - loss: 0.2397 - acc: 0.9314 - val_loss: 0.2752 - val_acc: 0.9270\n",
      "Epoch 45/100\n",
      "50000/50000 [==============================] - 9s 177us/step - loss: 0.2391 - acc: 0.9324 - val_loss: 0.2836 - val_acc: 0.9224\n",
      "Epoch 46/100\n",
      "50000/50000 [==============================] - 8s 156us/step - loss: 0.2392 - acc: 0.9328 - val_loss: 0.2791 - val_acc: 0.9265\n",
      "Epoch 47/100\n",
      "50000/50000 [==============================] - 7s 148us/step - loss: 0.2379 - acc: 0.9329 - val_loss: 0.2780 - val_acc: 0.9254\n",
      "Epoch 48/100\n",
      "50000/50000 [==============================] - 8s 153us/step - loss: 0.2383 - acc: 0.9320 - val_loss: 0.2704 - val_acc: 0.9293\n",
      "Epoch 49/100\n",
      "50000/50000 [==============================] - 8s 168us/step - loss: 0.2390 - acc: 0.9324 - val_loss: 0.2722 - val_acc: 0.9285\n",
      "Epoch 50/100\n",
      "50000/50000 [==============================] - 8s 163us/step - loss: 0.2375 - acc: 0.9329 - val_loss: 0.2745 - val_acc: 0.9265\n",
      "Epoch 51/100\n",
      "50000/50000 [==============================] - 10s 210us/step - loss: 0.2380 - acc: 0.9319 - val_loss: 0.2787 - val_acc: 0.9273\n",
      "Epoch 52/100\n",
      "50000/50000 [==============================] - 10s 203us/step - loss: 0.2368 - acc: 0.9324 - val_loss: 0.2754 - val_acc: 0.9297\n",
      "Epoch 53/100\n",
      "50000/50000 [==============================] - 9s 187us/step - loss: 0.2374 - acc: 0.9322 - val_loss: 0.2730 - val_acc: 0.9295\n",
      "Epoch 54/100\n",
      "50000/50000 [==============================] - 9s 180us/step - loss: 0.2364 - acc: 0.9325 - val_loss: 0.2927 - val_acc: 0.9232\n",
      "Epoch 55/100\n",
      "50000/50000 [==============================] - 8s 169us/step - loss: 0.2371 - acc: 0.9329 - val_loss: 0.2748 - val_acc: 0.9292\n",
      "Epoch 56/100\n",
      "50000/50000 [==============================] - 11s 219us/step - loss: 0.2364 - acc: 0.9331 - val_loss: 0.2756 - val_acc: 0.9276\n",
      "Epoch 57/100\n"
     ]
    },
    {
     "name": "stdout",
     "output_type": "stream",
     "text": [
      "50000/50000 [==============================] - 8s 154us/step - loss: 0.2363 - acc: 0.9328 - val_loss: 0.2795 - val_acc: 0.9268\n",
      "Epoch 58/100\n",
      "50000/50000 [==============================] - 8s 165us/step - loss: 0.2354 - acc: 0.9340 - val_loss: 0.2818 - val_acc: 0.9264\n",
      "Epoch 59/100\n",
      "50000/50000 [==============================] - 8s 166us/step - loss: 0.2358 - acc: 0.9330 - val_loss: 0.2811 - val_acc: 0.9257\n",
      "Epoch 60/100\n",
      "50000/50000 [==============================] - 10s 204us/step - loss: 0.2346 - acc: 0.9329 - val_loss: 0.2848 - val_acc: 0.9249\n",
      "Epoch 61/100\n",
      "50000/50000 [==============================] - 13s 253us/step - loss: 0.2347 - acc: 0.9336 - val_loss: 0.2833 - val_acc: 0.9230\n",
      "Epoch 62/100\n",
      "50000/50000 [==============================] - 13s 254us/step - loss: 0.2349 - acc: 0.9340 - val_loss: 0.2728 - val_acc: 0.9296\n",
      "Epoch 63/100\n",
      "50000/50000 [==============================] - 7s 141us/step - loss: 0.2341 - acc: 0.9335 - val_loss: 0.2816 - val_acc: 0.9272\n",
      "Epoch 64/100\n",
      "50000/50000 [==============================] - 10s 208us/step - loss: 0.2344 - acc: 0.9333 - val_loss: 0.2793 - val_acc: 0.9270\n",
      "Epoch 65/100\n",
      "50000/50000 [==============================] - 8s 162us/step - loss: 0.2342 - acc: 0.9337 - val_loss: 0.2840 - val_acc: 0.9259\n",
      "Epoch 66/100\n",
      "50000/50000 [==============================] - 7s 144us/step - loss: 0.2331 - acc: 0.9341 - val_loss: 0.2821 - val_acc: 0.9253\n",
      "Epoch 67/100\n",
      "50000/50000 [==============================] - 7s 147us/step - loss: 0.2333 - acc: 0.9338 - val_loss: 0.2869 - val_acc: 0.9249\n",
      "Epoch 68/100\n",
      "50000/50000 [==============================] - 8s 167us/step - loss: 0.2339 - acc: 0.9335 - val_loss: 0.2852 - val_acc: 0.9261\n",
      "Epoch 69/100\n",
      "50000/50000 [==============================] - 7s 146us/step - loss: 0.2328 - acc: 0.9341 - val_loss: 0.2798 - val_acc: 0.9287\n",
      "Epoch 70/100\n",
      "50000/50000 [==============================] - 9s 178us/step - loss: 0.2340 - acc: 0.9331 - val_loss: 0.2865 - val_acc: 0.9238\n",
      "Epoch 71/100\n",
      "50000/50000 [==============================] - 7s 148us/step - loss: 0.2327 - acc: 0.9343 - val_loss: 0.2870 - val_acc: 0.9243\n",
      "Epoch 72/100\n",
      "50000/50000 [==============================] - 8s 157us/step - loss: 0.2335 - acc: 0.9331 - val_loss: 0.2847 - val_acc: 0.9247\n",
      "Epoch 73/100\n",
      "50000/50000 [==============================] - 7s 146us/step - loss: 0.2329 - acc: 0.9339 - val_loss: 0.2808 - val_acc: 0.9274\n",
      "Epoch 74/100\n",
      "50000/50000 [==============================] - 7s 144us/step - loss: 0.2329 - acc: 0.9335 - val_loss: 0.2768 - val_acc: 0.9279\n",
      "Epoch 75/100\n",
      "50000/50000 [==============================] - 7s 141us/step - loss: 0.2323 - acc: 0.9338 - val_loss: 0.2854 - val_acc: 0.9252\n",
      "Epoch 76/100\n",
      "50000/50000 [==============================] - 7s 141us/step - loss: 0.2329 - acc: 0.9340 - val_loss: 0.2876 - val_acc: 0.9231\n",
      "Epoch 77/100\n",
      "50000/50000 [==============================] - 7s 144us/step - loss: 0.2323 - acc: 0.9337 - val_loss: 0.2944 - val_acc: 0.9226\n",
      "Epoch 78/100\n",
      "50000/50000 [==============================] - 8s 151us/step - loss: 0.2319 - acc: 0.9333 - val_loss: 0.2886 - val_acc: 0.9231\n",
      "Epoch 79/100\n",
      "50000/50000 [==============================] - 7s 148us/step - loss: 0.2319 - acc: 0.9340 - val_loss: 0.2775 - val_acc: 0.9279\n",
      "Epoch 80/100\n",
      "50000/50000 [==============================] - 7s 138us/step - loss: 0.2315 - acc: 0.9341 - val_loss: 0.2808 - val_acc: 0.9274\n",
      "Epoch 81/100\n",
      "50000/50000 [==============================] - 7s 140us/step - loss: 0.2310 - acc: 0.9342 - val_loss: 0.2828 - val_acc: 0.9275\n",
      "Epoch 82/100\n",
      "50000/50000 [==============================] - 7s 140us/step - loss: 0.2323 - acc: 0.9341 - val_loss: 0.2785 - val_acc: 0.9274\n",
      "Epoch 83/100\n",
      "50000/50000 [==============================] - 7s 144us/step - loss: 0.2312 - acc: 0.9342 - val_loss: 0.2839 - val_acc: 0.9236\n",
      "Epoch 84/100\n",
      "50000/50000 [==============================] - 7s 146us/step - loss: 0.2306 - acc: 0.9349 - val_loss: 0.2825 - val_acc: 0.9245\n",
      "Epoch 85/100\n",
      "50000/50000 [==============================] - 7s 148us/step - loss: 0.2310 - acc: 0.9337 - val_loss: 0.2786 - val_acc: 0.9264\n",
      "Epoch 86/100\n",
      "50000/50000 [==============================] - 7s 148us/step - loss: 0.2312 - acc: 0.9337 - val_loss: 0.2751 - val_acc: 0.9303\n",
      "Epoch 87/100\n",
      "50000/50000 [==============================] - 7s 149us/step - loss: 0.2307 - acc: 0.9346 - val_loss: 0.2799 - val_acc: 0.9271\n",
      "Epoch 88/100\n",
      "50000/50000 [==============================] - 7s 146us/step - loss: 0.2314 - acc: 0.9338 - val_loss: 0.2830 - val_acc: 0.9261\n",
      "Epoch 89/100\n",
      "50000/50000 [==============================] - 7s 141us/step - loss: 0.2301 - acc: 0.9346 - val_loss: 0.2834 - val_acc: 0.9257\n",
      "Epoch 90/100\n",
      "50000/50000 [==============================] - 8s 155us/step - loss: 0.2296 - acc: 0.9350 - val_loss: 0.2833 - val_acc: 0.9259\n",
      "Epoch 91/100\n",
      "50000/50000 [==============================] - 8s 151us/step - loss: 0.2300 - acc: 0.9353 - val_loss: 0.2792 - val_acc: 0.9263\n",
      "Epoch 92/100\n",
      "50000/50000 [==============================] - 8s 159us/step - loss: 0.2293 - acc: 0.9348 - val_loss: 0.2811 - val_acc: 0.9279\n",
      "Epoch 93/100\n",
      "50000/50000 [==============================] - 8s 157us/step - loss: 0.2293 - acc: 0.9347 - val_loss: 0.2790 - val_acc: 0.9271\n",
      "Epoch 94/100\n",
      "50000/50000 [==============================] - 7s 140us/step - loss: 0.2296 - acc: 0.9342 - val_loss: 0.2777 - val_acc: 0.9281\n",
      "Epoch 95/100\n",
      "50000/50000 [==============================] - 7s 143us/step - loss: 0.2291 - acc: 0.9345 - val_loss: 0.2796 - val_acc: 0.9270\n",
      "Epoch 96/100\n",
      "50000/50000 [==============================] - 7s 141us/step - loss: 0.2295 - acc: 0.9346 - val_loss: 0.2800 - val_acc: 0.9254\n",
      "Epoch 97/100\n",
      "50000/50000 [==============================] - 7s 147us/step - loss: 0.2291 - acc: 0.9346 - val_loss: 0.2873 - val_acc: 0.9259\n",
      "Epoch 98/100\n",
      "50000/50000 [==============================] - 8s 154us/step - loss: 0.2298 - acc: 0.9346 - val_loss: 0.2830 - val_acc: 0.9272\n",
      "Epoch 99/100\n",
      "50000/50000 [==============================] - 8s 151us/step - loss: 0.2302 - acc: 0.9344 - val_loss: 0.2838 - val_acc: 0.9240\n",
      "Epoch 100/100\n",
      "50000/50000 [==============================] - 8s 155us/step - loss: 0.2290 - acc: 0.9355 - val_loss: 0.2930 - val_acc: 0.9230\n"
     ]
    }
   ],
   "source": [
    "# Entrena\n",
    "modelo.fit(X_train, y_train,\n",
    "                validation_data=(X_val, y_val), epochs=100);"
   ]
  },
  {
   "cell_type": "code",
   "execution_count": 8,
   "metadata": {},
   "outputs": [
    {
     "data": {
      "text/plain": [
       "array([[1.1841316e-05, 1.3747551e-03, 4.5646407e-02, 9.3733704e-01,\n",
       "        4.3035271e-07, 7.6533318e-03, 5.9001608e-04, 2.2257842e-09,\n",
       "        7.3860800e-03, 1.6512161e-07],\n",
       "       [1.1133529e-06, 1.0736899e-06, 3.9408527e-02, 3.5646431e-02,\n",
       "        7.7243405e-04, 1.1929502e-02, 1.1296106e-06, 1.9419349e-06,\n",
       "        9.1218972e-01, 4.8154954e-05]], dtype=float32)"
      ]
     },
     "execution_count": 8,
     "metadata": {},
     "output_type": "execute_result"
    }
   ],
   "source": [
    "# Estima la probabilidades P(y|x)\n",
    "modelo.predict_proba(X_val[:2])"
   ]
  },
  {
   "cell_type": "code",
   "execution_count": 9,
   "metadata": {},
   "outputs": [
    {
     "ename": "NameError",
     "evalue": "name 'model' is not defined",
     "output_type": "error",
     "traceback": [
      "\u001b[0;31m---------------------------------------------------------------------------\u001b[0m",
      "\u001b[0;31mNameError\u001b[0m                                 Traceback (most recent call last)",
      "\u001b[0;32m<ipython-input-9-012c91386601>\u001b[0m in \u001b[0;36m<module>\u001b[0;34m\u001b[0m\n\u001b[1;32m      1\u001b[0m \u001b[0;31m# Guarda los pesos de entrenamiento\u001b[0m\u001b[0;34m\u001b[0m\u001b[0;34m\u001b[0m\u001b[0;34m\u001b[0m\u001b[0m\n\u001b[0;32m----> 2\u001b[0;31m \u001b[0mmodel\u001b[0m\u001b[0;34m.\u001b[0m\u001b[0msave\u001b[0m\u001b[0;34m(\u001b[0m\u001b[0;34m\"pesos(red).h5\"\u001b[0m\u001b[0;34m)\u001b[0m\u001b[0;34m\u001b[0m\u001b[0;34m\u001b[0m\u001b[0m\n\u001b[0m",
      "\u001b[0;31mNameError\u001b[0m: name 'model' is not defined"
     ]
    }
   ],
   "source": [
    "# Guarda los pesos de entrenamiento\n",
    "modelo.save(\"pesos(red).h5\")"
   ]
  },
  {
   "cell_type": "code",
   "execution_count": null,
   "metadata": {},
   "outputs": [],
   "source": [
    "print(\"\\nPerdida, Acierto = \", model.evaluate(X_test, y_test))"
   ]
  },
  {
   "cell_type": "markdown",
   "metadata": {},
   "source": [
    "### UUUps!\n",
    "Hasta aqui, nuestro modelo es muy ineficiente. Hay algo erróneo, adivina qué."
   ]
  },
  {
   "cell_type": "code",
   "execution_count": null,
   "metadata": {},
   "outputs": [],
   "source": [
    "# Testeo del score...\n",
    "test_predicciones = modelo.predict_proba(X_test).argmax(axis=-1)\n",
    "test_respuestas = y_test.argmax(axis=-1)\n",
    "\n",
    "test_acierto = np.mean(test_predicciones==test_respuestas)\n",
    "\n",
    "print(\"\\nTesteo acierto: {} %\".format(test_acierto*100))\n",
    "\n",
    "assert test_acierto>=0.92,\"¡La regresión logística lo puede hacer mejor!\"\n",
    "assert test_acierto>=0.975,\"¡Tu red lo puede hacer mejor!\"\n",
    "print(\"¡Gran trabajo!\")"
   ]
  },
  {
   "cell_type": "markdown",
   "metadata": {},
   "source": [
    "## Keras + tensorboard\n",
    "\n",
    "Keras puede usar tensorboard para mostrar información sobre el proceso de aprendizaje."
   ]
  },
  {
   "cell_type": "code",
   "execution_count": null,
   "metadata": {},
   "outputs": [],
   "source": [
    "! rm -r /tmp/tboard/**"
   ]
  },
  {
   "cell_type": "code",
   "execution_count": null,
   "metadata": {},
   "outputs": [],
   "source": [
    "from keras.callbacks import TensorBoard\n",
    "model.fit(X_train, y_train, validation_data=(X_val, y_val), \n",
    "          epochs=10,\n",
    "          callbacks=[TensorBoard(\"/tmp/tboard\")])"
   ]
  },
  {
   "cell_type": "markdown",
   "metadata": {},
   "source": [
    "# Tips & tricks\n",
    "\n",
    "Here are some tips on what you could do. Don't worry, to reach the passing threshold you don't need to try all the ideas listed here, feel free to stop once you reach the 0.975 accuracy mark.\n",
    "\n",
    " * __Network size__\n",
    "   * More neurons, \n",
    "   * More layers, ([docs](https://keras.io/))\n",
    "\n",
    "   * Nonlinearities in the hidden layers\n",
    "     * tanh, relu, leaky relu, etc\n",
    "   * Larger networks may take more epochs to train, so don't discard your net just because it could didn't beat the baseline in 5 epochs.\n",
    "\n",
    "\n",
    " * __Early Stopping__\n",
    "   * Training for 100 epochs regardless of anything is probably a bad idea.\n",
    "   * Some networks converge over 5 epochs, others - over 500.\n",
    "   * Way to go: stop when validation score is 10 iterations past maximum\n",
    "     \n",
    "\n",
    " * __Faster optimization__\n",
    "   * rmsprop, nesterov_momentum, adam, adagrad and so on.\n",
    "     * Converge faster and sometimes reach better optima\n",
    "     * It might make sense to tweak learning rate/momentum, other learning parameters, batch size and number of epochs\n",
    "\n",
    "\n",
    " * __Regularize__ to prevent overfitting\n",
    "   * Add some L2 weight norm to the loss function, theano will do the rest\n",
    "     * Can be done manually or via - https://keras.io/regularizers/\n",
    "   \n",
    "   \n",
    " * __Data augmemntation__ - getting 5x as large dataset for free is a great deal\n",
    "   * https://keras.io/preprocessing/image/\n",
    "   * Zoom-in+slice = move\n",
    "   * Rotate+zoom(to remove black stripes)\n",
    "   * any other perturbations\n",
    "   * Simple way to do that (if you have PIL/Image): \n",
    "     * ```from scipy.misc import imrotate,imresize```\n",
    "     * and a few slicing\n",
    "   * Stay realistic. There's usually no point in flipping dogs upside down as that is not the way you usually see them."
   ]
  }
 ],
 "metadata": {
  "kernelspec": {
   "display_name": "Python 3",
   "language": "python",
   "name": "python3"
  },
  "language_info": {
   "codemirror_mode": {
    "name": "ipython",
    "version": 3
   },
   "file_extension": ".py",
   "mimetype": "text/x-python",
   "name": "python",
   "nbconvert_exporter": "python",
   "pygments_lexer": "ipython3",
   "version": "3.7.2"
  },
  "toc": {
   "colors": {
    "hover_highlight": "#DAA520",
    "navigate_num": "#000000",
    "navigate_text": "#333333",
    "running_highlight": "#FF0000",
    "selected_highlight": "#FFD700",
    "sidebar_border": "#EEEEEE",
    "wrapper_background": "#FFFFFF"
   },
   "moveMenuLeft": true,
   "nav_menu": {
    "height": "120px",
    "width": "252px"
   },
   "navigate_menu": true,
   "number_sections": true,
   "sideBar": true,
   "threshold": 4,
   "toc_cell": false,
   "toc_section_display": "block",
   "toc_window_display": false,
   "widenNotebook": false
  }
 },
 "nbformat": 4,
 "nbformat_minor": 2
}
