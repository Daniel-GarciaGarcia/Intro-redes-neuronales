{
 "cells": [
  {
   "cell_type": "markdown",
   "metadata": {},
   "source": [
    "### Tu propia red neuronal con Numpy\n",
    "\n",
    "En este notebook vamos a construir una red usando solamente numpy y nervios de acero. Será divertido.\n",
    "\n",
    "<img src=\"frankenstein.png\" style=\"width:20%\">\n",
    "\n",
    "\n",
    "* ref => https://towardsdatascience.com/building-an-artificial-neural-network-using-pure-numpy-3fe21acc5815"
   ]
  },
  {
   "cell_type": "code",
   "execution_count": 1,
   "metadata": {},
   "outputs": [],
   "source": [
    "# librerias\n",
    "\n",
    "import sys\n",
    "sys.path.append(\"..\")\n",
    "import tqdm_utils\n",
    "import download_utils"
   ]
  },
  {
   "cell_type": "code",
   "execution_count": 2,
   "metadata": {},
   "outputs": [],
   "source": [
    "# usa modelos y datasets precargardos desde keras\n",
    "\n",
    "download_utils.link_all_keras_resources()"
   ]
  },
  {
   "cell_type": "code",
   "execution_count": 3,
   "metadata": {},
   "outputs": [],
   "source": [
    "from __future__ import print_function\n",
    "import numpy as np\n",
    "np.random.seed(42)"
   ]
  },
  {
   "cell_type": "markdown",
   "metadata": {},
   "source": [
    "Nuestra clase principal: una capa con metodos .forward() y .backward()."
   ]
  },
  {
   "cell_type": "code",
   "execution_count": 4,
   "metadata": {},
   "outputs": [],
   "source": [
    "class Capa:\n",
    "    '''\n",
    "    Un bloque de construccion. Cada capa es capaz de realizar dos cosas:\n",
    "    \n",
    "    - Procesar la entrada para dar una salida:               salida = capa.forward(entrada)\n",
    "    \n",
    "    - Propagar los gradientes a traves de la propia capa:    grad_in = capa.backward(entrada, grad_out)\n",
    "    \n",
    "    Algunas capas tambien tienen parametros de aprendizaje que se actualizan durante el metodo capa.backward.\n",
    "    '''\n",
    "    def __init__(self):\n",
    "        \"\"\"Aqui se pueden inicializar parametros de la capa, si hay alguno, y cosas auxiliares.\"\"\"\n",
    "        # Una capa vacia no hace nada\n",
    "        self.pesos = np.zeros(shape=(input.shape[1], 10))\n",
    "        sesgos = np.zeros(shape=(10,))\n",
    "        pass\n",
    "    \n",
    "    def forward(self, input):  # propagacion hacia adelante de los datos\n",
    "        '''\n",
    "        Toma la dimension de los datos de entrada [muestra, unidades_entrada], \n",
    "        devuelve datos de salida [muestra, unidades_salida]\n",
    "        '''\n",
    "        # Una capa vacia solo devuelve la entrada.\n",
    "        output = np.matmul(input, self.pesos) + sesgos  # multiplicacion matricial\n",
    "        return output\n",
    "\n",
    "    def backward(self, input, grad_output):  # propagacion hacia atras del error\n",
    "        '''\n",
    "        Realiza la propagacion hacia atras a traves de la capa, con respecto a la entrada dada.\n",
    "        \n",
    "        Se calculan los gradientes de la perdida de entrada, se necesita aplicar la regla de la cadena:\n",
    "        \n",
    "        d perdida / d x  = (d perdida / d capa) * (d capa / d x)\n",
    "        \n",
    "        Afortunadamente, se recibe d perdida / d capa como entrada, \n",
    "        asi que solo se necesita multiplicar por d capa / d x. (derivadas)\n",
    "        \n",
    "        Si na capa tiene parametro,por ejemplo una capa densa (full connected, dense),\n",
    "        tambien se necesita actualizarla usando d perdida / d capa\n",
    "        '''\n",
    "        # El gradiente de una capa vacia es precisamente grad_output, pero se escribe explicitamente:\n",
    "        num_unidades = input.shape[1]\n",
    "        \n",
    "        d_capa_d_entrada = np.eye(num_unidades)\n",
    "        \n",
    "        return np.dot(grad_output, d_capa_d_entrada) # regla de la cadena, producto escalar"
   ]
  },
  {
   "cell_type": "markdown",
   "metadata": {},
   "source": [
    "### Camino por delante\n",
    "\n",
    "Vamos a construir una red neuronal que clasifique números de la base de datos MNIST. Para hacerlo, necesitamos construir algunos bloques:\n",
    "\n",
    "- Capa densa - capa fully-connected ,  $f(X)=W \\cdot X + \\vec{b}$\n",
    "- Capa ReLU (unidad de rectificado lineal o otra capa no lineal que se prefiera)\n",
    "- Funcion de perdida (entropia cruzada) (loss function - crossentropy)\n",
    "- Algoritmo de propagacion hacia atras (Backprop algorithm), gradiente descente estocastico\n",
    "\n",
    "Vamos a verlos uno por uno.\n"
   ]
  },
  {
   "cell_type": "markdown",
   "metadata": {},
   "source": [
    "### Capa no lineal\n",
    "\n",
    "Esta es la capa más simple que se puede tener: simplemente aplica una función no lineal a cada elemento de la red."
   ]
  },
  {
   "cell_type": "code",
   "execution_count": 5,
   "metadata": {},
   "outputs": [],
   "source": [
    "class ReLU(Capa):\n",
    "    def __init__(self):\n",
    "        '''ReLU aplica un rectificado lineal a todas las entradas'''\n",
    "        pass\n",
    "    \n",
    "    def forward(self, input):\n",
    "        '''Aplica ReLU elemento a elemento a la matriz [muestra, unidades_entrada]'''\n",
    "        return np.maximum(0,input)\n",
    "    \n",
    "    def backward(self, input, grad_output):\n",
    "        '''Calcula el gradiente de la perdida para las entradas de ReLU'''\n",
    "        relu_grad = input > 0\n",
    "        return grad_output*relu_grad        "
   ]
  },
  {
   "cell_type": "code",
   "execution_count": 6,
   "metadata": {},
   "outputs": [],
   "source": [
    "# algunas pruebas\n",
    "\n",
    "from util import eval_numerical_gradient\n",
    "x = np.linspace(-1,1,10*32).reshape([10,32])\n",
    "l = ReLU()\n",
    "grads = l.backward(x,np.ones([10,32])/(32*10))\n",
    "num_grads = eval_numerical_gradient(lambda x: l.forward(x).mean(), x=x)\n",
    "assert np.allclose(grads, num_grads, rtol=1e-3, atol=0),\\\n",
    "    'el gradiente devuelto por la capa no coincide con el gradiente calculado numericamente' "
   ]
  },
  {
   "cell_type": "markdown",
   "metadata": {},
   "source": [
    "#### En primer lugar: funciones lambda \n",
    "\n",
    "En python, se pueden definir funciones en una sola linea usando la funcion `lambda`,\n",
    "\n",
    "que tiene una sintaxis tal que: `lambda param1, param2: expression`\n",
    "\n",
    "\n",
    "Por ejemplo: `f = lambda x, y: x+y` es equivalente a la funcion:\n",
    "\n",
    "```\n",
    "def f(x,y):\n",
    "    return x+y\n",
    "```\n",
    "Para mas informacion,  [aqui](http://www.secnetix.de/olli/Python/lambda_functions.hawk).    "
   ]
  },
  {
   "cell_type": "markdown",
   "metadata": {},
   "source": [
    "### Capa densa (full connected)\n",
    "\n",
    "Vamos a construir algo mas complicado. A diferencia de la no linealidad, una capa densa realmente aprende algo.\n",
    "\n",
    "Una capa densa aplica una transformacion afin. En forma vectorial se puede describir:\n",
    "\n",
    "$$f(X)= W \\cdot X + \\vec b $$\n",
    "\n",
    "Donde \n",
    "* X es una matriz de caracteristicas de dimensiones [tamaño_muestra, num_caracteristicas],\n",
    "* W es una matriz de pesos [num_caracteristicas, num_salidas] \n",
    "* b es un vector de sesgos [num_salidas].\n",
    "\n",
    "Tanto W como b se inicializan durante la creacion de la capa y se actualizan cada vez que se llama al metodo backward()."
   ]
  },
  {
   "cell_type": "code",
   "execution_count": 7,
   "metadata": {},
   "outputs": [],
   "source": [
    "class Densa(Capa):\n",
    "    def __init__(self, in_unids, out_unids, tasa=0.1):\n",
    "        '''\n",
    "        Una capa densa es una capa que realiza una transformacion afin:\n",
    "        f(x) = <W*x> + b\n",
    "        tasa es la tasa de aprendizaje de la red (learning rate)\n",
    "        '''\n",
    "        self.tasa = tasa\n",
    "        \n",
    "        # inicializa los pesos con numeros pequeños aleatorios. Se usa un inicio normal, \n",
    "        # pero hay mejores maneras de hacerlo. Una vez que te funcione, prueba esto: http://bit.ly/2vTlmaJ\n",
    "        self.pesos = np.random.randn(in_unids, out_unids)*0.01\n",
    "        self.sesgos = np.zeros(out_unids)\n",
    "        \n",
    "    def forward(self,input):\n",
    "        '''\n",
    "        Realiza la transformacion afin:\n",
    "        f(x) = <W*x> + b\n",
    "        \n",
    "        dimension de entrada: [muestra, unidades_entrada]\n",
    "        dimension de salida: [muestra, unidades_salida]\n",
    "        '''\n",
    "        return np.matmul(input, self.pesos) + self.sesgos\n",
    "    \n",
    "    def backward(self,input,grad_output):\n",
    "        \n",
    "        # se calcula d f / d x = d f / d densa * d densa / d x\n",
    "        # donde d densa/ d x = matriz de pesos traspuesta\n",
    "        grad_input = np.dot(grad_output,np.transpose(self.pesos))\n",
    "        \n",
    "        # se calcula el gradiente de los pesos y los sesgos\n",
    "        grad_pesos = np.transpose(np.dot(np.transpose(grad_output),input))\n",
    "        grad_sesgos = np.sum(grad_output, axis = 0)\n",
    "        \n",
    "        assert grad_pesos.shape == self.pesos.shape and grad_sesgos.shape == self.sesgos.shape\n",
    "        # Aqui se realiza el paso de gradiente descente estocastico. \n",
    "        # Despues, puedes intentar mejorarlo.\n",
    "        self.pesos = self.pesos - self.tasa * grad_pesos\n",
    "        self.sesgos = self.sesgos - self.tasa * grad_sesgos\n",
    "        \n",
    "        return grad_input"
   ]
  },
  {
   "cell_type": "markdown",
   "metadata": {},
   "source": [
    "### Testeando la capa densa\n",
    "\n",
    "Se haran algunos tests para asegurarnos que la capa densa funciona adecuadamente. Si funciona, se printea ¡Bien hecho!\n",
    "\n",
    "... o no, y tendras que arreglar algo. Para esto alguno consejos:\n",
    "* Asegurate de calcular los gradientes para pesos y sesgo como __la suma de los gradientes sobre la muestra__. La salida ya está dividida entre el tamaño de la muestra.\n",
    "* Si estás debbugueando, procura guardar los gradientes en una clase, como \"self.grad_w = grad_w\" o printea los primeros pesos. Esto ayuda.\n",
    "* Si nada ayuda, trata de ignorar el test y pasa a la fase de entrenamiento. Si entrena, está pasando algo que no afecta al funcionamiento de la red."
   ]
  },
  {
   "cell_type": "code",
   "execution_count": 8,
   "metadata": {},
   "outputs": [
    {
     "name": "stdout",
     "output_type": "stream",
     "text": [
      "¡Bien hecho!\n"
     ]
    }
   ],
   "source": [
    "l = Densa(128, 150)\n",
    "\n",
    "assert -0.05 < l.pesos.mean() < 0.05 and 1e-3 < l.pesos.std() < 1e-1,\\\n",
    "    'Los pesos iniciales deben tener media cero y poca varianza.'\\\n",
    "    'Si sabes lo que haces, borra este assert.'\n",
    "\n",
    "assert -0.05<l.sesgos.mean()<0.05, 'Los sesgos deben tener media cero. Ignora esto si por alguna razón pones otra cosa'\n",
    "\n",
    "\n",
    "# Para testear las salidas, explicitamente se ponen valores fijos. ¡NO HACER ESTO CON LA RED REAL!\n",
    "l = Densa(3,4)\n",
    "\n",
    "x = np.linspace(-1,1,2*3).reshape([2,3])\n",
    "l.pesos = np.linspace(-1,1,3*4).reshape([3,4])\n",
    "l.sesgos = np.linspace(-1,1,4)\n",
    "\n",
    "assert np.allclose(l.forward(x),np.array([[ 0.07272727,  0.41212121,  0.75151515,  1.09090909],\n",
    "                                          [-0.90909091,  0.08484848,  1.07878788,  2.07272727]]))\n",
    "print('¡Bien hecho!')"
   ]
  },
  {
   "cell_type": "code",
   "execution_count": 9,
   "metadata": {},
   "outputs": [
    {
     "name": "stdout",
     "output_type": "stream",
     "text": [
      "¡Bien hecho!\n"
     ]
    }
   ],
   "source": [
    "# Para testear los gradientess, usamos los gradientes obtenidos por diferencias finitas\n",
    "\n",
    "from util import eval_numerical_gradient\n",
    "\n",
    "x = np.linspace(-1,1,10*32).reshape([10,32])\n",
    "l = Densa(32, 64, tasa=0)\n",
    "\n",
    "num_grads = eval_numerical_gradient(lambda x: l.forward(x).sum(),x)\n",
    "grads = l.backward(x,np.ones([10,64]))\n",
    "\n",
    "assert np.allclose(grads, num_grads, rtol=1e-3, atol=0), \\\n",
    "                   'el gradiente de entrada no cuadra con el gradiente numerico'\n",
    "print('¡Bien hecho!')"
   ]
  },
  {
   "cell_type": "code",
   "execution_count": 10,
   "metadata": {},
   "outputs": [
    {
     "name": "stdout",
     "output_type": "stream",
     "text": [
      "¡Bien hecho!\n"
     ]
    }
   ],
   "source": [
    "#testeo de gradientes con parametros\n",
    "\n",
    "def salida_dados_ps(p,s):\n",
    "    capa = Densa(32, 64, tasa=1)\n",
    "    capa.pesos = np.array(p)\n",
    "    capa.sesgos = np.array(s)\n",
    "    x = np.linspace(-1,1,10*32).reshape([10,32])\n",
    "    return capa.forward(x)\n",
    "    \n",
    "def grad_por_params(p,s):\n",
    "    capa = Densa(32, 64, tasa=1)\n",
    "    capa.pesos = np.array(p)\n",
    "    capa.sesgos = np.array(s)\n",
    "    x = np.linspace(-1,1,10*32).reshape([10,32])\n",
    "    capa.backward(x,np.ones([10,64]) / 10.)\n",
    "    return  p-capa.pesos, s-capa.sesgos\n",
    "    \n",
    "p,s = np.random.randn(32,64), np.linspace(-1,1,64)\n",
    "\n",
    "num_dp = eval_numerical_gradient(lambda p: salida_dados_ps(p,s).mean(0).sum(),p)\n",
    "num_ds = eval_numerical_gradient(lambda s: salida_dados_ps(p,s).mean(0).sum(),s)\n",
    "\n",
    "grad_p, grad_s = grad_por_params(p,s)\n",
    "\n",
    "assert np.allclose(num_dp, grad_p, rtol=1e-3, atol=0), 'los pesos del gradiente no concuerdan con el valor numerico'\n",
    "assert np.allclose(num_ds, grad_s, rtol=1e-3, atol=0), 'los pesos del gradiente no concuerdan con el valor numerico'\n",
    "print('¡Bien hecho!')"
   ]
  },
  {
   "cell_type": "markdown",
   "metadata": {},
   "source": [
    "### La funcion de perdida (loss function)\n",
    "\n",
    "Dado que queremos predecir probabilidades, seria logico definir la funcion softmax en la red y computar la funcion de perdida dadas las probabilidades predichas. Sin embargo, existe una manera mejor de hacer esto.\n",
    "\n",
    "Escribiendo la expresion de la entropia cruzada como funcion de los logits de la funcion softmax, se veria algo como:\n",
    "\n",
    "$$ perdida = - log \\space {e^{a_{correcto}} \\over {\\underset i \\sum e^{a_i} } } $$\n",
    "\n",
    "Mirando mas profundamente, se puede reescribir como:\n",
    "\n",
    "$$ perdida = - a_{correcto} + log {\\underset i \\sum e^{a_i} } $$\n",
    "\n",
    "A esto se le llama Log-softmax y es mejor que hacer directamente log(softmax(a)) en todos los aspectos:\n",
    "* Mejor estabilidad numerica\n",
    "* Mas facil de derivar\n",
    "* Computacion mas rapida\n",
    "\n",
    "\n",
    "Usaremos log-softmax."
   ]
  },
  {
   "cell_type": "code",
   "execution_count": 11,
   "metadata": {},
   "outputs": [],
   "source": [
    "def softmax(logits,respuestas):\n",
    "    '''Calcula la entropia cruzada desde logits[muestra,n_clases] y las ids de la respuesta correcta'''\n",
    "    logits_respuestas = logits[np.arange(len(logits)), respuestas]\n",
    "    \n",
    "    x_entropia = -logits_respuestas + np.log(np.sum(np.exp(logits),axis=-1))\n",
    "    \n",
    "    return x_entropia\n",
    "\n",
    "def grad_softmax(logits,respuestas):\n",
    "    '''\n",
    "    Calcula los gradientes de la entropia cruzada desde logits[muestra,n_clases] \n",
    "    y las ids de la respuesta correcta\n",
    "    '''\n",
    "    unos_respuestas = np.zeros_like(logits)\n",
    "    unos_respuestas[np.arange(len(logits)),respuestas] = 1\n",
    "    \n",
    "    softmax = np.exp(logits) / np.exp(logits).sum(axis=-1,keepdims=True)\n",
    "    \n",
    "    return (-unos_respuestas + softmax) / logits.shape[0]"
   ]
  },
  {
   "cell_type": "code",
   "execution_count": 12,
   "metadata": {},
   "outputs": [],
   "source": [
    "logits = np.linspace(-1,1,500).reshape([50,10])\n",
    "respuestas = np.arange(50)%10\n",
    "\n",
    "softmax(logits,respuestas)\n",
    "grads = grad_softmax(logits,respuestas)\n",
    "num_grads = eval_numerical_gradient(lambda x: softmax(x, respuestas).mean(),logits)\n",
    "\n",
    "assert np.allclose(num_grads, grads, rtol=1e-3, atol=0), 'La implementacion ha fallado.'"
   ]
  },
  {
   "cell_type": "markdown",
   "metadata": {},
   "source": [
    "### Red completa\n",
    "\n",
    "Ahora vamos a combinar todo para construir una red neuronal funcional. Se usara para clasificar numeros escritos a mano, asi que lo primero cargar los datos."
   ]
  },
  {
   "cell_type": "code",
   "execution_count": 13,
   "metadata": {},
   "outputs": [
    {
     "name": "stderr",
     "output_type": "stream",
     "text": [
      "Using TensorFlow backend.\n"
     ]
    },
    {
     "data": {
      "image/png": "[encoded data removed]",
      "text/plain": [
       "<Figure size 432x432 with 4 Axes>"
      ]
     },
     "metadata": {
      "needs_background": "light"
     },
     "output_type": "display_data"
    }
   ],
   "source": [
    "import matplotlib.pyplot as plt\n",
    "%matplotlib inline\n",
    "import warnings\n",
    "warnings.simplefilter(action='ignore', category=FutureWarning) # quita avisos\n",
    "\n",
    "from preprocessed_mnist import load_dataset\n",
    "X_train, y_train, X_val, y_val, X_test, y_test = load_dataset(flatten=True)\n",
    "\n",
    "plt.figure(figsize=[6,6])\n",
    "for i in range(4):\n",
    "    plt.subplot(2,2,i+1)\n",
    "    plt.title(\"Label: %i\"%y_train[i])\n",
    "    plt.imshow(X_train[i].reshape([28,28]),cmap='gray');"
   ]
  },
  {
   "cell_type": "markdown",
   "metadata": {},
   "source": [
    "Definiremos la red como una lista de capas, cada aplicada a la salida de la anterior. Con esta configuracion, calcular las predicciones se vuelve trivial."
   ]
  },
  {
   "cell_type": "code",
   "execution_count": 14,
   "metadata": {},
   "outputs": [],
   "source": [
    "red = []\n",
    "red.append(Densa(X_train.shape[1],100))\n",
    "red.append(ReLU())\n",
    "red.append(Densa(100,200))\n",
    "red.append(ReLU())\n",
    "red.append(Densa(200,10))"
   ]
  },
  {
   "cell_type": "code",
   "execution_count": 15,
   "metadata": {},
   "outputs": [],
   "source": [
    "def forward(red, X):\n",
    "    '''\n",
    "    Calcula las activaciones de todas las capas de la red aplicandolas secuencialmente.\n",
    "    Devuelve una lista de activaciones para cada capa. \n",
    "    Asegurate que las ultimas activaciones corresponden a los logits.\n",
    "    '''\n",
    "    activaciones = []\n",
    "    input = X\n",
    "\n",
    "    for i in range(len(red)):\n",
    "        activaciones.append(red[i].forward(X))\n",
    "        X = red[i].forward(X)\n",
    "        \n",
    "    assert len(activaciones) == len(red)\n",
    "    return activaciones\n",
    "\n",
    "\n",
    "\n",
    "def predice(red, X):\n",
    "    '''\n",
    "    Calcula las predicciomnes de la red.\n",
    "    '''\n",
    "    logits = forward(red, X)[-1]\n",
    "    return logits.argmax(axis=-1)\n",
    "\n",
    "\n",
    "\n",
    "def train(red, X, y):\n",
    "    '''\n",
    "    Entrena la red en una muestra dada de X e y.\n",
    "    Primero forward para tener todas las activaciones.\n",
    "    Luego capa.backward desde la ultima a la primera, una vez que se tiene el backward\n",
    "    para todas las capas, ya se ha hecho un paso del gradiente.\n",
    "    '''\n",
    "    \n",
    "    # Se obtienen las activaciones\n",
    "    activaciones = forward(red, X)\n",
    "    #entradas_capa = [X]+activaciones  #entradas_capa[i] es una entrada par red[i]\n",
    "    logits = activaciones[-1]\n",
    "    \n",
    "    # Se calcula la perdida y el gradiente inicial\n",
    "    perdida = softmax(logits, y)\n",
    "    grad_perdida = grad_softmax(logits, y)\n",
    "    \n",
    "    for i in range(1, len(red)):\n",
    "        grad_perdida = red[len(red) - i].backward(activaciones[len(red) - i - 1], grad_perdida)\n",
    "        \n",
    "    return np.mean(perdida)"
   ]
  },
  {
   "cell_type": "markdown",
   "metadata": {},
   "source": [
    "En vez de testear, hacemos el print del acierto de entrenamiento y validacion en cada epoca.\n",
    "\n",
    "Si la implementacion es correcta, el acierto deberia estar entre el 90~93% a >97% con la red por defecto."
   ]
  },
  {
   "cell_type": "markdown",
   "metadata": {},
   "source": [
    "### Bucle de entrenamiento\n",
    "\n",
    "Como es usual, se separa en pequeñas muestras para alimentar la red y actualizar los pesos."
   ]
  },
  {
   "cell_type": "code",
   "execution_count": 16,
   "metadata": {},
   "outputs": [],
   "source": [
    "def muestras(entradas, objetivos, batch, shuffle=False):\n",
    "    assert len(entradas) == len(objetivos)\n",
    "    if shuffle:\n",
    "        indices = np.random.permutation(len(entradas))\n",
    "    for idx in tqdm_utils.tqdm_notebook_failsafe(range(0, len(entradas) - batch + 1, batch)):\n",
    "        if shuffle:\n",
    "            excerpt = indices[idx:idx + batch]\n",
    "        else:\n",
    "            excerpt = slice(idx, idx + batch)\n",
    "        yield entradas[excerpt], objetivos[excerpt]"
   ]
  },
  {
   "cell_type": "code",
   "execution_count": 17,
   "metadata": {},
   "outputs": [],
   "source": [
    "from IPython.display import clear_output\n",
    "train_log = []\n",
    "val_log = []"
   ]
  },
  {
   "cell_type": "code",
   "execution_count": null,
   "metadata": {},
   "outputs": [
    {
     "name": "stdout",
     "output_type": "stream",
     "text": [
      "Epoca 13\n",
      "Acierto entrenamiento: 0.86544\n",
      "Acierto validacion: 0.8757\n"
     ]
    },
    {
     "data": {
      "image/png": "[encoded data removed]",
      "text/plain": [
       "<Figure size 432x288 with 1 Axes>"
      ]
     },
     "metadata": {
      "needs_background": "light"
     },
     "output_type": "display_data"
    },
    {
     "data": {
      "application/vnd.jupyter.widget-view+json": {
       "model_id": "7d1f86252ca14e33b4c9e4e6796c52f9",
       "version_major": 2,
       "version_minor": 0
      },
      "text/plain": [
       "HBox(children=(IntProgress(value=0, max=1562), HTML(value='')))"
      ]
     },
     "metadata": {},
     "output_type": "display_data"
    }
   ],
   "source": [
    "for epoca in range(25):\n",
    "\n",
    "    for x_batch, y_batch in muestras(X_train, y_train, batch=32,shuffle=True):\n",
    "        train(red, x_batch, y_batch)\n",
    "    \n",
    "    train_log.append(np.mean(predice(red, X_train) == y_train))\n",
    "    val_log.append(np.mean(predice(red, X_val) == y_val))\n",
    "    \n",
    "    clear_output()\n",
    "    print('Epoca',epoca)\n",
    "    print('Acierto entrenamiento:',train_log[-1])\n",
    "    print('Acierto validacion:',val_log[-1])\n",
    "    plt.plot(train_log,label='acierto train')\n",
    "    plt.plot(val_log,label='acierto val')\n",
    "    plt.legend(loc='best')\n",
    "    plt.grid()\n",
    "    plt.show()\n",
    "    "
   ]
  },
  {
   "cell_type": "markdown",
   "metadata": {},
   "source": [
    "### Tarea de revision\n",
    "\n",
    "\n",
    "#### Opcion I: inicializacion\n",
    "* Implementar una capa Densa con inicializacion de Xavier explicada [aqui](http://bit.ly/2vTlmaJ)\n",
    "\n",
    "Para realizar esta tarea, se debe hacer un experimento mostrando como funciona la inicializacion de Xavier en comparacion con la inicializacion por defecto en redes profundas (5+ capas).\n",
    "\n",
    "\n",
    "#### Opcion II: regularizacion\n",
    "* Implementar una version de la capa Densa con regularizacion L2: cuando se actualizan los pesos de una capa, se ajusta el gradiente a minimizar\n",
    "\n",
    "$$ Perdida = Entropia_cruzada + \\alpha \\cdot \\underset i \\sum {w_i}^2 $$\n",
    "\n",
    "Para realizar esta tarea, se debe hacer un experimento mostrando si la regularizacion mitiga el sobreajuste en el caso de tener un gran numero de neuronas. Considerar ajustar $\\alpha$ para mejores resultados.\n",
    "\n",
    "#### Opcion III: optimizacion\n",
    "* Implementar una version de la capa Densa que use momentum/rmsprop o cualquier metodo que haya funcionado mejor la ultima vez.\n",
    "\n",
    "La mayoria de estos metodos requieren parametros como la direccion del momento o grad norm de la media movil, pero se pueden guardar estos parametros en las capas.\n",
    "\n",
    "Para realizar esta tarea, se debe hacer un experimento mostrando como el metodo elegido funciona comparado con el SGD.\n",
    "\n",
    "### Observaciones generales\n",
    "_Lee las tareas de revision antes de empezar con esta parte._\n",
    "\n",
    "Resumiendo, una buena solucion es la que:\n",
    "* esta basada en este notebook\n",
    "* se ejecuta por defecto con Run All\n",
    "* su codigo no hace daño a la vista\n",
    "* es facil de leer.\n",
    "\n",
    "\n",
    "### Bonus \n",
    "\n",
    "Como tarea de bonificacion, considera implementar Batch Normalization ([guia](https://gab41.lab41.org/batch-normalization-what-the-hey-d480039a9e3b)) o Dropout ([guia](https://medium.com/@amarbudhiraja/https-medium-com-amarbudhiraja-learning-less-to-learn-better-dropout-in-deep-machine-learning-74334da4bfc5)). Date cuenta que esas \"capas\" se comportaran de manera diferente cuando se entrenen y tambien cuando predigan.\n",
    "\n",
    "* Dropout:\n",
    "  * Durante el entrenamiento: elimina unidades aleatoriamente con probabilidad __p__ y multiplica todo por __1/(1-p)__\n",
    "  * Durante la prediccion final: no hacer nada; como si no hubiera dropout\n",
    "  \n",
    "* Batch normalization\n",
    "  * Durante el entrenamiento, se resta la media muestral y se divide por la desviacion estandar muestral, se actualiza la media y la varianza.\n",
    "  * Durante la prediccion final, usa la media y la varianza acumuladas.\n"
   ]
  },
  {
   "cell_type": "code",
   "execution_count": null,
   "metadata": {},
   "outputs": [],
   "source": []
  }
 ],
 "metadata": {
  "kernelspec": {
   "display_name": "Python 3",
   "language": "python",
   "name": "python3"
  },
  "language_info": {
   "codemirror_mode": {
    "name": "ipython",
    "version": 3
   },
   "file_extension": ".py",
   "mimetype": "text/x-python",
   "name": "python",
   "nbconvert_exporter": "python",
   "pygments_lexer": "ipython3",
   "version": "3.7.4"
  },
  "toc": {
   "colors": {
    "hover_highlight": "#DAA520",
    "navigate_num": "#000000",
    "navigate_text": "#333333",
    "running_highlight": "#FF0000",
    "selected_highlight": "#FFD700",
    "sidebar_border": "#EEEEEE",
    "wrapper_background": "#FFFFFF"
   },
   "moveMenuLeft": true,
   "nav_menu": {
    "height": "264px",
    "width": "252px"
   },
   "navigate_menu": true,
   "number_sections": true,
   "sideBar": true,
   "threshold": 4,
   "toc_cell": false,
   "toc_section_display": "block",
   "toc_window_display": false,
   "widenNotebook": false
  }
 },
 "nbformat": 4,
 "nbformat_minor": 2
}
