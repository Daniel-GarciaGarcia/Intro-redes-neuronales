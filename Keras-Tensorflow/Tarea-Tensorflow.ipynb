{
 "cells": [
  {
   "cell_type": "markdown",
   "metadata": {
    "slideshow": {
     "slide_type": "slide"
    }
   },
   "source": [
    "# Profundizando en Tensorflow\n",
    "\n",
    "Aqui vamos a estudiar las herramientas que se usaran para construir modelos de deep learning, esto es [Tensorflow](https://www.tensorflow.org/).\n",
    "\n",
    "En primer lugar, instalar Tensorflow con pip:\n",
    "* `pip install tensorflow` , solo TF en cpu tanto en Linux comom en Mac OS\n",
    "* Si quieres soporte para GPU mira esta pagina: [instalacion TF](https://www.tensorflow.org/install/)"
   ]
  },
  {
   "cell_type": "markdown",
   "metadata": {},
   "source": [
    "# Visualizacion"
   ]
  },
  {
   "cell_type": "markdown",
   "metadata": {},
   "source": [
    "Ejecutando este notebook localmente, el acceso a TensorBoard seria en http://127.0.0.1:7007/"
   ]
  },
  {
   "cell_type": "code",
   "execution_count": 1,
   "metadata": {},
   "outputs": [
    {
     "name": "stdout",
     "output_type": "stream",
     "text": [
      "No matching processes belonging to you were found\r\n"
     ]
    }
   ],
   "source": [
    "! killall tensorboard\n",
    "import os\n",
    "os.system('tensorboard --logdir=/tmp/tboard --port=7007 &');"
   ]
  },
  {
   "cell_type": "code",
   "execution_count": 2,
   "metadata": {},
   "outputs": [
    {
     "name": "stdout",
     "output_type": "stream",
     "text": [
      "WARNING:tensorflow:From /Users/data/Intro-redes-neuronales/Keras-Tensorflow/keras_utils.py:68: The name tf.get_default_session is deprecated. Please use tf.compat.v1.get_default_session instead.\n",
      "\n",
      "WARNING:tensorflow:From /Users/data/Intro-redes-neuronales/Keras-Tensorflow/keras_utils.py:75: The name tf.ConfigProto is deprecated. Please use tf.compat.v1.ConfigProto instead.\n",
      "\n",
      "WARNING:tensorflow:From /Users/data/Intro-redes-neuronales/Keras-Tensorflow/keras_utils.py:77: The name tf.InteractiveSession is deprecated. Please use tf.compat.v1.InteractiveSession instead.\n",
      "\n"
     ]
    },
    {
     "name": "stderr",
     "output_type": "stream",
     "text": [
      "Using TensorFlow backend.\n"
     ]
    }
   ],
   "source": [
    "import warnings\n",
    "warnings.simplefilter(action='ignore', category=FutureWarning)\n",
    "import tensorflow as tf\n",
    "from keras_utils import reset_tf_session\n",
    "s = reset_tf_session()"
   ]
  },
  {
   "cell_type": "markdown",
   "metadata": {},
   "source": [
    "# Empezando\n",
    "Para empezar vamos a implementar una funcion que calcule la suma de los cuadrados de los numeros de 0 a N-1."
   ]
  },
  {
   "cell_type": "code",
   "execution_count": 3,
   "metadata": {},
   "outputs": [],
   "source": [
    "import numpy as np\n",
    "def suma_cuad(N):\n",
    "    return np.sum(np.arange(N)**2)"
   ]
  },
  {
   "cell_type": "code",
   "execution_count": 4,
   "metadata": {},
   "outputs": [
    {
     "name": "stdout",
     "output_type": "stream",
     "text": [
      "CPU times: user 668 µs, sys: 518 µs, total: 1.19 ms\n",
      "Wall time: 655 µs\n"
     ]
    },
    {
     "data": {
      "text/plain": [
       "333328333350000"
      ]
     },
     "execution_count": 4,
     "metadata": {},
     "output_type": "execute_result"
    }
   ],
   "source": [
    "%%time\n",
    "suma_cuad(10**5)"
   ]
  },
  {
   "cell_type": "markdown",
   "metadata": {},
   "source": [
    "# Tensoflow \n",
    "\n",
    "Hacemos exactamente lo mismo con Tensorflow"
   ]
  },
  {
   "cell_type": "code",
   "execution_count": 5,
   "metadata": {},
   "outputs": [],
   "source": [
    "# Un parametro entero\n",
    "N = tf.placeholder('int64', name='entrada_a_la_funcion')\n",
    "\n",
    "# Produce el mimso resultado\n",
    "res = tf.reduce_sum(tf.range(N)**2)"
   ]
  },
  {
   "cell_type": "code",
   "execution_count": 6,
   "metadata": {},
   "outputs": [
    {
     "data": {
      "text/plain": [
       "<tf.Tensor 'Sum:0' shape=() dtype=int64>"
      ]
     },
     "execution_count": 6,
     "metadata": {},
     "output_type": "execute_result"
    }
   ],
   "source": [
    "res"
   ]
  },
  {
   "cell_type": "code",
   "execution_count": 7,
   "metadata": {},
   "outputs": [
    {
     "name": "stdout",
     "output_type": "stream",
     "text": [
      "CPU times: user 3.43 ms, sys: 1.53 ms, total: 4.96 ms\n",
      "Wall time: 2.82 ms\n"
     ]
    },
    {
     "data": {
      "text/plain": [
       "333328333350000"
      ]
     },
     "execution_count": 7,
     "metadata": {},
     "output_type": "execute_result"
    }
   ],
   "source": [
    "%%time\n",
    "res.eval({N: 10**5})"
   ]
  },
  {
   "cell_type": "code",
   "execution_count": 8,
   "metadata": {},
   "outputs": [],
   "source": [
    "escritor = tf.summary.FileWriter('/tmp/tboard', graph=s.graph)"
   ]
  },
  {
   "cell_type": "markdown",
   "metadata": {},
   "source": [
    "# ¿Como funciona?\n",
    "1. Se definen unos marcadores (placeholders) donde se envian las entradas (inputs)\n",
    "2. Se hace un grafo simbolico (symbolic graph): una receta para transformaciones matematicas de esos marcadores \n",
    "3. Se calculan las salidas del grafo con valores para cada marcador\n",
    "  * `salida.eval({marcador:valor})`\n",
    "  * `s.run(salida, {marcador:valor})`\n",
    "\n",
    "Asi que existen dos entidades principales: el marcador (placeholder) y la transformacion matematica\n",
    "* Ambos pueden ser numeros, vectores, matrices, tensores, etc...\n",
    "* Ambos pueden ser int32/64, floats, booleanos (uint8)...\n",
    "* Se pueden definir nuevas transformaciones como operaciones arbitrarias en los marcadores y otras transformaciones\n",
    " * `tf.reduce_sum(tf.arange(N)**2)` son 3 transformaciones secuenciales del marcador `N`\n",
    " * Hay una version simbolica en Tensorflow para cada funcion de numpy \n",
    "   * `a+b, a/b, a**b, ...` se comporta igual que en numpy\n",
    "   * `np.mean` -> `tf.reduce_mean`\n",
    "   * `np.arange` -> `tf.range`\n",
    "   * `np.cumsum` -> `tf.cumsum`\n",
    "   * Si no encuentras la funcion que necesitas, puedes mirar la [documentacion](https://www.tensorflow.org/api_docs/python).\n",
    "   \n",
    "`tf.contrib` tiene muchas caracteristicas de alto nivel, echale un ojo."
   ]
  },
  {
   "cell_type": "code",
   "execution_count": 9,
   "metadata": {},
   "outputs": [],
   "source": [
    "with tf.name_scope('Ejemplo_marcadores'):\n",
    "    # El marcador por defecto (placeholder) puede ser arbitrariamente float32\n",
    "    # escalar, vector, matrix, etc...\n",
    "    entrada_arbitraria = tf.placeholder('float32')\n",
    "\n",
    "    # Vector de entrada de longitud arbitraria\n",
    "    vector_entrada = tf.placeholder('float32', shape=(None,))\n",
    "\n",
    "    # Vector de entrada que tienec 10 elementos de tipo entero\n",
    "    vector_fijo = tf.placeholder('int32', shape=(10,))\n",
    "\n",
    "    # Matriz con numero de filas arbitrario y 15 columnas\n",
    "    # (e.g. una muestra de tu tabla de datos)\n",
    "    matriz_entrada = tf.placeholder('float32', shape=(None, 15))\n",
    "    \n",
    "    # Generalmente se usa None cuando no se necesita especificar la dimension\n",
    "    entrada1 = tf.placeholder('float64', shape=(None, 100, None))\n",
    "    entrada2 = tf.placeholder('int32', shape=(None, None, 3, 224, 224))\n",
    "\n",
    "    # Multiplicacion elemento a elemento\n",
    "    vector_doble = vector_entrada*2\n",
    "\n",
    "    # Coseno\n",
    "    coseno = tf.cos(vector_entrada)\n",
    "\n",
    "    # Diferencia entre el vector al cuadrado y el propio vector mas uno \n",
    "    cuadrado_vector = vector_entrada**2 - vector_entrada + 1"
   ]
  },
  {
   "cell_type": "code",
   "execution_count": 10,
   "metadata": {},
   "outputs": [],
   "source": [
    "mi_vector =  tf.placeholder('float32', shape=(None,), name=\"VECTOR_1\")\n",
    "mi_vector2 = tf.placeholder('float32', shape=(None,))\n",
    "mi_transformacion = mi_vector * mi_vector2 / (tf.sin(mi_vector) + 1)"
   ]
  },
  {
   "cell_type": "code",
   "execution_count": 11,
   "metadata": {},
   "outputs": [
    {
     "name": "stdout",
     "output_type": "stream",
     "text": [
      "Tensor(\"truediv:0\", shape=(?,), dtype=float32)\n"
     ]
    }
   ],
   "source": [
    "print(mi_transformacion)"
   ]
  },
  {
   "cell_type": "code",
   "execution_count": 12,
   "metadata": {},
   "outputs": [
    {
     "name": "stdout",
     "output_type": "stream",
     "text": [
      "[0. 1. 2. 3. 4.]\n"
     ]
    },
    {
     "data": {
      "text/plain": [
       "array([0.       , 1.6291324, 2.0950115, 2.6289961, 0.       ],\n",
       "      dtype=float32)"
      ]
     },
     "execution_count": 12,
     "metadata": {},
     "output_type": "execute_result"
    }
   ],
   "source": [
    "dummy = np.arange(5).astype('float32')\n",
    "print(dummy)\n",
    "mi_transformacion.eval({mi_vector:dummy, mi_vector2:dummy[::-1]})"
   ]
  },
  {
   "cell_type": "code",
   "execution_count": 13,
   "metadata": {},
   "outputs": [],
   "source": [
    "escritor.add_graph(mi_transformacion.graph)\n",
    "escritor.flush()"
   ]
  },
  {
   "cell_type": "markdown",
   "metadata": {},
   "source": [
    "TensorBoard permite escribir escalares, imagenes, audio, histogramas. Puedes leer mas sobre tensorboard [aqui](https://www.tensorflow.org/get_started/graph_viz)."
   ]
  },
  {
   "cell_type": "markdown",
   "metadata": {},
   "source": [
    "# Resumen\n",
    "* Tensorflow esta basado en la computacion de grafos\n",
    "* Los grafos constan de marcadores (placeholders) y transformaciones"
   ]
  },
  {
   "cell_type": "markdown",
   "metadata": {},
   "source": [
    "# Error cuadratico medio\n",
    "\n",
    "La tarea es implementar el error cuadratico medio en Tensorflow."
   ]
  },
  {
   "cell_type": "code",
   "execution_count": 14,
   "metadata": {},
   "outputs": [],
   "source": [
    "y = np.arange(5)\n",
    "y_pred = np.arange(5)[::-1]"
   ]
  },
  {
   "cell_type": "code",
   "execution_count": 15,
   "metadata": {},
   "outputs": [
    {
     "data": {
      "text/plain": [
       "array([16,  4,  0,  4, 16])"
      ]
     },
     "execution_count": 15,
     "metadata": {},
     "output_type": "execute_result"
    }
   ],
   "source": [
    "(y - y_pred) ** 2"
   ]
  },
  {
   "cell_type": "code",
   "execution_count": 16,
   "metadata": {},
   "outputs": [],
   "source": [
    "with tf.name_scope('MSE'):\n",
    "    y_true = tf.placeholder('float32', shape=(None,), name='y_true')\n",
    "    y_predicho = tf.placeholder('float32', shape=(None,), name='y_predicho')\n",
    "    mse = tf.reduce_mean((y_true - y_predicho) ** 2)\n",
    "def c_mse(vector1, vector2):\n",
    "    return mse.eval({y_true: vector1, y_predicho: vector2})"
   ]
  },
  {
   "cell_type": "code",
   "execution_count": 17,
   "metadata": {},
   "outputs": [],
   "source": [
    "escritor.add_graph(mse.graph)\n",
    "escritor.flush()"
   ]
  },
  {
   "cell_type": "code",
   "execution_count": 18,
   "metadata": {},
   "outputs": [],
   "source": [
    "# Testeo local de la implementacion del MSE\n",
    "import sklearn.metrics\n",
    "for n in [1, 5, 10, 10**3]:\n",
    "    elems = [np.arange(n), np.arange(n, 0, -1), np.zeros(n),\n",
    "             np.ones(n), np.random.random(n), np.random.randint(100, size=n)]\n",
    "    for e in elems:\n",
    "        for e_2 in elems:\n",
    "            true_mse = np.array(sklearn.metrics.mean_squared_error(e, e_2))\n",
    "            mi_mse = c_mse(e, e_2)\n",
    "            if not np.allclose(true_mse, mi_mse):\n",
    "                print('mse({},{})'.format(e, e_2))\n",
    "                print('deberia ser: {}, pero la funcion devuelve {}'.format(true_mse, mi_mse))\n",
    "                raise ValueError('Resultado incorrecto')"
   ]
  },
  {
   "cell_type": "markdown",
   "metadata": {},
   "source": [
    "# Variables\n",
    "\n",
    "Las entradas y las transformaciones no tienen valores fuera de la funcion. Esto no es demasiado comodo si quieres que el modelo tenga parametros (e.g. pesos de la red) que cambien en el tiempo.\n",
    "\n",
    "Tensorflow soluciona esto con objetos `tf.Variable`.\n",
    "* Se puede asignar a la variable un valor en cualquier momento en el grafo\n",
    "* A diferencia de los marcadores, no hay necesidad de pasar explicitamente valores a las variables cuando se ejecuta `s.run(...)`\n",
    "* Se pueden usar variables de la misma manera que se usan transformaciones \n",
    " "
   ]
  },
  {
   "cell_type": "code",
   "execution_count": 19,
   "metadata": {},
   "outputs": [],
   "source": [
    "# Creando una variable compartida\n",
    "comp_vector_1 = tf.Variable(initial_value=np.ones(5), name='ejemplo_variable')"
   ]
  },
  {
   "cell_type": "code",
   "execution_count": 20,
   "metadata": {},
   "outputs": [
    {
     "name": "stdout",
     "output_type": "stream",
     "text": [
      "Valor inicial [1. 1. 1. 1. 1.]\n"
     ]
    }
   ],
   "source": [
    "# Inicializar variables con valores iniciales\n",
    "s.run(tf.global_variables_initializer())\n",
    "\n",
    "# Evaluando la variable compartida \n",
    "print('Valor inicial', s.run(comp_vector_1))\n"
   ]
  },
  {
   "cell_type": "code",
   "execution_count": 21,
   "metadata": {},
   "outputs": [
    {
     "name": "stdout",
     "output_type": "stream",
     "text": [
      "Nuevo valor [0. 1. 2. 3. 4.]\n"
     ]
    }
   ],
   "source": [
    "# Configurando nuevo valor\n",
    "s.run(comp_vector_1.assign(np.arange(5)))\n",
    "\n",
    "# Obteniendo nuevo valor\n",
    "print('Nuevo valor', s.run(comp_vector_1))"
   ]
  },
  {
   "cell_type": "markdown",
   "metadata": {},
   "source": [
    "# tf.gradients - por que importan los grafos\n",
    "* Tensorflow can computar las derivadas y los gradientes automaticamente usando la computacion de grafos\n",
    "* Puede manejar derivadas de matrices\n",
    "* Los gradientes se calculan como un producto de derivadas a traves de la regla de la cadena:\n",
    "\n",
    "$$ {\\partial f(g(x)) \\over \\partial x} = {\\partial f(g(x)) \\over \\partial g(x)}\\cdot {\\partial g(x) \\over \\partial x} $$\n",
    "\n",
    "Por lo tanto se puede derivar cualquier grafo si se sabe derivar de manera elemental."
   ]
  },
  {
   "cell_type": "code",
   "execution_count": 22,
   "metadata": {},
   "outputs": [
    {
     "name": "stdout",
     "output_type": "stream",
     "text": [
      "WARNING:tensorflow:From /Users/data/Library/Python/3.7/lib/python/site-packages/tensorflow/python/ops/math_grad.py:1205: add_dispatch_support.<locals>.wrapper (from tensorflow.python.ops.array_ops) is deprecated and will be removed in a future version.\n",
      "Instructions for updating:\n",
      "Use tf.where in 2.0, which has the same broadcast rule as np.where\n"
     ]
    }
   ],
   "source": [
    "escalar = tf.placeholder('float32')\n",
    "\n",
    "escalar_cuadrado = escalar**2\n",
    "\n",
    "# Derivada del cuadrado del escalar por el propio escalar\n",
    "derivada = tf.gradients(escalar_cuadrado, [escalar, ])"
   ]
  },
  {
   "cell_type": "code",
   "execution_count": 23,
   "metadata": {},
   "outputs": [
    {
     "data": {
      "text/plain": [
       "[<tf.Tensor 'gradients/pow_1_grad/Reshape:0' shape=<unknown> dtype=float32>]"
      ]
     },
     "execution_count": 23,
     "metadata": {},
     "output_type": "execute_result"
    }
   ],
   "source": [
    "derivada"
   ]
  },
  {
   "cell_type": "code",
   "execution_count": 24,
   "metadata": {},
   "outputs": [
    {
     "data": {
      "image/png": "[encoded data removed]",
      "text/plain": [
       "<Figure size 576x432 with 1 Axes>"
      ]
     },
     "metadata": {
      "needs_background": "light"
     },
     "output_type": "display_data"
    }
   ],
   "source": [
    "import matplotlib.pyplot as plt\n",
    "%matplotlib inline\n",
    "\n",
    "x = np.linspace(-3, 3)\n",
    "x_cuad, x_cuad_der = s.run([escalar_cuadrado, derivada[0]], {escalar:x})\n",
    "\n",
    "plt.figure(figsize=(8,6))\n",
    "plt.plot(x, x_cuad, label='$x^2$')\n",
    "plt.plot(x, x_cuad_der, label=r'$\\frac{dx^2}{dx}$')\n",
    "plt.legend();"
   ]
  },
  {
   "cell_type": "markdown",
   "metadata": {},
   "source": [
    "# Por que mola"
   ]
  },
  {
   "cell_type": "code",
   "execution_count": 25,
   "metadata": {},
   "outputs": [],
   "source": [
    "mi_vector = tf.placeholder('float32', [None])\n",
    "\n",
    "# Calcula el gradiente de la siguiente funcion respecto del escalar y del vector\n",
    "# !Peligro! Tratar de entender el significado de la siguiente funcion puede resultar en daño cerebral permanente\n",
    "\n",
    "funcion_psycho = tf.reduce_mean((mi_vector+escalar)**(1+tf.nn.moments(mi_vector,[0])[1]) + \n",
    "                                 1./ tf.atan(escalar))/(escalar**2 + 1) + 0.01*tf.sin(\n",
    "                                 2*escalar**1.5)*(tf.reduce_sum(mi_vector)* escalar**2\n",
    "                                 )*tf.exp((escalar-4)**2)/(\n",
    "                                 1+tf.exp((escalar-4)**2))*(1.-(tf.exp(-(escalar-4)**2)\n",
    "                                 )/(1+tf.exp(-(escalar-4)**2)))**2\n",
    "\n",
    "deriv_escalar = tf.gradients(funcion_psycho, escalar)\n",
    "derir_vector = tf.gradients(funcion_psycho, mi_vector)"
   ]
  },
  {
   "cell_type": "code",
   "execution_count": 26,
   "metadata": {},
   "outputs": [
    {
     "data": {
      "image/png": "[encoded data removed]",
      "text/plain": [
       "<Figure size 576x432 with 1 Axes>"
      ]
     },
     "metadata": {
      "needs_background": "light"
     },
     "output_type": "display_data"
    }
   ],
   "source": [
    "# Ploteando la derivada\n",
    "espacio_escalar = np.linspace(1, 7, 100)\n",
    "\n",
    "y = [s.run(funcion_psycho, {escalar: x, mi_vector:[1, 2, 3]}) for x in espacio_escalar]\n",
    "\n",
    "plt.figure(figsize=(8,6))\n",
    "plt.plot(espacio_escalar, y, label='funcion')\n",
    "\n",
    "y_deriv_escalar = [s.run(deriv_escalar, {escalar: x, mi_vector:[1, 2, 3]}) for x in espacio_escalar]\n",
    "\n",
    "plt.plot(espacio_escalar, y_deriv_escalar, label='derivada')\n",
    "plt.grid()\n",
    "plt.legend();"
   ]
  },
  {
   "cell_type": "markdown",
   "metadata": {},
   "source": [
    "# Casi hecho - optimizadores\n",
    "\n",
    "Mientras que se puede realizar el gradiente descente a mano con los gradientes de arriba, Tensorflow tambien tiene algunos metodos de optimizacion para implementar (momentum y rmsprop)."
   ]
  },
  {
   "cell_type": "code",
   "execution_count": 27,
   "metadata": {},
   "outputs": [],
   "source": [
    "y_supuesto = tf.Variable(np.zeros(2, dtype='float32'))\n",
    "y_true = tf.range(1, 3, dtype='float32')\n",
    "perdida = tf.reduce_mean((y_supuesto - y_true + tf.random_normal([2]))**2) \n",
    "#perdida = tf.reduce_mean((y_supuesto - y_true)**2) \n",
    "optimizador = tf.train.MomentumOptimizer(0.01, 0.5).minimize(perdida, var_list=y_supuesto)"
   ]
  },
  {
   "cell_type": "code",
   "execution_count": 28,
   "metadata": {},
   "outputs": [
    {
     "data": {
      "image/png": "[encoded data removed]",
      "text/plain": [
       "<Figure size 432x288 with 1 Axes>"
      ]
     },
     "metadata": {
      "needs_background": "light"
     },
     "output_type": "display_data"
    }
   ],
   "source": [
    "from matplotlib import animation, rc\n",
    "import matplotlib_utils\n",
    "from IPython.display import HTML, display_html\n",
    "\n",
    "fig, ax = plt.subplots()\n",
    "y_true_val = s.run(y_true)\n",
    "nivel_x = np.arange(0, 2, 0.02)\n",
    "nivel_y = np.arange(0, 3, 0.02)\n",
    "X, Y = np.meshgrid(nivel_x, nivel_y)\n",
    "Z = (X - y_true_val[0])**2 + (Y - y_true_val[1])**2\n",
    "ax.set_xlim(-0.02, 2)\n",
    "ax.set_ylim(-0.02, 3)\n",
    "s.run(tf.global_variables_initializer())\n",
    "ax.scatter(*s.run(y_true), c='red')\n",
    "contorno = ax.contour(X, Y, Z, 10)\n",
    "ax.clabel(contorno, inline=1, fontsize=10)\n",
    "linea, = ax.plot([], [], lw=2)\n",
    "\n",
    "def inicio():\n",
    "    linea.set_data([], [])\n",
    "    return (linea,)\n",
    "\n",
    "supuestos = [s.run(y_supuesto)]\n",
    "\n",
    "def animacion(i):\n",
    "    s.run(optimizador)\n",
    "    supuestos.append(s.run(y_supuesto))\n",
    "    linea.set_data(*zip(*supuestos))\n",
    "    return (linea,)\n",
    "\n",
    "anim = animation.FuncAnimation(fig, animacion, init_func=inicio , frames=400, interval=20, blit=True)"
   ]
  },
  {
   "cell_type": "code",
   "execution_count": 29,
   "metadata": {},
   "outputs": [
    {
     "data": {
      "text/html": [
       "<img src=\"data:image/jpeg;base64,/9j/4AAQSkZJRgABAQEASABIAAD/2wBDAAIBAQEBAQIBAQECAgICAgQDAgICAgUEBAMEBgUGBgYFBgYGBwkIBgcJBwYGCAsICQoKCgoKBggLDAsKDAkKCgr/2wBDAQICAgICAgUDAwUKBwYHCgoKCgoKCgoKCgoKCgoKCgoKCgoKCgoKCgoKCgoKCgoKCgoKCgoKCgoKCgoKCgoKCgr/wAARCAEgAbADASIAAhEBAxEB/8QAHwAAAQUBAQEBAQEAAAAAAAAAAAECAwQFBgcICQoL/8QAtRAAAgEDAwIEAwUFBAQAAAF9AQIDAAQRBRIhMUEGE1FhByJxFDKBkaEII0KxwRVS0fAkM2JyggkKFhcYGRolJicoKSo0NTY3ODk6Q0RFRkdISUpTVFVWV1hZWmNkZWZnaGlqc3R1dnd4eXqDhIWGh4iJipKTlJWWl5iZmqKjpKWmp6ipqrKztLW2t7i5usLDxMXGx8jJytLT1NXW19jZ2uHi4%2BTl5ufo6erx8vP09fb3%2BPn6/8QAHwEAAwEBAQEBAQEBAQAAAAAAAAECAwQFBgcICQoL/8QAtREAAgECBAQDBAcFBAQAAQJ3AAECAxEEBSExBhJBUQdhcRMiMoEIFEKRobHBCSMzUvAVYnLRChYkNOEl8RcYGRomJygpKjU2Nzg5OkNERUZHSElKU1RVVldYWVpjZGVmZ2hpanN0dXZ3eHl6goOEhYaHiImKkpOUlZaXmJmaoqOkpaanqKmqsrO0tba3uLm6wsPExcbHyMnK0tPU1dbX2Nna4uPk5ebn6Onq8vP09fb3%2BPn6/9oADAMBAAIRAxEAPwD9/KKKKACiiigAooooAKKKKACiiigAooooAKKKKACiiigAooooAKKKKACiiigAooooAKKKKACiiigAooooAKKKKACiiigAooooAKKKKACiiigAooooAKKKKACiiigAooooAKKKKACiiigAooooAKKKKACiiigAorj/AAR%2B0J8A/iZ431n4Z/Dj44eD/EHiTw5JJH4h8P6J4ltbu%2B0t0kMTrcQRSNJAVkBQh1GGG088VZsPjb8GNV%2BKV78DdL%2BLvhi58babZLeaj4Pt9ftn1S1tiEImktA/nJGRJHh2UA7155FAHT0UUUAFFFFABRRRQAUUUUAFFFFABRRRQAUUUUAFFFFABRRRQAUUUUAFFFFABRRRQAUUUUAFFFFABRRRQAUUUUAFFFFABRRRQAUUUUAFFFFABRRRQAUUUUAFFFFABRRRQAUUUUAFFFFAHyM/iK78Sf8ABRXRvjLpWnfFnWdA8OeFNe0jVrLxH8LL/T9N8KS3FxpcStpco06CXVDdy2xaQ%2BZfIiIZkktolxJy/wANfAHxBg/ae8IfDi4%2BFHii313wp%2B0r428deJvGNx4Zuo9Ku/Dmo6XrcVj5epNGLe6kI1LSbU2qSNKn2BmZFWBCfuGigDxD9tfx3%2B078LPC2i%2BNvgH4%2B8B6bbXPi/w54f1Cx8X%2BA73VZHfVddsdL%2B0Ry22q2YjESXhk8so%2B8xgb0ByLP/CD/wDBQv8A6Og%2BDP8A4YfVv/moo/bw/wCSIaH/ANlm%2BHH/AKmuiV7NQB4z/wAIP/wUL/6Og%2BDP/hh9W/8AmoqtrPh/9vPw7pNzr/iD9rX4IWNjZQPPeXt58DtUihgiUFmd3bxSFVQASSSAAK7j4d/HDTPH/wAQPEnw2uPBut6Dqfh4xyJHrkUMf9pWjySxLeW4jlctCZYJUywVuFJUB1J8N8X%2BGfjB4f0nxN8PvjTo19q%2Bm/EHxPL4btPGMvjF57hUvHkNjJDpaQrDbQQsyROY2EpCmZgVUmuqlhXOfLN2206tPtrba7/pnNUxCjDmir7/ACa7/PQyvEfxw/bt1ODwynwE/aT%2BAvjm58UXl7FZLH8JtUs4QLSHzp18w%2BJJP323aFiKgtu3EqgZh2/wr1D9u/4t%2BArDx94f/aa%2BEEMF6JFltbr4Cass1rPFI0U0Eg/4Snh45Y5I2HqhrL8NfB74s/GD4kXPjDxV4N1PwDq%2Bl2Ol3L66zW0sNx4itXkR7i3jilPnW0lrLJE5YRlkuGT7y5T2/wCDPwzuPhV4Ok0LUvEQ1fUb3VLzU9W1JLIWyXF1cztNIUiDN5aAttVdzEBRlmOSdMTTw1OmoxfvffvfqtNrbWflrpFCeIqTvJe793bvr3/pa%2BD%2BCU/4LGeIfidq%2BjeLPFnwF8P%2BELCeaHTdfn%2BHGqXN9qe1sRzJZxeISsUbgE/vJw4yPk6477/hB/8AgoX/ANHQfBn/AMMPq3/zUV7NRXJOSm7pJel/1bOqEXFWbv6/8Cx4z/wg/wDwUL/6Og%2BDP/hh9W/%2Baij/AIQf/goX/wBHQfBn/wAMPq3/AM1FezVi%2BPfiT8O/hX4fk8V/E7x5o3h3S4v9ZqOuanFaQL35eVlX9amMZSdoq7K2PM/%2BEH/4KF/9HQfBn/ww%2Brf/ADUUf8IP/wAFC/8Ao6D4M/8Ahh9W/wDmormpv%2BClvwf8YTvp37M3w08f/F%2B5VzH9o8C%2BFZf7NSTOAH1G7MFqF/2lkb6HFNHij/gqB8VedA%2BF3ww%2BElhJ8rS%2BKNauPEmqRj%2B8IbMQWyt7GZxn1612f2fiI/xbQ/xNJ/drL/yUjnj01On/AOEH/wCChf8A0dB8Gf8Aww%2Brf/NRWZ4rT9tjwJpp1nxx%2B2d8BtGs1%2B9d6r8FtSt4h/wKTxUB%2BtZo/Yf%2BMnjv97%2B0D%2B3/APFHXM/e07wU9r4WsmXupFlGbgj6zk4PJNanhX/gmT%2Bwp4W1Ia7cfs56L4g1HgvqXjSSbXbh267i%2BoSTHOeeMY7Yo9lgYfHVcv8ADH9ZNfkF5vZHjHij/goFqvhbUTo5/wCCnf7PGsXoyPsXhP4Ea5rcxPoE0/xLMSe2MVm/8Nt/t7a9/wAkv8P6l4qR/wDUXdr%2ByBrWnW0voRLqXi22G335%2Blfb3hfwb4Q8EacNH8F%2BFdN0i0X7trpdjHbxj/gMYArSo9rgI/DTb9ZW/CMf1C0%2B58Ix/F//AIL7684bwr%2Bz38IrSFz8k3i7w%2B1kcepS18TXbD6EZruvhlZf8Fzdd8Q2v/C2PGP7LHh3Rn3fbJNJ8HeItSvY/kO3bE2pwRt820H96MAk8kAH60oqJ4ilKNo0or/wJv8AGX6DUX3PGf8AhB/%2BChf/AEdB8Gf/AAw%2Brf8AzUUf8IP/AMFC/wDo6D4M/wDhh9W/%2BaivZqK5Sjxn/hB/%2BChf/R0HwZ/8MPq3/wA1FH/CD/8ABQv/AKOg%2BDP/AIYfVv8A5qK9mooA8Z/4Qf8A4KF/9HQfBn/ww%2Brf/NRR/wAIP/wUL/6Og%2BDP/hh9W/8Amor2aigDxn/hB/8AgoX/ANHQfBn/AMMPq3/zUUf8IP8A8FC%2B37UHwZ/8MPq3/wA1FezUUAfFniG%2B/wCDg/Qd0mmWv7JmuoPupYaT4igkI9xPfKoP/AjWH/wvz/guR4b/AH3xF/Z08Ei3X78/g3wBHq5/4DG/i%2B3kP/fIr7vorsjiaNrSoxf/AIEvyk/yJ5X3Plv4DfEL/goT8ddN1G%2Bfx34X8Fy6bOkUtl48/Zk1fT5ZiwJ3QkeLHSZRjBZGIBIFafxE13/goF4B8U%2BDfB0f7QPwb1C98ZeIX0y2A%2BCuqwi1jjsrm7muWz4lbzAqW%2B3Z8uWkX5hX0jXnfjv9nHQvG/xe0P42p8Q/Fml6z4fgmisLew1dXsCssTRyFrS4SSEMVPLoqv8AKPm65inLDuu5NWjZ2WstbO3Z7636A%2Bax4P8AHr4y/wDBQ34Najeabovxc%2BEXiJ9C8OSeI/Fjw/BjUrZdK0lC4afL%2BJz50p8qYrCoBYRNyOM6ln8Z/wBrG/8AidB8KLf9q/4VHULi7FlFen9m/XRYm/8Asou/sP2n/hJvLFz9nPm%2BVu3bQ3dSB3Xxb/ZX8bfEPxPe3GlfFG0tdJ8U6DYaR46S60YveXdvazSSbraRJEjhMyyNE6tGyhWLLhs54LxB%2Bz7%2B0dDFrvhrw34asraz0HWPEXifw3rUerqZNY1CeJ10y3EYG%2BExrIUlkfglFKAhyE66dHA1KSTkk7d7b979n0XTV%2BUtzTOm8Fa7%2B158SLnUbL4e/tyfs%2B67NpFz9n1aHSPg5qNw9lLz8kqx%2BKiY2ODgNjOOK3/%2BEH/4KF/9HQfBn/ww%2Brf/ADUVifsj%2BELs%2BLYfFWheCtb8O%2BGfD3w60jwlplt4g0aXTrq9ktgZXcwTKsipEZDGrMAGZ5SpZSGPZ/Eb9sz9l/4P/FCD4O/Fr4y6T4X166tI7m0i8Qs9nbTo5YKEupVWBnypygk3DIyBuGearhZe3dOinKyvtd%2Be1/8AgX8ilLS7Mf8A4Qf/AIKF/wDR0HwZ/wDDD6t/81FH/CD/APBQv/o6D4M/%2BGH1b/5qK9f0zU9N1rT4dW0bUYLu1uIw9vc20yyRyqejKykhh7ip65Nijxn/AIQf/goX/wBHQfBn/wAMPq3/AM1FcD4EX/gsZqPxP1Twh8SPFnwF0nw9BBJNo/i7R/hxql9Hd4lVUhktn8QwywylGLnAeMbGG8/Lu%2BpKKuMlFNNJ39dPTX87kyi2007W/H1/pHzV8c9f/wCCh3wY%2BHdx4zs/jx8F9d1B7q3sdH0P/hTWrWjahe3EqwwQLJ/wkcu0tI6gnYcLuY4ANXfiF4g/bC%2BEekWmu/FX9tj4CeHrS9vY7OC71X4KapDC0752pvfxSAM4PJwOO1eg/FP4Dap4/wDiZ4Y%2BKel/EvUbSXwtdm6t/DV7DHc6RdzeRcQrM8W1ZEmUXDFZEkAGASrEDHD/ALSsPxH1/wAS%2BG18MfC3xU3i3QryCTw7rGlvBNoNx9pEdvfR3YkLFIlhknyZIkcqMwsXO0dVKlQqqEL923s12WulvPXd6aHNUqVabnK3a3Veb06%2BXluatp4R/wCCgF/axX1j%2B1T8FZoJo1khmi%2BBWqskiEZDKR4pwQQcgipP%2BEH/AOChf/R0HwZ/8MPq3/zUV5zqfxi1vw/r%2Bl/FmH4k3Wh%2BHIPFmoWen%2BEbG1hTT4fDelieO/upoQm/eXgd1fI2hIwnDEN7D8GPjp4t%2BIfimfwh4%2B%2BF3/CLXz%2BHbLXdOtG1f7TMbS4aRAlwnlJ5E6PGVZAZF5GHJDATVwdWnDm3X5f52vrbQqniqc5cvX%2Bvu%2BZxOpeMf2zfhL8afhV4a%2BKPxb%2BGHiXw/wCPPGt3oOp2mgfC7UdIvLcR%2BH9X1OOaK4m1y7QHzdOjRlaE5WRsFSAa%2Bga8Z/ag/wCS3/s4/wDZZr7/ANQrxRXs1ch0hRRRQAUUUUAFFFFABRRRQAUUUUAeM/t4f8kQ0P8A7LN8OP8A1NdErqPAf7R/w6%2BJ3xY8Q/CLwLDq%2BoXPhUNHr2sx6RKumW12rhWshcsAklwu7cUTdtAOSCMVy/7eH/JEND/7LN8OP/U10SvZURIxhECgkkgDHJ5Jq4uCT5ld9Ndv8/wJkptqzsuv9dDzH4tfCL4m%2BLvjN4P%2BJPw08X6R4d/sSzvLTXNRubF7u5vrOcxMbNItyRqN8SyCZ2bYyDEbBmz1Np8IfACeJrDx3rHh%2B31bxFptq1vZ%2BIdVt45byFGZiwR9oEedxB2BcjAPAFdNRVOvUcVG%2Bytp283u9yVSgpN23dwqvq2r6VoGl3Gua7qdvZWVpC013eXcyxxQRqMs7uxAVQASSTgAVU8aDxk3hTUF%2BHsmmprhtmGlvrEcj2qzY%2BUyrGyuy%2BoVgT0yOteMnWfE/wC0p%2Byp4z%2BGnxAvdK0vxppL3egeJfkMNiNRhKvDKFkZiltcxtbzKNzER3G3cWXNVSo%2B0XM3pdJ91frbt%2Bpbdjd8f/tX6RaWvh5/gR4ftPiPL4itdQvLI6H4ggSCS3soUkmWOYB0knbzYljh%2BXduYllVGNeRS/tIeM77xN4x%2BOHh74qanJaeHrrTL%2Bw8FXa26WN94Yn8mKV0QxiVLxLpL2NpC7BXVFJ2Mqi/4T%2BEXxF%2BLfxq13x7pfhDW/hxfW0VhqUl9qmmo8H/AAkkTtb3LQosgF3a3FnFAkrKUBCxlX3lwvq/gP8AZM%2BGGk%2BENF0n4o%2BGNB8Y6vo2q3mp2%2Br6h4fjC291c3cl1J9mikaUwRLJJ%2B7j3vsCJgkoCPSvgcJGzV3pfZvXXzj2V00%2Bpn78jv8Axr4du/GHg3VPC1h4o1LQ59S0%2BW2h1nSHRbuxZ0KiaEyIyiRSdy7lYZAyD0rx7wD/AME4v2UfB/iCPxz4s8D3XxA8UJy3ir4m6nLr18W7Mpui0cJHbykQDsK91orzKeJxFGDjTk0nvbS/zWvyvbyNHGLd2MgggtYEtraFI441CxxxqAqqOAAB0FPoorEYUUVh/ED4nfDb4TeH5PFnxT%2BIOieGtKi/1mpa/qsNnbr35klZVH504xlJ2irsEm9jcor5ou/%2BCrX7MniG6k0v9nnw/wCPvjFexOUkj%2BFnge71G2Rhx817IsVmBnv52BTB8eP%2BCmnxN/d/DD9hnwn4Etn%2BaHVPix8SUkl29ibLSYbgqcfwmYHscda7P7PxS/iJQ/xNR/Bu/wD5Kaeymt9PXT%2BvuPpqivmYfAT/AIKcePf9J8f/ALfPhTwaj8Sab8NPhPDJtHcLc6rcXB/Hyh60v/DtgeIP3nxV/bq/aG8Tl%2Bbi3/4WQdJtpPUeVpcNthfYk0fVsNH46y%2BSlL9IoOSC3l%2Bb/wAj6XZlRS7sAAMkk8AVy/iH45/BPwkzL4r%2BMPhbTCv3hqHiG2hx9d7ivEk/4JBf8E9rlhL4p%2BBdz4llzl5vF3jLV9WLn1Iu7uRfyGK6nw9/wTV/4J6%2BF1UaR%2BxH8Kwy/dkufAtjO4/4FLEzfrRy5cvtzfpGK/OTC1FdX9y/zNfUv27/ANh7RmK6x%2B2X8KbQjqLn4iaYmP8AvqcVlS/8FJf%2BCecLbX/bm%2BEZx/c%2BImmt/Kaur039k39lfRlC6P8As0fD%2B0A6C28GWMeP%2B%2BYhWpF8BvgbAu2D4MeE0Honh22H/slF8t7T%2B%2BH%2BQfufP8Dg7f8A4KP/APBPe6bbF%2B3N8IcnoH%2BI%2BmL/ADnFbWk/tsfsaa8wTQ/2t/hjek9BaePdOkz/AN8zGuguP2f/AIDXi7Lv4JeEZQeok8N2rfzjrE1X9jb9kHXVK65%2Byp8NrwN94XfgbT5M/wDfUJo/4Te0/wDyT/IP3Pn%2BB1vhz4m/DfxiQvhH4g6Hqpb7o03VoZ8/98Ma3K8E8R/8Es/%2BCcXikEan%2BxH8NIt3U6b4TtrM/nbqmKwz/wAEj/2JdM/ffD7wr4w8G3A/1dz4N%2BJ%2Bu6cY/wDdSO88sf8AfNHJl0tpyXrFP8pILUn1f3f8E%2Bl6K%2BZ/%2BHfPxP8ACg%2B0fB7/AIKRfHjRZ1/1UXiPW7DxFbL9U1G0kkb8ZKT/AIVt/wAFYfh3/wAin%2B078I/iPD18nx18P7vRLgj08/TbmSMH/a8jH%2BzR9VoS%2BCtH5qUfzTX4hyRe0l%2BKPpmivmU/tc/tv/DP/ku//BN/W9Ss4eJta%2BEPjSx11X/2ls7r7HcgewVz9TxWn4O/4KnfsTeINei8GeNfipP8PPEMpwfD3xT0S68N3St02g38ccbnOB8jtycUnl%2BLteMeZf3Wpf8ApLb/AAD2VTor%2Bmv5H0PRVfStW0vXdOh1fRNSt7y0uIw9vdWsyyRyqejKykhh7irFcexmFZ3irwh4T8daJN4Z8beGNO1jTbgYuNP1WyjuIJR6NHICrfiK0aKabi7oD511L/gml8FPDGoT%2BJf2YPGPi34M6vNIZXf4e600WnTSdR52mTiSzkUH%2BERL9RVdvGH/AAUa/Z7/AOR5%2BH/hv45eHYfv6t4MK6F4hSMcl3sLh2tblsdFhmiJ7L2P0lRXYsfWnpWSqL%2B9q/8AwJWl%2BLI5EttDyL4Iftyfs5/HfxA3gDQvF0%2BheMYB/pngTxlYSaTrVuepH2W4CtKB3aLen%2B1XrtcR8cP2bPgT%2B0l4fXwz8cPhdpPiK3hO60lvbfFxZv8A34J0Ilt3/wBqNlb3rx5/gv8Atp/srf6d%2Bzf8T3%2BLHhGDlvh18TNT2arbxj%2BCw1nGWPQLHdq4AGPMHWn7LCYj%2BFLkl2lt8pf/ACSXqF5R31PpiivI/gD%2B2j8IPjzr9x8OCmp%2BEvHunRb9W%2BHnjKz%2Bw6tbDvIkbErcw8ZE0DSIQQcjOK9crlq0atCfJUVn/X3rzTa8yk01dHnHjz9lj4O%2BL/Dni3TdF8GaVoOp%2BMbfbq%2BuaZpMInmlDiRZJMriX94qsytkSYw2c1pfCb4RXngHUtZ8ZeLfF7%2BIfE/iFoBq%2BsGzFtGYoA4gt4YQzCKJPMlIUsxLSuSxJrtaKp16zg4OWn9dd7aLTyRmqNJT5ktf6/zf3njH7TrF/jb%2BzkShX/i89%2BMH28FeKOa9nrxn9qD/AJLf%2Bzj/ANlmvv8A1CvFFezViahRRRQAUUUUAFFFFABRRRQB4P4U%2BM37QWh/tn2/7OnxC8QeCPEml6z4R1XxEsXhXw5eWN74VtoL22gsVvpZr24juhdCa4VHWO1JexmKJIqyGLC%2BFn7U/wAXdd/bS8VfA34seJtE8M6Lb%2BJ7nTfAGgX/AMJ9btLnxPbRaXb3ZuLXXp7safdyK7XZa3ggaQR2rkgBGcdF8Jv2Jbz4OfELxv8AEbw5%2B1l8Tbu68fa5PqutwatbeHZws7sgiWOb%2ByBceVbwotvDE8rpHFwFLfPW/ffstQeIvjlovxr8e/G/xr4ih8La1c6v4R8HakdMj0nRb6azuLJp4vs1lFdTFba7uo0FzcTKonYgblRlAOM/4KF/Fz4UeGvB/gz4UeI/id4e0/xT4g%2BMPw9l0Hw1e61BFqGpJH4z0ZpGt7dnEkwVVYsUUgBSTjBr6Hrxn9vD/kiGh/8AZZvhx/6muiV7NQAVxvx1%2BP3wn/Zu8BTfEf4weLItL09JVgtowjSXF9cNxHbW8KAvPM54WNASeT0BIyP2nP2mfCH7M3gq21rVtKvNc1/W70ad4O8H6QA1/r2oMPkt4V7AfeeQ/LGgLN2B4j9n/wDZS8X6l49g/ao/bF1Oz8R/Ex4mGh6TbEvpHgm3fra6ejcNMRgS3bfvJCMKVThuyjh4Kn7au7R6JbyfZdkusnotld6KXJ3stz0D9nP4l/Fz4t%2BDbrxx8VfgpN4DjvNQZvDuialqKzaidP2J5ct7Gi7Ladm3kwhnKAqGO4Gk0f8AZl%2BF2m/GLW/jtqNvf6r4h1wQpLJql%2B0ltaxRKqxJDbLthUrtyJSjS8kGQjivQaKxdaSnJ0/dT0sr7dtdenz/AAHbTUKKKKxGFFFeI/tHftyeBPgn4ut/gn8PvCWqfEj4qalb%2BbpXw48JlGukjOMXN7Mx8rTrXJGZpyOD8qvjFa0aNWvPkpq7/rVvZLu20ioxlJ2R7ZJJHDG000ioiKSzMcAAdSTXzp44/wCClvwhn8U3fwv/AGW/BviH43%2BMLSTyrrS/hxbpNp%2Bny9he6rKy2VqM8EGRnUjlKw7X9ib44/tVyL4k/wCCi3xa%2B26PKwkt/gr8Pr2ey8PW69Ql/cqVudWcYXIcxwbgcREGvpLwJ4A8C/C/wraeBvht4N0vw/othH5dlpOjWEdtbQL6JHGAq/gK6eXBYf4n7SXZO0V895fJJeZdqcN9X%2BH/AAT52X4Wf8FLP2if9I%2BLnx48PfBHw/P97wz8LbNdW1sxHqkurX0fkwyD%2B9b2x9nrf%2BH3/BMD9jTwZ4gj8deLPhnL8QvFK4L%2BLfinqk3iK/Zs53hr1nSE/wDXJEA7CvoGiplj8TblpvkXaK5fva95/OTE6s9lp6af8H8SOzs7TT7WOxsLWOCCFAkUMKBURRwAAOAB6CpKKK4zMKKKKACiiigAooooAKKKKACiiigAooooAKyvGXgXwT8RdBl8LfEHwdpWu6ZOMT6brOnxXUEn%2B9HKrKfxFatFNNxd1uGx806r/wAEsf2e/DmozeJv2X/FHjL4JazNIZXn%2BF/iKS0sZn6jztMmEllIueq%2BSMjuOCKj%2BIP%2BCoH7N3zeJvC3hP8AaE8NQ/fvvDoTw14njTqXa1lZrG7IH8MckBY9F5Ar6horsWPry0rJVF/eV3/4FpJfezT2sn8Wvr/nueL/AAF/b7/Zu%2BP3ih/hnpniS%2B8LeOoFzefDvx5pkmj65B1PFtPjz1wM74DIn%2B1XtFcF8fv2X/gB%2B1H4XTwj8e/hXpXiO1hbfZTXcJW5sZOvm21xGVmtpBgfPE6t714fL4B/bm/YiH9ofCHxNqXx8%2BGttzP4K8VXyL4u0mEdfsOottTUlUZIgutspCqqzEmq9jhcT/Blyy/lk9H6S0%2B6SX%2BIfLCfwuz7P/P/AD%2B8%2BraK87/Zv/ao%2BCv7VfhKfxV8IPE7zy6dcfZdf0LUbZ7TU9EuxndbXtrIBJbyggjDDBwSpYc16JXHUp1KU3Cas10Zm04uzCiiioEee/tBfsu/BX9pzQLfRviv4U8%2B606XztD1/T52tdT0ecYKz2l1GRJA4IB%2BU4OBuDDivHR8Zf2iP2Ep00n9qq%2Bu/iF8K1cR2fxd0%2Bw/4megx5wq63axDEkYHH22FccZkRS2a%2BpKZcW8F1A9rdQpJFIhSSORQVZSMEEHqCO1ddHFOEPZVFzQ7Pp5xe8X%2BD6pkuN3dblbw74i0DxdoVn4o8K63aalpuoW6XFhqFhcLNDcRMMrIjqSrKQQQQcGrlfKni74VfED/gnvrl58Y/2YvDt7rvwmurl7vx18I7Fd8uihjul1PREP3ccvLZDCONxj2tgD6Q%2BG3xI8C/F/wJpXxN%2BGfie11nQdbs1utM1KyfdHPG3f1BByCpAKsCCAQRSr4dU4qpTfNB7Pqn2kuj/BrVO2xGV9HueaftQf8lv/AGcf%2ByzX3/qFeKK9mrxn9qD/AJLf%2Bzj/ANlmvv8A1CvFFezVylBRRRQAUUUUAFFFFABRRRQAUUUUAeM/t4f8kQ0P/ss3w4/9TXRK9E%2BLXxU8D/A/4aa58XPiVrSafoXh7TpL3UrpxkrGgztUdWdjhVUcszBRyRXnf7eH/JEND/7LN8OP/U10SuO%2BP9sP2ov2y/CP7K8n77wf8PrKDx18RYBzHe3fmtHo2nydivmxzXbowIYW8eetdOFoxrVff0ik3L0X6vRLzfkTJ2Whd/ZG%2BDvjj4geMJ/25P2mNEe38beJLIw%2BDvDF18y%2BCdCc7o7RAel3MuJLmXAYsRGNqoQfoqiioxFeWIqcz06JdElsl5L8dW9WxxSirBRRRWIwoorwH9uz45fEfwrp3hj9mj9nW/jg%2BKPxYv5tN8O6hJF5ieH7CJA%2Boa1IvQrbQsNik/PNLCuDkitaFGWIqqEevXoktW35JXb/AOGKjFzlZGD8cf2jvjB8evixqf7Hn7Deq29lqmjssXxN%2BLFxbC4svBquM/Y7ZD8t3qjKciInZAMNJz8o9T/Zn/ZR%2BDv7KHhCfwz8L9HuJL7U7j7V4l8Uazcm61bX7w5LXV7dP888hJY84VckKqjitD9nH9nn4b/st/CHSvg18LdOki0/TkZ7i8upPMutSunO6e8uZTzLPK5Lu56k4GAAB3Nb18RHk9jQ0h%2BMn3l%2Bkdo%2BbuypTVuWO35%2Bv%2BXQKKKK4zMKKKKACiiigAooooAKKKKACis/xF4u8KeD7P8AtHxb4n0/S7fn9/qN7HAn/fTkCvmb9p7/AIK//sffs%2BWd1pHh3xunjfxEts5tdN8Jsl1bpKVbYJroMIUXeAHCM8ig52HjPbgstzDMaip4alKbfZO3zey%2BbODHZpl2WUnUxVWMEu7V/kt38kdX%2B2n/AMFGvgF%2BxAdP0b4hnUdU8Qamkdxa%2BHdHt8zm0aR0a5Z32xqoMbgKW3MwwBgMy%2Bo/A342/Dr9ov4XaV8YvhVrD32h6xG7Wk0tu0ThkkaORGRgCrK6Mp7cZBIIJ/I79pL/AILAyftR/Cm78AfE39kHwLe6lLBNDp%2BvXkss0mmCRQPMtwQJIpQQG3LKAdoBUjIMX7K/xr/4Kl658CfDPgL9jPwv4mi0Dwr9vtJNSsdMtZrS7ee5a4I3XUJUSIZWHDtgFeF7/eVOBakcohKrajWUrSlOpHkaae1lprZJb7vbb8/pcf055zONK9ag43jGFOXOpJre710u29EtFo9/2jor85P2Y/Ev/BcDSfHfhPw54s8O3%2BqeGra9t4vET%2BNbLTYStsXHmt9pWU3EzKhba43MSBlW6V%2BjdfF5rlbyqsoOtCpe7vCXN1tr2b39D7nKM2Wb0ZVFRqU7WVpx5b6X07pbPzCiiivKPWCiiigAooooAKKKKAPCP2nP2J7D4qeLIP2hPgP4wb4d/GLSLfy9K8babAGi1KEYP2DVbcYW%2BtGwBtf548Bo2UjBs/sl/tcX3xp1PWPgj8a/BieCvi94NjQ%2BLfB7TmSG4gY7Y9T0%2BU4%2B02Mp%2B6/3o2PlyAMAW9urwn9t79mXxT8WtD0r43/AK8g0n4xfDl5NQ8BaxJ8sd8CP3%2BkXfI32l0gMbAn5GKSAgqc99GtDERVCu9Noy/l8n3j3X2d11T1jJTXLL5Pt/wAD8j3aivPv2Wf2h/C37VHwI8P/ABw8KWM9imr2zLqOkXgxcaXfRO0V1ZTAgESQzJJGeBnbkcEV6DXHUpzpVHCas07MzacXZhRRRUCCvlPxRY/8O6vjovxI0BfI%2BCHxJ11IfF%2BmLxB4M1%2B4cJFqcQ6RWd1IVjnXhY5WSQEBitfVlYfxL%2BHPg/4vfD7Wvhd8QNHj1DRPEGmzWGqWcg4khkQqwB7HByGHIIBHIrpwtdUZuM1eEtJLy7rzW6ffTZsmUbrTc81/ag/5Ld%2Bzj/2Wa%2B/9QrxRXs1fMWo/Dnx18IV/ZO%2BF/wAR/iCPFWraB8Vr2xk182phe8hj8GeKVgaRSzEyCERq75%2Bd1ZsDdgfTtY1IxjNxi7pPfv5jWqCiiioGFFFFABRRRQAUUUUAch4F/aD%2BAfxQ8Zaz8Ovhp8b/AAh4i8Q%2BHXZPEGhaF4ltbu80xlcxstxBFIzwkOCpDgYYEdasWvxt%2BDN98U7n4F2Xxc8MTeN7OwF7eeDotft21WC1IUid7QP5yxkOnzldvzLzyK%2Ba/hr8V9M%2BLH7b%2BrfFPxZ8JPiL4S0n4WaTrXhfwLptx8GvEMP9tfaryzOo6s10LD7O8EktpAlrBFIzPGs1y4O%2BMQ8z4O%2BH/wAQYv2pPD3w3l%2BFHiiHXtB/ad8SePda8Zy%2BGrpNKm8O3mhanb20iamY/s08hW9sNP8AsqyGZPszMYxHCr0Ae9/t4f8AJEND/wCyzfDj/wBTXRK5n9gCP/hMte%2BNf7QF9%2B9uvF3xi1Sxtbn%2B9pukBNLtUH%2ByDbzOPeU1L/wUL034rz%2BD/Bmo%2BHPGnh618LQ/GH4ejXtGvfDE9xqF458Z6N5bW94t7HHbBW2lg9tMWAIBTIId/wAEx5o4/wBmrUNAe3SG70b4m%2BL7HUYkLfLOuvXrNncSckOpP14wMCu2jpgqzXVwXyu3%2BaRD%2BNfM%2BhaKKK4iwooooAK%2BYP2WrRvjR%2B3l8d/2ktWb7Rb%2BD7yx%2BGfg/eP%2BPSG1t4r/AFMr/wBdbu7jUnri1UZ4wPp%2Bvmj/AIJuMLG%2B/aB8M3Xy3th%2B0l4lkuo24bZcpa3cLY9DDPHg%2B3tXbhvdwteS3tFfJy1/JI0hpCT9PzPpeiiiuIzCiiigAooooAKKKKACiiigAoIyCM49xUGp6ppmiadPrGs6jBaWlrE0tzdXUyxxxIoyWZmICgDkk8CviD/gpT%2B3T4E8S/sy3V3%2Bx/8AtneH7DxPpXiC1e6ttE8QQR3d/anejxxFmDFQzJIWjzkRY6NXo5ZlmJzTFQo0k0m0nK0nGN9rtJ2PMzXNcLlOEnWqtNxTajeKlK2/KpNXPFPj/wD8EwPhv8NPGM3if9rz/gpXp8TauJJ45/EmifadWu7dGOREZrp2yMgbkQ88AdqxP%2BCbn7CuueL/ANoW68W6l%2Bz/AKfrHwR13Trr7FffEe1tpb64si0iWs9sEUSQ3LvGHOFRRE%2BdxzE7fPfjr9nr9oT9pD4v32sfDTVvH/xo05oogvj5fC99tncxhmj/ANKb5ESZnQZcAqN4UZ2jB%2BLP7AH7YHwY8DXPj/4q/AHWNN0K3dIry9cwzJFvViC6xOxVMKQXI2qSoJBZQf2pUMRLL3hZ5hH2tSPKk1GCi%2BnLCMoTUr21eq6Rvo/w1YjCRzSOLjls/YU5czcW5uSv73NOanCStzOyfK3a87Xa9C/ae/YX%2BFn7Nvx91v4d/E39q/wnpFlbebeaPplno2pajqX2OR3e2iuEgtkgSVlIyGnBC4YDaUztfsQ/tFf8FAdDvrr4M/sKeMNR8U%2BGPDUg1qXw3q%2BmaZDPNbGRPPRIp5JZER5HIKW8pbL7xtZzXtP/AAS6/wCCW3wV/ab/AGWT8a/2mNPvr/Utc1a7g8Oy6Xr8kYtdNgVLaIso481ZYpsBsqEEY29RX29%2Byv8A8E%2B/2X/2Pcan8IfBEp1x7NrW78TavdtcX1zGzBmBPEcYJVciJEU7RkV85jeMcuWXSw2JjKtWj7rjUpqMOeN03ZvmWzs2%2BbVOyvZfW0%2BA8xoZ37XCVIUqDfMp0qznJwkoyiuZLkbtKPMkuRSjON3y3fr/AIe1K91nQLHV9R0WfTbi6s4pp9OuWVpLV2QM0TlCVLKSVJBIyOCauUUV%2BUNpu6P1dJpJN3CiiikMKKKKACiiigAooooAKKKKAPmH9nK2X4Hf8FD/AI0fs%2BWI8rRPHOjab8TdBtE%2B5b3c7yafquP%2Buk9tbTkf3p2P8VfT1fNEzLqX/BYq1%2BxHd/Y/7NVwuolf4Td%2BIIDAD7kWdwR%2BNfS9duO96cJvdwi362a/KKNKurT8l/X4BRRRXEZhRRRQB4z%2B1B/yW/8AZx/7LNff%2BoV4or2avGf2oP8Akt/7OP8A2Wa%2B/wDUK8UV7NQAUUUUAFFFFABRRRQAUUUUAFFFFAHjP7eH/JEND/7LN8OP/U10SuW/ZamHwi/bC%2BN37N%2BoHyotd1a2%2BI3hYP1uLbUI1t7/AG%2B0d7bMT/18qe9dT%2B3h/wAkQ0P/ALLN8OP/AFNdErB/bs8EeMfCp8L/ALZ/wi0OfUfFHwouJ7jVNGsx%2B913w5OqrqVio/jkCIlxEDnEluAAS9duCanKVCT%2BNWX%2BJO8fx0/7eInpr2PoSisb4d/EHwd8WPAmkfEv4fa9Bqeia7p8V7pd/btlJoZFDK3qDg4IPIIIIBBFbNccoyjJpqzRe4UUUUgCvlJ0j/ZM/wCCnV74j1a7nj8IftLaTZ20dzPOTb2Pi7Sbdo4oAOEi%2B2WGNv8AFJLZ45yoH1bXn/7T/wCzn4J/ap%2BDGqfB3xvcXNmt2Y7nSda099l5o%2BoQuJLa%2BtnHKTQyqrqR1wVOVYg9WErQp1HGp8Elyv0ez%2BTSfnZrqXTkk7PZ6HoFFfPX7H/7UnjTXPEl5%2ByN%2B1fDbaT8ZfCdmHuTGnl2njDTQdsetafnAeN8fvYh80Eu5WAGK%2Bhazr0KmHqck/v6NdGn1T6f5ppKUXB2YUUUViSFFFFABRRRQAUUUUAfmB/wVd/aZ8AftKfEeT9lXQfAtzYeJvhz4gFymueMPEtnpGkTL%2B7E6yx3ciCeJlZChBDsPmQFGO76b/Y88Af8E4fEFvZL8MtE%2BDWs%2BPDpsN14gHhqG2uGS7EaC4ktYpC0kEHmA4VAqgEdzz7h48/Zw/Z7%2BKXiSLxj8TPgZ4Q8Q6tBEsUWpa34btrqdY1JKpvkQsVBJIGcAkkda83/AGjf2If2O/FHg8%2BMfEmh6X8Nrnw7/pln4%2B8KSwaHd6Qy/wDLX7Qiqu0dMSBgM8YODX2DznLsTl1HAU/a0lHdxfMnKVr3SalKLeqitVd2vs/i1kmZYbMq%2BY1PZVnLZSXK1GN7WbUoxko6OT0dle2697jjjhjWKKNVRQAqqMAD0ApSAwKsMg9Qa/O/9kP/AIKt/D/wN8bfE3wG%2BPP7VK%2BMfB1vNaxeBPiPqnhyS0kuXZVEsN0UX5UV22ieRQD5bOzhWGP0Qrw81yjG5RXVOvF2kk4uzSaaT0uk7q%2BqeqejPeyjOcDnWHdTDyV4tqSum4tNrWzas7e61pJaohsLCw0uzj0/TLKG2t4lxFBBGERB6BRwKmoory223dnrJJKyCiiigAooooAKKKKACiiigAooooAKg1LUtO0bTrjWNXvobW0tIHmurm4kCRwxqCzOzHhVABJJ4AFT18h/HDxjqv8AwUa%2BJmo/scfBXVbhPhT4f1AQfHLx5YTFI9SZCGbwzYyr9%2BSTgXciHEURMed8hWujDYd15u7tFayfZf5vZLq9O7VwhzPy6m9/wTti1D40%2BIviV%2B31rNlLBB8WdcgtvAsNzGVePwrpiPb2Eu1hlDcyPdXeO6zxn0r6eqtoujaR4c0e08PaBpkFlYWFtHb2VnaxBIoIUUKkaKOFVVAAA4AFWaWJre3rOaVlsl2SVkvuX33FOXPK4UUUVgSFFFeUfti/tE3P7OvwjbU/CWkjWPGviO9j0T4feHFOX1PWLjKwoR2iTmWVjgLHG5yOK0pUp16qpw3f9fd1fZJsTaSuyh%2B1B/yW/wDZx/7LNff%2BoV4or2avmLUfhb4h%2BC6/snfDTxh491HxRrOmfFa9Gs%2BINUu5Jpb68fwX4pknkDSEssfmO%2BxOiIEUcKK%2BnaVSMYzai7pPfv5/MFsFFFFQMKKKKACiiigAooooAKK8X/Y5%2BLvxw%2BJV18UvB3x%2BvfCl3rPw/wDiY3h62vvB%2Bi3Nha3Fq2jaVqSForm6uXMitqDxlw4VxGrBEyRXJfsUftT/ABd%2BM/xC8R%2BCPj34m0TR9dtbnWJdJ%2BH5%2BE%2Bt%2BH9QTTbXVpLSG/jvtRu5IdXgaH7Kzy2kKxq91Hll3qpAOv8A28P%2BSIaH/wBlm%2BHH/qa6JXs1fPH/AAUL%2BLnwo8NeD/Bnwo8R/E7w9p/inxB8Yfh7LoPhq91qCLUNSSPxnozSNb27OJJgqqxYopACknGDX0PQB8n30l3/AMEz/ibd64LeRv2fPGesNcX/AJKFl%2BHer3Enzy7R9zS7iRstj5beViflR%2BfqyzvLPUbOLUNPuo57eeNZIJ4ZAySIwyrKw4IIIII61FrOjaR4i0i60DX9Lt76xvrd4Lyyu4VkinidSrxujAhlIJBBGCDXy0fDPxc/4JuXcl98OND1jx38BWkaS68LWga61rwEpOWkslJL3unDJLW%2BTLCOU3KGFej7uYLV2q/hP59J%2Buku6l8Wfwen5f8AAPq6iuf%2BF3xV%2BHPxr8DWHxL%2BE/jOw1/QdUh8yy1PTZxJHIO4PdWB4ZGAZSCCAQRXQVwSjKEnGSs0abhRRRUgeX/tSfsm/Df9qrwtY6f4our/AEXxF4fuzfeDPG/h%2BfyNV8PXuMCe2mHQHADxNlJF4ZTgEeT%2BDf2z/id%2By74hsvgv/wAFI7Kz0sXE62nhr43aTbGLw34hJ4RbzqNIvGHWOU%2BQ7BjHJjC19UVQ8UeFvDPjfw9eeEfGfh2x1fStRt2g1DTNTtEnt7mJhhkkjcFXU9wQRXXSxMVT9lWXNDp3j5xf5p3i%2ByeppGatyy1X5en9WLltc295bx3lncJLFKgeKWNwyupGQwI4II5zT6%2BV5P2Jvjt%2ByvcSa7/wTr%2BMMGn6EHMk3wY%2BIks974dbJyVsLkFrrSicsQqGSDcR%2B6AFaPhf/gph8PfCWu2vw9/bU%2BG%2BufArxNcSiGBvGW2XQb%2BT/p01mHNpIOnErQvzylW8FKoubDvnXZfEvWO/zjzL0H7NvWGv5/d/lc%2Bl6Kg0vVNM1vToNY0XUYLy0uYhJbXVrMskcqEZDKykhgR0I4qeuHYyCiiigAorL8bp4wk8F6unw9msY9fOmTjRJNURmtlu/LbyTKEIYx79u4DnGcV8M/svfDD4v/tl6r4t0P8Aat/a/wDjF4Z%2BIfhHVVtvE/gPwnq0OiWNnDJua2eMQI4uYpI13CUYJ/2htd/UwOXQxeHqV6lVQjC19HKWuifLG2l9G72TaXVHlY/M54PE0sPTpOc6l7axjHTVpyldc1tVFK7SbWzPqn9pT9sH4JfstaPFN8Qtfe61q/Ij0Pwlo0f2nVdUlY4VIbdTuOTxvbC5wM5IB8a8V%2BLv%2BCkX7SXhHUNIg/Y7%2BGfh3wlq1m0F14d%2BJ3iK4ury/gcd1swFgOOdrgMpxzkZr1f4A/sKfs1/s4a1L4x8C%2BCHvfEtxn7T4s8RXj6hqUmRtOJ5iTHkcERhQR1zXr9bLGZdgWvqtP2kl9uomv8AwGEZK3rKTl6GDwWZ5gn9bq%2Bzi9OSm09P705Rd/SMVH1PxP8AiH/wRl/bp0jxiB4P%2BDul3Npdiae3i0/xRbzw2mwBvKZ7nyidx4QMDkYDMcM1fob/AMEvPgj%2B2t8Ifh/r97%2B2b8VdV1m91m8gk0fQ9Z11tUuNLVFYSM1yzv8A6zKfukdkXyt2dzsB9R0V6ObcYZnnOB%2Bq4iELaaqPvaa6Nt2vpe29jzMn4LyrJMf9bw86l9fdcvd1VtUkr21te6V9NkFFFFfKH14UUUUAFFFFABRRRQAUUVz/AMTPix8MPgv4Un8dfF34h6L4Y0a2H7/VNe1OK1gU4zjfIwBY44UcnsKcYynJRirtjSbdkdBWD8TPij8Ofgz4Jv8A4kfFjxvpnh3QdMi8y%2B1bV7xIIIV7ZZiASTwFHLEgAEnFfPEv7efxd/aNJ0b/AIJ5/s7X3iizmO0fFP4gwz6L4WgH/PWEOou9TAORiCNUPB83Fa3w5/4J66ZrXjaw%2BNv7anxNvPjJ440%2BXz9Jj1mzW38PeH5PXTtKUmKNxwPPlMsx2ht6mu76nGhriZcv91ay%2B7aP/bzv/dNPZqPxu3l1/wCB8/uOSvPF/wC0Z/wUqU6H8LF8QfCj4E3PGoeNbqB7LxL41tz1i06FwH02zdet1IBNIrDy0UFjX018J/hL8N/gX8O9K%2BE/wj8HWWgeHdEtRb6ZpenxbY4kHJPqzMSWZ2JZmYsxJJNdFRWNfEurFU4Llgtku/dvq/N7bJJEynzKy0QUUUVzEBRRXm/7R37VHwq/Zj0G0vPG93d3%2BtaxMbfwv4P0K2N1q2u3PaG1t1%2BZznGXOETOWZRV06VStNQgrt9BNpK7N/40fGj4bfs%2B/DbU/iz8WfE0OlaJpUO%2B4uJOWkYnCRRoPmkldsKiKCzMQAK8c/Zk%2BE/xI%2BMXxTP7cX7TnhqXSdamsZLP4ZeBbwhm8IaRLjfLMOg1G5AUzEcxoFhB4YU34Sfs3fFT43fEfTP2of23re1XVdJm%2B0%2BAPhbZXIuNM8Ikj5bmdx8t7qW3gzY2REkRDow%2Bjq7Jzp4Sm6VN3m9JSWyX8sX1/vS67LS7cpOTu9jxn9qD/kt/7OP/AGWa%2B/8AUK8UV7NXjP7UH/Jb/wBnH/ss19/6hXiivZq4CwooooAKKKKACiiigAooooA8X%2BBP7HmsfAnxp4v8a2n7WXxK8RyeOPFcPiDXrHxDaeHRA92lrb2ZCfZNIgdI3t7S2iYB84hDKVdnZtT4f/stQeE/jQvx58bfG/xr4616y0O%2B0bw7/wAJUdMjg0SxvLi2uLqG3j0%2Bytd5keyswZLgzSBbdQHG59/qlFAHjP7eH/JEND/7LN8OP/U10SvZq8Z/bw/5Ihof/ZZvhx/6muiVr%2BG/2uvg7rPxl1H9n7xDeX/hjxdaXTx6dpPimyNkdbhU4FzYSMdl3E3OAjFxg7kXFaQpVKibgr21fp3InUhBpSdr6I9PooorMs%2BeviX%2BxXr/AIS8cX/x5/Yj8d23w98ZahL5%2BvaDdWzS%2BGvFMnrfWiEGGY9PtcG2UZJYSZqX4aft5%2BH4PF9p8F/2s/A9z8JPHty3l2Nnr1ysmj64w43abqQAhuM5H7pykwLbShIzX0BWF8R/hj8O/jB4Qu/AHxU8EaX4h0W%2BXbdaZq9kk8MnodrggMOoYcg8gg13RxcKsVDErmttJfEvntJeUvlJEcrWsTdor5oX9k39o/8AZo/0v9iH45C88Pw8r8KvilcT3%2BmxoP8AlnY6gC13ZADhUYzR5P3QKu6L/wAFFfBXgrVYPB37Y/wy174La3NKIorvxSq3GgXkh7W%2BrwZtmGOcTGFhnlRQ8DKor4eXOuy0l84vX7uZBzpfFofRVFVdF1vRvEelQa74e1e1v7G6jElreWVwssUyHoyupIYe4NWq4WmnZlhVHxJ4Z8N%2BMtCuvC/i/wAPWOq6ZexGK807UrRJ4J0PVXjcFXHsQRV6uR%2BM/wAefg/%2Bzx4Pk8e/Gn4gaf4f0tG2rPeyHfM/XZFGoLzPjnais2OcVpSp1atVQpJuT2Su3fytqRVq06FN1KklGK1bbsl6t2seW%2BDv%2BCb/AMCvg/8AEqw%2BI/7N/iTxf8MorfVEvNV8JeDfETxeH9YAbLRT6bMJLdFYZGYFiYZ4YGun/bL8UazoXwr07w9oviS70VvFXjDSNAutbsZTHNYW91dIk0iSD/VsYwyB%2BNpcEEHFeHH9sr9qr9sf4nTfDL9iHwa3hLwclis9x8XvGfhe6Mb4Zd62cEsYieT5gFWTO4K5OzANbnin/gnl%2B0F8ctDuvCX7Uv8AwUI8XeJNDvYhFdaN4X8L2GhwzR5yUk2CUSjIH3l7V9BPA1KNaE8yxEYyVnyu8526XUU1fylO6trZaHk08%2BljJc2EoTrRTtze7GLt2lNpyXmotPo2eWeHf%2BCh8fw38E/Ez4Ifsz%2BFfiV8VPEmheIr2LwUui6ZdeIP7Osmjj8hprq5kZ5YlcTbAzyEhduQMAHgH/gp5%2B2f4g8KWfw98G/sj6v4u8eavf3lho2o%2BJdMi8M2lrJar/pJ1CE3Vw0bQnBdQ0WdygBcgn6N%2BC//AATy/Z//AGfPg/P8IvhDdeJdCN3dRXN/4n0vXnttVu54i/lvLNCERgqyMvl7PLKnBQ9areLP2IJ7HSNJh%2BBXxXm8NapaW2uQavreuaY2rXOpHVvKN3eM3nQ7b0PCrxynfEmWXyWUgLrPG5Aqkowo8yvpKbldtLdqNkk2vhV/N66dNGjmOIhzYityNu/LGMWkrWUXJ3ba3ckld3srWPmvR/Gfxm%2BPtl4Y1L9qH9szxvpNh4l0vS7/AFbw18IPDa6daeG49Rne3tY9Q1ElpVEs8csO0qxHlsW2qQ1fXn7Of7Fv7PH7K95qOs/CDwfcW%2Bq6xCker6zqOrXF5dXiqcje8zsBzyQoUE9uK8v1D9jT4haV4u1n4U%2BD9I0lPh34o1LQrjUdfm1dvt9np%2BnW0SNpotvKxI0s0Tyef5mALuUbAUXd718adI%2BM%2BtfD%2B5sPgD400HQPExmiaz1HxLosmoWaoHBkR4Y5oWO5cqCHG0nODjFc2PzKrXgqNKooU5bxjaMbaNcyjHp5uT0vux0slyzD141ox5pr7U5SnJejk3y9vdSOror5o%2B1/8FhNA%2BabRP2cPFCJ18i/17RpJB7Bo7tQfq2Kktvj9/wUz0tzb%2BIP%2BCd/hHUQqMTdaB8cYcOQpIAjudPjIyQBy3fnArzPqM38M4P/ALfX62PT9k%2BjX3n0nRXzT/w1z%2B3ZZ/8AIW/4JSeLWHd9M%2BKfhucfgHuo2/Sj/htv9qqLi6/4JX/FcHv5Xibw5IPzGo0f2fienL/4HD/5IPZT8vvX%2BZ9LUV80/wDDav7Ws/y2H/BKz4os3b7R4u8NxD8zqBoH7V/7f15/yDP%2BCVOuxZ%2B6dW%2BL/h6Efj5MsxH5Uf2fiOvL/wCBw/8Akg9lPy%2B9f5n0tRXzSfjV/wAFTvER8rQ/2E/ht4eJ%2B7P4k%2BNclyB7lLTTD%2BQY0n9l/wDBYHxJ%2B5u/F37OnhON/vSWGj65rU0Y/wBkyzWiE/VaPqUl8VSC/wC30/yTD2b6tfefS9FfM/8AwyR%2B3b4u/dfE7/gqBrttbSf660%2BHvwy0jSCPZZrkXkq/Xd%2BFIf8AglT%2Bz94o/wCS7/FH4u/FAd4PHfxU1KS2J/69rSS3gx/s%2BXt9qPq%2BEj8da/8AhjJ/nyoOSmt5fcn/AMA9H%2BM37bv7IH7PKS/8Lp/aW8F%2BHp4fv2F/4gg%2B1k9wturGVj7KprzX/h5XB8SB9m/ZI/ZH%2BLPxQaX/AI9NaTwyfD%2BiSH1N9q5twV9445PpyM%2BpfB79jf8AZO/Z%2B8uT4Kfs4eCvDM8Q%2BW90nw5bxXLe7ThPMY%2B7MTXpVHtMBT%2BGEpP%2B87L7o6/%2BTBektk36/wDA/wAz5hPg/wD4KnfHjnxf8Ufh/wDAvRJuTp/gywbxNroQ8GNry8WK0ibH8SW8mOx9N34af8Ez/wBl3wX4rg%2BJvxE0jWPil4zt%2BYvGPxX1h9cvITnIMMc3%2Bj2uD08iKPHboK%2BgaKUsfiOVxp2gu0Vb738T%2BcvkDqytZaen9X/EAAoCqAABwBRRRXGZhRXnni39qn4FeFtE8WapbfEDTtauvBVpJPr%2Bi6DfQ3N7AUKgx%2BWHGH3MincVCs4DFc1514w/ag%2BKHjTXdA%2BFPw80hPAPiq/1y50/XIvGGnRX5sJksHvLaJRb3KxutwEIEyu4Hluu3cykdVPB4ip0su706X9dvJ9CXKKPoiqfiDxDoHhLRLrxL4q1yz0zTbGEzXuoahcpDBbxjq7u5Coo7kkCub%2BBPxOuvi58NrXxdqmkLp%2BoJdXVjqtijllgurad4JQpPVS0ZZT/AHWWvO/Ef7B/gX4tfFG7%2BJP7THj3XviRaR6o1z4a8F69KkegaLHuzGosYVWO6kUHHm3HmEjHAPNTClSjUlGvLlt2V2/JdPm3b1Bt20OZ1D9sX4tftOXcvg//AIJ9%2BBodQ03zGhv/AIyeLrWWHw/Z4O1jYxfLLqsowwGzbAGC7pCDiu7/AGeP2OPAnwN168%2BKPiTxBqXjn4j6xCI9d%2BInigrJfTJ1MFuqjZZWwJO2CEKoGMliAa9bs7Oz060i0/T7WOCCCNY4IIYwqRoBgKoHAAHAAqStKmL9x06MeSL36t/4n%2BitHyYKOt3qFFFMubm3s7eS7vLhIookLyyyOFVFAySSeAAO9cZR45%2B1B/yW/wDZx/7LNff%2BoV4or2avCvj14p8M%2BNvij%2BzR4p8G%2BIbHVtMvfjHfvZ6jpt0k8E6/8IX4pG5JEJVhkEZB7V7rTaadmJNNXQUUUUhhRRRQAUUUUAFFFFABRXM/Cz40/Bz456Jd%2BJvgn8WfDPjHTbDUpNOvtQ8La9b6hBb3kYVpLeSSB3VJVDoWjJDAOpI5FJ4O%2BNvwZ%2BIni/Xfh78P/i54Y13X/C04h8TaHo%2Bv291eaRISwCXUMbs9uxKsAJApyp9DQBwH7eH/ACRDQ/8Ass3w4/8AU10Su7%2BMfwM%2BEf7QPhB/Avxk8Bafr%2BmM2%2BOK9i%2Be3k7SwyKQ8Mg7OjKw7GuE/bw/5Ihof/ZZvhx/6muiV7NVQnOnJSi7NdUTKMZxcZK6Z84r8Mv2zf2Wf3vwQ8Z/8Lf8GQ9PBXjrUhBrtlH/AHLPVCNlwB2julzhQPNrr/g9%2B2/8Dfix4mHw21K%2B1DwZ43UDzvAvjqyOm6mCf%2BeSSHZdKcZDwPIpHOa9frk/i/8AAr4OfH7w0fCHxm%2BG%2BkeI9PyTFFqdortAx/jif78T/wC2hVh611/WKNb%2BPHX%2BaNk/mvhf/kr8zn9hVpfwZadndr5PdfijrKK%2Bdh%2By3%2B0v8Cf3/wCyV%2B0tPfaTF/qvAPxa83VbFV7RwaghF5bKBwoYzqPTHFOX9u3WvhSfsX7Y/wCzn4q%2BHix8SeKdMhOu%2BH2HQMbuzUyQAnnE8MeB1PBNL6nKprQkp%2BS0l/4C9fucg%2BtKH8aLj57r/wACWn32Poeq2s6Lo3iPSp9C8Q6TbX9jdRmO6s72BZYpkPVWRgQwPoRWP8Nvi38LfjHoC%2BKfhP8AETRPEmnNj/TNE1OK5jUn%2BFjGx2t/snBHpXQ1ytTpys1Zr5M6YyjJXTuj531j/gm98J/DOqz%2BK/2V/Hnir4L6zPIZZB4B1ELpVxL2M%2BlTrJZyAeixofeoB4m/4KX/AAQ/deJfh54I%2BNujxcDUPC98fDetlR1d7W6aS0lb2SaPPoO/0fXJfGz45/Cr9nbwBc/E74yeMbfRNGtnWNrmdWdpJGztijRAWkc4OFUE4BPQE13UsVisRNU5R9q3ok1eT8k1aX4syqyo0KbqTlyxWrbdkl3d9D57%2BMP/AAVh%2BFfwy%2BFfiHUPEXw%2B8Z%2BCPHVnpE8mgeFPiN4Ou7Nb%2B7CHYiXEQe3mTdjOybJAOCOol/Y9/ZX8CfFSPSf2xP2gfiPZ/Fnx5q1nDdWl9NJFNpfh0OokFrZWyFo42jJALn5ty7gFJYnl/h3pfib9vP8AbX0347/Eb9nvxMnwh8MeD5U8HW3j7T4bWF9XkmXN4tmzM06vFna7DauxTwQteueLv%2BCaP7GfiPWZPFfhr4SjwTrr8rrvw41W58P3SN/fzYSRK5zz86tzzXt4meEyvDrC026dWaTm4uM7J3Xs73Ukla80ndt2d0jwMLD%2B2sU8XVXNSg7U4tNJtO7q2aSd72hdOyTkrN3PeKK%2Bcx%2ByV%2B1r8PePgb/wUL8UTWsfzJpPxR8MWPiCNz/dNzGLa5A7ZMjH6ml/4Tv/AIKhfD7nxN8AfhT8RoBwJPBvjK70O5PuYb%2BGaPPt5%2BPcV4P1OE/4dWL9W4v/AMmVvxPouZrdH0XRXzr/AMN7eM/Cn%2Bj/ABk/YL%2BNvh%2BVP9fcaN4dtvEFog7nzNNuJXIHr5Yqax/4Ko/sISXaab4k%2BOa%2BGLtjta08Z%2BH9Q0Z0b0P22CNfyJHvR/Z2O%2BzTb/w2l/6S5Bzw7n0JRXA%2BD/2q/wBl/wCIQU%2BA/wBo7wJrRf7q6V4us7gn2wkpOfau7t7i3u4VubWdJY3GUkjYMrD1BHWuWdOpTdpxa9U1%2BaRSaew%2BiiioGFFFFABRRRQAUUUUAFFVdX1zRNAtTfa9rFrZQDrNd3CxoPxYgV5v4y/bh/Y0%2BHyv/wAJn%2B1Z8PNPkT71vP4ws/O/CMSFz%2BArSnRrVXaEW/RN/kmJtLc9Sor52P8AwVN/Y91Ym3%2BGfiPxT47uT/q7XwJ8PtX1Qyf7skVsYj/33SH9tL9oLxj8vwZ/4JzfE%2B%2BH/P143v8ATPDkP1xPcSTY/wC2W72rp/s7Gr4ocv8Aiaj/AOlNfkTzw7n0VRXzpv8A%2BCp/xF%2B7B8GfhjZz93fUfE2oW4%2BgFnAW/wC%2BhSH9hf4p%2BPT5v7Q/7enxT8RqeJdL8J3Ft4XsJF7oyafGJ2XtzOTjqTR9UpQ/iVor0vJ/gkvxDmb2R9FCSNnaJZFLKAWUHkZ6Zrx34Y%2BKPHnwz%2BOfiz4S/GH4pXev2V7pEPibwvrOsWtrbCG38w215ZgwRxRhIH%2ByMCwLkXfzMxrpvgL%2BzB8C/wBmTS9Q0n4JeBE0ddWnSfVrh764uri9lQFVeaa4kkkkYAkZZj1q94i%2BAPwa8YfE3T/jJ4v%2BHenav4l0i0Nvo2p6rGbk6chJLG3SQlIHbPzPGquwABJAAERnh4SnHVxa0dle%2Blurtre%2Buw7Sdj5vHwT8SeLPEHhb4PT%2BBNUu7G08Ra7MfHFiUbTr3wxqn2i4f/SFJAuTciyfyyp3SRbsbSWHonhD9kTxV4kudV1H9ojxfp%2Bo3smm6NZaRf8AhWOeynhm015JItUMjszR3bvIuVUmMLEq/MGYH3zp0orWpmFeStHT897v0v2WglBGD8NPhx4a%2BE/gy18DeFBdNaWzyyvPf3j3FxcTSytNNNLK5LPI8ju7E92OMDAreorz740ftV/s6fs9RqPjF8X9F0W5kx9n0uS582%2BuM9BFaxBppSf9hD1FckY1cRUtFOUn21YTnClG8mkvPQ9Bplzc21lbSXl5cJDDEheWWVwqooGSSTwAB3r57P7Tv7UvxsH2b9lv9le70nTpeE8a/GCR9JtQOzxafHuvJ1I5BYQA%2Bo60tv8AsH3PxTuY9a/bR%2BOOu/E%2BRXEi%2BFox/ZPhuBgcqBYW7f6RtPG64klyOoFdH1WNPWvNR8l70vuTsvnL5GH1mVT%2BDFvzei%2B96v5L5lnxR%2B3x4R8R67c/D79kvwHqfxg8SW0hiuW8MyLFounyf9Peqyf6PH3%2BWMyycY2VQh/Y/wDir%2B0JcR67%2B3Z8VI9a07eJIfhb4Leay8PQkHIF1ISLjUyCAf3pSLIP7rBr33wz4W8M%2BCtCtvC/g7w7Y6TplnGI7PTtNtEgggT%2B6kaAKo9gKv0/rUaOmHjy/wB56y%2B/aP8A26r%2BYfV5Vda8ubyWkfu3fzfyPDf2gPDvh/wl8U/2aPDPhXQ7PTNNsfjBew2Wn6fbLDBbxjwT4owiIgCqo9AMV7lXjP7UH/Jb/wBnH/ss19/6hXiivZq4223dnUkkrIKKKKQBRRRQAUUUUAFFFFAHyr%2Bwt8UvDUPxZ%2BO2nQ/C/wCIuhWniD4y2994bfW/g94h0m1urJvDuiWKzRyXVhFGIxcWNyhOQEEYZsI6M3EfsKfD/wCIOl/GH4U%2BGNW%2BFHijQ9Q%2BE/wz8Y6D8Ste1nw1dWVnqep3%2Bs6XNC1rdSxrFqa3L2d3fedbvKsYceYUkmK19w0UAfPH/BQvTfivP4P8Gaj4c8aeHrXwtD8Yfh6Ne0a98MT3GoXjnxno3ltb3i3scdsFbaWD20xYAgFMgjc8bp%2B3F8M/F%2BpeK/AEvhj4meGLq7eeHwlqAGi6rp8ZPENtdruguAv/AE3VGPTf3qX9vD/kiGh/9lm%2BHH/qa6JXs1aU6ns3smvNf018mYV6Ht4pKTi1s4u36NNeTTR4p4O/b1%2BBmpa9D4F%2BKx1b4Z%2BJpjtTQfiLYHTjMen7i5Ym2uATwDHKxPHHNe0wzRXESzwSq6OoZHRshgehBHUVm%2BMPBPg34haDN4W8e%2BE9N1vTLgYn0/VrGO4gk/3kkBU/lXjE37B2ieApm1L9lX4z%2BLfhbPuLrpOl3v8AaGiMx6ltOvN8ag/9MjF7Yra2EqbNwfn7y%2B/dfczm5syobpVV5e5L7neL%2BTie90EAjBFeCD4g/t6/CH938QPgp4a%2BKGlx/e1f4f6p/ZmohB1Z7C%2BYxu5HOI7j6DtV7w5/wUG/ZnvtWi8L/EPxJqPw81uU4Gi/EnR5tFlz6LJOBBJ7bJGzxjqKTwla14LmX93X8Fr%2BA1mWET5ardN9prl/F%2B6/lIs/Ej9gb9lv4ja%2B3jeL4dnwv4nOSnizwLfy6JqSuf4zNZsnmn/roHHtXPj4Ift1/CQZ%2BDH7VmleOdPj4h0H4vaCDOF9P7S08RyFveSGT8a980vVtL1zT4tW0XUre8tZ03QXNrMskci%2BqspII%2BlUfG/jzwV8NPDN14z%2BIXivT9F0myQvdajqd2kMMY92YgZPYdT0FXTxWLk1T%2BPok1zfJX1%2B5/I0nQwsYup8PVtPl%2Bb6fNr5niX/AA1/8e/hx%2B5/aI/Yd8aWUS8Nrnw6uofEtkQOshjh8u7jXvgwEj361578N7nxL/wUh/aMsPjdewxad8IPhJ4snTwrpd5ZN9r8R6zFFsa7lVyPJjhdlMYK7sgggEsFd8Zv%2BCinhX9oq1sv2cv%2BCfHxAk1vx54rv0srjX7fRbpLfw1p/W41B3miRWKoCFCk/Mc/eCq30P8As%2Bfs%2BeD/ANmv4KaZ8Evh5fXotdOgl3andOslzcXMrNJLcuWBUu0jM2CCo4GMDFe1OLyjCOrUpezrz0inzXjF3Up8svhbvyx3duZpLRnhRnHOsZGlSq%2B0w9P3pNWtKas4Q5l8Si1zTW1%2BRNvVEXwX%2BJPj3xv4z%2BIHhjxjpejpb%2BE/FKabpt9pEkuJ43tILrbKsnSRFuI1YqdpOcAdKj8DftJeHPGp1rUp/BWv6LoOiSX4l8WazHapplwlnK8U8iSxzuyIrRycyrHwjHHFU/gv8EviX8GLfXYJPixaeKG1zX7vV7i61fw%2BlrdPPNEqhXktnWMgNGgyIQdg244Bry7xf%2BzN8WpfDvjzW9K%2BF3hPQE1/SLK3vPBngfUvMi1yVNQFxeXjtLb2qfaJLdpYlVl%2BZmO%2BXDAjylTwlSrJXSXu2e3a%2Bj76%2BS6ntOeJhTi7O%2Bt1v3tqvl5voe8%2BDPjZ8KvH/ha68a%2BGPGtpJpljcm3vrq63Wwtpfl%2BWRZgjISHQjcBuDqRkEE9RHJHNGssUisjKCrKcgg9CDXyN42tJbX4haZ8Zv2hPAF7pvg3xD4qv9Sv/AA/qOli9YyW2mGy02O7ghEimSZXnkAbcqtBbqW3bQPeP2XPDPibwL%2Bzv4X8PeNLF7S%2BtNL3S6eQSbKNnZ47XHJ/dRskWP%2BmdZ4jDU6VNTi935fNXW7T36aouhiJ1JuMlt/W3S/T5noVRX1hY6navY6lZRXEEgxJDPGHRh6EHg14NH/wU7/YvtJFtvGPxO1DwrcEgPbeMPCOp6UUPoWubdE/JjXbeFP2x/wBknxztHhD9p3wBqLv0htfF9m0g%2BqeZuH4is5YPGU1eVOS%2BT/NJ/maRxWFm7Ka%2B9f5oZ4w/Yw/ZB%2BIBd/G37LXw81SR%2Bs974Nsnk%2BocxbgfcGuFuP8AglN%2BwA8zXGl/s7WejyMcl/Dmt6hphz7fZLiPFe%2BaVrWja7bC90TVrW8hPSW1nWRT%2BKkirNOGNx1JWjVkv%2B3pflf9DXlg9bI%2Bdv8Ah2d8E9O48FfF74z%2BG1H3U0T4za2ir%2BElw/60v/Dvi%2Bt/%2BQR%2B3j%2B0RZ46D/hYMNzj/wACbSTP419EUVf9o43rO/qov84sXJDsfO//AAw58X7TjSf%2BCkHxuQDp9sm0S4P5tpozR/wxr%2B0inEH/AAUu%2BKYH/TTQtAY/n9gr6Ioo/tDFd1/4DD/5AOSP9X/zPnf/AIYy/aKl4u/%2BClnxXYf9MdH0CP8Alp9H/DCfxMvONZ/4KNfHiT1FlqejW3/oOmmvoiij%2B0MV0a/8Bh/8gHJH%2Br/5nzuf%2BCeMNz/yGf23P2iL0HqP%2BFoPbZ/8BYYsfhR/w7B/Zo1L/kd/EXxP8T5%2B9/wkHxg1%2BUN9Ql2gNfRFFH9o47pUa9LL8ooOSHY8B0j/AIJZ/wDBPjSLsX7fsreGdQnH/LbXkl1Jj9TdySE/jXo/g39mf9nD4clG%2BH37P/gnQjH9w6P4Vs7Yr9DHGK7esvxF438F%2BEIjN4s8X6XpaAZL6jqEcAx9XYVE8Xja%2BkqkpfOT/C/6DtCKvojUACgKoAAHAFFeS%2BLf29f2J/A4YeJP2rfAEUiffgh8VWs8o/7ZxOzfpXNf8PLv2YNY/dfDQeN/G838MPg34b6ve7vpILYRn8HojgsZJXVOVvRr8XZfiYyxeFi7Oav6p/lc9/or5/8A%2BGwfj54s4%2BE3/BPb4lXg/wCfjxjqOl6BF9cS3MkuP%2B2efag6t/wU58cfPYeD/g58P7aXjGparqOv3kI9dsMdrET/AMCI9qr6lVXxyjH1kvyXMxfW6b%2BFSfpF/m7I%2BgKp6/4j8PeFNLk1vxRrtlptlCMy3d/dJDEg93cgD8TXhX/DJf7Snjbj4zf8FAfGksB5Nh8PtCsPD0YPceaEnuMf9tQfQirmg/8ABNv9j2w1OPxD4w%2BF8njbVkOW1X4h61d69K7epF7JJGD/ALqgUeywkPjq3/wxf5ysvwF7XEy%2BGnb/ABNfkrv8RfEn/BSD9kbTNVk8NeCviLP481pDhdF%2BG%2Bj3OvTu393Nmjxqf951FUD%2B0B%2B218U/3fwT/Y3h8K2cvMOv/F7xJHaFR6nT7Dz5yfZnj/Dt7r4d8MeGvB%2BlR6F4S8PWOl2MIxFZ6daJBEn0RAAPyq9R7bC0/gp385O/4LlX4sPZYifx1Lf4Vb8Xd/gj57P7JX7RPxU/fftLftoeI5bST5pPDHwvsk8OWIz96NrhWlvJk7f65M%2BnXPf/AAZ/ZJ/Zt/Z8ka8%2BEXwd0bSb6XJn1k25uNQnJ6mS7mLzyZ5%2B856n1r0WvPr74269ovxR07wT4j%2BFOoafpGs6vJpWj%2BIZ9Rt2%2B1Xa28s/%2BoRi6xMkEu1ydxKHKKMGk8Riq8XBOy7K0V9ytf53JdPC4dqclre13eT%2B93t%2BCPQayfGfjnwt8P8Aw5d%2BLPFmqfZ7Gy2i4eOCSZ9zMFVFjiVnd2LKAiqWYsAAc14f8Rviv8TPC/xD8W%2BMoviBNBp3hDxFpVlc%2BFJ7aA2suk3cVuj3e8RibzFmn8zf5m1VhZNvUny7wz8P2vRZfCH4U2cNh44tNCnk8WadJEIlOsaTeJdadqN3tAy9xcNn7VgmVS3zMEwLp4NNc0paf09e2611Rx181cZOFOF3qteru0rJb6p6Np2X3fX/AIG8eeE/iR4fj8T%2BDdWF3aPI0bExPHJFIpw8ckbgPG6ngo4DDuK82%2BJv7VPiHRvG9/8ACb4Jfs9eLvHXiXT2RL2RLX%2BzNHsndFkUTahdBYz8jq2IVlODjGeK2PgPoHjODxN418b%2BKPBN34ag8Razb3Flot7e280gaO1jiluG%2BzySIvmOvA3bisaFlViVHpNYP2VKq7rmXr%2Bdt7fI619YxOHjaXI%2BrtrbVaKW19HqnbseA/GK48d3Xj39mG5%2BJum6XZ6%2B/wAXr06pa6LdST2sUv8AwhXin5Y5JERmGMclRzmvfq8Z/ag/5Lf%2Bzj/2Wa%2B/9QrxRXs1Yt3dzriuWKV7277hRRRSKCiiigAooooAKKKKACiiigDxn9vD/kiGh/8AZZvhx/6muiVN4ytf22PBHivUPEfw/wBT8G%2BO/D9xdPNb%2BGNYhk0fULOIniCG7j82KXA/iljUnu3rD%2B3h/wAkQ0P/ALLN8OP/AFNdEr2SOWKUExSKwVirbTnBHUfWrhPkeyfqcuKwyxMUueUGtU4uz/JpryaaPEYf26fA/hGVdO/aN%2BGvi74Y3W4I114k0gz6Y7%2BiahaebAR7uyfTpXrXg3x54H%2BImjp4h8AeMdL1ywk%2B5e6RqEdzEf8AgcbEVqTQxXETQTxK6OpV0dchgeoIPUV5L4x/Ya/Zn8V6w/irS/h//wAItrrZK6/4HvptGvFb%2B8XtGQOf98NV3oS3Tj%2BK/Gz/ABZx8mc4f4ZQqr%2B8vZy%2B%2BPNB/OMT1yqPiPwx4a8YaTLoHi3w9Y6pYTjE1lqNok8Mg/2kcFT%2BIr5q%2BNGqfFH9jLwzJ4wu/wBvfRm0eCMtbaJ8XtHjup7gDqsVxYmG5mb2Ecrexwa4XwBdftbf8FObbT/%2BFqaFqvwn%2BE1pCz6iug6hNb33jSUkhBG0saSwWW3DEMvz7uCxIMXoYbKqlWn9YlNQpLebv90Vo5S7KLfm4q7OOpn0VW%2BqPDyddrSHutW7ucXKMY93JRutoyehW/aFuP8AgmV8CPEF1pvwr8Ya/wCHfH0srJb%2BG/gJrlzHf3Nz2gNrbFrRGz/DMg%2Bh6Vzfhn9hT9uz9oW90L47/tK%2BJvC%2Buz6GZV8K/DT4q2pu4oLVzlZL2XTVgja57HdDKMY3rkbV951X4EfCf9mq50LwV%2ByHpB8OeKHlt4odE0OzhmS8tTPH59xqcksbymJYt/715VbICoWYha9A%2BNXxm8a%2BA/iP4W8D%2BFbXQ449ahne4vfES3cdu0iyQxxWyXEMbpFK5kYgSDkIcDNeh/aqwsOXApuTT9%2BpZzt1UUvgTXVSlK2l1rfyJ5dQq1Jyx6UYwcVyUrqDlJ6c2vvSi%2BjhGK0bTukcfpfx3/af%2BE1jHpPxE/YOuptNtEEYvfhT4js9RhwBgbLSf7LMq46ABsAfhV20/wCCjX7LdncppnxJ8Ra54Bv3YKbH4geFL7SSp95ZohCfwc12aftC6IfiKngNvCWqtbHWRo0viKLyWsk1P7MLn7NzIJT%2B7OPMEezf8hIbitXwT8W/hb8YXvtE8KasNTW3hSS4juNNmjiuIJCypNEZkVLiFijgSRl0O0jNeNKVOWtSl803%2BvMvxPfpVJc3JQxSbvZKcU9V0TjyN/JNaPV2LXgb4u/Cj4n24u/ht8TvD3iGIruEmiazBdDHrmJ2roq8p8c/sM/se/Ea4N94q/Zv8IvdFtxv7LR47S5z6%2BdbhJM%2B%2B6ud/wCGAvA%2Bg/L8KPjz8XPBca/6q00T4h3VxbIf%2BuN/9oTH4VnyYSW02vVX/J/odXtczh8VOMv8MmvwlH9T3iivCP8AhQf7avhrnwZ%2B3WupxR/6q08afDiyutw9Gms3tm/HBNH2/wD4KWeHPnufDnwW8VRJ1FnqOqaRNJ9BJHcoD/wLFH1eL%2BGpF/Nr81%2BofXqkfjoTXolL/wBJl%2Bh7rJFHNG0U0aujDDKwyCPQiuK8V/sz/s4%2BO9x8b/ADwTrBf751TwrZ3BP/AH3Ga8//AOGh/wBsnRefFP7AF9cxr/rJvC/xI0y8/EJcfZnP0xS/8Nxahp3yeK/2MfjjprL/AKxofBMeoIPobK4mJH4VcMPioO9N/dJfpJEyzDASVql1/ihNfnBoXVf%2BCZf7BWq3JvB%2BzB4asZj/AMtdFik09h9DbPHj8Kq/8O1f2atP58Han8RPDh7HQvivrsW36BrtgPwFWf8Ah41%2BzTY/L4uXxx4efvHrvwy1uHb9SLQqPxNS2v8AwUp/YWuZhbyftJ6BaSH/AJZ6l51ow%2BomjXFdHPnKW8397/8AkjH6xkLfx0181H/5Epf8MB2ltxo/7Y/x%2Bsh/CB8TpbnH/gTHL%2BtA/Yn%2BJdj/AMgT/goP8bY/QX1/pF1j/vvTq6vTf24/2MdXA%2Bw/tX/Dok9Ek8Z2UbH8GlBrbs/2nP2bNRAOn/tCeB5wenk%2BLLNs/lJUOvmS%2BJP5wX6wNovKp/DOPyn/AJVDzn/hk39pq3407/go98Q1A6fafC%2BgzfzshR/wy/8AtfrxF/wUo8Xgf7fw98Ot/wC2derwfGv4NXQza/FvwxJnp5evW5/k9WV%2BKvwvcZT4kaCR7axB/wDFVH1rF9Yr/wAAj/8AIGipYN7T/wDJ3/8AJnj/APwy5%2B11Jxcf8FJvGJH/AEz8A%2BHk/lZ0f8Mi/tF3PGp/8FGfiW47/ZdC0KD%2BVia9ff4r/C2IZk%2BJXh9R/tazAP8A2aqlz8dfgjZjN38Y/CsQH/PTxDbL/N6PrWMe0V/4BH/5AHSwS3n/AOTv/wCTPK/%2BGHfG1582tft%2B/HWcnqtrr2mWyn/v1p4I/A0f8O%2B/Dl3xr/7Vfx51JT96Of4sXsKN9Vt/LFeg337Vf7L2mAnUv2kfAVuB1M/jCyTH5y1g6p%2B3t%2BxNpAJu/wBrD4fNjqLbxXazf%2Bi3arVbM5fCn8oL9IGUpZRD4px%2Bc1%2BtQ5s/8Eyf2Rr35/FPhzxXr8n8T698Sdcut31VrzafyrU8O/8ABOH9g7wxKJtP/ZO8DzuDnfqmhx3pJ9SbgPk1Vf8A4KXfsOFzHYfH6w1Bh/DpGmXl6fyghfNJ/wAPDvghqP8AyJPgb4n%2BJc/d/sP4U6y%2B76GS2QVblnDVm5perX6xMlichT0lTfpaX5KR6j4T%2BDHwe8BFW8C/Cjw1opT7h0nQre22/Ty0GK6WvCP%2BG0PHOsfuvBP7C/xlvpD9xtT0aw0yI/Vrq8Vh%2BK0v/C7v26dd/deHv2G9L0nd9248U/FK1XZ7mOzguM/QNXNLDYiTvNr5yX/yTZvHMcGlampP/DCf/wAgke7UV4R/Z3/BSvxJ%2B6uvE/wY8KRP1ex0zVNYnjHsZJLZCfqtH/DMP7UHiceV8Sf2/vFPkN9%2B38FeEtL0f/vmR47iUf8AfZqfq8F8VSPyu/yX6j%2Bu1pfBQm/Xlj/6VJv8D3euF%2BIf7T37OPwmDj4l/Hbwlokked1vqOv28cxPoIy%2B9j7AE1wJ/wCCdnwE135/iv4j8f8Aj1/Txl8QtRuY/wDvzHLHDj22Y9q7r4e/srfs0/CcxyfDf4B%2BENGmjxturHw/bpPkdzLs3k%2B5Jo5cHHeUn6JL82/yDnzSptCEfWTk/uikvxOFP/BQ34NeIvk%2BC/gL4ifEVjwJPBvgW7e3z2zc3KwwY/2vMx70n/C2f29viB%2B78Afsr%2BGfBcD8x6j8RvGYuJNvvaaakmD7GZfQ4r3mij21CPwU1823%2BGiD6rjKn8Su/SEVH8XzyOH%2BCnhf49%2BHrPULr49fFfRvEl5eyxvZ22g%2BGjp1tpygNujQtNLJMGJB3OQRt6c1lfEz4W/F3xh8bPDnjrwt4x8O6dougaXcIkWo6PPeXQu55EWWWMLPFGp8hDGrtv2%2BbIdpzXX%2BOfip8MfhjZ/2h8SPiLoegQbdwl1nVobVSPYyMM15fP8At%2B/ArWJWs/hFpvi34i3KMVaLwJ4TuryIH3uWVLcD3MmKIe3lNzjH8NO3kvxMcTiMrw1NUK9azTTs53m7O%2By5pvX%2B6d5rHwH%2BHHivV9L8T%2BOtHGt6vpEu%2B01O7xHIcSLIiusARJUR1VlV1YKVB6812WAOg614efib%2B3J8Q/k8A/s5%2BG/BFq3Kaj8Q/E32qcqe/wBj08NhvZp198Uh/ZZ%2BM/j/APefHr9r/wAV30LctovgW2i8PWeD1Rni33Mi9uZhn9KUoNpe0mtPn%2BC0/EiGP5m/qmGnK/VpU0/VztJ/%2BAM9D%2BKXx9%2BCfwTs/tvxZ%2BKeh6ACu6OHUdRRJpf%2BucWd8h9lUmvOv%2BGvvG3xG/cfs0fsy%2BLPFET/AOq8Q%2BJIv7A0kqekiyXa%2BfMvtHCc%2Bvp2Hwu/ZO/Zy%2BDN5/a3w8%2BEOj2mpFtz6zcwG6v3buWupy8xP1evQ6nmoR2Tfrp%2BC/zL9jnGI/iVY0l2guaX/gc9F8oHgnxok8by/EH9mOT4kWulwa63xfvTqcWiTSSWiS/8IV4pyImlVXZcY5YA173XjP7UH/Jb/wBnH/ss19/6hXiivZqybu7nqQjyQUbt26vd%2Bu2vyCiiikUFFFFABRRRQAUUUUAfLvwG/bG%2BNvxA%2BMXhaTxtpnhZfAfxM1rxdpngqz0vTbmLVdLk0W7lihkvLh7l4rpbu3trmYrHDAbdvLjzPkyC78Gv2p/i74m/bC8V/BT4veJtE8N6Zb%2BJdQ0/wH4bvfhPrdjdeIrS3tYZvtNtrtxd/YL1xunZ4LeAuqQsTtCs1dF4O/YM8DeAviXJ8SPC/wAXfG8Atb3V7vwroEk%2BnSaf4Yn1W%2BS91N7JHsjITcSK6/6Q8/kxzypb%2BQrYG/L%2By1BrXxz0f43ePvjf418Sr4Y1e81Twd4T1U6ZHpehXlzaT2TzQ/ZbKG5mZbW6uoU%2B0zzBVuHwN21lAOM/4KF/Fz4UeGvB/gz4UeI/id4e0/xT4g%2BMPw9l0Hw1e61BFqGpJH4z0ZpGt7dnEkwVVYsUUgBSTjBrsvGP7Hnwm8R%2BJ73x74W1DxF4O8RajO099rng3xBNZSXMh5LSxZaGUk9d8Zz3rO/bw/5Ihof/AGWb4cf%2Bprolb3iX4w/FnwT4gvIdd/Z01jVNEjuGFnq/hXUoL2WSLPys9q5jkU46hd/tmplVVJXf5N/lc8zNIZbOlH67T5o30fLKXK7b3iuaOmnMrdrnl3xy%2BJvx1/Yp8FN8QvH37TngvX/DyzCGCDx5okljfzPtLCGGbTlfz5Cqsf8Aj3J4JPGTXknjD9uX9uH9oLw1pw%2BGn7O3ib4T%2BEdQyNY%2BIkvh261q8jhxy9narDGwUjpK64wcgoRzo/tP/tF/BnW/22P2f/GfjXWp4PDWkalqtrqmleJNLnsDpGp3Fuq2d1Mk6KGG8bd%2BSsZUtkV9vWV9ZalapfadeRXEMgzHNDIHVh6gjg171Org8DgqOIhTVSdRNqT1jG0nGyjtKSsm%2BbRXXuvr8vhsPUzaviKOCx8oUoNR5VL2jeik3eb54xd3G0ZJ6O8ouyXyL%2By98Fv%2BCZmneJYvFWnfEDTPHXj7zFe6174k6s0%2BsSXA53i3vdpiYHkFYww45PWvr5SrKGUggjgiuf8AHfwk%2BFnxRtfsfxI%2BHGh69Htwo1fS4rgqP9kupK/UYrztv2GvhHoZMnwl8U%2BNPATk52%2BEPFtzDAT/ANe8zSwY9tmPavOxWMxGNqc9eo5Pzd7eS2SXkkl5Hs4TDZnlVP2dGhSlH%2B43Tk/Nqamm/NzfqdtffAn4Y3fjy4%2BKNtodxYeIbyNEvtV0nVLi0ku1RNiCYQyKs4VeFEgYDAI5ArN%2BI3wL1L4kpDoOrfFbWV8OOLUapoDWtq63nkOkg/fmLzULtGu/5iCNwAXOa5v/AIVb%2B2R4O%2BfwV%2B05oviWJOI7Hx14OQNj0NxYyQkn3MZ/Gj/han7ZHhL914x/Zb0fxFGnMl94I8bRgkeogvo4T%2BG8msVKaaae39dRTxWEUJQxOEqU1J3doOUW%2Bt3SlK9%2Bt469blDX/wBm/wCKuq3Gu6Xb%2BKdJh0s6jrOtaBcp5hu5NSvI2Fv567VRI7dnbBVmMgWPO0qd2x8AvAPi218TW3izxJ4FufC1loXguy8M6Lol3eW80pWIh5pma3d49mViRPmzhGJC7sVW/wCG1/BWif8AJTfhD8SvCCr/AKy41nwRczQKf%2Bu1mJ0I981teFf2yP2VvGkgg0H4/wDhYzE4FreatHazZ9PLnKPn2xVurVcbNGOHrcOLFRlDEpS/llJRb1bWk1CVk27JfO9iD4jfHz4q/DnxleaWP2TfGPiLw/D5f2TxD4Wv9PuWuMxqz/6LJcRyptYsvQ525HWsP/hv34I6P8vxJ8MeP/Bjf9TR8PNShQf9tI4ZI8e%2B7HvXs2matpWtWi3%2Bj6nb3cDfdmtplkQ/QqSKsVKnStaUPub/AOCerLD5i5OdHEqz1SlCMl6JxlF27b%2BrPLvC37bf7IPjJhHoP7SngxpGOFgutfgt5SfTZMytn8K9C0LxT4Y8UQfavDXiOw1GLGfMsbxJlx9UJFUvFPww%2BGvjgMvjX4eaHrAYYYappMNxn6%2BYprz3Xf2BP2MPEE/2q6/Zt8K2suciXSdOFiwPqDbFCPwo/wBnfdfc/wDIV88h0pT%2BdSD/ACmj16ivEh%2BwF8DdM58D%2BJfiF4YPb/hH/iXq8QH0D3DgfTGKP%2BGOvFOnfP4X/bR%2BMdmw%2B6t5r9nfIPqLm0dj/wB9UclF7T%2B9P9Gw%2BtZtH4sKn/hqx/8AboxZ7bUV3ZWd/EYL60imQ9UljDD8jXi//DP37Wdh8ujft66s6D7q6x8PtJuMfUxpET%2BdH/Csf28tM5sP2rfBWp46DU/hg8WfqYb/APpR7KHSa/H/ACD%2B0cUviwlT5ezf5VEelal8HvhHrBJ1f4WeHLonr9p0O3fP/fSGsW9/ZU/Ze1Ek6h%2Bzd4Bnz187wfZNn84q4/8Asv8A4KM2nyxeNPgvfAdGm8O6tAx/75u3H6Uef/wUch/5hfwSuP8At/1iHP8A5CetEqq2qL/wJmMsZh5fHg6nzpRf/tzN6f8AYk/Y0uTum/ZL%2BGhJ6keBrAH9Iart%2Bwj%2BxS5yf2Tfh1%2BHg%2BzH/tOsn%2B2/%2BCi8P%2Bs%2BHHwam/65eLtVX/0Kxo/4Sn/goYvB%2BDfwnb3XxxqA/nYVXPil/wAvf/J3/mZOvlr3wc//AAQjXj/YU/YqjOV/ZM%2BHJ/3vBtkf5x1atv2Lf2OrM5tf2T/hqhH8S%2BBdPz%2Bfk1z3/CT/APBQ5%2BF%2BD/wlT3fxvqJ/lYUf2t/wUZm%2B54D%2BC0H/AF08U6s5/SyH86ObEver/wCTv/MFXy1bYOf/AIIR2tj%2BzH%2BzZphB039nvwPbkdPI8J2aY/KOt3TPhn8N9FIOjfD7RLQr0NrpMMeP%2B%2BVFeW7v%2BCjs3/LH4JW3/bXWJ8f%2BOpR/YP8AwUTv/lufiZ8HtPB/is/COpzsP%2B/l6oP5VDVSXxVF/wCBNm0cbRj8GEqf%2BCor/wBuR7YkaRII40CqBgKowBS14l/wqP8Abm1D5r/9sfw1YZ6ppfwrRsfRpr1v5Uf8M4ftM6n8niX9vbxUYz1TRvB%2BjWf5MbeRh%2BZqPZQ6zX4/5Gv9oYt/DhKnzdNf%2B3s9torxI/sW3F7z4k/a7%2BNWoFvvKvjZLJT9BZwRED8apQ/sL/si6vqNzpniebW/E9/ZIHvodf8AiPqd5JEpzhpImutoBweWXnFHJQW8/uX%2BbJeMzV2Sw8Y3/mqx/wDbYM9e8TfE34b%2BClZvGXxB0PSQv3jqerQwY%2Bu9hXnmvft9/saeHrn7FcftF%2BGr2fOBBol4dRcn0C2okJPsKr/Cz9lr9grUNPbWvhV8Ffhvq8EE7RHULTTLTUNki9V81g5DDPrnmvWNB8K%2BF/Ctt9j8L%2BG7DTYcY8qws0hX8kAFH%2Bzru/uX%2BYoTznEQU4SoqL2a55/jeMWeQf8ADdXgnWefhv8AA/4r%2BLUb/V3Gj/D26ghb/treiBB%2BJo/4Xl%2B2H4o%2BXwR%2BxWNLik/1V7428e2dttHq0Noty/4ZBr26s3xH4z8H%2BD7f7X4t8V6bpcWM%2BbqN9HAuPq5Ao9pSW0Pvbf8AkE8LjuXmr4xxX92NOC%2B%2BXO/xPIv%2BEQ/4KB%2BMRs174zfDjwVEeceGPCtzqs49vMvJo0/HyvwNH/DGWqeKP3nxi/ar%2BKPicv8A8fFlba%2BmjWco9PJ06OE49i5rX1z9ub9kvQrv%2Bzh8cdH1K57W3h4yanIx9AtoshJql/w15f8AiA%2BV8Mf2YPifr7P/AKi5uPDq6Vaye/m38kRx7hTVe1qr4Ul6JL/gnlyq8MuXLUxDrPt7SdX/AMlp3X4Gp4H/AGKP2UPh3ef2p4a%2BA3h5r7du/tLVLP7fdbvXz7oySZ991enwww28SwW8SoiKFREXAUDoAB0rxz/hMP26PF//ACAPgz4E8HRf89PFHiibUpvr5VnEiZ9vN/Gg/AT9pLxf/wAlM/bC1S1t35k0/wAB%2BG7XTAvsJ5hcTY9wRWcpTm7zlf53OvD4ujQhyYDBTt5QjSj983F/%2BStnr2o6lp2j2cmo6tqEFrbxLmWe5lCIg9SzEAV5f4k/bc/Zm0LUW0HSviTF4k1QcLpPg6zm1e4Zv7u20WQKf94iqFh%2BxP8AswrrcL%2BOtGuvGes7TKkvjrxDcarK6jgt5VxI0ePcIBXd/DTXvhBILrwj8Kk0q2TTWxPYaXYi3jQbmTcqhVVl3Ky7lyuVIzWblTTs2aSr51VmoN0qN9FdupLu7JezhdL1OD/4Xz%2B0j48/d/CL9k/UNPgk4j1f4j6zFpaIf7xtYfPuGHsVQ/yoPwS/ag%2BIfz/Fv9qF9EtZP9bo3w00ZLHHt9suTNOfqoQ/Tt6x4i8V%2BF/CFgdU8W%2BJLDS7UdbnUbxIIx/wJyBXnl1%2B2D8Hry4fT/h5/bfjW7RsNb%2BDtDmvVB95gBCB7mQVM69Km7Npfn%2Br/A58TQwNGSWY4yUm/s86gn6U6VpP75HMfG7wrZeCPiN%2BzJ4T07UdQu4bH4v3sUdzqt/JdXEv/FFeKDuklkJZ2OepNe814T8dtZv/ABD8Tf2Ztb1Tw5d6RcXPxhvnk02%2BaMzW5/4QrxR8rmNmXP0J617tTT5lc%2BhoqmqMVTVo2Vt9rab67d9e4UUUUzQKKKKACiiigAooooAKKKKAPGf28P8AkiGh/wDZZvhx/wCprolem6f8RfAOq63ceGtO8aaXNqNpM0NzYJfR%2BfG4OCpTO4HPtXmX7eH/ACRDQ/8Ass3w4/8AU10Sqv7cnxK%2BCfwU%2BFjeMvHvwt0/xX4g1S7j03wj4eWzRrzV9RlO2KCJgpdRnlmHRRwCSqmfYZjiqsKWCjGU27WldX%2Ba27ttNJXbta5x47EPCYaVe8VGOr5r7eVru99Fo7tpJXZt/tpaB%2Bzt4r/Z18Q%2BF/2nvE2laN4Yv7Nom1TU5kRrWfGYpYN3LTKwDKqgliuMEEg%2BJf8ABOr4C%2BGviv8AsbeCvib4l0/WPDHiW9s5421nwxq11pc15BFcSwwXEkSP5ZeSKNHJKkNu3dGqh8Kv%2BCY9hfaXbfHH9sL4iT3XjSKVryz00XEdzofheNiGW1hhvFlSTZxl2PLAYJI3t9FwaH%2B0p4dhQaF488K%2BJbbaDGuraTJYyFccASW7MnTv5eK2zLMMLhcIstdN1pJqcpQ5ZRi7OLUFzRquLejm1FS5Vyx0Pmlg6uZY%2BOOx2EtHk5UlaU9WmnLWLi1b3VHVczvL7Kof8Ki/aJ8Kc%2BAf2mpdQgj/ANVYeNvDsF5u9mntzBJ%2BJzR/wnH7W3hb5PEfwO8OeJUHW48KeKDbPj/rjeRqM%2B3m/ia0v%2BFsfFfQv%2BRz/Z61Voxw1z4b1S3v1PuEYxSf%2BOn8adF%2B0/8ACK3kFv4o1PUPD05ODB4i0W5syD7s6bP/AB6vB/tHLYaOs6flPmj/AOnI2/8AJjv9lgaX8LEVKXk5St91WMl/5MZf/DWHh7RuPiN8JfH3hgLxLcah4VlubdT/ANdbPzlI9%2BK2PDH7UX7OvjCQQaD8Z/DzTE4Ftc6klvNn08uUq%2BfwrpvD3j7wL4uUN4V8Z6VqWRx9g1COU/8AjrGk8T/D3wD42jMXjLwPo%2BrqRgrqemxTjH/A1NehTlUqR5qdSMl3/wCDFtHXCGbKN6VeFRf3oW/GnNr/AMlNS0vLS/t1u7G6jmicZSWJwysPYjg1k%2BK/hv8ADvx3GYfHHgLRdZQjBTVdLhuAR6YkU1xN3%2Bxp%2BzlJcNe6N8PjolwxyLjw5qlzp7KfUC3kRfzFR/8ADNPiHSP3ngn9pn4i6cy/6uO%2B1WHUol/4DdQux/76q%2BfER3hf0f8AmkKpUzKUOSvhYzX92cWv/AakF%2BZW1P8AYP8A2StQu21C0%2BC%2Bn6TcN/y38O3VxpjD6G0kjxUH/DG1hpf/ACJP7R3xZ0JV/wBVBB41e7hT2CXqTDHtWh/wgX7W2h/vNG/aE8O61jpD4h8E%2BVn6vazp%2Biij%2B3f2zdFO%2B/8Ah38PtdQfw6Z4iu7J2/CaCRR/30ar6zNfFGX3X/Js8t4PJou88vlTfeELfjRqR/Izz8Dv2qdJ%2BXw1%2B2rdTxr9yLxH4D0%2B6/AvB5DH65o/sz9vzR/3dr4u%2BE2uIvRr3RtSsJG%2BpjmmUfgtaH/C7PjzpnzeJP2Rtb2D70mieJtPvPyVpImP5Cj/AIantrT/AJD3wB%2BKGngffZ/Bz3Cr9TbPKKPrdLrp6pr9BWyaG1evS9ZV1/6XCovxKH/CwP24dE%2BTVf2b/BOtY6vonxDlgz9FuLIfqRR/w0D%2B0hp3zeIP2H/EewdX0jxdpN3%2BQM8bfoKv/wDDZ37P9v8ALrXiHV9KcfeTVfCeo2%2B36loNv61b0/8AbD/Zd1M7YPjr4cjOel1qCwEfXzNuKFi8M/tR%2B/8A4I44jBXtTzVrylKi/wD0qEGYv/DXOs2vy6z%2ByN8X7Vh94xeGra5X8DBdOT%2BVA/bW8DW//Ib%2BDvxW00dze/DPUcD8UjYH8K7aw%2BPnwL1XB0v40eE7nPTyPEdq/wDJ62bPxx4K1HH9n%2BMNLnz08nUI2/k1aKrRls1952U1jZ/wswhL/uHSf/pNRHmH/DeX7OEPGp6t4nsW7refD/WUx%2BP2Qij/AIb%2B/ZJX/X/FZof%2Bvnw/qEX/AKHbivYIbiC4XfbzI6%2BqMCP0p9XePY6PYZ90xFN/9wn%2BlU8c/wCHgf7G4/1nx50mP/rrDOn/AKFGKUf8FA/2MD/zcP4fH1lcf%2By17FSFVPUA/Wj3Q9jxB/z%2Bpf8Agqf/AMtPHT/wUE/YxH/Nw2gH/dkkP8lo/wCHgX7HR4i%2BOenSf9cbS5f/ANBiNexgAdBRR7oex4g/5/Uv/BU//lp45/w35%2Bye/Nv8S7qf/r18L6nL/wCgWxo/4bt%2BANxxo6%2BMdRJ6Cy%2BHWsNn/vq1Fex1Dc39hZDdeXsMQ9ZZAv8AOi8F0E6Ge297E01/3Cf61TmvhT8XdE%2BL2m3Wq6H4X8S6ZFazCMjxJ4duNOabIzujWdVLr2yOM8Vw3x3sr3wr8TfDPxG0fU5IIhrlpBrHl%2BKLszyJI3krBDYMTbsjbwXYbXG0kAnJr0q9%2BI/w803J1Hx5otvjr5%2BqQp/Nq5DWfij%2ByHbeJ4/G2u/ED4dDW4IwkOq3Gp2Ju0UZwqyFt4AyeAe59azdalB3ckvmv8zLHeyqYKNKtiIc6afM3GGzvdJT8rWvZ63aueafHu%2B0E/EDW9evrq0l8QyWejzfC67SRDNOyXGLm3sm7u7HDqhyyS/N8o4z9R8FXuv%2BKbv4faN4duE8Vvd%2BJYvEN59geNLmyvImeOR5iArxyMYkQZJU5AChTj1J/wBsX9lLSQtja/GPQnEa7Y4dOLT4HoBErfpTf%2BGxvgzefL4bh8Vay3ZdJ8EalLn6EwAH86n65hl9tff/AJXPDrUMkrV5TnjKfvO7UWm9dXs5Pm%2BypWuoe60yv%2Bz5BrOpeM9U8Vv4Q1TRLR/Dml2d7b6ppktq02oRRssu1ZFXzBGoWPzVyjDGxmAzXQ/Fb4S%2BOPiRq9tPoX7QHifwlp0Vt5dxp/hy3sg077ifMM08EjqcEDA44zjOaxv%2BGndSvfl8P/s0fE68Y/dM/h6KzU/U3MyEflR/wtv9pTUv%2BQJ%2BydJbq33ZNc8bWcGPcrAJj%2BFT9apN3V36Jv8AQ9OlWyr6l9Wcp1Fe7cYVVd3v9iMbLyUrPW%2B5n/8ADEvw/wBV%2BXx98VfiZ4oQ/eg1n4gXqRN/2ztnhUfgBWl4c/Yl/ZL8L3H2zT/gB4annzn7RqtgL6TPrvud7Z985pv2n9tXV/mi0v4aaGjdBPdX%2BoSIPcKsKk/jR/wqv9pzWPm1/wDakhsFf78Hh3wVbRbR6CS5eY/jgUfWaj2jL8F%2BbM4YTKVLmpZbKT7yhG/31ZzZ6Pofhzw94ZtBp/hvQbLT4B0gsbVIk/JABVzegcRlhuIyFzzivLP%2BGVrDU/8Akdfjj8R9cVv9bBP4re1hf22WixDHtXRfDf8AZ%2B%2BEHwk1SfXfAHg2Oyv7m38i5v5bua4nlj3BtrSTO7EZUHr1FEZ1pS1jZeuv4L9T2cPVzFzjF4eMIf402l5RhC34oo/HnxJ8SPBWkR%2BLPBV60kFsR52mwaC10ZSMszyyiTMUIRTkqhYHGCchaq/Ffw94l8VX%2BieN/DF/a3uj2ljLNd2d14qutOtZc7Hjm/cArNjGAJMJgnJFXPjNe6TqGraH4E1S%2B1qKHV7lor3%2ByL4QL5T4jAmO0sUZ3VMIVOT1wKxviNa6Npcl/pUXgXQr/RfC2l2%2Bq3mnaxYG5LoRJGDAXfZDsjgY52nJXHGSa4MTi6FN1LttRaTtfR2cvu5U299tr6HBjISnUrJybh7ul3pJXlokn7tl7y122epx9/q1p4g8Qw%2BOYfDt5beIPEV3oereFJpLFmnWGSJYZ7cyAEKsSeY0iEgEMWwS/PVfDDwT4w0Xxf4f0K88KXVlbeE7PUbOTVmeLyL21eXFpHHhy7HywjtuUBGQrzmprzxR49ie4vNK8RyMl9quoaNZ6WttEq2bpFI1s8WE3bgIyzbiwbIwFArQ%2BC%2Bp251UadoWtT3un3nh%2B01NxcXz3DW88nykb3ZmG7azFSeCDwM1yUMbSqYqNOz1fkurs7a3u029nFWTOXC4OksXFyk2203pFX1vqtb3kr3VmlaLvudZ4r%2BGvw98d31jqXjbwRpWsT6Z5h0%2BTU7COf7OX27im8HaTsXkf3RWtDBZabaCC3hit4IUwqIoREUew4ArnvHnhzxT4subbTvC/wAU7jw8kSub%2BKwsoJZ51O3aQ0obysYbkKc7h0xzhx/szfDm/cT%2BOL3XPFMqnIbxHrc06A/9clKxfhsrvqV8X7WUcPRT/vOUUvwUpO22qR70vaQrSdGirveTcVf1snJ221%2BRy/7S11a33xn/AGb7uyuY5on%2BMt8UlicMrD/hCvFHII4Ne1V4h%2B0To%2Bk%2BH/i5%2BzXouhaZb2VnbfGO%2BS3tbWFY441/4QrxRwqqAAK9vrvjzcq5t%2Bttr%2BV9Tsjzcq5twoooqhhRRRQAUUUUAFFFFAHMeHPjb8GPGPxB1n4SeEfi74Y1XxX4cRX8Q%2BGdN1%2B2n1DS1bG1ri2RzJADuXBdRnI9aLD42/BjVfile/A3S/i74YufG2m2S3mo%2BD7fX7Z9UtbYhCJpLQP5yRkSR4dlAO9eeRXxx%2Bzx4e8Z%2BDPjZ4A0DxB8IPGunal8NPFXxHvPH3iZvA%2BotaajbazrLvafZrpICmo/bHntb1lt2l8hbRjceS0YFXfhr4A%2BIMH7T3hD4cXHwo8UW%2Bu%2BFP2lfG3jrxN4xuPDN1HpV34c1HS9bisfL1Joxb3UhGpaTam1SRpU%2BwMzIqwISAe9/t4f8kQ0P/ss3w4/9TXRK801fwhpOuf8FhtF03xC1xqFroPwXufEegWdzdPLFp%2Boz6n9kmnVHJClogFG3AG0YHANeg/ts/B/9p/4w%2BFNF0v4AeKvAS22k%2BMPDeu6h4c8YabewvqraXr1jqZjj1S2lkFiGS0K5awutzED5A25fA/2G/Bv7YNheeLf2jbb4C/D7xT4x1zxXr/h/V/FPi/496l9qEWl6zdae1tDHF4YMcNt5tkWQKAWUISqcRp34GWEo%2B0r1fjUJRho7pzSi2ndJJRTT3bTsurPLzLDV8XUoU4RvFTjOTb0ShdpW3bbat0XLd9D62%2BMHhvxbr1mP7Fitru3MXkrYzCRSssjhPOyoIO1SfvDCgk1D8UJtBvdJsZ7rVNLQ2SPdJpN/uBu9qFdkY3I24HO0gHnHHNcr/wnH/BQv/o1/wCDP/h%2BNW/%2BZemyeM/%2BCgswAl/Za%2BC7bWDLu%2BO2rHBHQ/8AIrda%2BJx/DdPFSxU4T1rqKaleSXK7pq1nvZ8rbjpa1nK/p2Opv9b1b7a15p%2Bo3VnHp93Y2lppgYESGQLJIsgOSzGNwBz8u0HnnOj4e8Wa1rOq2f8Aaf2WSw1mO6e1tVtzuhjjfCMzFiHDpyeBgsAMivOJNR/bqm1xPEsn7JPwTN8i4W5Px21bcOCM/wDIr9cEjPXBIqr4d/4by8M3TXdj%2BzH8IZCIvJtkuPj7qzLbRZJ8uMf8IsNq5%2Bp4AzgCuSjk%2BeYfHxmq16bnd2k0rJ7uLTTvD3OSNoxspa2uFj1PxD8B/gx4qYya78L9DmkJ5nXTkjk/77QBv1rI/wCGa/Ben/8AIn%2BK/Fvh8do9J8UXOwf8AlaRPwxivHdW%2BMH7dnxC%2BMmsfA21/Z2%2BHelat4W8M6Vr1zfaZ%2B0HqkME0GpXGo28KD/il2LuraVOWDIABImCxLBe00HxL/wUT0fSYdNu/wBnf4RahJECDd3nx41TzJMsSN23wqBwDjgDpXrvAYetj5RqYOKja6qJwTb00tFQmnvq207eZyzwODnLmdNX7pWf3qz/ABOv/wCFXfGXSvl8OftGX0ka/ci13w/a3X5vGImP50bf2qNL4WXwJrCL3ZbuxkYfh5q5/Kub/wCE4/4KF/8ARr/wZ/8AD8at/wDMvR/wnH/BQv8A6Nf%2BDP8A4fjVv/mXro/sujH%2BHUqR9Kkvylzon6jTXwTnH0k/15jpP%2BFj/HfTuNX/AGdjcKv3pNG8VW0ufcLMIj%2BFH/C/5bTjXfgj4%2BsiPvsugC5UfjbyPx%2BFc3/wnH/BQv8A6Nf%2BDP8A4fjVv/mXrl9W/aO/bt0f4z6B8Drj9lD4SNqniLwvq%2Bu2dynx11TyI4NOudNt5kcnwxuDs2qQFQFIISTJUhQx9Tx0fgxUv%2B3oQl%2BkWH1fEx%2BGs/nGL/SJ6YP2o/gzB8usa5qGmOPvJqnh%2B9t9v1LxBf1rovBPxW%2BHHxIaaPwJ4z0/VHt0DTx2k4ZoweAWXqM4715z/wAJx/wUL/6Nf%2BDP/h%2BNW/8AmXqOPxb/AMFAIZmuYv2VfgqsjjDyL8ddVDN9T/wi3Na0aeZRqL2lSEo9fccX/wCltfgXThjIzXPOLX%2BFp/8ApTX4Hd/Ez4iav4Vlt9O8L6VFeXZuLY3xmDeXbwSzLECSv8bEkKPVSTxVX4n%2BK4dOvJtOtvB2m6q1hpMmqap/aTbQlqhYYT5H3SHY%2BAcD5eSK8r8deF/2y/iHPDfeIv2O/gdJdw3EEn23/hd2p%2BcyxSBxGXPhXOw4wRnoTjFVvFuif8FFvFB3p8Cvg3bNd6W%2Bmaw4%2BNeqMbu0Zidi48MAROAzgOAcbzweK48TDNr1eR3Tty2a0VpX%2BJaO/Ld63V7W0Rz16eNl7S2qdrbba913tffS9ju76z%2BDOta7FFffALwzdaTLfRWMup3emWxdbiSLzAPKMRBRfusxcEN0UjmqPhX4SfsxfEDVPsN3%2BzD4ZsEurQ3elztolqn2uAPtLYjUFGzg7Tzgg15R8YPGn7d3wds7Txr4l/Zu%2BENx4evPHmh2aaNY/GnVDOL7U7610eAmVvDir9nWa8SZwF3gK20tgIeu8Eab/wAFF/C17ZXmqfAL4LX/APZmjrp1iE%2BNWrQkIGy0jn/hGm3O2EHAUDacDnjKnRzJ4he0inG%2BukNuvna1nHre99Di/s1Vaq9rQg1fW8Kb/wDbb27db7noM37Ff7K0z%2BZ/wpDRY29YI3j/APQWFN/4Yq/ZlH%2Bq%2BGnlf9cNZvY//QZhXG%2BOl/4KI%2BN4baKD4MfDjQzbMx36F%2B0JqcJlyBw%2B/wAJuCBjj6muc/4QT/gpbH/x7aP4UH/XX9oO6f8An4OrqrRnTqNQwqku6lTX4NXHVyjLYzajgabXdKmvw5Uz1X/hi79nMfc8Hakn/XPxbqa/yuaP%2BGMP2eh08N62Pp421b/5Kryr/hEP%2BCoyf6rTvA4/3/jjcN/7p9cx8bfF3/BTT4D/AAY8XfHHxToXgy60vwZ4Yv8AXdStbD4zytPNb2ltJcSJGH8IqpcrGQoZlGSMkDmsuer/ANAT/wDAqf8AmR/ZeXf9AEf/ACn/AJnvn/DF/wCzyeG8M60f97xrqx/9uqP%2BGLf2cT9/wTfv/wBdPFOpN/O4NeVf8Ir/AMFUTw1j4B/D41Tj/wB0%2Bj/hDv8AgqE/%2Bu03wSf9z46XC/8AunUc9X/oCf8A4FT/AMw/svLv%2BgCP/lP/ADZ6r/wxT%2BzA3%2Bu%2BFcMv/XfUrqT/ANClNS237GP7K9od0XwL8Psf%2Bm1p5n/oRNeS/wDCA/8ABSaT/j40Twu3sn7RF2g/TwdR/wAK2/4KFv8A8fHgzw3J/wB3Oasn/oHhNad8R0wS%2Bc6f/wAiwWVYFO6y%2Bn91L/5Fnt1l%2BzB%2Bzfp%2BDa/ATwcCOjN4btmI/FkJra0/4TfCvScf2V8M/D9tjp9n0aBMfklfO/8Awqj9uKY/8TH4O%2BEbsdxcftV%2BIiD/AN8%2BGhXMfBHS/wBof4%2BfBjwj8ctE/Y2%2BHDab4z8L6frunW%2BuftN%2BI3nigu7aO4jSVR4fZA4WQBgpYZBwSOatSzD7OGgvWa/9tpnTTwip/wAPCU4/%2BAL/ANJpH2Mq6NodvhVtrOIdgFjX%2BgrL1D4ofDTSc/2r8RNCtsdftGrwpj82r54tvgr%2B0RayeaP2CPgJK3965%2BOesTE/99%2BGDmtnT/CH7Vek4OmfsFfs7QEdGi%2BLt%2Bp/MeFM1fNnMto04/8Ab03%2BUYnWnmFrKMF85P8AJI9Rv/2mvgBpz%2BXN8W9ElbstpeCcn6eXuzVf/hp34X3Xy%2BH4fEOrt2XS/Ct9Ln6HygD%2BdcnYeIf29dKXZpn7JfwRtl9IPjjqiD9PC1WP%2BE4/4KF/9Gv/AAZ/8Pxq3/zL0eyzeW9WEfSDf/pU/wBB8mYS3qRXpFv85HSf8L08Q3/yeHf2f/G9yx%2B615ZW9mh/GaZSPyo/4Tf9onVP3el/AvS9Oz0l1nxahx9Vt4n/APQq8z8A/tHft2/ETxX438IaP%2Byh8JIbjwH4oi0LVZLn466oEnnk0rT9TDxbfDBJTydRhUlgp3o4xgBm6j/hOP8AgoX/ANGv/Bn/AMPxq3/zL0fUsZP48VL/ALdjCP8A7bJ/iL6tiJfFWl8lFfozo/7K/aj1f5Lzxf4L0VT/ABafpFzeOv4yyxqf%2B%2Ba3fAvhDx54fvp77xn8VrnxB5sQSO2bSre1hhOc7lEY3E9vmY15/wD8Jx/wUL/6Nf8Agz/4fjVv/mXo/wCE4/4KF/8ARr/wZ/8AD8at/wDMvWlLL6VKoqjnOTX805Nfd7sfwZcMJCE1Jyk2u8m/w0X4HZfEX4OxeO76TV7fxfq2n3Li1AS1u9kP7iUyISEAfILPjDjBOaqfFrwY17o0moR39y2p3UTWHk2e2NL62Zmf7PMHEhKBfMJZcNjccgE1xWq%2BIP8AgopqV/ZXkP7PvwltEtJS8tvbfHnUwlz0wr7vCpOB7Eda5W8%2BMv7aHxC%2BMOtfAbVP2RPhLJqPhfw3pHiC4uG%2BPerpbvDqM%2Bp20SIU8NBmdTplxvDKF2yR4LEsF8/MMunicNiYUKfLOdkpOWjdviVublcbySvHV62cW028Jh5OTcfi331/HzfY9d17whb6kdH%2BInhHR7yO9uWhluTp8sZfy2gC7wk7eSHC4XzCN%2B0YBrNvpNCWa51nSJZdKMemTXMZjIgeW9t5is/mrHhZpOApyGGDkdc1yGjR/t66J4ej8L2f7NfwlS0ijCIlv%2B0Bq8BGGLZDReFlYE5weeQBVyC9/bmg06DSv%2BGRfgjLBbyeZClx8dNWlKvnO/L%2BFyS2edxOfevFr8PZnjY80nGEpRi5ptuKqKNm48nK0m25N31ahpozWNKnF3jFLrt1Ot01DD4rhLWTRa3NronMohO6WykiR3y%2BOY15QAngoBXeeINMv9Y0mTTtN16fTZpCuLy2jRnQAgkAOCORkZxxnNeTf8Jx/wAFCv8Ao1/4M/8Ah%2BNW/wDmXo/4Tj/goX/0a/8ABn/w/Grf/MvXuZbkdPAYatQlNyjUetrxdrNPWLT5nd3knFu0equXYrftEac%2Bk/Fv9mvTZNSubxofjHfKbq8cNLJ/xRXijliAAT%2BAr2%2Bvlf4n%2BJf2rdX/AGk/2dLX41/Bf4e%2BH9HHxc1Fo77wt8Tr7WLkz/8ACF%2BJtqGCfRbJQhBYl/NJBAGw5JX6or2qdOFKmoQWiSS3ei0Wrbf3tvu2MKKKKsAooooAKKKKACiiigAqj4o8Q2HhLw1qPivVQ5tdMsZru5ES5by40LtgdzhTV6o7u0tb%2B1lsb23SaGaNo5opVDK6kYKkHggjjFAHzf8Asa/tS/Hz4qeMNG8K/H/TfCSP43%2BE%2BnfEDwuvhPT7m3/su3uJQk%2BmXTT3EwupIRNabbuMQLKXl/cRbBu8m0f/AIKO/HLwV8L9N%2BKWs%2BAvA8%2BmfFX4X6r46%2BE2i6NptzZPps39q6VbW9rqszXEq3TXDa/ZTyzwxQbGjuhsclHPv37P/wCwv4Q/Zz1i11rwn8ZfHWqSaZoun6BoaeILnTrgaZ4fsjMYNGhK2SMbfdMC00he8k8iEPcsIwKwdJ/4JjfAi00bW/Cuu%2BM/GWtaJe%2BEtR8MeFtH1HUrZIvBuk3t1Fdz22lvb20cyfv7azdJLiSeSP7Dbqjqse0gHYfsu/F34r%2BMfEvxD%2BD/AMcrnw9feJ/h54ltbGbW/CukT6fY6paXWm2t9DMtrPc3Mlu6meWFkM8gPkCQECTYnrtef/AH9nzSPgLZ%2BILk%2BPvEPi7XvFmuDVvE3ivxW1p9u1G4W1gtIty2Vvb28SR29tBGqRQovyFiC7u7egUAFfLvwG/bG%2BNvxA%2BMXhaTxtpnhZfAfxM1rxdpngqz0vTbmLVdLk0W7lihkvLh7l4rpbu3trmYrHDAbdvLjzPkyD6irwzwd%2BwZ4G8BfEuT4keF/i743gFre6vd%2BFdAkn06TT/DE%2Bq3yXupvZI9kZCbiRXX/SHn8mOeVLfyFbAAKd78VPjl4D/ba8NfCrxDqPgHXtM8fWuqyrpnh/wvdWut%2BH9IsI2kt769vHvJY7uAzzLbbRb2%2B2a%2BXYXCyZyf%2BCa/7U/xd/aW%2BF9vqP7RfifRLTx%2BfCmiat4j%2BHtr8J9b8JX3hia8t3eWKWLV7ueS%2Bh85JYY7qJY4ma1lwXOQnV/D/wDYxPw6/aE8Z/tD6X%2B0x8RLy88dXZl1rQ9Si0KW0jiSB4bW0gm/swXsNta72khhFzsEjyO4kaaYybfwY/ZjtfhT8QdZ%2BLfin4y%2BMPH/AIr1rR7TSJNe8Y/2bHJbafbSzzR20MOm2dpAi%2BbcSuzmMyOSoZyqIqgHp9FFFAHy7%2B01%2B2N8bfhX8U/GL/DzTPCzeDfhNovhvU/HdtrOm3M2o6xHql9cRTR2M0dzHHaNbWtv54aSK4E8koixCFMhm/a4/aV%2BJnwT/aY8J6Sur%2BHvCXgRvClxda78QfEXwi1nX7e0ma/tovscmoWN3b2%2BjxSRjzDNdEx5iQnhMV23xn/Yh%2BHHxu%2BKR%2BJmueOfFWlxaja6Ra%2BL/DWjXVqmneKYNLvZL2xivllt5Jgsc00ufs8sBljkMUxljCoJfjh%2ByNP%2B0H4Ob4afEP8AaT%2BITeFdS0WTSfF/huxTRYbfxPaSMwmiu5BpvnxCSJ2hf7JLb5jOOG%2BagDz7/hsb42f8NA%2BZ/Znhb/hWP/C5/wDhWn2D%2Bzbn%2B2/tn9m%2Bf/an2r7T5Hlfbf8ARfsv2fd5f7/z8/ua%2Boq8Z/4Yh%2BHH/C//APhe3/Cc%2BKvs/wDwlf8AwlX/AAgn2q1/sT%2B3/wCzf7N/tTZ9n%2B0%2Bb9m/5ZfaPs/m/v8AyfO/eV7NQAV89fteftE/tAeA/iBB8Lv2cLXwiup6f8Ndd8b6zceMtNubqG6gsJLWKHTYRb3EBgkuHuJM3TGVYBCP3Exkwv0LXkf7S/7Hng/9pnULLWtR%2BJPi/wAI6hb%2BH9T8P32o%2BDby1hm1LRdQ8g3mnzG5tpwscjW0LCWIR3ERQmKaPe%2B4A5P9qr4%2BePbL9if/AIa8%2BEfibwlpOl2HgtfF0uleNfAVzrsmoYt47uytreO31Ky8q5M3lqhzITI0e0KQCeU1L9qv9qL4fftK%2BDvhF8e/EfhDwboVx4A8G3Ov69/wqLXr/TdZ8UajfalaajpdrrEd%2BtlpIV7WxW3S786Rm1CMZlJVT7V43/Zg8F/EL4eaR8KfE3iTWX8P6J4t0rXLHS7f7JDFs028hvLLTmCW43WcctvAdp/eMsQV5GBbdU%2BNf7LUHx78TWdx43%2BN/jWPwpb32nXt58O7A6ZHpOoz2V0l1C80psmvsedFCzxx3SRuIgrKVZ1cA9UooooA8X/4KC/F344fs/fsj%2BNPj18Ar3wpHrHgnQrvXLqDxhotzfW13aWttLM9uiW11bMkrsiKJC5VAWJR%2BBV39sH4n%2BLvAng7w14F%2BHumaDca98R/GVr4U02XxVpsl7plqs8M9xczXNtHLC1yi2lrc4hEsfmOUUuoJI1P2sf2cbL9rT4Ea9%2Bz7rXxV8U%2BEdJ8T2Utjrl/4QXTvtdzZSxPFNbbr%2B0uo0R1flkRZAVG115zneN/2VpPiV8OrPwR48/aC8dajqek6np2qaB4xMWjwanpOpWZJW8hEGnJbM8gZ1kSWCSFkkdPLCsVIB8%2B3v7fn7Vfibw1qGgfDnQvAEHi74f%2BGvGmr/ECTV9JvZLDV38P6xJpkVrYIl2j2QvjBNP50r3P2QbEMVySWH2L4E8X6b8QfBGjePdGjlSz1vSrfULRJlw6xTRLIoYDocMM14L4j/4Jk/CHXPA%2BneDNN%2BLHxA0WaPSdf0vxPr2kanZJf%2BK7LW7z7dq0N%2B8lo6A3F1ul821S3lgMji3eBWK19EaZpun6Nptvo%2Bk2Udta2kCQ21vCgVIo1AVUUDgAAAAe1AE9c18YpPibD8MtYn%2BDmtaDp3iWK136Ze%2BJtKmvrGIqwLmWCCe3klHlh8KssfzFctjNdLWF8TPB2qfEHwHqfgvRviDrPhW41G38lPEHh%2BGzkvLMEgs0S3tvcW5JAKnzIXGGOADggA4L4CfFH4wftDfsR/D/AONfh%2B58NaP418cfDjRNcaW80q4uNLs7y8soLiU/ZluEmkiUyPtj89WICgydWrwG9/bM/aj0H4OaengLSPCt1Bo/xzu/AmoePPB3wa13XtHk0Kz0S6uX1G00TTb1rqNYtRhTSXIuZYklglbO0qF9h8JfsNT%2BDP2S0/Y80n9rf4rroNr4ITwrpWvwz6JbaxptjGiRRPBcW2lxqsyQIIVlKE7SXOZcSjR8H/sjeJvh78ENJ%2BBvgH9rz4jaJa6FcIuk6vpeieFYbi1sEt1gj01IV0T7Gtsm0OpFv5wY483ZhAAehfB3xvpvxK%2BE/hr4gaR440jxNb6zodrdp4h8P2jW9jqReJWNxBE8srQxuSWWNpJGQEKzsQSekrl/gr8IfBvwD%2BFOg/Bz4fxXK6R4e09LSza%2BuWmnlAyWllkbl5HYs7N3ZicDpXUUAFeL/sc/F344fEq6%2BKXg74/XvhS71n4f/ExvD1tfeD9FubC1uLVtG0rUkLRXN1cuZFbUHjLhwriNWCJkivaK8X%2BBP7HmsfAnxp4v8a2n7WXxK8RyeOPFcPiDXrHxDaeHRA92lrb2ZCfZNIgdI3t7S2iYB84hDKVdnZgDwzwR%2B3/8VfBnw3%2BMXxE%2BL0Phq28XeG9L8Qaxonwwb4Ua14Zvr%2BOyv30%2ByvG1K/upItVt5I109ZLm1h2RfaYskDYh95/Zk%2BLnxj8R%2BPvH/wAC/j/d%2BGdQ8TeBbrTJl1zwho9xp1jqFjf2nmxN9muLm5eGVJYrmJh5zhljjkGzeY0zNc/YI8DfETVfEGq/Hr4weOfiGdc8E6v4StIPEk%2BnWyaLpOpyQPew2n9m2VqfMc2lpieYyzJ9mTa6kuW7H4Afs56V8Bj4h1i4%2BJHibxp4i8V6jDd%2BIPFnjCSzN9d%2BRbR20EW2ytra3jijijAVY4lyzyO255HZgD0SiiigDxf4K/F344a1%2B1x8WfgL8VL3wpdaP4Y0Lw9rnhCfw/otza3MVpqVzrMP2e8ea6mW4lRdMibzI0gXMrjYcA1z/iT4iftLeFf2/PBfwg0zxV8OdV8OeLtI1jWPENnB8Pry31nS9B05Eit9%2Bo/2q8Ush1DUbdVVrRVZGuiqqVJroNF/Y81jQP2i/GH7SWnftZfEoah4z0qy0y90J7Tw6dPs7SznuprSKAf2R548o3t0oaSaRmWY7y5VCvaaX8C/Cul/HDxL%2B0CmranNr/iTwxpugN580Zh06yspbuZFtlEYKM8t7K8jMX3lIhwI1AAPHv8AgnF%2B1P8AF39o/wAC%2Bb%2B0X4n0Sy8d/wDCM6Rqus/Dy3%2BE%2Bt%2BFL7w411HKZFkXV7uZ9RgMqPFHdQJHEWtpeXJwn0rXl3wb/Zftvhb8RdU%2BL/i340%2BMviD4p1LRLfRk1vxkdNjez0%2BGWSYW8MWm2VpAoaWVnd2jaRiEBfaiqPUaACvB/wBrX4zftBfAbxJ4X8XeDPEHgi98Pa14u0Lw7beBb7w5eSa5rlze3yw3LWl7HerFCYLVpLrY1pMPLtJmd40BeP3ivGfiT%2BxyvxE/ad0T9qa3/aO%2BIGhar4f0MaVpmgaZDolxpcEDzebctGl9plxNDLcgRxzSxSo7RwxorIByAcL%2B2x%2B1D8Zvhb4y8QWfwa8OeDrpPhP8Kbr4leJh4s0qe5m1GFWuoYtPsJIriEWM8sNrqCm7cTqm6NfJdXcirpP7bPxi1r42Wuu2OneFz8Krv4vp8OobFtLuRrhuW0sXI1Q3P2nyBF9sItvsn2fd5f7/AM/P7mu4%2BOn7CPgr9oNopvG3xg8cW0134Xu/DHi%2BfSLjToG8V6FczCWTTL4fYiqxffRZLYW86JNKFlHmOTaj/Yc%2BGkPx7X44Q%2BNfFCWieKR4oXwEtzaDQ114ab/Zo1MJ9m%2B0%2Bb9m48r7R9n8z995PnfvKAPaKKKKACiiigAooooAKKKKACiiigAooooAKKKKACiiigAooooAKKKKACiiigAooooAKKKKACiiigAooooAKKKKACiiigAooooAKKKKACiiigAooooAKKKKACiiigAooooAKKKKACiiigAooooAKKKKACiiigD/2Q%3D%3D\">"
      ]
     },
     "metadata": {},
     "output_type": "display_data"
    }
   ],
   "source": [
    "plt.rcParams['animation.ffmpeg_path'] = '/usr/bin/ffmpeg'\n",
    "try:\n",
    "    display_html(HTML(anim.to_html5_video()))\n",
    "except (RuntimeError, KeyError):\n",
    "    anim.save(None, writer=matplotlib_utils.SimpleMovieWriter(0.001))"
   ]
  },
  {
   "cell_type": "markdown",
   "metadata": {},
   "source": [
    "# Regresion logistica\n",
    "La tarea es implementar la regresion logistica\n",
    "\n",
    "Plan:\n",
    "* Usar una variable compartida para los pesos\n",
    "* Usar una matriz marcador para `X`\n",
    " \n",
    "Se entrenara en el dataset MNIST de dos clases\n",
    "* notar que el objetivo `y` es `{0,1}` y no `{-1,1}` "
   ]
  },
  {
   "cell_type": "code",
   "execution_count": 30,
   "metadata": {},
   "outputs": [
    {
     "name": "stdout",
     "output_type": "stream",
     "text": [
      "y [shape - (360,)]: [0 1 0 1 0 1 0 0 1 1]\n",
      "X [shape - (360, 64)]:\n"
     ]
    }
   ],
   "source": [
    "from sklearn.datasets import load_digits\n",
    "mnist = load_digits(2)\n",
    "\n",
    "X, y = mnist.data, mnist.target\n",
    "\n",
    "print('y [shape - {}]:'.format(str(y.shape)), y[:10])\n",
    "print('X [shape - {}]:'.format(str(X.shape)))"
   ]
  },
  {
   "cell_type": "code",
   "execution_count": 31,
   "metadata": {},
   "outputs": [
    {
     "name": "stdout",
     "output_type": "stream",
     "text": [
      "X:\n",
      " [[ 0.  0.  5. 13.  9.  1.  0.  0.  0.  0.]\n",
      " [ 0.  0.  0. 12. 13.  5.  0.  0.  0.  0.]\n",
      " [ 0.  0.  1.  9. 15. 11.  0.  0.  0.  0.]]\n",
      "y:\n",
      " [0 1 0 1 0 1 0 0 1 1]\n"
     ]
    },
    {
     "data": {
      "image/png": "[encoded data removed]",
      "text/plain": [
       "<Figure size 432x288 with 1 Axes>"
      ]
     },
     "metadata": {
      "needs_background": "light"
     },
     "output_type": "display_data"
    }
   ],
   "source": [
    "print('X:\\n',X[:3,:10])\n",
    "print('y:\\n',y[:10])\n",
    "plt.imshow(X[7].reshape([8,8]));"
   ]
  },
  {
   "cell_type": "markdown",
   "metadata": {},
   "source": [
    "Ahora es tu turno.\n",
    "Solo un recordatorio de matematicas:\n",
    "\n",
    "$$\n",
    "P(y=1|X) = \\sigma(X \\cdot W + b)\n",
    "$$\n",
    "$$\n",
    "\\text{perdida} = -\\log\\left(P\\left(y_\\text{predicho} = 1\\right)\\right)\\cdot y_\\text{true} - \\log\\left(1 - P\\left(y_\\text{predicho} = 1\\right)\\right)\\cdot\\left(1 - y_\\text{true}\\right)\n",
    "$$\n",
    "\n",
    "$\\sigma(x)$ esta en `tf.nn.sigmoid` y la multiplicacion matricial en `tf.matmul`"
   ]
  },
  {
   "cell_type": "code",
   "execution_count": 32,
   "metadata": {},
   "outputs": [],
   "source": [
    "from sklearn.model_selection import train_test_split\n",
    "X_train, X_test, y_train, y_test = train_test_split(X, y, random_state=42)"
   ]
  },
  {
   "cell_type": "code",
   "execution_count": 33,
   "metadata": {},
   "outputs": [],
   "source": [
    "# Parametros del modelo - pesos y sesgos\n",
    "# pesos = tf.Variable(...) la dimension debe ser (X.shape[1], 1)\n",
    "# sesgo = tf.Variable(...)\n",
    "\n",
    "pesos = tf.Variable(np.zeros((X.shape[1], 1), dtype='float32'))\n",
    "sesgo = tf.Variable(np.zeros(None), dtype='float32')"
   ]
  },
  {
   "cell_type": "code",
   "execution_count": 34,
   "metadata": {},
   "outputs": [],
   "source": [
    "# Marcadores (placeholders) para los datos de entrada\n",
    "# input_X = tf.placeholder(...)\n",
    "# input_y = tf.placeholder(...)\n",
    "\n",
    "input_X = tf.placeholder('float32', shape=(None, X.shape[1]), name=\"input_X\")\n",
    "input_y = tf.placeholder('float32', shape=(None,), name=\"input_y\")"
   ]
  },
  {
   "cell_type": "code",
   "execution_count": 35,
   "metadata": {},
   "outputs": [],
   "source": [
    "# Codigo del modelo\n",
    "\n",
    "# Calcular un vector de predicciones, cuya dimension deberia ser [input_X.shape[0],]\n",
    "# Esto es 1D, si hay dimensiones extra,se puede redimensionar con with tf.squeeze.\n",
    "# No olvidar la sigmoide.\n",
    "# y_pred = <probabilidades predichas para input_X>\n",
    "\n",
    "y_pred = tf.squeeze(tf.sigmoid(input_X @ pesos + sesgo))\n",
    "\n",
    "# Perdida. Debe ser un escalar, un numero - perdida media sobre todos los objetos\n",
    "# tf.reduce_mean aqui es tu amigo\n",
    "# perdida = <perdida logistica (escalar, media sobre la muestra)>\n",
    "perdida = tf.reduce_mean(-tf.log(y_pred) * input_y - tf.log(1 - y_pred) * (1 - input_y))\n",
    "\n",
    "# See above for an example. tf.train.*Optimizer\n",
    "# optimizador = <optimizador que minimiza la perdida>\n",
    "optimizador = tf.train.MomentumOptimizer(0.01, 0.5).minimize(perdida, var_list=[pesos, sesgo])"
   ]
  },
  {
   "cell_type": "markdown",
   "metadata": {},
   "source": [
    "Un test ayuda con el debugging"
   ]
  },
  {
   "cell_type": "code",
   "execution_count": 36,
   "metadata": {},
   "outputs": [],
   "source": [
    "pesos_validacion = 1e-3 * np.fromiter(map(lambda x:\n",
    "                                      s.run(funcion_psycho, {escalar:x, mi_vector:[1, 0.1, 2]}),\n",
    "                                      0.15 * np.arange(1, X.shape[1] + 1)),\n",
    "                                      count=X.shape[1], dtype=np.float32)[:, np.newaxis]\n",
    "\n",
    "# Compute predictions for given weights and bias\n",
    "pred_validacion = s.run(y_pred, {input_X: X, pesos: pesos_validacion, sesgo: 1e-1})\n",
    "\n",
    "#pred_validacion = pred_validacion.flatten()\n",
    "\n",
    "# Cargar los valores de referencia para las predicciones\n",
    "validacion_true_val = np.loadtxt('predicciones_de_validacion.txt')\n",
    "\n",
    "assert pred_validacion.shape == (X.shape[0],),\\\n",
    "       'Las predicciones deben ser 1D con longitud igual al numero de ejemplos en input_X' \n",
    "\n",
    "assert np.allclose(validacion_true_val, pred_validacion)\n",
    "perdida_validacion = s.run(perdida,{input_X: X[:100], input_y: y[-100:],pesos: pesos_validacion+1.21e-3,sesgo: -1e-1})\n",
    "\n",
    "assert np.allclose(perdida_validacion, 0.728689)"
   ]
  },
  {
   "cell_type": "code",
   "execution_count": 37,
   "metadata": {},
   "outputs": [
    {
     "name": "stdout",
     "output_type": "stream",
     "text": [
      "perdida en la iteracion 0:0.1252\n",
      "auc entrenamiento: 0.9999451032059727\n",
      "auc test: 1.0\n",
      "\n",
      "perdida en la iteracion 1:0.0450\n",
      "auc entrenamiento: 1.0\n",
      "auc test: 1.0\n",
      "\n",
      "perdida en la iteracion 2:0.0269\n",
      "auc entrenamiento: 1.0\n",
      "auc test: 1.0\n",
      "\n",
      "perdida en la iteracion 3:0.0200\n",
      "auc entrenamiento: 1.0\n",
      "auc test: 1.0\n",
      "\n",
      "perdida en la iteracion 4:0.0169\n",
      "auc entrenamiento: 1.0\n",
      "auc test: 1.0\n",
      "\n"
     ]
    }
   ],
   "source": [
    "from sklearn.metrics import roc_auc_score\n",
    "s.run(tf.global_variables_initializer())\n",
    "\n",
    "for i in range(5):\n",
    "    s.run(optimizador, {input_X: X_train, input_y: y_train})\n",
    "    perdida_i = s.run(perdida, {input_X: X_train, input_y: y_train})\n",
    "    print('perdida en la iteracion {}:{:0.4f}'.format(i, perdida_i))\n",
    "    print('auc entrenamiento:', roc_auc_score(y_train, s.run(y_pred, {input_X:X_train})))\n",
    "    print('auc test:', roc_auc_score(y_test, s.run(y_pred, {input_X:X_test})))\n",
    "    print ()"
   ]
  },
  {
   "cell_type": "code",
   "execution_count": 38,
   "metadata": {},
   "outputs": [],
   "source": [
    "# era submision aqui"
   ]
  },
  {
   "cell_type": "code",
   "execution_count": 39,
   "metadata": {},
   "outputs": [],
   "source": [
    "pesos_test = 1e-3 * np.fromiter(map(lambda x: s.run(funcion_psycho, {escalar:x, mi_vector:[1, 2, 3]}),\n",
    "                                              0.1 * np.arange(1, X.shape[1] + 1)),\n",
    "                                              count=X.shape[1], dtype=np.float32)[:, np.newaxis]"
   ]
  },
  {
   "cell_type": "markdown",
   "metadata": {},
   "source": [
    "Primero, la prediccion de test y la perdida. Esta parte no requiere entrenar el modelo."
   ]
  },
  {
   "cell_type": "code",
   "execution_count": 40,
   "metadata": {},
   "outputs": [],
   "source": [
    "test_pred = s.run(y_pred, {input_X: X, pesos: pesos_test, sesgo: 1e-1})"
   ]
  },
  {
   "cell_type": "code",
   "execution_count": 41,
   "metadata": {},
   "outputs": [],
   "source": [
    "assert test_pred.shape == (X.shape[0],),\\\n",
    "       'Las predicciones deben ser 1D con longitud igual al numero de ejemplos en X_test' "
   ]
  },
  {
   "cell_type": "code",
   "execution_count": 42,
   "metadata": {},
   "outputs": [],
   "source": [
    "perdida_test = s.run(perdida, {input_X: X[:100], input_y: y[-100:], pesos: pesos_test+1.21e-3, sesgo: -1e-1})\n",
    "# Si, que los indices X/y no concuerden es intencional"
   ]
  },
  {
   "cell_type": "code",
   "execution_count": null,
   "metadata": {},
   "outputs": [],
   "source": []
  }
 ],
 "metadata": {
  "kernelspec": {
   "display_name": "Python 3",
   "language": "python",
   "name": "python3"
  },
  "language_info": {
   "codemirror_mode": {
    "name": "ipython",
    "version": 3
   },
   "file_extension": ".py",
   "mimetype": "text/x-python",
   "name": "python",
   "nbconvert_exporter": "python",
   "pygments_lexer": "ipython3",
   "version": "3.7.4"
  }
 },
 "nbformat": 4,
 "nbformat_minor": 2
}
