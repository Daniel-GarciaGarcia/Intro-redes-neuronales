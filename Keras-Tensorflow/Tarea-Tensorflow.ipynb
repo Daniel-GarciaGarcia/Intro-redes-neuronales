{
 "cells": [
  {
   "cell_type": "markdown",
   "metadata": {
    "slideshow": {
     "slide_type": "slide"
    }
   },
   "source": [
    "# Profundizando en Tensorflow\n",
    "\n",
    "Aqui vamos a estudiar las herramientas que se usaran para construir modelos de deep learning, esto es [Tensorflow](https://www.tensorflow.org/).\n",
    "\n",
    "En primer lugar, instalar Tensorflow con pip:\n",
    "* `pip install tensorflow` , solo TF en cpu tanto en Linux comom en Mac OS\n",
    "* Si quieres soporte para GPU mira esta pagina: [instalacion TF](https://www.tensorflow.org/install/)"
   ]
  },
  {
   "cell_type": "markdown",
   "metadata": {},
   "source": [
    "# Visualizacion"
   ]
  },
  {
   "cell_type": "markdown",
   "metadata": {},
   "source": [
    "Ejecutando este notebook localmente, el acceso a TensorBoard seria en http://127.0.0.1:7007/"
   ]
  },
  {
   "cell_type": "code",
   "execution_count": 1,
   "metadata": {},
   "outputs": [
    {
     "name": "stdout",
     "output_type": "stream",
     "text": [
      "No matching processes belonging to you were found\r\n"
     ]
    }
   ],
   "source": [
    "! killall tensorboard\n",
    "import os\n",
    "os.system('tensorboard --logdir=/tmp/tboard --port=7007 &');"
   ]
  },
  {
   "cell_type": "code",
   "execution_count": 43,
   "metadata": {},
   "outputs": [],
   "source": [
    "import warnings\n",
    "warnings.simplefilter(action='ignore', category=FutureWarning)\n",
    "import tensorflow as tf\n",
    "from keras_utils import reset_tf_session\n",
    "s = reset_tf_session()"
   ]
  },
  {
   "cell_type": "markdown",
   "metadata": {},
   "source": [
    "# Empezando\n",
    "Para empezar vamos a implementar una funcion que calcule la suma de los cuadrados de los numeros de 0 a N-1."
   ]
  },
  {
   "cell_type": "code",
   "execution_count": 44,
   "metadata": {},
   "outputs": [],
   "source": [
    "import numpy as np\n",
    "def suma_cuad(N):\n",
    "    return np.sum(np.arange(N)**2)"
   ]
  },
  {
   "cell_type": "code",
   "execution_count": 45,
   "metadata": {},
   "outputs": [
    {
     "name": "stdout",
     "output_type": "stream",
     "text": [
      "CPU times: user 900 µs, sys: 917 µs, total: 1.82 ms\n",
      "Wall time: 907 µs\n"
     ]
    },
    {
     "data": {
      "text/plain": [
       "333328333350000"
      ]
     },
     "execution_count": 45,
     "metadata": {},
     "output_type": "execute_result"
    }
   ],
   "source": [
    "%%time\n",
    "suma_cuad(10**5)"
   ]
  },
  {
   "cell_type": "markdown",
   "metadata": {},
   "source": [
    "# Tensoflow \n",
    "\n",
    "Hacemos exactamente lo mismo con Tensorflow"
   ]
  },
  {
   "cell_type": "code",
   "execution_count": 46,
   "metadata": {},
   "outputs": [],
   "source": [
    "# Un parametro entero\n",
    "N = tf.placeholder('int64', name='entrada_a_la_funcion')\n",
    "\n",
    "# Produce el mimso resultado\n",
    "res = tf.reduce_sum(tf.range(N)**2)"
   ]
  },
  {
   "cell_type": "code",
   "execution_count": 47,
   "metadata": {},
   "outputs": [
    {
     "data": {
      "text/plain": [
       "<tf.Tensor 'Sum:0' shape=() dtype=int64>"
      ]
     },
     "execution_count": 47,
     "metadata": {},
     "output_type": "execute_result"
    }
   ],
   "source": [
    "res"
   ]
  },
  {
   "cell_type": "code",
   "execution_count": 48,
   "metadata": {},
   "outputs": [
    {
     "name": "stdout",
     "output_type": "stream",
     "text": [
      "CPU times: user 3.06 ms, sys: 1.38 ms, total: 4.44 ms\n",
      "Wall time: 2.12 ms\n"
     ]
    },
    {
     "data": {
      "text/plain": [
       "333328333350000"
      ]
     },
     "execution_count": 48,
     "metadata": {},
     "output_type": "execute_result"
    }
   ],
   "source": [
    "%%time\n",
    "res.eval({N: 10**5})"
   ]
  },
  {
   "cell_type": "code",
   "execution_count": 8,
   "metadata": {},
   "outputs": [],
   "source": [
    "escritor = tf.summary.FileWriter('/tmp/tboard', graph=s.graph)"
   ]
  },
  {
   "cell_type": "markdown",
   "metadata": {},
   "source": [
    "# ¿Como funciona?\n",
    "1. Se definen unos marcadores (placeholders) donde se envian las entradas (inputs)\n",
    "2. Make symbolic graph: a recipe for mathematical transformation of those placeholders\n",
    "3. Compute outputs of your graph with particular values for each placeholder\n",
    "  * `output.eval({placeholder:value})`\n",
    "  * `s.run(output, {placeholder:value})`\n",
    "\n",
    "So far there are two main entities: \"placeholder\" and \"transformation\"\n",
    "* Both can be numbers, vectors, matrices, tensors, etc.\n",
    "* Both can be int32/64, floats, booleans (uint8) of various size.\n",
    "\n",
    "* You can define new transformations as an arbitrary operation on placeholders and other transformations\n",
    " * `tf.reduce_sum(tf.arange(N)**2)` are 3 sequential transformations of placeholder `N`\n",
    " * There's a tensorflow symbolic version for every numpy function\n",
    "   * `a+b, a/b, a**b, ...` behave just like in numpy\n",
    "   * `np.mean` -> `tf.reduce_mean`\n",
    "   * `np.arange` -> `tf.range`\n",
    "   * `np.cumsum` -> `tf.cumsum`\n",
    "   * If if you can't find the op you need, see the [docs](https://www.tensorflow.org/api_docs/python).\n",
    "   \n",
    "`tf.contrib` has many high-level features, may be worth a look."
   ]
  },
  {
   "cell_type": "code",
   "execution_count": 9,
   "metadata": {},
   "outputs": [],
   "source": [
    "with tf.name_scope(\"Placeholders_examples\"):\n",
    "    # Default placeholder that can be arbitrary float32\n",
    "    # scalar, vertor, matrix, etc.\n",
    "    arbitrary_input = tf.placeholder('float32')\n",
    "\n",
    "    # Input vector of arbitrary length\n",
    "    input_vector = tf.placeholder('float32', shape=(None,))\n",
    "\n",
    "    # Input vector that _must_ have 10 elements and integer type\n",
    "    fixed_vector = tf.placeholder('int32', shape=(10,))\n",
    "\n",
    "    # Matrix of arbitrary n_rows and 15 columns\n",
    "    # (e.g. a minibatch your data table)\n",
    "    input_matrix = tf.placeholder('float32', shape=(None, 15))\n",
    "    \n",
    "    # You can generally use None whenever you don't need a specific shape\n",
    "    input1 = tf.placeholder('float64', shape=(None, 100, None))\n",
    "    input2 = tf.placeholder('int32', shape=(None, None, 3, 224, 224))\n",
    "\n",
    "    # elementwise multiplication\n",
    "    double_the_vector = input_vector*2\n",
    "\n",
    "    # elementwise cosine\n",
    "    elementwise_cosine = tf.cos(input_vector)\n",
    "\n",
    "    # difference between squared vector and vector itself plus one\n",
    "    vector_squares = input_vector**2 - input_vector + 1"
   ]
  },
  {
   "cell_type": "code",
   "execution_count": 10,
   "metadata": {},
   "outputs": [],
   "source": [
    "my_vector =  tf.placeholder('float32', shape=(None,), name=\"VECTOR_1\")\n",
    "my_vector2 = tf.placeholder('float32', shape=(None,))\n",
    "my_transformation = my_vector * my_vector2 / (tf.sin(my_vector) + 1)"
   ]
  },
  {
   "cell_type": "code",
   "execution_count": 11,
   "metadata": {},
   "outputs": [
    {
     "name": "stdout",
     "output_type": "stream",
     "text": [
      "Tensor(\"truediv:0\", shape=(?,), dtype=float32)\n"
     ]
    }
   ],
   "source": [
    "print(my_transformation)"
   ]
  },
  {
   "cell_type": "code",
   "execution_count": 12,
   "metadata": {},
   "outputs": [
    {
     "name": "stdout",
     "output_type": "stream",
     "text": [
      "[0. 1. 2. 3. 4.]\n"
     ]
    },
    {
     "data": {
      "text/plain": [
       "array([0.       , 1.6291324, 2.0950115, 2.6289961, 0.       ],\n",
       "      dtype=float32)"
      ]
     },
     "execution_count": 12,
     "metadata": {},
     "output_type": "execute_result"
    }
   ],
   "source": [
    "dummy = np.arange(5).astype('float32')\n",
    "print(dummy)\n",
    "my_transformation.eval({my_vector:dummy, my_vector2:dummy[::-1]})"
   ]
  },
  {
   "cell_type": "code",
   "execution_count": 13,
   "metadata": {},
   "outputs": [],
   "source": [
    "writer.add_graph(my_transformation.graph)\n",
    "writer.flush()"
   ]
  },
  {
   "cell_type": "markdown",
   "metadata": {},
   "source": [
    "TensorBoard allows writing scalars, images, audio, histogram. You can read more on tensorboard usage [here](https://www.tensorflow.org/get_started/graph_viz)."
   ]
  },
  {
   "cell_type": "markdown",
   "metadata": {},
   "source": [
    "# Summary\n",
    "* Tensorflow is based on computation graphs\n",
    "* The graphs consist of placehlders and transformations"
   ]
  },
  {
   "cell_type": "markdown",
   "metadata": {},
   "source": [
    "# Mean squared error\n",
    "\n",
    "Your assignment is to implement mean squared error in tensorflow."
   ]
  },
  {
   "cell_type": "code",
   "execution_count": 14,
   "metadata": {},
   "outputs": [],
   "source": [
    "y = np.arange(5)\n",
    "y_pred = np.arange(5)[::-1]"
   ]
  },
  {
   "cell_type": "code",
   "execution_count": 15,
   "metadata": {},
   "outputs": [
    {
     "data": {
      "text/plain": [
       "array([16,  4,  0,  4, 16])"
      ]
     },
     "execution_count": 15,
     "metadata": {},
     "output_type": "execute_result"
    }
   ],
   "source": [
    "(y - y_pred) ** 2"
   ]
  },
  {
   "cell_type": "code",
   "execution_count": 16,
   "metadata": {},
   "outputs": [],
   "source": [
    "with tf.name_scope(\"MSE\"):\n",
    "    y_true = tf.placeholder(\"float32\", shape=(None,), name=\"y_true\")\n",
    "    y_predicted = tf.placeholder(\"float32\", shape=(None,), name=\"y_predicted\")\n",
    "    # Your code goes here\n",
    "    # You want to use tf.reduce_mean\n",
    "    # mse = tf.<...>\n",
    "    mse = tf.reduce_mean((y_true - y_predicted) ** 2)\n",
    "def compute_mse(vector1, vector2):\n",
    "    return mse.eval({y_true: vector1, y_predicted: vector2})"
   ]
  },
  {
   "cell_type": "code",
   "execution_count": 17,
   "metadata": {},
   "outputs": [],
   "source": [
    "writer.add_graph(mse.graph)\n",
    "writer.flush()"
   ]
  },
  {
   "cell_type": "code",
   "execution_count": 18,
   "metadata": {},
   "outputs": [],
   "source": [
    "# Rigorous local testing of MSE implementation\n",
    "import sklearn.metrics\n",
    "for n in [1, 5, 10, 10**3]:\n",
    "    elems = [np.arange(n), np.arange(n, 0, -1), np.zeros(n),\n",
    "             np.ones(n), np.random.random(n), np.random.randint(100, size=n)]\n",
    "    for el in elems:\n",
    "        for el_2 in elems:\n",
    "            true_mse = np.array(sklearn.metrics.mean_squared_error(el, el_2))\n",
    "            my_mse = compute_mse(el, el_2)\n",
    "            if not np.allclose(true_mse, my_mse):\n",
    "                print('mse(%s,%s)' % (el, el_2))\n",
    "                print(\"should be: %f, but your function returned %f\" % (true_mse, my_mse))\n",
    "                raise ValueError('Wrong result')"
   ]
  },
  {
   "cell_type": "markdown",
   "metadata": {},
   "source": [
    "# Variables\n",
    "\n",
    "The inputs and transformations have no value outside function call. This isn't too comfortable if you want your model to have parameters (e.g. network weights) that are always present, but can change their value over time.\n",
    "\n",
    "Tensorflow solves this with `tf.Variable` objects.\n",
    "* You can assign variable a value at any time in your graph\n",
    "* Unlike placeholders, there's no need to explicitly pass values to variables when `s.run(...)`-ing\n",
    "* You can use variables the same way you use transformations \n",
    " "
   ]
  },
  {
   "cell_type": "code",
   "execution_count": 19,
   "metadata": {},
   "outputs": [],
   "source": [
    "# Creating a shared variable\n",
    "shared_vector_1 = tf.Variable(initial_value=np.ones(5),\n",
    "                              name=\"example_variable\")"
   ]
  },
  {
   "cell_type": "code",
   "execution_count": 20,
   "metadata": {},
   "outputs": [
    {
     "name": "stdout",
     "output_type": "stream",
     "text": [
      "Initial value [1. 1. 1. 1. 1.]\n"
     ]
    }
   ],
   "source": [
    "# Initialize variable(s) with initial values\n",
    "s.run(tf.global_variables_initializer())\n",
    "\n",
    "# Evaluating shared variable (outside symbolicd graph)\n",
    "print(\"Initial value\", s.run(shared_vector_1))\n",
    "\n",
    "# Within symbolic graph you use them just\n",
    "# as any other inout or transformation, not \"get value\" needed"
   ]
  },
  {
   "cell_type": "code",
   "execution_count": 21,
   "metadata": {},
   "outputs": [
    {
     "name": "stdout",
     "output_type": "stream",
     "text": [
      "New value [0. 1. 2. 3. 4.]\n"
     ]
    }
   ],
   "source": [
    "# Setting a new value\n",
    "s.run(shared_vector_1.assign(np.arange(5)))\n",
    "\n",
    "# Getting that new value\n",
    "print(\"New value\", s.run(shared_vector_1))"
   ]
  },
  {
   "cell_type": "markdown",
   "metadata": {},
   "source": [
    "# tf.gradients - why graphs matter\n",
    "* Tensorflow can compute derivatives and gradients automatically using the computation graph\n",
    "* True to its name it can manage matrix derivatives\n",
    "* Gradients are computed as a product of elementary derivatives via the chain rule:\n",
    "\n",
    "$$ {\\partial f(g(x)) \\over \\partial x} = {\\partial f(g(x)) \\over \\partial g(x)}\\cdot {\\partial g(x) \\over \\partial x} $$\n",
    "\n",
    "It can get you the derivative of any graph as long as it knows how to differentiate elementary operations"
   ]
  },
  {
   "cell_type": "code",
   "execution_count": 22,
   "metadata": {},
   "outputs": [
    {
     "name": "stdout",
     "output_type": "stream",
     "text": [
      "WARNING:tensorflow:From /Users/data/Library/Python/3.7/lib/python/site-packages/tensorflow/python/ops/math_grad.py:1205: add_dispatch_support.<locals>.wrapper (from tensorflow.python.ops.array_ops) is deprecated and will be removed in a future version.\n",
      "Instructions for updating:\n",
      "Use tf.where in 2.0, which has the same broadcast rule as np.where\n"
     ]
    }
   ],
   "source": [
    "my_scalar = tf.placeholder('float32')\n",
    "\n",
    "scalar_squared = my_scalar**2\n",
    "\n",
    "# A derivative of scalar_squared by my_scalar\n",
    "derivative = tf.gradients(scalar_squared, [my_scalar, ])"
   ]
  },
  {
   "cell_type": "code",
   "execution_count": 23,
   "metadata": {},
   "outputs": [
    {
     "data": {
      "text/plain": [
       "[<tf.Tensor 'gradients/pow_1_grad/Reshape:0' shape=<unknown> dtype=float32>]"
      ]
     },
     "execution_count": 23,
     "metadata": {},
     "output_type": "execute_result"
    }
   ],
   "source": [
    "derivative"
   ]
  },
  {
   "cell_type": "code",
   "execution_count": 24,
   "metadata": {},
   "outputs": [
    {
     "data": {
      "image/png": "[encoded data removed]",
      "text/plain": [
       "<Figure size 432x288 with 1 Axes>"
      ]
     },
     "metadata": {
      "needs_background": "light"
     },
     "output_type": "display_data"
    }
   ],
   "source": [
    "import matplotlib.pyplot as plt\n",
    "%matplotlib inline\n",
    "\n",
    "x = np.linspace(-3, 3)\n",
    "x_squared, x_squared_der = s.run([scalar_squared, derivative[0]],\n",
    "                                 {my_scalar:x})\n",
    "\n",
    "plt.plot(x, x_squared,label=\"$x^2$\")\n",
    "plt.plot(x, x_squared_der, label=r\"$\\frac{dx^2}{dx}$\")\n",
    "plt.legend();"
   ]
  },
  {
   "cell_type": "markdown",
   "metadata": {},
   "source": [
    "# Why that rocks"
   ]
  },
  {
   "cell_type": "code",
   "execution_count": 25,
   "metadata": {},
   "outputs": [],
   "source": [
    "my_vector = tf.placeholder('float32', [None])\n",
    "# Compute the gradient of the next weird function over my_scalar and my_vector\n",
    "# Warning! Trying to understand the meaning of that function may result in permanent brain damage\n",
    "weird_psychotic_function = tf.reduce_mean(\n",
    "    (my_vector+my_scalar)**(1+tf.nn.moments(my_vector,[0])[1]) + \n",
    "    1./ tf.atan(my_scalar))/(my_scalar**2 + 1) + 0.01*tf.sin(\n",
    "    2*my_scalar**1.5)*(tf.reduce_sum(my_vector)* my_scalar**2\n",
    "                      )*tf.exp((my_scalar-4)**2)/(\n",
    "    1+tf.exp((my_scalar-4)**2))*(1.-(tf.exp(-(my_scalar-4)**2)\n",
    "                                    )/(1+tf.exp(-(my_scalar-4)**2)))**2\n",
    "\n",
    "der_by_scalar = tf.gradients(weird_psychotic_function, my_scalar)\n",
    "der_by_vector = tf.gradients(weird_psychotic_function, my_vector)"
   ]
  },
  {
   "cell_type": "code",
   "execution_count": 26,
   "metadata": {},
   "outputs": [
    {
     "data": {
      "image/png": "[encoded data removed]",
      "text/plain": [
       "<Figure size 432x288 with 1 Axes>"
      ]
     },
     "metadata": {
      "needs_background": "light"
     },
     "output_type": "display_data"
    }
   ],
   "source": [
    "# Plotting the derivative\n",
    "scalar_space = np.linspace(1, 7, 100)\n",
    "\n",
    "y = [s.run(weird_psychotic_function, {my_scalar:x, my_vector:[1, 2, 3]})\n",
    "     for x in scalar_space]\n",
    "\n",
    "plt.plot(scalar_space, y, label='function')\n",
    "\n",
    "y_der_by_scalar = [s.run(der_by_scalar,\n",
    "                         {my_scalar:x, my_vector:[1, 2, 3]})\n",
    "                   for x in scalar_space]\n",
    "\n",
    "plt.plot(scalar_space, y_der_by_scalar, label='derivative')\n",
    "plt.grid()\n",
    "plt.legend();"
   ]
  },
  {
   "cell_type": "markdown",
   "metadata": {},
   "source": [
    "# Almost done - optimizers\n",
    "\n",
    "While you can perform gradient descent by hand with automatic grads from above, tensorflow also has some optimization methods implemented for you. Recall momentum & rmsprop?"
   ]
  },
  {
   "cell_type": "code",
   "execution_count": 27,
   "metadata": {},
   "outputs": [],
   "source": [
    "y_guess = tf.Variable(np.zeros(2, dtype='float32'))\n",
    "y_true = tf.range(1, 3, dtype='float32')\n",
    "loss = tf.reduce_mean((y_guess - y_true + tf.random_normal([2]))**2) \n",
    "#loss = tf.reduce_mean((y_guess - y_true)**2) \n",
    "optimizer = tf.train.MomentumOptimizer(0.01, 0.5).minimize(\n",
    "    loss, var_list=y_guess)"
   ]
  },
  {
   "cell_type": "code",
   "execution_count": 28,
   "metadata": {},
   "outputs": [
    {
     "data": {
      "image/png": "[encoded data removed]",
      "text/plain": [
       "<Figure size 432x288 with 1 Axes>"
      ]
     },
     "metadata": {
      "needs_background": "light"
     },
     "output_type": "display_data"
    }
   ],
   "source": [
    "from matplotlib import animation, rc\n",
    "import matplotlib_utils\n",
    "from IPython.display import HTML, display_html\n",
    "\n",
    "fig, ax = plt.subplots()\n",
    "y_true_value = s.run(y_true)\n",
    "level_x = np.arange(0, 2, 0.02)\n",
    "level_y = np.arange(0, 3, 0.02)\n",
    "X, Y = np.meshgrid(level_x, level_y)\n",
    "Z = (X - y_true_value[0])**2 + (Y - y_true_value[1])**2\n",
    "ax.set_xlim(-0.02, 2)\n",
    "ax.set_ylim(-0.02, 3)\n",
    "s.run(tf.global_variables_initializer())\n",
    "ax.scatter(*s.run(y_true), c='red')\n",
    "contour = ax.contour(X, Y, Z, 10)\n",
    "ax.clabel(contour, inline=1, fontsize=10)\n",
    "line, = ax.plot([], [], lw=2)\n",
    "\n",
    "def init():\n",
    "    line.set_data([], [])\n",
    "    return (line,)\n",
    "\n",
    "guesses = [s.run(y_guess)]\n",
    "\n",
    "def animate(i):\n",
    "    s.run(optimizer)\n",
    "    guesses.append(s.run(y_guess))\n",
    "    line.set_data(*zip(*guesses))\n",
    "    return (line,)\n",
    "\n",
    "anim = animation.FuncAnimation(fig, animate, init_func=init,\n",
    "                               frames=400, interval=20, blit=True)"
   ]
  },
  {
   "cell_type": "code",
   "execution_count": 29,
   "metadata": {},
   "outputs": [
    {
     "data": {
      "text/html": [
       "<img src=\"data:image/jpeg;base64,/9j/4AAQSkZJRgABAQEASABIAAD/2wBDAAIBAQEBAQIBAQECAgICAgQDAgICAgUEBAMEBgUGBgYFBgYGBwkIBgcJBwYGCAsICQoKCgoKBggLDAsKDAkKCgr/2wBDAQICAgICAgUDAwUKBwYHCgoKCgoKCgoKCgoKCgoKCgoKCgoKCgoKCgoKCgoKCgoKCgoKCgoKCgoKCgoKCgoKCgr/wAARCAEgAbADASIAAhEBAxEB/8QAHwAAAQUBAQEBAQEAAAAAAAAAAAECAwQFBgcICQoL/8QAtRAAAgEDAwIEAwUFBAQAAAF9AQIDAAQRBRIhMUEGE1FhByJxFDKBkaEII0KxwRVS0fAkM2JyggkKFhcYGRolJicoKSo0NTY3ODk6Q0RFRkdISUpTVFVWV1hZWmNkZWZnaGlqc3R1dnd4eXqDhIWGh4iJipKTlJWWl5iZmqKjpKWmp6ipqrKztLW2t7i5usLDxMXGx8jJytLT1NXW19jZ2uHi4%2BTl5ufo6erx8vP09fb3%2BPn6/8QAHwEAAwEBAQEBAQEBAQAAAAAAAAECAwQFBgcICQoL/8QAtREAAgECBAQDBAcFBAQAAQJ3AAECAxEEBSExBhJBUQdhcRMiMoEIFEKRobHBCSMzUvAVYnLRChYkNOEl8RcYGRomJygpKjU2Nzg5OkNERUZHSElKU1RVVldYWVpjZGVmZ2hpanN0dXZ3eHl6goOEhYaHiImKkpOUlZaXmJmaoqOkpaanqKmqsrO0tba3uLm6wsPExcbHyMnK0tPU1dbX2Nna4uPk5ebn6Onq8vP09fb3%2BPn6/9oADAMBAAIRAxEAPwD9/KKKKACiiigAooooAKKKKACiiigAooooAKKKKACiiigAooooAKKKKACiiigAooooAKKKKACiiigAooooAKKKKACiiigAooooAKKKKACiiigAooooAKKKKACiiigAooooAKKKKACiiigAooooAKKKKACiiigAorj/AAR%2B0J8A/iZ431n4Z/Dj44eD/EHiTw5JJH4h8P6J4ltbu%2B0t0kMTrcQRSNJAVkBQh1GGG088VZsPjb8GNV%2BKV78DdL%2BLvhi58babZLeaj4Pt9ftn1S1tiEImktA/nJGRJHh2UA7155FAHT0UUUAFFFFABRRRQAUUUUAFFFFABRRRQAUUUUAFFFFABRRRQAUUUUAFFFFABRRRQAUUUUAFFFFABRRRQAUUUUAFFFFABRRRQAUUUUAFFFFABRRRQAUUUUAFFFFABRRRQAUUUUAFFFFAHyM/iK78Sf8ABRXRvjLpWnfFnWdA8OeFNe0jVrLxH8LL/T9N8KS3FxpcStpco06CXVDdy2xaQ%2BZfIiIZkktolxJy/wANfAHxBg/ae8IfDi4%2BFHii313wp%2B0r428deJvGNx4Zuo9Ku/Dmo6XrcVj5epNGLe6kI1LSbU2qSNKn2BmZFWBCfuGigDxD9tfx3%2B078LPC2i%2BNvgH4%2B8B6bbXPi/w54f1Cx8X%2BA73VZHfVddsdL%2B0Ry22q2YjESXhk8so%2B8xgb0ByLP/CD/wDBQv8A6Og%2BDP8A4YfVv/moo/bw/wCSIaH/ANlm%2BHH/AKmuiV7NQB4z/wAIP/wUL/6Og%2BDP/hh9W/8AmoqtrPh/9vPw7pNzr/iD9rX4IWNjZQPPeXt58DtUihgiUFmd3bxSFVQASSSAAK7j4d/HDTPH/wAQPEnw2uPBut6Dqfh4xyJHrkUMf9pWjySxLeW4jlctCZYJUywVuFJUB1J8N8X%2BGfjB4f0nxN8PvjTo19q%2Bm/EHxPL4btPGMvjF57hUvHkNjJDpaQrDbQQsyROY2EpCmZgVUmuqlhXOfLN2206tPtrba7/pnNUxCjDmir7/ACa7/PQyvEfxw/bt1ODwynwE/aT%2BAvjm58UXl7FZLH8JtUs4QLSHzp18w%2BJJP323aFiKgtu3EqgZh2/wr1D9u/4t%2BArDx94f/aa%2BEEMF6JFltbr4Cass1rPFI0U0Eg/4Snh45Y5I2HqhrL8NfB74s/GD4kXPjDxV4N1PwDq%2Bl2Ol3L66zW0sNx4itXkR7i3jilPnW0lrLJE5YRlkuGT7y5T2/wCDPwzuPhV4Ok0LUvEQ1fUb3VLzU9W1JLIWyXF1cztNIUiDN5aAttVdzEBRlmOSdMTTw1OmoxfvffvfqtNrbWflrpFCeIqTvJe793bvr3/pa%2BD%2BCU/4LGeIfidq%2BjeLPFnwF8P%2BELCeaHTdfn%2BHGqXN9qe1sRzJZxeISsUbgE/vJw4yPk6477/hB/8AgoX/ANHQfBn/AMMPq3/zUV7NRXJOSm7pJel/1bOqEXFWbv6/8Cx4z/wg/wDwUL/6Og%2BDP/hh9W/%2Baij/AIQf/goX/wBHQfBn/wAMPq3/AM1FezVi%2BPfiT8O/hX4fk8V/E7x5o3h3S4v9ZqOuanFaQL35eVlX9amMZSdoq7K2PM/%2BEH/4KF/9HQfBn/ww%2Brf/ADUUf8IP/wAFC/8Ao6D4M/8Ahh9W/wDmormpv%2BClvwf8YTvp37M3w08f/F%2B5VzH9o8C%2BFZf7NSTOAH1G7MFqF/2lkb6HFNHij/gqB8VedA%2BF3ww%2BElhJ8rS%2BKNauPEmqRj%2B8IbMQWyt7GZxn1612f2fiI/xbQ/xNJ/drL/yUjnj01On/AOEH/wCChf8A0dB8Gf8Aww%2Brf/NRWZ4rT9tjwJpp1nxx%2B2d8BtGs1%2B9d6r8FtSt4h/wKTxUB%2BtZo/Yf%2BMnjv97%2B0D%2B3/APFHXM/e07wU9r4WsmXupFlGbgj6zk4PJNanhX/gmT%2Bwp4W1Ia7cfs56L4g1HgvqXjSSbXbh267i%2BoSTHOeeMY7Yo9lgYfHVcv8ADH9ZNfkF5vZHjHij/goFqvhbUTo5/wCCnf7PGsXoyPsXhP4Ea5rcxPoE0/xLMSe2MVm/8Nt/t7a9/wAkv8P6l4qR/wDUXdr%2ByBrWnW0voRLqXi22G335%2Blfb3hfwb4Q8EacNH8F%2BFdN0i0X7trpdjHbxj/gMYArSo9rgI/DTb9ZW/CMf1C0%2B58Ix/F//AIL7684bwr%2Bz38IrSFz8k3i7w%2B1kcepS18TXbD6EZruvhlZf8Fzdd8Q2v/C2PGP7LHh3Rn3fbJNJ8HeItSvY/kO3bE2pwRt820H96MAk8kAH60oqJ4ilKNo0or/wJv8AGX6DUX3PGf8AhB/%2BChf/AEdB8Gf/AAw%2Brf8AzUUf8IP/AMFC/wDo6D4M/wDhh9W/%2BaivZqK5Sjxn/hB/%2BChf/R0HwZ/8MPq3/wA1FH/CD/8ABQv/AKOg%2BDP/AIYfVv8A5qK9mooA8Z/4Qf8A4KF/9HQfBn/ww%2Brf/NRR/wAIP/wUL/6Og%2BDP/hh9W/8Amor2aigDxn/hB/8AgoX/ANHQfBn/AMMPq3/zUUf8IP8A8FC%2B37UHwZ/8MPq3/wA1FezUUAfFniG%2B/wCDg/Qd0mmWv7JmuoPupYaT4igkI9xPfKoP/AjWH/wvz/guR4b/AH3xF/Z08Ei3X78/g3wBHq5/4DG/i%2B3kP/fIr7vorsjiaNrSoxf/AIEvyk/yJ5X3Plv4DfEL/goT8ddN1G%2Bfx34X8Fy6bOkUtl48/Zk1fT5ZiwJ3QkeLHSZRjBZGIBIFafxE13/goF4B8U%2BDfB0f7QPwb1C98ZeIX0y2A%2BCuqwi1jjsrm7muWz4lbzAqW%2B3Z8uWkX5hX0jXnfjv9nHQvG/xe0P42p8Q/Fml6z4fgmisLew1dXsCssTRyFrS4SSEMVPLoqv8AKPm65inLDuu5NWjZ2WstbO3Z7636A%2Bax4P8AHr4y/wDBQ34Najeabovxc%2BEXiJ9C8OSeI/Fjw/BjUrZdK0lC4afL%2BJz50p8qYrCoBYRNyOM6ln8Z/wBrG/8AidB8KLf9q/4VHULi7FlFen9m/XRYm/8Asou/sP2n/hJvLFz9nPm%2BVu3bQ3dSB3Xxb/ZX8bfEPxPe3GlfFG0tdJ8U6DYaR46S60YveXdvazSSbraRJEjhMyyNE6tGyhWLLhs54LxB%2Bz7%2B0dDFrvhrw34asraz0HWPEXifw3rUerqZNY1CeJ10y3EYG%2BExrIUlkfglFKAhyE66dHA1KSTkk7d7b979n0XTV%2BUtzTOm8Fa7%2B158SLnUbL4e/tyfs%2B67NpFz9n1aHSPg5qNw9lLz8kqx%2BKiY2ODgNjOOK3/%2BEH/4KF/9HQfBn/ww%2Brf/ADUVifsj%2BELs%2BLYfFWheCtb8O%2BGfD3w60jwlplt4g0aXTrq9ktgZXcwTKsipEZDGrMAGZ5SpZSGPZ/Eb9sz9l/4P/FCD4O/Fr4y6T4X166tI7m0i8Qs9nbTo5YKEupVWBnypygk3DIyBuGearhZe3dOinKyvtd%2Be1/8AgX8ilLS7Mf8A4Qf/AIKF/wDR0HwZ/wDDD6t/81FH/CD/APBQv/o6D4M/%2BGH1b/5qK9f0zU9N1rT4dW0bUYLu1uIw9vc20yyRyqejKykhh7ip65Nijxn/AIQf/goX/wBHQfBn/wAMPq3/AM1FcD4EX/gsZqPxP1Twh8SPFnwF0nw9BBJNo/i7R/hxql9Hd4lVUhktn8QwywylGLnAeMbGG8/Lu%2BpKKuMlFNNJ39dPTX87kyi2007W/H1/pHzV8c9f/wCCh3wY%2BHdx4zs/jx8F9d1B7q3sdH0P/hTWrWjahe3EqwwQLJ/wkcu0tI6gnYcLuY4ANXfiF4g/bC%2BEekWmu/FX9tj4CeHrS9vY7OC71X4KapDC0752pvfxSAM4PJwOO1eg/FP4Dap4/wDiZ4Y%2BKel/EvUbSXwtdm6t/DV7DHc6RdzeRcQrM8W1ZEmUXDFZEkAGASrEDHD/ALSsPxH1/wAS%2BG18MfC3xU3i3QryCTw7rGlvBNoNx9pEdvfR3YkLFIlhknyZIkcqMwsXO0dVKlQqqEL923s12WulvPXd6aHNUqVabnK3a3Veb06%2BXluatp4R/wCCgF/axX1j%2B1T8FZoJo1khmi%2BBWqskiEZDKR4pwQQcgipP%2BEH/AOChf/R0HwZ/8MPq3/zUV5zqfxi1vw/r%2Bl/FmH4k3Wh%2BHIPFmoWen%2BEbG1hTT4fDelieO/upoQm/eXgd1fI2hIwnDEN7D8GPjp4t%2BIfimfwh4%2B%2BF3/CLXz%2BHbLXdOtG1f7TMbS4aRAlwnlJ5E6PGVZAZF5GHJDATVwdWnDm3X5f52vrbQqniqc5cvX%2Bvu%2BZxOpeMf2zfhL8afhV4a%2BKPxb%2BGHiXw/wCPPGt3oOp2mgfC7UdIvLcR%2BH9X1OOaK4m1y7QHzdOjRlaE5WRsFSAa%2Bga8Z/ag/wCS3/s4/wDZZr7/ANQrxRXs1ch0hRRRQAUUUUAFFFFABRRRQAUUUUAeM/t4f8kQ0P8A7LN8OP8A1NdErqPAf7R/w6%2BJ3xY8Q/CLwLDq%2BoXPhUNHr2sx6RKumW12rhWshcsAklwu7cUTdtAOSCMVy/7eH/JEND/7LN8OP/U10SvZURIxhECgkkgDHJ5Jq4uCT5ld9Ndv8/wJkptqzsuv9dDzH4tfCL4m%2BLvjN4P%2BJPw08X6R4d/sSzvLTXNRubF7u5vrOcxMbNItyRqN8SyCZ2bYyDEbBmz1Np8IfACeJrDx3rHh%2B31bxFptq1vZ%2BIdVt45byFGZiwR9oEedxB2BcjAPAFdNRVOvUcVG%2Bytp283u9yVSgpN23dwqvq2r6VoGl3Gua7qdvZWVpC013eXcyxxQRqMs7uxAVQASSTgAVU8aDxk3hTUF%2BHsmmprhtmGlvrEcj2qzY%2BUyrGyuy%2BoVgT0yOteMnWfE/wC0p%2Byp4z%2BGnxAvdK0vxppL3egeJfkMNiNRhKvDKFkZiltcxtbzKNzER3G3cWXNVSo%2B0XM3pdJ91frbt%2Bpbdjd8f/tX6RaWvh5/gR4ftPiPL4itdQvLI6H4ggSCS3soUkmWOYB0knbzYljh%2BXduYllVGNeRS/tIeM77xN4x%2BOHh74qanJaeHrrTL%2Bw8FXa26WN94Yn8mKV0QxiVLxLpL2NpC7BXVFJ2Mqi/4T%2BEXxF%2BLfxq13x7pfhDW/hxfW0VhqUl9qmmo8H/AAkkTtb3LQosgF3a3FnFAkrKUBCxlX3lwvq/gP8AZM%2BGGk%2BENF0n4o%2BGNB8Y6vo2q3mp2%2Br6h4fjC291c3cl1J9mikaUwRLJJ%2B7j3vsCJgkoCPSvgcJGzV3pfZvXXzj2V00%2Bpn78jv8Axr4du/GHg3VPC1h4o1LQ59S0%2BW2h1nSHRbuxZ0KiaEyIyiRSdy7lYZAyD0rx7wD/AME4v2UfB/iCPxz4s8D3XxA8UJy3ir4m6nLr18W7Mpui0cJHbykQDsK91orzKeJxFGDjTk0nvbS/zWvyvbyNHGLd2MgggtYEtraFI441CxxxqAqqOAAB0FPoorEYUUVh/ED4nfDb4TeH5PFnxT%2BIOieGtKi/1mpa/qsNnbr35klZVH504xlJ2irsEm9jcor5ou/%2BCrX7MniG6k0v9nnw/wCPvjFexOUkj%2BFnge71G2Rhx817IsVmBnv52BTB8eP%2BCmnxN/d/DD9hnwn4Etn%2BaHVPix8SUkl29ibLSYbgqcfwmYHscda7P7PxS/iJQ/xNR/Bu/wD5Kaeymt9PXT%2BvuPpqivmYfAT/AIKcePf9J8f/ALfPhTwaj8Sab8NPhPDJtHcLc6rcXB/Hyh60v/DtgeIP3nxV/bq/aG8Tl%2Bbi3/4WQdJtpPUeVpcNthfYk0fVsNH46y%2BSlL9IoOSC3l%2Bb/wAj6XZlRS7sAAMkk8AVy/iH45/BPwkzL4r%2BMPhbTCv3hqHiG2hx9d7ivEk/4JBf8E9rlhL4p%2BBdz4llzl5vF3jLV9WLn1Iu7uRfyGK6nw9/wTV/4J6%2BF1UaR%2BxH8Kwy/dkufAtjO4/4FLEzfrRy5cvtzfpGK/OTC1FdX9y/zNfUv27/ANh7RmK6x%2B2X8KbQjqLn4iaYmP8AvqcVlS/8FJf%2BCecLbX/bm%2BEZx/c%2BImmt/Kaur039k39lfRlC6P8As0fD%2B0A6C28GWMeP%2B%2BYhWpF8BvgbAu2D4MeE0Honh22H/slF8t7T%2B%2BH%2BQfufP8Dg7f8A4KP/APBPe6bbF%2B3N8IcnoH%2BI%2BmL/ADnFbWk/tsfsaa8wTQ/2t/hjek9BaePdOkz/AN8zGuguP2f/AIDXi7Lv4JeEZQeok8N2rfzjrE1X9jb9kHXVK65%2Byp8NrwN94XfgbT5M/wDfUJo/4Te0/wDyT/IP3Pn%2BB1vhz4m/DfxiQvhH4g6Hqpb7o03VoZ8/98Ma3K8E8R/8Es/%2BCcXikEan%2BxH8NIt3U6b4TtrM/nbqmKwz/wAEj/2JdM/ffD7wr4w8G3A/1dz4N%2BJ%2Bu6cY/wDdSO88sf8AfNHJl0tpyXrFP8pILUn1f3f8E%2Bl6K%2BZ/%2BHfPxP8ACg%2B0fB7/AIKRfHjRZ1/1UXiPW7DxFbL9U1G0kkb8ZKT/AIVt/wAFYfh3/wAin%2B078I/iPD18nx18P7vRLgj08/TbmSMH/a8jH%2BzR9VoS%2BCtH5qUfzTX4hyRe0l%2BKPpmivmU/tc/tv/DP/ku//BN/W9Ss4eJta%2BEPjSx11X/2ls7r7HcgewVz9TxWn4O/4KnfsTeINei8GeNfipP8PPEMpwfD3xT0S68N3St02g38ccbnOB8jtycUnl%2BLteMeZf3Wpf8ApLb/AAD2VTor%2Bmv5H0PRVfStW0vXdOh1fRNSt7y0uIw9vdWsyyRyqejKykhh7irFcexmFZ3irwh4T8daJN4Z8beGNO1jTbgYuNP1WyjuIJR6NHICrfiK0aKabi7oD511L/gml8FPDGoT%2BJf2YPGPi34M6vNIZXf4e600WnTSdR52mTiSzkUH%2BERL9RVdvGH/AAUa/Z7/AOR5%2BH/hv45eHYfv6t4MK6F4hSMcl3sLh2tblsdFhmiJ7L2P0lRXYsfWnpWSqL%2B9q/8AwJWl%2BLI5EttDyL4Iftyfs5/HfxA3gDQvF0%2BheMYB/pngTxlYSaTrVuepH2W4CtKB3aLen%2B1XrtcR8cP2bPgT%2B0l4fXwz8cPhdpPiK3hO60lvbfFxZv8A34J0Ilt3/wBqNlb3rx5/gv8Atp/srf6d%2Bzf8T3%2BLHhGDlvh18TNT2arbxj%2BCw1nGWPQLHdq4AGPMHWn7LCYj%2BFLkl2lt8pf/ACSXqF5R31PpiivI/gD%2B2j8IPjzr9x8OCmp%2BEvHunRb9W%2BHnjKz%2Bw6tbDvIkbErcw8ZE0DSIQQcjOK9crlq0atCfJUVn/X3rzTa8yk01dHnHjz9lj4O%2BL/Dni3TdF8GaVoOp%2BMbfbq%2BuaZpMInmlDiRZJMriX94qsytkSYw2c1pfCb4RXngHUtZ8ZeLfF7%2BIfE/iFoBq%2BsGzFtGYoA4gt4YQzCKJPMlIUsxLSuSxJrtaKp16zg4OWn9dd7aLTyRmqNJT5ktf6/zf3njH7TrF/jb%2BzkShX/i89%2BMH28FeKOa9nrxn9qD/AJLf%2Bzj/ANlmvv8A1CvFFezViahRRRQAUUUUAFFFFABRRRQB4P4U%2BM37QWh/tn2/7OnxC8QeCPEml6z4R1XxEsXhXw5eWN74VtoL22gsVvpZr24juhdCa4VHWO1JexmKJIqyGLC%2BFn7U/wAXdd/bS8VfA34seJtE8M6Lb%2BJ7nTfAGgX/AMJ9btLnxPbRaXb3ZuLXXp7safdyK7XZa3ggaQR2rkgBGcdF8Jv2Jbz4OfELxv8AEbw5%2B1l8Tbu68fa5PqutwatbeHZws7sgiWOb%2ByBceVbwotvDE8rpHFwFLfPW/ffstQeIvjlovxr8e/G/xr4ih8La1c6v4R8HakdMj0nRb6azuLJp4vs1lFdTFba7uo0FzcTKonYgblRlAOM/4KF/Fz4UeGvB/gz4UeI/id4e0/xT4g%2BMPw9l0Hw1e61BFqGpJH4z0ZpGt7dnEkwVVYsUUgBSTjBr6Hrxn9vD/kiGh/8AZZvhx/6muiV7NQAVxvx1%2BP3wn/Zu8BTfEf4weLItL09JVgtowjSXF9cNxHbW8KAvPM54WNASeT0BIyP2nP2mfCH7M3gq21rVtKvNc1/W70ad4O8H6QA1/r2oMPkt4V7AfeeQ/LGgLN2B4j9n/wDZS8X6l49g/ao/bF1Oz8R/Ex4mGh6TbEvpHgm3fra6ejcNMRgS3bfvJCMKVThuyjh4Kn7au7R6JbyfZdkusnotld6KXJ3stz0D9nP4l/Fz4t%2BDbrxx8VfgpN4DjvNQZvDuialqKzaidP2J5ct7Gi7Ladm3kwhnKAqGO4Gk0f8AZl%2BF2m/GLW/jtqNvf6r4h1wQpLJql%2B0ltaxRKqxJDbLthUrtyJSjS8kGQjivQaKxdaSnJ0/dT0sr7dtdenz/AAHbTUKKKKxGFFFeI/tHftyeBPgn4ut/gn8PvCWqfEj4qalb%2BbpXw48JlGukjOMXN7Mx8rTrXJGZpyOD8qvjFa0aNWvPkpq7/rVvZLu20ioxlJ2R7ZJJHDG000ioiKSzMcAAdSTXzp44/wCClvwhn8U3fwv/AGW/BviH43%2BMLSTyrrS/hxbpNp%2Bny9he6rKy2VqM8EGRnUjlKw7X9ib44/tVyL4k/wCCi3xa%2B26PKwkt/gr8Pr2ey8PW69Ql/cqVudWcYXIcxwbgcREGvpLwJ4A8C/C/wraeBvht4N0vw/othH5dlpOjWEdtbQL6JHGAq/gK6eXBYf4n7SXZO0V895fJJeZdqcN9X%2BH/AAT52X4Wf8FLP2if9I%2BLnx48PfBHw/P97wz8LbNdW1sxHqkurX0fkwyD%2B9b2x9nrf%2BH3/BMD9jTwZ4gj8deLPhnL8QvFK4L%2BLfinqk3iK/Zs53hr1nSE/wDXJEA7CvoGiplj8TblpvkXaK5fva95/OTE6s9lp6af8H8SOzs7TT7WOxsLWOCCFAkUMKBURRwAAOAB6CpKKK4zMKKKKACiiigAooooAKKKKACiiigAooooAKyvGXgXwT8RdBl8LfEHwdpWu6ZOMT6brOnxXUEn%2B9HKrKfxFatFNNxd1uGx806r/wAEsf2e/DmozeJv2X/FHjL4JazNIZXn%2BF/iKS0sZn6jztMmEllIueq%2BSMjuOCKj%2BIP%2BCoH7N3zeJvC3hP8AaE8NQ/fvvDoTw14njTqXa1lZrG7IH8MckBY9F5Ar6horsWPry0rJVF/eV3/4FpJfezT2sn8Wvr/nueL/AAF/b7/Zu%2BP3ih/hnpniS%2B8LeOoFzefDvx5pkmj65B1PFtPjz1wM74DIn%2B1XtFcF8fv2X/gB%2B1H4XTwj8e/hXpXiO1hbfZTXcJW5sZOvm21xGVmtpBgfPE6t714fL4B/bm/YiH9ofCHxNqXx8%2BGttzP4K8VXyL4u0mEdfsOottTUlUZIgutspCqqzEmq9jhcT/Blyy/lk9H6S0%2B6SX%2BIfLCfwuz7P/P/AD%2B8%2BraK87/Zv/ao%2BCv7VfhKfxV8IPE7zy6dcfZdf0LUbZ7TU9EuxndbXtrIBJbyggjDDBwSpYc16JXHUp1KU3Cas10Zm04uzCiiioEee/tBfsu/BX9pzQLfRviv4U8%2B606XztD1/T52tdT0ecYKz2l1GRJA4IB%2BU4OBuDDivHR8Zf2iP2Ep00n9qq%2Bu/iF8K1cR2fxd0%2Bw/4megx5wq63axDEkYHH22FccZkRS2a%2BpKZcW8F1A9rdQpJFIhSSORQVZSMEEHqCO1ddHFOEPZVFzQ7Pp5xe8X%2BD6pkuN3dblbw74i0DxdoVn4o8K63aalpuoW6XFhqFhcLNDcRMMrIjqSrKQQQQcGrlfKni74VfED/gnvrl58Y/2YvDt7rvwmurl7vx18I7Fd8uihjul1PREP3ccvLZDCONxj2tgD6Q%2BG3xI8C/F/wJpXxN%2BGfie11nQdbs1utM1KyfdHPG3f1BByCpAKsCCAQRSr4dU4qpTfNB7Pqn2kuj/BrVO2xGV9HueaftQf8lv/AGcf%2ByzX3/qFeKK9mrxn9qD/AJLf%2Bzj/ANlmvv8A1CvFFezVylBRRRQAUUUUAFFFFABRRRQAUUUUAeM/t4f8kQ0P/ss3w4/9TXRK9E%2BLXxU8D/A/4aa58XPiVrSafoXh7TpL3UrpxkrGgztUdWdjhVUcszBRyRXnf7eH/JEND/7LN8OP/U10SuO%2BP9sP2ov2y/CP7K8n77wf8PrKDx18RYBzHe3fmtHo2nydivmxzXbowIYW8eetdOFoxrVff0ik3L0X6vRLzfkTJ2Whd/ZG%2BDvjj4geMJ/25P2mNEe38beJLIw%2BDvDF18y%2BCdCc7o7RAel3MuJLmXAYsRGNqoQfoqiioxFeWIqcz06JdElsl5L8dW9WxxSirBRRRWIwoorwH9uz45fEfwrp3hj9mj9nW/jg%2BKPxYv5tN8O6hJF5ieH7CJA%2Boa1IvQrbQsNik/PNLCuDkitaFGWIqqEevXoktW35JXb/AOGKjFzlZGD8cf2jvjB8evixqf7Hn7Deq29lqmjssXxN%2BLFxbC4svBquM/Y7ZD8t3qjKciInZAMNJz8o9T/Zn/ZR%2BDv7KHhCfwz8L9HuJL7U7j7V4l8Uazcm61bX7w5LXV7dP888hJY84VckKqjitD9nH9nn4b/st/CHSvg18LdOki0/TkZ7i8upPMutSunO6e8uZTzLPK5Lu56k4GAAB3Nb18RHk9jQ0h%2BMn3l%2Bkdo%2BbuypTVuWO35%2Bv%2BXQKKKK4zMKKKKACiiigAooooAKKKKACiiigAorn/8AhbHwv/4WGvwjHxD0U%2BKXs2u18OjU4je%2BQpwZPJ3bwvvjsfQ14D%2B3z46%2BLWv/ABS%2BFH7JXwe1ebw/qXj3XZtRuPFcesS2xtrTTPLuLiBUiGZjJGx%2BRjsOACPm3L3YPAVcXiY0n7t05Xd0lFJty81ZPa9%2BlzgxuYUcHhZVl79mo2i025NqKj2Tu1va3Wx9PUUUVwneFFFFABRRRQAUUUUAFFFFAHhH7Tn7E9h8VPFkH7QnwH8YN8O/jFpFv5eleNtNgDRalCMH7BqtuMLfWjYA2v8APHgNGykYNn9kv9ri%2B%2BNOp6x8EfjX4MTwV8XvBsaHxb4PacyQ3EDHbHqenynH2mxlP3X%2B9Gx8uQBgC3t1eE/tvfsy%2BKfi1oelfG/4BXkGk/GL4cvJqHgLWJPljvgR%2B/0i75G%2B0ukBjYE/IxSQEFTnvo1oYiKoV3ptGX8vk%2B8e6%2BzuuqesZKa5ZfJ9v%2BB%2BR7tRXn37LP7Q/hb9qj4EeH/jh4UsZ7FNXtmXUdIvBi40u%2BidorqymBAIkhmSSM8DO3I4Ir0GuOpTnSqOE1Zp2Zm04uzCiiioEFfKfiix/wCHdXx0X4kaAvkfBD4k66kPi/TF4g8Ga/cOEi1OIdIrO6kKxzrwscrJICAxWvqysP4l/Dnwf8Xvh9rXwu%2BIGjx6honiDTZrDVLOQcSQyIVYA9jg5DDkEAjkV04WuqM3GavCWkl5d15rdPvps2TKN1puea/tQf8AJbv2cf8Ass19/wCoV4or2avmLUfhz46%2BEK/snfC/4j/EEeKtW0D4rXtjJr5tTC95DH4M8UrA0ilmJkEIjV3z87qzYG7A%2BnaxqRjGbjF3Se/fzGtUFFFFQMKKKKACiiigAooooA5DwL%2B0H8A/ih4y1n4dfDT43%2BEPEXiHw67J4g0LQvEtrd3mmMrmNluIIpGeEhwVIcDDAjrVi1%2BNvwZvvinc/Auy%2BLnhibxvZ2AvbzwdFr9u2qwWpCkTvaB/OWMh0%2Bcrt%2BZeeRXzX8NfivpnxY/bf1b4p%2BLPhJ8RfCWk/CzSda8L%2BBdNuPg14hh/tr7VeWZ1HVmuhYfZ3gkltIEtYIpGZ41muXB3xiHmfB3w/wDiDF%2B1J4e%2BG8vwo8UQ69oP7TviTx7rXjOXw1dJpU3h280LU7e2kTUzH9mnkK3thp/2VZDMn2ZmMYjhV6APe/28P%2BSIaH/2Wb4cf%2Bprolcz%2BwBH/wAJlr3xr/aAvv3t14u%2BMWqWNrc/3tN0gJpdqg/2QbeZx7ympf8AgoXpvxXn8H%2BDNR8OeNPD1r4Wh%2BMPw9GvaNe%2BGJ7jULxz4z0by2t7xb2OO2CttLB7aYsAQCmQQ7/gmPNHH%2BzVqGgPbpDd6N8TfF9jqMSFvlnXXr1mzuJOSHUn68YGBXbR0wVZrq4L5Xb/ADSIfxr5n0LRRRXEWFFFFABXzB%2By1aN8aP28vjv%2B0lqzfaLfwfeWPwz8H7x/x6Q2tvFf6mV/663d3GpPXFqozxgfT9fNH/BNxhY337QPhm6%2BW9sP2kvEsl1G3DbLlLW7hbHoYZ48H29q7cN7uFryW9or5OWv5JGkNISfp%2BZ9L0UUVxGYUUUUAFFFFABXyx%2B2J/wVi%2BC/7HPjzUPhZ4s%2BFvjbVdcttOS4s5rXTYodOupJI96Ri5llDFegZ445Ap3DDMrKPqesD4ofDDwJ8Z/AGqfC/wCJnhu31bQ9ZtjBf2FymVdchlYHqrqwV1cYZWVWBBANd2XVcvo4pSxtNzp9Upcr3Wt7O%2Bl9NL90efmdLMa2EccDVVOp0co8y2elrq13bXW3Znxp8H/2p/21P%2BCk3w/vvFfwjl8LfBnwBZawbLxB4mk1aS%2B1mMRJFNMLZmijhQeXIuZHVcZOG4NfMP7Vfxd/Z28OeCJtT/ZM/wCCjfxt1v4i2OqiB4NR13UpI9YRpPLkMU0aRJHjO9WDMHUbdpLBh9ieH/8AglN4jstLg%2BCviP8AbB8Y3vwfs45jbeB9PtodPuZ2kGwxXV5AAbmHbn5GQZJ4xjmv4X/4JI6t8D/ibr/jv9kP9rPXvhnYazZ20Eeh2uiJqMcflIMmV7mY%2BfmQFxlQU8x1Bw2K%2B9wma8OYPEydKoowWsIKD5Wu1WUoVJyk1uklGOybep%2BfYzKOJsbhYRq0nKb0nN1FzJ6%2B9ShGdOEYp7Ntylu0lofBvhP9qH45/DHxdaRftD/EL9pnwl4eng8qae18azvPHcLExJjhvoUSRWcAbPMUopJ3OVw3cfsXft3/ALWl5%2B0d4X03x/8Atc2Wm/D3%2B1G1DVz498WabdsumtuzbyzMUmedljEaqApjkcSGNELZX/gpj%2B1D%2B0DeaZrv7Gf7S/hXwh4s1LwTqtncw/EHS7W9tSJLi1EsBMUTLElw0MsmVceX8rYVigY/Hfww8J%2BOviH4wtvh38L/AAZLruta7G1nbaZDYLcyyk/OWjBUmIqqbjICNqqxLBd1fc4bLsLmmVzrYilCHPF6rknFRtdTi5Ri07O/vWasrpbv4HFZli8qzaFHDVqk%2BSS0fPCTlezpyUZzUldW926d3Zu9l/QN8Jf2sv2bvjx4pvPBXwc%2BMmieI9UsLP7Xd2mlXPmFId6oZMgbSAzKCQTgsPWvmH9sj/gjX4A%2BJ9z4p%2BO3wC8X%2BI9K%2BJl/eSarYx3WvD7DPeNKJJBuaMyxFhvVCJAqMVyAo47D9lD9n/8AZS/4Jf8AwLsfH/xP8UaToHiXXLCxsvF3iHVNXMizXzIZTaQDJUIG8wgRqCyxb2JCZX5v/wCDhH4kap8VPgP8OLP4E/G3RNQ8Panf3Fzrmg6V4jh8/VY5EhNlcCFX3TQoVnBwCA0iHGRkfi2Nx%2BY8O1qmK4fp1ayVopKN3VaaurKLTjfW2/Lq7X0/ozg/hvI%2BP8zwuUcVY3D4GNS7nVqTtChHklJSvKcWptR5Y3ai52V%2B/wAyfC79kf8A4KS/Bj462fi/wP8AADxlpvijw9PJcw65JoiS2qMVYSP9plzbT5V26uwYE9hX6E/8E1fD8n7Uup2v7cPxW%2BPHiLx14k8Pi98PaZY6z4bs9Lg0K4ZY2uTDFayOkhaORVEuQSrHcucBfnD9ir9qnx38CP8AgnN4i/Z6/a8%2BCXxj1ex1G31ay07XrTw1Ktlp%2Bk3NisUNr9smxtYzGYKdjKglXqF2j0b/AIJh/tz%2BK/h/%2Bzz4V%2BCx/Yz%2BJWvi1vmt5vEvg7wYpsdks52SSugRWZUK75WILbSWJOWP2WKzDP8AiLh14vEYNUK3uxavDmUWpOcXKUn1SXKnFpPW92l%2Bf4zIeFeCeOKuU4DNFjsLCU3GrFVPZ1JRlFU5xioLdNvmlGSvFpNcqk/0cooor8yP0MKKKKACiiigAooooAKKKKACiiigD5h/Zytl%2BB3/AAUP%2BNH7PliPK0Txzo2m/E3QbRPuW93O8mn6rj/rpPbW05H96dj/ABV9PV80TMupf8FirX7Ed39j/s1XC6iV/hN34ggMAPuRZ3BH419L12473pwm93CLfrZr8oo0q6tPyX9fgFFFFcRmFFFFAHjP7UH/ACW/9nH/ALLNff8AqFeKK9mrxn9qD/kt/wCzj/2Wa%2B/9QrxRXs1ABRRRQAUUUUAFFFFABRRRQAUUUUAeM/t4f8kQ0P8A7LN8OP8A1NdErlv2Wph8Iv2wvjd%2BzfqB8qLXdWtviN4WD9bi21CNbe/2%2B0d7bMT/ANfKnvXU/t4f8kQ0P/ss3w4/9TXRKwf27PBHjHwqfC/7Z/wi0OfUfFHwouJ7jVNGsx%2B913w5OqrqVio/jkCIlxEDnEluAAS9duCanKVCT%2BNWX%2BJO8fx0/wC3iJ6a9j6EorG%2BHfxB8HfFjwJpHxL%2BH2vQanomu6fFe6Xf27ZSaGRQyt6g4OCDyCCCAQRWzXHKMoyaas0XuFFFFIAr5SdI/wBkz/gp1e%2BI9Wu54/CH7S2k2dtHczzk29j4u0m3aOKADhIvtlhjb/FJLZ45yoH1bXn/AO0/%2Bzn4J/ap%2BDGqfB3xvcXNmt2Y7nSda099l5o%2BoQuJLa%2BtnHKTQyqrqR1wVOVYg9WErQp1HGp8Elyv0ez%2BTSfnZrqXTkk7PZ6HoFFfPX7H/wC1J401zxJefsjftXw22k/GXwnZh7kxp5dp4w00HbHrWn5wHjfH72IfNBLuVgBivoWs69Cph6nJP7%2BjXRp9U%2Bn%2BaaSlFwdmFFFFYkhRRRQAUUUUAFVddOtrol43hqO1bURayf2et8zCEz7T5YkKgsE3YyQCcZxVqimnZ3E1dWPzm%2BBHwT/4LDaJ8eviV8TtS8B/DzRz4ylhvtasvEk8V3pusSQHyobaFoZZrmJBE0m0SMFUYBAJ48ib9sn/AIJ8/tS%2BLLQftPfC3XPhHq2hWd3aweI/hlelbW8WX5JVkjithKu5dwAKPlWcMecV%2Bu1cn8RvgN8FPi9ocnhz4n/Cjw9rtnLuJh1PSYpSjMCC6MV3I/Jw6kMCcgg19lh%2BKcPKu6mJocrtFKVF%2BzlFJcvVyUtEklJaWsmfE4nhLEQw6p4XEcyvJyjWXtIybfN0UJQ1bbcWrt3aPy40z9lX/ghv4ptZF0D9ubxrazujCB9VZIER%2BxZZtLjJAPbcMjuOtfdH7Cv7Gv7FHwb%2BHel%2BL/2f7XQvGN0VY/8ACwJHgvbu4kLEnbKuVg25C7IwuAo3ZbJPzx%2B3x8UfDP7A8Hh/9lj9iv8AZr8C3154j028vL20l0d9Wv7KQBEWfySWZ2KBmV5t4PlcqVUg%2B4f8Ek/2f9X%2BCf7LUPiHxh4Y1zQ/EnjTUZdX8QaPrMkaiCYsY0eOCOKMWyvGqP5RBZdwUn5QB6We4nGV8hWJeJq8k5LkjOcG5rVNtQjBxSt15k/uZ5eQYXBYfiF4VYWl7SnF884QmlB6NKLnKcZN36csl96PqKiiivzo/SwooooAKKKKACiiigAooooAKKKKACoNS1LTtG0641jV76G1tLSB5rq5uJAkcMagszsx4VQASSeABU9fIfxw8Y6r/wAFGviZqP7HHwV1W4T4U%2BH9QEHxy8eWExSPUmQhm8M2Mq/fkk4F3IhxFETHnfIVrow2Hdebu7RWsn2X%2Bb2S6vTu1cIcz8upvf8ABO2LUPjT4i%2BJX7fWs2UsEHxZ1yC28Cw3MZV4/CumI9vYS7WGUNzI91d47rPGfSvp6q2i6NpHhzR7Tw9oGmQWVhYW0dvZWdrEEighRQqRoo4VVUAADgAVZpYmt7es5pWWyXZJWS%2B5ffcU5c8rhRRRWBIUUV5R%2B2L%2B0Tc/s6/CNtT8JaSNY8a%2BI72PRPh94cU5fU9YuMrChHaJOZZWOAscbnI4rSlSnXqqnDd/193V9kmxNpK7KH7UH/Jb/wBnH/ss19/6hXiivZq%2BYtR%2BFviH4Lr%2Byd8NPGHj3UfFGs6Z8Vr0az4g1S7kmlvrx/BfimSeQNISyx%2BY77E6IgRRwor6dpVIxjNqLuk9%2B/n8wWwUUUVAwooooAKKKKACiiigAorxf9jn4u/HD4lXXxS8HfH698KXes/D/wCJjeHra%2B8H6Lc2FrcWraNpWpIWiubq5cyK2oPGXDhXEasETJFcl%2BxR%2B1P8XfjP8QvEfgj49%2BJtE0fXbW51iXSfh%2BfhPrfh/UE0211aS0hv477UbuSHV4Gh%2Bys8tpCsavdR5Zd6qQDr/wBvD/kiGh/9lm%2BHH/qa6JXs1fPH/BQv4ufCjw14P8GfCjxH8TvD2n%2BKfEHxh%2BHsug%2BGr3WoItQ1JI/GejNI1vbs4kmCqrFiikAKScYNfQ9AHyffSXf/AATP%2BJt3rgt5G/Z88Z6w1xf%2BShZfh3q9xJ88u0fc0u4kbLY%2BW3lYn5Ufn6ss7yz1Gzi1DT7qOe3njWSCeGQMkiMMqysOCCCCCOtRazo2keItIutA1/S7e%2Bsb63eC8sruFZIp4nUq8bowIZSCQQRgg18tHwz8XP8Agm5dyX3w40PWPHfwFaRpLrwtaBrrWvASk5aSyUkve6cMktb5MsI5TcoYV6Pu5gtXar%2BE/n0n66S7qXxZ/B6fl/wD6uorn/hd8Vfhz8a/A1h8S/hP4zsNf0HVIfMstT02cSRyDuD3VgeGRgGUgggEEV0FcEoyhJxkrNGm4UUUVIHl/wC1J%2Byb8N/2qvC1jp/ii6v9F8ReH7s33gzxv4fn8jVfD17jAntph0BwA8TZSReGU4BHk/g39s/4nfsu%2BIbL4L/8FI7Kz0sXE62nhr43aTbGLw34hJ4RbzqNIvGHWOU%2BQ7BjHJjC19UVQ8UeFvDPjfw9eeEfGfh2x1fStRt2g1DTNTtEnt7mJhhkkjcFXU9wQRXXSxMVT9lWXNDp3j5xf5p3i%2ByeppGatyy1X5en9WLltc295bx3lncJLFKgeKWNwyupGQwI4II5zT6%2BV5P2Jvjt%2ByvcSa7/AME6/jDBp%2BhBzJN8GPiJLPe%2BHWyclbC5Ba60onLEKhkg3EfugBWj4X/4KYfD3wlrtr8Pf21PhvrnwK8TXEohgbxltl0G/k/6dNZhzaSDpxK0L88pVvBSqLmw7512XxL1jv8AOPMvQfs29Ya/n93%2BVz6XoqDS9U0zW9Og1jRdRgvLS5iEltdWsyyRyoRkMrKSGBHQjip64djIKKKKACiivkW0/bU/aO/bD8Va34D/AGC/AOm6PpHh6/fT/EPxE%2BIaNGLa5B5jtrBcyNIB8wMoA7Oqd%2B3B5fiMbzShZRjbmlJ2jG%2Biu/Pokm30RwY3McPgHGM7uc78sYpuUrauy8lq22kluz6d%2BKF%2BNN%2BHOu3Y8fWfhVxpM6weJL/yzDpcrRlUuXEpCMEYhtrEA4wetflH4C%2BM3/BRX9o74%2BWH7J1p%2B05qPxB8JJrFv/wk/iH4cTwWiR6cZcSSPqSWqvGNgY7WLByQoDEgV9uaF/wTH8E%2BLtStvFX7XPxp8ZfF/VoZhO9n4h1NrfRo5vWGwhISNefuFmU9xjivovwp4N8IeBNHj8PeCPCum6Np8IAisdKsY7eFABjhIwAPyr3cFmmXZHRqQpRVectnKCUYOzScXK821e%2B0VezseBj8qzPPq1OdWTw8I7xjNuU1dNxkotU0na28pJNq5wH7PP7GX7OX7Lj3V/8AB/4dxWeqagmzUtevrmS7v7sE7iHnmZmALAEqu1SQDjgV6jRRXzdfEV8VVdStNyk%2Brd3%2BJ9Rh8Nh8JSVKhBRiuiSS/AKKKKxNgooooAKKKKACiiigAoorn/iZ8WPhh8F/Ck/jr4u/EPRfDGjWw/f6pr2pxWsCnGcb5GALHHCjk9hTjGU5KMVdsaTbsjoKwfiZ8Ufhz8GfBN/8SPix430zw7oOmReZfatq94kEEK9ssxAJJ4CjliQACTivniX9vP4u/tGk6N/wTz/Z2vvFFnMdo%2BKfxBhn0XwtAP8AnrCHUXepgHIxBGqHg%2Bbitb4c/wDBPXTNa8bWHxt/bU%2BJt58ZPHGny%2BfpMes2a2/h7w/J66dpSkxRuOB58plmO0NvU13fU40NcTLl/urWX3bR/wC3nf8Aumns1H43by6/8D5/ccleeL/2jP8AgpUp0P4WL4g%2BFHwJueNQ8a3UD2XiXxrbnrFp0LgPptm69bqQCaRWHlooLGvpr4T/AAl%2BG/wL%2BHelfCf4R%2BDrLQPDuiWot9M0vT4tscSDkn1ZmJLM7EszMWYkkmuiorGviXViqcFywWyXfu31fm9tkkiZT5lZaIKKKK5iAoorzf8AaO/ao%2BFX7Meg2l543u7u/wBa1iY2/hfwfoVsbrVtdue0Nrbr8znOMucImcsyirp0qlaahBXb6CbSV2b/AMaPjR8Nv2ffhtqfxZ%2BLPiaHStE0qHfcXEnLSMThIo0HzSSu2FRFBZmIAFeOfsyfCf4kfGL4pn9uL9pzw1LpOtTWMln8MvAt4QzeENIlxvlmHQajcgKZiOY0Cwg8MKb8JP2bvip8bviPpn7UP7b1varqukzfafAHwtsrkXGmeESR8tzO4%2BW91LbwZsbIiSIh0YfR1dk508JTdKm7zekpLZL%2BWL6/3pddlpduUnJ3ex4z%2B1B/yW/9nH/ss19/6hXiivZq8Z/ag/5Lf%2Bzj/wBlmvv/AFCvFFezVwFhRRRQAUUUUAFFFFABRRRQB4v8Cf2PNY%2BBPjTxf41tP2sviV4jk8ceK4fEGvWPiG08OiB7tLW3syE%2ByaRA6Rvb2ltEwD5xCGUq7Ozanw//AGWoPCfxoX48%2BNvjf418da9ZaHfaN4d/4So6ZHBoljeXFtcXUNvHp9la7zI9lZgyXBmkC26gONz7/VKKAPGf28P%2BSIaH/wBlm%2BHH/qa6JXs1eM/t4f8AJEND/wCyzfDj/wBTXRK1/Df7XXwd1n4y6j%2Bz94hvL/wx4utLp49O0nxTZGyOtwqcC5sJGOy7ibnARi4wdyLitIUqlRNwV7av07kTqQg0pO19Een0UUVmWfPXxL/Yr1/wl44v/jz%2BxH47tvh74y1CXz9e0G6tml8NeKZPW%2BtEIMMx6fa4NsoySwkzUvw0/bz8PweL7T4L/tZ%2BB7n4SePblvLsbPXrlZNH1xhxu03UgBDcZyP3TlJgW2lCRmvoCsL4j/DH4d/GDwhd%2BAPip4I0vxDot8u260zV7JJ4ZPQ7XBAYdQw5B5BBruji4VYqGJXNbaS%2BJfPaS8pfKSI5WtYm7RXzQv7Jv7R/7NH%2Bl/sQ/HIXnh%2BHlfhV8Urie/02NB/yzsdQBa7sgBwqMZo8n7oFXdF/4KK%2BCvBWqweDv2x/hlr3wW1uaURRXfilVuNAvJD2t9XgzbMMc4mMLDPKih4GVRXw8uddlpL5xev3cyDnS%2BLQ%2BiqKq6LrejeI9Kg13w9q9rf2N1GJLW8srhZYpkPRldSQw9watVwtNOzLCqPiTwz4b8ZaFdeF/F/h6x1XTL2IxXmnalaJPBOh6q8bgq49iCKvUU02ndAfP/g7/gm/8Cvg/wDEqw%2BI/wCzf4k8X/DKK31RLzVfCXg3xE8Xh/WAGy0U%2BmzCS3RWGRmBYmGeGBrp/wBsvxRrOhfCvTvD2i%2BJLvRW8VeMNI0C61uxlMc1hb3V0iTSJIP9WxjDIH42lwQQcV6zWf4p8J%2BFvHPh%2B68J%2BNvDWn6xpV7H5d7pmq2aXFvcJkHa8cgKuMgHBB6V0rFVKlaM6zcrd9/ve/zvtbYvnbknLU%2BdvhP4s%2BJfh79lX4l678DZdd8VLpniDVIvhf8Abb6XVbm5tUWNYxFLdylrmNJvOCeZIc7Cu7AAF7wR%2B0/8SofAPhvRdJ1DSPiP408Rare2Vtb3mlTeE10/7FEz3f8Aaau149tJG6qhCRklpo8R7cvXrHif4EeCNe8Nz%2BG9CutW8LrK1sYrrwhq0unS2/2dPLiWPyiEVFT5fL2lGGAynAx5r4s/YgnsdI0mH4FfFebw1qlpba5Bq%2Bt65pjatc6kdW8o3d4zedDtvQ8KvHKd8SZZfJZSAvVGtg6rfPo276rytq10vrpa7v0ZopU5blzw/wDt8fCLV9K8K317oOvwyeIdI0q/1b7Pppng8OLqMz29ot9MpAi8y4jliGASDGWYIuDWT4%2B/4Jf/ALK3jzx3rPxLSz8U6HrWv6hJfateeHfF95a%2BfcSHc8mwOVUkknAAHPAFYOofsafELSvF2s/CnwfpGkp8O/FGpaFcajr82rt9vs9P062iRtNFt5WJGlmieTz/ADMAXco2Aou73r406R8Z9a%2BH9zYfAHxpoOgeJjNE1nqPiXRZNQs1QODIjwxzQsdy5UEONpOcHGK0jiZYGqngqrhzbu/S91zaPZ9LPa/U4sdl%2BX4%2BMY14KaTur628%2B67aHz1%2BytqXxa%2BCv7aXib9i9/jDqnxA8E6V4Ii8QW2peJiZ9U0G4luI4otPlusgTK0e%2BVQVBClcYCtn6wr85k/Yc/4LM/DT4t%2BMvjj8H/2j/hU2ueOb9LnxEXa5ijmWIv5MMUd3YXhijjWQoq%2BbwoUFjtGO4%2BDH7c3/AAURtfiVrP7Lfjr9kPw14%2B8ceD9MjvPEOs%2BHfiBDptv5UsatArLJbvEJn3D5S8RIO4RBVJr1Mzy6OPf1nC1qc%2BWEedJ8ruklKbTjGOsmlo9dHa7Z4WV1q2XTWDxUJR55zVNuSlG124wUuZyXuptcy7xvoj7hor5p/wCGuf27LP8A5C3/AASk8WsO76Z8U/Dc4/APdRt%2BlH/Dbf7VUXF1/wAEr/iuD38rxN4ckH5jUa8D%2Bz8T05f/AAOH/wAkfT%2Byn5fev8z6Wor5p/4bV/a1n%2BWw/wCCVnxRZu32jxd4biH5nUDQP2r/ANv68/5Bn/BKnXYs/dOrfF/w9CPx8mWYj8qP7PxHXl/8Dh/8kHsp%2BX3r/M%2BlqK%2BaT8av%2BCp3iI%2BVof7Cfw28PE/dn8SfGuS5A9ylpph/IMaT%2By/%2BCwPiT9zd%2BLv2dPCcb/eksNH1zWpox/smWa0Qn6rR9SkviqQX/b6f5Jh7N9WvvPpeivmf/hkj9u3xd%2B6%2BJ3/BUDXba2k/11p8PfhlpGkEeyzXIvJV%2Bu78KQ/8Eqf2fvFH/Jd/ij8XfigO8Hjv4qalJbE/9e1pJbwY/wBny9vtR9XwkfjrX/wxk/z5UHJTW8vuT/4B6P8AGb9t39kD9nlJf%2BF0/tLeC/D08P37C/8AEEH2snuFt1YysfZVNea/8PK4PiQPs37JH7I/xZ%2BKDS/8emtJ4ZPh/RJD6m%2B1c24K%2B8ccn05GfUvg9%2Bxv%2Byd%2Bz95cnwU/Zw8FeGZ4h8t7pPhy3iuW92nCeYx92YmvSqPaYCn8MJSf952X3R1/8mC9JbJv1/4H%2BZ8wnwf/AMFTvjxz4v8Aij8P/gXok3J0/wAGWDeJtdCHgxteXixWkTY/iS3kx2Ppu/DT/gmf%2By74L8VwfE34iaRrHxS8Z2/MXjH4r6w%2BuXkJzkGGOb/R7XB6eRFHjt0FfQNFKWPxHK407QXaKt97%2BJ/OXyB1ZWstPT%2Br/iAAUBVAAA4AooorjMworzzxb%2B1T8CvC2ieLNUtviBp2tXXgq0kn1/RdBvobm9gKFQY/LDjD7mRTuKhWcBiua868YftQfFDxprugfCn4eaQngHxVf65c6frkXjDTor82EyWD3ltEot7lY3W4CECZXcDy3XbuZSOqng8RU6WXd6dL%2Bu3k%2BhLlFH0RVPxB4h0Dwlol14l8Va5Z6ZptjCZr3UNQuUhgt4x1d3chUUdySBXN/An4nXXxc%2BG1r4u1TSF0/UEurqx1WxRyywXVtO8EoUnqpaMsp/usted%2BI/2D/Avxa%2BKN38Sf2mPHuvfEi0j1Rrnw14L16VI9A0WPdmNRYwqsd1IoOPNuPMJGOAeamFKlGpKNeXLbsrt%2BS6fNu3qDbtoczqH7Yvxa/acu5fB//BPvwNDqGm%2BY0N/8ZPF1rLD4fs8HaxsYvll1WUYYDZtgDBd0hBxXd/s8fsceBPgbr158UfEniDUvHPxH1iER678RPFBWS%2BmTqYLdVGyytgSdsEIVQMZLEA163Z2dnp1pFp%2Bn2scEEEaxwQQxhUjQDAVQOAAOABUlaVMX7jp0Y8kXv1b/AMT/AEVo%2BTBR1u9Qooplzc29nbyXd5cJFFEheWWRwqooGSSTwAB3rjKPHP2oP%2BS3/s4/9lmvv/UK8UV7NXhXx68U%2BGfG3xR/Zo8U%2BDfENjq2mXvxjv3s9R026SeCdf8AhC/FI3JIhKsMgjIPavdabTTsxJpq6CiiikMKKKKACiiigAooooAKK5n4WfGn4OfHPRLvxN8E/iz4Z8Y6bYalJp19qHhbXrfUILe8jCtJbySQO6pKodC0ZIYB1JHIpPB3xt%2BDPxE8X678Pfh/8XPDGu6/4WnEPibQ9H1%2B3urzSJCWAS6hjdnt2JVgBIFOVPoaAOA/bw/5Ihof/ZZvhx/6muiV3fxj%2BBnwj/aB8IP4F%2BMngLT9f0xm3xxXsXz28naWGRSHhkHZ0ZWHY1wn7eH/ACRDQ/8Ass3w4/8AU10SvZqqE505KUXZrqiZRjOLjJXTPnFfhl%2B2b%2Byz%2B9%2BCHjP/AIW/4Mh6eCvHWpCDXbKP%2B5Z6oRsuAO0d0ucKB5tdf8Hv23/gb8WPEw%2BG2pX2oeDPG6ged4F8dWR03UwT/wA8kkOy6U4yHgeRSOc16/XJ/F/4FfBz4/eGj4Q%2BM3w30jxHp%2BSYotTtFdoGP8cT/fif/bQqw9a6/rFGt/Hjr/NGyfzXwv8A8lfmc/sKtL%2BDLTs7tfJ7r8UdZRXzsP2W/wBpf4E/v/2Sv2lp77SYv9V4B%2BLXm6rYqvaODUEIvLZQOFDGdR6Y4py/t2618KT9i/bH/Zz8VfDxY%2BJPFOmQnXfD7DoGN3ZqZIATzieGPA6ngml9TlU1oSU/JaS/8Bev3OQfWlD%2BNFx891/4EtPvsfQ9VtZ0XRvEelT6F4h0m2v7G6jMd1Z3sCyxTIeqsjAhgfQisf4bfFv4W/GPQF8U/Cf4iaJ4k05sf6ZompxXMak/wsY2O1v9k4I9K6GuVqdOVmrNfJnTGUZK6d0fO%2Bsf8E3vhP4Z1WfxX%2Byv488VfBfWZ5DLIPAOohdKuJexn0qdZLOQD0WND71APE3/AAUv%2BCH7rxL8PPBHxt0eLgah4Xvj4b1sqOrva3TSWkreyTR59B3%2Bj6K61j60laslNf3ld/8AgStL8WTyJbaHzzpf/BTb9mvTNQh8P/Hi38VfCPVpn2R2XxR8Mz6ZC577LzD2bj3WY5/OvcvCPjfwX8QNFj8SeAvF2l63p03%2Bqv8ASNQjuYX%2BjxsVP51c1TStL1zT5dJ1rTbe8tbhCk9tdQrJHIp6hlYEEexrw/xd/wAE0f2M/EesyeK/DXwlHgnXX5XXfhxqtz4fukb%2B/mwkiVznn51bnmi%2BX1OkoP5SX48svxYe%2BvP8D3iivnMfslfta/D3j4G/8FC/FE1rH8yaT8UfDFj4gjc/3Tcxi2uQO2TIx%2Bppf%2BE7/wCCoXw%2B58TfAH4U/EaAcCTwb4yu9DuT7mG/hmjz7efj3FH1OE/4dWL9W4v/AMmVvxDma3R9F0V8y%2BKf%2BCkF98HtAuPEH7Sf7Fnxd8FWdkFN9q0em2OrabBuYIu66s7pwoLMqgsqjLDnmvn3Vv8AgrL8Sfjh4quPC%2BjfFbwL%2BzvonnmO31X4jafdXOsXEZ%2B7NFHJElmAV5Ks5wejEc124XIMxxUXNJRgt5Npr5cvO5Pyim%2B9jz8XmuGwlRUkpTqNXUYq7ttd3soq%2Bl5SS7Xsz6//AGn/ANsXwD%2BzU2l%2BFP7E1HxV438RyeX4Y8C%2BHkEl/qByR5hHSGEYOZG4%2BVsBtpA86gn/AOCtHxcT%2B0orf4W/CXT5RmHT7rztb1SEHtIy4tyQP7uOeopv7HHh39jrwJ4l1b4raf8Atk%2BGfit8QfEiJHqvjS%2B8WafPcmFQAttBHDIRbw8A7BkkgAkhVA%2Bobe4t7uFbm1nSWNxlJI2DKw9QR1q6tfCZbalQpKclvOpF6v8AuwlZJLo5Jye7tojlhhMfmF6mKqSpxe1OEkrL%2B/NJtyfVRaitk27s%2BZF/YT/aV8VqZ/ix/wAFKPiVczS/8fA8H2drocYz2QRB9n1/GvUP2aP2Tfhp%2Byzp%2BtReB9W8QatqHiO9jute17xTq7Xt9fSImxDJKQudoJxgD7xr06iuPEZtj8TSdKUkoPdRjGKdtV8MVt5tnVh8ny/C1lWhBua2cpTk1fR2cpStfySCiiivOPTCiiigAooooAKKq6vrmiaBam%2B17WLWygHWa7uFjQfixArzfxl%2B3D%2Bxp8Plf/hM/wBqz4eafIn3refxhZ%2Bd%2BEYkLn8BWlOjWqu0It%2Bib/JMTaW56lRXzsf%2BCpv7HurE2/wz8R%2BKfHdyf9Xa%2BBPh9q%2BqGT/dkitjEf8AvukP7aX7QXjH5fgz/wAE5viffD/n68b3%2BmeHIfrie4kmx/2y3e1dP9nY1fFDl/xNR/8ASmvyJ54dz6Kor503/wDBU/4i/dg%2BDPwxs5%2B7vqPibULcfQCzgLf99CkP7C/xT8enzf2h/wBvT4p%2BI1PEul%2BE7i28L2Ei90ZNPjE7L25nJx1Jo%2BqUofxK0V6Xk/wSX4hzN7I%2BihJGztEsillALKDyM9M1478MfFHjz4Z/HPxZ8JfjD8UrvX7K90iHxN4X1nWLW1thDb%2BYba8swYI4owkD/ZGBYFyLv5mY103wF/Zg%2BBf7Mml6hpPwS8CJo66tOk%2BrXD31xdXF7KgKq801xJJJIwBIyzHrV7xF8Afg14w%2BJun/ABk8X/DvTtX8S6RaG30bU9VjNydOQkljbpISkDtn5njVXYAAkgACIzw8JTjq4taOyvfS3V21vfXYdpOx83j4J%2BJPFniDwt8Hp/AmqXdjaeItdmPjixKNp174Y1T7RcP/AKQpIFybkWT%2BWVO6SLdjaSw9E8IfsieKvElzquo/tEeL9P1G9k03RrLSL/wrHPZTwzaa8kkWqGR2Zo7t3kXKqTGFiVfmDMD7506UVrUzCvJWjp%2Be936X7LQSgjB%2BGnw48NfCfwZa%2BBvCgumtLZ5ZXnv7x7i4uJpZWmmmllclnkeR3die7HGBgVvUV598aP2q/wBnT9nqNR8Yvi/oui3MmPs%2BlyXPm31xnoIrWINNKT/sIeorkjGriKlopyk%2B2rCc4Uo3k0l56HoNMubm2sraS8vLhIYYkLyyyuFVFAySSeAAO9fPZ/ad/al%2BNg%2Bzfst/sr3ek6dLwnjX4wSPpNqB2eLT4915OpHILCAH1HWlt/2D7n4p3Metfto/HHXfifIriRfC0Y/snw3AwOVAsLdv9I2njdcSS5HUCuj6rGnrXmo%2BS96X3J2Xzl8jD6zKp/Bi35vRfe9X8l8yz4o/b48I%2BI9dufh9%2ByX4D1P4weJLaQxXLeGZFi0XT5P%2BnvVZP9Hj7/LGZZOMbKoQ/sf/ABV/aEuI9d/bs%2BKketadvEkPwt8FvNZeHoSDkC6kJFxqZBAP70pFkH91g1774Z8LeGfBWhW3hfwd4dsdJ0yzjEdnp2m2iQQQJ/dSNAFUewFX6f1qNHTDx5f7z1l9%2B0f%2B3VfzD6vKrrXlzeS0j927%2Bb%2BR4b%2B0B4d8P%2BEvin%2BzR4Z8K6HZ6Zptj8YL2Gy0/T7ZYYLeMeCfFGEREAVVHoBivcq8Z/ag/wCS3/s4/wDZZr7/ANQrxRXs1cbbbuzqSSVkFFFFIAooooAKKKKACiiigD5V/YW%2BKXhqH4s/HbTofhf8RdCtPEHxlt77w2%2Bt/B7xDpNrdWTeHdEsVmjkurCKMRi4sblCcgIIwzYR0ZuI/YU%2BH/xB0v4w/Cnwxq3wo8UaHqHwn%2BGfjHQfiVr2s%2BGrqys9T1O/1nS5oWtbqWNYtTW5ezu77zrd5VjDjzCkkxWvuGigD54/4KF6b8V5/B/gzUfDnjTw9a%2BFofjD8PRr2jXvhie41C8c%2BM9G8tre8W9jjtgrbSwe2mLAEApkEbnjdP24vhn4v1LxX4Al8MfEzwxdXbzw%2BEtQA0XVdPjJ4htrtd0FwF/6bqjHpv71L%2B3h/wAkQ0P/ALLN8OP/AFNdEr2atKdT2b2TXmv6a%2BTMK9D28UlJxa2cXb9GmvJpo8U8Hft6/AzUteh8C/FY6t8M/E0x2poPxFsDpxmPT9xcsTbXAJ4BjlYnjjmvaYZoriJZ4JVdHUMjo2QwPQgjqKzfGHgnwb8QtBm8LePfCem63plwMT6fq1jHcQSf7ySAqfyrxib9g7RPAUzal%2Byr8Z/Fvwtn3F10nS73%2B0NEZj1Ladeb41B/6ZGL2xW1sJU2bg/P3l9%2B6%2B5nNzZlQ3Sqry9yX3O8X8nE97oIBGCK8EHxB/b1%2BEP7v4gfBTw18UNLj%2B9q/wAP9U/szUQg6s9hfMY3cjnEdx9B2q94c/4KDfsz32rReF/iH4k1H4ea3KcDRfiTo82iy59FknAgk9tkjZ4x1FJ4Sta8FzL%2B7r%2BC1/AazLCJ8tVum%2B01y/i/dfykWfiR%2BwN%2By38RtfbxvF8Oz4X8TnJTxZ4Fv5dE1JXP8Zms2TzT/wBdA49q58fBD9uv4SDPwY/as0rxzp8fEOg/F7QQZwvp/aWniOQt7yQyfjXvml6tpeuafFq2i6lb3lrOm6C5tZlkjkX1VlJBH0qxVRxmIiuWT5kuklzfnqvk0bPC0JPmirN9Yu35aP5pnz5/w1/8e/hx%2B5/aI/Yd8aWUS8Nrnw6uofEtkQOshjh8u7jXvgwEj3617xoOtWfiTQrLxFpyTrb39pHcwLc2zwyBHUMoeNwGRsEZVgCDwQCKt1HdQy3FrJBDdPA7xlUnjCloyRgMAwIJHXkEeoNZ1alKpblgovrZu33O9vvNKcKkL80%2BZeaV/vVr/ccF8F/iT498b%2BM/iB4Y8Y6Xo6W/hPxSmm6bfaRJLieN7SC62yrJ0kRbiNWKnaTnAHSvPrf/AIKa/sn2njLUvBvjjxxB4XbT7u7gj1DXdTsVguzbzNC7IsVxJKillbb5scZbacA180fCv4MfF/8AaO/ac%2BL37LXxV/am1EaD4U8TyaxfeHtDSG0m8Urdp%2B7lvLyzVdirst0kgVBtB2jDLurv2/4JraR4Q8G%2BKbvwt%2BzR4E0pZdB0%2BxtvDGg6k%2BrS6kYr9J7q5F1fwQssz2%2B%2BGONjgtndJggr9DUy3KcLU5cVUfNJRaUNElJRad5aO972Ssurvt87SzLNcZDmwlNKMZSTlNttuMmpLljqrWsm3d9rb9vrH/BX/wDY5X7S/wAPbrxf43js3CXc/hHwddTxQnj7zyrGvccgkHIxmo7P9vb9of4xXst3%2ByX%2Bwn4k8S6HaKqXWueM9bh8Oq8x5McMdwrGYL0ZgeDxjoTz2peDfD/gPxRo3xC%2BKvwfHhf4eax4p1HUZ/CC6BHNHE9vpxs9OiubW2V4/MmEtxKFOVV4YATv2gfQ37LnhnxN4F/Z38L%2BHvGli9pfWml7pdPIJNlGzs8drjk/uo2SLH/TOsq0snwlJTp4fne3vzbXnpDlV15Oyv1NadLOcVVcamJ5Fv7lNJ%2BWs%2BZ2fnG7t0PEx%2Byt%2B1V%2B15q2n6z%2B3R400fRPBlnqMV9F8IfBwMsV08bboxqF6xzNhgCY0zG2AQVIr6ovdPsNStHsNRsobiCQYeGeMOjD0IPBrweP/gp3%2BxfaSLbeMfidqHhW4JAe28YeEdT0oofQtc26J%2BTGu28Kftj/ALJPjnaPCH7TvgDUXfpDa%2BL7NpB9U8zcPxFcWOnmWIUeek4wjfljGLUVfe1r3b0u3Jt9WduAo5fhXJ06nNOVuaUpXk7bXvayV3ZJJK%2Bi6jPGH7GH7IPxALv42/Za%2BHmqSP1nvfBtk8n1DmLcD7g1wtx/wSm/YAeZrjS/2drPR5GOS/hzW9Q0w59vslxHivfNK1rRtdthe6Jq1reQnpLazrIp/FSRVmuOGNx1JWjVkv8At6X5X/Q9Plg9bI%2Bdv%2BHZ3wT07jwV8XvjP4bUfdTRPjNraKv4SXD/AK0v/Dvi%2Bt/%2BQR%2B3j%2B0RZ46D/hYMNzj/AMCbSTP419EUVf8AaON6zv6qL/OLFyQ7Hzv/AMMOfF%2B040n/AIKQfG5AOn2ybRLg/m2mjNH/AAxr%2B0inEH/BS74pgf8ATTQtAY/n9gr6Ioo/tDFd1/4DD/5AOSP9X/zPnf8A4Yy/aKl4u/8AgpZ8V2H/AEx0fQI/5afR/wAMJ/Ey841n/go18eJPUWWp6Nbf%2Bg6aa%2BiKKP7QxXRr/wABh/8AIByR/q/%2BZ87n/gnjDc/8hn9tz9oi9B6j/haD22f/AAFhix%2BFH/DsH9mjUv8Akd/EXxP8T5%2B9/wAJB8YNflDfUJdoDX0RRR/aOO6VGvSy/KKDkh2PAdI/4JZ/8E%2BNIuxft%2Byt4Z1Ccf8ALbXkl1Jj9TdySE/jXo/g39mf9nD4clG%2BH37P/gnQjH9w6P4Vs7Yr9DHGK7esvxF438F%2BEIjN4s8X6XpaAZL6jqEcAx9XYVE8Xja%2BkqkpfOT/AAv%2Bg7Qir6I1AAoCqAABwBRXkvi39vX9ifwOGHiT9q3wBFIn34IfFVrPKP8AtnE7N%2Blc1/w8u/Zg1j918NB438bzfww%2BDfhvq97u%2BkgthGfweiOCxkldU5W9Gvxdl%2BJjLF4WLs5q/qn%2BVz3%2Bivn/AP4bB%2BPnizj4Tf8ABPb4lXg/5%2BPGOo6XoEX1xLcyS4/7Z59qDq3/AAU58cfPYeD/AIOfD%2B2l4xqWq6jr95CPXbDHaxE/8CI9qr6lVXxyjH1kvyXMxfW6b%2BFSfpF/m7I%2BgKp6/wCI/D3hTS5Nb8Ua7ZabZQjMt3f3SQxIPd3IA/E14V/wyX%2B0p424%2BM3/AAUB8aSwHk2Hw%2B0Kw8PRg9x5oSe4x/21B9CKuaD/AME2/wBj2w1OPxD4w%2BF8njbVkOW1X4h61d69K7epF7JJGD/uqBR7LCQ%2BOrf/AAxf5ysvwF7XEy%2BGnb/E1%2BSu/wARfEn/AAUg/ZG0zVZPDXgr4iz%2BPNaQ4XRfhvo9zr07t/dzZo8an/edRVA/tAfttfFP938E/wBjeHwrZy8w6/8AF7xJHaFR6nT7Dz5yfZnj/Dt7r4d8MeGvB%2BlR6F4S8PWOl2MIxFZ6daJBEn0RAAPyq9R7bC0/gp385O/4LlX4sPZYifx1Lf4Vb8Xd/gj57P7JX7RPxU/fftLftoeI5bST5pPDHwvsk8OWIz96NrhWlvJk7f65M%2BnXPf8AwZ/ZJ/Zt/Z8ka8%2BEXwd0bSb6XJn1k25uNQnJ6mS7mLzyZ5%2B856n1r0WvPr74269ovxR07wT4j%2BFOoafpGs6vJpWj%2BIZ9Rt2%2B1Xa28s/%2BoRi6xMkEu1ydxKHKKMGk8Riq8XBOy7K0V9ytf53JdPC4dqclre13eT%2B93t%2BCPQayfGfjnwt8P/Dl34s8Wap9nsbLaLh44JJn3MwVUWOJWd3YsoCKpZiwABzXh/xG%2BK/xM8L/ABD8W%2BMoviBNBp3hDxFpVlc%2BFJ7aA2suk3cVuj3e8RibzFmn8zf5m1VhZNvUny7wz8P2vRZfCH4U2cNh44tNCnk8WadJEIlOsaTeJdadqN3tAy9xcNn7VgmVS3zMEwLp4NNc0paf09e2611Rx181cZOFOF3qteru0rJb6p6Np2X3fX/gbx54T%2BJHh%2BPxP4N1YXdo8jRsTE8ckUinDxyRuA8bqeCjgMO4rzb4m/tU%2BIdG8b3/AMJvgl%2Bz14u8deJdPZEvZEtf7M0eyd0WRRNqF0FjPyOrYhWU4OMZ4rY%2BA%2BgeM4PE3jXxv4o8E3fhqDxFrNvcWWi3t7bzSBo7WOKW4b7PJIi%2BY68DduKxoWVWJUek1g/ZUqruuZev523t8jrX1jE4eNpcj6u2ttVopbX0eqdux4D8Yrjx3dePf2Ybn4m6bpdnr7/F69OqWui3Uk9rFL/whXin5Y5JERmGMclRzmvfq8Z/ag/5Lf8As4/9lmvv/UK8UV7NWLd3c64rlile9u%2B4UUUUigooooAKKKKACiiigAooooA8Z/bw/wCSIaH/ANlm%2BHH/AKmuiVN4ytf22PBHivUPEfw/1Pwb478P3F081v4Y1iGTR9Qs4ieIIbuPzYpcD%2BKWNSe7esP7eH/JEND/AOyzfDj/ANTXRK9kjlilBMUisFYq205wR1H1q4T5Hsn6nLisMsTFLnlBrVOLs/yaa8mmjxGH9unwP4RlXTv2jfhr4u%2BGN1uCNdeJNIM%2BmO/omoWnmwEe7sn06V614N8eeB/iJo6eIfAHjHS9csJPuXukahHcxH/gcbEVqTQxXETQTxK6OpV0dchgeoIPUV5L4x/Ya/Zn8V6w/irS/h//AMItrrZK6/4HvptGvFb%2B8XtGQOf98NV3oS3Tj%2BK/Gz/FnHyZzh/hlCqv7y9nL7480H84xPXKo%2BI/DHhrxhpMugeLfD1jqlhOMTWWo2iTwyD/AGkcFT%2BIrxz/AIUh%2B138OPm%2BEX7V0XiKzj/1Oi/FHw8l2SPQ31mYJvxZX/Hvra3%2B0uf2fvg9N8Sv2138PeDZINV%2BxQNoOpT6jDqBKBozCvkJLvYiT91tYgRli2CcXDD1KlRRo%2B9JuySvzX8la/3FRzGNpLFUpUkk23LlcLLf303H70r9uhkap/wTx/Zwt9Ql134T2ev/AA11KZ9z33w28RXGkqT726MbZh7NER26VB/wqH9u74dfN8Nv2qfD/jO1TiLTPiZ4REcoX0N7pzREn/aaFvxrxj4h/t5/H34y%2BONJ0/8AZG/Zp%2BJi6g4Dac/iKWz0vT723Dhmnntp0kcwMoKrLvh5YYbd8pr/ABS0D/gppqfi/wAPeFviL%2B2PoHg2TxNDNP8A2d4X8NNDY2UvmRxx2a6i0ErmVvNJAfGfLbBYgGvaWAxkHbF1oR8pvnl90eaWnnJdtz52pm2VLnlg6FRqLS5qV4Rbe2snCN7vbkfR7NHsOv8A7Wn7R/wXsH1P9of9kKQabbg/aNf8B%2BNbG/hIHVhb3htZlHthv6V5f8T/APguD%2BzHa%2BB8fBCO%2B1zxdfS/ZbHSdbtv7NtbGUnAlu7mYiJIgTzsds4wSoO4L4S/Ye/YU074lw6D8Rfg14o8faxJrY0nVPiN4w8Qy3sd1q5thdGCVftCb/kOPMEGzf8AIzbuv0X8CJv2X7jTNQ8D/APwjoWn2EMMcl3Y6X4Z%2Bw291C5dY50zEiXUTFHAlQuhIPzZolLIMO1L2c6rX/cOD9VzTlbyvF9Ha5rRq57i5OnHE06ad1Z/vKl/JqNON0utpLdpuxwX/BNr4b/CX4Rfs/af4Y8L/Ezwb4s8Vai8uoeMfEXhfVILo6jeSyvKS0sZ3SLGHEalscLnAya%2BiK8p8c/sM/se/Ea4N94q/Zv8IvdFtxv7LR47S5z6%2BdbhJM%2B%2B6ud/4YC8D6D8vwo%2BPPxc8Fxr/qrTRPiHdXFsh/643/2hMfhXm4qvSx2JnXqVHzSbbvG%2B/wDhey2StokkezhKOMy7DQw9OjFwgklyzaen%2BOO73bvq22e8UV4R/wAKD/bV8Nc%2BDP2611OKP/VWnjT4cWV1uHo01m9s344Jo%2B3/APBSzw589z4c%2BC3iqJOos9R1TSJpPoJI7lAf%2BBYrn%2Brxfw1Iv5tfmv1Oj69Uj8dCa9Epf%2Bky/Q91kijmjaKaNXRhhlYZBHoRXFeK/wBmf9nHx3uPjf4AeCdYL/fOqeFbO4J/77jNef8A/DQ/7ZOi8%2BKf2AL65jX/AFk3hf4kaZefiEuPszn6Ypf%2BG4tQ075PFf7GPxx01l/1jQ%2BCY9QQfQ2VxMSPwq4YfFQd6b%2B6S/SSJlmGAkrVLr/FCa/ODQuq/wDBMv8AYK1W5N4P2YPDVjMf%2BWuixSaew%2Bhtnjx%2BFVf%2BHav7NWn8%2BDtT%2BInhw9joXxX12Lb9A12wH4CrP/Dxr9mmx%2BXxcvjjw8/ePXfhlrcO36kWhUfialtf%2BClP7C1zMLeT9pPQLSQ/8s9S860YfUTRriujnzlLeb%2B9/wDyRj9YyFv46a%2Baj/8AIlL/AIYDtLbjR/2x/j9ZD%2BED4nS3OP8AwJjl/WgfsT/Eux/5An/BQf42x%2Bgvr/SLrH/fenV1em/tx/sY6uB9h/av%2BHRJ6JJ4zso2P4NKDW3Z/tOfs2aiAdP/AGhPA84PTyfFlm2fykqHXzJfEn84L9YG0XlU/hnH5T/yqHnP/DJv7TVvxp3/AAUe%2BIagdPtPhfQZv52Qo/4Zf/a/XiL/AIKUeLwP9v4e%2BHW/9s69Xg%2BNfwauhm1%2BLfhiTPTy9etz/J6sr8Vfhe4ynxI0Ej21iD/4qo%2BtYvrFf%2BAR/wDkDRUsG9p/%2BTv/AOTPH/8Ahlz9rqTi4/4KTeMSP%2BmfgHw8n8rOj/hkX9ou541P/goz8S3Hf7LoWhQfysTXr7/Ff4WxDMnxK8PqP9rWYB/7NVS5%2BOvwRsxm7%2BMfhWID/np4htl/m9H1rGPaK/8AAI//ACAOlglvP/yd/wDyZ5X/AMMO%2BNrz5ta/b9%2BOs5PVbXXtMtlP/frTwR%2BBo/4d9%2BHLvjX/ANqv486kp%2B9HP8WL2FG%2Bq2/livQb79qv9l7TATqX7SPgK3A6mfxhZJj85awdU/b2/Ym0gE3f7WHw%2BbHUW3iu1m/9Fu1Wq2Zy%2BFP5QX6QMpSyiHxTj85r9ahzZ/4Jk/sjXvz%2BKfDnivX5P4n174k65dbvqrXm0/lWp4d/4Jw/sHeGJRNp/wCyd4HncHO/VNDjvST6k3AfJqq//BS79hwuY7D4/WGoMP4dI0y8vT%2BUEL5pP%2BHh3wQ1H/kSfA3xP8S5%2B7/Yfwp1l930Mlsgq3LOGrNzS9Wv1iZLE5CnpKm/S0vyUj1Hwn8GPg94CKt4F%2BFHhrRSn3DpOhW9tt%2BnloMV0teEf8NoeOdY/deCf2F/jLfSH7jano1hpkR%2BrXV4rD8Vpf8Ahd37dOu/uvD37Del6Tu%2B7ceKfilars9zHZwXGfoGrmlhsRJ3m185L/5Js3jmODStTUn/AIYT/wDkEj3aivCP7O/4KV%2BJP3V14n%2BDHhSJ%2Br2OmaprE8Y9jJJbIT9Vo/4Zh/ag8TjyviT%2B394p8hvv2/grwlpej/8AfMjx3Eo/77NT9XgviqR%2BV3%2BS/Uf12tL4KE368sf/AEqTf4Hu9cL8Q/2nv2cfhMHHxL%2BO3hLRJI87rfUdft45ifQRl97H2AJrgT/wTs%2BAmu/P8V/Efj/x6/p4y%2BIWo3Mf/fmOWOHHtsx7V3Xw9/ZW/Zp%2BE5jk%2BG/wD8IaNNHjbdWPh%2B3SfI7mXZvJ9yTRy4OO8pP0SX5t/kHPmlTaEI%2BsnJ/dFJficKf%2BChvwa8RfJ8F/AXxE%2BIrHgSeDfAt29vntm5uVhgx/teZj3pP%2BFs/t7fED934A/ZX8M%2BC4H5j1H4jeMxcSbfe001JMH2My%2BhxXvNFHtqEfgpr5tv8ADRB9VxlT%2BJXfpCKj%2BL55HD/BTwv8e/D1nqF18evivo3iS8vZY3s7bQfDR06205QG3RoWmlkmDEg7nII29OayviZ8Lfi74w%2BNnhzx14W8Y%2BHdO0XQNLuESLUdHnvLoXc8iLLLGFnijU%2BQhjV237fNkO05rr/HPxU%2BGPwxs/7Q%2BJHxF0PQINu4S6zq0NqpHsZGGa8vn/b9%2BBWsStZ/CLTfFvxFuUYq0XgTwndXkQPvcsqW4HuZMUQ9vKbnGP4advJfiY4nEZXhqaoV61mmnZzvN2d9lzTev907zWPgP8OPFer6X4n8daONb1fSJd9pqd3iOQ4kWRFdYAiSojqrKrqwUqD15rssAdB1rw8/E39uT4h/J4B/Zz8N%2BCLVuU1H4h%2BJvtU5U9/senhsN7NOvvikP7LPxn8f/vPj1%2B1/4rvoW5bRfAttF4es8HqjPFvuZF7czDP6UpQbS9pNafP8Fp%2BJEMfzN/VMNOV%2BrSpp%2BrnaT/8AAGeh/FL4%2B/BP4J2f234s/FPQ9ABXdHDqOook0v8A1zizvkPsqk151/w1942%2BI37j9mj9mXxZ4oif/VeIfEkX9gaSVPSRZLtfPmX2jhOfX07D4Xfsnfs5fBm8/tb4efCHR7TUi259ZuYDdX7t3LXU5eYn6vXodTzUI7Jv10/Bf5l%2BxzjEfxKsaS7QXNL/AMDnovlA8E%2BNEnjeX4g/sxyfEi10uDXW%2BL96dTi0SaSS0SX/AIQrxTkRNKquy4xywBr3uvGf2oP%2BS3/s4/8AZZr7/wBQrxRXs1ZN3dz1IR5IKN27dXu/XbX5BRRRSKCiiigAooooAKKKKAPl34DftjfG34gfGLwtJ420zwsvgP4ma14u0zwVZ6XptzFqulyaLdyxQyXlw9y8V0t3b21zMVjhgNu3lx5nyZBd%2BDX7U/xd8TftheK/gp8XvE2ieG9Mt/Euoaf4D8N3vwn1uxuvEVpb2sM32m2124u/sF643Ts8FvAXVIWJ2hWaui8HfsGeBvAXxLk%2BJHhf4u%2BN4Ba3ur3fhXQJJ9Ok0/wxPqt8l7qb2SPZGQm4kV1/0h5/JjnlS38hWwN%2BX9lqDWvjno/xu8ffG/xr4lXwxq95qng7wnqp0yPS9CvLm0nsnmh%2By2UNzMy2t1dQp9pnmCrcPgbtrKAcZ/wUL%2BLnwo8NeD/Bnwo8R/E7w9p/inxB8Yfh7LoPhq91qCLUNSSPxnozSNb27OJJgqqxYopACknGDXZeMf2PPhN4j8T3vj3wtqHiLwd4i1Gdp77XPBviCaykuZDyWliy0MpJ674znvWd%2B3h/yRDQ/wDss3w4/wDU10St7xL8Yfiz4J8QXkOu/s6axqmiR3DCz1fwrqUF7LJFn5We1cxyKcdQu/2zUyqqkrv8m/yueZmkMtnSj9dp80b6PllLldt7xXNHTTmVu1zA/wCEJ/bY%2BHnPhD4w%2BFvHtmvSy8aaM2nXgUdFF1ZZRm92g%2BvrR/w1P8QfBg8v43fsqeNdEVfv6n4aSLXrJV7sWtT5yj/ehHvW9oH7XHwA1q/XRdR8eR6DqJ4bTPFNrLpk6t/dxcqgY/7pNeY/FD9q349fFL41ap%2Bzl%2Bwv4W8NalfeHLWGTxl478VzytpOlPOoaK3iWD5ricpluMqpGCDhsdeBovMZtUnG0VeTbSUVtdvpq0lpdvRJs8SdXB4ekp4HGzd3ZQTVe77KM/fWibd5xsk22rG58RP%2BClf7IfgHwBd%2BNIfifDq97C6wWXhWwgddXvbluEgjtJVSUEnALMoVc8kcZ5X4SfAr9o39pT4xeGP2p/2xbbTfD2n%2BFmmvPAXws039%2BdPmmQKt3fTnAkuFUAqoGEbBGwhlOl8Mv%2BCe1jq3ju8%2BNH7aPju1%2BL/i6705bGzGqeH4YNM0e3yWMdtajK7sn/WnDYHABLE9c37DXwj0MmT4S%2BKfGngJyc7fCHi25hgJ/wCveZpYMe2zHtXpzxOEy6m6WEfNNpqVSz2as4007NK2jm1zO7S5Y75qjxJjJQq4ylGUIu6pqfs22ndSmmqkW9moc/LFq7cnt2198Cfhjd%2BPLj4o22h3Fh4hvI0S%2B1XSdUuLSS7VE2IJhDIqzhV4USBgMAjkCs34jfAvUviSkOg6t8VtZXw44tRqmgNa2rreeQ6SD9%2BYvNQu0a7/AJiCNwAXOa5v/hVv7ZHg75/BX7Tmi%2BJYk4jsfHXg5A2PQ3FjJCSfcxn8aP8Ahan7ZHhL914x/Zb0fxFGnMl94I8bRgkeogvo4T%2BG8mvIUpppp7f11O%2BeKwihKGJwlSmpO7tByi31u6UpXv1vHXrcoa/%2Bzf8AFXVbjXdLt/FOkw6WdR1nWtAuU8w3cmpXkbC389dqokduztgqzGQLHnaVO7Y%2BAXgHxba%2BJrbxZ4k8C3Phay0LwXZeGdF0S7vLeaUrEQ80zNbu8ezKxInzZwjEhd2Krf8ADa/grRP%2BSm/CH4leEFX/AFlxrPgi5mgU/wDXazE6Ee%2Ba2vCv7ZH7K3jSQQaD8f8AwsZicC1vNWjtZs%2BnlzlHz7Yq3VquNmjHD1uHFioyhiUpfyykot6trSahKybdkvnexB8Rvj58Vfhz4yvNLH7JvjHxF4fh8v7J4h8LX%2Bn3LXGY1Z/9FkuI5U2sWXoc7cjrWH/w378EdH%2BX4k%2BGPH/gxv8AqaPh5qUKD/tpHDJHj33Y969m0zVtK1q0W/0fU7e7gb7s1tMsiH6FSRVipU6VrSh9zf8AwT1ZYfMXJzo4lWeqUoRkvROMou3bf1Z5d4W/bb/ZB8ZMI9B/aU8GNIxwsF1r8FvKT6bJmVs/hXoWheKfDHiiD7V4a8R2GoxYz5ljeJMuPqhIql4p%2BGHw18cBl8a/DzQ9YDDDDVNJhuM/XzFNee67%2BwJ%2Bxh4gn%2B1XX7NvhW1lzkS6TpwsWB9QbYoR%2BFH%2Bzvuvuf8AkK%2BeQ6Up/OpB/lNHr1FeJD9gL4G6Zz4H8S/ELwwe3/CP/EvV4gPoHuHA%2BmMUf8MdeKdO%2Bfwv%2B2j8Y7Nh91bzX7O%2BQfUXNo7H/vqjkovaf3p/o2H1rNo/FhU/8NWP/t0Ys9tqK7srO/iMF9aRTIeqSxhh%2BRrxf/hn79rOw%2BXRv29dWdB91dY%2BH2k3GPqY0iJ/Oj/hWP7eWmc2H7VvgrU8dBqfwweLP1MN/wD0o9lDpNfj/kH9o4pfFhKny9m/yqI9K1L4PfCPWCTq/wALPDl0T1%2B06Hbvn/vpDWLe/sqfsvaiSdQ/Zu8Az56%2Bd4Psmz%2BcVcf/AGX/AMFGbT5YvGnwXvgOjTeHdWgY/wDfN24/Sjz/APgo5D/zC/glcf8Ab/rEOf8AyE9aJVVtUX/gTMZYzDy%2BPB1PnSi//bmb0/7En7Glyd037Jfw0JPUjwNYA/pDVdv2Ef2KXOT%2Byb8Ovw8H2Y/9p1k/23/wUXh/1nw4%2BDU3/XLxdqq/%2BhWNH/CU/wDBQxeD8G/hO3uvjjUB/OwqufFL/l7/AOTv/MydfLXvg5/%2BCEa8f7Cn7FUZyv7Jnw5P%2B94Nsj/OOrVt%2Bxb%2Bx1ZnNr%2Byf8NUI/iXwLp%2Bfz8mue/4Sf8A4KHPwvwf%2BEqe7%2BN9RP8AKwo/tb/gozN9zwH8FoP%2BuninVnP6WQ/nRzYl71f/ACd/5gq%2BWrbBz/8ABCO1sf2Y/wBmzTCDpv7Pfge3I6eR4Ts0x%2BUdbumfDP4b6KQdG%2BH2iWhXobXSYY8f98qK8t3f8FHZv%2BWPwStv%2B2usT4/8dSj%2Bwf8Agonf/Lc/Ez4PaeD/ABWfhHU52H/fy9UH8qhqpL4qi/8AAmzaONox%2BDCVP/BUV/7cj2xI0iQRxoFUDAVRgClrxL/hUf7c2ofNf/tj%2BGrDPVNL%2BFaNj6NNet/Kj/hnD9pnU/k8S/t7eKjGeqaN4P0az/JjbyMPzNR7KHWa/H/I1/tDFv4cJU%2Bbpr/29nttFeJH9i24vefEn7Xfxq1At95V8bJZKfoLOCIgfjVKH9hf9kXV9RudM8Tza34nv7JA99Dr/wAR9TvJIlOcNJE11tAODyy84o5KC3n9y/zZLxmauyWHjG/81WP/ALbBnr3ib4m/DfwUrN4y%2BIOh6SF%2B8dT1aGDH13sK88179vv9jTw9c/Yrj9ovw1ez5wINEvDqLk%2BgW1EhJ9hVf4WfstfsFahp7a18Kvgr8N9XggnaI6haaZaahskXqvmsHIYZ9c816xoPhXwv4Vtvsfhfw3YabDjHlWFmkK/kgAo/2dd39y/zFCec4iCnCVFRezXPP8bxizyD/hurwTrPPw3%2BB/xX8Wo3%2BruNH%2BHt1BC3/bW9ECD8TR/wvL9sPxR8vgj9isaXFJ/qr3xt49s7baPVobRbl/wyDXt1ZviPxn4P8H2/2vxb4r03S4sZ83Ub6OBcfVyBR7Sktofe2/8AIJ4XHcvNXxjiv7sacF98ud/ieRf8Ih/wUD8YjZr3xm%2BHHgqI848MeFbnVZx7eZeTRp%2BPlfgaP%2BGMtU8UfvPjF%2B1X8UfE5f8A4%2BLK219NGs5R6eTp0cJx7FzWvrn7c37JehXf9nD446PqVz2tvDxk1ORj6BbRZCTVL/hry/8AEB8r4Y/swfE/X2f/AFFzceHV0q1k9/Nv5Ijj3Cmq9rVXwpL0SX/BPLlV4ZcuWpiHWfb2k6v/AJLTuvwNTwP%2BxR%2Byh8O7z%2B1PDXwG8PNfbt39papZ/b7rd6%2BfdGSTPvur0%2BGGG3iWC3iVERQqIi4CgdAAOleOf8Jh%2B3R4v/5AHwZ8CeDov%2BenijxRNqU318qziRM%2B3m/jQfgJ%2B0l4v/5KZ%2B2FqlrbvzJp/gPw3a6YF9hPMLibHuCKzlKc3ecr/O514fF0aEOTAYKdvKEaUfvm4v8A8lbPXtR1LTtHs5NR1bUILW3iXMs9zKERB6lmIAry/wASftufszaFqLaDpXxJi8SaoOF0nwdZzavcM393baLIFP8AvEVQsP2J/wBmFdbhfx1o114z1naZUl8deIbjVZXUcFvKuJGjx7hAK7v4aa98IJBdeEfhUmlWyaa2J7DS7EW8aDcyblUKqsu5WXcuVypGazcqadmzSVfOqs1BulRvort1Jd3ZL2cLpepwf/C%2Bf2kfHn7v4Rfsn6hp8EnEer/EfWYtLRD/AHjaw%2BfcMPYqh/lQfgl%2B1B8Q/n%2BLf7UL6Jayf63RvhpoyWOPb7Zcmac/VQh%2Bnb1jxF4r8L%2BELA6p4t8SWGl2o63Oo3iQRj/gTkCvPLr9sH4PXlw%2Bn/Dz%2B2/Gt2jYa38HaHNeqD7zACED3MgqZ16VN2bS/P8AV/gc%2BJoYGjJLMcZKTf2edQT9KdK0n98jmPjd4VsvBHxG/Zk8J6dqOoXcNj8X72KO51W/kuriX/iivFB3SSyEs7HPUmvea8J%2BO2s3/iH4m/sza3qnhy70i4ufjDfPJpt80Zmtz/whXij5XMbMufoT1r3amnzK59DRVNUYqmrRsrb7W0312769wooopmgUUUUAFFFFABRRRQAUUUUAeM/t4f8AJEND/wCyzfDj/wBTXRK9N0/4i%2BAdV1u48Nad400ubUbSZobmwS%2Bj8%2BNwcFSmdwOfavMv28P%2BSIaH/wBlm%2BHH/qa6JXHft3fGPwToN5Y/Ab4c/CPSvHPxg8W25HhrRZrBJBp8RJU6hdy4zDBHhjyw3lSOAGYOGEzLG1Y0sEouXXmulZbtyXwpbttNJfK/BmOM%2BoYZ1m1ZdHe7b2jHlu3JvRKzv97W1%2B2h%2B1h8NfhTZRfBzSPBFt8Q/iTr8ezwx8O4bNbt5ZGGFnuVIIgt1%2B8zNjKq2OAzLz37Kn/BOPwt8HfhHbxeMvEGqWfj7VLubUvE2v8Ag7XLjT0F1M5cwxJGwjMUalUXKYO0nADbQ/8AZ4/4J7eD/wBmXwm/jW5%2BMutweO7%2B2Eni7xstzCEu5SQSmyeNlWBTgKnHCgnnp6tHo37S%2BhIJNG8f%2BFvE8DAMo1jSpLKVh7SW7Mhz6%2BXRmOa4fDRll9Gg5x91znFxk522ahzRnGmpc3LdNyfvN3tGPgxwNXG4n63meGu7WjGPLLkTs3dpxm592naO0eref/wqL9onwpz4B/aal1CCP/VWHjbw7BebvZp7cwSfic0f8Jx%2B1t4W%2BTxH8DvDniVB1uPCnig2z4/643kajPt5v4mtL/hbHxX0L/kc/wBnrVWjHDXPhvVLe/U%2B4RjFJ/46fxp0X7T/AMIreQW/ijU9Q8PTk4MHiLRbmzIPuzps/wDHq8T%2B0ctho6zp%2BU%2BaP/pyNv8AyY6/ZYGl/CxFSl5OUrfdVjJf%2BTGX/wANYeHtG4%2BI3wl8feGAvEtxqHhWW5t1P/XWz85SPfitjwx%2B1F%2Bzr4wkEGg/Gfw80xOBbXOpJbzZ9PLlKvn8K6bw94%2B8C%2BLlDeFfGelalkcfYNQjlP8A46xpPE/w98A%2BNozF4y8D6Pq6kYK6npsU4x/wNTXoU5VKkeanUjJd/wDgxbR1whmyjelXhUX96Fvxpza/8lNS0vLS/t1u7G6jmicZSWJwysPYjg1k%2BK/hv8O/HcZh8ceAtF1lCMFNV0uG4BHpiRTXE3f7Gn7OUlw17o3w%2BOiXDHIuPDmqXOnsp9QLeRF/MVH/AMM0%2BIdI/eeCf2mfiLpzL/q477VYdSiX/gN1C7H/AL6q%2BfER3hf0f%2BaQqlTMpQ5K%2BFjNf3Zxa/8AAakF%2BZW1P9g/9krULttQtPgvp%2Bk3Df8ALfw7dXGmMPobSSPFQf8ADG1hpf8AyJP7R3xZ0JV/1UEHjV7uFPYJepMMe1aH/CBftbaH%2B80b9oTw7rWOkPiHwT5Wfq9rOn6KKP7d/bN0U77/AOHfw%2B11B/DpniK7snb8JoJFH/fRqvrM18UZfdf8mzy3g8mi7zy%2BVN94Qt%2BNGpH8jPPwO/ap0n5fDX7at1PGv3IvEfgPT7r8C8HkMfrmj%2BzP2/NH/d2vi74Ta4i9GvdG1Kwkb6mOaZR%2BC1of8Ls%2BPOmfN4k/ZG1vYPvSaJ4m0%2B8/JWkiY/kKP%2BGp7a0/5D3wB%2BKGngffZ/Bz3Cr9TbPKKPrdLrp6pr9BWyaG1evS9ZV1/wClwqL8Sh/wsD9uHRPk1X9m/wAE61jq%2BifEOWDP0W4sh%2BpFH/DQP7SGnfN4g/Yf8R7B1fSPF2k3f5Azxt%2Bgq/8A8Nnfs/2/y614h1fSnH3k1XwnqNvt%2BpaDb%2BtW9P8A2w/2XdTO2D46%2BHIznpdagsBH18zbihYvDP7Ufv8A%2BCOOIwV7U81a8pSov/0qEGYv/DXOs2vy6z%2ByN8X7Vh94xeGra5X8DBdOT%2BVA/bW8DW//ACG/g78VtNHc3vwz1HA/FI2B/Cu2sPj58C9VwdL%2BNHhO5z08jxHav/J62bPxx4K1HH9n%2BMNLnz08nUI2/k1aKrRls1952U1jZ/wswhL/ALh0n/6TUR5h/wAN5fs4Q8anq3iexbut58P9ZTH4/ZCKP%2BG/v2SV/wBf8Vmh/wCvnw/qEX/oduK9ghuILhd9vMjr6owI/Sn1d49jo9hn3TEU3/3Cf6VTxz/h4H%2BxuP8AWfHnSY/%2BusM6f%2BhRilH/AAUD/YwP/Nw/h8fWVx/7LXsVIVU9QD9aPdD2PEH/AD%2Bpf%2BCp/wDy08dP/BQT9jEf83DaAf8AdkkP8lo/4eBfsdHiL456dJ/1xtLl/wD0GI17GAB0FFHuh7HiD/n9S/8ABU//AJaeOf8ADfn7J782/wAS7qf/AK9fC%2Bpy/wDoFsaP%2BG7fgDccaOvjHUSegsvh1rDZ/wC%2BrUV7HUNzf2FkN15ewxD1lkC/zovBdBOhntvexNNf9wn%2BtU5r4U/F3RPi9pt1quh%2BF/EumRWswjI8SeHbjTmmyM7o1nVS69sjjPFcN8d7K98K/E3wz8RtH1OSCIa5aQax5fii7M8iSN5KwQ2DE27I28F2G1xtJAJya9KvfiP8PNNydR8eaLb46%2BfqkKfzauQ1n4o/sh23iePxtrvxA%2BHQ1uCMJDqtxqdibtFGcKshbeAMngHufWs3WpQd3JL5r/Myx3sqmCjSrYiHOmnzNxhs73SU/K1r2et2rnmnx7vtBPxA1vXr66tJfEMlno83wuu0kQzTslxi5t7Ju7uxw6ocskvzfKOM/UfBV7r/AIpu/h9o3h24TxW934li8Q3n2B40ubK8iZ45HmICvHIxiRBklTkAKFOPUn/bF/ZS0kLY2vxj0JxGu2OHTi0%2BB6ARK36U3/hsb4M3ny%2BG4fFWst2XSfBGpS5%2BhMAB/Op%2BuYZfbX3/AOVzw61DJK1eU54yn7zu1FpvXV7OT5vsqVrqHutMr/s%2BQazqXjPVPFb%2BENU0S0fw5pdne2%2BqaZLatNqEUbLLtWRV8wRqFj81cowxsZgM10PxW%2BEvjj4kavbT6F%2B0B4n8JadFbeXcaf4ct7INO%2B4nzDNPBI6nBAwOOM4zmsb/AIad1K9%2BXw/%2BzR8Trxj90z%2BHorNT9TczIR%2BVH/C2/wBpTUv%2BQJ%2BydJbq33ZNc8bWcGPcrAJj%2BFT9apN3V36Jv9D06VbKvqX1ZynUV7txhVV3e/2IxsvJSs9b7mf/AMMS/D/Vfl8ffFX4meKEP3oNZ%2BIF6kTf9s7Z4VH4AVpeHP2Jf2S/C9x9s0/4AeGp585%2B0arYC%2Bkz677ne2ffOab9p/bV1f5otL%2BGmho3QT3V/qEiD3CrCpP40f8ACq/2nNY%2BbX/2pIbBX%2B/B4d8FW0W0egkuXmP44FH1mo9oy/BfmzOGEylS5qWWyk%2B8oRv99Wc2ej6H4c8PeGbQaf4b0Gy0%2BAdILG1SJPyQAVc3oHEZYbiMhc84ryz/AIZWsNT/AOR1%2BOPxH1xW/wBbBP4re1hf22WixDHtXRfDf9n74QfCTVJ9d8AeDY7K/ubfyLm/lu5rieWPcG2tJM7sRlQevUURnWlLWNl66/gv1PZw9XMXOMXh4wh/jTaXlGELfiij8efEnxI8FaRH4s8FXrSQWxHnabBoLXRlIyzPLKJMxQhFOSqFgcYJyFqr8V/D3iXxVf6J438MX9re6PaWMs13Z3Xiq6061lzseOb9wCs2MYAkwmCckVc%2BM17pOoatofgTVL7WoodXuWivf7IvhAvlPiMCY7SxRndUwhU5PXArG%2BI1ro2lyX%2BlReBdCv8ARfC2l2%2Bq3mnaxYG5LoRJGDAXfZDsjgY52nJXHGSa4MTi6FN1LttRaTtfR2cvu5U299tr6HBjISnUrJybh7ul3pJXlokn7tl7y122epx9/q1p4g8Qw%2BOYfDt5beIPEV3oereFJpLFmnWGSJYZ7cyAEKsSeY0iEgEMWwS/PVfDDwT4w0Xxf4f0K88KXVlbeE7PUbOTVmeLyL21eXFpHHhy7HywjtuUBGQrzmprzxR49ie4vNK8RyMl9quoaNZ6WttEq2bpFI1s8WE3bgIyzbiwbIwFArQ%2BC%2Bp251UadoWtT3un3nh%2B01NxcXz3DW88nykb3ZmG7azFSeCDwM1yUMbSqYqNOz1fkurs7a3u029nFWTOXC4OksXFyk2203pFX1vqtb3kr3VmlaLvudZ4r%2BGvw98d31jqXjbwRpWsT6Z5h0%2BTU7COf7OX27im8HaTsXkf3RWtDBZabaCC3hit4IUwqIoREUew4ArnvHnhzxT4subbTvC/xTuPDyRK5v4rCyglnnU7dpDShvKxhuQpzuHTHOHH%2BzN8Ob9xP44vdc8UyqchvEetzToD/wBclKxfhsrvqV8X7WUcPRT/ALzlFL8FKTttqke9L2kK0nRoq73k3FX9bJydttfkcv8AtLXVrffGf9m%2B7srmOaJ/jLfFJYnDKw/4QrxRyCODXtVeIftE6PpPh/4ufs16LoWmW9lZ23xjvkt7W1hWOONf%2BEK8UcKqgACvb67483Kubfrba/lfU7I83KubcKKKKoYUUUUAFFFFABRRRQBzHhz42/Bjxj8QdZ%2BEnhH4u%2BGNV8V%2BHEV/EPhnTdftp9Q0tWxta4tkcyQA7lwXUZyPWiw%2BNvwY1X4pXvwN0v4u%2BGLnxtptkt5qPg%2B31%2B2fVLW2IQiaS0D%2BckZEkeHZQDvXnkV8cfs8eHvGfgz42eANA8QfCDxrp2pfDTxV8R7zx94mbwPqLWmo22s6y72n2a6SApqP2x57W9ZbdpfIW0Y3HktGBV34a%2BAPiDB%2B094Q%2BHFx8KPFFvrvhT9pXxt468TeMbjwzdR6Vd%2BHNR0vW4rHy9SaMW91IRqWk2ptUkaVPsDMyKsCEgHvf7eH/JEND/7LN8OP/U10SvNbSxsIP%2BCwpn%2BG8811JH8H5Y/iCJZmkishJerLaqpJOyVm2t5fAEZyB1r0D9tn4P8A7T/xh8KaLpfwA8VeAlttJ8YeG9d1Dw54w029hfVW0vXrHUzHHqltLILEMloVy1hdbmIHyBty%2BI/sF6T%2B2T4W8JeMviR4Z/Z4%2BGmt654m%2BI3iG28UeJPEvxz1Fb29udM1e90zZiLwwUWBGtZPKAx8r7tke7y07sFPC0I1atTWfJKEFb%2Beyk29rKMdurt2Z5mYYaviq1CEF7sZqcpX1XInZJd5N2b2UU%2BrR9UfGDw34t16zH9ixW13bmLyVsZhIpWWRwnnZUEHapP3hhQSah%2BKE2g3uk2M91qmlobJHuk0m/3A3e1CuyMbkbcDnaQDzjjmuV/4Tj/goX/0a/8ABn/w/Grf/MvTZPGf/BQWYAS/stfBdtrBl3fHbVjgjof%2BRW618Vj%2BG6eKlipwnrXUU1K8kuV3TVrPez5W3HS1rOV/SsdTf63q321rzT9RurOPT7uxtLTTAwIkMgWSRZAclmMbgDn5doPPOdHw94s1rWdVs/7T%2ByyWGsx3T2tqtud0Mcb4RmYsQ4dOTwMFgBkV5xJqP7dU2uJ4lk/ZJ%2BCZvkXC3J%2BO2rbhwRn/AJFfrgkZ64JFVfDv/DeXhm6a7sf2Y/hDIRF5Nslx8fdWZbaLJPlxj/hFhtXP1PAGcAVyUcnzzD4%2BM1WvTc7u0mlZPdxaad4e5yRtGNlLW1wsep%2BIfgP8GPFTGTXfhfoc0hPM66ckcn/faAN%2BtZH/AAzX4L0//kT/ABX4t8PjtHpPii52D/gErSJ%2BGMV47q3xg/bs%2BIXxk1j4G2v7O3w70rVvC3hnSteub7TP2g9Uhgmg1K41G3hQf8Uuxd1bSpywZAAJEwWJYL2mg%2BJf%2BCiej6TDpt3%2Bzv8ACLUJIgQbu8%2BPGqeZJliRu2%2BFQOAccAdK9d4DD1sfKNTBxUbXVROCbemloqE099W2nbzOWeBwc5czpq/dKz%2B9Wf4nX/8ACrvjLpXy%2BHP2jL6SNfuRa74ftbr83jETH86Nv7VGl8LL4E1hF7st3YyMPw81c/lXN/8ACcf8FC/%2BjX/gz/4fjVv/AJl6P%2BE4/wCChf8A0a/8Gf8Aw/Grf/MvXR/ZdGP8OpUj6VJflLnRP1GmvgnOPpJ/rzHSf8LH%2BO%2Bncav%2BzsbhV%2B9Jo3iq2lz7hZhEfwo/4X/Laca78EfH1kR99l0AXKj8beR%2BPwrm/wDhOP8AgoX/ANGv/Bn/AMPxq3/zL1y%2BrftHft26P8Z9A%2BB1x%2Byh8JG1TxF4X1fXbO5T466p5EcGnXOm28yOT4Y3B2bVICoCkEJJkqQoY%2Bp46PwYqX/b0IS/SLD6viY/DWfzjF/pE9MH7UfwZg%2BXWNc1DTHH3k1Tw/e2%2B36l4gv610Xgn4rfDj4kNNH4E8Z6fqj26Bp47ScM0YPALL1Gcd685/4Tj/goX/0a/wDBn/w/Grf/ADL1HH4t/wCCgEMzXMX7KvwVWRxh5F%2BOuqhm%2Bp/4RbmtaNPMo1F7SpCUevuOL/8AS2vwLpwxkZrnnFr/AAtP/wBKa/A7v4mfETV/Cstvp3hfSory7NxbG%2BMwby7eCWZYgSV/jYkhR6qSeKq/E/xXDp15Np1t4O03VWsNJk1TVP7SbaEtULDCfI%2B6Q7HwDgfLyRXlfjrwv%2B2X8Q54b7xF%2Bx38DpLuG4gk%2B2/8Lu1PzmWKQOIy58K52HGCM9CcYqt4t0T/AIKLeKDvT4FfBu2a70t9M1hx8a9UY3dozE7Fx4YAicBnAcA43ng8Vx4mGbXq8junbls1orSv8S0d%2BW71ur2tojnr08bL2ltU7W2217rva%2B%2Bl7Hd31n8Gda12KK%2B%2BAXhm60mW%2BisZdTu9Mti63EkXmAeUYiCi/dZi4IbopHNUfCvwk/Zi%2BIGqfYbv9mHwzYJdWhu9LnbRLVPtcAfaWxGoKNnB2nnBBryj4weNP27vg7Z2njXxL%2Bzd8Ibjw9eePNDs00ax%2BNOqGcX2p31ro8BMreHFX7Os14kzgLvAVtpbAQ9d4I03/gov4WvbK81T4BfBa/8A7M0ddOsQnxq1aEhA2Wkc/wDCNNudsIOAoG04HPGVOjmTxC9pFON9dIbdfO1rOPW976HF/Zqq1V7WhBq%2Bt4U3/wC23t2633PQZv2K/wBlaZ/M/wCFIaLG3rBG8f8A6Cwpv/DFX7Mo/wBV8NPK/wCuGs3sf/oMwrjfHS/8FEfG8NtFB8GPhxoZtmY79C/aE1OEy5A4ff4TcEDHH1Nc5/wgn/BS2P8A49tH8KD/AK6/tB3T/wA/B1dVaM6dRqGFUl3Uqa/Bq46uUZbGbUcDTa7pU1%2BHKmeq/wDDF37OY%2B54O1JP%2Bufi3U1/lc0f8MYfs9Dp4b1sfTxtq3/yVXlX/CIf8FRk/wBVp3gcf7/xxuG/90%2BuY%2BNvi7/gpp8B/gx4u%2BOPinQvBl1pfgzwxf67qVrYfGeVp5re0tpLiRIw/hFVLlYyFDMoyRkgc1lz1f8AoCf/AIFT/wAyP7Ly7/oAj/5T/wAz3z/hi/8AZ5PDeGdaP%2B9411Y/%2B3VH/DFv7OJ%2B/wCCb9/%2BuninUm/ncGvKv%2BEV/wCCqJ4ax8A/h8apx/7p9H/CHf8ABUJ/9dpvgk/7nx0uF/8AdOo56v8A0BP/AMCp/wCYf2Xl3/QBH/yn/mz1X/hin9mBv9d8K4Zf%2Bu%2BpXUn/AKFKaltv2Mf2V7Q7ovgX4fY/9NrTzP8A0ImvJf8AhAf%2BCk0n/HxonhdvZP2iLtB%2Bng6j/hW3/BQt/wDj48GeG5P%2B7nNWT/0DwmtO%2BI6YJfOdP/5FgsqwKd1l9P7qX/yLPbrL9mD9m/T8G1%2BAng4EdGbw3bMR%2BLITW1p/wm%2BFek4/sr4Z%2BH7bHT7Po0CY/JK%2Bd/8AhVH7cUx/4mPwd8I3Y7i4/ar8REH/AL58NCuY%2BCOl/tD/AB8%2BDHhH45aJ%2Bxt8OG03xn4X0/XdOt9c/ab8RvPFBd20dxGkqjw%2ByBwsgDBSwyDgkc1almH2cNBes1/7bTOmnhFT/h4SnH/wBf8ApNI%2BxlXRtDt8KttZxDsAsa/0FZeofFD4aaTn%2B1fiJoVtjr9o1eFMfm1fPFt8Ff2iLWTzR%2BwR8BJW/vXPxz1iYn/vvwwc1s6f4Q/ar0nB0z9gr9naAjo0Xxdv1P5jwpmr5s5ltGnH/t6b/KMTrTzC1lGC%2Bcn%2BSR6jf/tNfADTn8ub4t6JK3ZbS8E5P08vdmq//DTvwvuvl8Pw%2BIdXbsul%2BFb6XP0PlAH865Ow8Q/t66UuzTP2S/gjbL6QfHHVEH6eFqsf8Jx/wUL/AOjX/gz/AOH41b/5l6PZZvLerCPpBv8A9Kn%2Bg%2BTMJb1Ir0i3%2BcjpP%2BF6eIb/AOTw7%2Bz/AON7lj91ryyt7ND%2BM0ykflR/wm/7ROqfu9L%2BBel6dnpLrPi1Dj6rbxP/AOhV5n4B/aO/bt%2BInivxv4Q0f9lD4SQ3HgPxRFoWqyXPx11QJPPJpWn6mHi2%2BGCSnk6jCpLBTvRxjADN1H/Ccf8ABQv/AKNf%2BDP/AIfjVv8A5l6PqWMn8eKl/wBuxhH/ANtk/wARfVsRL4q0vkor9GdH/ZX7Uer/ACXni/wXoqn%2BLT9Iubx1/GWWNT/3zW74F8IePPD99PfeM/itc%2BIPNiCR2zaVb2sMJzncojG4nt8zGvP/APhOP%2BChf/Rr/wAGf/D8at/8y9H/AAnH/BQv/o1/4M/%2BH41b/wCZetKWX0qVRVHOcmv5pya%2B73Y/gy4YSEJqTlJtd5N/hovwOy%2BIvwdi8d30mr2/i/VtPuXFqAlrd7If3EpkQkIA%2BQWfGHGCc1U%2BLXgxr3RpNQjv7ltTuomsPJs9saX1szM/2eYOJCUC%2BYSy4bG45AJritV8Qf8ABRTUr%2ByvIf2ffhLaJaSl5be2%2BPOphLnphX3eFScD2I61yt58Zf20PiF8Yda%2BA2qfsifCWTUfC/hvSPEFxcN8e9XS3eHUZ9TtokQp4aDM6nTLjeGULtkjwWJYL5%2BYZdPE4bEwoU%2BWc7JSctG7fErc3K43kleOr1s4tpt4TDycm4/Fvvr%2BPm%2Bx67r3hC31I6P8RPCOj3kd7ctDLcnT5Yy/ltAF3hJ28kOFwvmEb9owDWbfSaEs1zrOkSy6UY9MmuYzGRA8t7bzFZ/NWPCzScBTkMMHI65rkNGj/b10Tw9H4Xs/2a/hKlpFGERLf9oDV4CMMWyGi8LKwJzg88gCrkF7%2B3NBp0Glf8Mi/BGWC3k8yFLj46atKVfOd%2BX8Lkls87ic%2B9eLX4ezPGx5pOMJSjFzTbcVUUbNx5OVpNtybvq1DTRmsaVOLvGKXXbqdbpqGHxXCWsmi1ubXROZRCd0tlJEjvl8cxrygBPBQCu88QaZf6xpMmnabr0%2BmzSFcXltGjOgBBIAcEcjIzjjOa8m/wCE4/4KFf8ARr/wZ/8AD8at/wDMvR/wnH/BQv8A6Nf%2BDP8A4fjVv/mXr3MtyOngMNWoSm5RqPW14u1mnrFp8zu7yTi3aPVXLsVv2iNOfSfi3%2BzXpsmpXN40PxjvlN1eOGlk/wCKK8UcsQACfwFe318r/E/xL%2B1bq/7Sf7Olr8a/gv8AD3w/o4%2BLmotHfeFvidfaxcmf/hC/E21DBPotkoQgsS/mkggDYckr9UV7VOnClTUILRJJbvRaLVtv7233bGFFFFWAUUUUAFFFFABRRRQAVR8UeIbDwl4a1HxXqoc2umWM13ciJct5caF2wO5wpq9Ud3aWt/ay2N7bpNDNG0c0UqhldSMFSDwQRxigD5v/AGNf2pfj58VPGGjeFfj/AKb4SR/G/wAJ9O%2BIHhdfCen3Nv8A2Xb3EoSfTLpp7iYXUkImtNt3GIFlLy/uItg3eTaP/wAFHfjl4K%2BF%2Bm/FLWfAXgefTPir8L9V8dfCbRdG025sn02b%2B1dKtre11WZriVbprhtfsp5Z4YoNjR3Q2OSjn379n/8AYX8Ifs56xa614T%2BMvjrVJNM0XT9A0NPEFzp1wNM8P2RmMGjQlbJGNvumBaaQveSeRCHuWEYFYOk/8ExvgRaaNrfhXXfGfjLWtEvfCWo%2BGPC2j6jqVskXg3Sb26iu57bS3t7aOZP39tZuklxJPJH9ht1R1WPaQDsP2Xfi78V/GPiX4h/B/wCOVz4evvE/w88S2tjNrfhXSJ9PsdUtLrTbW%2BhmW1nubmS3dTPLCyGeQHyBICBJsT12vP8A4A/s%2BaR8BbPxBcnx94h8Xa94s1wat4m8V%2BK2tPt2o3C2sFpFuWyt7e3iSO3toI1SKFF%2BQsQXd3b0CgAr5d%2BA37Y3xt%2BIHxi8LSeNtM8LL4D%2BJmteLtM8FWel6bcxarpcmi3csUMl5cPcvFdLd29tczFY4YDbt5ceZ8mQfUVeGeDv2DPA3gL4lyfEjwv8XfG8Atb3V7vwroEk%2BnSaf4Yn1W%2BS91N7JHsjITcSK6/6Q8/kxzypb%2BQrYABTvfip8cvAf7bXhr4VeIdR8A69pnj611WVdM8P%2BF7q11vw/pFhG0lvfXt495LHdwGeZbbaLe32zXy7C4WTOT/wTX/an%2BLv7S3wvt9R/aL8T6JaePz4U0TVvEfw9tfhPrfhK%2B8MTXlu7yxSxavdzyX0PnJLDHdRLHEzWsuC5yE6v4f/ALGJ%2BHX7QnjP9ofS/wBpj4iXl546uzLrWh6lFoUtpHEkDw2tpBN/ZgvYba13tJDCLnYJHkdxI00xk2/gx%2BzHa/Cn4g6z8W/FPxl8YeP/ABXrWj2mkSa94x/s2OS20%2B2lnmjtoYdNs7SBF824ldnMZkclQzlURVAPT6KKKAPl39pr9sb42/Cv4p%2BMX%2BHmmeFm8G/CbRfDep%2BO7bWdNuZtR1iPVL64imjsZo7mOO0a2tbfzw0kVwJ5JRFiEKZDN%2B1x%2B0r8TPgn%2B0x4T0ldX8PeEvAjeFLi6134g%2BIvhFrOv29pM1/bRfY5NQsbu3t9HikjHmGa6JjzEhPCYrtvjP8AsQ/Dj43fFI/EzXPHPirS4tRtdItfF/hrRrq1TTvFMGl3sl7YxXyy28kwWOaaXP2eWAyxyGKYyxhUEvxw/ZGn/aD8HN8NPiH%2B0n8Qm8K6losmk%2BL/AA3YposNv4ntJGYTRXcg03z4hJE7Qv8AZJbfMZxw3zUAeff8NjfGz/hoHzP7M8Lf8Kx/4XP/AMK0%2Bwf2bc/239s/s3z/AO1PtX2nyPK%2B2/6L9l%2Bz7vL/AH/n5/c19RV4z/wxD8OP%2BF//APC9v%2BE58VfZ/wDhK/8AhKv%2BEE%2B1Wv8AYn9v/wBm/wBm/wBqbPs/2nzfs3/LL7R9n839/wCT537yvZqACvnr9rz9on9oDwH8QIPhd%2Bzha%2BEV1PT/AIa67431m48Zabc3UN1BYSWsUOmwi3uIDBJcPcSZumMqwCEfuJjJhfoWvI/2l/2PPB/7TOoWWtaj8SfF/hHULfw/qfh%2B%2B1HwbeWsM2paLqHkG80%2BY3NtOFjka2hYSxCO4iKExTR733AHJ/tVfHzx7ZfsT/8ADXnwj8TeEtJ0uw8Fr4ul0rxr4Cuddk1DFvHd2Vtbx2%2BpWXlXJm8tUOZCZGj2hSATympftV/tRfD79pXwd8Ivj34j8IeDdCuPAHg251/Xv%2BFRa9f6brPijUb7UrTUdLtdYjv1stJCva2K26XfnSM2oRjMpKqfavG/7MHgv4hfDzSPhT4m8Say/h/RPFula5Y6Xb/ZIYtmm3kN5ZacwS3G6zjlt4DtP7xliCvIwLbqnxr/AGWoPj34ms7jxv8AG/xrH4Ut77Tr28%2BHdgdMj0nUZ7K6S6heaU2TX2POihZ447pI3EQVlKs6uAeqUUUUAeL/APBQX4u/HD9n79kfxp8evgFe%2BFI9Y8E6Fd65dQeMNFub62u7S1tpZnt0S2urZkldkRRIXKoCxKPwKu/tg/E/xd4E8HeGvAvw90zQbjXviP4ytfCmmy%2BKtNkvdMtVnhnuLma5to5YWuUW0tbnEIlj8xyil1BJGp%2B1j%2BzjZftafAjXv2fda%2BKvinwjpPieylsdcv8Awgunfa7mylieKa23X9pdRojq/LIiyAqNrrznO8b/ALK0nxK%2BHVn4I8eftBeOtR1PSdT07VNA8YmLR4NT0nUrMkreQiDTktmeQM6yJLBJCySOnlhWKkA%2Bfb39vz9qvxN4a1DQPhzoXgCDxd8P/DXjTV/iBJq%2Bk3slhq7%2BH9Yk0yK1sES7R7IXxgmn86V7n7INiGK5JLD7F8CeL9N%2BIPgjRvHujRypZ63pVvqFoky4dYpolkUMB0OGGa8F8R/8EyfhDrngfTvBmm/Fj4gaLNHpOv6X4n17SNTskv8AxXZa3efbtWhv3ktHQG4ut0vm2qW8sBkcW7wKxWvojTNN0/RtNt9H0myjtrW0gSG2t4UCpFGoCqigcAAAAD2oAnrmvjFJ8TYfhlrE/wAHNa0HTvEsVrv0y98TaVNfWMRVgXMsEE9vJKPLD4VZY/mK5bGa6WsL4meDtU%2BIPgPU/BejfEHWfCtxqNv5KeIPD8NnJeWYJBZolvbe4tySAVPmQuMMcAHBABwXwE%2BKPxg/aG/Yj%2BH/AMa/D9z4a0fxr44%2BHGia40t5pVxcaXZ3l5ZQXEp%2BzLcJNJEpkfbH56sQFBk6tXgN7%2B2Z%2B1HoPwc09PAWkeFbqDR/jnd%2BBNQ8eeDvg1ruvaPJoVnol1cvqNpomm3rXUaxajCmkuRcyxJLBK2dpUL7D4S/Yan8Gfslp%2Bx5pP7W/wAV10G18EJ4V0rX4Z9EttY02xjRIonguLbS41WZIEEKylCdpLnMuJRo%2BD/2RvE3w9%2BCGk/A3wD%2B158RtEtdCuEXSdX0vRPCsNxa2CW6wR6akK6J9jW2TaHUi384McebswgAPQvg743034lfCfw18QNI8caR4mt9Z0O1u08Q%2BH7Rrex1IvErG4gieWVoY3JLLG0kjICFZ2IJPSVy/wAFfhD4N%2BAfwp0H4OfD%2BK5XSPD2npaWbX1y008oGS0ssjcvI7FnZu7MTgdK6igArxf9jn4u/HD4lXXxS8HfH698KXes/D/4mN4etr7wfotzYWtxato2lakhaK5urlzIrag8ZcOFcRqwRMkV7RXi/wACf2PNY%2BBPjTxf41tP2sviV4jk8ceK4fEGvWPiG08OiB7tLW3syE%2ByaRA6Rvb2ltEwD5xCGUq7OzAHhngj9v8A%2BKvgz4b/ABi%2BInxeh8NW3i7w3pfiDWNE%2BGDfCjWvDN9fx2V%2B%2Bn2V42pX91JFqtvJGunrJc2sOyL7TFkgbEPvP7Mnxc%2BMfiPx94/%2BBfx/u/DOoeJvAt1pky654Q0e406x1Cxv7TzYm%2BzXFzcvDKksVzEw85wyxxyDZvMaZmufsEeBviJqviDVfj18YPHPxDOueCdX8JWkHiSfTrZNF0nU5IHvYbT%2BzbK1PmObS0xPMZZk%2BzJtdSXLdj8AP2c9K%2BAx8Q6xcfEjxN408ReK9Rhu/EHizxhJZm%2Bu/Ito7aCLbZW1tbxxRxRgKscS5Z5Hbc8jswB6JRRRQB4v8Ffi78cNa/a4%2BLPwF%2BKl74UutH8MaF4e1zwhP4f0W5tbmK01K51mH7PePNdTLcSoumRN5kaQLmVxsOAa5/xJ8RP2lvCv7fngv4QaZ4q%2BHOq%2BHPF2kaxrHiGzg%2BH15b6zpeg6ciRW%2B/Uf7VeKWQ6hqNuqq1oqsjXRVVKk10Gi/seaxoH7RfjD9pLTv2sviUNQ8Z6VZaZe6E9p4dOn2dpZz3U1pFAP7I88eUb26UNJNIzLMd5cqhXtNL%2BBfhXS/jh4l/aBTVtTm1/xJ4Y03QG8%2BaMw6dZWUt3Mi2yiMFGeW9leRmL7ykQ4EagAHj3/AATi/an%2BLv7R/gXzf2i/E%2BiWXjv/AIRnSNV1n4eW/wAJ9b8KX3hxrqOUyLIur3cz6jAZUeKO6gSOItbS8uThPpWvLvg3%2By/bfC34i6p8X/Fvxp8ZfEHxTqWiW%2BjJrfjI6bG9np8Mskwt4YtNsrSBQ0srO7tG0jEIC%2B1FUeo0AFeD/ta/Gb9oL4DeJPC/i7wZ4g8EXvh7WvF2heHbbwLfeHLyTXNcub2%2BWG5a0vY71YoTBatJdbGtJh5dpMzvGgLx%2B8V4z8Sf2OV%2BIn7TuiftTW/7R3xA0LVfD%2BhjStM0DTIdEuNLggebzblo0vtMuJoZbkCOOaWKVHaOGNFZAOQDhf22P2ofjN8LfGXiCz%2BDXhzwddJ8J/hTdfErxMPFmlT3M2owq11DFp9hJFcQixnlhtdQU3bidU3Rr5Lq7kVdJ/bZ%2BMWtfGy112x07wufhVd/F9Ph1DYtpdyNcNy2li5GqG5%2B0%2BQIvthFt9k%2Bz7vL/f8An5/c13Hx0/YR8FftBtFN42%2BMHji2mu/C934Y8Xz6RcadA3ivQrmYSyaZfD7EVWL76LJbC3nRJpQso8xybUf7Dnw0h%2BPa/HCHxr4oS0TxSPFC%2BAlubQaGuvDTf7NGphPs32nzfs3HlfaPs/mfvvJ8795QB7RRRRQAUUUUAFFFFABRRRQAUUUUAFFFFABRRRQAUUUUAFFFFABRRRQAUUUUAFFFFABRRRQAUUUUAFFFFABRRRQAUUUUAFFFFABRRRQAUUUUAFFFFABRRRQAUUUUAFFFFABRRRQAUUUUAFFFFABRRRQAUUUUAf/Z\">"
      ]
     },
     "metadata": {},
     "output_type": "display_data"
    }
   ],
   "source": [
    "plt.rcParams['animation.ffmpeg_path'] = '/usr/bin/ffmpeg'\n",
    "try:\n",
    "    display_html(HTML(anim.to_html5_video()))\n",
    "# In case the build-in renderers are unaviable, fall back to\n",
    "# a custom one, that doesn't require external libraries\n",
    "except (RuntimeError, KeyError):\n",
    "    anim.save(None, writer=matplotlib_utils.SimpleMovieWriter(0.001))"
   ]
  },
  {
   "cell_type": "markdown",
   "metadata": {},
   "source": [
    "# Logistic regression\n",
    "Your assignment is to implement the logistic regression\n",
    "\n",
    "Plan:\n",
    "* Use a shared variable for weights\n",
    "* Use a matrix placeholder for `X`\n",
    " \n",
    "We shall train on a two-class MNIST dataset\n",
    "* please note that target `y` are `{0,1}` and not `{-1,1}` as in some formulae"
   ]
  },
  {
   "cell_type": "code",
   "execution_count": 30,
   "metadata": {},
   "outputs": [
    {
     "name": "stdout",
     "output_type": "stream",
     "text": [
      "y [shape - (360,)]: [0 1 0 1 0 1 0 0 1 1]\n",
      "X [shape - (360, 64)]:\n"
     ]
    }
   ],
   "source": [
    "from sklearn.datasets import load_digits\n",
    "mnist = load_digits(2)\n",
    "\n",
    "X, y = mnist.data, mnist.target\n",
    "\n",
    "print(\"y [shape - %s]:\" % (str(y.shape)), y[:10])\n",
    "print(\"X [shape - %s]:\" % (str(X.shape)))"
   ]
  },
  {
   "cell_type": "code",
   "execution_count": 31,
   "metadata": {},
   "outputs": [
    {
     "name": "stdout",
     "output_type": "stream",
     "text": [
      "X:\n",
      " [[ 0.  0.  5. 13.  9.  1.  0.  0.  0.  0.]\n",
      " [ 0.  0.  0. 12. 13.  5.  0.  0.  0.  0.]\n",
      " [ 0.  0.  1.  9. 15. 11.  0.  0.  0.  0.]]\n",
      "y:\n",
      " [0 1 0 1 0 1 0 0 1 1]\n"
     ]
    },
    {
     "data": {
      "image/png": "[encoded data removed]",
      "text/plain": [
       "<Figure size 432x288 with 1 Axes>"
      ]
     },
     "metadata": {
      "needs_background": "light"
     },
     "output_type": "display_data"
    }
   ],
   "source": [
    "print('X:\\n',X[:3,:10])\n",
    "print('y:\\n',y[:10])\n",
    "plt.imshow(X[7].reshape([8,8]));"
   ]
  },
  {
   "cell_type": "markdown",
   "metadata": {},
   "source": [
    "It's your turn now!\n",
    "Just a small reminder of the relevant math:\n",
    "\n",
    "$$\n",
    "P(y=1|X) = \\sigma(X \\cdot W + b)\n",
    "$$\n",
    "$$\n",
    "\\text{loss} = -\\log\\left(P\\left(y_\\text{predicted} = 1\\right)\\right)\\cdot y_\\text{true} - \\log\\left(1 - P\\left(y_\\text{predicted} = 1\\right)\\right)\\cdot\\left(1 - y_\\text{true}\\right)\n",
    "$$\n",
    "\n",
    "$\\sigma(x)$ is available via `tf.nn.sigmoid` and matrix multiplication via `tf.matmul`"
   ]
  },
  {
   "cell_type": "code",
   "execution_count": 32,
   "metadata": {},
   "outputs": [],
   "source": [
    "from sklearn.model_selection import train_test_split\n",
    "X_train, X_test, y_train, y_test = train_test_split(\n",
    "    X, y, random_state=42)"
   ]
  },
  {
   "cell_type": "markdown",
   "metadata": {},
   "source": [
    "__Your code goes here.__ For the training and testing scaffolding to work, please stick to the names in comments."
   ]
  },
  {
   "cell_type": "code",
   "execution_count": 33,
   "metadata": {},
   "outputs": [],
   "source": [
    "# Model parameters - weights and bias\n",
    "# weights = tf.Variable(...) shape should be (X.shape[1], 1)\n",
    "# b = tf.Variable(...)\n",
    "\n",
    "weights = tf.Variable(np.zeros((X.shape[1], 1), dtype='float32'))\n",
    "b = tf.Variable(np.zeros(None), dtype='float32')"
   ]
  },
  {
   "cell_type": "code",
   "execution_count": 34,
   "metadata": {},
   "outputs": [],
   "source": [
    "# Placeholders for the input data\n",
    "# input_X = tf.placeholder(...)\n",
    "# input_y = tf.placeholder(...)\n",
    "\n",
    "input_X = tf.placeholder(\"float32\", shape=(None, X.shape[1]), name=\"input_X\")\n",
    "input_y = tf.placeholder(\"float32\", shape=(None,), name=\"input_y\")"
   ]
  },
  {
   "cell_type": "code",
   "execution_count": 35,
   "metadata": {},
   "outputs": [],
   "source": [
    "# The model code\n",
    "\n",
    "# Compute a vector of predictions, resulting shape should be [input_X.shape[0],]\n",
    "# This is 1D, if you have extra dimensions, you can  get rid of them with tf.squeeze .\n",
    "# Don't forget the sigmoid.\n",
    "# predicted_y = <predicted probabilities for input_X>\n",
    "\n",
    "predicted_y = tf.squeeze(tf.sigmoid(input_X @ weights + b))\n",
    "\n",
    "# Loss. Should be a scalar number - average loss over all the objects\n",
    "# tf.reduce_mean is your friend here\n",
    "# loss = <logistic loss (scalar, mean over sample)>\n",
    "loss = tf.reduce_mean(-tf.log(predicted_y) * input_y - tf.log(1 - predicted_y) * (1 - input_y))\n",
    "\n",
    "# See above for an example. tf.train.*Optimizer\n",
    "# optimizer = <optimizer that minimizes loss>\n",
    "optimizer = tf.train.MomentumOptimizer(0.01, 0.5).minimize(loss, var_list=[weights, b])"
   ]
  },
  {
   "cell_type": "markdown",
   "metadata": {},
   "source": [
    "A test to help with the debugging"
   ]
  },
  {
   "cell_type": "code",
   "execution_count": 36,
   "metadata": {},
   "outputs": [],
   "source": [
    "validation_weights = 1e-3 * np.fromiter(map(lambda x:\n",
    "        s.run(weird_psychotic_function, {my_scalar:x, my_vector:[1, 0.1, 2]}),\n",
    "                                   0.15 * np.arange(1, X.shape[1] + 1)),\n",
    "                                   count=X.shape[1], dtype=np.float32)[:, np.newaxis]\n",
    "\n",
    "# Compute predictions for given weights and bias\n",
    "prediction_validation = s.run(\n",
    "    predicted_y, {\n",
    "    input_X: X,\n",
    "    weights: validation_weights,\n",
    "    b: 1e-1})\n",
    "\n",
    "#prediction_validation = prediction_validation.flatten()\n",
    "\n",
    "# Load the reference values for the predictions\n",
    "validation_true_values = np.loadtxt(\"predicciones_de_validacion.txt\")\n",
    "\n",
    "assert prediction_validation.shape == (X.shape[0],),\\\n",
    "       \"Predictions must be a 1D array with length equal to the number \" \\\n",
    "       \"of examples in input_X\"\n",
    "assert np.allclose(validation_true_values, prediction_validation)\n",
    "loss_validation = s.run(\n",
    "        loss, {\n",
    "            input_X: X[:100],\n",
    "            input_y: y[-100:],\n",
    "            weights: validation_weights+1.21e-3,\n",
    "            b: -1e-1})\n",
    "assert np.allclose(loss_validation, 0.728689)"
   ]
  },
  {
   "cell_type": "code",
   "execution_count": 37,
   "metadata": {},
   "outputs": [
    {
     "name": "stdout",
     "output_type": "stream",
     "text": [
      "loss at iter 0:0.1252\n",
      "train auc: 0.9999451032059727\n",
      "test auc: 1.0\n",
      "loss at iter 1:0.0450\n",
      "train auc: 1.0\n",
      "test auc: 1.0\n",
      "loss at iter 2:0.0269\n",
      "train auc: 1.0\n",
      "test auc: 1.0\n",
      "loss at iter 3:0.0200\n",
      "train auc: 1.0\n",
      "test auc: 1.0\n",
      "loss at iter 4:0.0169\n",
      "train auc: 1.0\n",
      "test auc: 1.0\n"
     ]
    }
   ],
   "source": [
    "from sklearn.metrics import roc_auc_score\n",
    "s.run(tf.global_variables_initializer())\n",
    "for i in range(5):\n",
    "    s.run(optimizer, {input_X: X_train, input_y: y_train})\n",
    "    loss_i = s.run(loss, {input_X: X_train, input_y: y_train})\n",
    "    print(\"loss at iter %i:%.4f\" % (i, loss_i))\n",
    "    print(\"train auc:\", roc_auc_score(y_train, s.run(predicted_y, {input_X:X_train})))\n",
    "    print(\"test auc:\", roc_auc_score(y_test, s.run(predicted_y, {input_X:X_test})))"
   ]
  },
  {
   "cell_type": "code",
   "execution_count": 38,
   "metadata": {},
   "outputs": [],
   "source": [
    "# era submision aqui"
   ]
  },
  {
   "cell_type": "code",
   "execution_count": 39,
   "metadata": {},
   "outputs": [],
   "source": [
    "test_weights = 1e-3 * np.fromiter(map(lambda x:\n",
    "    s.run(weird_psychotic_function, {my_scalar:x, my_vector:[1, 2, 3]}),\n",
    "                               0.1 * np.arange(1, X.shape[1] + 1)),\n",
    "                               count=X.shape[1], dtype=np.float32)[:, np.newaxis]"
   ]
  },
  {
   "cell_type": "markdown",
   "metadata": {},
   "source": [
    "First, test prediction and loss computation. This part doesn't require a fitted model."
   ]
  },
  {
   "cell_type": "code",
   "execution_count": 40,
   "metadata": {},
   "outputs": [],
   "source": [
    "prediction_test = s.run(\n",
    "    predicted_y, {\n",
    "    input_X: X,\n",
    "    weights: test_weights,\n",
    "    b: 1e-1})"
   ]
  },
  {
   "cell_type": "code",
   "execution_count": 41,
   "metadata": {},
   "outputs": [],
   "source": [
    "assert prediction_test.shape == (X.shape[0],),\\\n",
    "       \"Predictions must be a 1D array with length equal to the number \" \\\n",
    "       \"of examples in X_test\""
   ]
  },
  {
   "cell_type": "code",
   "execution_count": 42,
   "metadata": {},
   "outputs": [],
   "source": [
    "loss_test = s.run(\n",
    "    loss, {\n",
    "        input_X: X[:100],\n",
    "        input_y: y[-100:],\n",
    "        weights: test_weights+1.21e-3,\n",
    "        b: -1e-1})\n",
    "# Yes, the X/y indices mistmach is intentional"
   ]
  }
 ],
 "metadata": {
  "kernelspec": {
   "display_name": "Python 3",
   "language": "python",
   "name": "python3"
  },
  "language_info": {
   "codemirror_mode": {
    "name": "ipython",
    "version": 3
   },
   "file_extension": ".py",
   "mimetype": "text/x-python",
   "name": "python",
   "nbconvert_exporter": "python",
   "pygments_lexer": "ipython3",
   "version": "3.7.4"
  }
 },
 "nbformat": 4,
 "nbformat_minor": 2
}
