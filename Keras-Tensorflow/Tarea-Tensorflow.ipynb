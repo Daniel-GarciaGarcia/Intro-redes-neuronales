{
 "cells": [
  {
   "cell_type": "markdown",
   "metadata": {
    "slideshow": {
     "slide_type": "slide"
    }
   },
   "source": [
    "# Profundizando en Tensorflow\n",
    "\n",
    "Aqui vamos a estudiar las herramientas que se usaran para construir modelos de deep learning, esto es [Tensorflow](https://www.tensorflow.org/).\n",
    "\n",
    "En primer lugar, instalar Tensorflow con pip:\n",
    "* `pip install tensorflow` , solo TF en cpu tanto en Linux comom en Mac OS\n",
    "* Si quieres soporte para GPU mira esta pagina: [instalacion TF](https://www.tensorflow.org/install/)"
   ]
  },
  {
   "cell_type": "markdown",
   "metadata": {},
   "source": [
    "# Visualization"
   ]
  },
  {
   "cell_type": "markdown",
   "metadata": {},
   "source": [
    "Plase note that if you are running on the Coursera platform, you won't be able to access the tensorboard instance due to the network setup there. If you run the notebook locally, you should be able to access TensorBoard on http://127.0.0.1:7007/"
   ]
  },
  {
   "cell_type": "code",
   "execution_count": 1,
   "metadata": {},
   "outputs": [
    {
     "name": "stdout",
     "output_type": "stream",
     "text": [
      "No matching processes belonging to you were found\r\n"
     ]
    }
   ],
   "source": [
    "! killall tensorboard\n",
    "import os\n",
    "os.system(\"tensorboard --logdir=/tmp/tboard --port=7007 &\");"
   ]
  },
  {
   "cell_type": "code",
   "execution_count": 44,
   "metadata": {},
   "outputs": [],
   "source": [
    "import warnings\n",
    "warnings.simplefilter(action='ignore', category=FutureWarning)\n",
    "import tensorflow as tf\n",
    "from keras_utils import reset_tf_session\n",
    "s = reset_tf_session()"
   ]
  },
  {
   "cell_type": "markdown",
   "metadata": {},
   "source": [
    "# Warming up\n",
    "For starters, let's implement a python function that computes the sum of squares of numbers from 0 to N-1."
   ]
  },
  {
   "cell_type": "code",
   "execution_count": 3,
   "metadata": {},
   "outputs": [],
   "source": [
    "import numpy as np\n",
    "def sum_sin(N):\n",
    "    return np.sum(np.arange(N)**2)"
   ]
  },
  {
   "cell_type": "code",
   "execution_count": 4,
   "metadata": {},
   "outputs": [
    {
     "name": "stdout",
     "output_type": "stream",
     "text": [
      "CPU times: user 1.34 ms, sys: 1.18 ms, total: 2.52 ms\n",
      "Wall time: 1.39 ms\n"
     ]
    },
    {
     "data": {
      "text/plain": [
       "333328333350000"
      ]
     },
     "execution_count": 4,
     "metadata": {},
     "output_type": "execute_result"
    }
   ],
   "source": [
    "%%time\n",
    "sum_sin(10**5)"
   ]
  },
  {
   "cell_type": "markdown",
   "metadata": {},
   "source": [
    "# Tensoflow teaser\n",
    "\n",
    "Doing the very same thing"
   ]
  },
  {
   "cell_type": "code",
   "execution_count": 5,
   "metadata": {},
   "outputs": [],
   "source": [
    "# An integer parameter\n",
    "N = tf.placeholder('int64', name=\"input_to_your_function\")\n",
    "\n",
    "# A recipe on how to produce the same result\n",
    "result = tf.reduce_sum(tf.range(N)**2)"
   ]
  },
  {
   "cell_type": "code",
   "execution_count": 6,
   "metadata": {},
   "outputs": [
    {
     "data": {
      "text/plain": [
       "<tf.Tensor 'Sum:0' shape=() dtype=int64>"
      ]
     },
     "execution_count": 6,
     "metadata": {},
     "output_type": "execute_result"
    }
   ],
   "source": [
    "result"
   ]
  },
  {
   "cell_type": "code",
   "execution_count": 7,
   "metadata": {},
   "outputs": [
    {
     "name": "stdout",
     "output_type": "stream",
     "text": [
      "CPU times: user 3.43 ms, sys: 2.07 ms, total: 5.5 ms\n",
      "Wall time: 8.45 ms\n"
     ]
    },
    {
     "data": {
      "text/plain": [
       "333328333350000"
      ]
     },
     "execution_count": 7,
     "metadata": {},
     "output_type": "execute_result"
    }
   ],
   "source": [
    "%%time\n",
    "result.eval({N: 10**5})"
   ]
  },
  {
   "cell_type": "code",
   "execution_count": 8,
   "metadata": {},
   "outputs": [],
   "source": [
    "writer = tf.summary.FileWriter(\"/tmp/tboard\", graph=s.graph)"
   ]
  },
  {
   "cell_type": "markdown",
   "metadata": {},
   "source": [
    "# How does it work?\n",
    "1. Define placeholders where you'll send inputs\n",
    "2. Make symbolic graph: a recipe for mathematical transformation of those placeholders\n",
    "3. Compute outputs of your graph with particular values for each placeholder\n",
    "  * `output.eval({placeholder:value})`\n",
    "  * `s.run(output, {placeholder:value})`\n",
    "\n",
    "So far there are two main entities: \"placeholder\" and \"transformation\"\n",
    "* Both can be numbers, vectors, matrices, tensors, etc.\n",
    "* Both can be int32/64, floats, booleans (uint8) of various size.\n",
    "\n",
    "* You can define new transformations as an arbitrary operation on placeholders and other transformations\n",
    " * `tf.reduce_sum(tf.arange(N)**2)` are 3 sequential transformations of placeholder `N`\n",
    " * There's a tensorflow symbolic version for every numpy function\n",
    "   * `a+b, a/b, a**b, ...` behave just like in numpy\n",
    "   * `np.mean` -> `tf.reduce_mean`\n",
    "   * `np.arange` -> `tf.range`\n",
    "   * `np.cumsum` -> `tf.cumsum`\n",
    "   * If if you can't find the op you need, see the [docs](https://www.tensorflow.org/api_docs/python).\n",
    "   \n",
    "`tf.contrib` has many high-level features, may be worth a look."
   ]
  },
  {
   "cell_type": "code",
   "execution_count": 9,
   "metadata": {},
   "outputs": [],
   "source": [
    "with tf.name_scope(\"Placeholders_examples\"):\n",
    "    # Default placeholder that can be arbitrary float32\n",
    "    # scalar, vertor, matrix, etc.\n",
    "    arbitrary_input = tf.placeholder('float32')\n",
    "\n",
    "    # Input vector of arbitrary length\n",
    "    input_vector = tf.placeholder('float32', shape=(None,))\n",
    "\n",
    "    # Input vector that _must_ have 10 elements and integer type\n",
    "    fixed_vector = tf.placeholder('int32', shape=(10,))\n",
    "\n",
    "    # Matrix of arbitrary n_rows and 15 columns\n",
    "    # (e.g. a minibatch your data table)\n",
    "    input_matrix = tf.placeholder('float32', shape=(None, 15))\n",
    "    \n",
    "    # You can generally use None whenever you don't need a specific shape\n",
    "    input1 = tf.placeholder('float64', shape=(None, 100, None))\n",
    "    input2 = tf.placeholder('int32', shape=(None, None, 3, 224, 224))\n",
    "\n",
    "    # elementwise multiplication\n",
    "    double_the_vector = input_vector*2\n",
    "\n",
    "    # elementwise cosine\n",
    "    elementwise_cosine = tf.cos(input_vector)\n",
    "\n",
    "    # difference between squared vector and vector itself plus one\n",
    "    vector_squares = input_vector**2 - input_vector + 1"
   ]
  },
  {
   "cell_type": "code",
   "execution_count": 10,
   "metadata": {},
   "outputs": [],
   "source": [
    "my_vector =  tf.placeholder('float32', shape=(None,), name=\"VECTOR_1\")\n",
    "my_vector2 = tf.placeholder('float32', shape=(None,))\n",
    "my_transformation = my_vector * my_vector2 / (tf.sin(my_vector) + 1)"
   ]
  },
  {
   "cell_type": "code",
   "execution_count": 11,
   "metadata": {},
   "outputs": [
    {
     "name": "stdout",
     "output_type": "stream",
     "text": [
      "Tensor(\"truediv:0\", shape=(?,), dtype=float32)\n"
     ]
    }
   ],
   "source": [
    "print(my_transformation)"
   ]
  },
  {
   "cell_type": "code",
   "execution_count": 12,
   "metadata": {},
   "outputs": [
    {
     "name": "stdout",
     "output_type": "stream",
     "text": [
      "[0. 1. 2. 3. 4.]\n"
     ]
    },
    {
     "data": {
      "text/plain": [
       "array([0.       , 1.6291324, 2.0950115, 2.6289961, 0.       ],\n",
       "      dtype=float32)"
      ]
     },
     "execution_count": 12,
     "metadata": {},
     "output_type": "execute_result"
    }
   ],
   "source": [
    "dummy = np.arange(5).astype('float32')\n",
    "print(dummy)\n",
    "my_transformation.eval({my_vector:dummy, my_vector2:dummy[::-1]})"
   ]
  },
  {
   "cell_type": "code",
   "execution_count": 13,
   "metadata": {},
   "outputs": [],
   "source": [
    "writer.add_graph(my_transformation.graph)\n",
    "writer.flush()"
   ]
  },
  {
   "cell_type": "markdown",
   "metadata": {},
   "source": [
    "TensorBoard allows writing scalars, images, audio, histogram. You can read more on tensorboard usage [here](https://www.tensorflow.org/get_started/graph_viz)."
   ]
  },
  {
   "cell_type": "markdown",
   "metadata": {},
   "source": [
    "# Summary\n",
    "* Tensorflow is based on computation graphs\n",
    "* The graphs consist of placehlders and transformations"
   ]
  },
  {
   "cell_type": "markdown",
   "metadata": {},
   "source": [
    "# Mean squared error\n",
    "\n",
    "Your assignment is to implement mean squared error in tensorflow."
   ]
  },
  {
   "cell_type": "code",
   "execution_count": 14,
   "metadata": {},
   "outputs": [],
   "source": [
    "y = np.arange(5)\n",
    "y_pred = np.arange(5)[::-1]"
   ]
  },
  {
   "cell_type": "code",
   "execution_count": 15,
   "metadata": {},
   "outputs": [
    {
     "data": {
      "text/plain": [
       "array([16,  4,  0,  4, 16])"
      ]
     },
     "execution_count": 15,
     "metadata": {},
     "output_type": "execute_result"
    }
   ],
   "source": [
    "(y - y_pred) ** 2"
   ]
  },
  {
   "cell_type": "code",
   "execution_count": 16,
   "metadata": {},
   "outputs": [],
   "source": [
    "with tf.name_scope(\"MSE\"):\n",
    "    y_true = tf.placeholder(\"float32\", shape=(None,), name=\"y_true\")\n",
    "    y_predicted = tf.placeholder(\"float32\", shape=(None,), name=\"y_predicted\")\n",
    "    # Your code goes here\n",
    "    # You want to use tf.reduce_mean\n",
    "    # mse = tf.<...>\n",
    "    mse = tf.reduce_mean((y_true - y_predicted) ** 2)\n",
    "def compute_mse(vector1, vector2):\n",
    "    return mse.eval({y_true: vector1, y_predicted: vector2})"
   ]
  },
  {
   "cell_type": "code",
   "execution_count": 17,
   "metadata": {},
   "outputs": [],
   "source": [
    "writer.add_graph(mse.graph)\n",
    "writer.flush()"
   ]
  },
  {
   "cell_type": "code",
   "execution_count": 18,
   "metadata": {},
   "outputs": [],
   "source": [
    "# Rigorous local testing of MSE implementation\n",
    "import sklearn.metrics\n",
    "for n in [1, 5, 10, 10**3]:\n",
    "    elems = [np.arange(n), np.arange(n, 0, -1), np.zeros(n),\n",
    "             np.ones(n), np.random.random(n), np.random.randint(100, size=n)]\n",
    "    for el in elems:\n",
    "        for el_2 in elems:\n",
    "            true_mse = np.array(sklearn.metrics.mean_squared_error(el, el_2))\n",
    "            my_mse = compute_mse(el, el_2)\n",
    "            if not np.allclose(true_mse, my_mse):\n",
    "                print('mse(%s,%s)' % (el, el_2))\n",
    "                print(\"should be: %f, but your function returned %f\" % (true_mse, my_mse))\n",
    "                raise ValueError('Wrong result')"
   ]
  },
  {
   "cell_type": "markdown",
   "metadata": {},
   "source": [
    "# Variables\n",
    "\n",
    "The inputs and transformations have no value outside function call. This isn't too comfortable if you want your model to have parameters (e.g. network weights) that are always present, but can change their value over time.\n",
    "\n",
    "Tensorflow solves this with `tf.Variable` objects.\n",
    "* You can assign variable a value at any time in your graph\n",
    "* Unlike placeholders, there's no need to explicitly pass values to variables when `s.run(...)`-ing\n",
    "* You can use variables the same way you use transformations \n",
    " "
   ]
  },
  {
   "cell_type": "code",
   "execution_count": 19,
   "metadata": {},
   "outputs": [],
   "source": [
    "# Creating a shared variable\n",
    "shared_vector_1 = tf.Variable(initial_value=np.ones(5),\n",
    "                              name=\"example_variable\")"
   ]
  },
  {
   "cell_type": "code",
   "execution_count": 20,
   "metadata": {},
   "outputs": [
    {
     "name": "stdout",
     "output_type": "stream",
     "text": [
      "Initial value [1. 1. 1. 1. 1.]\n"
     ]
    }
   ],
   "source": [
    "# Initialize variable(s) with initial values\n",
    "s.run(tf.global_variables_initializer())\n",
    "\n",
    "# Evaluating shared variable (outside symbolicd graph)\n",
    "print(\"Initial value\", s.run(shared_vector_1))\n",
    "\n",
    "# Within symbolic graph you use them just\n",
    "# as any other inout or transformation, not \"get value\" needed"
   ]
  },
  {
   "cell_type": "code",
   "execution_count": 21,
   "metadata": {},
   "outputs": [
    {
     "name": "stdout",
     "output_type": "stream",
     "text": [
      "New value [0. 1. 2. 3. 4.]\n"
     ]
    }
   ],
   "source": [
    "# Setting a new value\n",
    "s.run(shared_vector_1.assign(np.arange(5)))\n",
    "\n",
    "# Getting that new value\n",
    "print(\"New value\", s.run(shared_vector_1))"
   ]
  },
  {
   "cell_type": "markdown",
   "metadata": {},
   "source": [
    "# tf.gradients - why graphs matter\n",
    "* Tensorflow can compute derivatives and gradients automatically using the computation graph\n",
    "* True to its name it can manage matrix derivatives\n",
    "* Gradients are computed as a product of elementary derivatives via the chain rule:\n",
    "\n",
    "$$ {\\partial f(g(x)) \\over \\partial x} = {\\partial f(g(x)) \\over \\partial g(x)}\\cdot {\\partial g(x) \\over \\partial x} $$\n",
    "\n",
    "It can get you the derivative of any graph as long as it knows how to differentiate elementary operations"
   ]
  },
  {
   "cell_type": "code",
   "execution_count": 22,
   "metadata": {},
   "outputs": [
    {
     "name": "stdout",
     "output_type": "stream",
     "text": [
      "WARNING:tensorflow:From /Users/data/Library/Python/3.7/lib/python/site-packages/tensorflow/python/ops/math_grad.py:1205: add_dispatch_support.<locals>.wrapper (from tensorflow.python.ops.array_ops) is deprecated and will be removed in a future version.\n",
      "Instructions for updating:\n",
      "Use tf.where in 2.0, which has the same broadcast rule as np.where\n"
     ]
    }
   ],
   "source": [
    "my_scalar = tf.placeholder('float32')\n",
    "\n",
    "scalar_squared = my_scalar**2\n",
    "\n",
    "# A derivative of scalar_squared by my_scalar\n",
    "derivative = tf.gradients(scalar_squared, [my_scalar, ])"
   ]
  },
  {
   "cell_type": "code",
   "execution_count": 23,
   "metadata": {},
   "outputs": [
    {
     "data": {
      "text/plain": [
       "[<tf.Tensor 'gradients/pow_1_grad/Reshape:0' shape=<unknown> dtype=float32>]"
      ]
     },
     "execution_count": 23,
     "metadata": {},
     "output_type": "execute_result"
    }
   ],
   "source": [
    "derivative"
   ]
  },
  {
   "cell_type": "code",
   "execution_count": 24,
   "metadata": {},
   "outputs": [
    {
     "data": {
      "image/png": "[encoded data removed]",
      "text/plain": [
       "<Figure size 432x288 with 1 Axes>"
      ]
     },
     "metadata": {
      "needs_background": "light"
     },
     "output_type": "display_data"
    }
   ],
   "source": [
    "import matplotlib.pyplot as plt\n",
    "%matplotlib inline\n",
    "\n",
    "x = np.linspace(-3, 3)\n",
    "x_squared, x_squared_der = s.run([scalar_squared, derivative[0]],\n",
    "                                 {my_scalar:x})\n",
    "\n",
    "plt.plot(x, x_squared,label=\"$x^2$\")\n",
    "plt.plot(x, x_squared_der, label=r\"$\\frac{dx^2}{dx}$\")\n",
    "plt.legend();"
   ]
  },
  {
   "cell_type": "markdown",
   "metadata": {},
   "source": [
    "# Why that rocks"
   ]
  },
  {
   "cell_type": "code",
   "execution_count": 25,
   "metadata": {},
   "outputs": [],
   "source": [
    "my_vector = tf.placeholder('float32', [None])\n",
    "# Compute the gradient of the next weird function over my_scalar and my_vector\n",
    "# Warning! Trying to understand the meaning of that function may result in permanent brain damage\n",
    "weird_psychotic_function = tf.reduce_mean(\n",
    "    (my_vector+my_scalar)**(1+tf.nn.moments(my_vector,[0])[1]) + \n",
    "    1./ tf.atan(my_scalar))/(my_scalar**2 + 1) + 0.01*tf.sin(\n",
    "    2*my_scalar**1.5)*(tf.reduce_sum(my_vector)* my_scalar**2\n",
    "                      )*tf.exp((my_scalar-4)**2)/(\n",
    "    1+tf.exp((my_scalar-4)**2))*(1.-(tf.exp(-(my_scalar-4)**2)\n",
    "                                    )/(1+tf.exp(-(my_scalar-4)**2)))**2\n",
    "\n",
    "der_by_scalar = tf.gradients(weird_psychotic_function, my_scalar)\n",
    "der_by_vector = tf.gradients(weird_psychotic_function, my_vector)"
   ]
  },
  {
   "cell_type": "code",
   "execution_count": 26,
   "metadata": {},
   "outputs": [
    {
     "data": {
      "image/png": "[encoded data removed]",
      "text/plain": [
       "<Figure size 432x288 with 1 Axes>"
      ]
     },
     "metadata": {
      "needs_background": "light"
     },
     "output_type": "display_data"
    }
   ],
   "source": [
    "# Plotting the derivative\n",
    "scalar_space = np.linspace(1, 7, 100)\n",
    "\n",
    "y = [s.run(weird_psychotic_function, {my_scalar:x, my_vector:[1, 2, 3]})\n",
    "     for x in scalar_space]\n",
    "\n",
    "plt.plot(scalar_space, y, label='function')\n",
    "\n",
    "y_der_by_scalar = [s.run(der_by_scalar,\n",
    "                         {my_scalar:x, my_vector:[1, 2, 3]})\n",
    "                   for x in scalar_space]\n",
    "\n",
    "plt.plot(scalar_space, y_der_by_scalar, label='derivative')\n",
    "plt.grid()\n",
    "plt.legend();"
   ]
  },
  {
   "cell_type": "markdown",
   "metadata": {},
   "source": [
    "# Almost done - optimizers\n",
    "\n",
    "While you can perform gradient descent by hand with automatic grads from above, tensorflow also has some optimization methods implemented for you. Recall momentum & rmsprop?"
   ]
  },
  {
   "cell_type": "code",
   "execution_count": 27,
   "metadata": {},
   "outputs": [],
   "source": [
    "y_guess = tf.Variable(np.zeros(2, dtype='float32'))\n",
    "y_true = tf.range(1, 3, dtype='float32')\n",
    "loss = tf.reduce_mean((y_guess - y_true + tf.random_normal([2]))**2) \n",
    "#loss = tf.reduce_mean((y_guess - y_true)**2) \n",
    "optimizer = tf.train.MomentumOptimizer(0.01, 0.5).minimize(\n",
    "    loss, var_list=y_guess)"
   ]
  },
  {
   "cell_type": "code",
   "execution_count": 28,
   "metadata": {},
   "outputs": [
    {
     "data": {
      "image/png": "[encoded data removed]",
      "text/plain": [
       "<Figure size 432x288 with 1 Axes>"
      ]
     },
     "metadata": {
      "needs_background": "light"
     },
     "output_type": "display_data"
    }
   ],
   "source": [
    "from matplotlib import animation, rc\n",
    "import matplotlib_utils\n",
    "from IPython.display import HTML, display_html\n",
    "\n",
    "fig, ax = plt.subplots()\n",
    "y_true_value = s.run(y_true)\n",
    "level_x = np.arange(0, 2, 0.02)\n",
    "level_y = np.arange(0, 3, 0.02)\n",
    "X, Y = np.meshgrid(level_x, level_y)\n",
    "Z = (X - y_true_value[0])**2 + (Y - y_true_value[1])**2\n",
    "ax.set_xlim(-0.02, 2)\n",
    "ax.set_ylim(-0.02, 3)\n",
    "s.run(tf.global_variables_initializer())\n",
    "ax.scatter(*s.run(y_true), c='red')\n",
    "contour = ax.contour(X, Y, Z, 10)\n",
    "ax.clabel(contour, inline=1, fontsize=10)\n",
    "line, = ax.plot([], [], lw=2)\n",
    "\n",
    "def init():\n",
    "    line.set_data([], [])\n",
    "    return (line,)\n",
    "\n",
    "guesses = [s.run(y_guess)]\n",
    "\n",
    "def animate(i):\n",
    "    s.run(optimizer)\n",
    "    guesses.append(s.run(y_guess))\n",
    "    line.set_data(*zip(*guesses))\n",
    "    return (line,)\n",
    "\n",
    "anim = animation.FuncAnimation(fig, animate, init_func=init,\n",
    "                               frames=400, interval=20, blit=True)"
   ]
  },
  {
   "cell_type": "code",
   "execution_count": 29,
   "metadata": {},
   "outputs": [
    {
     "data": {
      "text/html": [
       "<img src=\"data:image/jpeg;base64,/9j/4AAQSkZJRgABAQEASABIAAD/2wBDAAIBAQEBAQIBAQECAgICAgQDAgICAgUEBAMEBgUGBgYFBgYGBwkIBgcJBwYGCAsICQoKCgoKBggLDAsKDAkKCgr/2wBDAQICAgICAgUDAwUKBwYHCgoKCgoKCgoKCgoKCgoKCgoKCgoKCgoKCgoKCgoKCgoKCgoKCgoKCgoKCgoKCgoKCgr/wAARCAEgAbADASIAAhEBAxEB/8QAHwAAAQUBAQEBAQEAAAAAAAAAAAECAwQFBgcICQoL/8QAtRAAAgEDAwIEAwUFBAQAAAF9AQIDAAQRBRIhMUEGE1FhByJxFDKBkaEII0KxwRVS0fAkM2JyggkKFhcYGRolJicoKSo0NTY3ODk6Q0RFRkdISUpTVFVWV1hZWmNkZWZnaGlqc3R1dnd4eXqDhIWGh4iJipKTlJWWl5iZmqKjpKWmp6ipqrKztLW2t7i5usLDxMXGx8jJytLT1NXW19jZ2uHi4%2BTl5ufo6erx8vP09fb3%2BPn6/8QAHwEAAwEBAQEBAQEBAQAAAAAAAAECAwQFBgcICQoL/8QAtREAAgECBAQDBAcFBAQAAQJ3AAECAxEEBSExBhJBUQdhcRMiMoEIFEKRobHBCSMzUvAVYnLRChYkNOEl8RcYGRomJygpKjU2Nzg5OkNERUZHSElKU1RVVldYWVpjZGVmZ2hpanN0dXZ3eHl6goOEhYaHiImKkpOUlZaXmJmaoqOkpaanqKmqsrO0tba3uLm6wsPExcbHyMnK0tPU1dbX2Nna4uPk5ebn6Onq8vP09fb3%2BPn6/9oADAMBAAIRAxEAPwD9/KKKKACiiigAooooAKKKKACiiigAooooAKKKKACiiigAooooAKKKKACiiigAooooAKKKKACiiigAooooAKKKKACiiigAooooAKKKKACiiigAooooAKKKKACiiigAooooAKKKKACiiigAooooAKKKKACiiigAorj/AAR%2B0J8A/iZ431n4Z/Dj44eD/EHiTw5JJH4h8P6J4ltbu%2B0t0kMTrcQRSNJAVkBQh1GGG088VZsPjb8GNV%2BKV78DdL%2BLvhi58babZLeaj4Pt9ftn1S1tiEImktA/nJGRJHh2UA7155FAHT0UUUAFFFFABRRRQAUUUUAFFFFABRRRQAUUUUAFFFFABRRRQAUUUUAFFFFABRRRQAUUUUAFFFFABRRRQAUUUUAFFFFABRRRQAUUUUAFFFFABRRRQAUUUUAFFFFABRRRQAUUUUAFFFFAHyM/iK78Sf8ABRXRvjLpWnfFnWdA8OeFNe0jVrLxH8LL/T9N8KS3FxpcStpco06CXVDdy2xaQ%2BZfIiIZkktolxJy/wANfAHxBg/ae8IfDi4%2BFHii313wp%2B0r428deJvGNx4Zuo9Ku/Dmo6XrcVj5epNGLe6kI1LSbU2qSNKn2BmZFWBCfuGigDxD9tfx3%2B078LPC2i%2BNvgH4%2B8B6bbXPi/w54f1Cx8X%2BA73VZHfVddsdL%2B0Ry22q2YjESXhk8so%2B8xgb0ByLP/CD/wDBQv8A6Og%2BDP8A4YfVv/moo/bw/wCSIaH/ANlm%2BHH/AKmuiV7NQB4z/wAIP/wUL/6Og%2BDP/hh9W/8AmoqtrPh/9vPw7pNzr/iD9rX4IWNjZQPPeXt58DtUihgiUFmd3bxSFVQASSSAAK7j4d/HDTPH/wAQPEnw2uPBut6Dqfh4xyJHrkUMf9pWjySxLeW4jlctCZYJUywVuFJUB1J8N8X%2BGfjB4f0nxN8PvjTo19q%2Bm/EHxPL4btPGMvjF57hUvHkNjJDpaQrDbQQsyROY2EpCmZgVUmuqlhXOfLN2206tPtrba7/pnNUxCjDmir7/ACa7/PQyvEfxw/bt1ODwynwE/aT%2BAvjm58UXl7FZLH8JtUs4QLSHzp18w%2BJJP323aFiKgtu3EqgZh2/wr1D9u/4t%2BArDx94f/aa%2BEEMF6JFltbr4Cass1rPFI0U0Eg/4Snh45Y5I2HqhrL8NfB74s/GD4kXPjDxV4N1PwDq%2Bl2Ol3L66zW0sNx4itXkR7i3jilPnW0lrLJE5YRlkuGT7y5T2/wCDPwzuPhV4Ok0LUvEQ1fUb3VLzU9W1JLIWyXF1cztNIUiDN5aAttVdzEBRlmOSdMTTw1OmoxfvffvfqtNrbWflrpFCeIqTvJe793bvr3/pa%2BD%2BCU/4LGeIfidq%2BjeLPFnwF8P%2BELCeaHTdfn%2BHGqXN9qe1sRzJZxeISsUbgE/vJw4yPk6477/hB/8AgoX/ANHQfBn/AMMPq3/zUV7NRXJOSm7pJel/1bOqEXFWbv6/8Cx4z/wg/wDwUL/6Og%2BDP/hh9W/%2Baij/AIQf/goX/wBHQfBn/wAMPq3/AM1FezVi%2BPfiT8O/hX4fk8V/E7x5o3h3S4v9ZqOuanFaQL35eVlX9amMZSdoq7K2PM/%2BEH/4KF/9HQfBn/ww%2Brf/ADUUf8IP/wAFC/8Ao6D4M/8Ahh9W/wDmormpv%2BClvwf8YTvp37M3w08f/F%2B5VzH9o8C%2BFZf7NSTOAH1G7MFqF/2lkb6HFNHij/gqB8VedA%2BF3ww%2BElhJ8rS%2BKNauPEmqRj%2B8IbMQWyt7GZxn1612f2fiI/xbQ/xNJ/drL/yUjnj01On/AOEH/wCChf8A0dB8Gf8Aww%2Brf/NRWZ4rT9tjwJpp1nxx%2B2d8BtGs1%2B9d6r8FtSt4h/wKTxUB%2BtZo/Yf%2BMnjv97%2B0D%2B3/APFHXM/e07wU9r4WsmXupFlGbgj6zk4PJNanhX/gmT%2Bwp4W1Ia7cfs56L4g1HgvqXjSSbXbh267i%2BoSTHOeeMY7Yo9lgYfHVcv8ADH9ZNfkF5vZHjHij/goFqvhbUTo5/wCCnf7PGsXoyPsXhP4Ea5rcxPoE0/xLMSe2MVm/8Nt/t7a9/wAkv8P6l4qR/wDUXdr%2ByBrWnW0voRLqXi22G335%2Blfb3hfwb4Q8EacNH8F%2BFdN0i0X7trpdjHbxj/gMYArSo9rgI/DTb9ZW/CMf1C0%2B58Ix/F//AIL7684bwr%2Bz38IrSFz8k3i7w%2B1kcepS18TXbD6EZruvhlZf8Fzdd8Q2v/C2PGP7LHh3Rn3fbJNJ8HeItSvY/kO3bE2pwRt820H96MAk8kAH60oqJ4ilKNo0or/wJv8AGX6DUX3PGf8AhB/%2BChf/AEdB8Gf/AAw%2Brf8AzUUf8IP/AMFC/wDo6D4M/wDhh9W/%2BaivZqK5Sjxn/hB/%2BChf/R0HwZ/8MPq3/wA1FH/CD/8ABQv/AKOg%2BDP/AIYfVv8A5qK9mooA8Z/4Qf8A4KF/9HQfBn/ww%2Brf/NRR/wAIP/wUL/6Og%2BDP/hh9W/8Amor2aigDxn/hB/8AgoX/ANHQfBn/AMMPq3/zUUf8IP8A8FC%2B37UHwZ/8MPq3/wA1FezUUAfFniG%2B/wCDg/Qd0mmWv7JmuoPupYaT4igkI9xPfKoP/AjWH/wvz/guR4b/AH3xF/Z08Ei3X78/g3wBHq5/4DG/i%2B3kP/fIr7vorsjiaNrSoxf/AIEvyk/yJ5X3Plv4DfEL/goT8ddN1G%2Bfx34X8Fy6bOkUtl48/Zk1fT5ZiwJ3QkeLHSZRjBZGIBIFafxE13/goF4B8U%2BDfB0f7QPwb1C98ZeIX0y2A%2BCuqwi1jjsrm7muWz4lbzAqW%2B3Z8uWkX5hX0jXnfjv9nHQvG/xe0P42p8Q/Fml6z4fgmisLew1dXsCssTRyFrS4SSEMVPLoqv8AKPm65inLDuu5NWjZ2WstbO3Z7636A%2Bax4P8AHr4y/wDBQ34Najeabovxc%2BEXiJ9C8OSeI/Fjw/BjUrZdK0lC4afL%2BJz50p8qYrCoBYRNyOM6ln8Z/wBrG/8AidB8KLf9q/4VHULi7FlFen9m/XRYm/8Asou/sP2n/hJvLFz9nPm%2BVu3bQ3dSB3Xxb/ZX8bfEPxPe3GlfFG0tdJ8U6DYaR46S60YveXdvazSSbraRJEjhMyyNE6tGyhWLLhs54LxB%2Bz7%2B0dDFrvhrw34asraz0HWPEXifw3rUerqZNY1CeJ10y3EYG%2BExrIUlkfglFKAhyE66dHA1KSTkk7d7b979n0XTV%2BUtzTOm8Fa7%2B158SLnUbL4e/tyfs%2B67NpFz9n1aHSPg5qNw9lLz8kqx%2BKiY2ODgNjOOK3/%2BEH/4KF/9HQfBn/ww%2Brf/ADUVifsj%2BELs%2BLYfFWheCtb8O%2BGfD3w60jwlplt4g0aXTrq9ktgZXcwTKsipEZDGrMAGZ5SpZSGPZ/Eb9sz9l/4P/FCD4O/Fr4y6T4X166tI7m0i8Qs9nbTo5YKEupVWBnypygk3DIyBuGearhZe3dOinKyvtd%2Be1/8AgX8ilLS7Mf8A4Qf/AIKF/wDR0HwZ/wDDD6t/81FH/CD/APBQv/o6D4M/%2BGH1b/5qK9f0zU9N1rT4dW0bUYLu1uIw9vc20yyRyqejKykhh7ip65Nijxn/AIQf/goX/wBHQfBn/wAMPq3/AM1FcD4EX/gsZqPxP1Twh8SPFnwF0nw9BBJNo/i7R/hxql9Hd4lVUhktn8QwywylGLnAeMbGG8/Lu%2BpKKuMlFNNJ39dPTX87kyi2007W/H1/pHzV8c9f/wCCh3wY%2BHdx4zs/jx8F9d1B7q3sdH0P/hTWrWjahe3EqwwQLJ/wkcu0tI6gnYcLuY4ANXfiF4g/bC%2BEekWmu/FX9tj4CeHrS9vY7OC71X4KapDC0752pvfxSAM4PJwOO1eg/FP4Dap4/wDiZ4Y%2BKel/EvUbSXwtdm6t/DV7DHc6RdzeRcQrM8W1ZEmUXDFZEkAGASrEDHD/ALSsPxH1/wAS%2BG18MfC3xU3i3QryCTw7rGlvBNoNx9pEdvfR3YkLFIlhknyZIkcqMwsXO0dVKlQqqEL923s12WulvPXd6aHNUqVabnK3a3Veb06%2BXluatp4R/wCCgF/axX1j%2B1T8FZoJo1khmi%2BBWqskiEZDKR4pwQQcgipP%2BEH/AOChf/R0HwZ/8MPq3/zUV5zqfxi1vw/r%2Bl/FmH4k3Wh%2BHIPFmoWen%2BEbG1hTT4fDelieO/upoQm/eXgd1fI2hIwnDEN7D8GPjp4t%2BIfimfwh4%2B%2BF3/CLXz%2BHbLXdOtG1f7TMbS4aRAlwnlJ5E6PGVZAZF5GHJDATVwdWnDm3X5f52vrbQqniqc5cvX%2Bvu%2BZxOpeMf2zfhL8afhV4a%2BKPxb%2BGHiXw/wCPPGt3oOp2mgfC7UdIvLcR%2BH9X1OOaK4m1y7QHzdOjRlaE5WRsFSAa%2Bga8Z/ag/wCS3/s4/wDZZr7/ANQrxRXs1ch0hRRRQAUUUUAFFFFABRRRQAUUUUAeM/t4f8kQ0P8A7LN8OP8A1NdErqPAf7R/w6%2BJ3xY8Q/CLwLDq%2BoXPhUNHr2sx6RKumW12rhWshcsAklwu7cUTdtAOSCMVy/7eH/JEND/7LN8OP/U10SvZURIxhECgkkgDHJ5Jq4uCT5ld9Ndv8/wJkptqzsuv9dDzH4tfCL4m%2BLvjN4P%2BJPw08X6R4d/sSzvLTXNRubF7u5vrOcxMbNItyRqN8SyCZ2bYyDEbBmz1Np8IfACeJrDx3rHh%2B31bxFptq1vZ%2BIdVt45byFGZiwR9oEedxB2BcjAPAFdNRVOvUcVG%2Bytp283u9yVSgpN23dwqvq2r6VoGl3Gua7qdvZWVpC013eXcyxxQRqMs7uxAVQASSTgAVU8aDxk3hTUF%2BHsmmprhtmGlvrEcj2qzY%2BUyrGyuy%2BoVgT0yOteMnWfE/wC0p%2Byp4z%2BGnxAvdK0vxppL3egeJfkMNiNRhKvDKFkZiltcxtbzKNzER3G3cWXNVSo%2B0XM3pdJ91frbt%2Bpbdjd8f/tX6RaWvh5/gR4ftPiPL4itdQvLI6H4ggSCS3soUkmWOYB0knbzYljh%2BXduYllVGNeRS/tIeM77xN4x%2BOHh74qanJaeHrrTL%2Bw8FXa26WN94Yn8mKV0QxiVLxLpL2NpC7BXVFJ2Mqi/4T%2BEXxF%2BLfxq13x7pfhDW/hxfW0VhqUl9qmmo8H/AAkkTtb3LQosgF3a3FnFAkrKUBCxlX3lwvq/gP8AZM%2BGGk%2BENF0n4o%2BGNB8Y6vo2q3mp2%2Br6h4fjC291c3cl1J9mikaUwRLJJ%2B7j3vsCJgkoCPSvgcJGzV3pfZvXXzj2V00%2Bpn78jv8Axr4du/GHg3VPC1h4o1LQ59S0%2BW2h1nSHRbuxZ0KiaEyIyiRSdy7lYZAyD0rx7wD/AME4v2UfB/iCPxz4s8D3XxA8UJy3ir4m6nLr18W7Mpui0cJHbykQDsK91orzKeJxFGDjTk0nvbS/zWvyvbyNHGLd2MgggtYEtraFI441CxxxqAqqOAAB0FPoorEYUUVh/ED4nfDb4TeH5PFnxT%2BIOieGtKi/1mpa/qsNnbr35klZVH504xlJ2irsEm9jcor5ou/%2BCrX7MniG6k0v9nnw/wCPvjFexOUkj%2BFnge71G2Rhx817IsVmBnv52BTB8eP%2BCmnxN/d/DD9hnwn4Etn%2BaHVPix8SUkl29ibLSYbgqcfwmYHscda7P7PxS/iJQ/xNR/Bu/wD5Kaeymt9PXT%2BvuPpqivmYfAT/AIKcePf9J8f/ALfPhTwaj8Sab8NPhPDJtHcLc6rcXB/Hyh60v/DtgeIP3nxV/bq/aG8Tl%2Bbi3/4WQdJtpPUeVpcNthfYk0fVsNH46y%2BSlL9IoOSC3l%2Bb/wAj6XZlRS7sAAMkk8AVy/iH45/BPwkzL4r%2BMPhbTCv3hqHiG2hx9d7ivEk/4JBf8E9rlhL4p%2BBdz4llzl5vF3jLV9WLn1Iu7uRfyGK6nw9/wTV/4J6%2BF1UaR%2BxH8Kwy/dkufAtjO4/4FLEzfrRy5cvtzfpGK/OTC1FdX9y/zNfUv27/ANh7RmK6x%2B2X8KbQjqLn4iaYmP8AvqcVlS/8FJf%2BCecLbX/bm%2BEZx/c%2BImmt/Kaur039k39lfRlC6P8As0fD%2B0A6C28GWMeP%2B%2BYhWpF8BvgbAu2D4MeE0Honh22H/slF8t7T%2B%2BH%2BQfufP8Dg7f8A4KP/APBPe6bbF%2B3N8IcnoH%2BI%2BmL/ADnFbWk/tsfsaa8wTQ/2t/hjek9BaePdOkz/AN8zGuguP2f/AIDXi7Lv4JeEZQeok8N2rfzjrE1X9jb9kHXVK65%2Byp8NrwN94XfgbT5M/wDfUJo/4Te0/wDyT/IP3Pn%2BB1vhz4m/DfxiQvhH4g6Hqpb7o03VoZ8/98Ma3K8E8R/8Es/%2BCcXikEan%2BxH8NIt3U6b4TtrM/nbqmKwz/wAEj/2JdM/ffD7wr4w8G3A/1dz4N%2BJ%2Bu6cY/wDdSO88sf8AfNHJl0tpyXrFP8pILUn1f3f8E%2Bl6K%2BZ/%2BHfPxP8ACg%2B0fB7/AIKRfHjRZ1/1UXiPW7DxFbL9U1G0kkb8ZKT/AIVt/wAFYfh3/wAin%2B078I/iPD18nx18P7vRLgj08/TbmSMH/a8jH%2BzR9VoS%2BCtH5qUfzTX4hyRe0l%2BKPpmivmU/tc/tv/DP/ku//BN/W9Ss4eJta%2BEPjSx11X/2ls7r7HcgewVz9TxWn4O/4KnfsTeINei8GeNfipP8PPEMpwfD3xT0S68N3St02g38ccbnOB8jtycUnl%2BLteMeZf3Wpf8ApLb/AAD2VTor%2Bmv5H0PRVfStW0vXdOh1fRNSt7y0uIw9vdWsyyRyqejKykhh7irFcexmFZ3irwh4T8daJN4Z8beGNO1jTbgYuNP1WyjuIJR6NHICrfiK0aKabi7oD511L/gml8FPDGoT%2BJf2YPGPi34M6vNIZXf4e600WnTSdR52mTiSzkUH%2BERL9RVdvGH/AAUa/Z7/AOR5%2BH/hv45eHYfv6t4MK6F4hSMcl3sLh2tblsdFhmiJ7L2P0lRXYsfWnpWSqL%2B9q/8AwJWl%2BLI5EttDyL4Iftyfs5/HfxA3gDQvF0%2BheMYB/pngTxlYSaTrVuepH2W4CtKB3aLen%2B1XrtcR8cP2bPgT%2B0l4fXwz8cPhdpPiK3hO60lvbfFxZv8A34J0Ilt3/wBqNlb3rx5/gv8Atp/srf6d%2Bzf8T3%2BLHhGDlvh18TNT2arbxj%2BCw1nGWPQLHdq4AGPMHWn7LCYj%2BFLkl2lt8pf/ACSXqF5R31PpiivI/gD%2B2j8IPjzr9x8OCmp%2BEvHunRb9W%2BHnjKz%2Bw6tbDvIkbErcw8ZE0DSIQQcjOK9crlq0atCfJUVn/X3rzTa8yk01dHnHjz9lj4O%2BL/Dni3TdF8GaVoOp%2BMbfbq%2BuaZpMInmlDiRZJMriX94qsytkSYw2c1pfCb4RXngHUtZ8ZeLfF7%2BIfE/iFoBq%2BsGzFtGYoA4gt4YQzCKJPMlIUsxLSuSxJrtaKp16zg4OWn9dd7aLTyRmqNJT5ktf6/zf3njH7TrF/jb%2BzkShX/i89%2BMH28FeKOa9nrxn9qD/AJLf%2Bzj/ANlmvv8A1CvFFezViahRRRQAUUUUAFFFFABRRRQB4P4U%2BM37QWh/tn2/7OnxC8QeCPEml6z4R1XxEsXhXw5eWN74VtoL22gsVvpZr24juhdCa4VHWO1JexmKJIqyGLC%2BFn7U/wAXdd/bS8VfA34seJtE8M6Lb%2BJ7nTfAGgX/AMJ9btLnxPbRaXb3ZuLXXp7safdyK7XZa3ggaQR2rkgBGcdF8Jv2Jbz4OfELxv8AEbw5%2B1l8Tbu68fa5PqutwatbeHZws7sgiWOb%2ByBceVbwotvDE8rpHFwFLfPW/ffstQeIvjlovxr8e/G/xr4ih8La1c6v4R8HakdMj0nRb6azuLJp4vs1lFdTFba7uo0FzcTKonYgblRlAOM/4KF/Fz4UeGvB/gz4UeI/id4e0/xT4g%2BMPw9l0Hw1e61BFqGpJH4z0ZpGt7dnEkwVVYsUUgBSTjBr6Hrxn9vD/kiGh/8AZZvhx/6muiV7NQAVxvx1%2BP3wn/Zu8BTfEf4weLItL09JVgtowjSXF9cNxHbW8KAvPM54WNASeT0BIyP2nP2mfCH7M3gq21rVtKvNc1/W70ad4O8H6QA1/r2oMPkt4V7AfeeQ/LGgLN2B4j9n/wDZS8X6l49g/ao/bF1Oz8R/Ex4mGh6TbEvpHgm3fra6ejcNMRgS3bfvJCMKVThuyjh4Kn7au7R6JbyfZdkusnotld6KXJ3stz0D9nP4l/Fz4t%2BDbrxx8VfgpN4DjvNQZvDuialqKzaidP2J5ct7Gi7Ladm3kwhnKAqGO4Gk0f8AZl%2BF2m/GLW/jtqNvf6r4h1wQpLJql%2B0ltaxRKqxJDbLthUrtyJSjS8kGQjivQaKxdaSnJ0/dT0sr7dtdenz/AAHbTUKKKKxGFFFeI/tHftyeBPgn4ut/gn8PvCWqfEj4qalb%2BbpXw48JlGukjOMXN7Mx8rTrXJGZpyOD8qvjFa0aNWvPkpq7/rVvZLu20ioxlJ2R7ZJJHDG000ioiKSzMcAAdSTXzp44/wCClvwhn8U3fwv/AGW/BviH43%2BMLSTyrrS/hxbpNp%2Bny9he6rKy2VqM8EGRnUjlKw7X9ib44/tVyL4k/wCCi3xa%2B26PKwkt/gr8Pr2ey8PW69Ql/cqVudWcYXIcxwbgcREGvpLwJ4A8C/C/wraeBvht4N0vw/othH5dlpOjWEdtbQL6JHGAq/gK6eXBYf4n7SXZO0V895fJJeZdqcN9X%2BH/AAT52X4Wf8FLP2if9I%2BLnx48PfBHw/P97wz8LbNdW1sxHqkurX0fkwyD%2B9b2x9nrf%2BH3/BMD9jTwZ4gj8deLPhnL8QvFK4L%2BLfinqk3iK/Zs53hr1nSE/wDXJEA7CvoGiplj8TblpvkXaK5fva95/OTE6s9lp6af8H8SOzs7TT7WOxsLWOCCFAkUMKBURRwAAOAB6CpKKK4zMKKKKACiiigAooooAKKKKACiiigAooooAKyvGXgXwT8RdBl8LfEHwdpWu6ZOMT6brOnxXUEn%2B9HKrKfxFatFNNxd1uGx806r/wAEsf2e/DmozeJv2X/FHjL4JazNIZXn%2BF/iKS0sZn6jztMmEllIueq%2BSMjuOCKj%2BIP%2BCoH7N3zeJvC3hP8AaE8NQ/fvvDoTw14njTqXa1lZrG7IH8MckBY9F5Ar6horsWPry0rJVF/eV3/4FpJfezT2sn8Wvr/nueL/AAF/b7/Zu%2BP3ih/hnpniS%2B8LeOoFzefDvx5pkmj65B1PFtPjz1wM74DIn%2B1XtFcF8fv2X/gB%2B1H4XTwj8e/hXpXiO1hbfZTXcJW5sZOvm21xGVmtpBgfPE6t714fL4B/bm/YiH9ofCHxNqXx8%2BGttzP4K8VXyL4u0mEdfsOottTUlUZIgutspCqqzEmq9jhcT/Blyy/lk9H6S0%2B6SX%2BIfLCfwuz7P/P/AD%2B8%2BraK87/Zv/ao%2BCv7VfhKfxV8IPE7zy6dcfZdf0LUbZ7TU9EuxndbXtrIBJbyggjDDBwSpYc16JXHUp1KU3Cas10Zm04uzCiiioEee/tBfsu/BX9pzQLfRviv4U8%2B606XztD1/T52tdT0ecYKz2l1GRJA4IB%2BU4OBuDDivHR8Zf2iP2Ep00n9qq%2Bu/iF8K1cR2fxd0%2Bw/4megx5wq63axDEkYHH22FccZkRS2a%2BpKZcW8F1A9rdQpJFIhSSORQVZSMEEHqCO1ddHFOEPZVFzQ7Pp5xe8X%2BD6pkuN3dblbw74i0DxdoVn4o8K63aalpuoW6XFhqFhcLNDcRMMrIjqSrKQQQQcGrlfKni74VfED/gnvrl58Y/2YvDt7rvwmurl7vx18I7Fd8uihjul1PREP3ccvLZDCONxj2tgD6Q%2BG3xI8C/F/wJpXxN%2BGfie11nQdbs1utM1KyfdHPG3f1BByCpAKsCCAQRSr4dU4qpTfNB7Pqn2kuj/BrVO2xGV9HueaftQf8lv/AGcf%2ByzX3/qFeKK9mrxn9qD/AJLf%2Bzj/ANlmvv8A1CvFFezVylBRRRQAUUUUAFFFFABRRRQAUUUUAeM/t4f8kQ0P/ss3w4/9TXRK9E%2BLXxU8D/A/4aa58XPiVrSafoXh7TpL3UrpxkrGgztUdWdjhVUcszBRyRXnf7eH/JEND/7LN8OP/U10SuO%2BP9sP2ov2y/CP7K8n77wf8PrKDx18RYBzHe3fmtHo2nydivmxzXbowIYW8eetdOFoxrVff0ik3L0X6vRLzfkTJ2Whd/ZG%2BDvjj4geMJ/25P2mNEe38beJLIw%2BDvDF18y%2BCdCc7o7RAel3MuJLmXAYsRGNqoQfoqiioxFeWIqcz06JdElsl5L8dW9WxxSirBRRRWIwoorwH9uz45fEfwrp3hj9mj9nW/jg%2BKPxYv5tN8O6hJF5ieH7CJA%2Boa1IvQrbQsNik/PNLCuDkitaFGWIqqEevXoktW35JXb/AOGKjFzlZGD8cf2jvjB8evixqf7Hn7Deq29lqmjssXxN%2BLFxbC4svBquM/Y7ZD8t3qjKciInZAMNJz8o9T/Zn/ZR%2BDv7KHhCfwz8L9HuJL7U7j7V4l8Uazcm61bX7w5LXV7dP888hJY84VckKqjitD9nH9nn4b/st/CHSvg18LdOki0/TkZ7i8upPMutSunO6e8uZTzLPK5Lu56k4GAAB3Nb18RHk9jQ0h%2BMn3l%2Bkdo%2BbuypTVuWO35%2Bv%2BXQKKKK4zMKKKKACiiigAoorxP9sr9t/wADfscReENP1zwhq3iPXPGuurp%2Bh6BoqDz50Vo1mlVnAQlDNCqxlgztKoGFDunRhcLiMbXVGhHmk9l6Jt9lok27s5sXi8NgcPKvXlywVrt%2BbSW13q2kkk2e2UUUVznSFFFFABRRRQAUUUUAFFFFABRRRQAUUUUAFFFFAHhH7Tn7E9h8VPFkH7QnwH8YN8O/jFpFv5eleNtNgDRalCMH7BqtuMLfWjYA2v8APHgNGykYNn9kv9ri%2B%2BNOp6x8EfjX4MTwV8XvBsaHxb4PacyQ3EDHbHqenynH2mxlP3X%2B9Gx8uQBgC3t1eE/tvfsy%2BKfi1oelfG/4BXkGk/GL4cvJqHgLWJPljvgR%2B/0i75G%2B0ukBjYE/IxSQEFTnvo1oYiKoV3ptGX8vk%2B8e6%2BzuuqesZKa5ZfJ9v%2BB%2BR7tRXn37LP7Q/hb9qj4EeH/jh4UsZ7FNXtmXUdIvBi40u%2BidorqymBAIkhmSSM8DO3I4Ir0GuOpTnSqOE1Zp2Zm04uzCiiioEFfKfiix/wCHdXx0X4kaAvkfBD4k66kPi/TF4g8Ga/cOEi1OIdIrO6kKxzrwscrJICAxWvqysP4l/Dnwf8Xvh9rXwu%2BIGjx6honiDTZrDVLOQcSQyIVYA9jg5DDkEAjkV04WuqM3GavCWkl5d15rdPvps2TKN1puea/tQf8AJbv2cf8Ass19/wCoV4or2avmLUfhz46%2BEK/snfC/4j/EEeKtW0D4rXtjJr5tTC95DH4M8UrA0ilmJkEIjV3z87qzYG7A%2BnaxqRjGbjF3Se/fzGtUFFFFQMKKKKACiiigAooooA5DwL%2B0H8A/ih4y1n4dfDT43%2BEPEXiHw67J4g0LQvEtrd3mmMrmNluIIpGeEhwVIcDDAjrVi1%2BNvwZvvinc/Auy%2BLnhibxvZ2AvbzwdFr9u2qwWpCkTvaB/OWMh0%2Bcrt%2BZeeRXzX8NfivpnxY/bf1b4p%2BLPhJ8RfCWk/CzSda8L%2BBdNuPg14hh/tr7VeWZ1HVmuhYfZ3gkltIEtYIpGZ41muXB3xiHmfB3w/wDiDF%2B1J4e%2BG8vwo8UQ69oP7TviTx7rXjOXw1dJpU3h280LU7e2kTUzH9mnkK3thp/2VZDMn2ZmMYjhV6APe/28P%2BSIaH/2Wb4cf%2Bprolcz%2BwBH/wAJlr3xr/aAvv3t14u%2BMWqWNrc/3tN0gJpdqg/2QbeZx7ympf8AgoXpvxXn8H%2BDNR8OeNPD1r4Wh%2BMPw9GvaNe%2BGJ7jULxz4z0by2t7xb2OO2CttLB7aYsAQCmQQ7/gmPNHH%2BzVqGgPbpDd6N8TfF9jqMSFvlnXXr1mzuJOSHUn68YGBXbR0wVZrq4L5Xb/ADSIfxr5n0LRRRXEWFFFFABXzB%2By1aN8aP28vjv%2B0lqzfaLfwfeWPwz8H7x/x6Q2tvFf6mV/663d3GpPXFqozxgfT9fNH/BNxhY337QPhm6%2BW9sP2kvEsl1G3DbLlLW7hbHoYZ48H29q7cN7uFryW9or5OWv5JGkNISfp%2BZ9L0UUVxGYUUUUAFFFFABRRRQBleO/Flv4C8E6x44u9Iv9Qi0fTJ72Sx0q2M11cLFGzmOGMEb5G24Vc8kgV%2BUH/BQb/gon4L/bY/ZisvDniL9nnxn4Qn0/xhBc2GuyWaXlluEEymDzmMOJGR3bZg/6oHnGV9o/aB%2BHf/BbnxD431vS7bxG%2Br%2BA9Q1m4MeleA/EOkaPex6eZWMcUV5PAs0TbNo3HeTg5zmvMfH/AMC/i34G8E3fi/8Abl/Zo%2BPWveBtPgUXFzN8fLLW5NKgVlwxtYIowyjglmIVduTgDNfpPDeW5bl1WGIq1YVanNFx5KnvLT4bNxTk29mulk9j8w4nzTNMzo1MNSpVKVLllGftKfuvX4nJKbUUlun1u1ufM3wW/ad%2BP/j/AMWWHgX4lf8ABQfx14D0BYz5%2BuXfiLV7tIUXpGsFsxZ2OeAzKvy4LDgVv/tFfEKb4KmOP9mX/gqH4z8dxaveGbXLK3bWdKeF2RWWZ3eQxXJPRjkOpwCp52%2BH/GPwz8NfCfj%2B80v4Q/EkeKvDrbZdN1V9NmtJgjDPlTRSouJU%2B6xTchIyrEHAw7q4gW3bTjHbXEgmVl1JWm37Au3ywGIGzp1Td8owccH9Ujl2Gq1o14K0GtYezppPzlenzXXa6s/nf8klmeKpUZ0Kj5pp6T9pUbXlG1Tls%2B9ndfK32V8Hv%2BCln7e/wE8C2utwX%2BveNfAsN/Zf2v4m8XeH7q7NpMyoZrSO9dlyGz8gkOeRtwMk/dfwf/4Kw/CXx78WdE%2BDvxL%2BGuv%2BAtQ8TQq/h2/1ue2msb9n2%2BUizwyMN0mcKcbScDOWUH8W/AkXhCLUBq3jjUZH0y2urcahotldSW95qVuXzIkEvkSxRsoUHMuBkrgNg4%2Bm/wBtj4J/Aj9pz9n7wzq3/BJ34Nalft4cuHn%2BJ/hzTtIvrrXbc3aKLMF5RI9xGjRXautvJIgLISMYI/N/EPD5PkeU1MfLAzqSinrRXLq7JOX2dG037jTjdK0j9p8E8Bm3H3GeE4febUcJCtJLnxUrxSSlJqOz95RcY3qR99x5nyu6/bSivk7/AIIufDL9pz4S/sP6b4T/AGpYdStdUGtXM3h7StZdjd6bpLRwiK3lVvmjIkWdxG3KrIowMbR9Y1%2BP4HEyxmCp15QcHJJ8r3V%2Bj/rtoj9h4ryShw3xLjMqo4mGJhQqSgqtP4Kii/ijq9Hto2rqVm0k2UUUV1nz4UUUUAFFFFABRRRQAUUUUAFFFFAHzD%2BzlbL8Dv8Agof8aP2fLEeVonjnRtN%2BJug2ifct7ud5NP1XH/XSe2tpyP707H%2BKvp6vmiZl1L/gsVa/Yju/sf8AZquF1Er/AAm78QQGAH3Is7gj8a%2Bl67cd704Te7hFv1s1%2BUUaVdWn5L%2BvwCiiiuIzCiiigDxn9qD/AJLf%2Bzj/ANlmvv8A1CvFFezV4z%2B1B/yW/wDZx/7LNff%2BoV4or2agAooooAKKKKACiiigAooooAKKKKAPGf28P%2BSIaH/2Wb4cf%2Bprolct%2By1MPhF%2B2F8bv2b9QPlRa7q1t8RvCwfrcW2oRrb3%2B32jvbZif%2BvlT3rqf28P%2BSIaH/2Wb4cf%2BprolYP7dngjxj4VPhf9s/4RaHPqPij4UXE9xqmjWY/e674cnVV1KxUfxyBES4iBziS3AAJeu3BNTlKhJ/GrL/EneP46f9vET017H0JRWN8O/iD4O%2BLHgTSPiX8Pteg1PRNd0%2BK90u/t2yk0Mihlb1BwcEHkEEEAgitmuOUZRk01ZovcKKKKQBXyk6R/smf8FOr3xHq13PH4Q/aW0mzto7mecm3sfF2k27RxQAcJF9ssMbf4pJbPHOVA%2Bra8/wD2n/2c/BP7VPwY1T4O%2BN7i5s1uzHc6TrWnvsvNH1CFxJbX1s45SaGVVdSOuCpyrEHqwlaFOo41PgkuV%2Bj2fyaT87NdS6cknZ7PQ9Aor56/Y/8A2pPGmueJLz9kb9q%2BG20n4y%2BE7MPcmNPLtPGGmg7Y9a0/OA8b4/exD5oJdysAMV9C1nXoVMPU5J/f0a6NPqn0/wA00lKLg7MKKKKxJCiiigAooooAo%2BJ9c/4Rjw1qPiT%2ByL7UP7PsZrn7BpkHm3Nz5aF/KiTI3yNjaq5GSQM18GyfC79vj/gpv4n8Tt8U/EHij4HfCCV7e3sfB9/o6jUNWhVj5quG8qVC2zczSAxjzUVUlCs1foBRXqZdmcssU5UqcXUdrTau4f4YtON3/M02unc8rMsqjmrhCrUkqSvzQi%2BVT7c0k1LlX8qaT69j5p%2BA3/BJT9iX4FeG9V8PSfDGLxpJq7r9o1Lx5bW1/cwoqsAkDCFFtx8zEtGquxI3Mdibfhv9t79kn4V%2BCv2ldT8Jal8AH%2BEfw6ht4lsPiJpnhvVdeW9HlKJH2R3X2eE8kbfL3gguSWINfr1RXpZdxVmmDxksRWnKo5KzvNqz01S1jdWtrFry6nlZnwjlONwMMNRpxpqLurQi7rXRvSVne7tNPz6H5ofsT/8ABKD9gz4t/CHUdb8Q/HyP4h32rXU8Glat4cv5NNbTIhtWMi1ly4ueGYiZWTDqAjBd7fbX7Iv7Hnwm/Ys%2BHd38NfhFc6xcWd/qbX95c63epNNLMY4485REQDbGvAUc5r5m/wCCsv7Nf7LPhf4eQePvDPww0PSfij4w8YafYeHNcsr6SymS8kuFMl2YoWAn2jO87GOZFY84Nfbngyy8Tab4P0rTvGmtQ6lrNvpsEerajbW/kx3VysaiWVY8nYrOGYLk4BxXTn2Z47H4GFd4icqdWT9ydlZwtquXRxTdr%2B7r06rm4eyrAZfj54dYanGpRjH95C7up82j5veUmlez5tLe90elRRRXyB9mFFFFABRRRQAUUUUAFFFFABRRRQAVBqWpado2nXGsavfQ2tpaQPNdXNxIEjhjUFmdmPCqACSTwAKnr5D%2BOHjHVf8Ago18TNR/Y4%2BCuq3CfCnw/qAg%2BOXjywmKR6kyEM3hmxlX78knAu5EOIoiY875CtdGGw7rzd3aK1k%2By/zeyXV6d2rhDmfl1N7/AIJ2xah8afEXxK/b61mylgg%2BLOuQW3gWG5jKvH4V0xHt7CXawyhuZHurvHdZ4z6V9PVW0XRtI8OaPaeHtA0yCysLC2jt7KztYgkUEKKFSNFHCqqgAAcACrNLE1vb1nNKy2S7JKyX3L77inLnlcKKKKwJCiivKP2xf2ibn9nX4RtqfhLSRrHjXxHex6J8PvDinL6nrFxlYUI7RJzLKxwFjjc5HFaUqU69VU4bv%2Bvu6vsk2JtJXZQ/ag/5Lf8As4/9lmvv/UK8UV7NXzFqPwt8Q/Bdf2Tvhp4w8e6j4o1nTPitejWfEGqXck0t9eP4L8UyTyBpCWWPzHfYnRECKOFFfTtKpGMZtRd0nv38/mC2CiiioGFFFFABRRRQAUUUUAFFeL/sc/F344fEq6%2BKXg74/XvhS71n4f8AxMbw9bX3g/Rbmwtbi1bRtK1JC0VzdXLmRW1B4y4cK4jVgiZIrkv2KP2p/i78Z/iF4j8EfHvxNomj67a3OsS6T8Pz8J9b8P6gmm2urSWkN/HfajdyQ6vA0P2VnltIVjV7qPLLvVSAdf8At4f8kQ0P/ss3w4/9TXRK9mr54/4KF/Fz4UeGvB/gz4UeI/id4e0/xT4g%2BMPw9l0Hw1e61BFqGpJH4z0ZpGt7dnEkwVVYsUUgBSTjBr6HoA%2BT76S7/wCCZ/xNu9cFvI37PnjPWGuL/wAlCy/DvV7iT55do%2B5pdxI2Wx8tvKxPyo/P1ZZ3lnqNnFqGn3Uc9vPGskE8MgZJEYZVlYcEEEEEdai1nRtI8RaRdaBr%2Bl299Y31u8F5ZXcKyRTxOpV43RgQykEggjBBr5aPhn4uf8E3LuS%2B%2BHGh6x47%2BArSNJdeFrQNda14CUnLSWSkl73ThklrfJlhHKblDCvR93MFq7Vfwn8%2Bk/XSXdS%2BLP4PT8v%2BAfV1Fc/8Lvir8OfjX4GsPiX8J/Gdhr%2Bg6pD5llqemziSOQdwe6sDwyMAykEEAgiugrglGUJOMlZo03CiiipA8v8A2pP2Tfhv%2B1V4WsdP8UXV/oviLw/dm%2B8GeN/D8/kar4evcYE9tMOgOAHibKSLwynAI8n8G/tn/E79l3xDZfBf/gpHZWeli4nW08NfG7SbYxeG/EJPCLedRpF4w6xynyHYMY5MYWvqiqHijwt4Z8b%2BHrzwj4z8O2Or6VqNu0GoaZqdok9vcxMMMkkbgq6nuCCK66WJiqfsqy5odO8fOL/NO8X2T1NIzVuWWq/L0/qxctrm3vLeO8s7hJYpUDxSxuGV1IyGBHBBHOafXyvJ%2BxN8dv2V7iTXf%2BCdfxhg0/Qg5km%2BDHxElnvfDrZOSthcgtdaUTliFQyQbiP3QArR8L/8FMPh74S121%2BHv7anw31z4FeJriUQwN4y2y6Dfyf9Omsw5tJB04laF%2BeUq3gpVFzYd867L4l6x3%2BceZeg/Zt6w1/P7v8AK59L0VBpeqaZrenQaxouowXlpcxCS2urWZZI5UIyGVlJDAjoRxU9cOxkFFFFABRRRQAV5B%2B3v8ZPEXwA/Y/8d/Fjwhq8Vhq2maOE0u8mhMghuJpUgjYLggsGkG3IKhsFvlzXr9fNP/BWfWfC8n7C3xB8MXvxKs9D1GXS4JrWB9SWKa72XMTGAJnc4lAMe0DB388Zr0snpQr5th6c1eLnG6tfTmV9NdO55mdVp4fJ8RUg7SUJ2d7a8rtZ3WvYf%2Bx3%2BxH8OPC%2BmeF/2lPihqOueNviXqPh60u7rxF4w106m2nTzQpJLHaf8s40VmZVZQWC8BsE5%2Bk68Y/YF%2BDfwz%2BCn7M%2BiaH8JdX1e50bVx/bKW2saut42ny3MaSSWsbKAqRo2RsAzuLsxZmZj7PRm%2BIqYjMKjlNySbSurWSbslHaKW1lpp53Fk2HpYfLaajTUG0m7Pmu2lduW8m97vXXpawUUUV5p6gUUUUAFFFFABRRRQAUUVz/AMTPix8MPgv4Un8dfF34h6L4Y0a2H7/VNe1OK1gU4zjfIwBY44UcnsKcYynJRirtjSbdkdBWD8TPij8Ofgz4Jv8A4kfFjxvpnh3QdMi8y%2B1bV7xIIIV7ZZiASTwFHLEgAEnFfPEv7efxd/aNJ0b/AIJ5/s7X3iizmO0fFP4gwz6L4WgH/PWEOou9TAORiCNUPB83Fa3w5/4J66ZrXjaw%2BNv7anxNvPjJ440%2BXz9Jj1mzW38PeH5PXTtKUmKNxwPPlMsx2ht6mu76nGhriZcv91ay%2B7aP/bzv/dNPZqPxu3l1/wCB8/uOSvPF/wC0Z/wUqU6H8LF8QfCj4E3PGoeNbqB7LxL41tz1i06FwH02zdet1IBNIrDy0UFjX018J/hL8N/gX8O9K%2BE/wj8HWWgeHdEtRb6ZpenxbY4kHJPqzMSWZ2JZmYsxJJNdFRWNfEurFU4Llgtku/dvq/N7bJJEynzKy0QUUUVzEBRRXm/7R37VHwq/Zj0G0vPG93d3%2BtaxMbfwv4P0K2N1q2u3PaG1t1%2BZznGXOETOWZRV06VStNQgrt9BNpK7N/40fGj4bfs%2B/DbU/iz8WfE0OlaJpUO%2B4uJOWkYnCRRoPmkldsKiKCzMQAK8c/Zk%2BE/xI%2BMXxTP7cX7TnhqXSdamsZLP4ZeBbwhm8IaRLjfLMOg1G5AUzEcxoFhB4YU34Sfs3fFT43fEfTP2of23re1XVdJm%2B0%2BAPhbZXIuNM8Ikj5bmdx8t7qW3gzY2REkRDow%2Bjq7Jzp4Sm6VN3m9JSWyX8sX1/vS67LS7cpOTu9jxn9qD/kt/7OP/AGWa%2B/8AUK8UV7NXjP7UH/Jb/wBnH/ss19/6hXiivZq4CwooooAKKKKACiiigAooooA8X%2BBP7HmsfAnxp4v8a2n7WXxK8RyeOPFcPiDXrHxDaeHRA92lrb2ZCfZNIgdI3t7S2iYB84hDKVdnZtT4f/stQeE/jQvx58bfG/xr4616y0O%2B0bw7/wAJUdMjg0SxvLi2uLqG3j0%2Bytd5keyswZLgzSBbdQHG59/qlFAHjP7eH/JEND/7LN8OP/U10SvZq8Z/bw/5Ihof/ZZvhx/6muiVr%2BG/2uvg7rPxl1H9n7xDeX/hjxdaXTx6dpPimyNkdbhU4FzYSMdl3E3OAjFxg7kXFaQpVKibgr21fp3InUhBpSdr6I9PooorMs%2BeviX%2BxXr/AIS8cX/x5/Yj8d23w98ZahL5%2BvaDdWzS%2BGvFMnrfWiEGGY9PtcG2UZJYSZqX4aft5%2BH4PF9p8F/2s/A9z8JPHty3l2Nnr1ysmj64w43abqQAhuM5H7pykwLbShIzX0BWF8R/hj8O/jB4Qu/AHxU8EaX4h0W%2BXbdaZq9kk8MnodrggMOoYcg8gg13RxcKsVDErmttJfEvntJeUvlJEcrWsTdor5oX9k39o/8AZo/0v9iH45C88Pw8r8KvilcT3%2BmxoP8AlnY6gC13ZADhUYzR5P3QKu6L/wAFFfBXgrVYPB37Y/wy174La3NKIorvxSq3GgXkh7W%2BrwZtmGOcTGFhnlRQ8DKor4eXOuy0l84vX7uZBzpfFofRVFVdF1vRvEelQa74e1e1v7G6jElreWVwssUyHoyupIYe4NWq4WmnZlhVHxJ4Z8N%2BMtCuvC/i/wAPWOq6ZexGK807UrRJ4J0PVXjcFXHsQRV6imm07oD5/wDB3/BN/wCBXwf%2BJVh8R/2b/Eni/wCGUVvqiXmq%2BEvBviJ4vD%2BsANlop9NmEluisMjMCxMM8MDXT/tl%2BKNZ0L4V6d4e0XxJd6K3irxhpGgXWt2MpjmsLe6ukSaRJB/q2MYZA/G0uCCDivWaz/FPhPwt458P3XhPxt4a0/WNKvY/LvdM1WzS4t7hMg7XjkBVxkA4IPSulYqpUrRnWblbvv8Ae9/nfa2xfO3JOWp87fCfxZ8S/D37KvxL134Gy674qXTPEGqRfC/7bfS6rc3NqixrGIpbuUtcxpN5wTzJDnYV3YAAveCP2n/iVD4B8N6LpOoaR8R/GniLVb2ytre80qbwmun/AGKJnu/7TV2vHtpI3VUISMktNHiPbl69Y8T/AAI8Ea94bn8N6Fdat4XWVrYxXXhDVpdOlt/s6eXEsflEIqKny%2BXtKMMBlOBjzXxZ%2BxBPY6RpMPwK%2BK83hrVLS21yDV9b1zTG1a51I6t5Ru7xm86Hbeh4VeOU74kyy%2BSykBeqNbB1W%2BfRt31XlbVrpfXS13fozRSpy3Lnh/8Ab4%2BEWr6V4Vvr3Qdfhk8Q6RpV/q32fTTPB4cXUZnt7Rb6ZSBF5lxHLEMAkGMswRcGvZPEniTQfB3h6%2B8W%2BKtXt9P0zTLOS61C%2BupAkVvDGpZ5HY8BVUEk%2Bgr5n1D9jT4haV4u1n4U%2BD9I0lPh34o1LQrjUdfm1dvt9np%2BnW0SNpotvKxI0s0Tyef5mALuUbAUXd7N%2B0/8OfiR8XPgb4g%2BGfwr8U6DpGp65ZNZS3XiTRpL%2B0a1lBSeJ4o5om%2BeNmUMHG0nODjFZ1aWCdamoStFvV3vZNry0aV1bXZN7mVde4/ZWvZ2vte2l/K9r%2BR86fCvT/2pf%2BCjOjXnxruv2j/EHwu%2BF%2Bp6nPB4S8M%2BDbSKDVL6yicxfa5r5l3xNIysQihlx04wW7nTP%2BCS/wCwjBos%2BmeJvg/N4ivL07tQ13X9fvJr%2B5fu7TLKpRjj%2BDb9K%2BQtC/4KAftp/sBNp37KHxJ0r4S3%2BleErJLHR/EuqX2rCK/tUJEarcWEF0NyKAmx4YmRVUMCeT9FfBP/AIKA/tjfHDSJtZ%2BGn7H3w58a2tqn%2Bl3Xg34%2BQM8LFWKJJb3WnxSQlipA8zHfsDX1GZUM%2BwTc8LJU8Pf3HCSinH7LckouTas3zSvdvRbHx%2BT4bIszpRWIlCribe/GpJOal9pKEnaKTulyRtypWk07nsH7L37CXwA/Y917xBrfwNsNYsE8RpAl7p93rMtxbxiIsU2K5Jz87fMxY8kAgEg%2ByV80/wDDXP7dln/yFv8AglJ4tYd30z4p%2BG5x%2BAe6jb9KP%2BG2/wBqqLi6/wCCV/xXB7%2BV4m8OSD8xqNfN4mjmOMrOrXmpydrtzg3potebsfVYXL6GCoqjh4RhBXslZJXd3pfufS1FfNP/AA2r%2B1rP8th/wSs%2BKLN2%2B0eLvDcQ/M6gaB%2B1f%2B39ef8AIM/4JU67Fn7p1b4v%2BHoR%2BPkyzEflWH9n4jry/wDgcP8A5I6PZT8vvX%2BZ9LUV80n41f8ABU7xEfK0P9hP4beHifuz%2BJPjXJcge5S00w/kGNJ/Zf8AwWB8Sfubvxd%2Bzp4Tjf70lho%2Bua1NGP8AZMs1ohP1Wj6lJfFUgv8At9P8kw9m%2BrX3n0vRXzP/AMMkft2%2BLv3XxO/4Kga7bW0n%2ButPh78MtI0gj2Wa5F5Kv13fhSH/AIJU/s/eKP8Aku/xR%2BLvxQHeDx38VNSktif%2Bva0kt4Mf7Pl7faj6vhI/HWv/AIYyf58qDkpreX3J/wDAPR/jN%2B27%2ByB%2Bzykv/C6f2lvBfh6eH79hf%2BIIPtZPcLbqxlY%2Byqa81/4eVwfEgfZv2SP2R/iz8UGl/wCPTWk8Mnw/okh9TfaubcFfeOOT6cjPqXwe/Y3/AGTv2fvLk%2BCn7OHgrwzPEPlvdJ8OW8Vy3u04TzGPuzE16VR7TAU/hhKT/vOy%2B6Ov/kwXpLZN%2Bv8AwP8AM%2BYT4P8A%2BCp3x458X/FH4f8AwL0Sbk6f4MsG8Ta6EPBja8vFitImx/ElvJjsfTd%2BGn/BM/8AZd8F%2BK4Pib8RNI1j4peM7fmLxj8V9YfXLyE5yDDHN/o9rg9PIijx26CvoGilLH4jlcadoLtFW%2B9/E/nL5A6srWWnp/V/xAAKAqgAAcAUUUVxmYUV554t/ap%2BBXhbRPFmqW3xA07WrrwVaST6/oug30NzewFCoMflhxh9zIp3FQrOAxXNedeMP2oPih4013QPhT8PNITwD4qv9cudP1yLxhp0V%2BbCZLB7y2iUW9ysbrcBCBMruB5brt3MpHVTweIqdLLu9Ol/XbyfQlyij6Iqn4g8Q6B4S0S68S%2BKtcs9M02xhM17qGoXKQwW8Y6u7uQqKO5JArm/gT8Trr4ufDa18XappC6fqCXV1Y6rYo5ZYLq2neCUKT1UtGWU/wB1lrzvxH%2Bwf4F%2BLXxRu/iT%2B0x49174kWkeqNc%2BGvBevSpHoGix7sxqLGFVjupFBx5tx5hIxwDzUwpUo1JRry5bdldvyXT5t29QbdtDmdQ/bF%2BLX7Tl3L4P/wCCffgaHUNN8xob/wCMni61lh8P2eDtY2MXyy6rKMMBs2wBgu6Qg4ru/wBnj9jjwJ8DdevPij4k8Qal45%2BI%2BsQiPXfiJ4oKyX0ydTBbqo2WVsCTtghCqBjJYgGvW7Ozs9OtItP0%2B1jgggjWOCCGMKkaAYCqBwABwAKkrSpi/cdOjHki9%2Brf%2BJ/orR8mCjrd6hRRTLm5t7O3ku7y4SKKJC8ssjhVRQMkkngADvXGUeOftQf8lv8A2cf%2ByzX3/qFeKK9mrwr49eKfDPjb4o/s0eKfBviGx1bTL34x372eo6bdJPBOv/CF%2BKRuSRCVYZBGQe1e602mnZiTTV0FFFFIYUUUUAFFFFABRRRQAUVzPws%2BNPwc%2BOeiXfib4J/Fnwz4x02w1KTTr7UPC2vW%2BoQW95GFaS3kkgd1SVQ6FoyQwDqSORSeDvjb8GfiJ4v134e/D/4ueGNd1/wtOIfE2h6Pr9vdXmkSEsAl1DG7PbsSrACQKcqfQ0AcB%2B3h/wAkQ0P/ALLN8OP/AFNdEru/jH8DPhH%2B0D4QfwL8ZPAWn6/pjNvjivYvnt5O0sMikPDIOzoysOxrhP28P%2BSIaH/2Wb4cf%2BprolezVUJzpyUouzXVEyjGcXGSumfOK/DL9s39ln978EPGf/C3/BkPTwV461IQa7ZR/wByz1QjZcAdo7pc4UDza6/4Pftv/A34seJh8NtSvtQ8GeN1A87wL46sjpupgn/nkkh2XSnGQ8DyKRzmvX65P4v/AAK%2BDnx%2B8NHwh8ZvhvpHiPT8kxRanaK7QMf44n%2B/E/8AtoVYetdf1ijW/jx1/mjZP5r4X/5K/M5/YVaX8GWnZ3a%2BT3X4o6yivnYfst/tL/An9/8AslftLT32kxf6rwD8WvN1WxVe0cGoIReWygcKGM6j0xxTl/bt1r4Un7F%2B2P8As5%2BKvh4sfEninTITrvh9h0DG7s1MkAJ5xPDHgdTwTS%2Bpyqa0JKfktJf%2BAvX7nIPrSh/Gi4%2Be6/8AAlp99j6HqtrOi6N4j0qfQvEOk21/Y3UZjurO9gWWKZD1VkYEMD6EVj/Db4t/C34x6Avin4T/ABE0TxJpzY/0zRNTiuY1J/hYxsdrf7JwR6V0NcrU6crNWa%2BTOmMoyV07o%2Bd9Y/4JvfCfwzqs/iv9lfx54q%2BC%2BszyGWQeAdRC6VcS9jPpU6yWcgHosaH3qAeJv%2BCl/wAEP3XiX4eeCPjbo8XA1DwvfHw3rZUdXe1umktJW9kmjz6Dv9H0V1rH1pK1ZKa/vK7/APAlaX4snkS20PnnS/8Agpt%2BzXpmoQ%2BH/jxb%2BKvhHq0z7I7L4o%2BGZ9Mhc99l5h7Nx7rMc/nXuXhHxv4L%2BIGix%2BJPAXi7S9b06b/VX%2BkahHcwv9HjYqfzq5qmlaXrmny6TrWm295a3CFJ7a6hWSORT1DKwII9jXh/i7/gmj%2Bxn4j1mTxX4a%2BEo8E66/K678ONVufD90jf382EkSuc8/Orc80Xy%2Bp0lB/KS/Hll%2BLD315/ge8UV85j9kr9rX4e8fA3/goX4omtY/mTSfij4YsfEEbn%2B6bmMW1yB2yZGP1NL/wnf/BUL4fc%2BJvgD8KfiNAOBJ4N8ZXeh3J9zDfwzR59vPx7ij6nCf8ADqxfq3F/%2BTK34hzNbo%2Bi6K%2Bdf%2BG9vGfhT/R/jJ%2BwX8bfD8qf6%2B40bw7beILRB3PmabcSuQPXyxU1j/wVR/YQku003xJ8c18MXbHa1p4z8P6hozo3oftsEa/kSPej%2Bzsd9mm3/htL/wBJcg54dz6Erlvjh4Evvij8FvF/wz0zVTY3PiLwxf6Zb3oYj7O89vJEsmRyNpcHj0rE8P8A7Xf7KHiywfVPDH7Tfw%2B1C3ijMks1l4ysZFjUDJLFZTtA756V8r/tt/tUeBf21r7wr%2Bw/%2ByJ8c3v77xj4mS38cah4a02SdLLRowXmk887I2QFQzLG53qpUnDBX68ryzG4nGxtFwUXzSk4u0FH3rvRbcu3V2XU8vOMywmCwclUtKU1yxgpJSm5e6lHW%2BvNq7aK76GX/wAE/wD9kD9g/wDat/Zui0/x5%2By5bw%2BJ/B91/wAI94wvVvbmIXeo26qJJorm3nAlDgq7bSAC5GNu0n66/Z9/ZJ/Z1/ZXs9QsvgJ8MLTw%2BNVaM6jLHcz3EtxsB2BpJ3dyo3Nhc4BYnGSa3fgr8HfAvwD%2BGOkfCj4c6FbWGl6RaLEkdtAI/Nkx88z46u7ZZmOSSTzXU1ebZzisdiKqhVn7GUm1Fyk1vfZu2%2BqXTRdLmOT5JhMvw1FzpQ9tGKTlGEU9rbpX20b0vZvrYKKKK8Q90KKKKACiiigAoqrq%2BuaJoFqb7XtYtbKAdZru4WNB%2BLECvN/GX7cP7Gnw%2BV/%2BEz/as%2BHmnyJ963n8YWfnfhGJC5/AVpTo1qrtCLfom/yTE2luepUV87H/AIKm/se6sTb/AAz8R%2BKfHdyf9Xa%2BBPh9q%2BqGT/dkitjEf%2B%2B6Q/tpftBeMfl%2BDP8AwTm%2BJ98P%2Bfrxvf6Z4ch%2BuJ7iSbH/AGy3e1dP9nY1fFDl/wATUf8A0pr8ieeHc%2BiqK%2BdN/wDwVP8AiL92D4M/DGzn7u%2Bo%2BJtQtx9ALOAt/wB9CkP7C/xT8enzf2h/29Pin4jU8S6X4TuLbwvYSL3Rk0%2BMTsvbmcnHUmj6pSh/ErRXpeT/AASX4hzN7I%2BihJGztEsillALKDyM9M1478MfFHjz4Z/HPxZ8JfjD8UrvX7K90iHxN4X1nWLW1thDb%2BYba8swYI4owkD/AGRgWBci7%2BZmNdN8Bf2YPgX%2BzJpeoaT8EvAiaOurTpPq1w99cXVxeyoCqvNNcSSSSMASMsx61e8RfAH4NeMPibp/xk8X/DvTtX8S6RaG30bU9VjNydOQkljbpISkDtn5njVXYAAkgACIzw8JTjq4taOyvfS3V21vfXYdpOx83j4J%2BJPFniDwt8Hp/AmqXdjaeItdmPjixKNp174Y1T7RcP8A6QpIFybkWT%2BWVO6SLdjaSw9E8IfsieKvElzquo/tEeL9P1G9k03RrLSL/wAKxz2U8M2mvJJFqhkdmaO7d5FyqkxhYlX5gzA%2B%2BdOlFa1MwryVo6fnvd%2Bl%2By0EoIwfhp8OPDXwn8GWvgbwoLprS2eWV57%2B8e4uLiaWVppppZXJZ5Hkd3YnuxxgYFb1FeffGj9qv9nT9nqNR8Yvi/oui3MmPs%2BlyXPm31xnoIrWINNKT/sIeorkjGriKlopyk%2B2rCc4Uo3k0l56HoNMubm2sraS8vLhIYYkLyyyuFVFAySSeAAO9fPZ/ad/al%2BNg%2Bzfst/sr3ek6dLwnjX4wSPpNqB2eLT4915OpHILCAH1HWlt/wBg%2B5%2BKdzHrX7aPxx134nyK4kXwtGP7J8NwMDlQLC3b/SNp43XEkuR1Aro%2Bqxp615qPkvel9ydl85fIw%2BsyqfwYt%2Bb0X3vV/JfMs%2BKP2%2BPCPiPXbn4ffsl%2BA9T%2BMHiS2kMVy3hmRYtF0%2BT/AKe9Vk/0ePv8sZlk4xsqhD%2Bx/wDFX9oS4j139uz4qR61p28SQ/C3wW81l4ehIOQLqQkXGpkEA/vSkWQf3WDXvvhnwt4Z8FaFbeF/B3h2x0nTLOMR2enabaJBBAn91I0AVR7AVfp/Wo0dMPHl/vPWX37R/wC3VfzD6vKrrXlzeS0j927%2Bb%2BR4b%2B0B4d8P%2BEvin%2BzR4Z8K6HZ6Zptj8YL2Gy0/T7ZYYLeMeCfFGEREAVVHoBivcq8Z/ag/5Lf%2Bzj/2Wa%2B/9QrxRXs1cbbbuzqSSVkFFFFIAooooAKKKKACiiigD5V/YW%2BKXhqH4s/HbTofhf8AEXQrTxB8Zbe%2B8Nvrfwe8Q6Ta3Vk3h3RLFZo5LqwijEYuLG5QnICCMM2EdGbiP2FPh/8AEHS/jD8KfDGrfCjxRoeofCf4Z%2BMdB%2BJWvaz4aurKz1PU7/WdLmha1upY1i1Nbl7O7vvOt3lWMOPMKSTFa%2B4aKAPnj/goXpvxXn8H%2BDNR8OeNPD1r4Wh%2BMPw9GvaNe%2BGJ7jULxz4z0by2t7xb2OO2CttLB7aYsAQCmQRueN0/bi%2BGfi/UvFfgCXwx8TPDF1dvPD4S1ADRdV0%2BMniG2u13QXAX/puqMem/vUv7eH/JEND/AOyzfDj/ANTXRK9mrSnU9m9k15r%2BmvkzCvQ9vFJScWtnF2/RpryaaPFPB37evwM1LXofAvxWOrfDPxNMdqaD8RbA6cZj0/cXLE21wCeAY5WJ445r2mGaK4iWeCVXR1DI6NkMD0II6is3xh4J8G/ELQZvC3j3wnput6ZcDE%2Bn6tYx3EEn%2B8kgKn8q8Ym/YO0TwFM2pfsq/Gfxb8LZ9xddJ0u9/tDRGY9S2nXm%2BNQf%2BmRi9sVtbCVNm4Pz95ffuvuZzc2ZUN0qq8vcl9zvF/JxPe6CARgivBB8Qf29fhD%2B7%2BIHwU8NfFDS4/vav8P9U/szUQg6s9hfMY3cjnEdx9B2q94c/wCCg37M99q0Xhf4h%2BJNR%2BHmtynA0X4k6PNosufRZJwIJPbZI2eMdRSeErWvBcy/u6/gtfwGsywifLVbpvtNcv4v3X8pFn4kfsDfst/EbX28bxfDs%2BF/E5yU8WeBb%2BXRNSVz/GZrNk80/wDXQOPaufHwQ/br%2BEgz8GP2rNK8c6fHxDoPxe0EGcL6f2lp4jkLe8kMn4175peraXrmnxatoupW95azpugubWZZI5F9VZSQR9KsVUcZiIrlk%2BZLpJc356r5NGzwtCT5oqzfWLt%2BWj%2BaZ8%2Bf8Nf/AB7%2BHH7n9oj9h3xpZRLw2ufDq6h8S2RA6yGOHy7uNe%2BDASPfrXvGg61Z%2BJNCsvEWnJOtvf2kdzAtzbPDIEdQyh43AZGwRlWAIPBAIq3Ud1DLcWskEN08DvGVSeMKWjJGAwDAgkdeQR6g1nVqUqluWCi%2Btm7fc72%2B80pwqQvzT5l5pX%2B9Wv8AccF8F/iT498b%2BM/iB4Y8Y6Xo6W/hPxSmm6bfaRJLieN7SC62yrJ0kRbiNWKnaTnAHSo/A37SXhzxqda1KfwVr%2Bi6Dokl%2BJfFmsx2qaZcJZyvFPIksc7siK0cnMqx8IxxxVP4L/BL4l/Bi312CT4sWnihtc1%2B71e4utX8Ppa3TzzRKoV5LZ1jIDRoMiEHYNuOAa8u8X/szfFqXw7481vSvhd4T0BNf0iyt7zwZ4H1LzItclTUBcXl47S29qn2iS3aWJVZfmZjvlwwI6lTwlSrJXSXu2e3a%2Bj76%2BS6nM54mFOLs763W/e2q%2BXm%2Bh7z4M%2BNnwq8f%2BFrrxr4Y8a2kmmWNybe%2BurrdbC2l%2BX5ZFmCMhIdCNwG4OpGQQT1Eckc0ayxSKyMoKspyCD0INfI3ja0ltfiFpnxm/aE8AXum%2BDfEPiq/wBSv/D%2Bo6WL1jJbaYbLTY7uCESKZJleeQBtyq0FupbdtA94/Zc8M%2BJvAv7O/hfw940sXtL600vdLp5BJso2dnjtccn91GyRY/6Z1niMNTpU1OL3fl81dbtPfpqi6GInUm4yW39bdL9PmehV4h%2B1j%2B1npPwd1bRvgr4H%2BGMnxE%2BIfi0N/Yvga1uI4wYFDbrq6kkBWCAbSNzD5iDjhWZfMfj/AP8ABZP9m34UeEzD4P0/W9R8ZXMiQ2fhfxJod5oIgL5AmuZr6GNI4QRglSxJ44GWVP2B9e/Zp8LprHxp%2BI/7WPw28W/Fzx1cG58U6rp/jC0l%2BxxEjytOtlMm6OCNQoxgbio6hUx6WGyueEofXMZSbj9iGt5vu7aqC3buuZ2jF7teVis0WLxH1PBVEpfbno1BdlfR1JdFryr3pLZPC0j/AIJe%2BIv2jfH2m/FT9tjRvh7pVnYXBubXwB8N/C8NqrMQQFu9S2i4mGD80atsJGVYd/WL3/glb%2BwNdXL3tn%2Bz5baXM5y02ga9qOmsT65tbiM171pWtaNrtsL3RNWtbyE9JbWdZFP4qSKs1zYjOszrtR9o4RjooxvGK%2BV/xd35nfg8rweEbnFc05bzk%2BaT/wC3n07JcsV0R87f8Ozvgnp3Hgr4vfGfw2o%2B6mifGbW0VfwkuH/Wl/4d8X1v/wAgj9vH9oizx0H/AAsGG5x/4E2kmfxr6Iorm/tHG9Z39VF/nFndyQ7Hzv8A8MOfF%2B040n/gpB8bkA6fbJtEuD%2BbaaM0f8Ma/tIpxB/wUu%2BKYH/TTQtAY/n9gr6Ioo/tDFd1/wCAw/8AkA5I/wBX/wAz53/4Yy/aKl4u/wDgpZ8V2H/THR9Aj/lp9H/DCfxMvONZ/wCCjXx4k9RZano1t/6Dppr6Ioo/tDFdGv8AwGH/AMgHJH%2Br/wCZ87n/AIJ4w3P/ACGf23P2iL0HqP8AhaD22f8AwFhix%2BFH/DsH9mjUv%2BR38RfE/wAT5%2B9/wkHxg1%2BUN9Ql2gNfRFFH9o47pUa9LL8ooOSHY8B0j/gln/wT40i7F%2B37K3hnUJx/y215JdSY/U3ckhP416P4N/Zn/Zw%2BHJRvh9%2Bz/wCCdCMf3Do/hWztiv0McYrt6y/EXjfwX4QiM3izxfpeloBkvqOoRwDH1dhUTxeNr6SqSl85P8L/AKDtCKvojUACgKoAAHAFFeS%2BLf29f2J/A4YeJP2rfAEUiffgh8VWs8o/7ZxOzfpXNf8ADy79mDWP3Xw0HjfxvN/DD4N%2BG%2Br3u76SC2EZ/B6I4LGSV1Tlb0a/F2X4mMsXhYuzmr%2Bqf5XPf6K%2Bf/8AhsH4%2BeLOPhN/wT2%2BJV4P%2BfjxjqOl6BF9cS3MkuP%2B2efag6t/wU58cfPYeD/g58P7aXjGparqOv3kI9dsMdrET/wIj2qvqVVfHKMfWS/JczF9bpv4VJ%2BkX%2Bbsj6Aqnr/iPw94U0uTW/FGu2Wm2UIzLd390kMSD3dyAPxNeFf8Ml/tKeNuPjN/wUB8aSwHk2Hw%2B0Kw8PRg9x5oSe4x/wBtQfQirmg/8E2/2PbDU4/EPjD4XyeNtWQ5bVfiHrV3r0rt6kXskkYP%2B6oFHssJD46t/wDDF/nKy/AXtcTL4adv8TX5K7/EXxJ/wUg/ZG0zVZPDXgr4iz%2BPNaQ4XRfhvo9zr07t/dzZo8an/edRVA/tAfttfFP938E/2N4fCtnLzDr/AMXvEkdoVHqdPsPPnJ9meP8ADt7r4d8MeGvB%2BlR6F4S8PWOl2MIxFZ6daJBEn0RAAPyq9R7bC0/gp385O/4LlX4sPZYifx1Lf4Vb8Xd/gj57P7JX7RPxU/fftLftoeI5bST5pPDHwvsk8OWIz96NrhWlvJk7f65M%2BnXPf/Bn9kn9m39nyRrz4RfB3RtJvpcmfWTbm41CcnqZLuYvPJnn7znqfWvRa8%2Bvvjbr2i/FHTvBPiP4U6hp%2Bkazq8mlaP4hn1G3b7Vdrbyz/wCoRi6xMkEu1ydxKHKKMGk8Riq8XBOy7K0V9ytf53JdPC4dqclre13eT%2B93t%2BCPQayfGfjnwt8P/Dl34s8Wap9nsbLaLh44JJn3MwVUWOJWd3YsoCKpZiwABzXh/wARviv8TPC/xD8W%2BMoviBNBp3hDxFpVlc%2BFJ7aA2suk3cVuj3e8RibzFmn8zf5m1VhZNvUny7wz8P2vRZfCH4U2cNh44tNCnk8WadJEIlOsaTeJdadqN3tAy9xcNn7VgmVS3zMEwLp4NNc0paf09e2611Rx181cZOFOF3qteru0rJb6p6Np2X3fX/gbx54T%2BJHh%2BPxP4N1YXdo8jRsTE8ckUinDxyRuA8bqeCjgMO4rzb4m/tU%2BIdG8b3/wm%2BCX7PXi7x14l09kS9kS1/szR7J3RZFE2oXQWM/I6tiFZTg4xnitj4D6B4zg8TeNfG/ijwTd%2BGoPEWs29xZaLe3tvNIGjtY4pbhvs8kiL5jrwN24rGhZVYlR6TWD9lSqu65l6/nbe3yOtfWMTh42lyPq7a21WiltfR6p27HgPxiuPHd149/Zhufibpul2evv8Xr06pa6LdST2sUv/CFeKfljkkRGYYxyVHOa9%2Brxn9qD/kt/7OP/AGWa%2B/8AUK8UV7NWLd3c64rlile9u%2B4UUUUigooooAKKKKACiiigAooooA8Z/bw/5Ihof/ZZvhx/6muiVN4ytf22PBHivUPEfw/1Pwb478P3F081v4Y1iGTR9Qs4ieIIbuPzYpcD%2BKWNSe7esP7eH/JEND/7LN8OP/U10SvZI5YpQTFIrBWKttOcEdR9auE%2BR7J%2Bpy4rDLExS55Qa1Ti7P8AJpryaaPEYf26fA/hGVdO/aN%2BGvi74Y3W4I114k0gz6Y7%2BiahaebAR7uyfTpXrXg3x54H%2BImjp4h8AeMdL1ywk%2B5e6RqEdzEf%2BBxsRWpNDFcRNBPEro6lXR1yGB6gg9RXkvjH9hr9mfxXrD%2BKtL%2BH/wDwi2utkrr/AIHvptGvFb%2B8XtGQOf8AfDVd6Et04/ivxs/xZx8mc4f4ZQqr%2B8vZy%2B%2BPNB/OMT1yqPiPwx4a8YaTLoHi3w9Y6pYTjE1lqNok8Mg/2kcFT%2BIrxz/hSH7Xfw4%2Bb4RftXReIrOP/U6L8UfDyXZI9DfWZgm/Flf8e/pPwk1T4v6r4Ykf42%2BENE0fWYbx4lj8PavJeWtzCFUrMrSRRvHliw2MCRtBzzgKUFBc0ZJ/g/uNqGLnXn7KtQlB26pSi/8At6La%2BTSv2PNdU/4J4/s4W%2BoS678J7PX/AIa6lM%2B5774beIrjSVJ97dGNsw9miI7dKg/4VD%2B3d8Ovm%2BG37VPh/wAZ2qcRaZ8TPCIjlC%2BhvdOaIk/7TQt%2BNdD%2B0DrviG28TaLpfwu8eawni6S5gW18O6csUtpLbNPH5898jxt5cKxb/wB5vjbICoWYhTP8avjN418B/Efwt4H8K2uhxx61DO9xe%2BIlu47dpFkhjitkuIY3SKVzIxAkHIQ4Ga6Y1sTJJSalf%2BZX283r%2BJ59VZbQlUai6fK4q8G0m5baRfLe%2B6cdLpvdI5f/AIaN/a08BfL8Xv2IdS1K3i4l1b4Z%2BKrTVVf/AGltbn7NOB7AMf5VLaf8FGv2W7O5TTPiT4i1zwDfuwU2PxA8KX2klT7yzRCE/g5rs0/aF0Q/EVPAbeEtVa2OsjRpfEUXktZJqf2YXP2bmQSn92ceYI9m/wCQkNxWr4J%2BLfwt%2BML32ieFNWGprbwpJcR3GmzRxXEEhZUmiMyKlxCxRwJIy6HaRmpbpNXnSt5xbX4PmRtTqzc%2BSjik3dq04pu67NcjfrZ9dXYteBvi78KPifbi7%2BG3xO8PeIYiu4SaJrMF0MeuYnauirynxz%2Bwz%2Bx78Rrg33ir9m/wi90W3G/stHjtLnPr51uEkz77q53/AIYC8D6D8vwo%2BPPxc8Fxr/qrTRPiHdXFsh/643/2hMfhUcmEltNr1V/yf6HV7XM4fFTjL/DJr8JR/U94rkvjt8aPBX7O/wAIte%2BNHxCuni0nQLE3FwIhl5WJCRxIDwXeRkRc4GWGSBzXzn%2B0j4i%2BPf7GXgM%2BOvEH/BQY38byeTofhzxR8NbG/vtXuONttB9jktZJHJIBbGFzliBzXnFx%2Bzp/wUs/amu/DPxp/ad0DwXqujWhiv7L4PTeJbzRbaKZCGjku447efzZOA2ySU7M7SACyV6mCymjKMcTiaqjRv5pztq4wTS16OXwxvq72T8vG55iIOWGw9CTr220lGN9FKTjJ6dVG3NK2itdr3D9g34GeMwviX9rf9obw/FF8QfihdfamsZwZH0LRsL9l0wF%2BV2oAzgAZOwMNyV6z4r/AGZ/2cfHe4%2BN/gB4J1gv986p4Vs7gn/vuM15/wD8ND/tk6Lz4p/YAvrmNf8AWTeF/iRpl5%2BIS4%2BzOfpil/4bi1DTvk8V/sY/HHTWX/WND4Jj1BB9DZXExI/CsMVPHYvFSrqyvsoyVklpGKtJOySSX37tm%2BDqZZgsLGg76Xbc4SvJt3lJ3g1dttv7tkhdV/4Jl/sFarcm8H7MHhqxmP8Ay10WKTT2H0Ns8ePwqr/w7V/Zq0/nwdqfxE8OHsdC%2BK%2BuxbfoGu2A/AVZ/wCHjX7NNj8vi5fHHh5%2B8eu/DLW4dv1ItCo/E1La/wDBSn9ha5mFvJ%2B0noFpIf8AlnqXnWjD6iaNcVPPnKW8397/APkjX6xkLfx0181H/wCRKX/DAdpbcaP%2B2P8AH6yH8IHxOlucf%2BBMcv60D9if4l2P/IE/4KD/ABtj9BfX%2BkXWP%2B%2B9Orq9N/bj/Yx1cD7D%2B1f8OiT0STxnZRsfwaUGtuz/AGnP2bNRAOn/ALQngecHp5PiyzbP5SVDr5kviT%2BcF%2BsDaLyqfwzj8p/5VDzn/hk39pq3407/AIKPfENQOn2nwvoM387IUf8ADL/7X68Rf8FKPF4H%2B38PfDrf%2B2derwfGv4NXQza/FvwxJnp5evW5/k9WV%2BKvwvcZT4kaCR7axB/8VUfWsX1iv/AI/wDyBoqWDe0//J3/APJnj/8Awy5%2B11Jxcf8ABSbxiR/0z8A%2BHk/lZ0f8Mi/tF3PGp/8ABRn4luO/2XQtCg/lYmvX3%2BK/wtiGZPiV4fUf7WswD/2aqlz8dfgjZjN38Y/CsQH/AD08Q2y/zej61jHtFf8AgEf/AJAHSwS3n/5O/wD5M8r/AOGHfG1582tft%2B/HWcnqtrr2mWyn/v1p4I/A0f8ADvvw5d8a/wDtV/HnUlP3o5/ixewo31W38sV6DfftV/svaYCdS/aR8BW4HUz%2BMLJMfnLWDqn7e37E2kAm7/aw%2BHzY6i28V2s3/ot2q1WzOXwp/KC/SBlKWUQ%2BKcfnNfrUObP/AATJ/ZGvfn8U%2BHPFevyfxPr3xJ1y63fVWvNp/KtTw7/wTh/YO8MSibT/ANk7wPO4Od%2BqaHHekn1JuA%2BTVV/%2BCl37Dhcx2Hx%2BsNQYfw6Rpl5en8oIXzSf8PDvghqP/Ik%2BBvif4lz93%2Bw/hTrL7voZLZBVuWcNWbml6tfrEyWJyFPSVN%2BlpfkpHqPhP4MfB7wEVbwL8KPDWilPuHSdCt7bb9PLQYrpa8I/4bQ8c6x%2B68E/sL/GW%2BkP3G1PRrDTIj9WurxWH4rS/wDC7v26dd/deHv2G9L0nd9248U/FK1XZ7mOzguM/QNXNLDYiTvNr5yX/wAk2bxzHBpWpqT/AMMJ/wDyCR7tRXhH9nf8FK/En7q68T/BjwpE/V7HTNU1ieMexkktkJ%2Bq0f8ADMP7UHiceV8Sf2/vFPkN9%2B38FeEtL0f/AL5keO4lH/fZqfq8F8VSPyu/yX6j%2Bu1pfBQm/Xlj/wClSb/A93rhfiH%2B09%2Bzj8Jg4%2BJfx28JaJJHndb6jr9vHMT6CMvvY%2BwBNcCf%2BCdnwE135/iv4j8f%2BPX9PGXxC1G5j/78xyxw49tmPau6%2BHv7K37NPwnMcnw3%2BAfhDRpo8bbqx8P26T5Hcy7N5PuSaOXBx3lJ%2BiS/Nv8AIOfNKm0IR9ZOT%2B6KS/E4U/8ABQ34NeIvk%2BC/gL4ifEVjwJPBvgW7e3z2zc3KwwY/2vMx70n/AAtn9vb4gfu/AH7K/hnwXA/Meo/EbxmLiTb72mmpJg%2BxmX0OK95oo9tQj8FNfNt/hog%2Bq4yp/Erv0hFR/F88jh/gp4X%2BPfh6z1C6%2BPXxX0bxJeXssb2dtoPho6dbacoDbo0LTSyTBiQdzkEbenNZXxM%2BFvxd8YfGzw5468LeMfDunaLoGl3CJFqOjz3l0LueRFlljCzxRqfIQxq7b9vmyHac11/jn4qfDH4Y2f8AaHxI%2BIuh6BBt3CXWdWhtVI9jIwzXl8/7fvwK1iVrP4Rab4t%2BItyjFWi8CeE7q8iB97llS3A9zJiiHt5Tc4x/DTt5L8THE4jK8NTVCvWs007Od5uzvsuab1/uneax8B/hx4r1fS/E/jrRxrer6RLvtNTu8RyHEiyIrrAESVEdVZVdWClQevNdlgDoOteHn4m/tyfEP5PAP7OfhvwRatymo/EPxN9qnKnv9j08NhvZp198Uh/ZZ%2BM/j/8AefHr9r/xXfQty2i%2BBbaLw9Z4PVGeLfcyL25mGf0pSg2l7Sa0%2Bf4LT8SIY/mb%2BqYacr9WlTT9XO0n/wCAM9D%2BKXx9%2BCfwTs/tvxZ%2BKeh6ACu6OHUdRRJpf%2BucWd8h9lUmvOv%2BGvvG3xG/cfs0fsy%2BLPFET/6rxD4ki/sDSSp6SLJdr58y%2B0cJz6%2BnYfC79k79nL4M3n9rfDz4Q6PaakW3PrNzAbq/du5a6nLzE/V69DqeahHZN%2Bun4L/Mv2OcYj%2BJVjSXaC5pf%2BBz0XygeCfGiTxvL8Qf2Y5PiRa6XBrrfF%2B9OpxaJNJJaJL/AMIV4pyImlVXZcY5YA173XjP7UH/ACW/9nH/ALLNff8AqFeKK9mrJu7uepCPJBRu3bq9367a/IKKKKRQUUUUAFFFFABRRRQB8u/Ab9sb42/ED4xeFpPG2meFl8B/EzWvF2meCrPS9NuYtV0uTRbuWKGS8uHuXiulu7e2uZiscMBt28uPM%2BTILvwa/an%2BLvib9sLxX8FPi94m0Tw3plv4l1DT/Afhu9%2BE%2Bt2N14itLe1hm%2B022u3F39gvXG6dngt4C6pCxO0KzV0Xg79gzwN4C%2BJcnxI8L/F3xvALW91e78K6BJPp0mn%2BGJ9VvkvdTeyR7IyE3Eiuv%2BkPP5Mc8qW/kK2Bvy/stQa18c9H%2BN3j743%2BNfEq%2BGNXvNU8HeE9VOmR6XoV5c2k9k80P2WyhuZmW1urqFPtM8wVbh8DdtZQDjP%2BChfxc%2BFHhrwf4M%2BFHiP4neHtP8U%2BIPjD8PZdB8NXutQRahqSR%2BM9GaRre3ZxJMFVWLFFIAUk4wa7Lxj%2Bx58JvEfie98e%2BFtQ8ReDvEWoztPfa54N8QTWUlzIeS0sWWhlJPXfGc96zv28P%2BSIaH/2Wb4cf%2Bprolb3iX4w/FnwT4gvIdd/Z01jVNEjuGFnq/hXUoL2WSLPys9q5jkU46hd/tmplVVJXf5N/lc8zNIZbOlH67T5o30fLKXK7b3iuaOmnMrdrmB/whP7bHw858IfGHwt49s16WXjTRm068CjoourLKM3u0H19aP%2BGp/iD4MHl/G79lTxroir9/U/DSRa9ZKvdi1qfOUf70I963tA/a4%2BAGtX66LqPjyPQdRPDaZ4ptZdMnVv7uLlUDH/AHSa9Esr6y1K1S%2B068iuIZBmOaGQOrD1BHBohWpVfhafp/X6Hn4bD0qyby7GysujlGql6qfvr/wJHn/gT9rf9mr4k3X9m%2BFPjPoT3u7adMvrv7Hdg%2BhguAkuf%2BA16IrKyhlIIIyCO9c/47%2BEnws%2BKNr9j%2BJHw40PXo9uFGr6XFcFR/sl1JX6jFedP%2Bw58ItBzP8ACjxV4z8AtySPCPi65hg/G3maWDHtsxWnus6vaZ/Q%2BKnTqr%2B7KVN/dNTj/wCTI7e%2B%2BBPwxu/Hlx8UbbQ7iw8Q3kaJfarpOqXFpJdqibEEwhkVZwq8KJAwGARyBWb8RvgXqXxJSHQdW%2BK2sr4ccWo1TQGtbV1vPIdJB%2B/MXmoXaNd/zEEbgAuc18vfE/8Abd1b4DeKZfAvw4/bNtPitrdtkHwsnw3bVLhMHGx7vS3iQPnghgWB6itbwH/wUR/bc1rTFvNc/wCCX3jWZTyLqC8ayLj1%2Bz3EJcf99GvXp5Pm8oqpyWXRycY6eXPKL9LI8VZ/kVWpPD1aM4tt8yjFzi31vKg5x16p2v1R6xr/AOzf8VdVuNd0u38U6TDpZ1HWda0C5TzDdyaleRsLfz12qiR27O2CrMZAsedpU7tj4BeAfFtr4mtvFniTwLc%2BFrLQvBdl4Z0XRLu8t5pSsRDzTM1u7x7MrEifNnCMSF3YrwX4gf8ABUP9p3wxAsMH/BNvxrpTO21tU8TXM0dnB/tM0Nq%2B8ewIrL8K/tLfte/tAyeQf24/gD8M0lOEtNFtnvtSi9mj1Jo0Lj/ZGK1eWYlQtXq04Lzmm/uhzv8AI5VnXDdLHJUZTlUWvK1y31bWtV0tE27JX872Pof45/tU%2BLP2fb7WNd8a/s3%2BJLzwVpECTSeMtH1fTXjMflqzs8E1xFJGFclOc7tuR1Ar5p8ff8FTPjX8V5rex%2BB/wyu/hh4T1OAS2vxO%2BI/hbULpZoW/5aWtvaQSxZ7q0kjRt3216t4Z/wCCcPw/%2BJd3a%2BMf2lf2kPGnxkeG4SdLHVtbEOiGRSGBWytjsAzjKlmUjggjr9QWtrbWVtHZWVukMMKBIookCqigYCgDgADjFCr5Rl8V7OCrVO7UlBekW7yd%2BsrR/us9J4TiHMuZ/WHRpvVK0JSfk5wtyxtouVuX94%2BOP2XNA/4J/wDh/wAcxfGnxr%2B2LonxN%2BJjLgeKvG/iWGKa1Y9Vs7OV1W1Uc4ADMoJAYAkV9d6F4p8MeKIPtXhrxHYajFjPmWN4ky4%2BqEiqXin4YfDXxwGXxr8PND1gMMMNU0mG4z9fMU157rv7An7GHiCf7Vdfs2%2BFbWXORLpOnCxYH1BtihH4VwYrFvHVfaV5yb2W1kuyS5Ul5JJHZhMHmeXUvZ0IUmt3rUi2%2B7b9pdvq22/M9eorxIfsBfA3TOfA/iX4heGD2/4R/wCJerxAfQPcOB9MYo/4Y68U6d8/hf8AbR%2BMdmw%2B6t5r9nfIPqLm0dj/AN9VzclF7T%2B9P9Gzq%2BtZtH4sKn/hqx/9ujFnttRXdlZ38RgvrSKZD1SWMMPyNeL/APDP37Wdh8ujft66s6D7q6x8PtJuMfUxpET%2BdH/Csf28tM5sP2rfBWp46DU/hg8WfqYb/wDpR7KHSa/H/IP7RxS%2BLCVPl7N/lUR6VqXwe%2BEesEnV/hZ4cuiev2nQ7d8/99Iaxb39lT9l7USTqH7N3gGfPXzvB9k2fzirj/7L/wCCjNp8sXjT4L3wHRpvDurQMf8Avm7cfpR5/wDwUch/5hfwSuP%2B3/WIc/8AkJ60Sqraov8AwJmMsZh5fHg6nzpRf/tzN6f9iT9jS5O6b9kv4aEnqR4GsAf0hqu37CP7FLnJ/ZN%2BHX4eD7Mf%2B06yf7b/AOCi8P8ArPhx8Gpv%2BuXi7VV/9CsaP%2BEp/wCChi8H4N/CdvdfHGoD%2BdhVc%2BKX/L3/AMnf%2BZk6%2BWvfBz/8EI14/wBhT9iqM5X9kz4cn/e8G2R/nHVq2/Yt/Y6szm1/ZP8AhqhH8S%2BBdPz%2Bfk1z3/CT/wDBQ5%2BF%2BD/wlT3fxvqJ/lYUf2t/wUZm%2B54D%2BC0H/XTxTqzn9LIfzo5sS96v/k7/AMwVfLVtg5/%2BCEdrY/sx/s2aYQdN/Z78D25HTyPCdmmPyjrd0z4Z/DfRSDo3w%2B0S0K9Da6TDHj/vlRXlu7/go7N/yx%2BCVt/211ifH/jqUf2D/wAFE7/5bn4mfB7Twf4rPwjqc7D/AL%2BXqg/lUNVJfFUX/gTZtHG0Y/BhKn/gqK/9uR7YkaRII40CqBgKowBS14l/wqP9ubUPmv8A9sfw1YZ6ppfwrRsfRpr1v5Uf8M4ftM6n8niX9vbxUYz1TRvB%2BjWf5MbeRh%2BZqPZQ6zX4/wCRr/aGLfw4Sp83TX/t7PbaK8SP7Ftxe8%2BJP2u/jVqBb7yr42SyU/QWcERA/GqUP7C/7Iur6jc6Z4nm1vxPf2SB76HX/iPqd5JEpzhpImutoBweWXnFHJQW8/uX%2BbJeMzV2Sw8Y3/mqx/8AbYM9e8TfE34b%2BClZvGXxB0PSQv3jqerQwY%2Bu9hXnmvft9/saeHrn7FcftF%2BGr2fOBBol4dRcn0C2okJPsKr/AAs/Za/YK1DT21r4VfBX4b6vBBO0R1C00y01DZIvVfNYOQwz655r1jQfCvhfwrbfY/C/huw02HGPKsLNIV/JABR/s67v7l/mKE85xEFOEqKi9muef43jFnkH/DdXgnWefhv8D/iv4tRv9XcaP8PbqCFv%2B2t6IEH4mj/heX7Yfij5fBH7FY0uKT/VXvjbx7Z220erQ2i3L/hkGvbqzfEfjPwf4Pt/tfi3xXpulxYz5uo30cC4%2BrkCj2lJbQ%2B9t/5BPC47l5q%2BMcV/djTgvvlzv8TyL/hEP%2BCgfjEbNe%2BM3w48FRHnHhjwrc6rOPbzLyaNPx8r8DR/wxlqnij958Yv2q/ij4nL/wDHxZW2vpo1nKPTydOjhOPYua19c/bm/ZL0K7/s4fHHR9Sue1t4eMmpyMfQLaLISapf8NeX/iA%2BV8Mf2YPifr7P/qLm48OrpVrJ7%2BbfyRHHuFNV7WqvhSXokv8Agnlyq8MuXLUxDrPt7SdX/wAlp3X4Gp4H/Yo/ZQ%2BHd5/anhr4DeHmvt27%2B0tUs/t91u9fPujJJn33V6fDDDbxLBbxKiIoVERcBQOgAHSvHP8AhMP26PF//IA%2BDPgTwdF/z08UeKJtSm%2BvlWcSJn2838aD8BP2kvF//JTP2wtUtbd%2BZNP8B%2BG7XTAvsJ5hcTY9wRWcpTm7zlf53OvD4ujQhyYDBTt5QjSj983F/wDkrZ69qOpado9nJqOrahBa28S5lnuZQiIPUsxAFeX%2BJP23P2ZtC1FtB0r4kxeJNUHC6T4Os5tXuGb%2B7ttFkCn/AHiKoWH7E/7MK63C/jrRrrxnrO0ypL468Q3Gqyuo4LeVcSNHj3CAV3fw0174QSC68I/CpNKtk01sT2Gl2It40G5k3KoVVZdysu5crlSM1m5U07Nmkq%2BdVZqDdKjfRXbqS7uyXs4XS9Tg/wDhfP7SPjz938Iv2T9Q0%2BCTiPV/iPrMWloh/vG1h8%2B4YexVD/Kg/BL9qD4h/P8AFv8AahfRLWT/AFujfDTRksce32y5M05%2BqhD9O3rHiLxX4X8IWB1Txb4ksNLtR1udRvEgjH/AnIFeeXX7YPwevLh9P%2BHn9t%2BNbtGw1v4O0Oa9UH3mAEIHuZBUzr0qbs2l%2Bf6v8DnxNDA0ZJZjjJSb%2BzzqCfpTpWk/vkcx8bvCtl4I%2BI37MnhPTtR1C7hsfi/exR3Oq38l1cS/8UV4oO6SWQlnY56k17zXhPx21m/8Q/E39mbW9U8OXekXFz8Yb55NNvmjM1uf%2BEK8UfK5jZlz9Cete7U0%2BZXPoaKpqjFU1aNlbfa2m%2Bu3fXuFFFFM0CiiigAooooAKKKKACiiigDxn9vD/kiGh/8AZZvhx/6muiV6bp/xF8A6rrdx4a07xppc2o2kzQ3Ngl9H58bg4KlM7gc%2B1eZft4f8kQ0P/ss3w4/9TXRK67446X8BdG8Dat8R/jjoOiDSNHsnutR1PUbJGeGNRyVcDfuPAAU5YkAZJArGtHGz5Y4VRcm9pc2vZLlu738n6GGInVp0%2BeDiktXzXSsl3W3q9Dd%2BIR%2BHUHhS71L4q/2Kuh2kRlvp/EAi%2BywoOrOZvkUe5r4y8UftF/sI6jr9zpf7I3w3%2BI/ivxEshWR/gjZX1rBC/wD00k3R24Tp8wV1x7ZrO%2BE37H9r%2B2rpl7%2B0h%2B0Hqev%2BEvh1JdLc/DD4fXurvLa21mv3dQvYrkyIzTcMI%2BFCnqyla%2BqPDngX47/DbRLfQvh94j8FappNvEBaWNzoJ0wRpjhUNoTGBj0jA9q68TPLMrqqhjcPKvXSTkqcouMHqrXTVWVmrNxUY3vFNtM%2BSrLGZ5GNaWHjCm9p8iqVGu6TdNwT3jduTTTaV7Hzz4Gtv%2BCwvi%2B4ceEoNG8EaE6/6MPilrNrq%2BoBOzA2FquG/wBmTpWb4o/Yt/bY8dahIP2s/in4m%2BKGiStm48O%2BBfGsGgWNxHn/AFU1qbeISrjjiVT75r6m/wCFsfFfQv8Akc/2etVaMcNc%2BG9Ut79T7hGMUn/jp/GnRftP/CK3kFv4o1PUPD05ODB4i0W5syD7s6bP/Hqy/wBbMLQXLh3HDf8AbjjL/wADrRk/ukvITyTKpUVTrYqtp0nOSj6OEoqDXk20cH8JfiH8A/2bvDCeDND/AGYvFPw20yPHnlPBcksDuBjfJcWfnea3%2B27Fj3r0Dwx%2B1F%2Bzr4wkEGg/Gfw80xOBbXOpJbzZ9PLlKvn8K6bw94%2B8C%2BLlDeFfGelalkcfYNQjlP8A46xpPE/w98A%2BNozF4y8D6Pq6kYK6npsU4x/wNTWHtsRiW6qqqpfq9b/9vKTue3Qw%2BZUKSjhq1OUFsnDlXydKVv8AyU1LS8tL%2B3W7sbqOaJxlJYnDKw9iODWT4r%2BG/wAO/HcZh8ceAtF1lCMFNV0uG4BHpiRTXE3f7Gn7OUlw17o3w%2BOiXDHIuPDmqXOnsp9QLeRF/MVH/wAM0%2BIdI/eeCf2mfiLpzL/q477VYdSiX/gN1C7H/vqjnxEd4X9H/mkVUqZlKHJXwsZr%2B7OLX/gNSC/Mran%2Bwf8AslahdtqFp8F9P0m4b/lv4durjTGH0NpJHioP%2BGNrDS/%2BRJ/aO%2BLOhKv%2Bqgg8avdwp7BL1Jhj2rQ/4QL9rbQ/3mjftCeHdax0h8Q%2BCfKz9XtZ0/RRR/bv7Zuinff/AA7%2BH2uoP4dM8RXdk7fhNBIo/wC%2BjVfWZr4oy%2B6/5NnlvB5NF3nl8qb7whb8aNSP5Gefgd%2B1TpPy%2BGv21bqeNfuReI/Aen3X4F4PIY/XNH9mft%2BaP%2B7tfF3wm1xF6Ne6NqVhI31Mc0yj8FrQ/wCF2fHnTPm8Sfsja3sH3pNE8TafefkrSRMfyFH/AA1PbWn/ACHvgD8UNPA%2B%2Bz%2BDnuFX6m2eUUfW6XXT1TX6Ctk0Nq9el6yrr/0uFRfiUP8AhYH7cOifJqv7N/gnWsdX0T4hywZ%2Bi3FkP1Io/wCGgf2kNO%2BbxB%2Bw/wCI9g6vpHi7Sbv8gZ42/QVf/wCGzv2f7f5da8Q6vpTj7yar4T1G32/UtBt/Wren/th/su6mdsHx18ORnPS61BYCPr5m3FCxeGf2o/f/AMEccRgr2p5q15SlRf8A6VCDMX/hrnWbX5dZ/ZG%2BL9qw%2B8YvDVtcr%2BBgunJ/KgftreBrf/kN/B34raaO5vfhnqOB%2BKRsD%2BFdtYfHz4F6rg6X8aPCdznp5HiO1f8Ak9bNn448Fajj%2Bz/GGlz56eTqEbfyatFVoy2a%2B87Kaxs/4WYQl/3DpP8A9JqI8w/4by/Zwh41PVvE9i3dbz4f6ymPx%2ByEUf8ADf37JK/6/wCKzQ/9fPh/UIv/AEO3FewQ3EFwu%2B3mR19UYEfpT6u8ex0ewz7piKb/AO4T/SqeOf8ADwP9jcf6z486TH/11hnT/wBCjFKP%2BCgf7GB/5uH8Pj6yuP8A2WvYqQqp6gH60e6HseIP%2Bf1L/wAFT/8Alp46f%2BCgn7GI/wCbhtAP%2B7JIf5LR/wAPAv2OjxF8c9Ok/wCuNpcv/wCgxGvYwAOgoo90PY8Qf8/qX/gqf/y08c/4b8/ZPfm3%2BJd1P/16%2BF9Tl/8AQLY0f8N2/AG440dfGOok9BZfDrWGz/31aivY6hub%2BwshuvL2GIessgX%2BdF4LoJ0M9t72Jpr/ALhP9apzXwp%2BLuifF7TbrVdD8L%2BJdMitZhGR4k8O3GnNNkZ3RrOql17ZHGeK4b472V74V%2BJvhn4jaPqckEQ1y0g1jy/FF2Z5EkbyVghsGJt2Rt4LsNrjaSATk16Ve/Ef4eabk6j480W3x18/VIU/m1chrPxR/ZDtvE8fjbXfiB8OhrcEYSHVbjU7E3aKM4VZC28AZPAPc%2BtZutSg7uSXzX%2BZljvZVMFGlWxEOdNPmbjDZ3ukp%2BVrXs9btXPNPj3faCfiBrevX11aS%2BIZLPR5vhddpIhmnZLjFzb2Td3djh1Q5ZJfm%2BUcZ%2Bo%2BCr3X/FN38PtG8O3CeK3u/EsXiG8%2BwPGlzZXkTPHI8xAV45GMSIMkqcgBQpx6k/7Yv7KWkhbG1%2BMehOI12xw6cWnwPQCJW/Sm/wDDY3wZvPl8Nw%2BKtZbsuk%2BCNSlz9CYAD%2BdT9cwy%2B2vv/wArnh1qGSVq8pzxlP3ndqLTeur2cnzfZUrXUPdaZX/Z8g1nUvGeqeK38Iapolo/hzS7O9t9U0yW1abUIo2WXasir5gjULH5q5RhjYzAZrofit8JfHHxI1e2n0L9oDxP4S06K28u40/w5b2Qad9xPmGaeCR1OCBgccZxnNY3/DTupXvy%2BH/2aPideMfumfw9FZqfqbmZCPyo/wCFt/tKal/yBP2TpLdW%2B7Jrnjazgx7lYBMfwqfrVJu6u/RN/oenSrZV9S%2BrOU6ivduMKqu73%2BxGNl5KVnrfcz/%2BGJfh/qvy%2BPvir8TPFCH70Gs/EC9SJv8AtnbPCo/ACtLw5%2BxL%2ByX4XuPtmn/ADw1PPnP2jVbAX0mfXfc72z75zTftP7aur/NFpfw00NG6Ce6v9QkQe4VYVJ/Gj/hVf7TmsfNr/wC1JDYK/wB%2BDw74Ktoto9BJcvMfxwKPrNR7Rl%2BC/NmcMJlKlzUstlJ95Qjf76s5s9H0Pw54e8M2g0/w3oNlp8A6QWNqkSfkgAq5vQOIyw3EZC55xXln/DK1hqf/ACOvxx%2BI%2BuK3%2Btgn8Vvawv7bLRYhj2rovhv%2Bz98IPhJqk%2Bu%2BAPBsdlf3Nv5Fzfy3c1xPLHuDbWkmd2IyoPXqKIzrSlrGy9dfwX6ns4ermLnGLw8YQ/xptLyjCFvxRR%2BPPiT4keCtIj8WeCr1pILYjztNg0FroykZZnllEmYoQinJVCwOME5C1V%2BK/h7xL4qv9E8b%2BGL%2B1vdHtLGWa7s7rxVdaday52PHN%2B4BWbGMASYTBOSKufGa90nUNW0PwJql9rUUOr3LRXv9kXwgXynxGBMdpYozuqYQqcnrgVjfEa10bS5L/SovAuhX%2Bi%2BFtLt9VvNO1iwNyXQiSMGAu%2ByHZHAxztOSuOMk1wYnF0KbqXbai0na%2Bjs5fdypt77bX0ODGQlOpWTk3D3dLvSSvLRJP3bL3lrts9Tj7/VrTxB4hh8cw%2BHby28QeIrvQ9W8KTSWLNOsMkSwz25kAIVYk8xpEJAIYtgl%2Beq%2BGHgnxhovi/w/oV54UurK28J2eo2cmrM8XkXtq8uLSOPDl2PlhHbcoCMhXnNTXnijx7E9xeaV4jkZL7VdQ0az0tbaJVs3SKRrZ4sJu3ARlm3Fg2RgKBWh8F9Ttzqo07QtanvdPvPD9pqbi4vnuGt55PlI3uzMN21mKk8EHgZrkoY2lUxUadnq/JdXZ21vdpt7OKsmcuFwdJYuLlJttpvSKvrfVa3vJXurNK0Xfc6zxX8Nfh747vrHUvG3gjStYn0zzDp8mp2Ec/2cvt3FN4O0nYvI/uitaGCy020EFvDFbwQphURQiIo9hwBXPePPDninxZc22neF/inceHkiVzfxWFlBLPOp27SGlDeVjDchTncOmOcOP9mb4c37ifxxe654plU5DeI9bmnQH/rkpWL8Nld9Svi/ayjh6Kf95yil%2BClJ221SPel7SFaTo0Vd7ybir%2Btk5O22vyOX/aWurW%2B%2BM/7N93ZXMc0T/GW%2BKSxOGVh/whXijkEcGvaq8Q/aJ0fSfD/xc/Zr0XQtMt7KztvjHfJb2trCscca/wDCFeKOFVQABXt9d8eblXNv1ttfyvqdkeblXNuFFFFUMKKKKACiiigAooooA5jw58bfgx4x%2BIOs/CTwj8XfDGq%2BK/DiK/iHwzpuv20%2BoaWrY2tcWyOZIAdy4LqM5HrRYfG34Mar8Ur34G6X8XfDFz4202yW81Hwfb6/bPqlrbEIRNJaB/OSMiSPDsoB3rzyK%2BOP2ePD3jPwZ8bPAGgeIPhB4107Uvhp4q%2BI954%2B8TN4H1FrTUbbWdZd7T7NdJAU1H7Y89restu0vkLaMbjyWjAq78NfAHxBg/ae8IfDi4%2BFHii313wp%2B0r428deJvGNx4Zuo9Ku/Dmo6XrcVj5epNGLe6kI1LSbU2qSNKn2BmZFWBCQD3v9vD/kiGh/9lm%2BHH/qa6JXi3xb8LH9uT9ru8/Zw8K6nqDfDHwDqVvqHxaml1GWS11fUw/mw6TEhJUKpXdLjptK/KyLu9f/AG2fg/8AtP8Axh8K6LpnwB8U%2BAlttJ8YeG9e1Dw54w029hfVW0vXrHUzHHqltLILEMloVybG63MQPkDbl8Z/YCH7aXgr4N683gn9nT4Xai1/8T/Ff9uanrXxv1GK4vNRtdZu9PuZSsXhll2F7M7DnLJtJVCSi9eE%2BpUZPFVI3rU9aW/uyleMpqzWsYtqN7q8r291W8vMsJWx8qdB/wAJtup5pWah6Sl8X92NvtM%2Bnvi34W8Uavp6Q%2BH7a0ubRYBbx6dIrpskdgnmgoCMKhPDLhRk1H8UJtBvdJsZ7rVNLQ2SPdJpN/uBu9qFdkY3I24HO0gHnHHNcr/wnH/BQv8A6Nf%2BDP8A4fjVv/mXpsnjP/goLMAJf2Wvgu21gy7vjtqxwR0P/Irda%2BNx/DdPFSxU4T1rqKaleSXK7pq1nvZ8rbjpa1nK/p2Opv8AW9W%2B2teafqN1Zx6fd2NpaaYGBEhkCySLIDksxjcAc/LtB55zo%2BHvFmtazqtn/af2WSw1mO6e1tVtzuhjjfCMzFiHDpyeBgsAMivOJNR/bqm1xPEsn7JPwTN8i4W5Px21bcOCM/8AIr9cEjPXBIqr4d/4by8M3TXdj%2BzH8IZCIvJtkuPj7qzLbRZJ8uMf8IsNq5%2Bp4AzgCuSjk%2BeYfHxmq16bnd2k0rJ7uLTTvD3OSNoxspa2uFj1PxD8B/gx4qYya78L9DmkJ5nXTkjk/wC%2B0Ab9ayP%2BGa/Ben/8if4r8W%2BHx2j0nxRc7B/wCVpE/DGK8d1b4wft2fEL4yax8DbX9nb4d6Vq3hbwzpWvXN9pn7QeqQwTQalcajbwoP8Ail2LuraVOWDIABImCxLBe00HxL/wUT0fSYdNu/2d/hFqEkQIN3efHjVPMkyxI3bfCoHAOOAOleu8Bh62PlGpg4qNrqonBNvTS0VCae%2BrbTt5nLPA4OcuZ01fulZ/erP8Tr/%2BFXfGXSvl8OftGX0ka/ci13w/a3X5vGImP50bf2qNL4WXwJrCL3ZbuxkYfh5q5/Kub/4Tj/goX/0a/wDBn/w/Grf/ADL0f8Jx/wAFC/8Ao1/4M/8Ah%2BNW/wDmXro/sujH%2BHUqR9Kkvylzon6jTXwTnH0k/wBeY6T/AIWP8d9O41f9nY3Cr96TRvFVtLn3CzCI/hR/wv8AltONd%2BCPj6yI%2B%2By6ALlR%2BNvI/H4Vzf8AwnH/AAUL/wCjX/gz/wCH41b/AOZeuX1b9o79u3R/jPoHwOuP2UPhI2qeIvC%2Br67Z3KfHXVPIjg065023mRyfDG4OzapAVAUghJMlSFDH1PHR%2BDFS/wC3oQl%2BkWH1fEx%2BGs/nGL/SJ6YP2o/gzB8usa5qGmOPvJqnh%2B9t9v1LxBf1rovBPxW%2BHHxIaaPwJ4z0/VHt0DTx2k4ZoweAWXqM4715z/wnH/BQv/o1/wCDP/h%2BNW/%2BZeo4/Fv/AAUAhma5i/ZV%2BCqyOMPIvx11UM31P/CLc1rRp5lGovaVISj19xxf/pbX4F04YyM1zzi1/haf/pTX4Hd/Ez4iav4Vlt9O8L6VFeXZuLY3xmDeXbwSzLECSv8AGxJCj1Uk8VV%2BJ/iuHTrybTrbwdpuqtYaTJqmqf2k20JaoWGE%2BR90h2PgHA%2BXkivK/HXhf9sv4hzw33iL9jv4HSXcNxBJ9t/4XdqfnMsUgcRlz4VzsOMEZ6E4xVbxbon/AAUW8UHenwK%2BDds13pb6ZrDj416oxu7RmJ2LjwwBE4DOA4BxvPB4rjxMM2vV5HdO3LZrRWlf4lo78t3rdXtbRHPXp42XtLap2tttr3Xe199L2O7vrP4M61rsUV98AvDN1pMt9FYy6nd6ZbF1uJIvMA8oxEFF%2B6zFwQ3RSOao%2BFfhJ%2BzF8QNU%2Bw3f7MPhmwS6tDd6XO2iWqfa4A%2B0tiNQUbODtPOCDXlHxg8aft3fB2ztPGviX9m74Q3Hh688eaHZpo1j8adUM4vtTvrXR4CZW8OKv2dZrxJnAXeArbS2Ah67wRpv/BRfwte2V5qnwC%2BC1/8A2Zo66dYhPjVq0JCBstI5/wCEabc7YQcBQNpwOeMqdHMniF7SKcb66Q26%2BdrWcet730OL%2BzVVqr2tCDV9bwpv/wBtvbt1vuegzfsV/srTP5n/AApDRY29YI3j/wDQWFN/4Yq/ZlH%2Bq%2BGnlf8AXDWb2P8A9BmFcb46X/goj43htooPgx8ONDNszHfoX7QmpwmXIHD7/CbggY4%2BprnP%2BEE/4KWx/wDHto/hQf8AXX9oO6f%2Bfg6uqtGdOo1DCqS7qVNfg1cdXKMtjNqOBptd0qa/DlTPVf8Ahi79nMfc8Hakn/XPxbqa/wArmj/hjD9nodPDetj6eNtW/wDkqvKv%2BEQ/4KjJ/qtO8Dj/AH/jjcN/7p9cx8bfF3/BTT4D/Bjxd8cfFOheDLrS/Bnhi/13UrWw%2BM8rTzW9pbSXEiRh/CKqXKxkKGZRkjJA5rLnq/8AQE//AAKn/mR/ZeXf9AEf/Kf%2BZ75/wxf%2BzyeG8M60f97xrqx/9uqP%2BGLf2cT9/wAE37/9dPFOpN/O4NeVf8Ir/wAFUTw1j4B/D41Tj/3T6P8AhDv%2BCoT/AOu03wSf9z46XC/%2B6dRz1f8AoCf/AIFT/wAw/svLv%2BgCP/lP/Nnqv/DFP7MDf674Vwy/9d9SupP/AEKU1LbfsY/sr2h3RfAvw%2Bx/6bWnmf8AoRNeS/8ACA/8FJpP%2BPjRPC7eyftEXaD9PB1H/Ctv%2BChb/wDHx4M8Nyf93Oasn/oHhNad8R0wS%2Bc6f/yLBZVgU7rL6f3Uv/kWe3WX7MH7N%2Bn4Nr8BPBwI6M3hu2Yj8WQmtrT/AITfCvScf2V8M/D9tjp9n0aBMfklfO//AAqj9uKY/wDEx%2BDvhG7HcXH7VfiIg/8AfPhoVzHwR0v9of4%2BfBjwj8ctE/Y2%2BHDab4z8L6frunW%2BuftN%2BI3nigu7aO4jSVR4fZA4WQBgpYZBwSOatSzD7OGgvWa/9tpnTTwip/w8JTj/AOAL/wBJpH2Mq6NodvhVtrOIdgFjX%2BgrL1D4ofDTSc/2r8RNCtsdftGrwpj82r54tvgr%2B0RayeaP2CPgJK3965%2BOesTE/wDffhg5rZ0/wh%2B1XpODpn7BX7O0BHRovi7fqfzHhTNXzZzLaNOP/b03%2BUYnWnmFrKMF85P8kj1G/wD2mvgBpz%2BXN8W9ElbstpeCcn6eXuzVf/hp34X3Xy%2BH4fEOrt2XS/Ct9Ln6HygD%2BdcnYeIf29dKXZpn7JfwRtl9IPjjqiD9PC1WP%2BE4/wCChf8A0a/8Gf8Aw/Grf/MvR7LN5b1YR9IN/wDpU/0HyZhLepFekW/zkdJ/wvTxDf8AyeHf2f8AxvcsfuteWVvZofxmmUj8qP8AhN/2idU/d6X8C9L07PSXWfFqHH1W3if/ANCrzPwD%2B0d%2B3b8RPFfjfwho/wCyh8JIbjwH4oi0LVZLn466oEnnk0rT9TDxbfDBJTydRhUlgp3o4xgBm6j/AITj/goX/wBGv/Bn/wAPxq3/AMy9H1LGT%2BPFS/7djCP/ALbJ/iL6tiJfFWl8lFfozo/7K/aj1f5Lzxf4L0VT/Fp%2BkXN46/jLLGp/75rd8C%2BEPHnh%2B%2BnvvGfxWufEHmxBI7ZtKt7WGE5zuURjcT2%2BZjXn/wDwnH/BQv8A6Nf%2BDP8A4fjVv/mXo/4Tj/goX/0a/wDBn/w/Grf/ADL1pSy%2BlSqKo5zk1/NOTX3e7H8GXDCQhNScpNrvJv8ADRfgdl8Rfg7F47vpNXt/F%2BrafcuLUBLW72Q/uJTIhIQB8gs%2BMOME5qp8WvBjXujSahHf3LandRNYeTZ7Y0vrZmZ/s8wcSEoF8wllw2NxyATXFar4g/4KKalf2V5D%2Bz78JbRLSUvLb23x51MJc9MK%2B7wqTgexHWuVvPjL%2B2h8QvjDrXwG1T9kT4Syaj4X8N6R4guLhvj3q6W7w6jPqdtEiFPDQZnU6ZcbwyhdskeCxLBfPzDLp4nDYmFCnyznZKTlo3b4lbm5XG8krx1etnFtNvCYeTk3H4t99fx832PXde8IW%2BpHR/iJ4R0e8jvbloZbk6fLGX8toAu8JO3khwuF8wjftGAazb6TQlmudZ0iWXSjHpk1zGYyIHlvbeYrP5qx4WaTgKchhg5HXNcho0f7euieHo/C9n%2BzX8JUtIowiJb/ALQGrwEYYtkNF4WVgTnB55AFXIL39uaDToNK/wCGRfgjLBbyeZClx8dNWlKvnO/L%2BFyS2edxOfevFr8PZnjY80nGEpRi5ptuKqKNm48nK0m25N31ahpozWNKnF3jFLrt1Ot01DD4rhLWTRa3NronMohO6WykiR3y%2BOY15QAngoBXeeINMv8AWNJk07Tden02aQri8to0Z0AIJADgjkZGccZzXk3/AAnH/BQr/o1/4M/%2BH41b/wCZej/hOP8AgoX/ANGv/Bn/AMPxq3/zL17mW5HTwGGrUJTco1Hra8XazT1i0%2BZ3d5JxbtHqrl2K37RGnPpPxb/Zr02TUrm8aH4x3ym6vHDSyf8AFFeKOWIABP4Cvb6%2BV/if4l/at1f9pP8AZ0tfjX8F/h74f0cfFzUWjvvC3xOvtYuTP/whfibahgn0WyUIQWJfzSQQBsOSV%2BqK9qnThSpqEFokkt3otFq2397b7tjCiiirAKKKKACiiigAooooAKo%2BKPENh4S8Naj4r1UObXTLGa7uREuW8uNC7YHc4U1eqO7tLW/tZbG9t0mhmjaOaKVQyupGCpB4II4xQB83/sa/tS/Hz4qeMNG8K/H/AE3wkj%2BN/hPp3xA8Lr4T0%2B5t/wCy7e4lCT6ZdNPcTC6khE1ptu4xAspeX9xFsG7ybR/%2BCjvxy8FfC/TfilrPgLwPPpnxV%2BF%2Bq%2BOvhNoujabc2T6bN/aulW1va6rM1xKt01w2v2U8s8MUGxo7obHJRz79%2Bz/%2Bwv4Q/Zz1i11rwn8ZfHWqSaZoun6BoaeILnTrgaZ4fsjMYNGhK2SMbfdMC00he8k8iEPcsIwKwdJ/4JjfAi00bW/Cuu%2BM/GWtaJe%2BEtR8MeFtH1HUrZIvBuk3t1Fdz22lvb20cyfv7azdJLiSeSP7Dbqjqse0gHYfsu/F34r%2BMfEvxD%2BD/wAcrnw9feJ/h54ltbGbW/CukT6fY6paXWm2t9DMtrPc3Mlu6meWFkM8gPkCQECTYnrtef8AwB/Z80j4C2fiC5Pj7xD4u17xZrg1bxN4r8VtafbtRuFtYLSLctlb29vEkdvbQRqkUKL8hYgu7u3oFABXy78Bv2xvjb8QPjF4Wk8baZ4WXwH8TNa8XaZ4Ks9L025i1XS5NFu5YoZLy4e5eK6W7t7a5mKxwwG3by48z5Mg%2Boq8M8HfsGeBvAXxLk%2BJHhf4u%2BN4Ba3ur3fhXQJJ9Ok0/wAMT6rfJe6m9kj2RkJuJFdf9IefyY55Ut/IVsAAp3vxU%2BOXgP8Aba8NfCrxDqPgHXtM8fWuqyrpnh/wvdWut%2BH9IsI2kt769vHvJY7uAzzLbbRb2%2B2a%2BXYXCyZyf%2BCa/wC1P8Xf2lvhfb6j%2B0X4n0S08fnwpomreI/h7a/CfW/CV94YmvLd3lili1e7nkvofOSWGO6iWOJmtZcFzkJ1fw//AGMT8Ov2hPGf7Q%2Bl/tMfES8vPHV2Zda0PUotCltI4kgeG1tIJv7MF7DbWu9pIYRc7BI8juJGmmMm38GP2Y7X4U/EHWfi34p%2BMvjDx/4r1rR7TSJNe8Y/2bHJbafbSzzR20MOm2dpAi%2BbcSuzmMyOSoZyqIqgHp9FFFAHy7%2B01%2B2N8bfhX8U/GL/DzTPCzeDfhNovhvU/HdtrOm3M2o6xHql9cRTR2M0dzHHaNbWtv54aSK4E8koixCFMhm/a4/aV%2BJnwT/aY8J6Sur%2BHvCXgRvClxda78QfEXwi1nX7e0ma/tovscmoWN3b2%2BjxSRjzDNdEx5iQnhMV23xn/AGIfhx8bvikfiZrnjnxVpcWo2ukWvi/w1o11app3imDS72S9sYr5ZbeSYLHNNLn7PLAZY5DFMZYwqCX44fsjT/tB%2BDm%2BGnxD/aT%2BITeFdS0WTSfF/huxTRYbfxPaSMwmiu5BpvnxCSJ2hf7JLb5jOOG%2BagDz7/hsb42f8NA%2BZ/Znhb/hWP8Awuf/AIVp9g/s25/tv7Z/Zvn/ANqfavtPkeV9t/0X7L9n3eX%2B/wDPz%2B5r6irxn/hiH4cf8L//AOF7f8Jz4q%2Bz/wDCV/8ACVf8IJ9qtf7E/t/%2Bzf7N/tTZ9n%2B0%2Bb9m/wCWX2j7P5v7/wAnzv3lezUAFfPX7Xn7RP7QHgP4gQfC79nC18Irqen/AA113xvrNx4y025uobqCwktYodNhFvcQGCS4e4kzdMZVgEI/cTGTC/QteR/tL/seeD/2mdQsta1H4k%2BL/COoW/h/U/D99qPg28tYZtS0XUPIN5p8xubacLHI1tCwliEdxEUJimj3vuAOT/aq%2BPnj2y/Yn/4a8%2BEfibwlpOl2HgtfF0uleNfAVzrsmoYt47uytreO31Ky8q5M3lqhzITI0e0KQCeU1L9qv9qL4fftK%2BDvhF8e/EfhDwboVx4A8G3Ov69/wqLXr/TdZ8UajfalaajpdrrEd%2BtlpIV7WxW3S786Rm1CMZlJVT7V43/Zg8F/EL4eaR8KfE3iTWX8P6J4t0rXLHS7f7JDFs028hvLLTmCW43WcctvAdp/eMsQV5GBbdU%2BNf7LUHx78TWdx43%2BN/jWPwpb32nXt58O7A6ZHpOoz2V0l1C80psmvsedFCzxx3SRuIgrKVZ1cA9UooooA8X/AOCgvxd%2BOH7P37I/jT49fAK98KR6x4J0K71y6g8YaLc31td2lrbSzPboltdWzJK7IiiQuVQFiUfgVd/bB%2BJ/i7wJ4O8NeBfh7pmg3GvfEfxla%2BFNNl8VabJe6ZarPDPcXM1zbRywtcotpa3OIRLH5jlFLqCSNT9rH9nGy/a0%2BBGvfs%2B618VfFPhHSfE9lLY65f8AhBdO%2B13NlLE8U1tuv7S6jRHV%2BWRFkBUbXXnOd43/AGVpPiV8OrPwR48/aC8dajqek6np2qaB4xMWjwanpOpWZJW8hEGnJbM8gZ1kSWCSFkkdPLCsVIB8%2B3v7fn7Vfibw1qGgfDnQvAEHi74f%2BGvGmr/ECTV9JvZLDV38P6xJpkVrYIl2j2QvjBNP50r3P2QbEMVySWH2L4E8X6b8QfBGjePdGjlSz1vSrfULRJlw6xTRLIoYDocMM14L4j/4Jk/CHXPA%2BneDNN%2BLHxA0WaPSdf0vxPr2kanZJf8Aiuy1u8%2B3atDfvJaOgNxdbpfNtUt5YDI4t3gVitfRGmabp%2Bjabb6PpNlHbWtpAkNtbwoFSKNQFVFA4AAAAHtQBPXNfGKT4mw/DLWJ/g5rWg6d4litd%2BmXvibSpr6xiKsC5lggnt5JR5YfCrLH8xXLYzXS1hfEzwdqnxB8B6n4L0b4g6z4VuNRt/JTxB4fhs5LyzBILNEt7b3FuSQCp8yFxhjgA4IAOC%2BAnxR%2BMH7Q37Efw/8AjX4fufDWj%2BNfHHw40TXGlvNKuLjS7O8vLKC4lP2ZbhJpIlMj7Y/PViAoMnVq8Bvf2zP2o9B%2BDmnp4C0jwrdQaP8AHO78Cah488HfBrXde0eTQrPRLq5fUbTRNNvWuo1i1GFNJci5liSWCVs7SoX2Hwl%2Bw1P4M/ZLT9jzSf2t/iuug2vghPCula/DPoltrGm2MaJFE8FxbaXGqzJAghWUoTtJc5lxKNHwf%2ByN4m%2BHvwQ0n4G%2BAf2vPiNolroVwi6Tq%2Bl6J4VhuLWwS3WCPTUhXRPsa2ybQ6kW/nBjjzdmEAB6F8HfG%2Bm/Er4T%2BGviBpHjjSPE1vrOh2t2niHw/aNb2OpF4lY3EETyytDG5JZY2kkZAQrOxBJ6SuX%2BCvwh8G/AP4U6D8HPh/FcrpHh7T0tLNr65aaeUDJaWWRuXkdizs3dmJwOldRQAV4v%2Bxz8Xfjh8Srr4peDvj9e%2BFLvWfh/8TG8PW194P0W5sLW4tW0bStSQtFc3Vy5kVtQeMuHCuI1YImSK9orxf4E/seax8CfGni/xraftZfErxHJ448Vw%2BINesfENp4dED3aWtvZkJ9k0iB0je3tLaJgHziEMpV2dmAPDPBH7f8A8VfBnw3%2BMXxE%2BL0Phq28XeG9L8Qaxonwwb4Ua14Zvr%2BOyv30%2ByvG1K/upItVt5I109ZLm1h2RfaYskDYh95/Zk%2BLnxj8R%2BPvH/wL%2BP8Ad%2BGdQ8TeBbrTJl1zwho9xp1jqFjf2nmxN9muLm5eGVJYrmJh5zhljjkGzeY0zNc/YI8DfETVfEGq/Hr4weOfiGdc8E6v4StIPEk%2BnWyaLpOpyQPew2n9m2VqfMc2lpieYyzJ9mTa6kuW7H4Afs56V8Bj4h1i4%2BJHibxp4i8V6jDd%2BIPFnjCSzN9d%2BRbR20EW2ytra3jijijAVY4lyzyO255HZgD0SiiigDxf4K/F344a1%2B1x8WfgL8VL3wpdaP4Y0Lw9rnhCfw/otza3MVpqVzrMP2e8ea6mW4lRdMibzI0gXMrjYcA1z/iT4iftLeFf2/PBfwg0zxV8OdV8OeLtI1jWPENnB8Pry31nS9B05Eit9%2Bo/2q8Ush1DUbdVVrRVZGuiqqVJroNF/Y81jQP2i/GH7SWnftZfEoah4z0qy0y90J7Tw6dPs7SznuprSKAf2R548o3t0oaSaRmWY7y5VCvaaX8C/Cul/HDxL%2B0CmranNr/iTwxpugN580Zh06yspbuZFtlEYKM8t7K8jMX3lIhwI1AAPHv%2BCcX7U/xd/aP8C%2Bb%2B0X4n0Sy8d/8ACM6Rqus/Dy3%2BE%2Bt%2BFL7w411HKZFkXV7uZ9RgMqPFHdQJHEWtpeXJwn0rXl3wb/Zftvhb8RdU%2BL/i340%2BMviD4p1LRLfRk1vxkdNjez0%2BGWSYW8MWm2VpAoaWVnd2jaRiEBfaiqPUaACvB/2tfjN%2B0F8BvEnhfxd4M8QeCL3w9rXi7QvDtt4FvvDl5JrmuXN7fLDctaXsd6sUJgtWkutjWkw8u0mZ3jQF4/eK8Z%2BJP7HK/ET9p3RP2prf9o74gaFqvh/QxpWmaBpkOiXGlwQPN5ty0aX2mXE0MtyBHHNLFKjtHDGisgHIBwv7bH7UPxm%2BFvjLxBZ/Brw54Ouk%2BE/wpuviV4mHizSp7mbUYVa6hi0%2BwkiuIRYzyw2uoKbtxOqbo18l1dyKuk/ts/GLWvjZa67Y6d4XPwqu/i%2Bnw6hsW0u5GuG5bSxcjVDc/afIEX2wi2%2ByfZ93l/v/AD8/ua7j46fsI%2BCv2g2im8bfGDxxbTXfhe78MeL59IuNOgbxXoVzMJZNMvh9iKrF99Fkthbzok0oWUeY5NqP9hz4aQ/HtfjhD418UJaJ4pHihfAS3NoNDXXhpv8AZo1MJ9m%2B0%2Bb9m48r7R9n8z995PnfvKAPaKKKKACiiigAooooAKKKKACiiigAooooAKKKKACiiigAooooAKKKKACiiigAooooAKKKKACiiigAooooAKKKKACiiigAooooAKKKKACiiigAooooAKKKKACiiigAooooAKKKKACiiigAooooAKKKKACiiigD/9k%3D\">"
      ]
     },
     "metadata": {},
     "output_type": "display_data"
    }
   ],
   "source": [
    "plt.rcParams['animation.ffmpeg_path'] = '/usr/bin/ffmpeg'\n",
    "try:\n",
    "    display_html(HTML(anim.to_html5_video()))\n",
    "# In case the build-in renderers are unaviable, fall back to\n",
    "# a custom one, that doesn't require external libraries\n",
    "except (RuntimeError, KeyError):\n",
    "    anim.save(None, writer=matplotlib_utils.SimpleMovieWriter(0.001))"
   ]
  },
  {
   "cell_type": "markdown",
   "metadata": {},
   "source": [
    "# Logistic regression\n",
    "Your assignment is to implement the logistic regression\n",
    "\n",
    "Plan:\n",
    "* Use a shared variable for weights\n",
    "* Use a matrix placeholder for `X`\n",
    " \n",
    "We shall train on a two-class MNIST dataset\n",
    "* please note that target `y` are `{0,1}` and not `{-1,1}` as in some formulae"
   ]
  },
  {
   "cell_type": "code",
   "execution_count": 30,
   "metadata": {},
   "outputs": [
    {
     "name": "stdout",
     "output_type": "stream",
     "text": [
      "y [shape - (360,)]: [0 1 0 1 0 1 0 0 1 1]\n",
      "X [shape - (360, 64)]:\n"
     ]
    }
   ],
   "source": [
    "from sklearn.datasets import load_digits\n",
    "mnist = load_digits(2)\n",
    "\n",
    "X, y = mnist.data, mnist.target\n",
    "\n",
    "print(\"y [shape - %s]:\" % (str(y.shape)), y[:10])\n",
    "print(\"X [shape - %s]:\" % (str(X.shape)))"
   ]
  },
  {
   "cell_type": "code",
   "execution_count": 31,
   "metadata": {},
   "outputs": [
    {
     "name": "stdout",
     "output_type": "stream",
     "text": [
      "X:\n",
      " [[ 0.  0.  5. 13.  9.  1.  0.  0.  0.  0.]\n",
      " [ 0.  0.  0. 12. 13.  5.  0.  0.  0.  0.]\n",
      " [ 0.  0.  1.  9. 15. 11.  0.  0.  0.  0.]]\n",
      "y:\n",
      " [0 1 0 1 0 1 0 0 1 1]\n"
     ]
    },
    {
     "data": {
      "image/png": "[encoded data removed]",
      "text/plain": [
       "<Figure size 432x288 with 1 Axes>"
      ]
     },
     "metadata": {
      "needs_background": "light"
     },
     "output_type": "display_data"
    }
   ],
   "source": [
    "print('X:\\n',X[:3,:10])\n",
    "print('y:\\n',y[:10])\n",
    "plt.imshow(X[7].reshape([8,8]));"
   ]
  },
  {
   "cell_type": "markdown",
   "metadata": {},
   "source": [
    "It's your turn now!\n",
    "Just a small reminder of the relevant math:\n",
    "\n",
    "$$\n",
    "P(y=1|X) = \\sigma(X \\cdot W + b)\n",
    "$$\n",
    "$$\n",
    "\\text{loss} = -\\log\\left(P\\left(y_\\text{predicted} = 1\\right)\\right)\\cdot y_\\text{true} - \\log\\left(1 - P\\left(y_\\text{predicted} = 1\\right)\\right)\\cdot\\left(1 - y_\\text{true}\\right)\n",
    "$$\n",
    "\n",
    "$\\sigma(x)$ is available via `tf.nn.sigmoid` and matrix multiplication via `tf.matmul`"
   ]
  },
  {
   "cell_type": "code",
   "execution_count": 32,
   "metadata": {},
   "outputs": [],
   "source": [
    "from sklearn.model_selection import train_test_split\n",
    "X_train, X_test, y_train, y_test = train_test_split(\n",
    "    X, y, random_state=42)"
   ]
  },
  {
   "cell_type": "markdown",
   "metadata": {},
   "source": [
    "__Your code goes here.__ For the training and testing scaffolding to work, please stick to the names in comments."
   ]
  },
  {
   "cell_type": "code",
   "execution_count": 33,
   "metadata": {},
   "outputs": [],
   "source": [
    "# Model parameters - weights and bias\n",
    "# weights = tf.Variable(...) shape should be (X.shape[1], 1)\n",
    "# b = tf.Variable(...)\n",
    "\n",
    "weights = tf.Variable(np.zeros((X.shape[1], 1), dtype='float32'))\n",
    "b = tf.Variable(np.zeros(None), dtype='float32')"
   ]
  },
  {
   "cell_type": "code",
   "execution_count": 34,
   "metadata": {},
   "outputs": [],
   "source": [
    "# Placeholders for the input data\n",
    "# input_X = tf.placeholder(...)\n",
    "# input_y = tf.placeholder(...)\n",
    "\n",
    "input_X = tf.placeholder(\"float32\", shape=(None, X.shape[1]), name=\"input_X\")\n",
    "input_y = tf.placeholder(\"float32\", shape=(None,), name=\"input_y\")"
   ]
  },
  {
   "cell_type": "code",
   "execution_count": 35,
   "metadata": {},
   "outputs": [],
   "source": [
    "# The model code\n",
    "\n",
    "# Compute a vector of predictions, resulting shape should be [input_X.shape[0],]\n",
    "# This is 1D, if you have extra dimensions, you can  get rid of them with tf.squeeze .\n",
    "# Don't forget the sigmoid.\n",
    "# predicted_y = <predicted probabilities for input_X>\n",
    "\n",
    "predicted_y = tf.squeeze(tf.sigmoid(input_X @ weights + b))\n",
    "\n",
    "# Loss. Should be a scalar number - average loss over all the objects\n",
    "# tf.reduce_mean is your friend here\n",
    "# loss = <logistic loss (scalar, mean over sample)>\n",
    "loss = tf.reduce_mean(-tf.log(predicted_y) * input_y - tf.log(1 - predicted_y) * (1 - input_y))\n",
    "\n",
    "# See above for an example. tf.train.*Optimizer\n",
    "# optimizer = <optimizer that minimizes loss>\n",
    "optimizer = tf.train.MomentumOptimizer(0.01, 0.5).minimize(loss, var_list=[weights, b])"
   ]
  },
  {
   "cell_type": "markdown",
   "metadata": {},
   "source": [
    "A test to help with the debugging"
   ]
  },
  {
   "cell_type": "code",
   "execution_count": 37,
   "metadata": {},
   "outputs": [],
   "source": [
    "validation_weights = 1e-3 * np.fromiter(map(lambda x:\n",
    "        s.run(weird_psychotic_function, {my_scalar:x, my_vector:[1, 0.1, 2]}),\n",
    "                                   0.15 * np.arange(1, X.shape[1] + 1)),\n",
    "                                   count=X.shape[1], dtype=np.float32)[:, np.newaxis]\n",
    "\n",
    "# Compute predictions for given weights and bias\n",
    "prediction_validation = s.run(\n",
    "    predicted_y, {\n",
    "    input_X: X,\n",
    "    weights: validation_weights,\n",
    "    b: 1e-1})\n",
    "\n",
    "#prediction_validation = prediction_validation.flatten()\n",
    "\n",
    "# Load the reference values for the predictions\n",
    "validation_true_values = np.loadtxt(\"predicciones_de_validacion.txt\")\n",
    "\n",
    "assert prediction_validation.shape == (X.shape[0],),\\\n",
    "       \"Predictions must be a 1D array with length equal to the number \" \\\n",
    "       \"of examples in input_X\"\n",
    "assert np.allclose(validation_true_values, prediction_validation)\n",
    "loss_validation = s.run(\n",
    "        loss, {\n",
    "            input_X: X[:100],\n",
    "            input_y: y[-100:],\n",
    "            weights: validation_weights+1.21e-3,\n",
    "            b: -1e-1})\n",
    "assert np.allclose(loss_validation, 0.728689)"
   ]
  },
  {
   "cell_type": "code",
   "execution_count": 38,
   "metadata": {},
   "outputs": [
    {
     "name": "stdout",
     "output_type": "stream",
     "text": [
      "loss at iter 0:0.1252\n",
      "train auc: 0.9999451032059727\n",
      "test auc: 1.0\n",
      "loss at iter 1:0.0450\n",
      "train auc: 1.0\n",
      "test auc: 1.0\n",
      "loss at iter 2:0.0269\n",
      "train auc: 1.0\n",
      "test auc: 1.0\n",
      "loss at iter 3:0.0200\n",
      "train auc: 1.0\n",
      "test auc: 1.0\n",
      "loss at iter 4:0.0169\n",
      "train auc: 1.0\n",
      "test auc: 1.0\n"
     ]
    }
   ],
   "source": [
    "from sklearn.metrics import roc_auc_score\n",
    "s.run(tf.global_variables_initializer())\n",
    "for i in range(5):\n",
    "    s.run(optimizer, {input_X: X_train, input_y: y_train})\n",
    "    loss_i = s.run(loss, {input_X: X_train, input_y: y_train})\n",
    "    print(\"loss at iter %i:%.4f\" % (i, loss_i))\n",
    "    print(\"train auc:\", roc_auc_score(y_train, s.run(predicted_y, {input_X:X_train})))\n",
    "    print(\"test auc:\", roc_auc_score(y_test, s.run(predicted_y, {input_X:X_test})))"
   ]
  },
  {
   "cell_type": "code",
   "execution_count": null,
   "metadata": {},
   "outputs": [],
   "source": [
    "# era submision aqui"
   ]
  },
  {
   "cell_type": "code",
   "execution_count": 40,
   "metadata": {},
   "outputs": [],
   "source": [
    "test_weights = 1e-3 * np.fromiter(map(lambda x:\n",
    "    s.run(weird_psychotic_function, {my_scalar:x, my_vector:[1, 2, 3]}),\n",
    "                               0.1 * np.arange(1, X.shape[1] + 1)),\n",
    "                               count=X.shape[1], dtype=np.float32)[:, np.newaxis]"
   ]
  },
  {
   "cell_type": "markdown",
   "metadata": {},
   "source": [
    "First, test prediction and loss computation. This part doesn't require a fitted model."
   ]
  },
  {
   "cell_type": "code",
   "execution_count": 41,
   "metadata": {},
   "outputs": [],
   "source": [
    "prediction_test = s.run(\n",
    "    predicted_y, {\n",
    "    input_X: X,\n",
    "    weights: test_weights,\n",
    "    b: 1e-1})"
   ]
  },
  {
   "cell_type": "code",
   "execution_count": 42,
   "metadata": {},
   "outputs": [],
   "source": [
    "assert prediction_test.shape == (X.shape[0],),\\\n",
    "       \"Predictions must be a 1D array with length equal to the number \" \\\n",
    "       \"of examples in X_test\""
   ]
  },
  {
   "cell_type": "code",
   "execution_count": 43,
   "metadata": {},
   "outputs": [],
   "source": [
    "loss_test = s.run(\n",
    "    loss, {\n",
    "        input_X: X[:100],\n",
    "        input_y: y[-100:],\n",
    "        weights: test_weights+1.21e-3,\n",
    "        b: -1e-1})\n",
    "# Yes, the X/y indices mistmach is intentional"
   ]
  }
 ],
 "metadata": {
  "kernelspec": {
   "display_name": "Python 3",
   "language": "python",
   "name": "python3"
  },
  "language_info": {
   "codemirror_mode": {
    "name": "ipython",
    "version": 3
   },
   "file_extension": ".py",
   "mimetype": "text/x-python",
   "name": "python",
   "nbconvert_exporter": "python",
   "pygments_lexer": "ipython3",
   "version": "3.7.4"
  }
 },
 "nbformat": 4,
 "nbformat_minor": 2
}
