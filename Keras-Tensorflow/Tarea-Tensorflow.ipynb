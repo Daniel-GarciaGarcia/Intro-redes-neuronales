{
 "cells": [
  {
   "cell_type": "markdown",
   "metadata": {
    "slideshow": {
     "slide_type": "slide"
    }
   },
   "source": [
    "# Profundizando en Tensorflow\n",
    "\n",
    "Aqui vamos a estudiar las herramientas que se usaran para construir modelos de deep learning, esto es [Tensorflow](https://www.tensorflow.org/).\n",
    "\n",
    "En primer lugar, instalar Tensorflow con pip:\n",
    "* `pip install tensorflow` , solo TF en cpu tanto en Linux comom en Mac OS\n",
    "* Si quieres soporte para GPU mira esta pagina: [instalacion TF](https://www.tensorflow.org/install/)"
   ]
  },
  {
   "cell_type": "markdown",
   "metadata": {},
   "source": [
    "# Visualizacion"
   ]
  },
  {
   "cell_type": "markdown",
   "metadata": {},
   "source": [
    "Ejecutando este notebook localmente, el acceso a TensorBoard seria en http://127.0.0.1:7007/"
   ]
  },
  {
   "cell_type": "code",
   "execution_count": 1,
   "metadata": {},
   "outputs": [
    {
     "name": "stdout",
     "output_type": "stream",
     "text": [
      "No matching processes belonging to you were found\r\n"
     ]
    }
   ],
   "source": [
    "! killall tensorboard\n",
    "import os\n",
    "os.system('tensorboard --logdir=/tmp/tboard --port=7007 &');"
   ]
  },
  {
   "cell_type": "code",
   "execution_count": 2,
   "metadata": {},
   "outputs": [
    {
     "name": "stdout",
     "output_type": "stream",
     "text": [
      "WARNING:tensorflow:From /Users/data/Intro-redes-neuronales/Keras-Tensorflow/keras_utils.py:68: The name tf.get_default_session is deprecated. Please use tf.compat.v1.get_default_session instead.\n",
      "\n",
      "WARNING:tensorflow:From /Users/data/Intro-redes-neuronales/Keras-Tensorflow/keras_utils.py:75: The name tf.ConfigProto is deprecated. Please use tf.compat.v1.ConfigProto instead.\n",
      "\n",
      "WARNING:tensorflow:From /Users/data/Intro-redes-neuronales/Keras-Tensorflow/keras_utils.py:77: The name tf.InteractiveSession is deprecated. Please use tf.compat.v1.InteractiveSession instead.\n",
      "\n"
     ]
    },
    {
     "name": "stderr",
     "output_type": "stream",
     "text": [
      "Using TensorFlow backend.\n"
     ]
    }
   ],
   "source": [
    "import warnings\n",
    "warnings.simplefilter(action='ignore', category=FutureWarning)\n",
    "import tensorflow as tf\n",
    "from keras_utils import reset_tf_session\n",
    "s = reset_tf_session()"
   ]
  },
  {
   "cell_type": "markdown",
   "metadata": {},
   "source": [
    "# Empezando\n",
    "Para empezar vamos a implementar una funcion que calcule la suma de los cuadrados de los numeros de 0 a N-1."
   ]
  },
  {
   "cell_type": "code",
   "execution_count": 3,
   "metadata": {},
   "outputs": [],
   "source": [
    "import numpy as np\n",
    "def suma_cuad(N):\n",
    "    return np.sum(np.arange(N)**2)"
   ]
  },
  {
   "cell_type": "code",
   "execution_count": 4,
   "metadata": {},
   "outputs": [
    {
     "name": "stdout",
     "output_type": "stream",
     "text": [
      "CPU times: user 940 µs, sys: 1.11 ms, total: 2.04 ms\n",
      "Wall time: 1.15 ms\n"
     ]
    },
    {
     "data": {
      "text/plain": [
       "333328333350000"
      ]
     },
     "execution_count": 4,
     "metadata": {},
     "output_type": "execute_result"
    }
   ],
   "source": [
    "%%time\n",
    "suma_cuad(10**5)"
   ]
  },
  {
   "cell_type": "markdown",
   "metadata": {},
   "source": [
    "# Tensoflow \n",
    "\n",
    "Hacemos exactamente lo mismo con Tensorflow"
   ]
  },
  {
   "cell_type": "code",
   "execution_count": 5,
   "metadata": {},
   "outputs": [],
   "source": [
    "# Un parametro entero\n",
    "N = tf.placeholder('int64', name='entrada_a_la_funcion')\n",
    "\n",
    "# Produce el mimso resultado\n",
    "res = tf.reduce_sum(tf.range(N)**2)"
   ]
  },
  {
   "cell_type": "code",
   "execution_count": 6,
   "metadata": {},
   "outputs": [
    {
     "data": {
      "text/plain": [
       "<tf.Tensor 'Sum:0' shape=() dtype=int64>"
      ]
     },
     "execution_count": 6,
     "metadata": {},
     "output_type": "execute_result"
    }
   ],
   "source": [
    "res"
   ]
  },
  {
   "cell_type": "code",
   "execution_count": 7,
   "metadata": {},
   "outputs": [
    {
     "name": "stdout",
     "output_type": "stream",
     "text": [
      "CPU times: user 3.31 ms, sys: 1.93 ms, total: 5.24 ms\n",
      "Wall time: 7.7 ms\n"
     ]
    },
    {
     "data": {
      "text/plain": [
       "333328333350000"
      ]
     },
     "execution_count": 7,
     "metadata": {},
     "output_type": "execute_result"
    }
   ],
   "source": [
    "%%time\n",
    "res.eval({N: 10**5})"
   ]
  },
  {
   "cell_type": "code",
   "execution_count": 8,
   "metadata": {},
   "outputs": [],
   "source": [
    "escritor = tf.summary.FileWriter('/tmp/tboard', graph=s.graph)"
   ]
  },
  {
   "cell_type": "markdown",
   "metadata": {},
   "source": [
    "# ¿Como funciona?\n",
    "1. Se definen unos marcadores (placeholders) donde se envian las entradas (inputs)\n",
    "2. Se hace un grafo simbolico (symbolic graph): una receta para transformaciones matematicas de esos marcadores \n",
    "3. Se calculan las salidas del grafo con valores para cada marcador\n",
    "  * `salida.eval({marcador:valor})`\n",
    "  * `s.run(salida, {marcador:valor})`\n",
    "\n",
    "Asi que existen dos entidades principales: el marcador (placeholder) y la transformacion matematica\n",
    "* Ambos pueden ser numeros, vectores, matrices, tensores, etc...\n",
    "* Ambos pueden ser int32/64, floats, booleanos (uint8)...\n",
    "* Se pueden definir nuevas transformaciones como operaciones arbitrarias en los marcadores y otras transformaciones\n",
    " * `tf.reduce_sum(tf.arange(N)**2)` son 3 transformaciones secuenciales del marcador `N`\n",
    " * Hay una version simbolica en Tensorflow para cada funcion de numpy \n",
    "   * `a+b, a/b, a**b, ...` se comporta igual que en numpy\n",
    "   * `np.mean` -> `tf.reduce_mean`\n",
    "   * `np.arange` -> `tf.range`\n",
    "   * `np.cumsum` -> `tf.cumsum`\n",
    "   * Si no encuentras la funcion que necesitas, puedes mirar la [documentacion](https://www.tensorflow.org/api_docs/python).\n",
    "   \n",
    "`tf.contrib` tiene muchas caracteristicas de alto nivel, echale un ojo."
   ]
  },
  {
   "cell_type": "code",
   "execution_count": 9,
   "metadata": {},
   "outputs": [],
   "source": [
    "with tf.name_scope('Ejemplo_marcadores'):\n",
    "    # El marcador por defecto (placeholder) puede ser arbitrariamente float32\n",
    "    # escalar, vector, matrix, etc...\n",
    "    entrada_arbitraria = tf.placeholder('float32')\n",
    "\n",
    "    # Vector de entrada de longitud arbitraria\n",
    "    vector_entrada = tf.placeholder('float32', shape=(None,))\n",
    "\n",
    "    # Vector de entrada que tienec 10 elementos de tipo entero\n",
    "    vector_fijo = tf.placeholder('int32', shape=(10,))\n",
    "\n",
    "    # Matriz con numero de filas arbitrario y 15 columnas\n",
    "    # (e.g. una muestra de tu tabla de datos)\n",
    "    matriz_entrada = tf.placeholder('float32', shape=(None, 15))\n",
    "    \n",
    "    # Generalmente se usa None cuando no se necesita especificar la dimension\n",
    "    entrada1 = tf.placeholder('float64', shape=(None, 100, None))\n",
    "    entrada2 = tf.placeholder('int32', shape=(None, None, 3, 224, 224))\n",
    "\n",
    "    # Multiplicacion elemento a elemento\n",
    "    vector_doble = vector_entrada*2\n",
    "\n",
    "    # Coseno\n",
    "    coseno = tf.cos(vector_entrada)\n",
    "\n",
    "    # Diferencia entre el vector al cuadrado y el propio vector mas uno \n",
    "    cuadrado_vector = vector_entrada**2 - vector_entrada + 1"
   ]
  },
  {
   "cell_type": "code",
   "execution_count": 46,
   "metadata": {},
   "outputs": [],
   "source": [
    "mi_vector =  tf.placeholder('float32', shape=(None,), name=\"VECTOR_1\")\n",
    "mi_vector2 = tf.placeholder('float32', shape=(None,))\n",
    "mi_transformacion = mi_vector * mi_vector2 / (tf.sin(mi_vector) + 1)"
   ]
  },
  {
   "cell_type": "code",
   "execution_count": 47,
   "metadata": {},
   "outputs": [
    {
     "name": "stdout",
     "output_type": "stream",
     "text": [
      "Tensor(\"truediv_5:0\", shape=(?,), dtype=float32)\n"
     ]
    }
   ],
   "source": [
    "print(mi_transformacion)"
   ]
  },
  {
   "cell_type": "code",
   "execution_count": 48,
   "metadata": {},
   "outputs": [
    {
     "name": "stdout",
     "output_type": "stream",
     "text": [
      "[0. 1. 2. 3. 4.]\n"
     ]
    },
    {
     "data": {
      "text/plain": [
       "array([0.       , 1.6291324, 2.0950115, 2.6289961, 0.       ],\n",
       "      dtype=float32)"
      ]
     },
     "execution_count": 48,
     "metadata": {},
     "output_type": "execute_result"
    }
   ],
   "source": [
    "dummy = np.arange(5).astype('float32')\n",
    "print(dummy)\n",
    "mi_transformacion.eval({mi_vector:dummy, mi_vector2:dummy[::-1]})"
   ]
  },
  {
   "cell_type": "code",
   "execution_count": 14,
   "metadata": {},
   "outputs": [],
   "source": [
    "escritor.add_graph(my_transformation.graph)\n",
    "escritor.flush()"
   ]
  },
  {
   "cell_type": "markdown",
   "metadata": {},
   "source": [
    "TensorBoard permite escribir escalares, imagenes, audio, histogramas. Puedes leer mas sobre tensorboard [aqui](https://www.tensorflow.org/get_started/graph_viz)."
   ]
  },
  {
   "cell_type": "markdown",
   "metadata": {},
   "source": [
    "# Summary\n",
    "* Tensorflow is based on computation graphs\n",
    "* The graphs consist of placehlders and transformations"
   ]
  },
  {
   "cell_type": "markdown",
   "metadata": {},
   "source": [
    "# Mean squared error\n",
    "\n",
    "Your assignment is to implement mean squared error in tensorflow."
   ]
  },
  {
   "cell_type": "code",
   "execution_count": 15,
   "metadata": {},
   "outputs": [],
   "source": [
    "y = np.arange(5)\n",
    "y_pred = np.arange(5)[::-1]"
   ]
  },
  {
   "cell_type": "code",
   "execution_count": 16,
   "metadata": {},
   "outputs": [
    {
     "data": {
      "text/plain": [
       "array([16,  4,  0,  4, 16])"
      ]
     },
     "execution_count": 16,
     "metadata": {},
     "output_type": "execute_result"
    }
   ],
   "source": [
    "(y - y_pred) ** 2"
   ]
  },
  {
   "cell_type": "code",
   "execution_count": 17,
   "metadata": {},
   "outputs": [],
   "source": [
    "with tf.name_scope(\"MSE\"):\n",
    "    y_true = tf.placeholder(\"float32\", shape=(None,), name=\"y_true\")\n",
    "    y_predicted = tf.placeholder(\"float32\", shape=(None,), name=\"y_predicted\")\n",
    "    # Your code goes here\n",
    "    # You want to use tf.reduce_mean\n",
    "    # mse = tf.<...>\n",
    "    mse = tf.reduce_mean((y_true - y_predicted) ** 2)\n",
    "def compute_mse(vector1, vector2):\n",
    "    return mse.eval({y_true: vector1, y_predicted: vector2})"
   ]
  },
  {
   "cell_type": "code",
   "execution_count": 19,
   "metadata": {},
   "outputs": [],
   "source": [
    "escritor.add_graph(mse.graph)\n",
    "escritor.flush()"
   ]
  },
  {
   "cell_type": "code",
   "execution_count": 20,
   "metadata": {},
   "outputs": [],
   "source": [
    "# Rigorous local testing of MSE implementation\n",
    "import sklearn.metrics\n",
    "for n in [1, 5, 10, 10**3]:\n",
    "    elems = [np.arange(n), np.arange(n, 0, -1), np.zeros(n),\n",
    "             np.ones(n), np.random.random(n), np.random.randint(100, size=n)]\n",
    "    for el in elems:\n",
    "        for el_2 in elems:\n",
    "            true_mse = np.array(sklearn.metrics.mean_squared_error(el, el_2))\n",
    "            my_mse = compute_mse(el, el_2)\n",
    "            if not np.allclose(true_mse, my_mse):\n",
    "                print('mse(%s,%s)' % (el, el_2))\n",
    "                print(\"should be: %f, but your function returned %f\" % (true_mse, my_mse))\n",
    "                raise ValueError('Wrong result')"
   ]
  },
  {
   "cell_type": "markdown",
   "metadata": {},
   "source": [
    "# Variables\n",
    "\n",
    "The inputs and transformations have no value outside function call. This isn't too comfortable if you want your model to have parameters (e.g. network weights) that are always present, but can change their value over time.\n",
    "\n",
    "Tensorflow solves this with `tf.Variable` objects.\n",
    "* You can assign variable a value at any time in your graph\n",
    "* Unlike placeholders, there's no need to explicitly pass values to variables when `s.run(...)`-ing\n",
    "* You can use variables the same way you use transformations \n",
    " "
   ]
  },
  {
   "cell_type": "code",
   "execution_count": 21,
   "metadata": {},
   "outputs": [],
   "source": [
    "# Creating a shared variable\n",
    "shared_vector_1 = tf.Variable(initial_value=np.ones(5),\n",
    "                              name=\"example_variable\")"
   ]
  },
  {
   "cell_type": "code",
   "execution_count": 22,
   "metadata": {},
   "outputs": [
    {
     "name": "stdout",
     "output_type": "stream",
     "text": [
      "Initial value [1. 1. 1. 1. 1.]\n"
     ]
    }
   ],
   "source": [
    "# Initialize variable(s) with initial values\n",
    "s.run(tf.global_variables_initializer())\n",
    "\n",
    "# Evaluating shared variable (outside symbolicd graph)\n",
    "print(\"Initial value\", s.run(shared_vector_1))\n",
    "\n",
    "# Within symbolic graph you use them just\n",
    "# as any other inout or transformation, not \"get value\" needed"
   ]
  },
  {
   "cell_type": "code",
   "execution_count": 23,
   "metadata": {},
   "outputs": [
    {
     "name": "stdout",
     "output_type": "stream",
     "text": [
      "New value [0. 1. 2. 3. 4.]\n"
     ]
    }
   ],
   "source": [
    "# Setting a new value\n",
    "s.run(shared_vector_1.assign(np.arange(5)))\n",
    "\n",
    "# Getting that new value\n",
    "print(\"New value\", s.run(shared_vector_1))"
   ]
  },
  {
   "cell_type": "markdown",
   "metadata": {},
   "source": [
    "# tf.gradients - why graphs matter\n",
    "* Tensorflow can compute derivatives and gradients automatically using the computation graph\n",
    "* True to its name it can manage matrix derivatives\n",
    "* Gradients are computed as a product of elementary derivatives via the chain rule:\n",
    "\n",
    "$$ {\\partial f(g(x)) \\over \\partial x} = {\\partial f(g(x)) \\over \\partial g(x)}\\cdot {\\partial g(x) \\over \\partial x} $$\n",
    "\n",
    "It can get you the derivative of any graph as long as it knows how to differentiate elementary operations"
   ]
  },
  {
   "cell_type": "code",
   "execution_count": 24,
   "metadata": {},
   "outputs": [
    {
     "name": "stdout",
     "output_type": "stream",
     "text": [
      "WARNING:tensorflow:From /Users/data/Library/Python/3.7/lib/python/site-packages/tensorflow/python/ops/math_grad.py:1205: add_dispatch_support.<locals>.wrapper (from tensorflow.python.ops.array_ops) is deprecated and will be removed in a future version.\n",
      "Instructions for updating:\n",
      "Use tf.where in 2.0, which has the same broadcast rule as np.where\n"
     ]
    }
   ],
   "source": [
    "my_scalar = tf.placeholder('float32')\n",
    "\n",
    "scalar_squared = my_scalar**2\n",
    "\n",
    "# A derivative of scalar_squared by my_scalar\n",
    "derivative = tf.gradients(scalar_squared, [my_scalar, ])"
   ]
  },
  {
   "cell_type": "code",
   "execution_count": 25,
   "metadata": {},
   "outputs": [
    {
     "data": {
      "text/plain": [
       "[<tf.Tensor 'gradients/pow_1_grad/Reshape:0' shape=<unknown> dtype=float32>]"
      ]
     },
     "execution_count": 25,
     "metadata": {},
     "output_type": "execute_result"
    }
   ],
   "source": [
    "derivative"
   ]
  },
  {
   "cell_type": "code",
   "execution_count": 26,
   "metadata": {},
   "outputs": [
    {
     "data": {
      "image/png": "[encoded data removed]",
      "text/plain": [
       "<Figure size 432x288 with 1 Axes>"
      ]
     },
     "metadata": {
      "needs_background": "light"
     },
     "output_type": "display_data"
    }
   ],
   "source": [
    "import matplotlib.pyplot as plt\n",
    "%matplotlib inline\n",
    "\n",
    "x = np.linspace(-3, 3)\n",
    "x_squared, x_squared_der = s.run([scalar_squared, derivative[0]],\n",
    "                                 {my_scalar:x})\n",
    "\n",
    "plt.plot(x, x_squared,label=\"$x^2$\")\n",
    "plt.plot(x, x_squared_der, label=r\"$\\frac{dx^2}{dx}$\")\n",
    "plt.legend();"
   ]
  },
  {
   "cell_type": "markdown",
   "metadata": {},
   "source": [
    "# Why that rocks"
   ]
  },
  {
   "cell_type": "code",
   "execution_count": 27,
   "metadata": {},
   "outputs": [],
   "source": [
    "my_vector = tf.placeholder('float32', [None])\n",
    "# Compute the gradient of the next weird function over my_scalar and my_vector\n",
    "# Warning! Trying to understand the meaning of that function may result in permanent brain damage\n",
    "weird_psychotic_function = tf.reduce_mean(\n",
    "    (my_vector+my_scalar)**(1+tf.nn.moments(my_vector,[0])[1]) + \n",
    "    1./ tf.atan(my_scalar))/(my_scalar**2 + 1) + 0.01*tf.sin(\n",
    "    2*my_scalar**1.5)*(tf.reduce_sum(my_vector)* my_scalar**2\n",
    "                      )*tf.exp((my_scalar-4)**2)/(\n",
    "    1+tf.exp((my_scalar-4)**2))*(1.-(tf.exp(-(my_scalar-4)**2)\n",
    "                                    )/(1+tf.exp(-(my_scalar-4)**2)))**2\n",
    "\n",
    "der_by_scalar = tf.gradients(weird_psychotic_function, my_scalar)\n",
    "der_by_vector = tf.gradients(weird_psychotic_function, my_vector)"
   ]
  },
  {
   "cell_type": "code",
   "execution_count": 28,
   "metadata": {},
   "outputs": [
    {
     "data": {
      "image/png": "[encoded data removed]",
      "text/plain": [
       "<Figure size 432x288 with 1 Axes>"
      ]
     },
     "metadata": {
      "needs_background": "light"
     },
     "output_type": "display_data"
    }
   ],
   "source": [
    "# Plotting the derivative\n",
    "scalar_space = np.linspace(1, 7, 100)\n",
    "\n",
    "y = [s.run(weird_psychotic_function, {my_scalar:x, my_vector:[1, 2, 3]})\n",
    "     for x in scalar_space]\n",
    "\n",
    "plt.plot(scalar_space, y, label='function')\n",
    "\n",
    "y_der_by_scalar = [s.run(der_by_scalar,\n",
    "                         {my_scalar:x, my_vector:[1, 2, 3]})\n",
    "                   for x in scalar_space]\n",
    "\n",
    "plt.plot(scalar_space, y_der_by_scalar, label='derivative')\n",
    "plt.grid()\n",
    "plt.legend();"
   ]
  },
  {
   "cell_type": "markdown",
   "metadata": {},
   "source": [
    "# Almost done - optimizers\n",
    "\n",
    "While you can perform gradient descent by hand with automatic grads from above, tensorflow also has some optimization methods implemented for you. Recall momentum & rmsprop?"
   ]
  },
  {
   "cell_type": "code",
   "execution_count": 29,
   "metadata": {},
   "outputs": [],
   "source": [
    "y_guess = tf.Variable(np.zeros(2, dtype='float32'))\n",
    "y_true = tf.range(1, 3, dtype='float32')\n",
    "loss = tf.reduce_mean((y_guess - y_true + tf.random_normal([2]))**2) \n",
    "#loss = tf.reduce_mean((y_guess - y_true)**2) \n",
    "optimizer = tf.train.MomentumOptimizer(0.01, 0.5).minimize(\n",
    "    loss, var_list=y_guess)"
   ]
  },
  {
   "cell_type": "code",
   "execution_count": 30,
   "metadata": {},
   "outputs": [
    {
     "data": {
      "image/png": "[encoded data removed]",
      "text/plain": [
       "<Figure size 432x288 with 1 Axes>"
      ]
     },
     "metadata": {
      "needs_background": "light"
     },
     "output_type": "display_data"
    }
   ],
   "source": [
    "from matplotlib import animation, rc\n",
    "import matplotlib_utils\n",
    "from IPython.display import HTML, display_html\n",
    "\n",
    "fig, ax = plt.subplots()\n",
    "y_true_value = s.run(y_true)\n",
    "level_x = np.arange(0, 2, 0.02)\n",
    "level_y = np.arange(0, 3, 0.02)\n",
    "X, Y = np.meshgrid(level_x, level_y)\n",
    "Z = (X - y_true_value[0])**2 + (Y - y_true_value[1])**2\n",
    "ax.set_xlim(-0.02, 2)\n",
    "ax.set_ylim(-0.02, 3)\n",
    "s.run(tf.global_variables_initializer())\n",
    "ax.scatter(*s.run(y_true), c='red')\n",
    "contour = ax.contour(X, Y, Z, 10)\n",
    "ax.clabel(contour, inline=1, fontsize=10)\n",
    "line, = ax.plot([], [], lw=2)\n",
    "\n",
    "def init():\n",
    "    line.set_data([], [])\n",
    "    return (line,)\n",
    "\n",
    "guesses = [s.run(y_guess)]\n",
    "\n",
    "def animate(i):\n",
    "    s.run(optimizer)\n",
    "    guesses.append(s.run(y_guess))\n",
    "    line.set_data(*zip(*guesses))\n",
    "    return (line,)\n",
    "\n",
    "anim = animation.FuncAnimation(fig, animate, init_func=init,\n",
    "                               frames=400, interval=20, blit=True)"
   ]
  },
  {
   "cell_type": "code",
   "execution_count": 31,
   "metadata": {},
   "outputs": [
    {
     "data": {
      "text/html": [
       "<img src=\"data:image/jpeg;base64,/9j/4AAQSkZJRgABAQEASABIAAD/2wBDAAIBAQEBAQIBAQECAgICAgQDAgICAgUEBAMEBgUGBgYFBgYGBwkIBgcJBwYGCAsICQoKCgoKBggLDAsKDAkKCgr/2wBDAQICAgICAgUDAwUKBwYHCgoKCgoKCgoKCgoKCgoKCgoKCgoKCgoKCgoKCgoKCgoKCgoKCgoKCgoKCgoKCgoKCgr/wAARCAEgAbADASIAAhEBAxEB/8QAHwAAAQUBAQEBAQEAAAAAAAAAAAECAwQFBgcICQoL/8QAtRAAAgEDAwIEAwUFBAQAAAF9AQIDAAQRBRIhMUEGE1FhByJxFDKBkaEII0KxwRVS0fAkM2JyggkKFhcYGRolJicoKSo0NTY3ODk6Q0RFRkdISUpTVFVWV1hZWmNkZWZnaGlqc3R1dnd4eXqDhIWGh4iJipKTlJWWl5iZmqKjpKWmp6ipqrKztLW2t7i5usLDxMXGx8jJytLT1NXW19jZ2uHi4%2BTl5ufo6erx8vP09fb3%2BPn6/8QAHwEAAwEBAQEBAQEBAQAAAAAAAAECAwQFBgcICQoL/8QAtREAAgECBAQDBAcFBAQAAQJ3AAECAxEEBSExBhJBUQdhcRMiMoEIFEKRobHBCSMzUvAVYnLRChYkNOEl8RcYGRomJygpKjU2Nzg5OkNERUZHSElKU1RVVldYWVpjZGVmZ2hpanN0dXZ3eHl6goOEhYaHiImKkpOUlZaXmJmaoqOkpaanqKmqsrO0tba3uLm6wsPExcbHyMnK0tPU1dbX2Nna4uPk5ebn6Onq8vP09fb3%2BPn6/9oADAMBAAIRAxEAPwD9/KKKKACiiigAooooAKKKKACiiigAooooAKKKKACiiigAooooAKKKKACiiigAooooAKKKKACiiigAooooAKKKKACiiigAooooAKKKKACiiigAooooAKKKKACiiigAooooAKKKKACiiigAooooAKKKKACiiigAorj/AAR%2B0J8A/iZ431n4Z/Dj44eD/EHiTw5JJH4h8P6J4ltbu%2B0t0kMTrcQRSNJAVkBQh1GGG088VZsPjb8GNV%2BKV78DdL%2BLvhi58babZLeaj4Pt9ftn1S1tiEImktA/nJGRJHh2UA7155FAHT0UUUAFFFFABRRRQAUUUUAFFFFABRRRQAUUUUAFFFFABRRRQAUUUUAFFFFABRRRQAUUUUAFFFFABRRRQAUUUUAFFFFABRRRQAUUUUAFFFFABRRRQAUUUUAFFFFABRRRQAUUUUAFFFFAHyM/iK78Sf8ABRXRvjLpWnfFnWdA8OeFNe0jVrLxH8LL/T9N8KS3FxpcStpco06CXVDdy2xaQ%2BZfIiIZkktolxJy/wANfAHxBg/ae8IfDi4%2BFHii313wp%2B0r428deJvGNx4Zuo9Ku/Dmo6XrcVj5epNGLe6kI1LSbU2qSNKn2BmZFWBCfuGigDxD9tfx3%2B078LPC2i%2BNvgH4%2B8B6bbXPi/w54f1Cx8X%2BA73VZHfVddsdL%2B0Ry22q2YjESXhk8so%2B8xgb0ByLP/CD/wDBQv8A6Og%2BDP8A4YfVv/moo/bw/wCSIaH/ANlm%2BHH/AKmuiV7NQB4z/wAIP/wUL/6Og%2BDP/hh9W/8AmoqtrPh/9vPw7pNzr/iD9rX4IWNjZQPPeXt58DtUihgiUFmd3bxSFVQASSSAAK7j4d/HDTPH/wAQPEnw2uPBut6Dqfh4xyJHrkUMf9pWjySxLeW4jlctCZYJUywVuFJUB1J8N8X%2BGfjB4f0nxN8PvjTo19q%2Bm/EHxPL4btPGMvjF57hUvHkNjJDpaQrDbQQsyROY2EpCmZgVUmuqlhXOfLN2206tPtrba7/pnNUxCjDmir7/ACa7/PQyvEfxw/bt1ODwynwE/aT%2BAvjm58UXl7FZLH8JtUs4QLSHzp18w%2BJJP323aFiKgtu3EqgZh2/wr1D9u/4t%2BArDx94f/aa%2BEEMF6JFltbr4Cass1rPFI0U0Eg/4Snh45Y5I2HqhrL8NfB74s/GD4kXPjDxV4N1PwDq%2Bl2Ol3L66zW0sNx4itXkR7i3jilPnW0lrLJE5YRlkuGT7y5T2/wCDPwzuPhV4Ok0LUvEQ1fUb3VLzU9W1JLIWyXF1cztNIUiDN5aAttVdzEBRlmOSdMTTw1OmoxfvffvfqtNrbWflrpFCeIqTvJe793bvr3/pa%2BD%2BCU/4LGeIfidq%2BjeLPFnwF8P%2BELCeaHTdfn%2BHGqXN9qe1sRzJZxeISsUbgE/vJw4yPk6477/hB/8AgoX/ANHQfBn/AMMPq3/zUV7NRXJOSm7pJel/1bOqEXFWbv6/8Cx4z/wg/wDwUL/6Og%2BDP/hh9W/%2Baij/AIQf/goX/wBHQfBn/wAMPq3/AM1FezVi%2BPfiT8O/hX4fk8V/E7x5o3h3S4v9ZqOuanFaQL35eVlX9amMZSdoq7K2PM/%2BEH/4KF/9HQfBn/ww%2Brf/ADUUf8IP/wAFC/8Ao6D4M/8Ahh9W/wDmormpv%2BClvwf8YTvp37M3w08f/F%2B5VzH9o8C%2BFZf7NSTOAH1G7MFqF/2lkb6HFNHij/gqB8VedA%2BF3ww%2BElhJ8rS%2BKNauPEmqRj%2B8IbMQWyt7GZxn1612f2fiI/xbQ/xNJ/drL/yUjnj01On/AOEH/wCChf8A0dB8Gf8Aww%2Brf/NRWZ4rT9tjwJpp1nxx%2B2d8BtGs1%2B9d6r8FtSt4h/wKTxUB%2BtZo/Yf%2BMnjv97%2B0D%2B3/APFHXM/e07wU9r4WsmXupFlGbgj6zk4PJNanhX/gmT%2Bwp4W1Ia7cfs56L4g1HgvqXjSSbXbh267i%2BoSTHOeeMY7Yo9lgYfHVcv8ADH9ZNfkF5vZHjHij/goFqvhbUTo5/wCCnf7PGsXoyPsXhP4Ea5rcxPoE0/xLMSe2MVm/8Nt/t7a9/wAkv8P6l4qR/wDUXdr%2ByBrWnW0voRLqXi22G335%2Blfb3hfwb4Q8EacNH8F%2BFdN0i0X7trpdjHbxj/gMYArSo9rgI/DTb9ZW/CMf1C0%2B58Ix/F//AIL7684bwr%2Bz38IrSFz8k3i7w%2B1kcepS18TXbD6EZruvhlZf8Fzdd8Q2v/C2PGP7LHh3Rn3fbJNJ8HeItSvY/kO3bE2pwRt820H96MAk8kAH60oqJ4ilKNo0or/wJv8AGX6DUX3PGf8AhB/%2BChf/AEdB8Gf/AAw%2Brf8AzUUf8IP/AMFC/wDo6D4M/wDhh9W/%2BaivZqK5Sjxn/hB/%2BChf/R0HwZ/8MPq3/wA1FH/CD/8ABQv/AKOg%2BDP/AIYfVv8A5qK9mooA8Z/4Qf8A4KF/9HQfBn/ww%2Brf/NRR/wAIP/wUL/6Og%2BDP/hh9W/8Amor2aigDxn/hB/8AgoX/ANHQfBn/AMMPq3/zUUf8IP8A8FC%2B37UHwZ/8MPq3/wA1FezUUAfFniG%2B/wCDg/Qd0mmWv7JmuoPupYaT4igkI9xPfKoP/AjWH/wvz/guR4b/AH3xF/Z08Ei3X78/g3wBHq5/4DG/i%2B3kP/fIr7vorsjiaNrSoxf/AIEvyk/yJ5X3Plv4DfEL/goT8ddN1G%2Bfx34X8Fy6bOkUtl48/Zk1fT5ZiwJ3QkeLHSZRjBZGIBIFafxE13/goF4B8U%2BDfB0f7QPwb1C98ZeIX0y2A%2BCuqwi1jjsrm7muWz4lbzAqW%2B3Z8uWkX5hX0jXnfjv9nHQvG/xe0P42p8Q/Fml6z4fgmisLew1dXsCssTRyFrS4SSEMVPLoqv8AKPm65inLDuu5NWjZ2WstbO3Z7636A%2Bax4P8AHr4y/wDBQ34Najeabovxc%2BEXiJ9C8OSeI/Fjw/BjUrZdK0lC4afL%2BJz50p8qYrCoBYRNyOM6ln8Z/wBrG/8AidB8KLf9q/4VHULi7FlFen9m/XRYm/8Asou/sP2n/hJvLFz9nPm%2BVu3bQ3dSB3Xxb/ZX8bfEPxPe3GlfFG0tdJ8U6DYaR46S60YveXdvazSSbraRJEjhMyyNE6tGyhWLLhs54LxB%2Bz7%2B0dDFrvhrw34asraz0HWPEXifw3rUerqZNY1CeJ10y3EYG%2BExrIUlkfglFKAhyE66dHA1KSTkk7d7b979n0XTV%2BUtzTOm8Fa7%2B158SLnUbL4e/tyfs%2B67NpFz9n1aHSPg5qNw9lLz8kqx%2BKiY2ODgNjOOK3/%2BEH/4KF/9HQfBn/ww%2Brf/ADUVifsj%2BELs%2BLYfFWheCtb8O%2BGfD3w60jwlplt4g0aXTrq9ktgZXcwTKsipEZDGrMAGZ5SpZSGPZ/Eb9sz9l/4P/FCD4O/Fr4y6T4X166tI7m0i8Qs9nbTo5YKEupVWBnypygk3DIyBuGearhZe3dOinKyvtd%2Be1/8AgX8ilLS7Mf8A4Qf/AIKF/wDR0HwZ/wDDD6t/81FH/CD/APBQv/o6D4M/%2BGH1b/5qK9f0zU9N1rT4dW0bUYLu1uIw9vc20yyRyqejKykhh7ip65Nijxn/AIQf/goX/wBHQfBn/wAMPq3/AM1FcD4EX/gsZqPxP1Twh8SPFnwF0nw9BBJNo/i7R/hxql9Hd4lVUhktn8QwywylGLnAeMbGG8/Lu%2BpKKuMlFNNJ39dPTX87kyi2007W/H1/pHzV8c9f/wCCh3wY%2BHdx4zs/jx8F9d1B7q3sdH0P/hTWrWjahe3EqwwQLJ/wkcu0tI6gnYcLuY4ANXfiF4g/bC%2BEekWmu/FX9tj4CeHrS9vY7OC71X4KapDC0752pvfxSAM4PJwOO1eg/FP4Dap4/wDiZ4Y%2BKel/EvUbSXwtdm6t/DV7DHc6RdzeRcQrM8W1ZEmUXDFZEkAGASrEDHD/ALSsPxH1/wAS%2BG18MfC3xU3i3QryCTw7rGlvBNoNx9pEdvfR3YkLFIlhknyZIkcqMwsXO0dVKlQqqEL923s12WulvPXd6aHNUqVabnK3a3Veb06%2BXluatp4R/wCCgF/axX1j%2B1T8FZoJo1khmi%2BBWqskiEZDKR4pwQQcgipP%2BEH/AOChf/R0HwZ/8MPq3/zUV5zqfxi1vw/r%2Bl/FmH4k3Wh%2BHIPFmoWen%2BEbG1hTT4fDelieO/upoQm/eXgd1fI2hIwnDEN7D8GPjp4t%2BIfimfwh4%2B%2BF3/CLXz%2BHbLXdOtG1f7TMbS4aRAlwnlJ5E6PGVZAZF5GHJDATVwdWnDm3X5f52vrbQqniqc5cvX%2Bvu%2BZxOpeMf2zfhL8afhV4a%2BKPxb%2BGHiXw/wCPPGt3oOp2mgfC7UdIvLcR%2BH9X1OOaK4m1y7QHzdOjRlaE5WRsFSAa%2Bga8Z/ag/wCS3/s4/wDZZr7/ANQrxRXs1ch0hRRRQAUUUUAFFFFABRRRQAUUUUAeM/t4f8kQ0P8A7LN8OP8A1NdErqPAf7R/w6%2BJ3xY8Q/CLwLDq%2BoXPhUNHr2sx6RKumW12rhWshcsAklwu7cUTdtAOSCMVy/7eH/JEND/7LN8OP/U10SvZURIxhECgkkgDHJ5Jq4uCT5ld9Ndv8/wJkptqzsuv9dDzH4tfCL4m%2BLvjN4P%2BJPw08X6R4d/sSzvLTXNRubF7u5vrOcxMbNItyRqN8SyCZ2bYyDEbBmz1Np8IfACeJrDx3rHh%2B31bxFptq1vZ%2BIdVt45byFGZiwR9oEedxB2BcjAPAFdNRVOvUcVG%2Bytp283u9yVSgpN23dwqvq2r6VoGl3Gua7qdvZWVpC013eXcyxxQRqMs7uxAVQASSTgAVU8aDxk3hTUF%2BHsmmprhtmGlvrEcj2qzY%2BUyrGyuy%2BoVgT0yOteMnWfE/wC0p%2Byp4z%2BGnxAvdK0vxppL3egeJfkMNiNRhKvDKFkZiltcxtbzKNzER3G3cWXNVSo%2B0XM3pdJ91frbt%2Bpbdjd8f/tX6RaWvh5/gR4ftPiPL4itdQvLI6H4ggSCS3soUkmWOYB0knbzYljh%2BXduYllVGNeRS/tIeM77xN4x%2BOHh74qanJaeHrrTL%2Bw8FXa26WN94Yn8mKV0QxiVLxLpL2NpC7BXVFJ2Mqi/4T%2BEXxF%2BLfxq13x7pfhDW/hxfW0VhqUl9qmmo8H/AAkkTtb3LQosgF3a3FnFAkrKUBCxlX3lwvq/gP8AZM%2BGGk%2BENF0n4o%2BGNB8Y6vo2q3mp2%2Br6h4fjC291c3cl1J9mikaUwRLJJ%2B7j3vsCJgkoCPSvgcJGzV3pfZvXXzj2V00%2Bpn78jv8Axr4du/GHg3VPC1h4o1LQ59S0%2BW2h1nSHRbuxZ0KiaEyIyiRSdy7lYZAyD0rx7wD/AME4v2UfB/iCPxz4s8D3XxA8UJy3ir4m6nLr18W7Mpui0cJHbykQDsK91orzKeJxFGDjTk0nvbS/zWvyvbyNHGLd2MgggtYEtraFI441CxxxqAqqOAAB0FPoorEYUUVh/ED4nfDb4TeH5PFnxT%2BIOieGtKi/1mpa/qsNnbr35klZVH504xlJ2irsEm9jcor5ou/%2BCrX7MniG6k0v9nnw/wCPvjFexOUkj%2BFnge71G2Rhx817IsVmBnv52BTB8eP%2BCmnxN/d/DD9hnwn4Etn%2BaHVPix8SUkl29ibLSYbgqcfwmYHscda7P7PxS/iJQ/xNR/Bu/wD5Kaeymt9PXT%2BvuPpqivmYfAT/AIKcePf9J8f/ALfPhTwaj8Sab8NPhPDJtHcLc6rcXB/Hyh60v/DtgeIP3nxV/bq/aG8Tl%2Bbi3/4WQdJtpPUeVpcNthfYk0fVsNH46y%2BSlL9IoOSC3l%2Bb/wAj6XZlRS7sAAMkk8AVy/iH45/BPwkzL4r%2BMPhbTCv3hqHiG2hx9d7ivEk/4JBf8E9rlhL4p%2BBdz4llzl5vF3jLV9WLn1Iu7uRfyGK6nw9/wTV/4J6%2BF1UaR%2BxH8Kwy/dkufAtjO4/4FLEzfrRy5cvtzfpGK/OTC1FdX9y/zNfUv27/ANh7RmK6x%2B2X8KbQjqLn4iaYmP8AvqcVlS/8FJf%2BCecLbX/bm%2BEZx/c%2BImmt/Kaur039k39lfRlC6P8As0fD%2B0A6C28GWMeP%2B%2BYhWpF8BvgbAu2D4MeE0Honh22H/slF8t7T%2B%2BH%2BQfufP8Dg7f8A4KP/APBPe6bbF%2B3N8IcnoH%2BI%2BmL/ADnFbWk/tsfsaa8wTQ/2t/hjek9BaePdOkz/AN8zGuguP2f/AIDXi7Lv4JeEZQeok8N2rfzjrE1X9jb9kHXVK65%2Byp8NrwN94XfgbT5M/wDfUJo/4Te0/wDyT/IP3Pn%2BB1vhz4m/DfxiQvhH4g6Hqpb7o03VoZ8/98Ma3K8E8R/8Es/%2BCcXikEan%2BxH8NIt3U6b4TtrM/nbqmKwz/wAEj/2JdM/ffD7wr4w8G3A/1dz4N%2BJ%2Bu6cY/wDdSO88sf8AfNHJl0tpyXrFP8pILUn1f3f8E%2Bl6K%2BZ/%2BHfPxP8ACg%2B0fB7/AIKRfHjRZ1/1UXiPW7DxFbL9U1G0kkb8ZKT/AIVt/wAFYfh3/wAin%2B078I/iPD18nx18P7vRLgj08/TbmSMH/a8jH%2BzR9VoS%2BCtH5qUfzTX4hyRe0l%2BKPpmivmU/tc/tv/DP/ku//BN/W9Ss4eJta%2BEPjSx11X/2ls7r7HcgewVz9TxWn4O/4KnfsTeINei8GeNfipP8PPEMpwfD3xT0S68N3St02g38ccbnOB8jtycUnl%2BLteMeZf3Wpf8ApLb/AAD2VTor%2Bmv5H0PRVfStW0vXdOh1fRNSt7y0uIw9vdWsyyRyqejKykhh7irFcexmFZ3irwh4T8daJN4Z8beGNO1jTbgYuNP1WyjuIJR6NHICrfiK0aKabi7oD511L/gml8FPDGoT%2BJf2YPGPi34M6vNIZXf4e600WnTSdR52mTiSzkUH%2BERL9RVdvGH/AAUa/Z7/AOR5%2BH/hv45eHYfv6t4MK6F4hSMcl3sLh2tblsdFhmiJ7L2P0lRXYsfWnpWSqL%2B9q/8AwJWl%2BLI5EttDyL4Iftyfs5/HfxA3gDQvF0%2BheMYB/pngTxlYSaTrVuepH2W4CtKB3aLen%2B1XrtcR8cP2bPgT%2B0l4fXwz8cPhdpPiK3hO60lvbfFxZv8A34J0Ilt3/wBqNlb3rx5/gv8Atp/srf6d%2Bzf8T3%2BLHhGDlvh18TNT2arbxj%2BCw1nGWPQLHdq4AGPMHWn7LCYj%2BFLkl2lt8pf/ACSXqF5R31PpiivI/gD%2B2j8IPjzr9x8OCmp%2BEvHunRb9W%2BHnjKz%2Bw6tbDvIkbErcw8ZE0DSIQQcjOK9crlq0atCfJUVn/X3rzTa8yk01dHnHjz9lj4O%2BL/Dni3TdF8GaVoOp%2BMbfbq%2BuaZpMInmlDiRZJMriX94qsytkSYw2c1pfCb4RXngHUtZ8ZeLfF7%2BIfE/iFoBq%2BsGzFtGYoA4gt4YQzCKJPMlIUsxLSuSxJrtaKp16zg4OWn9dd7aLTyRmqNJT5ktf6/zf3njH7TrF/jb%2BzkShX/i89%2BMH28FeKOa9nrxn9qD/AJLf%2Bzj/ANlmvv8A1CvFFezViahRRRQAUUUUAFFFFABRRRQB4P4U%2BM37QWh/tn2/7OnxC8QeCPEml6z4R1XxEsXhXw5eWN74VtoL22gsVvpZr24juhdCa4VHWO1JexmKJIqyGLC%2BFn7U/wAXdd/bS8VfA34seJtE8M6Lb%2BJ7nTfAGgX/AMJ9btLnxPbRaXb3ZuLXXp7safdyK7XZa3ggaQR2rkgBGcdF8Jv2Jbz4OfELxv8AEbw5%2B1l8Tbu68fa5PqutwatbeHZws7sgiWOb%2ByBceVbwotvDE8rpHFwFLfPW/ffstQeIvjlovxr8e/G/xr4ih8La1c6v4R8HakdMj0nRb6azuLJp4vs1lFdTFba7uo0FzcTKonYgblRlAOM/4KF/Fz4UeGvB/gz4UeI/id4e0/xT4g%2BMPw9l0Hw1e61BFqGpJH4z0ZpGt7dnEkwVVYsUUgBSTjBr6Hrxn9vD/kiGh/8AZZvhx/6muiV7NQAVxvx1%2BP3wn/Zu8BTfEf4weLItL09JVgtowjSXF9cNxHbW8KAvPM54WNASeT0BIyP2nP2mfCH7M3gq21rVtKvNc1/W70ad4O8H6QA1/r2oMPkt4V7AfeeQ/LGgLN2B4j9n/wDZS8X6l49g/ao/bF1Oz8R/Ex4mGh6TbEvpHgm3fra6ejcNMRgS3bfvJCMKVThuyjh4Kn7au7R6JbyfZdkusnotld6KXJ3stz0D9nP4l/Fz4t%2BDbrxx8VfgpN4DjvNQZvDuialqKzaidP2J5ct7Gi7Ladm3kwhnKAqGO4Gk0f8AZl%2BF2m/GLW/jtqNvf6r4h1wQpLJql%2B0ltaxRKqxJDbLthUrtyJSjS8kGQjivQaKxdaSnJ0/dT0sr7dtdenz/AAHbTUKKKKxGFFFeI/tHftyeBPgn4ut/gn8PvCWqfEj4qalb%2BbpXw48JlGukjOMXN7Mx8rTrXJGZpyOD8qvjFa0aNWvPkpq7/rVvZLu20ioxlJ2R7ZJJHDG000ioiKSzMcAAdSTXzp44/wCClvwhn8U3fwv/AGW/BviH43%2BMLSTyrrS/hxbpNp%2Bny9he6rKy2VqM8EGRnUjlKw7X9ib44/tVyL4k/wCCi3xa%2B26PKwkt/gr8Pr2ey8PW69Ql/cqVudWcYXIcxwbgcREGvpLwJ4A8C/C/wraeBvht4N0vw/othH5dlpOjWEdtbQL6JHGAq/gK6eXBYf4n7SXZO0V895fJJeZdqcN9X%2BH/AAT52X4Wf8FLP2if9I%2BLnx48PfBHw/P97wz8LbNdW1sxHqkurX0fkwyD%2B9b2x9nrf%2BH3/BMD9jTwZ4gj8deLPhnL8QvFK4L%2BLfinqk3iK/Zs53hr1nSE/wDXJEA7CvoGiplj8TblpvkXaK5fva95/OTE6s9lp6af8H8SOzs7TT7WOxsLWOCCFAkUMKBURRwAAOAB6CpKKK4zMKKKKACiiigAooooAKKKKACiiigAooooAKyvGXgXwT8RdBl8LfEHwdpWu6ZOMT6brOnxXUEn%2B9HKrKfxFatFNNxd1uGx806r/wAEsf2e/DmozeJv2X/FHjL4JazNIZXn%2BF/iKS0sZn6jztMmEllIueq%2BSMjuOCKj%2BIP%2BCoH7N3zeJvC3hP8AaE8NQ/fvvDoTw14njTqXa1lZrG7IH8MckBY9F5Ar6horsWPry0rJVF/eV3/4FpJfezT2sn8Wvr/nueL/AAF/b7/Zu%2BP3ih/hnpniS%2B8LeOoFzefDvx5pkmj65B1PFtPjz1wM74DIn%2B1XtFcF8fv2X/gB%2B1H4XTwj8e/hXpXiO1hbfZTXcJW5sZOvm21xGVmtpBgfPE6t714fL4B/bm/YiH9ofCHxNqXx8%2BGttzP4K8VXyL4u0mEdfsOottTUlUZIgutspCqqzEmq9jhcT/Blyy/lk9H6S0%2B6SX%2BIfLCfwuz7P/P/AD%2B8%2BraK87/Zv/ao%2BCv7VfhKfxV8IPE7zy6dcfZdf0LUbZ7TU9EuxndbXtrIBJbyggjDDBwSpYc16JXHUp1KU3Cas10Zm04uzCiiioEee/tBfsu/BX9pzQLfRviv4U8%2B606XztD1/T52tdT0ecYKz2l1GRJA4IB%2BU4OBuDDivHR8Zf2iP2Ep00n9qq%2Bu/iF8K1cR2fxd0%2Bw/4megx5wq63axDEkYHH22FccZkRS2a%2BpKZcW8F1A9rdQpJFIhSSORQVZSMEEHqCO1ddHFOEPZVFzQ7Pp5xe8X%2BD6pkuN3dblbw74i0DxdoVn4o8K63aalpuoW6XFhqFhcLNDcRMMrIjqSrKQQQQcGrlfKni74VfED/gnvrl58Y/2YvDt7rvwmurl7vx18I7Fd8uihjul1PREP3ccvLZDCONxj2tgD6Q%2BG3xI8C/F/wJpXxN%2BGfie11nQdbs1utM1KyfdHPG3f1BByCpAKsCCAQRSr4dU4qpTfNB7Pqn2kuj/BrVO2xGV9HueaftQf8lv/AGcf%2ByzX3/qFeKK9mrxn9qD/AJLf%2Bzj/ANlmvv8A1CvFFezVylBRRRQAUUUUAFFFFABRRRQAUUUUAeM/t4f8kQ0P/ss3w4/9TXRK9E%2BLXxU8D/A/4aa58XPiVrSafoXh7TpL3UrpxkrGgztUdWdjhVUcszBRyRXnf7eH/JEND/7LN8OP/U10SuO%2BP9sP2ov2y/CP7K8n77wf8PrKDx18RYBzHe3fmtHo2nydivmxzXbowIYW8eetdOFoxrVff0ik3L0X6vRLzfkTJ2Whd/ZG%2BDvjj4geMJ/25P2mNEe38beJLIw%2BDvDF18y%2BCdCc7o7RAel3MuJLmXAYsRGNqoQfoqiioxFeWIqcz06JdElsl5L8dW9WxxSirBRRRWIwoorwH9uz45fEfwrp3hj9mj9nW/jg%2BKPxYv5tN8O6hJF5ieH7CJA%2Boa1IvQrbQsNik/PNLCuDkitaFGWIqqEevXoktW35JXb/AOGKjFzlZGD8cf2jvjB8evixqf7Hn7Deq29lqmjssXxN%2BLFxbC4svBquM/Y7ZD8t3qjKciInZAMNJz8o9T/Zn/ZR%2BDv7KHhCfwz8L9HuJL7U7j7V4l8Uazcm61bX7w5LXV7dP888hJY84VckKqjitD9nH9nn4b/st/CHSvg18LdOki0/TkZ7i8upPMutSunO6e8uZTzLPK5Lu56k4GAAB3Nb18RHk9jQ0h%2BMn3l%2Bkdo%2BbuypTVuWO35%2Bv%2BXQKKKK4zMKKKKACiiigAooooAKKKKACiiigAooooAKKKKACiiigAooooAKKKKACiiigDwj9pz9iew%2BKniyD9oT4D%2BMG%2BHfxi0i38vSvG2mwBotShGD9g1W3GFvrRsAbX%2BePAaNlIwbP7Jf7XF98adT1j4I/GvwYngr4veDY0Pi3we05khuIGO2PU9PlOPtNjKfuv8AejY%2BXIAwBb26vCf23v2ZfFPxa0PSvjf8AryDSfjF8OXk1DwFrEnyx3wI/f6Rd8jfaXSAxsCfkYpICCpz30a0MRFUK702jL%2BXyfePdfZ3XVPWMlNcsvk%2B3/A/I92orz79ln9ofwt%2B1R8CPD/xw8KWM9imr2zLqOkXgxcaXfRO0V1ZTAgESQzJJGeBnbkcEV6DXHUpzpVHCas07MzacXZhRRRUCCvlPxRY/wDDur46L8SNAXyPgh8SddSHxfpi8QeDNfuHCRanEOkVndSFY514WOVkkBAYrX1ZWH8S/hz4P%2BL3w%2B1r4XfEDR49Q0TxBps1hqlnIOJIZEKsAexwchhyCARyK6cLXVGbjNXhLSS8u681un302bJlG603PNf2oP8Akt37OP8A2Wa%2B/wDUK8UV7NXzFqPw58dfCFf2Tvhf8R/iCPFWraB8Vr2xk182phe8hj8GeKVgaRSzEyCERq75%2Bd1ZsDdgfTtY1IxjNxi7pPfv5jWqCiiioGFFFFABRRRQAUUUUAch4F/aD%2BAfxQ8Zaz8Ovhp8b/CHiLxD4ddk8QaFoXiW1u7zTGVzGy3EEUjPCQ4KkOBhgR1qxa/G34M33xTufgXZfFzwxN43s7AXt54Oi1%2B3bVYLUhSJ3tA/nLGQ6fOV2/MvPIr5r%2BGvxX0z4sftv6t8U/Fnwk%2BIvhLSfhZpOteF/Aum3Hwa8Qw/219qvLM6jqzXQsPs7wSS2kCWsEUjM8azXLg74xDzPg74f/EGL9qTw98N5fhR4oh17Qf2nfEnj3WvGcvhq6TSpvDt5oWp29tImpmP7NPIVvbDT/sqyGZPszMYxHCr0Ae9/t4f8kQ0P/ss3w4/9TXRK5n9gCP/AITLXvjX%2B0Bffvbrxd8YtUsbW5/vabpATS7VB/sg28zj3lNS/wDBQvTfivP4P8Gaj4c8aeHrXwtD8Yfh6Ne0a98MT3GoXjnxno3ltb3i3scdsFbaWD20xYAgFMgh3/BMeaOP9mrUNAe3SG70b4m%2BL7HUYkLfLOuvXrNncSckOpP14wMCu2jpgqzXVwXyu3%2BaRD%2BNfM%2BhaKKK4iwooooAK%2BYP2WrRvjR%2B3l8d/wBpLVm%2B0W/g%2B8sfhn4P3j/j0htbeK/1Mr/11u7uNSeuLVRnjA%2Bn6%2BaP%2BCbjCxvv2gfDN18t7YftJeJZLqNuG2XKWt3C2PQwzx4Pt7V24b3cLXkt7RXyctfySNIaQk/T8z6XoooriMwooooAKKKKACiiqfiG71fT9Avr/wAP6QuoX8FnLJY2D3AhFzMEJSIyEEIGYBdxBAzntTSu7Cb5U2XK%2BTf%2BCof7TH7Un7Ith4M%2BOHwmXRLnwPY62lv400q5Vftd%2BZDlIg7o3lRlUcb4/nV2UlWUEV8U/Gj/AIKX/wDBT/RfivqNp4s8dwfC4C5c2fhnUfCUKwW%2BzMfkrNcWkjTEhd5cyFGL5UqMKvzf8Sv2vv2u/GOt3x8b/tM%2BLr9rsFbmKz8VzC0kRsHasUDiJVPHyKoHqAa/T8i4DxkMXCviJ0pwtdx96Saas1dJK6vpJN2eqPynP/ELA1MHUoYeFWE72Uvdi007ptNt2dtYtK6dmfrh4Y/4LP8A/BPTX9Cg1fU/jJeaLPMB5mm6n4Yv2nhPoxghkjP1VyPevpnwt4o8O%2BNvDdh4w8I61bajpep2kd1p9/aSh4riF1DI6sOCCCDX863iS0%2BFXibQvCtr8OLjXh4qntLk%2BNZfE99Zw2D3IkLRNayl1IUx53CYg7wAu7Ne2%2BFf%2BCrv7bHw/wDgnpfwr%2BFl/o3hrQdEU21nf6T4ajeSOMj/AFJefzEBy27O0PlsljmujM/DqnOEXlsmpNvmVRpJLVJqyu9Vp3Vnoc2VeJdWE5rM4pxUVyukm23o2nd2Wj17O61P3Lor8vP%2BCVn/AAUt/aT8W/GNPhZ%2B0FH4t8cab4rlt7bRNZtdLSQaPMHdWkl8uIFoGyN8hbEXlZwQWI9D/wCDgP4J/tc/Gr4FeENO/Zw8Pa9r2hWWrXT%2BNPDnhuGSe6uyyw/ZJDBEC80cZWfKgHBkRiOMj8v4vwWO4RhU9pD2sopNKGvMrpabtW66X00TP3TwnwuU%2BKXEGEy763HB0603CVStZRp2jKSvdxi3KyUPfUW5JOUT9AKK%2BTv%2BCLnwy/ac%2BEv7D%2Bm%2BE/2pYdStdUGtXM3h7StZdjd6bpLRwiK3lVvmjIkWdxG3KrIowMbR9Y15mBxMsZgqdeUHBySfK91fo/67aI7OK8kocN8S4zKqOJhiYUKkoKrT%2BCoov4o6vR7aNq6lZtJNlFFFdZ8%2BFFFFABRRRQAUUUUAFFFFABRRRQB8w/s5Wy/A7/gof8aP2fLEeVonjnRtN%2BJug2ifct7ud5NP1XH/AF0ntracj%2B9Ox/ir6er5omZdS/4LFWv2I7v7H/ZquF1Er/CbvxBAYAfcizuCPxr6Xrtx3vThN7uEW/WzX5RRpV1afkv6/AKKKK4jMKKKKAPGf2oP%2BS3/ALOP/ZZr7/1CvFFezV4z%2B1B/yW/9nH/ss19/6hXiivZqACiiigAooooAKKKKACiiigAooooA8Z/bw/5Ihof/AGWb4cf%2Bprolct%2By1MPhF%2B2F8bv2b9QPlRa7q1t8RvCwfrcW2oRrb3%2B32jvbZif%2BvlT3rqf28P8AkiGh/wDZZvhx/wCprolYP7dngjxj4VPhf9s/4RaHPqPij4UXE9xqmjWY/e674cnVV1KxUfxyBES4iBziS3AAJeu3BNTlKhJ/GrL/ABJ3j%2BOn/bxE9Nex9CUVjfDv4g%2BDvix4E0j4l/D7XoNT0TXdPivdLv7dspNDIoZW9QcHBB5BBBAIIrZrjlGUZNNWaL3CiiikAV8pOkf7Jn/BTq98R6tdzx%2BEP2ltJs7aO5nnJt7HxdpNu0cUAHCRfbLDG3%2BKSWzxzlQPq2vP/wBp/wDZz8E/tU/BjVPg743uLmzW7MdzpOtae%2By80fUIXEltfWzjlJoZVV1I64KnKsQerCVoU6jjU%2BCS5X6PZ/JpPzs11LpySdns9D0Civnr9j/9qTxprniS8/ZG/avhttJ%2BMvhOzD3JjTy7TxhpoO2PWtPzgPG%2BP3sQ%2BaCXcrADFfQtZ16FTD1OSf39GujT6p9P800lKLg7MKKKKxJCiiigAooooAivbGx1GA2uoWcU8ROTHNGGU/ga%2BfP%2BCjXwa8beL/2PfGHhn9nj4YaNqPiLULeOJ9PXRLaSW5tmcLP5XmbQsyxlnRhlwUGwbypH0RRXVgsXUwWKhXhrytSs72dnfWzRyY7B0sfhKlCenPFxurXV1bS6Z/PB4l%2BFx8FeMLb4W3fwE8bN4rXw20evaHrKvHc2%2BpSgvDcW0MUQcQrG0DbJQ5fc4yuVYVPFPwY/aVt5tB8GeJ/gB4j0%2B61a4kXw9aHwE9pdanJhdyRFbdZLnACnaC23OcDcc/0TrbwLO1ysCCR1CvIFG5gM4BPcDJ/M18PfHXx7fftvf8FAvDX7JXhy6gbwR8N9Tg8T614q8Lj7Xcx6lbq5S1luRhbHEm6MhSzk9weE/Vss48xOOqP/AGdKMIuU5Ocnayeyst20lHdrzR%2BQ5r4fYbAUo/7S3KpNQhFQir3a3d3tFOTlsn0Sdj5H/ZS%2BE/if9nnRtS0X9t%2B5/aI%2BG3gu9uo7q1bwlZXVrpC3G0o8948e5lfaqABY8kICxIVRX3T/AME1PjVf%2BJvHPxR%2BAWmfGy9%2BJ3hXwVqGn3XhHx3qOoG7uJrS9haT7JNPgea8LRsN3ruHyhQo4j/goB8D/wBuTx18bZdWfSvEnxA%2BDVzprxt4E%2BH3jCLQriMiNQyXgkRmvFcl/lTcSOP3e0B/AP2DfjL%2B058Lf2z9E/Zj%2BBnwY8ReAPC3iLUG1LX/AIe/EaSS7Fja4LT3UUzWdvPFiKIpGX3BpAiuXJrlxqXEeUVsTzQ9o4KbSlHkhy6t6pVFOyaejg7q7%2BE68C3wznNDC8k/Zqbgm4y5582iWjdN07tNaqcbO0fiP1pooor8pP14KKKKACiiigAooooAKKKKACiiigAqDUtS07RtOuNY1e%2BhtbS0gea6ubiQJHDGoLM7MeFUAEkngAVPXyH8cPGOq/8ABRr4maj%2Bxx8FdVuE%2BFPh/UBB8cvHlhMUj1JkIZvDNjKv35JOBdyIcRREx53yFa6MNh3Xm7u0VrJ9l/m9kur07tXCHM/Lqb3/AATti1D40%2BIviV%2B31rNlLBB8WdcgtvAsNzGVePwrpiPb2Eu1hlDcyPdXeO6zxn0r6eqtoujaR4c0e08PaBpkFlYWFtHb2VnaxBIoIUUKkaKOFVVAAA4AFWaWJre3rOaVlsl2SVkvuX33FOXPK4UUUVgSFFFeUfti/tE3P7OvwjbU/CWkjWPGviO9j0T4feHFOX1PWLjKwoR2iTmWVjgLHG5yOK0pUp16qpw3f9fd1fZJsTaSuyh%2B1B/yW/8AZx/7LNff%2BoV4or2avmLUfhb4h%2BC6/snfDTxh491HxRrOmfFa9Gs%2BINUu5Jpb68fwX4pknkDSEssfmO%2BxOiIEUcKK%2BnaVSMYzai7pPfv5/MFsFFFFQMKKKKACiiigAooooAKK8X/Y5%2BLvxw%2BJV18UvB3x%2BvfCl3rPw/8AiY3h62vvB%2Bi3Nha3Fq2jaVqSForm6uXMitqDxlw4VxGrBEyRXJfsUftT/F34z/ELxH4I%2BPfibRNH121udYl0n4fn4T634f1BNNtdWktIb%2BO%2B1G7kh1eBofsrPLaQrGr3UeWXeqkA6/8Abw/5Ihof/ZZvhx/6muiV7NXzx/wUL%2BLnwo8NeD/Bnwo8R/E7w9p/inxB8Yfh7LoPhq91qCLUNSSPxnozSNb27OJJgqqxYopACknGDX0PQB8n30l3/wAEz/ibd64LeRv2fPGesNcX/koWX4d6vcSfPLtH3NLuJGy2Plt5WJ%2BVH5%2BrLO8s9Rs4tQ0%2B6jnt541kgnhkDJIjDKsrDgggggjrUWs6NpHiLSLrQNf0u3vrG%2Bt3gvLK7hWSKeJ1KvG6MCGUgkEEYINfLR8M/Fz/AIJuXcl98OND1jx38BWkaS68LWga61rwEpOWkslJL3unDJLW%2BTLCOU3KGFej7uYLV2q/hP59J%2Buku6l8Wfwen5f8A%2BrqK5/4XfFX4c/GvwNYfEv4T%2BM7DX9B1SHzLLU9NnEkcg7g91YHhkYBlIIIBBFdBXBKMoScZKzRpuFFFFSB5f8AtSfsm/Df9qrwtY6f4our/RfEXh%2B7N94M8b%2BH5/I1Xw9e4wJ7aYdAcAPE2UkXhlOAR5P4N/bP%2BJ37LviGy%2BC//BSOys9LFxOtp4a%2BN2k2xi8N%2BISeEW86jSLxh1jlPkOwYxyYwtfVFUPFHhbwz438PXnhHxn4dsdX0rUbdoNQ0zU7RJ7e5iYYZJI3BV1PcEEV10sTFU/ZVlzQ6d4%2BcX%2Bad4vsnqaRmrcstV%2BXp/Vi5bXNveW8d5Z3CSxSoHiljcMrqRkMCOCCOc0%2BvleT9ib47fsr3Emu/wDBOv4wwafoQcyTfBj4iSz3vh1snJWwuQWutKJyxCoZINxH7oAVo%2BF/%2BCmHw98Ja7a/D39tT4b658CvE1xKIYG8ZbZdBv5P%2BnTWYc2kg6cStC/PKVbwUqi5sO%2Bddl8S9Y7/ADjzL0H7NvWGv5/d/lc%2Bl6Kg0vVNM1vToNY0XUYLy0uYhJbXVrMskcqEZDKykhgR0I4qeuHYyCiiigArnfij8W/hn8E/CUnjv4s%2BN9O8P6RFKkT3%2Bp3AjTzHOFQZ5ZjzwMngnsa6KvMP2wv2YvD/AO158BtV%2BCmvaydMa8mgudO1VbNbg2VzDIHSTy2IEgOGRlJGVdhkZzXRhI4aeKhHEScaba5mtWl1a9DmxksVDCVJYaKlUSfKnom%2Bib8y78Nv2sv2ZPi%2BTH8NPj14U1iVSQ1ra63D54x3MRYOB74xXxr4o%2BJHxz/4Jlar8Q9b8F6h8GtY8C%2BJ/GmpeLNLsdR8Vva6tKk%2BzNjbQqfmZNmAArgkk5Gdo5OP45f8E7dPXxf8Jf8Agor8M/A174%2B8Ea1NZRa34G8LNGPElugzG6yafhYZ8go8UrxqhwDghwuj/wAEtPgF4n1f44a/8T9Y/YV0Kz%2BGeuX1zdeD/FHinS47fUNMthhrVILaaSV3WRGQmVQRkuRO4UKfvKGVYbKsPXq1YydK0bxqKHLU15o%2BznzRu7O%2BkbpNq19D8%2BxGb4rN8Rh6NGUVWvJKVN1Oalpyy9pDlnZXVtZ2bSd7O59u/srftWfCX9r34XwfEz4T62LhEEcOsWDxSJLpt4Ykke2feq7iu/G9QUbGVJFeiHTdObUV1drCE3awmFboxDzBGSGKBsZ2kgHHTIFUvCfgrwb4C0r%2BwvAvhLTNFsTM0ps9JsI7aLzGOWfZGoG4nqcZNadfBYmWHliJPDpxg3om7tLs2rX/AOGP0LDQxEcPCOIalNJXaVk33Sd2vv7hRRRWB0BRRRQAUUUUAFFFFABRRXP/ABM%2BLHww%2BC/hSfx18XfiHovhjRrYfv8AVNe1OK1gU4zjfIwBY44UcnsKcYynJRirtjSbdkdBWD8TPij8Ofgz4Jv/AIkfFjxvpnh3QdMi8y%2B1bV7xIIIV7ZZiASTwFHLEgAEnFfPEv7efxd/aNJ0b/gnn%2BztfeKLOY7R8U/iDDPovhaAf89YQ6i71MA5GII1Q8HzcVrfDn/gnrpmteNrD42/tqfE28%2BMnjjT5fP0mPWbNbfw94fk9dO0pSYo3HA8%2BUyzHaG3qa7vqcaGuJly/3VrL7to/9vO/9009mo/G7eXX/gfP7jkrzxf%2B0Z/wUqU6H8LF8QfCj4E3PGoeNbqB7LxL41tz1i06FwH02zdet1IBNIrDy0UFjX018J/hL8N/gX8O9K%2BE/wAI/B1loHh3RLUW%2BmaXp8W2OJByT6szElmdiWZmLMSSTXRUVjXxLqxVOC5YLZLv3b6vze2ySRMp8ystEFFFFcxAUUV5v%2B0d%2B1R8Kv2Y9BtLzxvd3d/rWsTG38L%2BD9Ctjdatrtz2htbdfmc5xlzhEzlmUVdOlUrTUIK7fQTaSuzf%2BNHxo%2BG37Pvw21P4s/FnxNDpWiaVDvuLiTlpGJwkUaD5pJXbCoigszEACvHP2ZPhP8SPjF8Uz%2B3F%2B054al0nWprGSz%2BGXgW8IZvCGkS43yzDoNRuQFMxHMaBYQeGFN%2BEn7N3xU%2BN3xH0z9qH9t63tV1XSZvtPgD4W2VyLjTPCJI%2BW5ncfLe6lt4M2NkRJEQ6MPo6uyc6eEpulTd5vSUlsl/LF9f70uuy0u3KTk7vY8Z/ag/5Lf8As4/9lmvv/UK8UV7NXjP7UH/Jb/2cf%2ByzX3/qFeKK9mrgLCiiigAooooAKKKKACiiigDxf4E/seax8CfGni/xraftZfErxHJ448Vw%2BINesfENp4dED3aWtvZkJ9k0iB0je3tLaJgHziEMpV2dm1Ph/wDstQeE/jQvx58bfG/xr4616y0O%2B0bw7/wlR0yODRLG8uLa4uobePT7K13mR7KzBkuDNIFt1Acbn3%2BqUUAeM/t4f8kQ0P8A7LN8OP8A1NdEr2avGf28P%2BSIaH/2Wb4cf%2Bprola/hv8Aa6%2BDus/GXUf2fvEN5f8AhjxdaXTx6dpPimyNkdbhU4FzYSMdl3E3OAjFxg7kXFaQpVKibgr21fp3InUhBpSdr6I9PooorMs%2BeviX%2BxXr/hLxxf8Ax5/Yj8d23w98ZahL5%2BvaDdWzS%2BGvFMnrfWiEGGY9PtcG2UZJYSZqX4aft5%2BH4PF9p8F/2s/A9z8JPHty3l2Nnr1ysmj64w43abqQAhuM5H7pykwLbShIzX0BWF8R/hj8O/jB4Qu/AHxU8EaX4h0W%2BXbdaZq9kk8MnodrggMOoYcg8gg13RxcKsVDErmttJfEvntJeUvlJEcrWsTdor5oX9k39o/9mj/S/wBiH45C88Pw8r8KvilcT3%2BmxoP%2BWdjqALXdkAOFRjNHk/dAq7ov/BRXwV4K1WDwd%2B2P8Mte%2BC2tzSiKK78UqtxoF5Ie1vq8GbZhjnExhYZ5UUPAyqK%2BHlzrstJfOL1%2B7mQc6XxaH0VRVXRdb0bxHpUGu%2BHtXtb%2BxuoxJa3llcLLFMh6MrqSGHuDVquFpp2ZYVR8SeGfDfjLQrrwv4v8PWOq6ZexGK807UrRJ4J0PVXjcFXHsQRV6imm07oD5/8AB3/BN/4FfB/4lWHxH/Zv8SeL/hlFb6ol5qvhLwb4ieLw/rADZaKfTZhJborDIzAsTDPDA10/7ZfijWdC%2BFeneHtF8SXeit4q8YaRoF1rdjKY5rC3urpEmkSQf6tjGGQPxtLggg4r1msT4jWPw61LwRqVp8WrLRbjw21sTq8PiKKJ7Iwjk%2BcJgUKjAPzccV1RxNWrXhOq3Nr5v8telr37FurZ803t3/r8zwH4T%2BLPiX4e/ZV%2BJeu/A2XXfFS6Z4g1SL4X/bb6XVbm5tUWNYxFLdylrmNJvOCeZIc7Cu7AAFDUf26dU%2BD3wM0vxN4r8Z%2BHPGfiDUL6%2BtgdZtW8Gx6f9ijY3KakJ5Ls28wlCQhUTLyXEIWPB31xOq%2BNvjV%2B27bXHhH9gfwZN8OPAa30MUnxhvLy4sftAtAYUXS7KB08yMKCvzjymA2uqsorE8c/8EEPg74v0C3vLn40a7qnjK6lvn8S%2BNPFaT309%2B12VaSaKOK5gWCZHVnjZ/OTMriSOQbdn0McJltCrbMp8jcruKXNNKy0nZpR72vzXesV08lZrPH05PAU%2Bbe053jB6aWdnKSv1jFJ9JNanlP7Pvj/AMdftceIbr49ftIftOfFzw3oXjmWwvvD2g/CnxhcLY%2BE7W8vbmyto9TbyvKhV5rfyYzGC5aOR5QgYE/WZ/4JfeFHHlXH7ZP7QssR4kgk%2BKDlHHdSPJ6GuX8B/wDBOvV/ggmo/s4/Bzw9p1v8LfEOr6Re6hr97rskmp21pZxo01gYDF%2B9ae5WSXzhIFVbyVRGojQH6Z%2BNOkfGfWvh/c2HwB8aaDoHiYzRNZ6j4l0WTULNUDgyI8Mc0LHcuVBDjaTnBxilmOd1pYlfU6ihB6JKMElFWSuuSTT76yel3qzmocN5XGjH20eebu5OU5y1bbevOtFeyXKrJLQ8J8D/APBHf9hXwV4ut/HEnw/1bWNStLyK7gm1rxJdSj7QknmCVlR1EhLAEh9ynuvJz9Q180fa/wDgsJoHzTaJ%2Bzh4oROvkX%2BvaNJIPYNHdqD9WxUlt8fv%2BCmelubfxB/wTv8ACOohUYm60D44w4chSQBHc6fGRkgDlu/OBXm4yWY5hJSr4hVGtr1Fp6X5bHp4LKcBl0XHCU4QT1fLZX9e/wAz6Tor5p/4a5/bss/%2BQt/wSk8WsO76Z8U/Dc4/APdRt%2BlH/Dbf7VUXF1/wSv8AiuD38rxN4ckH5jUa4/7PxPTl/wDA4f8AyR2%2Byn5fev8AM%2BlqK%2Baf%2BG1f2tZ/lsP%2BCVnxRZu32jxd4biH5nUDQP2r/wBv68/5Bn/BKnXYs/dOrfF/w9CPx8mWYj8qP7PxHXl/8Dh/8kHsp%2BX3r/M%2BlqK%2BaT8av%2BCp3iI%2BVof7Cfw28PE/dn8SfGuS5A9ylpph/IMaT%2By/%2BCwPiT9zd%2BLv2dPCcb/eksNH1zWpox/smWa0Qn6rR9SkviqQX/b6f5Jh7N9WvvPpeivmf/hkj9u3xd%2B6%2BJ3/AAVA122tpP8AXWnw9%2BGWkaQR7LNci8lX67vwpD/wSp/Z%2B8Uf8l3%2BKPxd%2BKA7weO/ipqUlsT/ANe1pJbwY/2fL2%2B1H1fCR%2BOtf/DGT/PlQclNby%2B5P/gHo/xm/bd/ZA/Z5SX/AIXT%2B0t4L8PTw/fsL/xBB9rJ7hbdWMrH2VTXmv8Aw8rg%2BJA%2Bzfskfsj/ABZ%2BKDS/8emtJ4ZPh/RJD6m%2B1c24K%2B8ccn05GfUvg9%2Bxv%2Byd%2Bz95cnwU/Zw8FeGZ4h8t7pPhy3iuW92nCeYx92YmvSqPaYCn8MJSf952X3R1/wDJgvSWyb9f%2BB/mfMJ8H/8ABU748c%2BL/ij8P/gXok3J0/wZYN4m10IeDG15eLFaRNj%2BJLeTHY%2Bm78NP%2BCZ/7LvgvxXB8TfiJpGsfFLxnb8xeMfivrD65eQnOQYY5v8AR7XB6eRFHjt0FfQNFKWPxHK407QXaKt97%2BJ/OXyB1ZWstPT%2Br/iAAUBVAAA4AooorjMworzzxb%2B1T8CvC2ieLNUtviBp2tXXgq0kn1/RdBvobm9gKFQY/LDjD7mRTuKhWcBiua868YftQfFDxprugfCn4eaQngHxVf65c6frkXjDTor82EyWD3ltEot7lY3W4CECZXcDy3XbuZSOqng8RU6WXd6dL%2Bu3k%2BhLlFH0RVPxB4h0Dwlol14l8Va5Z6ZptjCZr3UNQuUhgt4x1d3chUUdySBXN/An4nXXxc%2BG1r4u1TSF0/UEurqx1WxRyywXVtO8EoUnqpaMsp/usted%2BI/2D/Avxa%2BKN38Sf2mPHuvfEi0j1Rrnw14L16VI9A0WPdmNRYwqsd1IoOPNuPMJGOAeamFKlGpKNeXLbsrt%2BS6fNu3qDbtoczqH7Yvxa/acu5fB/wDwT78DQ6hpvmNDf/GTxdayw%2BH7PB2sbGL5ZdVlGGA2bYAwXdIQcV3f7PH7HHgT4G69efFHxJ4g1Lxz8R9YhEeu/ETxQVkvpk6mC3VRssrYEnbBCFUDGSxANet2dnZ6daRafp9rHBBBGscEEMYVI0AwFUDgADgAVJWlTF%2B46dGPJF79W/8AE/0Vo%2BTBR1u9Qooplzc29nbyXd5cJFFEheWWRwqooGSSTwAB3rjKPHP2oP8Akt/7OP8A2Wa%2B/wDUK8UV7NXhXx68U%2BGfG3xR/Zo8U%2BDfENjq2mXvxjv3s9R026SeCdf%2BEL8UjckiEqwyCMg9q91ptNOzEmmroKKKKQwooooAKKKKACiiigAormfhZ8afg58c9Eu/E3wT%2BLPhnxjpthqUmnX2oeFtet9Qgt7yMK0lvJJA7qkqh0LRkhgHUkcik8HfG34M/ETxfrvw9%2BH/AMXPDGu6/wCFpxD4m0PR9ft7q80iQlgEuoY3Z7diVYASBTlT6GgDgP28P%2BSIaH/2Wb4cf%2Bprold38Y/gZ8I/2gfCD%2BBfjJ4C0/X9MZt8cV7F89vJ2lhkUh4ZB2dGVh2NcJ%2B3h/yRDQ/%2ByzfDj/1NdEr2aqhOdOSlF2a6omUYzi4yV0z5xX4Zftm/ss/vfgh4z/4W/wCDIengrx1qQg12yj/uWeqEbLgDtHdLnCgebXX/AAe/bf8Agb8WPEw%2BG2pX2oeDPG6ged4F8dWR03UwT/zySQ7LpTjIeB5FI5zXr9cn8X/gV8HPj94aPhD4zfDfSPEen5Jii1O0V2gY/wAcT/fif/bQqw9a6/rFGt/Hjr/NGyfzXwv/AMlfmc/sKtL%2BDLTs7tfJ7r8UdZRXzsP2W/2l/gT%2B/wD2Sv2lp77SYv8AVeAfi15uq2Kr2jg1BCLy2UDhQxnUemOKcv7dutfCk/Yv2x/2c/FXw8WPiTxTpkJ13w%2Bw6Bjd2amSAE84nhjwOp4JpfU5VNaElPyWkv8AwF6/c5B9aUP40XHz3X/gS0%2B%2Bx9D1W1nRdG8R6VPoXiHSba/sbqMx3VnewLLFMh6qyMCGB9CKx/ht8W/hb8Y9AXxT8J/iJoniTTmx/pmianFcxqT/AAsY2O1v9k4I9K6GuVqdOVmrNfJnTGUZK6d0fO%2Bsf8E3vhP4Z1WfxX%2Byv488VfBfWZ5DLIPAOohdKuJexn0qdZLOQD0WND71APE3/BS/4IfuvEvw88EfG3R4uBqHhe%2BPhvWyo6u9rdNJaSt7JNHn0Hf6PorrWPrSVqyU1/eV3/4ErS/Fk8iW2h886X/wU2/Zr0zUIfD/AMeLfxV8I9WmfZHZfFHwzPpkLnvsvMPZuPdZjn869G8d/tVfs6/Df4XL8a/FPxd0f/hFHu4rZNd02c31u0spwihrYSZz6jgDkkDmu41TStL1zT5dJ1rTbe8tbhCk9tdQrJHIp6hlYEEexr8%2B/wBtb9gb9nb4kftn/DL9n7wl8OdD%2BHOmeNdN1PUda13wdpgtLrVpLNRI1n5aFbf7pEm943YHB7YPfluGyzMMWoVOanFJylZqXuxV5WulK9tt/wDLzs2xmJwOBlUopSm2oxT2cpO0b6qyvu76fg/evFH/AAVX/ZMtdQbw18KNU8QfErXSoMOh/D7w5cX8rk/d%2BcqsWCfRyR6Vyvgn9lDx3%2B2v8RdR%2BPf7efgO%2B0zw8jQR%2BAvhLP4gleCwij3b7u9jhZUeeQlTt7DKuCAoG54O/YS/aB/Z70OHwz%2Byj%2B29qulaLaKPs3hvx34J03V7XgYCebbpaTqMDGd7ED1rV/4Tv/gqF8PufE3wB%2BFPxGgHAk8G%2BMrvQ7k%2B5hv4Zo8%2B3n49xXX7fCYVSWVtRk9OeU2qlv7qcYxhfq027aKSu78n9m4rGuLzKanFa%2BzjG0L/AN67cp26J2jfVxdlb6A0HQND8K6JaeGvDOj2un6dYW6QWNjZQLFDbxIAFREUAKoAAAAwKt186/8ADe3jPwp/o/xk/YL%2BNvh%2BVP8AX3GjeHbbxBaIO58zTbiVyB6%2BWKmsf%2BCqP7CEl2mm%2BJPjmvhi7Y7WtPGfh/UNGdG9D9tgjX8iR714zy/Hybag5ea97/0lyPcUqcVZafh/kfQlFcD4P/ar/Zf%2BIQU%2BA/2jvAmtF/urpXi6zuCfbCSk59q7u3uLe7hW5tZ0ljcZSSNgysPUEda5J06lN2nFr1TX5pFJp7D6KKKgYUUUUAFFFFABRRRQAUVV1fXNE0C1N9r2sWtlAOs13cLGg/FiBXm/jL9uH9jT4fK//CZ/tWfDzT5E%2B9bz%2BMLPzvwjEhc/gK0p0a1V2hFv0Tf5JibS3PUqK%2Bdj/wAFTf2PdWJt/hn4j8U%2BO7k/6u18CfD7V9UMn%2B7JFbGI/wDfdIf20v2gvGPy/Bn/AIJzfE%2B%2BH/P143v9M8OQ/XE9xJNj/tlu9q6f7Oxq%2BKHL/iaj/wClNfkTzw7n0VRXzpv/AOCp/wARfuwfBn4Y2c/d31HxNqFuPoBZwFv%2B%2BhSH9hf4p%2BPT5v7Q/wC3p8U/EaniXS/CdxbeF7CRe6Mmnxidl7czk46k0fVKUP4laK9Lyf4JL8Q5m9kfRQkjZ2iWRSygFlB5Gema8d%2BGPijx58M/jn4s%2BEvxh%2BKV3r9le6RD4m8L6zrFra2wht/MNteWYMEcUYSB/sjAsC5F38zMa6b4C/swfAv9mTS9Q0n4JeBE0ddWnSfVrh764uri9lQFVeaa4kkkkYAkZZj1q94i%2BAPwa8YfE3T/AIyeL/h3p2r%2BJdItDb6Nqeqxm5OnISSxt0kJSB2z8zxqrsAASQABEZ4eEpx1cWtHZXvpbq7a3vrsO0nY%2Bbx8E/EnizxB4W%2BD0/gTVLuxtPEWuzHxxYlG0698Map9ouH/ANIUkC5NyLJ/LKndJFuxtJYeieEP2RPFXiS51XUf2iPF%2Bn6jeyabo1lpF/4Vjnsp4ZtNeSSLVDI7M0d27yLlVJjCxKvzBmB986dKK1qZhXkrR0/Pe79L9loJQRg/DT4ceGvhP4MtfA3hQXTWls8srz3949xcXE0srTTTSyuSzyPI7uxPdjjAwK3qK8%2B%2BNH7Vf7On7PUaj4xfF/RdFuZMfZ9LkufNvrjPQRWsQaaUn/YQ9RXJGNXEVLRTlJ9tWE5wpRvJpLz0PQaZc3NtZW0l5eXCQwxIXlllcKqKBkkk8AAd6%2Bez%2B07%2B1L8bB9m/Zb/ZXu9J06XhPGvxgkfSbUDs8Wnx7rydSOQWEAPqOtLb/sH3PxTuY9a/bR%2BOOu/E%2BRXEi%2BFox/ZPhuBgcqBYW7f6RtPG64klyOoFdH1WNPWvNR8l70vuTsvnL5GH1mVT%2BDFvzei%2B96v5L5lnxR%2B3x4R8R67c/D79kvwHqfxg8SW0hiuW8MyLFounyf8AT3qsn%2Bjx9/ljMsnGNlUIf2P/AIq/tCXEeu/t2fFSPWtO3iSH4W%2BC3msvD0JByBdSEi41MggH96UiyD%2B6wa998M%2BFvDPgrQrbwv4O8O2Ok6ZZxiOz07TbRIIIE/upGgCqPYCr9P61Gjph48v956y%2B/aP/AG6r%2BYfV5Vda8ubyWkfu3fzfyPDf2gPDvh/wl8U/2aPDPhXQ7PTNNsfjBew2Wn6fbLDBbxjwT4owiIgCqo9AMV7lXjP7UH/Jb/2cf%2ByzX3/qFeKK9mrjbbd2dSSSsgooopAFFFFABRRRQAUUUUAfKv7C3xS8NQ/Fn47adD8L/iLoVp4g%2BMtvfeG31v4PeIdJtbqybw7olis0cl1YRRiMXFjcoTkBBGGbCOjNxH7Cnw/%2BIOl/GH4U%2BGNW%2BFHijQ9Q%2BE/wz8Y6D8Ste1nw1dWVnqep3%2Bs6XNC1rdSxrFqa3L2d3fedbvKsYceYUkmK19w0UAfPH/BQvTfivP4P8Gaj4c8aeHrXwtD8Yfh6Ne0a98MT3GoXjnxno3ltb3i3scdsFbaWD20xYAgFMgjc8bp%2B3F8M/F%2BpeK/AEvhj4meGLq7eeHwlqAGi6rp8ZPENtdruguAv/TdUY9N/epf28P8AkiGh/wDZZvhx/wCprolezVpTqezeya81/TXyZhXoe3ikpOLWzi7fo015NNHing79vX4Galr0PgX4rHVvhn4mmO1NB%2BItgdOMx6fuLliba4BPAMcrE8cc17TDNFcRLPBKro6hkdGyGB6EEdRWb4w8E%2BDfiFoM3hbx74T03W9MuBifT9WsY7iCT/eSQFT%2BVeMTfsHaJ4CmbUv2VfjP4t%2BFs%2B4uuk6Xe/2hojMepbTrzfGoP/TIxe2K2thKmzcH5%2B8vv3X3M5ubMqG6VVeXuS%2B53i/k4nvdBAIwRXgg%2BIP7evwh/d/ED4KeGvihpcf3tX%2BH%2Bqf2ZqIQdWewvmMbuRziO4%2Bg7Ve8Of8ABQb9me%2B1aLwv8Q/Emo/DzW5TgaL8SdHm0WXPosk4EEntskbPGOopPCVrXguZf3dfwWv4DWZYRPlqt032muX8X7r%2BUiz8SP2Bv2W/iNr7eN4vh2fC/ic5KeLPAt/LompK5/jM1myeaf8AroHHtXPj4Ift1/CQZ%2BDH7VmleOdPj4h0H4vaCDOF9P7S08RyFveSGT8a980vVtL1zT4tW0XUre8tZ03QXNrMskci%2BqspII%2BlWKqOMxEVyyfMl0kub89V8mjZ4WhJ80VZvrF2/LR/NM%2BfP%2BGv/j38OP3P7RH7DvjSyiXhtc%2BHV1D4lsiB1kMcPl3ca98GAke/WveNB1qz8SaFZeItOSdbe/tI7mBbm2eGQI6hlDxuAyNgjKsAQeCARVuo7qGW4tZIIbp4HeMqk8YUtGSMBgGBBI68gj1BrOrUpVLcsFF9bN2%2B53t95pThUhfmnzLzSv8AerX%2B48hsvj58U7Dw/wDGLWdU8DaPq8nw4vZ00S30jUHtxqYTT4r4QSvMCIpFWaNGcZXJJAGMV8k/s5/Ff9or/gol8YPCn7YvxGfQ/h98Pfhhqd5qGj3Frai5DxLEI9QguLppV8ndGoyXRRsO4LhQW9A/aL17xx%2Bzr4N8Q/sneAPiHF8TPiT8Zb7UJLHRZvDqQXtvFewC3lvbqW2kWGKCJUJVzEuRHtxtRnW94C/Yf%2BLnwj/Z%2B1bwNp3g7w1bBPBekaNf%2BH/CGol18TT292kt7qEhlgtkFxLb%2BbEiODlmIeUghh9Rhvq%2BX4CVW0VOq7Qk1rycvLNqLenM20m131tqvlcUq2ZZjGjzSdOkrzinp7Tm5oJtLXlSTcU%2B11d2f1D4M%2BNnwq8f%2BFrrxr4Y8a2kmmWNybe%2BurrdbC2l%2BX5ZFmCMhIdCNwG4OpGQQT1Eckc0ayxSKyMoKspyCD0INfI3ja0ltfiFpnxm/aE8AXum%2BDfEPiq/1K/8P6jpYvWMltphstNju4IRIpkmV55AG3KrQW6lt20D3j9lzwz4m8C/s7%2BF/D3jSxe0vrTS90unkEmyjZ2eO1xyf3UbJFj/AKZ187iMNTpU1OL3fl81dbtPfpqj6ShiJ1JuMlt/W3S/T5noVRX1hY6navY6lZRXEEgxJDPGHRh6EHg14NH/AMFO/wBi%2B0kW28Y/E7UPCtwSA9t4w8I6npRQ%2Bha5t0T8mNdt4U/bH/ZJ8c7R4Q/ad8Aai79IbXxfZtIPqnmbh%2BIrOWDxlNXlTkvk/wA0n%2BZpHFYWbspr71/mhnjD9jD9kH4gF38bfstfDzVJH6z3vg2yeT6hzFuB9wa4W4/4JTfsAPM1xpf7O1no8jHJfw5reoaYc%2B32S4jxXvmla1o2u2wvdE1a1vIT0ltZ1kU/ipIqzThjcdSVo1ZL/t6X5X/Q15YPWyPnb/h2d8E9O48FfF74z%2BG1H3U0T4za2ir%2BElw/60v/AA74vrf/AJBH7eP7RFnjoP8AhYMNzj/wJtJM/jX0RRV/2jjes7%2Bqi/zixckOx87/APDDnxftONJ/4KQfG5AOn2ybRLg/m2mjNH/DGv7SKcQf8FLvimB/000LQGP5/YK%2BiKKP7QxXdf8AgMP/AJAOSP8AV/8AM%2Bd/%2BGMv2ipeLv8A4KWfFdh/0x0fQI/5afR/wwn8TLzjWf8Ago18eJPUWWp6Nbf%2Bg6aa%2BiKKP7QxXRr/AMBh/wDIByR/q/8AmfO5/wCCeMNz/wAhn9tz9oi9B6j/AIWg9tn/AMBYYsfhR/w7B/Zo1L/kd/EXxP8AE%2Bfvf8JB8YNflDfUJdoDX0RRR/aOO6VGvSy/KKDkh2PAdI/4JZ/8E%2BNIuxft%2Byt4Z1Ccf8tteSXUmP1N3JIT%2BNej%2BDf2Z/2cPhyUb4ffs/8AgnQjH9w6P4Vs7Yr9DHGK7esvxF438F%2BEIjN4s8X6XpaAZL6jqEcAx9XYVE8Xja%2BkqkpfOT/C/wCg7Qir6I1AAoCqAABwBRXkvi39vX9ifwOGHiT9q3wBFIn34IfFVrPKP%2B2cTs36VzX/AA8u/Zg1j918NB438bzfww%2BDfhvq97u%2BkgthGfweiOCxkldU5W9Gvxdl%2BJjLF4WLs5q/qn%2BVz3%2Bivn//AIbB%2BPnizj4Tf8E9viVeD/n48Y6jpegRfXEtzJLj/tnn2oOrf8FOfHHz2Hg/4OfD%2B2l4xqWq6jr95CPXbDHaxE/8CI9qr6lVXxyjH1kvyXMxfW6b%2BFSfpF/m7I%2BgKp6/4j8PeFNLk1vxRrtlptlCMy3d/dJDEg93cgD8TXhX/DJf7Snjbj4zf8FAfGksB5Nh8PtCsPD0YPceaEnuMf8AbUH0Iq5oP/BNv9j2w1OPxD4w%2BF8njbVkOW1X4h61d69K7epF7JJGD/uqBR7LCQ%2BOrf8Awxf5ysvwF7XEy%2BGnb/E1%2BSu/xF8Sf8FIP2RtM1WTw14K%2BIs/jzWkOF0X4b6Pc69O7f3c2aPGp/3nUVQP7QH7bXxT/d/BP9jeHwrZy8w6/wDF7xJHaFR6nT7Dz5yfZnj/AA7e6%2BHfDHhrwfpUeheEvD1jpdjCMRWenWiQRJ9EQAD8qvUe2wtP4Kd/OTv%2BC5V%2BLD2WIn8dS3%2BFW/F3f4I%2Bez%2ByV%2B0T8VP337S37aHiOW0k%2BaTwx8L7JPDliM/eja4VpbyZO3%2BuTPp1z3/wZ/ZJ/Zt/Z8ka8%2BEXwd0bSb6XJn1k25uNQnJ6mS7mLzyZ5%2B856n1r0WvPr74269ovxR07wT4j%2BFOoafpGs6vJpWj%2BIZ9Rt2%2B1Xa28s/8AqEYusTJBLtcncShyijBpPEYqvFwTsuytFfcrX%2BdyXTwuHanJa3td3k/vd7fgj0Gsnxn458LfD/w5d%2BLPFmqfZ7Gy2i4eOCSZ9zMFVFjiVnd2LKAiqWYsAAc14f8AEb4r/Ezwv8Q/FvjKL4gTQad4Q8RaVZXPhSe2gNrLpN3Fbo93vEYm8xZp/M3%2BZtVYWTb1J8u8M/D9r0WXwh%2BFNnDYeOLTQp5PFmnSRCJTrGk3iXWnajd7QMvcXDZ%2B1YJlUt8zBMC6eDTXNKWn9PXtutdUcdfNXGThThd6rXq7tKyW%2Bqejadl931/4G8eeE/iR4fj8T%2BDdWF3aPI0bExPHJFIpw8ckbgPG6ngo4DDuK82%2BJv7VPiHRvG9/8Jvgl%2Bz14u8deJdPZEvZEtf7M0eyd0WRRNqF0FjPyOrYhWU4OMZ4rY%2BA%2BgeM4PE3jXxv4o8E3fhqDxFrNvcWWi3t7bzSBo7WOKW4b7PJIi%2BY68DduKxoWVWJUek1g/ZUqruuZev523t8jrX1jE4eNpcj6u2ttVopbX0eqdux4D8Yrjx3dePf2Ybn4m6bpdnr7/F69OqWui3Uk9rFL/whXin5Y5JERmGMclRzmvfq8Z/ag/5Lf%2Bzj/wBlmvv/AFCvFFezVi3d3OuK5YpXvbvuFFFFIoKKKKACiiigAooooAKKKKAPGf28P%2BSIaH/2Wb4cf%2BprolTeMrX9tjwR4r1DxH8P9T8G%2BO/D9xdPNb%2BGNYhk0fULOIniCG7j82KXA/iljUnu3rD%2B3h/yRDQ/%2ByzfDj/1NdEr2SOWKUExSKwVirbTnBHUfWrhPkeyfqcuKwyxMUueUGtU4uz/ACaa8mmjxGH9unwP4RlXTv2jfhr4u%2BGN1uCNdeJNIM%2BmO/omoWnmwEe7sn06V614N8eeB/iJo6eIfAHjHS9csJPuXukahHcxH/gcbEVqTQxXETQTxK6OpV0dchgeoIPUV5L4x/Ya/Zn8V6w/irS/h/8A8ItrrZK6/wCB76bRrxW/vF7RkDn/AHw1XehLdOP4r8bP8WcfJnOH%2BGUKq/vL2cvvjzQfzjE9cqj4j8MeGvGGky6B4t8PWOqWE4xNZajaJPDIP9pHBU/iK8c/4Uh%2B138OPm%2BEX7V0XiKzj/1Oi/FHw8l2SPQ31mYJvxZX/Hv6T8JNU%2BL%2Bq%2BGJH%2BNvhDRNH1mG8eJY/D2ryXlrcwhVKzK0kUbx5YsNjAkbQc84ClBQXNGSf4P7jahi515%2ByrUJQduqUov/ALei2vk0r9jzXVP%2BCeP7OFvqEuu/Cez1/wCGupTPue%2B%2BG3iK40lSfe3RjbMPZoiO3SoP%2BFQ/t3fDr5vht%2B1T4f8AGdqnEWmfEzwiI5Qvob3TmiJP%2B00LfjXQ/tA674htvE2i6X8LvHmsJ4ukuYFtfDunLFLaS2zTx%2BfPfI8beXCsW/8Aeb42yAqFmIUz/Gr4zeNfAfxH8LeB/CtroccetQzvcXviJbuO3aRZIY4rZLiGN0ilcyMQJByEOBmumNbEySUmpX/mV9vN6/iefVWW0JVGounyuKvBtJuW2kXy3vunHS6b3SOX/wCGjf2tPAXy/F79iHUtSt4uJdW%2BGfiq01VX/wBpbW5%2BzTgewDH%2BVcx8Z/8Agqp8BfhP8K9d8T6hofinSvFNhp7vpXhHxf4Q1DTJry5Pyxx75IfLK7iCxVyQoYjPFevp%2B0Loh%2BIqeA28Jaq1sdZGjS%2BIovJayTU/swufs3MglP7s48wR7N/yEhuK%2Bef2/vjF8Mvjnpvwl%2BEng/XTqMOt/HXw1Dq1vLYTRR3enM9wxliaVFW4hZouJIy6HaRmu7LKGHxeYU6dal7rd3ZtaJOT3vuo23W5y5jjquFwNSWGxScl7qUoxb5m1FWa5W7OV9mtHvqjr/8Agnh8PPBFno%2BqfHfxP8YvDfjv4pePtl74u1vRtXgu0so8Ax6db%2BW7eXBCMLgfeK%2BioF%2BmK8p8c/sM/se/Ea4N94q/Zv8ACL3Rbcb%2By0eO0uc%2BvnW4STPvurnf%2BGAvA%2Bg/L8KPjz8XPBca/wCqtNE%2BId1cWyH/AK43/wBoTH4Vy4vEUsfiJVqk2m%2BjirJLRJcr0SVklbRL1v6ODoY3LsPGjClGSXVTabb1bfPHVt3bd9W/S3vFFeEf8KD/AG1fDXPgz9utdTij/wBVaeNPhxZXW4ejTWb2zfjgmj7f/wAFLPDnz3Phz4LeKok6iz1HVNImk%2BgkjuUB/wCBYrm%2Brxfw1Iv5tfmv1On69Uj8dCa9Epf%2Bky/Q91kijmjaKaNXRhhlYZBHoRXFeK/2Z/2cfHe4%2BN/gB4J1gv8AfOqeFbO4J/77jNef/wDDQ/7ZOi8%2BKf2AL65jX/WTeF/iRpl5%2BIS4%2BzOfpil/4bi1DTvk8V/sY/HHTWX/AFjQ%2BCY9QQfQ2VxMSPwq4YfFQd6b%2B6S/SSJlmGAkrVLr/FCa/ODQuq/8Ey/2CtVuTeD9mDw1YzH/AJa6LFJp7D6G2ePH4VV/4dq/s1afz4O1P4ieHD2OhfFfXYtv0DXbAfgKs/8ADxr9mmx%2BXxcvjjw8/ePXfhlrcO36kWhUfialtf8AgpT%2BwtczC3k/aT0C0kP/ACz1LzrRh9RNGuK6OfOUt5v73/8AJGP1jIW/jpr5qP8A8iUv%2BGA7S240f9sf4/WQ/hA%2BJ0tzj/wJjl/WgfsT/Eux/wCQJ/wUH%2BNsfoL6/wBIusf996dXV6b%2B3H%2Bxjq4H2H9q/wCHRJ6JJ4zso2P4NKDW3Z/tOfs2aiAdP/aE8Dzg9PJ8WWbZ/KSodfMl8Sfzgv1gbReVT%2BGcflP/ACqHnP8Awyb%2B01b8ad/wUe%2BIagdPtPhfQZv52Qo/4Zf/AGv14i/4KUeLwP8Ab%2BHvh1v/AGzr1eD41/Bq6GbX4t%2BGJM9PL163P8nqyvxV%2BF7jKfEjQSPbWIP/AIqo%2BtYvrFf%2BAR/%2BQNFSwb2n/wCTv/5M8f8A%2BGXP2upOLj/gpN4xI/6Z%2BAfDyfys6P8AhkX9ou541P8A4KM/Etx3%2By6FoUH8rE16%2B/xX%2BFsQzJ8SvD6j/a1mAf8As1VLn46/BGzGbv4x%2BFYgP%2BeniG2X%2Bb0fWsY9or/wCP8A8gDpYJbz/wDJ3/8AJnlf/DDvja8%2BbWv2/fjrOT1W117TLZT/AN%2BtPBH4Gj/h334cu%2BNf/ar%2BPOpKfvRz/Fi9hRvqtv5Yr0G%2B/ar/AGXtMBOpftI%2BArcDqZ/GFkmPzlrB1T9vb9ibSATd/tYfD5sdRbeK7Wb/ANFu1Wq2Zy%2BFP5QX6QMpSyiHxTj85r9ahzZ/4Jk/sjXvz%2BKfDnivX5P4n174k65dbvqrXm0/lWp4d/4Jw/sHeGJRNp/7J3gedwc79U0OO9JPqTcB8mqr/wDBS79hwuY7D4/WGoMP4dI0y8vT%2BUEL5pP%2BHh3wQ1H/AJEnwN8T/Eufu/2H8KdZfd9DJbIKtyzhqzc0vVr9YmSxOQp6Spv0tL8lI9R8J/Bj4PeAireBfhR4a0Up9w6ToVvbbfp5aDFdLXhH/DaHjnWP3Xgn9hf4y30h%2B42p6NYaZEfq11eKw/FaX/hd37dOu/uvD37Del6Tu%2B7ceKfilars9zHZwXGfoGrmlhsRJ3m185L/AOSbN45jg0rU1J/4YT/%2BQSPdqK8I/s7/AIKV%2BJP3V14n%2BDHhSJ%2Br2OmaprE8Y9jJJbIT9Vo/4Zh/ag8TjyviT%2B394p8hvv2/grwlpej/APfMjx3Eo/77NT9XgviqR%2BV3%2BS/Uf12tL4KE368sf/SpN/ge71wvxD/ae/Zx%2BEwcfEv47eEtEkjzut9R1%2B3jmJ9BGX3sfYAmuBP/AATs%2BAmu/P8AFfxH4/8AHr%2BnjL4hajcx/wDfmOWOHHtsx7V3Xw9/ZW/Zp%2BE5jk%2BG/wAA/CGjTR423Vj4ft0nyO5l2byfck0cuDjvKT9El%2Bbf5Bz5pU2hCPrJyf3RSX4nCn/gob8GvEXyfBfwF8RPiKx4Eng3wLdvb57ZublYYMf7XmY96T/hbP7e3xA/d%2BAP2V/DPguB%2BY9R%2BI3jMXEm33tNNSTB9jMvocV7zRR7ahH4Ka%2Bbb/DRB9VxlT%2BJXfpCKj%2BL55HD/BTwv8e/D1nqF18evivo3iS8vZY3s7bQfDR06205QG3RoWmlkmDEg7nII29OayviZ8Lfi74w%2BNnhzx14W8Y%2BHdO0XQNLuESLUdHnvLoXc8iLLLGFnijU%2BQhjV237fNkO05rr/HPxU%2BGPwxs/7Q%2BJHxF0PQINu4S6zq0NqpHsZGGa8vn/AG/fgVrErWfwi03xb8RblGKtF4E8J3V5ED73LKluB7mTFEPbym5xj%2BGnbyX4mOJxGV4amqFetZpp2c7zdnfZc03r/dO81j4D/DjxXq%2Bl%2BJ/HWjjW9X0iXfaand4jkOJFkRXWAIkqI6qyq6sFKg9ea7LAHQda8PPxN/bk%2BIfyeAf2c/Dfgi1blNR%2BIfib7VOVPf7Hp4bDezTr74pD%2Byz8Z/H/AO8%2BPX7X/iu%2BhbltF8C20Xh6zweqM8W%2B5kXtzMM/pSlBtL2k1p8/wWn4kQx/M39Uw05X6tKmn6udpP8A8AZ6H8Uvj78E/gnZ/bfiz8U9D0AFd0cOo6iiTS/9c4s75D7KpNedf8NfeNviN%2B4/Zo/Zl8WeKIn/ANV4h8SRf2BpJU9JFku18%2BZfaOE59fTsPhd%2Byd%2Bzl8Gbz%2B1vh58IdHtNSLbn1m5gN1fu3ctdTl5ifq9eh1PNQjsm/XT8F/mX7HOMR/EqxpLtBc0v/A56L5QPBPjRJ43l%2BIP7McnxItdLg11vi/enU4tEmkktEl/4QrxTkRNKquy4xywBr3uvGf2oP%2BS3/s4/9lmvv/UK8UV7NWTd3c9SEeSCjdu3V7v121%2BQUUUUigooooAKKKKACiiigD5d%2BA37Y3xt%2BIHxi8LSeNtM8LL4D%2BJmteLtM8FWel6bcxarpcmi3csUMl5cPcvFdLd29tczFY4YDbt5ceZ8mQXfg1%2B1P8XfE37YXiv4KfF7xNonhvTLfxLqGn%2BA/Dd78J9bsbrxFaW9rDN9pttduLv7BeuN07PBbwF1SFidoVmrovB37BngbwF8S5PiR4X%2BLvjeAWt7q934V0CSfTpNP8MT6rfJe6m9kj2RkJuJFdf9IefyY55Ut/IVsDfl/Zag1r456P8AG7x98b/GviVfDGr3mqeDvCeqnTI9L0K8ubSeyeaH7LZQ3MzLa3V1Cn2meYKtw%2BBu2soBxn/BQv4ufCjw14P8GfCjxH8TvD2n%2BKfEHxh%2BHsug%2BGr3WoItQ1JI/GejNI1vbs4kmCqrFiikAKScYNdl4x/Y8%2BE3iPxPe%2BPfC2oeIvB3iLUZ2nvtc8G%2BIJrKS5kPJaWLLQyknrvjOe9Z37eH/JEND/7LN8OP/U10St7xL8Yfiz4J8QXkOu/s6axqmiR3DCz1fwrqUF7LJFn5We1cxyKcdQu/2zUyqqkrv8m/yueZmkMtnSj9dp80b6PllLldt7xXNHTTmVu1zA/4Qn9tj4ec%2BEPjD4W8e2a9LLxpozadeBR0UXVllGb3aD6%2BtH/DU/xB8GDy/jd%2Byp410RV%2B/qfhpIteslXuxa1PnKP96Ee9b2gftcfADWr9dF1Hx5HoOonhtM8U2sumTq393FyqBj/uk16JZX1lqVql9p15FcQyDMc0MgdWHqCODRCtSq/C0/T%2Bv0PPw2HpVk3l2NlZdHKNVL1U/fX/AIEjz/wJ%2B1v%2BzV8Sbr%2BzfCnxn0J73dtOmX139juwfQwXASXP/Aa9EVlZQykEEZBHeuc%2BInwt%2BEnxF02QfFPwBoGs20URLvremwzCJAMlt0inZjrkEYr4gHhG7/aH%2BLE/w/8A%2BCY%2Boa34D8J6FftB4u%2BKdp4jvjpEkoHzWun2Rm8q6cZGXACfQFHb0cHgKmNcnFqMY6ylLSMV5vu%2BiScm9l1U4vMs3yxwjVhCs5O0VByhOXe0ZKcbLdvnUUt3sn9XfFuw/ZW%2BEXiS5%2BOHxS8XaX4N1W9iVbrW38TSaZJfhE2IrqkqC6Krwqsr4OMDIFfOvxP/AGz/AAn%2B0BMvg39m3w/8XPiroZe3j1HT9B8KQw6VdNbyK4EmpXUKSw73jXecMrDdt25zV/Q/%2BCU2ueA/HE3xYi%2BJXhz4neJLgq0918ZfDU%2BpszDoVkW5xHg/d/dkrxycV7PafEn9r3wHax6b4i/ZS0PW7W3QKLjwH4yiRVQdktr2KEjA7Bz6Cu5VcowrXKpVpLq3yR%2BSV5tdryj8jyq1XH13OniKEsNBt35KbquXm5QlyK/X92/O54M3wK/4KcfGbSbmK5s/A3wssJvEeo65Bb3V%2B2raqlxclyqF4R9nby1farfKRhSQxFdH%2Bxl/wTzt/AHxH0340/GMeLdS1nwzpUFn4ch8Z69DdtaXPlMk00EVtI8MECoyxQRhmKhSxCttC%2Btf8Nr%2BCtE/5Kb8IfiV4QVf9Zcaz4IuZoFP/XazE6Ee%2Ba2vCv7ZH7K3jSQQaD8f/CxmJwLW81aO1mz6eXOUfPtisama4t05U6UVTjLflVtO3NrJ9t18wwuD4V%2BuQqzxXPUi7pVJpO6d0%2BSapWs3dWi9fREHxG%2BPnxV%2BHPjK80sfsm%2BMfEXh%2BHy/sniHwtf6fctcZjVn/wBFkuI5U2sWXoc7cjrWH/w378EdH%2BX4k%2BGPH/gxv%2Bpo%2BHmpQoP%2B2kcMkePfdj3r2bTNW0rWrRb/AEfU7e7gb7s1tMsiH6FSRVivOU6VrSh9zf8AwT6aWHzFyc6OJVnqlKEZL0TjKLt239WeXeFv22/2QfGTCPQf2lPBjSMcLBda/Bbyk%2BmyZlbP4V6FoXinwx4og%2B1eGvEdhqMWM%2BZY3iTLj6oSKpeKfhh8NfHAZfGvw80PWAwww1TSYbjP18xTXnuu/sCfsYeIJ/tV1%2Bzb4VtZc5Euk6cLFgfUG2KEfhR/s77r7n/kK%2BeQ6Up/OpB/lNHr1FeJD9gL4G6Zz4H8S/ELwwe3/CP/ABL1eID6B7hwPpjFH/DHXinTvn8L/to/GOzYfdW81%2BzvkH1FzaOx/wC%2BqOSi9p/en%2BjYfWs2j8WFT/w1Y/8At0Ys9tqK7srO/iMF9aRTIeqSxhh%2BRrxf/hn79rOw%2BXRv29dWdB91dY%2BH2k3GPqY0iJ/Oj/hWP7eWmc2H7VvgrU8dBqfwweLP1MN//Sj2UOk1%2BP8AkH9o4pfFhKny9m/yqI9K1L4PfCPWCTq/ws8OXRPX7Todu%2Bf%2B%2BkNYt7%2Byp%2By9qJJ1D9m7wDPnr53g%2BybP5xVx/wDZf/BRm0%2BWLxp8F74Do03h3VoGP/fN24/Sjz/%2BCjkP/ML%2BCVx/2/6xDn/yE9aJVVtUX/gTMZYzDy%2BPB1PnSi//AG5m9P8AsSfsaXJ3Tfsl/DQk9SPA1gD%2BkNV2/YR/Ypc5P7Jvw6/DwfZj/wBp1k/23/wUXh/1nw4%2BDU3/AFy8Xaqv/oVjR/wlP/BQxeD8G/hO3uvjjUB/OwqufFL/AJe/%2BTv/ADMnXy174Of/AIIRrx/sKfsVRnK/smfDk/73g2yP846tW37Fv7HVmc2v7J/w1Qj%2BJfAun5/Pya57/hJ/%2BChz8L8H/hKnu/jfUT/Kwo/tb/gozN9zwH8FoP8Arp4p1Zz%2BlkP50c2Je9X/AMnf%2BYKvlq2wc/8AwQjtbH9mP9mzTCDpv7Pfge3I6eR4Ts0x%2BUdbumfDP4b6KQdG%2BH2iWhXobXSYY8f98qK8t3f8FHZv%2BWPwStv%2B2usT4/8AHUo/sH/gonf/AC3PxM%2BD2ng/xWfhHU52H/fy9UH8qhqpL4qi/wDAmzaONox%2BDCVP/BUV/wC3I9sSNIkEcaBVAwFUYApa8S/4VH%2B3NqHzX/7Y/hqwz1TS/hWjY%2BjTXrfyo/4Zw/aZ1P5PEv7e3ioxnqmjeD9Gs/yY28jD8zUeyh1mvx/yNf7Qxb%2BHCVPm6a/9vZ7bRXiR/YtuL3nxJ%2B138atQLfeVfGyWSn6CzgiIH41Sh/YX/ZF1fUbnTPE82t%2BJ7%2ByQPfQ6/wDEfU7ySJTnDSRNdbQDg8svOKOSgt5/cv8ANkvGZq7JYeMb/wA1WP8A7bBnr3ib4m/DfwUrN4y%2BIOh6SF%2B8dT1aGDH13sK88179vv8AY08PXP2K4/aL8NXs%2BcCDRLw6i5PoFtRISfYVX%2BFn7LX7BWoae2tfCr4K/DfV4IJ2iOoWmmWmobJF6r5rByGGfXPNesaD4V8L%2BFbb7H4X8N2Gmw4x5VhZpCv5IAKP9nXd/cv8xQnnOIgpwlRUXs1zz/G8Ys8g/wCG6vBOs8/Df4H/ABX8Wo3%2BruNH%2BHt1BC3/AG1vRAg/E0f8Ly/bD8UfL4I/YrGlxSf6q98bePbO22j1aG0W5f8ADINe3Vm%2BI/Gfg/wfb/a/FvivTdLixnzdRvo4Fx9XIFHtKS2h97b/AMgnhcdy81fGOK/uxpwX3y53%2BJ5F/wAIh/wUD8YjZr3xm%2BHHgqI848MeFbnVZx7eZeTRp%2BPlfgaP%2BGMtU8UfvPjF%2B1X8UfE5f/j4srbX00azlHp5OnRwnHsXNa%2Buftzfsl6Fd/2cPjjo%2BpXPa28PGTU5GPoFtFkJNUv%2BGvL/AMQHyvhj%2BzB8T9fZ/wDUXNx4dXSrWT382/kiOPcKar2tVfCkvRJf8E8uVXhly5amIdZ9vaTq/wDktO6/A1PA/wCxR%2Byh8O7z%2B1PDXwG8PNfbt39papZ/b7rd6%2BfdGSTPvur0%2BGGG3iWC3iVERQqIi4CgdAAOleOf8Jh%2B3R4v/wCQB8GfAng6L/np4o8UTalN9fKs4kTPt5v40H4CftJeL/8Akpn7YWqWtu/Mmn%2BA/DdrpgX2E8wuJse4IrOUpzd5yv8AO514fF0aEOTAYKdvKEaUfvm4v/yVs9e1HUtO0ezk1HVtQgtbeJcyz3MoREHqWYgCvL/En7bn7M2hai2g6V8SYvEmqDhdJ8HWc2r3DN/d22iyBT/vEVQsP2J/2YV1uF/HWjXXjPWdplSXx14huNVldRwW8q4kaPHuEAru/hpr3wgkF14R%2BFSaVbJprYnsNLsRbxoNzJuVQqqy7lZdy5XKkZrNypp2bNJV86qzUG6VG%2Biu3Ul3dkvZwul6nB/8L5/aR8efu/hF%2ByfqGnwScR6v8R9Zi0tEP942sPn3DD2Kof5UH4JftQfEP5/i3%2B1C%2BiWsn%2Bt0b4aaMljj2%2B2XJmnP1UIfp29Y8ReK/C/hCwOqeLfElhpdqOtzqN4kEY/4E5Arzy6/bB%2BD15cPp/w8/tvxrdo2Gt/B2hzXqg%2B8wAhA9zIKmdelTdm0vz/V/gc%2BJoYGjJLMcZKTf2edQT9KdK0n98jmPjd4VsvBHxG/Zk8J6dqOoXcNj8X72KO51W/kuriX/iivFB3SSyEs7HPUmvea8J%2BO2s3/AIh%2BJv7M2t6p4cu9IuLn4w3zyabfNGZrc/8ACFeKPlcxsy5%2BhPWvdqafMrn0NFU1RiqatGytvtbTfXbvr3CiiimaBRRRQAUUUUAFFFFABRRRQB4z%2B3h/yRDQ/wDss3w4/wDU10SvTdP%2BIvgHVdbuPDWneNNLm1G0maG5sEvo/PjcHBUpncDn2rzL9vD/AJIhof8A2Wb4cf8Aqa6JXo/i74VfDXx6D/wmXgTStRcj/XXVkjSD6PjcPwNc%2BI%2BtqKdDlv1UubVeTjs/VNGVb29l7K1/O/5rb7maWveGvDniqwbSvFGgWWpWrfetr%2B1SaM/VXBFeUfEH9nD9mX4beHNU%2BJry3Xw%2BtNMtZLvUda8Ma7caYkESDLMUibyzwOmw56AHOK8Y/aX8TfEL4f8Ax20v9mD9ivWn0nxNN4cfxBrmp%2BIvGEx0bQrBZ1hDS28iylmZm4AK4ynDBuDWP%2BCdvx9%2BKfiDTfHP7Un7Q1j8X1sws0PhDVYJtJ0SKXqGWGzO2YjoGdRuB%2BZSK6qWFpQpKrmsVDRSUINVasottKUYrkcYtppSm1s2lK1j5bG4pY6c6ccD7WpB8vN7vLF9ff8AdqPlurqGvS6e3E%2BDvgP%2B1V/wUP8ACE/izxT8bte0f4Pvf%2BZ4N8J%2BLIc3nii0U8T6hJZm3kFu%2BAyJuYkcjosj/S3gZP2g/gV4TsvAWg/sz%2BD73Q9Nh8uytvAniAWSwpnJxb3cajJJJP7wkkkkkkmujs/ib8TPCVpFYeJP2cNRitLeNYom8K6jbXsaIowAsRMTqoAGAF4HAqeL9p/4RW8gt/FGp6h4enJwYPEWi3NmQfdnTZ/49XLj%2BIsDirUlUdClH4YPmgl5vnilKT6ycm30srJTg8sy/BWqLEzhWaSlKTav1tarGSUU3pFSsla93qZf/DWHh7RuPiN8JfH3hgLxLcah4VlubdT/ANdbPzlI9%2BK2PDH7UX7OvjCQQaD8Z/DzTE4Ftc6klvNn08uUq%2BfwrpvD3j7wL4uUN4V8Z6VqWRx9g1COU/8AjrGk8T/D3wD42jMXjLwPo%2BrqRgrqemxTjH/A1NTTlUqR5qdSMl3/AODFtHswhmyjelXhUX96Fvxpza/8lNS0vLS/t1u7G6jmicZSWJwysPYjg1k%2BK/hv8O/HcZh8ceAtF1lCMFNV0uG4BHpiRTXE3f7Gn7OUlw17o3w%2BOiXDHIuPDmqXOnsp9QLeRF/MVH/wzT4h0j954J/aZ%2BIunMv%2BrjvtVh1KJf8AgN1C7H/vqr58RHeF/R/5pCqVMylDkr4WM1/dnFr/AMBqQX5lbU/2D/2StQu21C0%2BC%2Bn6TcN/y38O3VxpjD6G0kjxUH/DG1hpf/Ik/tHfFnQlX/VQQeNXu4U9gl6kwx7Vof8ACBftbaH%2B80b9oTw7rWOkPiHwT5Wfq9rOn6KKP7d/bN0U77/4d/D7XUH8OmeIruydvwmgkUf99Gq%2BszXxRl91/wAmzy3g8mi7zy%2BVN94Qt%2BNGpH8jPPwO/ap0n5fDX7at1PGv3IvEfgPT7r8C8HkMfrmj%2BzP2/NH/AHdr4u%2BE2uIvRr3RtSsJG%2BpjmmUfgtaH/C7PjzpnzeJP2Rtb2D70mieJtPvPyVpImP5Cj/hqe2tP%2BQ98Afihp4H32fwc9wq/U2zyij63S66eqa/QVsmhtXr0vWVdf%2BlwqL8Sh/wsD9uHRPk1X9m/wTrWOr6J8Q5YM/RbiyH6kUf8NA/tIad83iD9h/xHsHV9I8XaTd/kDPG36Cr/APw2d%2Bz/AG/y614h1fSnH3k1XwnqNvt%2BpaDb%2BtW9P/bD/Zd1M7YPjr4cjOel1qCwEfXzNuKFi8M/tR%2B//gjjiMFe1PNWvKUqL/8ASoQZi/8ADXOs2vy6z%2ByN8X7Vh94xeGra5X8DBdOT%2BVA/bW8DW/8AyG/g78VtNHc3vwz1HA/FI2B/Cu2sPj58C9VwdL%2BNHhO5z08jxHav/J62bPxx4K1HH9n%2BMNLnz08nUI2/k1aKrRls1952U1jZ/wALMIS/7h0n/wCk1EeYf8N5fs4Q8anq3iexbut58P8AWUx%2BP2Qij/hv79klf9f8Vmh/6%2BfD%2BoRf%2Bh24r2CG4guF328yOvqjAj9KfV3j2Oj2GfdMRTf/AHCf6VTxz/h4H%2BxuP9Z8edJj/wCusM6f%2BhRilH/BQP8AYwP/ADcP4fH1lcf%2By17FSFVPUA/Wj3Q9jxB/z%2Bpf%2BCp//LTx0/8ABQT9jEf83DaAf92SQ/yWj/h4F%2Bx0eIvjnp0n/XG0uX/9BiNexgAdBRR7oex4g/5/Uv8AwVP/AOWnjn/Dfn7J782/xLup/wDr18L6nL/6BbGj/hu34A3HGjr4x1EnoLL4daw2f%2B%2BrUV7HUNzf2FkN15ewxD1lkC/zovBdBOhntvexNNf9wn%2BtU5r4U/F3RPi9pt1quh%2BF/EumRWswjI8SeHbjTmmyM7o1nVS69sjjPFcN8d7K98K/E3wz8RtH1OSCIa5aQax5fii7M8iSN5KwQ2DE27I28F2G1xtJAJya9KvfiP8ADzTcnUfHmi2%2BOvn6pCn82rkNZ%2BKP7Idt4nj8ba78QPh0NbgjCQ6rcanYm7RRnCrIW3gDJ4B7n1rN1qUHdyS%2Ba/zMsd7Kpgo0q2Ihzpp8zcYbO90lPyta9nrdq55p8e77QT8QNb16%2BurSXxDJZ6PN8LrtJEM07JcYubeybu7scOqHLJL83yjjP1HwVe6/4pu/h9o3h24TxW934li8Q3n2B40ubK8iZ45HmICvHIxiRBklTkAKFOPUn/bF/ZS0kLY2vxj0JxGu2OHTi0%2BB6ARK36U3/hsb4M3ny%2BG4fFWst2XSfBGpS5%2BhMAB/Op%2BuYZfbX3/5XPDrUMkrV5TnjKfvO7UWm9dXs5Pm%2BypWuoe60yv%2Bz5BrOpeM9U8Vv4Q1TRLR/Dml2d7b6ppktq02oRRssu1ZFXzBGoWPzVyjDGxmAzXQ/Fb4S%2BOPiRq9tPoX7QHifwlp0Vt5dxp/hy3sg077ifMM08EjqcEDA44zjOaxv%2BGndSvfl8P/ALNHxOvGP3TP4eis1P1NzMhH5Uf8Lb/aU1L/AJAn7J0lurfdk1zxtZwY9ysAmP4VP1qk3dXfom/0PTpVsq%2BpfVnKdRXu3GFVXd7/AGIxsvJSs9b7mf8A8MS/D/Vfl8ffFX4meKEP3oNZ%2BIF6kTf9s7Z4VH4AVpeHP2Jf2S/C9x9s0/4AeGp585%2B0arYC%2Bkz677ne2ffOab9p/bV1f5otL%2BGmho3QT3V/qEiD3CrCpP40f8Kr/ac1j5tf/akhsFf78Hh3wVbRbR6CS5eY/jgUfWaj2jL8F%2BbM4YTKVLmpZbKT7yhG/wB9Wc2ej6H4c8PeGbQaf4b0Gy0%2BAdILG1SJPyQAVc3oHEZYbiMhc84ryz/hlaw1P/kdfjj8R9cVv9bBP4re1hf22WixDHtXRfDf9n74QfCTVJ9d8AeDY7K/ubfyLm/lu5rieWPcG2tJM7sRlQevUURnWlLWNl66/gv1PZw9XMXOMXh4wh/jTaXlGELfiij8efEnxI8FaRH4s8FXrSQWxHnabBoLXRlIyzPLKJMxQhFOSqFgcYJyFqr8V/D3iXxVf6J438MX9re6PaWMs13Z3Xiq6061lzseOb9wCs2MYAkwmCckVc%2BM17pOoatofgTVL7WoodXuWivf7IvhAvlPiMCY7SxRndUwhU5PXArG%2BI1ro2lyX%2BlReBdCv9F8LaXb6readrFgbkuhEkYMBd9kOyOBjnaclccZJrgxOLoU3Uu21FpO19HZy%2B7lTb322vocGMhKdSsnJuHu6XekleWiSfu2XvLXbZ6nH3%2BrWniDxDD45h8O3lt4g8RXeh6t4UmksWadYZIlhntzIAQqxJ5jSISAQxbBL89V8MPBPjDRfF/h/QrzwpdWVt4Ts9Rs5NWZ4vIvbV5cWkceHLsfLCO25QEZCvOamvPFHj2J7i80rxHIyX2q6ho1npa20SrZukUjWzxYTduAjLNuLBsjAUCtD4L6nbnVRp2ha1Pe6feeH7TU3FxfPcNbzyfKRvdmYbtrMVJ4IPAzXJQxtKpio07PV%2BS6uztre7Tb2cVZM5cLg6SxcXKTbbTekVfW%2Bq1veSvdWaVou%2B51niv4a/D3x3fWOpeNvBGlaxPpnmHT5NTsI5/s5fbuKbwdpOxeR/dFa0MFlptoILeGK3ghTCoihERR7DgCue8eeHPFPiy5ttO8L/FO48PJErm/isLKCWedTt2kNKG8rGG5CnO4dMc4cf7M3w5v3E/ji91zxTKpyG8R63NOgP8A1yUrF%2BGyu%2BpXxftZRw9FP%2B85RS/BSk7bapHvS9pCtJ0aKu95NxV/WycnbbX5HL/tLXVrffGf9m%2B7srmOaJ/jLfFJYnDKw/4QrxRyCODXtVeIftE6PpPh/wCLn7Nei6FplvZWdt8Y75Le1tYVjjjX/hCvFHCqoAAr2%2Bu%2BPNyrm3622v5X1OyPNyrm3CiiiqGFFFFABRRRQAUUUUAcx4c%2BNvwY8Y/EHWfhJ4R%2BLvhjVfFfhxFfxD4Z03X7afUNLVsbWuLZHMkAO5cF1Gcj1osPjb8GNV%2BKV78DdL%2BLvhi58babZLeaj4Pt9ftn1S1tiEImktA/nJGRJHh2UA7155FfHH7PHh7xn4M%2BNngDQPEHwg8a6dqXw08VfEe88feJm8D6i1pqNtrOsu9p9mukgKaj9see1vWW3aXyFtGNx5LRgVd%2BGvgD4gwftPeEPhxcfCjxRb674U/aV8beOvE3jG48M3UelXfhzUdL1uKx8vUmjFvdSEalpNqbVJGlT7AzMirAhIB73%2B3h/wAkQ0P/ALLN8OP/AFNdEqt%2B1h8bdA/ZH8G3XxA0VNW1rxb4ouf7L8GeDkvZZ11TVZiPLCQknaqnBdlwAvyjllBT9tn4P/tP/GHwroumfAHxT4CW20nxh4b17UPDnjDTb2F9VbS9esdTMceqW0sgsQyWhXJsbrcxA%2BQNuX5r/ZO%2BEf7aXjfx4/7WPjP4deFfHniHQfE3iXw/on/Ca/tBagLbR5bLVbrS7qS0tofCxWPe9nJtfdlo2UlUbhd8NhMorV4V8cub2T5oxtK8pWatdNKK6Sbv7t0ot2a8/MXj5U1Swi96Wjm2rQXWVnrJ2vypaXtfRa%2BwfAj9jHxt8HvAt3458aX1t4o%2BJHjRVufHmr3zO0r3srACOJ0BUQQIxRV2hRhnGBtVfaPihNoN7pNjPdappaGyR7pNJv8AcDd7UK7IxuRtwOdpAPOOOa5X/hOP%2BChf/Rr/AMGf/D8at/8AMvTZPGf/AAUFmAEv7LXwXbawZd3x21Y4I6H/AJFbrXzOc5JLNsVjMTKpeeJUVJSu4x5HePKlZqK0tDWCUVG3K5X2wmEoYLDxoUVaK%2B99231bd229W22dTf63q321rzT9RurOPT7uxtLTTAwIkMgWSRZAclmMbgDn5doPPOdHw94s1rWdVs/7T%2ByyWGsx3T2tqtud0Mcb4RmYsQ4dOTwMFgBkV5xJqP7dU2uJ4lk/ZJ%2BCZvkXC3J%2BO2rbhwRn/kV%2BuCRnrgkVV8O/8N5eGbprux/Zj%2BEMhEXk2yXHx91Zltosk%2BXGP%2BEWG1c/U8AZwBXmUcnzzD4%2BM1WvTc7u0mlZPdxaad4e5yRtGNlLW1zpsep%2BIfgP8GPFTGTXfhfoc0hPM66ckcn/AH2gDfrWR/wzX4L0/wD5E/xX4t8PjtHpPii52D/gErSJ%2BGMV47q3xg/bs%2BIXxk1j4G2v7O3w70rVvC3hnSteub7TP2g9Uhgmg1K41G3hQf8AFLsXdW0qcsGQACRMFiWC9poPiX/gono%2Bkw6bd/s7/CLUJIgQbu8%2BPGqeZJliRu2%2BFQOAccAdK9d4DD1sfKNTBxUbXVROCbemloqE099W2nbzOWeBwc5czpq/dKz%2B9Wf4nX/8Ku%2BMulfL4c/aMvpI1%2B5Frvh%2B1uvzeMRMfzo2/tUaXwsvgTWEXuy3djIw/DzVz%2BVc3/wnH/BQv/o1/wCDP/h%2BNW/%2BZej/AITj/goX/wBGv/Bn/wAPxq3/AMy9dH9l0Y/w6lSPpUl%2BUudE/Uaa%2BCc4%2Bkn%2BvMdJ/wALH%2BO%2Bncav%2BzsbhV%2B9Jo3iq2lz7hZhEfwo/wCF/wAtpxrvwR8fWRH32XQBcqPxt5H4/Cub/wCE4/4KF/8ARr/wZ/8AD8at/wDMvXL6t%2B0d%2B3bo/wAZ9A%2BB1x%2Byh8JG1TxF4X1fXbO5T466p5EcGnXOm28yOT4Y3B2bVICoCkEJJkqQoY%2Bp46PwYqX/AG9CEv0iw%2Br4mPw1n84xf6RPTB%2B1H8GYPl1jXNQ0xx95NU8P3tvt%2BpeIL%2BtdF4J%2BK3w4%2BJDTR%2BBPGen6o9ugaeO0nDNGDwCy9RnHevOf%2BE4/4KF/9Gv/AAZ/8Pxq3/zL1HH4t/4KAQzNcxfsq/BVZHGHkX466qGb6n/hFua1o08yjUXtKkJR6%2B44v/0tr8C6cMZGa55xa/wtP/0pr8Du/iZ8RNX8Ky2%2BneF9KivLs3Fsb4zBvLt4JZliBJX%2BNiSFHqpJ4qr8T/FcOnXk2nW3g7TdVaw0mTVNU/tJtoS1QsMJ8j7pDsfAOB8vJFeV%2BOvC/wC2X8Q54b7xF%2Bx38DpLuG4gk%2B2/8Lu1PzmWKQOIy58K52HGCM9CcYqt4t0T/got4oO9PgV8G7ZrvS30zWHHxr1Rjd2jMTsXHhgCJwGcBwDjeeDxXHiYZteryO6duWzWitK/xLR35bvW6va2iOevTxsvaW1TtbbbXuu9r76Xsd3fWfwZ1rXYor74BeGbrSZb6Kxl1O70y2LrcSReYB5RiIKL91mLghuikc1R8K/CT9mL4gap9hu/2YfDNgl1aG70udtEtU%2B1wB9pbEago2cHaecEGvKPjB40/bu%2BDtnaeNfEv7N3whuPD15480OzTRrH406oZxfanfWujwEyt4cVfs6zXiTOAu8BW2lsBD13gjTf%2BCi/ha9srzVPgF8Fr/8AszR106xCfGrVoSEDZaRz/wAI0252wg4CgbTgc8ZU6OZPEL2kU4310ht187Ws49b3vocX9mqrVXtaEGr63hTf/tt7dut9z0Gb9iv9laZ/M/4UhosbesEbx/8AoLCm/wDDFX7Mo/1Xw08r/rhrN7H/AOgzCuN8dL/wUR8bw20UHwY%2BHGhm2Zjv0L9oTU4TLkDh9/hNwQMcfU1zn/CCf8FLY/8Aj20fwoP%2Buv7Qd0/8/B1dVaM6dRqGFUl3Uqa/Bq46uUZbGbUcDTa7pU1%2BHKmeq/8ADF37OY%2B54O1JP%2Bufi3U1/lc0f8MYfs9Dp4b1sfTxtq3/AMlV5V/wiH/BUZP9Vp3gcf7/AMcbhv8A3T65j42%2BLv8Agpp8B/gx4u%2BOPinQvBl1pfgzwxf67qVrYfGeVp5re0tpLiRIw/hFVLlYyFDMoyRkgc1lz1f%2BgJ/%2BBU/8yP7Ly7/oAj/5T/zPfP8Ahi/9nk8N4Z1o/wC9411Y/wDt1R/wxb%2Bzifv%2BCb9/%2BuninUm/ncGvKv8AhFf%2BCqJ4ax8A/h8apx/7p9H/AAh3/BUJ/wDXab4JP%2B58dLhf/dOo56v/AEBP/wACp/5h/ZeXf9AEf/Kf%2BbPVf%2BGKf2YG/wBd8K4Zf%2Bu%2BpXUn/oUpqW2/Yx/ZXtDui%2BBfh9j/ANNrTzP/AEImvJf%2BEB/4KTSf8fGieF29k/aIu0H6eDqP%2BFbf8FC3/wCPjwZ4bk/7uc1ZP/QPCa074jpgl850/wD5FgsqwKd1l9P7qX/yLPbrL9mD9m/T8G1%2BAng4EdGbw3bMR%2BLITW1p/wAJvhXpOP7K%2BGfh%2B2x0%2Bz6NAmPySvnf/hVH7cUx/wCJj8HfCN2O4uP2q/ERB/758NCuY%2BCOl/tD/Hz4MeEfjlon7G3w4bTfGfhfT9d0631z9pvxG88UF3bR3EaSqPD7IHCyAMFLDIOCRzVqWYfZw0F6zX/ttM6aeEVP%2BHhKcf8AwBf%2Bk0j7GVdG0O3wq21nEOwCxr/QVl6h8UPhppOf7V%2BImhW2Ov2jV4Ux%2BbV88W3wV/aItZPNH7BHwElb%2B9c/HPWJif8Avvwwc1s6f4Q/ar0nB0z9gr9naAjo0Xxdv1P5jwpmr5s5ltGnH/t6b/KMTrTzC1lGC%2Bcn%2BSR6jf8A7TXwA05/Lm%2BLeiSt2W0vBOT9PL3Zqv8A8NO/C%2B6%2BXw/D4h1duy6X4Vvpc/Q%2BUAfzrk7DxD%2B3rpS7NM/ZL%2BCNsvpB8cdUQfp4Wqx/wnH/AAUL/wCjX/gz/wCH41b/AOZej2Wby3qwj6Qb/wDSp/oPkzCW9SK9It/nI6T/AIXp4hv/AJPDv7P/AI3uWP3WvLK3s0P4zTKR%2BVH/AAm/7ROqfu9L%2BBel6dnpLrPi1Dj6rbxP/wChV5n4B/aO/bt%2BInivxv4Q0f8AZQ%2BEkNx4D8URaFqslz8ddUCTzyaVp%2Bph4tvhgkp5OowqSwU70cYwAzdR/wAJx/wUL/6Nf%2BDP/h%2BNW/8AmXo%2BpYyfx4qX/bsYR/8AbZP8RfVsRL4q0vkor9GdH/ZX7Uer/JeeL/Beiqf4tP0i5vHX8ZZY1P8A3zW74F8IePPD99PfeM/itc%2BIPNiCR2zaVb2sMJzncojG4nt8zGvP/wDhOP8AgoX/ANGv/Bn/AMPxq3/zL0f8Jx/wUL/6Nf8Agz/4fjVv/mXrSll9KlUVRznJr%2Bacmvu92P4MuGEhCak5SbXeTf4aL8DsviL8HYvHd9Jq9v4v1bT7lxagJa3eyH9xKZEJCAPkFnxhxgnNVPi14Ma90aTUI7%2B5bU7qJrDybPbGl9bMzP8AZ5g4kJQL5hLLhsbjkAmuK1XxB/wUU1K/sryH9n34S2iWkpeW3tvjzqYS56YV93hUnA9iOtcrefGX9tD4hfGHWvgNqn7Inwlk1Hwv4b0jxBcXDfHvV0t3h1GfU7aJEKeGgzOp0y43hlC7ZI8FiWC%2BfmGXTxOGxMKFPlnOyUnLRu3xK3NyuN5JXjq9bOLabeEw8nJuPxb76/j5vseu694Qt9SOj/ETwjo95He3LQy3J0%2BWMv5bQBd4SdvJDhcL5hG/aMA1m30mhLNc6zpEsulGPTJrmMxkQPLe28xWfzVjws0nAU5DDByOua5DRo/29dE8PR%2BF7P8AZr%2BEqWkUYREt/wBoDV4CMMWyGi8LKwJzg88gCrkF7%2B3NBp0Glf8ADIvwRlgt5PMhS4%2BOmrSlXznfl/C5JbPO4nPvXi1%2BHszxseaTjCUoxc023FVFGzceTlaTbcm76tQ00ZrGlTi7xil126nW6ahh8VwlrJotbm10TmUQndLZSRI75fHMa8oATwUArvPEGmX%2BsaTJp2m69Pps0hXF5bRozoAQSAHBHIyM44zmvJv%2BE4/4KFf9Gv8AwZ/8Pxq3/wAy9H/Ccf8ABQv/AKNf%2BDP/AIfjVv8A5l69zLcjp4DDVqEpuUaj1teLtZp6xafM7u8k4t2j1Vy7Fb9ojTn0n4t/s16bJqVzeND8Y75TdXjhpZP%2BKK8UcsQACfwFe318r/E/xL%2B1bq/7Sf7Olr8a/gv8PfD%2Bjj4uai0d94W%2BJ19rFyZ/%2BEL8TbUME%2Bi2ShCCxL%2BaSCANhySv1RXtU6cKVNQgtEklu9FotW2/vbfdsYUUUVYBRRRQAUUUUAFFFFABVHxR4hsPCXhrUfFeqhza6ZYzXdyIly3lxoXbA7nCmr1R3dpa39rLY3tuk0M0bRzRSqGV1IwVIPBBHGKAPm/9jX9qX4%2BfFTxho3hX4/6b4SR/G/wn074geF18J6fc2/8AZdvcShJ9MumnuJhdSQia023cYgWUvL%2B4i2Dd5No//BR345eCvhfpvxS1nwF4Hn0z4q/C/VfHXwm0XRtNubJ9Nm/tXSra3tdVma4lW6a4bX7KeWeGKDY0d0Njko59%2B/Z//YX8Ifs56xa614T%2BMvjrVJNM0XT9A0NPEFzp1wNM8P2RmMGjQlbJGNvumBaaQveSeRCHuWEYFYOk/wDBMb4EWmja34V13xn4y1rRL3wlqPhjwto%2Bo6lbJF4N0m9uorue20t7e2jmT9/bWbpJcSTyR/YbdUdVj2kA7D9l34u/Ffxj4l%2BIfwf%2BOVz4evvE/wAPPEtrYza34V0ifT7HVLS6021voZltZ7m5kt3UzywshnkB8gSAgSbE9drz/wCAP7PmkfAWz8QXJ8feIfF2veLNcGreJvFfitrT7dqNwtrBaRblsre3t4kjt7aCNUihRfkLEF3d29AoAK%2BXfgN%2B2N8bfiB8YvC0njbTPCy%2BA/iZrXi7TPBVnpem3MWq6XJot3LFDJeXD3LxXS3dvbXMxWOGA27eXHmfJkH1FXhng79gzwN4C%2BJcnxI8L/F3xvALW91e78K6BJPp0mn%2BGJ9VvkvdTeyR7IyE3Eiuv%2BkPP5Mc8qW/kK2AAU734qfHLwH%2B214a%2BFXiHUfAOvaZ4%2BtdVlXTPD/he6tdb8P6RYRtJb317ePeSx3cBnmW22i3t9s18uwuFkzk/wDBNf8Aan%2BLv7S3wvt9R/aL8T6JaePz4U0TVvEfw9tfhPrfhK%2B8MTXlu7yxSxavdzyX0PnJLDHdRLHEzWsuC5yE6v4f/sYn4dftCeM/2h9L/aY%2BIl5eeOrsy61oepRaFLaRxJA8NraQTf2YL2G2td7SQwi52CR5HcSNNMZNv4Mfsx2vwp%2BIOs/FvxT8ZfGHj/xXrWj2mkSa94x/s2OS20%2B2lnmjtoYdNs7SBF824ldnMZkclQzlURVAPT6KKKAPl39pr9sb42/Cv4p%2BMX%2BHmmeFm8G/CbRfDep%2BO7bWdNuZtR1iPVL64imjsZo7mOO0a2tbfzw0kVwJ5JRFiEKZDN%2B1x%2B0r8TPgn%2B0x4T0ldX8PeEvAjeFLi6134g%2BIvhFrOv29pM1/bRfY5NQsbu3t9HikjHmGa6JjzEhPCYrtvjP%2BxD8OPjd8Uj8TNc8c%2BKtLi1G10i18X%2BGtGurVNO8UwaXeyXtjFfLLbyTBY5ppc/Z5YDLHIYpjLGFQS/HD9kaf9oPwc3w0%2BIf7SfxCbwrqWiyaT4v8N2KaLDb%2BJ7SRmE0V3INN8%2BISRO0L/ZJbfMZxw3zUAeff8NjfGz/hoHzP7M8Lf8Kx/wCFz/8ACtPsH9m3P9t/bP7N8/8AtT7V9p8jyvtv%2Bi/Zfs%2B7y/3/AJ%2Bf3NfUVeM/8MQ/Dj/hf/8Awvb/AITnxV9n/wCEr/4Sr/hBPtVr/Yn9v/2b/Zv9qbPs/wBp837N/wAsvtH2fzf3/k%2Bd%2B8r2agAr56/a8/aJ/aA8B/ECD4Xfs4WvhFdT0/4a67431m48Zabc3UN1BYSWsUOmwi3uIDBJcPcSZumMqwCEfuJjJhfoWvI/2l/2PPB/7TOoWWtaj8SfF/hHULfw/qfh%2B%2B1HwbeWsM2paLqHkG80%2BY3NtOFjka2hYSxCO4iKExTR733AHJ/tVfHzx7ZfsT/8NefCPxN4S0nS7DwWvi6XSvGvgK512TUMW8d3ZW1vHb6lZeVcmby1Q5kJkaPaFIBPKal%2B1X%2B1F8Pv2lfB3wi%2BPfiPwh4N0K48AeDbnX9e/wCFRa9f6brPijUb7UrTUdLtdYjv1stJCva2K26XfnSM2oRjMpKqfavG/wCzB4L%2BIXw80j4U%2BJvEmsv4f0TxbpWuWOl2/wBkhi2abeQ3llpzBLcbrOOW3gO0/vGWIK8jAtuqfGv9lqD49%2BJrO48b/G/xrH4Ut77Tr28%2BHdgdMj0nUZ7K6S6heaU2TX2POihZ447pI3EQVlKs6uAeqUUUUAeL/wDBQX4u/HD9n79kfxp8evgFe%2BFI9Y8E6Fd65dQeMNFub62u7S1tpZnt0S2urZkldkRRIXKoCxKPwKu/tg/E/wAXeBPB3hrwL8PdM0G4174j%2BMrXwppsvirTZL3TLVZ4Z7i5mubaOWFrlFtLW5xCJY/McopdQSRqftY/s42X7WnwI179n3Wvir4p8I6T4nspbHXL/wAILp32u5spYnimtt1/aXUaI6vyyIsgKja685zvG/7K0nxK%2BHVn4I8eftBeOtR1PSdT07VNA8YmLR4NT0nUrMkreQiDTktmeQM6yJLBJCySOnlhWKkA%2Bfb39vz9qvxN4a1DQPhzoXgCDxd8P/DXjTV/iBJq%2Bk3slhq7%2BH9Yk0yK1sES7R7IXxgmn86V7n7INiGK5JLD7F8CeL9N%2BIPgjRvHujRypZ63pVvqFoky4dYpolkUMB0OGGa8F8R/8EyfhDrngfTvBmm/Fj4gaLNHpOv6X4n17SNTskv/ABXZa3efbtWhv3ktHQG4ut0vm2qW8sBkcW7wKxWvojTNN0/RtNt9H0myjtrW0gSG2t4UCpFGoCqigcAAAAD2oAnrmvjFJ8TYfhlrE/wc1rQdO8SxWu/TL3xNpU19YxFWBcywQT28ko8sPhVlj%2BYrlsZrpawviZ4O1T4g%2BA9T8F6N8QdZ8K3Go2/kp4g8Pw2cl5ZgkFmiW9t7i3JIBU%2BZC4wxwAcEAHBfAT4o/GD9ob9iP4f/ABr8P3PhrR/Gvjj4caJrjS3mlXFxpdneXllBcSn7Mtwk0kSmR9sfnqxAUGTq1eA3v7Zn7Ueg/BzT08BaR4VuoNH%2BOd34E1Dx54O%2BDWu69o8mhWeiXVy%2Bo2miabetdRrFqMKaS5FzLEksErZ2lQvsPhL9hqfwZ%2ByWn7Hmk/tb/FddBtfBCeFdK1%2BGfRLbWNNsY0SKJ4Li20uNVmSBBCspQnaS5zLiUaPg/wDZG8TfD34IaT8DfAP7XnxG0S10K4RdJ1fS9E8Kw3FrYJbrBHpqQron2NbZNodSLfzgxx5uzCAA9C%2BDvjfTfiV8J/DXxA0jxxpHia31nQ7W7TxD4ftGt7HUi8SsbiCJ5ZWhjckssbSSMgIVnYgk9JXL/BX4Q%2BDfgH8KdB%2BDnw/iuV0jw9p6Wlm19ctNPKBktLLI3LyOxZ2buzE4HSuooAK8X/Y5%2BLvxw%2BJV18UvB3x%2BvfCl3rPw/wDiY3h62vvB%2Bi3Nha3Fq2jaVqSForm6uXMitqDxlw4VxGrBEyRXtFeL/An9jzWPgT408X%2BNbT9rL4leI5PHHiuHxBr1j4htPDoge7S1t7MhPsmkQOkb29pbRMA%2BcQhlKuzswB4Z4I/b/wDir4M%2BG/xi%2BInxeh8NW3i7w3pfiDWNE%2BGDfCjWvDN9fx2V%2B%2Bn2V42pX91JFqtvJGunrJc2sOyL7TFkgbEPvP7Mnxc%2BMfiPx94/%2BBfx/u/DOoeJvAt1pky654Q0e406x1Cxv7TzYm%2BzXFzcvDKksVzEw85wyxxyDZvMaZmufsEeBviJqviDVfj18YPHPxDOueCdX8JWkHiSfTrZNF0nU5IHvYbT%2BzbK1PmObS0xPMZZk%2BzJtdSXLdj8AP2c9K%2BAx8Q6xcfEjxN408ReK9Rhu/EHizxhJZm%2Bu/Ito7aCLbZW1tbxxRxRgKscS5Z5Hbc8jswB6JRRRQB4v8Ffi78cNa/a4%2BLPwF%2BKl74UutH8MaF4e1zwhP4f0W5tbmK01K51mH7PePNdTLcSoumRN5kaQLmVxsOAa5/xJ8RP2lvCv7fngv4QaZ4q%2BHOq%2BHPF2kaxrHiGzg%2BH15b6zpeg6ciRW%2B/Uf7VeKWQ6hqNuqq1oqsjXRVVKk10Gi/seaxoH7RfjD9pLTv2sviUNQ8Z6VZaZe6E9p4dOn2dpZz3U1pFAP7I88eUb26UNJNIzLMd5cqhXtNL%2BBfhXS/jh4l/aBTVtTm1/xJ4Y03QG8%2BaMw6dZWUt3Mi2yiMFGeW9leRmL7ykQ4EagAHj3/BOL9qf4u/tH%2BBfN/aL8T6JZeO/%2BEZ0jVdZ%2BHlv8J9b8KX3hxrqOUyLIur3cz6jAZUeKO6gSOItbS8uThPpWvLvg3%2By/bfC34i6p8X/Fvxp8ZfEHxTqWiW%2BjJrfjI6bG9np8Mskwt4YtNsrSBQ0srO7tG0jEIC%2B1FUeo0AFeD/ta/Gb9oL4DeJPC/i7wZ4g8EXvh7WvF2heHbbwLfeHLyTXNcub2%2BWG5a0vY71YoTBatJdbGtJh5dpMzvGgLx%2B8V4z8Sf2OV%2BIn7TuiftTW/7R3xA0LVfD%2BhjStM0DTIdEuNLggebzblo0vtMuJoZbkCOOaWKVHaOGNFZAOQDhf22P2ofjN8LfGXiCz%2BDXhzwddJ8J/hTdfErxMPFmlT3M2owq11DFp9hJFcQixnlhtdQU3bidU3Rr5Lq7kVdJ/bZ%2BMWtfGy112x07wufhVd/F9Ph1DYtpdyNcNy2li5GqG5%2B0%2BQIvthFt9k%2Bz7vL/f%2Bfn9zXcfHT9hHwV%2B0G0U3jb4weOLaa78L3fhjxfPpFxp0DeK9CuZhLJpl8PsRVYvvoslsLedEmlCyjzHJtR/sOfDSH49r8cIfGvihLRPFI8UL4CW5tBoa68NN/s0amE%2BzfafN%2BzceV9o%2Bz%2BZ%2B%2B8nzv3lAHtFFFFABRRRQAUUUUAFFFFABRRRQAUUUUAFFFFABRRRQAUUUUAFFFFABRRRQAUUUUAFFFFABRRRQAUUUUAFFFFABRRRQAUUUUAFFFFABRRRQAUUUUAFFFFABRRRQAUUUUAFFFFABRRRQAUUUUAFFFFABRRRQB//Z\">"
      ]
     },
     "metadata": {},
     "output_type": "display_data"
    }
   ],
   "source": [
    "plt.rcParams['animation.ffmpeg_path'] = '/usr/bin/ffmpeg'\n",
    "try:\n",
    "    display_html(HTML(anim.to_html5_video()))\n",
    "# In case the build-in renderers are unaviable, fall back to\n",
    "# a custom one, that doesn't require external libraries\n",
    "except (RuntimeError, KeyError):\n",
    "    anim.save(None, writer=matplotlib_utils.SimpleMovieWriter(0.001))"
   ]
  },
  {
   "cell_type": "markdown",
   "metadata": {},
   "source": [
    "# Logistic regression\n",
    "Your assignment is to implement the logistic regression\n",
    "\n",
    "Plan:\n",
    "* Use a shared variable for weights\n",
    "* Use a matrix placeholder for `X`\n",
    " \n",
    "We shall train on a two-class MNIST dataset\n",
    "* please note that target `y` are `{0,1}` and not `{-1,1}` as in some formulae"
   ]
  },
  {
   "cell_type": "code",
   "execution_count": 32,
   "metadata": {},
   "outputs": [
    {
     "name": "stdout",
     "output_type": "stream",
     "text": [
      "y [shape - (360,)]: [0 1 0 1 0 1 0 0 1 1]\n",
      "X [shape - (360, 64)]:\n"
     ]
    }
   ],
   "source": [
    "from sklearn.datasets import load_digits\n",
    "mnist = load_digits(2)\n",
    "\n",
    "X, y = mnist.data, mnist.target\n",
    "\n",
    "print(\"y [shape - %s]:\" % (str(y.shape)), y[:10])\n",
    "print(\"X [shape - %s]:\" % (str(X.shape)))"
   ]
  },
  {
   "cell_type": "code",
   "execution_count": 33,
   "metadata": {},
   "outputs": [
    {
     "name": "stdout",
     "output_type": "stream",
     "text": [
      "X:\n",
      " [[ 0.  0.  5. 13.  9.  1.  0.  0.  0.  0.]\n",
      " [ 0.  0.  0. 12. 13.  5.  0.  0.  0.  0.]\n",
      " [ 0.  0.  1.  9. 15. 11.  0.  0.  0.  0.]]\n",
      "y:\n",
      " [0 1 0 1 0 1 0 0 1 1]\n"
     ]
    },
    {
     "data": {
      "image/png": "[encoded data removed]",
      "text/plain": [
       "<Figure size 432x288 with 1 Axes>"
      ]
     },
     "metadata": {
      "needs_background": "light"
     },
     "output_type": "display_data"
    }
   ],
   "source": [
    "print('X:\\n',X[:3,:10])\n",
    "print('y:\\n',y[:10])\n",
    "plt.imshow(X[7].reshape([8,8]));"
   ]
  },
  {
   "cell_type": "markdown",
   "metadata": {},
   "source": [
    "It's your turn now!\n",
    "Just a small reminder of the relevant math:\n",
    "\n",
    "$$\n",
    "P(y=1|X) = \\sigma(X \\cdot W + b)\n",
    "$$\n",
    "$$\n",
    "\\text{loss} = -\\log\\left(P\\left(y_\\text{predicted} = 1\\right)\\right)\\cdot y_\\text{true} - \\log\\left(1 - P\\left(y_\\text{predicted} = 1\\right)\\right)\\cdot\\left(1 - y_\\text{true}\\right)\n",
    "$$\n",
    "\n",
    "$\\sigma(x)$ is available via `tf.nn.sigmoid` and matrix multiplication via `tf.matmul`"
   ]
  },
  {
   "cell_type": "code",
   "execution_count": 34,
   "metadata": {},
   "outputs": [],
   "source": [
    "from sklearn.model_selection import train_test_split\n",
    "X_train, X_test, y_train, y_test = train_test_split(\n",
    "    X, y, random_state=42)"
   ]
  },
  {
   "cell_type": "markdown",
   "metadata": {},
   "source": [
    "__Your code goes here.__ For the training and testing scaffolding to work, please stick to the names in comments."
   ]
  },
  {
   "cell_type": "code",
   "execution_count": 35,
   "metadata": {},
   "outputs": [],
   "source": [
    "# Model parameters - weights and bias\n",
    "# weights = tf.Variable(...) shape should be (X.shape[1], 1)\n",
    "# b = tf.Variable(...)\n",
    "\n",
    "weights = tf.Variable(np.zeros((X.shape[1], 1), dtype='float32'))\n",
    "b = tf.Variable(np.zeros(None), dtype='float32')"
   ]
  },
  {
   "cell_type": "code",
   "execution_count": 36,
   "metadata": {},
   "outputs": [],
   "source": [
    "# Placeholders for the input data\n",
    "# input_X = tf.placeholder(...)\n",
    "# input_y = tf.placeholder(...)\n",
    "\n",
    "input_X = tf.placeholder(\"float32\", shape=(None, X.shape[1]), name=\"input_X\")\n",
    "input_y = tf.placeholder(\"float32\", shape=(None,), name=\"input_y\")"
   ]
  },
  {
   "cell_type": "code",
   "execution_count": 37,
   "metadata": {},
   "outputs": [],
   "source": [
    "# The model code\n",
    "\n",
    "# Compute a vector of predictions, resulting shape should be [input_X.shape[0],]\n",
    "# This is 1D, if you have extra dimensions, you can  get rid of them with tf.squeeze .\n",
    "# Don't forget the sigmoid.\n",
    "# predicted_y = <predicted probabilities for input_X>\n",
    "\n",
    "predicted_y = tf.squeeze(tf.sigmoid(input_X @ weights + b))\n",
    "\n",
    "# Loss. Should be a scalar number - average loss over all the objects\n",
    "# tf.reduce_mean is your friend here\n",
    "# loss = <logistic loss (scalar, mean over sample)>\n",
    "loss = tf.reduce_mean(-tf.log(predicted_y) * input_y - tf.log(1 - predicted_y) * (1 - input_y))\n",
    "\n",
    "# See above for an example. tf.train.*Optimizer\n",
    "# optimizer = <optimizer that minimizes loss>\n",
    "optimizer = tf.train.MomentumOptimizer(0.01, 0.5).minimize(loss, var_list=[weights, b])"
   ]
  },
  {
   "cell_type": "markdown",
   "metadata": {},
   "source": [
    "A test to help with the debugging"
   ]
  },
  {
   "cell_type": "code",
   "execution_count": 38,
   "metadata": {},
   "outputs": [],
   "source": [
    "validation_weights = 1e-3 * np.fromiter(map(lambda x:\n",
    "        s.run(weird_psychotic_function, {my_scalar:x, my_vector:[1, 0.1, 2]}),\n",
    "                                   0.15 * np.arange(1, X.shape[1] + 1)),\n",
    "                                   count=X.shape[1], dtype=np.float32)[:, np.newaxis]\n",
    "\n",
    "# Compute predictions for given weights and bias\n",
    "prediction_validation = s.run(\n",
    "    predicted_y, {\n",
    "    input_X: X,\n",
    "    weights: validation_weights,\n",
    "    b: 1e-1})\n",
    "\n",
    "#prediction_validation = prediction_validation.flatten()\n",
    "\n",
    "# Load the reference values for the predictions\n",
    "validation_true_values = np.loadtxt(\"predicciones_de_validacion.txt\")\n",
    "\n",
    "assert prediction_validation.shape == (X.shape[0],),\\\n",
    "       \"Predictions must be a 1D array with length equal to the number \" \\\n",
    "       \"of examples in input_X\"\n",
    "assert np.allclose(validation_true_values, prediction_validation)\n",
    "loss_validation = s.run(\n",
    "        loss, {\n",
    "            input_X: X[:100],\n",
    "            input_y: y[-100:],\n",
    "            weights: validation_weights+1.21e-3,\n",
    "            b: -1e-1})\n",
    "assert np.allclose(loss_validation, 0.728689)"
   ]
  },
  {
   "cell_type": "code",
   "execution_count": 39,
   "metadata": {},
   "outputs": [
    {
     "name": "stdout",
     "output_type": "stream",
     "text": [
      "loss at iter 0:0.1252\n",
      "train auc: 0.9999451032059727\n",
      "test auc: 1.0\n",
      "loss at iter 1:0.0450\n",
      "train auc: 1.0\n",
      "test auc: 1.0\n",
      "loss at iter 2:0.0269\n",
      "train auc: 1.0\n",
      "test auc: 1.0\n",
      "loss at iter 3:0.0200\n",
      "train auc: 1.0\n",
      "test auc: 1.0\n",
      "loss at iter 4:0.0169\n",
      "train auc: 1.0\n",
      "test auc: 1.0\n"
     ]
    }
   ],
   "source": [
    "from sklearn.metrics import roc_auc_score\n",
    "s.run(tf.global_variables_initializer())\n",
    "for i in range(5):\n",
    "    s.run(optimizer, {input_X: X_train, input_y: y_train})\n",
    "    loss_i = s.run(loss, {input_X: X_train, input_y: y_train})\n",
    "    print(\"loss at iter %i:%.4f\" % (i, loss_i))\n",
    "    print(\"train auc:\", roc_auc_score(y_train, s.run(predicted_y, {input_X:X_train})))\n",
    "    print(\"test auc:\", roc_auc_score(y_test, s.run(predicted_y, {input_X:X_test})))"
   ]
  },
  {
   "cell_type": "code",
   "execution_count": 40,
   "metadata": {},
   "outputs": [],
   "source": [
    "# era submision aqui"
   ]
  },
  {
   "cell_type": "code",
   "execution_count": 41,
   "metadata": {},
   "outputs": [],
   "source": [
    "test_weights = 1e-3 * np.fromiter(map(lambda x:\n",
    "    s.run(weird_psychotic_function, {my_scalar:x, my_vector:[1, 2, 3]}),\n",
    "                               0.1 * np.arange(1, X.shape[1] + 1)),\n",
    "                               count=X.shape[1], dtype=np.float32)[:, np.newaxis]"
   ]
  },
  {
   "cell_type": "markdown",
   "metadata": {},
   "source": [
    "First, test prediction and loss computation. This part doesn't require a fitted model."
   ]
  },
  {
   "cell_type": "code",
   "execution_count": 42,
   "metadata": {},
   "outputs": [],
   "source": [
    "prediction_test = s.run(\n",
    "    predicted_y, {\n",
    "    input_X: X,\n",
    "    weights: test_weights,\n",
    "    b: 1e-1})"
   ]
  },
  {
   "cell_type": "code",
   "execution_count": 43,
   "metadata": {},
   "outputs": [],
   "source": [
    "assert prediction_test.shape == (X.shape[0],),\\\n",
    "       \"Predictions must be a 1D array with length equal to the number \" \\\n",
    "       \"of examples in X_test\""
   ]
  },
  {
   "cell_type": "code",
   "execution_count": 44,
   "metadata": {},
   "outputs": [],
   "source": [
    "loss_test = s.run(\n",
    "    loss, {\n",
    "        input_X: X[:100],\n",
    "        input_y: y[-100:],\n",
    "        weights: test_weights+1.21e-3,\n",
    "        b: -1e-1})\n",
    "# Yes, the X/y indices mistmach is intentional"
   ]
  },
  {
   "cell_type": "code",
   "execution_count": null,
   "metadata": {},
   "outputs": [],
   "source": []
  }
 ],
 "metadata": {
  "kernelspec": {
   "display_name": "Python 3",
   "language": "python",
   "name": "python3"
  },
  "language_info": {
   "codemirror_mode": {
    "name": "ipython",
    "version": 3
   },
   "file_extension": ".py",
   "mimetype": "text/x-python",
   "name": "python",
   "nbconvert_exporter": "python",
   "pygments_lexer": "ipython3",
   "version": "3.7.4"
  }
 },
 "nbformat": 4,
 "nbformat_minor": 2
}
